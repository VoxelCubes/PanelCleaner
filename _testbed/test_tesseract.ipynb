{
 "cells": [
  {
   "cell_type": "markdown",
   "metadata": {},
   "source": [
    "# install (Colab)"
   ]
  },
  {
   "cell_type": "code",
   "execution_count": 1,
   "metadata": {},
   "outputs": [],
   "source": [
    "# try: \n",
    "#     import fastcore as FC\n",
    "# except ImportError: \n",
    "#     !pip install -q fastcore\n",
    "# try:\n",
    "#     import rich\n",
    "# except ImportError:\n",
    "#     !pip install -q rich\n"
   ]
  },
  {
   "cell_type": "code",
   "execution_count": 2,
   "metadata": {},
   "outputs": [],
   "source": [
    "# !pip install -q git+https://github.com/civvic/PanelCleaner.git@testbed"
   ]
  },
  {
   "cell_type": "markdown",
   "metadata": {},
   "source": [
    "# Testing `Tesseract` OCR for Comics\n",
    "> Accuracy Enhancements for OCR in `PanelCleaner`\n"
   ]
  },
  {
   "cell_type": "markdown",
   "metadata": {},
   "source": [
    "# Prologue"
   ]
  },
  {
   "cell_type": "code",
   "execution_count": 3,
   "metadata": {},
   "outputs": [],
   "source": [
    "from __future__ import annotations\n",
    "\n",
    "from pathlib import Path\n",
    "from typing import cast\n",
    "\n",
    "import pcleaner.config as cfg\n",
    "import torch\n",
    "from rich.console import Console\n"
   ]
  },
  {
   "cell_type": "code",
   "execution_count": 5,
   "metadata": {},
   "outputs": [],
   "source": [
    "from experiments import *\n",
    "from helpers import *\n",
    "from ocr_metric import *\n"
   ]
  },
  {
   "cell_type": "code",
   "execution_count": 5,
   "metadata": {},
   "outputs": [],
   "source": [
    "import fastcore.xtras  # patch Path with some utils\n",
    "from fastcore.test import *  # type: ignore\n"
   ]
  },
  {
   "cell_type": "markdown",
   "metadata": {},
   "source": [
    "# Helpers"
   ]
  },
  {
   "cell_type": "code",
   "execution_count": 6,
   "metadata": {},
   "outputs": [],
   "source": [
    "# pretty print by default\n",
    "# %load_ext rich"
   ]
  },
  {
   "cell_type": "code",
   "execution_count": 7,
   "metadata": {},
   "outputs": [],
   "source": [
    "#| exporti\n",
    "console = Console(width=104, tab_size=4, force_jupyter=True)\n",
    "cprint = console.print\n"
   ]
  },
  {
   "cell_type": "markdown",
   "metadata": {},
   "source": [
    "## Tesseract installation"
   ]
  },
  {
   "cell_type": "code",
   "execution_count": 8,
   "metadata": {},
   "outputs": [
    {
     "data": {
      "text/plain": [
       "['tesseract 5.3.4',\n",
       " ' leptonica-1.84.1',\n",
       " '  libgif 5.2.1 : libjpeg 8d (libjpeg-turbo 3.0.0) : libpng 1.6.43 : libtiff 4.6.0 : zlib 1.2.11 : libwebp 1.4.0 : libopenjp2 2.5.2',\n",
       " ' Found NEON',\n",
       " ' Found libarchive 3.7.2 zlib/1.2.11 liblzma/5.4.6 bz2lib/1.0.8 liblz4/1.9.4 libzstd/1.5.6',\n",
       " ' Found libcurl/8.4.0 SecureTransport (LibreSSL/3.3.6) zlib/1.2.11 nghttp2/1.51.0']"
      ]
     },
     "execution_count": 8,
     "metadata": {},
     "output_type": "execute_result"
    }
   ],
   "source": [
    "out = !tesseract --version\n",
    "out\n"
   ]
  },
  {
   "cell_type": "markdown",
   "metadata": {},
   "source": [
    "###  Install jpn_vert tesserac lang\n",
    "\n"
   ]
  },
  {
   "cell_type": "markdown",
   "metadata": {},
   "source": [
    "```bash\n",
    "cd model\n",
    "sudo ln -s jpn_vert_tessdata_best.traineddata /usr/share/tesseract-ocr/5/tessdata/jpn_vert.traineddata\n",
    "```"
   ]
  },
  {
   "cell_type": "code",
   "execution_count": 9,
   "metadata": {},
   "outputs": [
    {
     "data": {
      "text/plain": [
       "(Path('/opt/homebrew/share/tessdata'),\n",
       " ['afr, amh, ara, asm, aze, aze_cyrl, bel, ben, bod, bos, bre, bul, cat, ceb, ces',\n",
       "  'chi_sim, chi_sim_vert, chi_tra, chi_tra_vert, chr, cos, cym, dan, deu, div, dzo, ell, eng, enm, epo',\n",
       "  'equ, est, eus, fao, fas, fil, fin, fra, frk, frm, fry, gla, gle, glg, grc',\n",
       "  'guj, hat, heb, hin, hrv, hun, hye, iku, ind, isl, ita, ita_old, jav, jpn, jpn_vert',\n",
       "  'kan, kat, kat_old, kaz, khm, kir, kmr, kor, kor_vert, lao, lat, lav, lit, ltz, mal',\n",
       "  'mar, mkd, mlt, mon, mri, msa, mya, nep, nld, nor, oci, ori, osd, pan, pol',\n",
       "  'por, pus, que, ron, rus, san, script/Arabic, script/Armenian, script/Bengali, script/Canadian_Aboriginal, script/Cherokee, script/Cyrillic, script/Devanagari, script/Ethiopic, script/Fraktur',\n",
       "  'script/Georgian, script/Greek, script/Gujarati, script/Gurmukhi, script/HanS, script/HanS_vert, script/HanT, script/HanT_vert, script/Hangul, script/Hangul_vert, script/Hebrew, script/Japanese, script/Japanese_vert, script/Kannada, script/Khmer',\n",
       "  'script/Lao, script/Latin, script/Malayalam, script/Myanmar, script/Oriya, script/Sinhala, script/Syriac, script/Tamil, script/Telugu, script/Thaana, script/Thai, script/Tibetan, script/Vietnamese, sin, slk',\n",
       "  'slv, snd, snum, spa, spa_old, sqi, srp, srp_latn, sun, swa, swe, syr, tam, tat, tel',\n",
       "  'tgk, tha, tir, ton, tur, uig, ukr, urd, uzb, uzb_cyrl, vie, yid, yor'])"
      ]
     },
     "execution_count": 9,
     "metadata": {},
     "output_type": "execute_result"
    }
   ],
   "source": [
    "out = !tesseract --list-langs\n",
    "tessdata = Path(out[0].split('\"')[1])\n",
    "tessdata, [', '.join(sub) for sub in [out[i:i + 15] for i in range(1, len(out), 15)]]\n"
   ]
  },
  {
   "cell_type": "code",
   "execution_count": 10,
   "metadata": {},
   "outputs": [
    {
     "data": {
      "text/html": [
       "<pre style=\"white-space:pre;overflow-x:auto;line-height:normal;font-family:Menlo,'DejaVu Sans Mono',consolas,'Courier New',monospace\"><span style=\"font-weight: bold\">[</span>\n",
       "    <span style=\"color: #800080; text-decoration-color: #800080; font-weight: bold\">Path</span><span style=\"font-weight: bold\">(</span><span style=\"color: #008000; text-decoration-color: #008000\">'/Users/vic/dev/repo/DL-mac/PanelCleaner/_testbed/model/eng_tessdata_best_410.traineddata'</span><span style=\"font-weight: bold\">)</span>,\n",
       "    <span style=\"color: #800080; text-decoration-color: #800080; font-weight: bold\">Path</span><span style=\"font-weight: bold\">(</span><span style=\"color: #008000; text-decoration-color: #008000\">'/Users/vic/dev/repo/DL-mac/PanelCleaner/_testbed/model/jpn_vert_tessdata_best.traineddata'</span><span style=\"font-weight: bold\">)</span>,\n",
       "    <span style=\"color: #800080; text-decoration-color: #800080; font-weight: bold\">Path</span><span style=\"font-weight: bold\">(</span><span style=\"color: #008000; text-decoration-color: #008000\">'/Users/vic/dev/repo/DL-mac/PanelCleaner/_testbed/model/jpn_tessdata_best.traineddata'</span><span style=\"font-weight: bold\">)</span>\n",
       "<span style=\"font-weight: bold\">]</span>\n",
       "</pre>\n"
      ],
      "text/plain": [
       "\u001b[1m[\u001b[0m\n",
       "    \u001b[1;35mPath\u001b[0m\u001b[1m(\u001b[0m\u001b[32m'/Users/vic/dev/repo/DL-mac/PanelCleaner/_testbed/model/eng_tessdata_best_410.traineddata'\u001b[0m\u001b[1m)\u001b[0m,\n",
       "    \u001b[1;35mPath\u001b[0m\u001b[1m(\u001b[0m\u001b[32m'/Users/vic/dev/repo/DL-mac/PanelCleaner/_testbed/model/jpn_vert_tessdata_best.traineddata'\u001b[0m\u001b[1m)\u001b[0m,\n",
       "    \u001b[1;35mPath\u001b[0m\u001b[1m(\u001b[0m\u001b[32m'/Users/vic/dev/repo/DL-mac/PanelCleaner/_testbed/model/jpn_tessdata_best.traineddata'\u001b[0m\u001b[1m)\u001b[0m\n",
       "\u001b[1m]\u001b[0m\n"
      ]
     },
     "metadata": {},
     "output_type": "display_data"
    }
   ],
   "source": [
    "langs = tessdata.ls()\n",
    "cprint([p.resolve() for p in langs if 'eng' in p.name] + [p.resolve() for p in langs if 'jpn' in p.name])\n",
    "\n"
   ]
  },
  {
   "cell_type": "markdown",
   "metadata": {},
   "source": [
    "----\n",
    "# Tesseract experiments"
   ]
  },
  {
   "cell_type": "markdown",
   "metadata": {},
   "source": [
    "# PanelCleaner Configuration\n",
    "> Adapt `PanelCleaner` `Config` current config to this notebook.\n"
   ]
  },
  {
   "cell_type": "code",
   "execution_count": 11,
   "metadata": {},
   "outputs": [],
   "source": [
    "config = cfg.load_config()\n",
    "config.cache_dir = Path(\".\")\n",
    "\n",
    "cache_dir = config.get_cleaner_cache_dir()\n",
    "\n",
    "profile = config.current_profile\n",
    "preprocessor_conf = profile.preprocessor\n",
    "# Modify the profile to OCR all boxes.\n",
    "# Make sure OCR is enabled.\n",
    "preprocessor_conf.ocr_enabled = True\n",
    "# Make sure the max size is infinite, so no boxes are skipped in the OCR process.\n",
    "preprocessor_conf.ocr_max_size = 10**10\n",
    "# Make sure the sus box min size is infinite, so all boxes with \"unknown\" language are skipped.\n",
    "preprocessor_conf.suspicious_box_min_size = 10**10\n",
    "# Set the OCR blacklist pattern to match everything, so all text gets reported in the analytics.\n",
    "preprocessor_conf.ocr_blacklist_pattern = \".*\"\n"
   ]
  },
  {
   "cell_type": "markdown",
   "metadata": {},
   "source": [
    "# Test images\n",
    "> `IMAGE_PATHS` is a list of image file paths that are used as input for testing the OCR methods."
   ]
  },
  {
   "cell_type": "code",
   "execution_count": 12,
   "metadata": {},
   "outputs": [
    {
     "data": {
      "text/plain": [
       "['00: Action_Comics_1960-01-00_(262).JPG',\n",
       " '01: Adolf_Cap_01_008.jpg',\n",
       " '02: Barnaby_v1-028.png',\n",
       " '03: Barnaby_v1-029.png',\n",
       " '04: Buck_Danny_-_12_-_Avions_Sans_Pilotes_-_013.jpg',\n",
       " '05: Cannon-292.jpg',\n",
       " '06: Contrato_con_Dios_028.jpg',\n",
       " '07: Erase_una_vez_en_Francia_02_88.jpg',\n",
       " '08: FOX_CHILLINTALES_T17_012.jpg',\n",
       " '09: Furari_-_Jiro_Taniguchi_selma_056.jpg',\n",
       " '10: Galactus_12.jpg',\n",
       " '11: INOUE_KYOUMEN_002.png',\n",
       " '12: MCCALL_ROBINHOOD_T31_010.jpg',\n",
       " '13: MCCAY_LITTLENEMO_090.jpg',\n",
       " '14: Mary_Perkins_On_Stage_v2006_1_-_P00068.jpg',\n",
       " '15: PIKE_BOYLOVEGIRLS_T41_012.jpg',\n",
       " '16: Sal_Buscema_Spaceknights_&_Superheroes_Ocular_Edition_1_1.png',\n",
       " '17: Sal_Buscema_Spaceknights_&_Superheroes_Ocular_Edition_1_1_K.png',\n",
       " '18: Sal_Buscema_Spaceknights_&_Superheroes_Ocular_Edition_1_2.png',\n",
       " '19: Spirou_Et_Fantasio_Integrale_06_1958_1959_0025_0024.jpg',\n",
       " '20: Strange_Tales_172005.jpg',\n",
       " '21: Strange_Tales_172021.jpg',\n",
       " '22: Tarzan_014-21.JPG',\n",
       " '23: Tintin_21_Les_Bijoux_de_la_Castafiore_page_39.jpg',\n",
       " '24: Transformers_-_Unicron_000-004.jpg',\n",
       " '25: Transformers_-_Unicron_000-016.jpg',\n",
       " '26: WARE_ACME_024.jpg',\n",
       " '27: Yoko_Tsuno_T01_1972-10.jpg',\n",
       " '28: Your_Name_Another_Side_Earthbound_T02_084.jpg',\n",
       " '29: manga_0033.jpg',\n",
       " '30: ronson-031.jpg',\n",
       " '31: 哀心迷図のバベル 第01巻 - 22002_00_059.jpg']"
      ]
     },
     "execution_count": 12,
     "metadata": {},
     "output_type": "execute_result"
    }
   ],
   "source": [
    "media_path = Path(\"media/\")\n",
    "\n",
    "IMAGE_PATHS = sorted(\n",
    "    [_ for _ in media_path.glob(\"*\") if _.is_file() and _.suffix.lower() in [\".jpg\", \".png\", \".jpeg\"]])\n",
    "\n",
    "[f\"{i:02}: {_.name}\" for i,_ in enumerate(IMAGE_PATHS)]\n"
   ]
  },
  {
   "cell_type": "markdown",
   "metadata": {},
   "source": [
    "# CONTEXT\n",
    "> `CONTEXT` is an `OCRExperimentContext` object that contains the configuration and the list of image paths.\n"
   ]
  },
  {
   "cell_type": "markdown",
   "metadata": {},
   "source": [
    "You can get the configuration with `OCRExperimentContext.get_config()`.\n"
   ]
  },
  {
   "cell_type": "code",
   "execution_count": 13,
   "metadata": {},
   "outputs": [
    {
     "name": "stdout",
     "output_type": "stream",
     "text": [
      "Current Configuration:\n",
      "\n",
      "Locale: System default\n",
      "Default Profile: Built-in\n",
      "Saved Profiles:\n",
      "- victess: /Users/vic/dev/repo/DL-mac/cleaned/victess.conf\n",
      "- vicmang: /Users/vic/dev/repo/DL-mac/cleaned/vicmang.conf\n",
      "\n",
      "Profile Editor: cursor\n",
      "Cache Directory: .\n",
      "Default Torch Model Path: /Users/vic/Library/Caches/pcleaner/model/comictextdetector.pt\n",
      "Default CV2 Model Path: /Users/vic/Library/Caches/pcleaner/model/comictextdetector.pt.onnx\n",
      "GUI Theme: System default\n",
      "\n",
      "--------------------\n",
      "\n",
      "Config file located at: /Users/vic/Library/Application Support/pcleaner/pcleanerconfig.ini\n",
      "System default cache directory: /Users/vic/Library/Caches/pcleaner\n"
     ]
    },
    {
     "data": {
      "text/html": [
       "<pre style=\"white-space:pre;overflow-x:auto;line-height:normal;font-family:Menlo,'DejaVu Sans Mono',consolas,'Courier New',monospace\">      cache_dir: <span style=\"color: #800080; text-decoration-color: #800080; font-weight: bold\">Path</span><span style=\"font-weight: bold\">(</span><span style=\"color: #008000; text-decoration-color: #008000\">'cleaner'</span><span style=\"font-weight: bold\">)</span>\n",
       "     model_path: <span style=\"color: #800080; text-decoration-color: #800080; font-weight: bold\">Path</span><span style=\"font-weight: bold\">(</span><span style=\"color: #008000; text-decoration-color: #008000\">'/Users/vic/Library/Caches/pcleaner/model/comictextdetector.pt'</span><span style=\"font-weight: bold\">)</span>\n",
       "         device: <span style=\"color: #008000; text-decoration-color: #008000\">'mps'</span>\n",
       "</pre>\n"
      ],
      "text/plain": [
       "      cache_dir: \u001b[1;35mPath\u001b[0m\u001b[1m(\u001b[0m\u001b[32m'cleaner'\u001b[0m\u001b[1m)\u001b[0m\n",
       "     model_path: \u001b[1;35mPath\u001b[0m\u001b[1m(\u001b[0m\u001b[32m'/Users/vic/Library/Caches/pcleaner/model/comictextdetector.pt'\u001b[0m\u001b[1m)\u001b[0m\n",
       "         device: \u001b[32m'mps'\u001b[0m\n"
      ]
     },
     "metadata": {},
     "output_type": "display_data"
    }
   ],
   "source": [
    "CONTEXT = OCRExperimentContext(None, IMAGE_PATHS)\n",
    "\n",
    "gpu = torch.cuda.is_available() or torch.backends.mps.is_available()\n",
    "model_path = CONTEXT.config.get_model_path(gpu)\n",
    "DEVICE = (\"mps\" if torch.backends.mps.is_available() else \"cuda\") if model_path.suffix == \".pt\" else \"cpu\"\n",
    "\n",
    "CONTEXT.config.show()\n",
    "cprint(\n",
    "    f\"{'cache_dir':>15}: {repr(cache_dir)}\\n\"\n",
    "    f\"{'model_path':>15}: {repr(model_path)}\\n\"\n",
    "    f\"{'device':>15}: {repr(DEVICE)}\")\n"
   ]
  },
  {
   "cell_type": "markdown",
   "metadata": {},
   "source": [
    "# Base image\n",
    "> Change `BASE_IMAGE_IDX` to select a different base image to use in the examples below."
   ]
  },
  {
   "cell_type": "code",
   "execution_count": 14,
   "metadata": {},
   "outputs": [],
   "source": [
    "BASE_IMAGE_IDX: ImgIdT = cast(ImgIdT, CONTEXT.normalize_idx(\"Strange_Tales_172005.jpg\"))\n",
    "# BASE_IMAGE_IDX = CONTEXT.normalize_idx(\"0033\")\n",
    "# BASE_IMAGE_IDX = CONTEXT.normalize_idx(\"INOUE_KYOUMEN_002\")\n",
    "# BASE_IMAGE_IDX = CONTEXT.normalize_idx(\"Action_Comics_1960-01-00_(262)\")\n",
    "\n",
    "assert BASE_IMAGE_IDX is not None\n",
    "img_path = Path(CONTEXT.image_paths[BASE_IMAGE_IDX])\n",
    "assert img_path.exists()\n"
   ]
  },
  {
   "cell_type": "markdown",
   "metadata": {},
   "source": [
    "# Empty cache\n",
    "> Clear the image cache used profusely throughout the examples below."
   ]
  },
  {
   "cell_type": "markdown",
   "metadata": {},
   "source": [
    "\n",
    "You will be warned before the cache is emptied."
   ]
  },
  {
   "cell_type": "code",
   "execution_count": 15,
   "metadata": {},
   "outputs": [],
   "source": [
    "# CONTEXT.empty_cache_warn()"
   ]
  },
  {
   "cell_type": "code",
   "execution_count": 16,
   "metadata": {},
   "outputs": [],
   "source": [
    "# CONTEXT.empty_cache_warn(BASE_IMAGE_IDX)"
   ]
  },
  {
   "cell_type": "markdown",
   "metadata": {},
   "source": [
    "# Base image\n",
    "> Change `BASE_IMAGE_IDX` to select a different base image to use in the examples below.\n"
   ]
  },
  {
   "cell_type": "code",
   "execution_count": 17,
   "metadata": {},
   "outputs": [],
   "source": [
    "BASE_IMAGE_IDX: ImgIdT = cast(ImgIdT, CONTEXT.normalize_idx(\"Strange_Tales_172005.jpg\"))\n",
    "assert CONTEXT.path_from_idx(BASE_IMAGE_IDX).exists()\n"
   ]
  },
  {
   "cell_type": "markdown",
   "metadata": {},
   "source": [
    "# Visualize images\n"
   ]
  },
  {
   "cell_type": "code",
   "execution_count": 18,
   "metadata": {},
   "outputs": [
    {
     "data": {
      "application/vnd.jupyter.widget-view+json": {
       "model_id": "3de3bd90585a452ab7bd9f5dce716e4e",
       "version_major": 2,
       "version_minor": 0
      },
      "text/plain": [
       "Output(layout=Layout(height='0px'))"
      ]
     },
     "metadata": {},
     "output_type": "display_data"
    },
    {
     "data": {
      "application/vnd.jupyter.widget-view+json": {
       "model_id": "6ab61afc65d84115b81c248ed1d0ab03",
       "version_major": 2,
       "version_minor": 0
      },
      "text/plain": [
       "HBox(children=(HBox(children=(Dropdown(index=20, layout=Layout(width='fit-content'), options={'Action_Comics_1…"
      ]
     },
     "metadata": {},
     "output_type": "display_data"
    },
    {
     "data": {
      "application/vnd.jupyter.widget-view+json": {
       "model_id": "8c79a1393b5a4feaaa8c6d7cf2b458bc",
       "version_major": 2,
       "version_minor": 0
      },
      "text/plain": [
       "Output()"
      ]
     },
     "metadata": {},
     "output_type": "display_data"
    }
   ],
   "source": [
    "img_visor = ImageContextVisor(CONTEXT, BASE_IMAGE_IDX)\n",
    "img_visor\n"
   ]
  },
  {
   "cell_type": "markdown",
   "metadata": {},
   "source": [
    "# Tesseract experiments\n"
   ]
  },
  {
   "cell_type": "code",
   "execution_count": 19,
   "metadata": {},
   "outputs": [
    {
     "data": {
      "application/vnd.jupyter.widget-view+json": {
       "model_id": "d65bd435e6774637ac667defde594c4d",
       "version_major": 2,
       "version_minor": 0
      },
      "text/plain": [
       "HBox(children=(HBox(children=(HBox(children=(Dropdown(layout=Layout(width='fit-content'), options={'Tesseract'…"
      ]
     },
     "metadata": {},
     "output_type": "display_data"
    },
    {
     "data": {
      "application/vnd.jupyter.widget-view+json": {
       "model_id": "f2ca36a4d81144d59ba835c40b990d34",
       "version_major": 2,
       "version_minor": 0
      },
      "text/plain": [
       "Output()"
      ]
     },
     "metadata": {},
     "output_type": "display_data"
    }
   ],
   "source": [
    "# tesseract_experiment = ExperimentsVisor(CONTEXT)\n",
    "tesseract_experiment = ExperimentsVisor(CONTEXT, BASE_IMAGE_IDX)\n",
    "\n",
    "test_eq(tesseract_experiment.all_values, {\n",
    "    'image_selector': {'image_idx': 20},\n",
    "    'content_selector': {'display_option': DisplayOptions.RESULTS},\n",
    "    'result_visor': {\n",
    "        'all_boxes': False,\n",
    "        'box_idx': 0,\n",
    "        'all_methods': False,\n",
    "        'method': CropMethod.INITIAL_BOX,\n",
    "    },\n",
    "    'model_selector': {'model': OCRModel.TESSERACT},\n",
    "    'self': {}\n",
    "})\n",
    "\n",
    "tesseract_experiment\n"
   ]
  },
  {
   "cell_type": "code",
   "execution_count": null,
   "metadata": {},
   "outputs": [],
   "source": []
  }
 ],
 "metadata": {
  "kernelspec": {
   "display_name": "Python 3 (ipykernel)",
   "language": "python",
   "name": "python3"
  },
  "language_info": {
   "codemirror_mode": {
    "name": "ipython",
    "version": 3
   },
   "file_extension": ".py",
   "mimetype": "text/x-python",
   "name": "python",
   "nbconvert_exporter": "python",
   "pygments_lexer": "ipython3",
   "version": "3.11.9"
  }
 },
 "nbformat": 4,
 "nbformat_minor": 4
}

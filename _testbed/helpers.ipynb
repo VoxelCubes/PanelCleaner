{
 "cells": [
  {
   "cell_type": "code",
   "execution_count": 1,
   "metadata": {},
   "outputs": [],
   "source": [
    "#| default_exp helpers"
   ]
  },
  {
   "cell_type": "code",
   "execution_count": 2,
   "metadata": {},
   "outputs": [],
   "source": [
    "#| hide\n",
    "# %reload_ext autoreload\n",
    "# %autoreload 0\n"
   ]
  },
  {
   "cell_type": "markdown",
   "metadata": {},
   "source": [
    "# install (Colab)"
   ]
  },
  {
   "cell_type": "code",
   "execution_count": 3,
   "metadata": {},
   "outputs": [],
   "source": [
    "# try: \n",
    "#     import fastcore as FC\n",
    "# except ImportError: \n",
    "#     !pip install -q fastcore\n",
    "# try:\n",
    "#     import rich\n",
    "# except ImportError:\n",
    "#     !pip install -q rich\n"
   ]
  },
  {
   "cell_type": "code",
   "execution_count": 4,
   "metadata": {},
   "outputs": [],
   "source": [
    "# !pip install -q git+https://github.com/civvic/PanelCleaner.git@basic-tesseract"
   ]
  },
  {
   "cell_type": "markdown",
   "metadata": {},
   "source": [
    "# Testing `Tesseract` OCR for Comics\n",
    "> Accuracy Enhancements for OCR in `PanelCleaner`\n"
   ]
  },
  {
   "cell_type": "markdown",
   "metadata": {},
   "source": [
    "# Prologue"
   ]
  },
  {
   "cell_type": "code",
   "execution_count": 5,
   "metadata": {},
   "outputs": [],
   "source": [
    "#| export\n",
    "from __future__ import annotations\n",
    "\n",
    "import base64\n",
    "import json\n",
    "import re\n",
    "import sys\n",
    "import uuid\n",
    "from importlib import resources\n",
    "from io import BytesIO\n",
    "from pathlib import Path\n",
    "from typing import Any\n",
    "from typing import Iterable\n",
    "from typing import Mapping\n",
    "from typing import Sequence\n",
    "\n",
    "import pcleaner.data\n",
    "import pcleaner.structures as st\n",
    "from IPython.display import clear_output\n",
    "from IPython.display import display\n",
    "from IPython.display import HTML\n",
    "from PIL import Image\n",
    "from PIL import ImageDraw\n",
    "from PIL import ImageFont\n"
   ]
  },
  {
   "cell_type": "code",
   "execution_count": 6,
   "metadata": {},
   "outputs": [],
   "source": [
    "from collections import defaultdict\n",
    "\n",
    "import fastcore.xtras  # patch Path with some utils\n",
    "import ipywidgets as W\n",
    "import rich\n",
    "from fastcore.test import *  # type: ignore\n",
    "from rich.console import Console\n"
   ]
  },
  {
   "cell_type": "markdown",
   "metadata": {},
   "source": [
    "# Helpers"
   ]
  },
  {
   "cell_type": "code",
   "execution_count": 7,
   "metadata": {},
   "outputs": [],
   "source": [
    "# pretty print by default\n",
    "# %load_ext rich"
   ]
  },
  {
   "cell_type": "code",
   "execution_count": 8,
   "metadata": {},
   "outputs": [],
   "source": [
    "console = Console(width=104, tab_size=4, force_jupyter=True)\n",
    "cprint = console.print\n"
   ]
  },
  {
   "cell_type": "markdown",
   "metadata": {},
   "source": [
    "## dict helpers: _pops_\n"
   ]
  },
  {
   "cell_type": "code",
   "execution_count": 9,
   "metadata": {},
   "outputs": [],
   "source": [
    "#| export\n",
    "_all_ = ['_pops_', '_pops_values_', '_gets_']\n"
   ]
  },
  {
   "cell_type": "code",
   "execution_count": 10,
   "metadata": {},
   "outputs": [],
   "source": [
    "#| export\n",
    "def _pops_(d: dict, ks: Iterable) -> dict: \n",
    "    \"Pops `ks` keys from `d` and returns them in a dict. Note: `d` is changed in-place.\"\n",
    "    return {k:d.pop(k) for k in ks if k in d}\n"
   ]
  },
  {
   "cell_type": "code",
   "execution_count": 11,
   "metadata": {},
   "outputs": [],
   "source": [
    "test_eq(_pops_({'a': 1, 'b': 2, 'c': 3}, ['a', 'b']), {'a': 1, 'b': 2})\n",
    "test_eq(_pops_({'a': 1, 'b': 2, 'c': 3}, ['d']), {})\n",
    "test_eq(_pops_({'a': 1, 'b': 2, 'c': 3}, ['a', 'c', 'd']), {'a': 1, 'c': 3})\n",
    "test_eq(_pops_({}, ['a']), {})\n",
    "test_eq(_pops_({'a': 1}, ['a', 'a']), {'a': 1})\n"
   ]
  },
  {
   "cell_type": "code",
   "execution_count": 12,
   "metadata": {},
   "outputs": [],
   "source": [
    "#| export\n",
    "def _pops_values_(d: dict, ks: Iterable) -> tuple:\n",
    "    \"Pops `ks` keys from `d` and returns them as a tuple. Note: `d` is changed in-place.\"\n",
    "    return tuple(d.pop(k, None) for k in ks)\n"
   ]
  },
  {
   "cell_type": "code",
   "execution_count": 13,
   "metadata": {},
   "outputs": [],
   "source": [
    "test_eq(_pops_values_({'a': 1, 'b': 2, 'c': 3}, ['a', 'b']), (1, 2))\n",
    "test_eq(_pops_values_({'a': 1, 'b': 2, 'c': 3}, ['d']), (None,))\n",
    "test_eq(_pops_values_({'a': 1, 'b': 2, 'c': 3}, ['a', 'c', 'd']), (1, 3, None))\n",
    "test_eq(_pops_values_({}, ['a']), (None,))\n",
    "test_eq(_pops_values_({'a': 1}, ['a', 'a']), (1, None))\n"
   ]
  },
  {
   "cell_type": "code",
   "execution_count": 14,
   "metadata": {},
   "outputs": [],
   "source": [
    "#| export\n",
    "def _gets_(d: Mapping[str, Any], ks: Iterable):\n",
    "    \"Fetches values from a mapping for a given list of keys, returning `None` for missing keys.\"\n",
    "    return (d.get(k, None) for k in ks)\n"
   ]
  },
  {
   "cell_type": "code",
   "execution_count": 15,
   "metadata": {},
   "outputs": [],
   "source": [
    "test_eq(_gets_({'a': 1, 'b': 2}, ('a', 'c', 'b')), [1, None, 2])\n",
    "test_eq(_gets_({'a': 1, 'b': 2}, ()), [])\n",
    "a, b = _gets_({'a': 1, 'b': 2}, ('b', 'a'))\n",
    "test_eq((a, b), (2, 1))\n"
   ]
  },
  {
   "cell_type": "markdown",
   "metadata": {},
   "source": [
    "## cleanupwidget\n"
   ]
  },
  {
   "cell_type": "code",
   "execution_count": 16,
   "metadata": {},
   "outputs": [],
   "source": [
    "#| exporti\n",
    "def _get_globals(mod: str):\n",
    "    if hasattr(sys, '_getframe'):\n",
    "        glb = sys._getframe(2).f_globals\n",
    "    else:\n",
    "        glb = sys.modules[mod].__dict__\n",
    "    return glb\n"
   ]
  },
  {
   "cell_type": "code",
   "execution_count": 17,
   "metadata": {},
   "outputs": [],
   "source": [
    "# _all_ = ['_get_globals']\n",
    "def _gtest():\n",
    "    return _get_globals(__name__)\n",
    "g1 = _gtest()\n",
    "g2 = globals()\n",
    "test_eq(g1, g2)\n"
   ]
  },
  {
   "cell_type": "code",
   "execution_count": 18,
   "metadata": {},
   "outputs": [],
   "source": [
    "#| export\n",
    "def cleanupwidgets(*ws, mod: str|None=None, clear=True):\n",
    "    glb = _get_globals(mod or __name__)\n",
    "    if clear: clear_output(wait=True)\n",
    "    for w in ws:\n",
    "        _w = glb.get(w) if isinstance(w, str) else w\n",
    "        if _w:\n",
    "            try: _w.close()  # type: ignore\n",
    "            except: pass\n"
   ]
  },
  {
   "cell_type": "code",
   "execution_count": 19,
   "metadata": {},
   "outputs": [],
   "source": [
    "_b = W.Button()\n",
    "test_ne(_b.comm, None)\n",
    "cleanupwidgets('_b')\n",
    "test_is(_b.comm, None)\n"
   ]
  },
  {
   "cell_type": "markdown",
   "metadata": {},
   "source": [
    "## Collapsable JSON in a notebook cell"
   ]
  },
  {
   "cell_type": "code",
   "execution_count": 20,
   "metadata": {},
   "outputs": [],
   "source": [
    "#| export\n",
    "class RenderJSON(object):\n",
    "    def __init__(self, json_data, max_height=200, init_level=0):\n",
    "        if isinstance(json_data, (Sequence, Mapping)):\n",
    "            s = json.dumps(json_data)\n",
    "        elif hasattr(json_data, 'to_dict'):\n",
    "            s = json.dumps(json_data.to_dict())\n",
    "        elif hasattr(json_data, 'to_json'):\n",
    "            s = json_data.to_json()\n",
    "        else:\n",
    "            s = json_data\n",
    "        self.json_str = s\n",
    "        self.uuid = str(uuid.uuid4())\n",
    "        self.max_height = max_height\n",
    "        self.init_level = init_level\n",
    "\n",
    "    def display(self):\n",
    "        html_content = f\"\"\"\n",
    "        <div id=\"wrapper-{self.uuid}\" style=\"width: 100%; max-height: {self.max_height}px; overflow-y: auto;\">\n",
    "            <div id=\"{self.uuid}\" style=\"width: 100%;\"></div>\n",
    "            <script>\n",
    "                require([\"https://rawgit.com/caldwell/renderjson/master/renderjson.js\"], function() {{\n",
    "                    renderjson.set_show_to_level({self.init_level});\n",
    "                    document.getElementById('{self.uuid}').appendChild(renderjson({self.json_str}));\n",
    "                }});\n",
    "            </script>\n",
    "        </div>\n",
    "        \"\"\"\n",
    "        display(HTML(html_content))\n",
    "\n",
    "    def _ipython_display_(self):\n",
    "        self.display()"
   ]
  },
  {
   "cell_type": "code",
   "execution_count": 21,
   "metadata": {},
   "outputs": [
    {
     "data": {
      "text/html": [
       "\n",
       "        <div id=\"wrapper-3c74b290-98dd-42f5-b50a-6abd0e96e3ba\" style=\"width: 100%; max-height: 200px; overflow-y: auto;\">\n",
       "            <div id=\"3c74b290-98dd-42f5-b50a-6abd0e96e3ba\" style=\"width: 100%;\"></div>\n",
       "            <script>\n",
       "                require([\"https://rawgit.com/caldwell/renderjson/master/renderjson.js\"], function() {\n",
       "                    renderjson.set_show_to_level(1);\n",
       "                    document.getElementById('3c74b290-98dd-42f5-b50a-6abd0e96e3ba').appendChild(renderjson({\"name\": \"Petronila\", \"age\": 28, \"interests\": [\"reading\", \"cycling\", \"technology\"], \"education\": {\"bachelor\": \"Computer Science\", \"master\": \"Data Science\", \"phd\": \"Not enrolled\"}}));\n",
       "                });\n",
       "            </script>\n",
       "        </div>\n",
       "        "
      ],
      "text/plain": [
       "<IPython.core.display.HTML object>"
      ]
     },
     "metadata": {},
     "output_type": "display_data"
    }
   ],
   "source": [
    "json_data = {\n",
    "    \"name\": \"Petronila\",\n",
    "    \"age\": 28,\n",
    "    \"interests\": [\"reading\", \"cycling\", \"technology\"],\n",
    "    \"education\": {\n",
    "        \"bachelor\": \"Computer Science\",\n",
    "        \"master\": \"Data Science\",\n",
    "        \"phd\": \"Not enrolled\"\n",
    "    }\n",
    "}\n",
    "\n",
    "RenderJSON(json_data, init_level=1).display()\n"
   ]
  },
  {
   "cell_type": "markdown",
   "metadata": {},
   "source": [
    "## Visualize boxes on the page image\n",
    "> adapted from `PageData.visualize` but returns the image instead of saving it."
   ]
  },
  {
   "cell_type": "code",
   "execution_count": 22,
   "metadata": {},
   "outputs": [],
   "source": [
    "#| export\n",
    "\n",
    "def page_boxes(self: st.PageData, out_dir: Path | None = None) -> tuple[Image.Image, Path]:\n",
    "    \"\"\"\n",
    "    Visualize the boxes on an image.\n",
    "    Typically, this would be used to check where on the original image the\n",
    "    boxes are located.\n",
    "\n",
    "    :param image_path: The path to the image to visualize the boxes on.\n",
    "    \"\"\"\n",
    "    image_path = Path(self.image_path)\n",
    "    image = Image.open(image_path)\n",
    "    draw = ImageDraw.Draw(image)\n",
    "    data_path = resources.files(pcleaner.data)\n",
    "    font_path = str(data_path / \"LiberationSans-Regular.ttf\")\n",
    "    # Figure out the optimal font size based on the image size. E.g. 30 for a 1600px image.\n",
    "    font_size = int(image.size[0] / 50) + 5\n",
    "\n",
    "    for index, box in enumerate(self.boxes):\n",
    "        draw.rectangle(box.as_tuple, outline=\"green\")\n",
    "        # Draw the box number, with a white background, respecting font size.\n",
    "        draw.text(\n",
    "            (box.x1 + 4, box.y1),\n",
    "            str(index + 1),\n",
    "            fill=\"green\",\n",
    "            font=ImageFont.truetype(font_path, font_size),\n",
    "            stroke_fill=\"white\",\n",
    "            stroke_width=3,\n",
    "        )\n",
    "\n",
    "    for box in self.extended_boxes:\n",
    "        draw.rectangle(box.as_tuple, outline=\"red\")\n",
    "    for box in self.merged_extended_boxes:\n",
    "        draw.rectangle(box.as_tuple, outline=\"purple\")\n",
    "    for box in self.reference_boxes:\n",
    "        draw.rectangle(box.as_tuple, outline=\"blue\")\n",
    "\n",
    "    # Save the image.\n",
    "    extension = \"_boxes\"\n",
    "    out_path = image_path.with_stem(image_path.stem + extension)\n",
    "    if out_dir is not None:\n",
    "        out_dir.mkdir(parents=True, exist_ok=True)\n",
    "        out_path = out_dir / image_path.name\n",
    "    image.save(out_path)\n",
    "\n",
    "    return image, out_path"
   ]
  },
  {
   "cell_type": "markdown",
   "metadata": {},
   "source": [
    "## Simple crop"
   ]
  },
  {
   "cell_type": "code",
   "execution_count": 23,
   "metadata": {},
   "outputs": [],
   "source": [
    "#| export\n",
    "\n",
    "def crop_box(box: st.Box, image: Image.Image) -> Image.Image:\n",
    "    return image.crop(box.as_tuple)"
   ]
  },
  {
   "cell_type": "markdown",
   "metadata": {},
   "source": [
    "## Print size & resolution"
   ]
  },
  {
   "cell_type": "code",
   "execution_count": 24,
   "metadata": {},
   "outputs": [],
   "source": [
    "#| export\n",
    "\n",
    "PRINT_FORMATS = {\n",
    "    'Golden Age': (7.75, 10.5),  # (1930s-40s) \n",
    "    'Siver Age': (7, 10.375),  # (1950s-60s)\n",
    "    'Modern Age': (6.625,10.25),  # North American comic books\n",
    "    'Magazine': (8.5, 11), \n",
    "    'Digest': (5.5, 8.5), \n",
    "    'Manga': (5.0, 7.5),\n",
    "}\n",
    "\n",
    "\n",
    "def size(w: int, h: int, unit: str = 'in', dpi: float = 300.) -> tuple:\n",
    "    \"\"\"\n",
    "    Calculate the print size of an image in inches or centimeters.\n",
    "\n",
    "    Args:\n",
    "    w (int): Width of the image in pixels.\n",
    "    h (int): Height of the image in pixels.\n",
    "    unit (str): Unit of measurement ('in' for inches, 'cm' for centimeters).\n",
    "    dpi (float): Dots per inch (resolution).\n",
    "\n",
    "    Returns:\n",
    "    tuple: Width and height of the image in the specified unit.\n",
    "    \"\"\"\n",
    "    if unit == 'cm':\n",
    "        return (w / dpi * 2.54, h / dpi * 2.54)\n",
    "    else:  # default to inches\n",
    "        return (w / dpi, h / dpi)\n",
    "\n",
    "\n",
    "def dpi(w: int, h: int, print_format: str = 'Modern Age') -> float:\n",
    "    \"\"\"\n",
    "    Calculate the dpi (dots per inch) needed to print an image at a specified format size.\n",
    "\n",
    "    Args:\n",
    "    w (int): Width of the image in pixels.\n",
    "    h (int): Height of the image in pixels.\n",
    "    print_format (str): Print format as defined in the formats dictionary.\n",
    "\n",
    "    Returns:\n",
    "    float: Required dpi to achieve the desired print format size.\n",
    "    \"\"\"\n",
    "    # Default to 'Modern Age' if format not found\n",
    "    format_size = PRINT_FORMATS.get(print_format, PRINT_FORMATS['Modern Age'])\n",
    "    width_inch, height_inch = format_size\n",
    "    dpi_w = w / width_inch\n",
    "    dpi_h = h / height_inch\n",
    "    return (dpi_w + dpi_h) / 2  # Average dpi for width and height\n"
   ]
  },
  {
   "cell_type": "markdown",
   "metadata": {},
   "source": [
    "## Show images and texts on HTML tables"
   ]
  },
  {
   "cell_type": "code",
   "execution_count": 25,
   "metadata": {},
   "outputs": [],
   "source": [
    "#| export\n",
    "\n",
    "def get_image_html(image: Image.Image | Path | str, max_width: int | None = None):\n",
    "    \"\"\"\n",
    "    Converts a PIL image to an HTML image tag containing the image as a base64 blob.\n",
    "\n",
    "    :param image: A PIL Image object.\n",
    "    :param max_size: A PIL Image object.\n",
    "    :return: A string containing an HTML <img> tag with the image.\n",
    "    \"\"\"\n",
    "    style = f' style=\"max-width: {max_width}px;\"' if max_width is not None else ''\n",
    "    if isinstance(image, (Path, str)):\n",
    "        return f'<img src=\"{str(image)}\"{style}/>'\n",
    "    else:\n",
    "        buffered = BytesIO()\n",
    "        image.save(buffered, format='PNG')\n",
    "        img_str = base64.b64encode(buffered.getvalue()).decode()\n",
    "        return f'<img src=\"data:image/png;base64,{img_str}\"{style}/>'\n",
    "\n",
    "\n",
    "def get_columns_html(\n",
    "    columns: list[list], max_image_width: int | None = None, headers: list[str] | None = None\n",
    "):\n",
    "    if not all(len(col) == len(columns[0]) for col in columns):\n",
    "        raise ValueError(\"All columns must have the same length.\")\n",
    "\n",
    "    # Calculate the maximum width of images in each column\n",
    "    max_widths = []\n",
    "    for col_index in range(len(columns)):\n",
    "        max_col_width = 0\n",
    "        for item in columns[col_index]:\n",
    "            if isinstance(item, (Image.Image, Path)):\n",
    "                if isinstance(item, (Path, str)):\n",
    "                    item = Image.open(item)\n",
    "                width, _ = item.size\n",
    "                max_col_width = max(max_col_width, width)\n",
    "        if max_col_width > 0:\n",
    "            max_widths.append(\n",
    "                f\"{min(max_col_width, max_image_width)}px\"\n",
    "                    if max_image_width is not None else \n",
    "                f\"{max_col_width}px\"\n",
    "            )\n",
    "        else:\n",
    "            max_widths.append('auto')\n",
    "\n",
    "    html_str = \"<table>\"\n",
    "\n",
    "    # Apply calculated column widths using <colgroup> and <col> elements\n",
    "    html_str += \"<colgroup>\"\n",
    "    for width in max_widths:\n",
    "        html_str += f\"<col style='width: {width};'/>\"\n",
    "    html_str += \"</colgroup>\"\n",
    "\n",
    "    if headers:\n",
    "        if len(headers) != len(columns):\n",
    "            raise ValueError(\"Headers list must match the number of columns.\")\n",
    "        html_str += (\n",
    "            \"<tr>\"\n",
    "            + \"\".join(\n",
    "                f\"<th style='text-align: center; font-weight: bold;'>{header}</th>\"\n",
    "                for header in headers\n",
    "            )\n",
    "            + \"</tr>\"\n",
    "        )\n",
    "\n",
    "    for row_items in zip(*columns):\n",
    "        html_str += \"<tr>\"\n",
    "        for i, item in enumerate(row_items):\n",
    "            if isinstance(item, (Image.Image, Path)):\n",
    "                img_html = get_image_html(item, max_width=max_image_width)\n",
    "                html_str += f\"<td style='text-align: center;'>{img_html}</td>\"\n",
    "            else:  # Assume the item is a string\n",
    "                style = \"font-weight: bold;\" if i == 0 else \"\"\n",
    "                html_str += f\"<td style='font-size: 12pt; text-align: left; {style}'>{item}</td>\"\n",
    "        html_str += \"</tr>\"\n",
    "\n",
    "    html_str += \"</table>\"\n",
    "    return html_str\n",
    "\n",
    "\n",
    "def display_columns(\n",
    "    columns: list[list], max_image_width: int | None = None, headers: list[str] | None = None\n",
    "):\n",
    "    \"\"\"\n",
    "    Displays a table with any combination of columns, which can be lists of strings or lists \n",
    "    of PIL Image objects, within a Jupyter notebook cell.\n",
    "\n",
    "    :param columns: A list of lists, where each sublist represents a column in the table. \n",
    "                    Each sublist can contain either strings or PIL Image objects.\n",
    "    :param max_image_width: The maximum size of the images in pixels. This controls the max-height \n",
    "                            of the images.\n",
    "    :param headers: A list of header labels for the table. If None, no headers are displayed.\n",
    "    \"\"\"\n",
    "    return display(HTML(get_columns_html(columns, max_image_width, headers)))\n",
    "\n",
    "\n",
    "def get_image_grid_html(\n",
    "    images: list[Image.Image | Path | str],\n",
    "    rows: int,\n",
    "    columns: int,\n",
    "    titles: list[str] | None = None,\n",
    "    max_image_width: int | None = None,\n",
    "    caption: str | None = None\n",
    "):\n",
    "    if titles and len(titles) != len(images):\n",
    "        raise ValueError(\"Titles list must match the number of images if provided.\")\n",
    "\n",
    "    html_str = \"<table>\"\n",
    "\n",
    "    if caption:\n",
    "        html_str += (f\"<caption style='caption-side: top; text-align: center; \"\n",
    "                    f\"font-weight: bold;'>{caption}</caption>\")\n",
    "\n",
    "    image_index = 0\n",
    "    for row in range(rows):\n",
    "        html_str += \"<tr>\"\n",
    "        for col in range(columns):\n",
    "            if image_index < len(images):\n",
    "                img_html = get_image_html(images[image_index], max_width=max_image_width)\n",
    "                title_html = (\n",
    "                    f\"<div style='text-align: center;'>{titles[image_index]}</div>\"\n",
    "                    if titles\n",
    "                    else \"\"\n",
    "                )\n",
    "                html_str += f\"<td style='text-align: center;'>{title_html}{img_html}</td>\"\n",
    "            else:\n",
    "                html_str += \"<td></td>\"  # Empty cell if no more images\n",
    "            image_index += 1\n",
    "        html_str += \"</tr>\"\n",
    "\n",
    "    html_str += \"</table>\"\n",
    "    return html_str\n",
    "\n",
    "\n",
    "def display_image_grid(\n",
    "    images: list[Image.Image | Path | str],\n",
    "    rows: int,\n",
    "    columns: int,\n",
    "    titles: list[str] | None = None,\n",
    "    max_image_width: int | None = None,\n",
    "    caption: str | None = None,\n",
    "):\n",
    "    \"\"\"\n",
    "    Displays a grid of images in a HTML table within a Jupyter notebook cell.\n",
    "\n",
    "    :param images: A list of PIL Image objects to be displayed.\n",
    "    :param rows: The number of rows in the grid.\n",
    "    :param columns: The number of columns in the grid.\n",
    "    :param titles: An optional list of titles for each image. If provided, it must match the length \n",
    "                    of the images list.\n",
    "    :param max_image_width: The maximum width of the images in pixels.\n",
    "    \"\"\"\n",
    "    display(HTML(get_image_grid_html(images, rows, columns, titles, max_image_width, caption)))\n",
    "\n",
    "\n",
    "def acc_as_html(acc):\n",
    "    return f\"<div style='font-size: 12pt;'><strong style='color: red;'>{acc:.2f}</strong><div/>\"\n"
   ]
  },
  {
   "cell_type": "markdown",
   "metadata": {},
   "source": [
    "## UUIDs"
   ]
  },
  {
   "cell_type": "code",
   "execution_count": 26,
   "metadata": {},
   "outputs": [],
   "source": [
    "#| export\n",
    "\n",
    "def strip_uuid(p: Path | str):\n",
    "    _p: Path = p if isinstance(p, Path) else Path(p)\n",
    "    new_stem = re.sub(r'(?i)[a-f0-9]{8}-([a-f0-9]{4}-){3}[a-f0-9]{12}', '', _p.stem).strip('_')\n",
    "    return _p.with_stem(new_stem)\n"
   ]
  },
  {
   "cell_type": "code",
   "execution_count": 27,
   "metadata": {},
   "outputs": [
    {
     "data": {
      "text/plain": [
       "Path('a/b/c/Strange Tales 172_boxes.png')"
      ]
     },
     "execution_count": 27,
     "metadata": {},
     "output_type": "execute_result"
    }
   ],
   "source": [
    "strip_uuid(Path(\"a/b/c/ac265dc1-51a0-46ca-9101-7195cbad33f2_Strange Tales 172_boxes.png\"))"
   ]
  },
  {
   "cell_type": "markdown",
   "metadata": {},
   "source": [
    "## Other"
   ]
  },
  {
   "cell_type": "code",
   "execution_count": 31,
   "metadata": {},
   "outputs": [],
   "source": [
    "# Deep copy a defaultdict of defaultdicts to a dict of dicts if it is not already a dict\n",
    "def defaultdict_to_dict(d) -> dict:\n",
    "    if not isinstance(d, defaultdict):\n",
    "        return d\n",
    "    return {k: defaultdict_to_dict(v) for k, v in d.items()}\n"
   ]
  },
  {
   "cell_type": "code",
   "execution_count": 32,
   "metadata": {},
   "outputs": [
    {
     "name": "stdout",
     "output_type": "stream",
     "text": [
      "aaa\n"
     ]
    }
   ],
   "source": [
    "print('aaa')"
   ]
  },
  {
   "cell_type": "markdown",
   "metadata": {},
   "source": [
    "# Colophon\n",
    "----\n"
   ]
  },
  {
   "cell_type": "code",
   "execution_count": 30,
   "metadata": {},
   "outputs": [],
   "source": [
    "import fastcore.all as FC\n",
    "from nbdev.export import nb_export\n"
   ]
  },
  {
   "cell_type": "code",
   "execution_count": 31,
   "metadata": {},
   "outputs": [],
   "source": [
    "if FC.IN_NOTEBOOK:\n",
    "    nb_export('helpers.ipynb', '.')\n"
   ]
  }
 ],
 "metadata": {
  "kernelspec": {
   "display_name": "Python 3 (ipykernel)",
   "language": "python",
   "name": "python3"
  },
  "language_info": {
   "codemirror_mode": {
    "name": "ipython",
    "version": 3
   },
   "file_extension": ".py",
   "mimetype": "text/x-python",
   "name": "python",
   "nbconvert_exporter": "python",
   "pygments_lexer": "ipython3",
   "version": "3.11.9"
  }
 },
 "nbformat": 4,
 "nbformat_minor": 4
}

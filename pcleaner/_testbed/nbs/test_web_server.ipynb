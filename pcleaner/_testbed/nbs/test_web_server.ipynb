{
 "cells": [
  {
   "cell_type": "code",
   "execution_count": 2,
   "metadata": {},
   "outputs": [],
   "source": [
    "#| hide\n",
    "# %reload_ext autoreload\n",
    "# %autoreload 0\n"
   ]
  },
  {
   "cell_type": "markdown",
   "metadata": {},
   "source": [
    "# install (Colab)"
   ]
  },
  {
   "cell_type": "code",
   "execution_count": 3,
   "metadata": {},
   "outputs": [],
   "source": [
    "# try: \n",
    "#     import fastcore as FC\n",
    "# except ImportError: \n",
    "#     !pip install -q fastcore\n",
    "# try:\n",
    "#     import rich\n",
    "# except ImportError:\n",
    "#     !pip install -q rich\n"
   ]
  },
  {
   "cell_type": "code",
   "execution_count": 4,
   "metadata": {},
   "outputs": [],
   "source": [
    "# !pip uninstall Pillow"
   ]
  },
  {
   "cell_type": "code",
   "execution_count": 5,
   "metadata": {},
   "outputs": [],
   "source": [
    "# !pip install \"pillow<10.1.0,>=8.3.2\""
   ]
  },
  {
   "cell_type": "markdown",
   "metadata": {},
   "source": [
    "> **Note: we're using the `testbed` branch of PanelCleaner.**"
   ]
  },
  {
   "cell_type": "code",
   "execution_count": 6,
   "metadata": {},
   "outputs": [],
   "source": [
    "# !pip install -q git+https://github.com/civvic/PanelCleaner.git@testbed-colab"
   ]
  },
  {
   "cell_type": "markdown",
   "metadata": {},
   "source": [
    "# Test ngrok and web server\n",
    "> OCRExperimentContext with web sever for Colab.\n"
   ]
  },
  {
   "cell_type": "markdown",
   "metadata": {},
   "source": [
    "# Prologue"
   ]
  },
  {
   "cell_type": "code",
   "execution_count": 7,
   "metadata": {
    "notebookRunGroups": {
     "groupValue": ""
    }
   },
   "outputs": [],
   "source": [
    "import os\n",
    "from pathlib import Path\n",
    "from typing import cast\n",
    "\n",
    "import fastcore.all as FC\n",
    "import fastcore.xtras  # patch `Path` with some utils (like `ls()` to list folder contents)\n",
    "import ipywidgets as W\n",
    "from fastcore.test import *  # type: ignore\n",
    "from IPython.display import display\n",
    "from IPython.display import HTML\n",
    "from PIL import Image\n",
    "from rich.console import Console\n",
    "\n",
    "import pcleaner._testbed.testbed.web_server as web_server\n",
    "from pcleaner._testbed.testbed.experiments import CropMethod\n",
    "from pcleaner._testbed.testbed.experiments import OCRExperimentContext\n",
    "from pcleaner._testbed.testbed.experiments import ExperimentsVisor\n",
    "\n"
   ]
  },
  {
   "cell_type": "markdown",
   "metadata": {},
   "source": [
    "# Helpers"
   ]
  },
  {
   "cell_type": "code",
   "execution_count": 7,
   "metadata": {
    "notebookRunGroups": {
     "groupValue": ""
    }
   },
   "outputs": [],
   "source": [
    "# pretty print by default\n",
    "# %load_ext rich"
   ]
  },
  {
   "cell_type": "code",
   "execution_count": 8,
   "metadata": {
    "notebookRunGroups": {
     "groupValue": ""
    }
   },
   "outputs": [],
   "source": [
    "console = Console(width=104, tab_size=4, force_jupyter=True)\n",
    "cprint = console.print"
   ]
  },
  {
   "cell_type": "markdown",
   "metadata": {},
   "source": [
    "## USE_PIL"
   ]
  },
  {
   "cell_type": "markdown",
   "metadata": {},
   "source": [
    "The experiments can generate hundreds of images, and maintaining the **PIL** images in memory is not efficient. All the generated images are cached and visualized on demand through a URL pointing to the local cache. This approach prevents the kernel from being overloaded with **PIL** images, with the front-end responsible for fetching the image and the backend web server (not the kernel) for serving the image in another process. This method is quick and efficient. As an added bonus, the saved notebook remains lean and fit; it doesn't store the Base64 versions of all the output cell images.\n",
    "\n",
    "Unfortunately, this approach does not work as is in **Colab**. Google Colab runs on an older Ubuntu 18.04 VM, so all the usual networking challenges with Docker, or whatever VMs Google is using, apply. Google also goes to great lengths to avoid exposing its internal architecture. We have two options:\n",
    "- Let the Jupyter kernel serve the images itself, which is slow and memory-consuming.\n",
    "- Use a tunnel to map localhost (server) to whatever IP and port the front-end (the browser you're currently using) is running on. We can use **ngrok** for this, but *ngrok* is a commercial service that has been abused and now requires confirmation the first time the tunnel connects, which can be inconvenient for the user. It also requires the user to open a free account and obtain an auth token.\n",
    "\n",
    "You choose.\n",
    "\n",
    "If the notebook is running in Colab and ngrok has been successfully installed and the tunnel has been created, the default setting is USE_PIL=False. You can set the environment variable USE_PIL=True to force the use of PIL images, but note that in certain circumstances, Colab will complain because the free tiers are usually memory constrained.\n"
   ]
  },
  {
   "cell_type": "code",
   "execution_count": 9,
   "metadata": {
    "notebookRunGroups": {
     "groupValue": ""
    }
   },
   "outputs": [],
   "source": [
    "os.environ['USE_PIL'] = 'False'\n",
    "os.environ['USE_TUNNEL'] = 'False'\n",
    "SERVER = None"
   ]
  },
  {
   "cell_type": "markdown",
   "metadata": {},
   "source": [
    "----\n",
    "# EXP_DIR"
   ]
  },
  {
   "cell_type": "code",
   "execution_count": 10,
   "metadata": {
    "notebookRunGroups": {
     "groupValue": "2"
    }
   },
   "outputs": [
    {
     "data": {
      "text/plain": [
       "Path('../experiment')"
      ]
     },
     "execution_count": 10,
     "metadata": {},
     "output_type": "execute_result"
    }
   ],
   "source": [
    "EXP_DIR = OCRExperimentContext.EXP_DIR\n",
    "EXP_DIR\n"
   ]
  },
  {
   "cell_type": "markdown",
   "metadata": {},
   "source": [
    "# Setup ngrok (Colab)\n",
    "> Mostly for Colab, but can be forced for local development setting `os.environ['USE_TUNNEL'] = 'True'`.\n"
   ]
  },
  {
   "cell_type": "code",
   "execution_count": 11,
   "metadata": {},
   "outputs": [],
   "source": [
    "os.environ['USE_TUNNEL'] = 'True'\n"
   ]
  },
  {
   "cell_type": "code",
   "execution_count": 12,
   "metadata": {},
   "outputs": [
    {
     "data": {
      "text/html": [
       "<pre style=\"white-space:pre;overflow-x:auto;line-height:normal;font-family:Menlo,'DejaVu Sans Mono',consolas,'Courier New',monospace\">Enter your ngrok authtoken, which can be copied from \n",
       "<span style=\"color: #0000ff; text-decoration-color: #0000ff; text-decoration: underline\">https://dashboard.ngrok.com/get-started/your-authtoken</span>\n",
       "</pre>\n"
      ],
      "text/plain": [
       "Enter your ngrok authtoken, which can be copied from \n",
       "\u001b[4;94mhttps://dashboard.ngrok.com/get-started/your-authtoken\u001b[0m\n"
      ]
     },
     "metadata": {},
     "output_type": "display_data"
    },
    {
     "name": "stderr",
     "output_type": "stream",
     "text": [
      "Bottle v0.13-dev server starting up (using WSGIRefServer())...\n",
      "Listening on http://localhost:56636/\n",
      "Hit Ctrl-C to quit.\n",
      "\n"
     ]
    },
    {
     "data": {
      "text/html": [
       "<pre style=\"white-space:pre;overflow-x:auto;line-height:normal;font-family:Menlo,'DejaVu Sans Mono',consolas,'Courier New',monospace\">ngrok tunnel: NgrokTunnel: <span style=\"color: #008000; text-decoration-color: #008000\">\"https://ee06-83-33-227-209.ngrok-free.app\"</span> -&gt; <span style=\"color: #008000; text-decoration-color: #008000\">\"http://localhost:56636\"</span>\n",
       "</pre>\n"
      ],
      "text/plain": [
       "ngrok tunnel: NgrokTunnel: \u001b[32m\"https://ee06-83-33-227-209.ngrok-free.app\"\u001b[0m -> \u001b[32m\"http://localhost:56636\"\u001b[0m\n"
      ]
     },
     "metadata": {},
     "output_type": "display_data"
    },
    {
     "data": {
      "text/html": [
       "<pre style=\"white-space:pre;overflow-x:auto;line-height:normal;font-family:Menlo,'DejaVu Sans Mono',consolas,'Courier New',monospace\">Public URL: <span style=\"color: #0000ff; text-decoration-color: #0000ff; text-decoration: underline\">https://ee06-83-33-227-209.ngrok-free.app</span>\n",
       "</pre>\n"
      ],
      "text/plain": [
       "Public URL: \u001b[4;94mhttps://ee06-83-33-227-209.ngrok-free.app\u001b[0m\n"
      ]
     },
     "metadata": {},
     "output_type": "display_data"
    },
    {
     "data": {
      "text/html": [
       "\n",
       "<div style=\"font-size: 13pt;\" id=\"ngrokFramec604ad1d-b2f0-4431-a5f7-4b5d74e7cf68\">\n",
       "  <div style=\"background-color: aliceblue;\">\n",
       "    <p><b>Ngrok</b> displays a <b>warning page</b> as a security measure to prevent unintentional access to your local servers. This page requires you to <b>confirm</b> that you wish to proceed to the content.</p>\n",
       "    <p style=\"font-weight: bold;\">Please review the <em>ngrok</em> warning page displayed below. If prompted, click '<b>Visit Page</b>' to proceed.</p>\n",
       "    Don't worry if you see a <b>404</b> or <b>403</b> error. Then, you can click the '<b>Close</b>' button below to hide this section.</p>\n",
       "  </div>\n",
       "    <iframe src=\"https://ee06-83-33-227-209.ngrok-free.app/images/pcleaner.png\" width=\"100%\" height=\"600px\" style=\"border:none;\"></iframe>\n",
       "    <button onclick=\"document.getElementById('ngrokFramec604ad1d-b2f0-4431-a5f7-4b5d74e7cf68').innerHTML='';\">Close</button>\n",
       "</div>\n"
      ],
      "text/plain": [
       "<IPython.core.display.HTML object>"
      ]
     },
     "metadata": {},
     "output_type": "display_data"
    },
    {
     "name": "stderr",
     "output_type": "stream",
     "text": [
      "127.0.0.1 - - [21/May/2024 15:25:42] \"GET /images/pcleaner.png HTTP/1.1\" 200 17709\n",
      "127.0.0.1 - - [21/May/2024 15:25:51] \"GET /images/cache/Strange_Tales_172005/.crop/Strange_Tales_172005_0_Default.png HTTP/1.1\" 200 137784\n",
      "127.0.0.1 - - [21/May/2024 15:26:06] \"GET /images/cache/Strange_Tales_172005/.crop/Strange_Tales_172005_0_Initial%20box.png HTTP/1.1\" 200 132011\n",
      "127.0.0.1 - - [21/May/2024 15:26:30] \"GET /images/cache/Strange_Tales_172005/.crop/Strange_Tales_172005_1_Initial%20box.png HTTP/1.1\" 200 102223\n",
      "127.0.0.1 - - [21/May/2024 15:26:33] \"GET /images/cache/Strange_Tales_172005/.crop/Strange_Tales_172005_2_Initial%20box.png HTTP/1.1\" 200 41398\n",
      "127.0.0.1 - - [21/May/2024 15:26:47] \"GET /images/cache/Strange_Tales_172005/.crop/Strange_Tales_172005_3_Initial%20box.png HTTP/1.1\" 200 21597\n",
      "t=2024-05-21T15:26:47+0200 lvl=warn msg=\"failed to open private leg\" id=17810d8962eb privaddr=localhost:56636 err=\"dial tcp 127.0.0.1:56636: connect: connection reset by peer\"\n",
      "127.0.0.1 - - [21/May/2024 15:26:47] \"GET /images/cache/Strange_Tales_172005/.crop/Strange_Tales_172005_13_Initial%20box.png HTTP/1.1\" 200 30355\n",
      "127.0.0.1 - - [21/May/2024 15:26:47] \"GET /images/cache/Strange_Tales_172005/.crop/Strange_Tales_172005_8_Initial%20box.png HTTP/1.1\" 200 70933\n",
      "127.0.0.1 - - [21/May/2024 15:26:47] \"GET /images/cache/Strange_Tales_172005/.crop/Strange_Tales_172005_10_Initial%20box.png HTTP/1.1\" 200 35721\n",
      "127.0.0.1 - - [21/May/2024 15:26:47] \"GET /images/cache/Strange_Tales_172005/.crop/Strange_Tales_172005_14_Initial%20box.png HTTP/1.1\" 200 31509\n",
      "127.0.0.1 - - [21/May/2024 15:26:47] \"GET /images/cache/Strange_Tales_172005/.crop/Strange_Tales_172005_7_Initial%20box.png HTTP/1.1\" 200 55864\n",
      "127.0.0.1 - - [21/May/2024 15:27:08] \"GET /images/cache/Strange_Tales_172005/Strange_Tales_172005_boxes.png HTTP/1.1\" 200 5827791\n",
      "127.0.0.1 - - [21/May/2024 15:27:28] \"GET /images/cache/Strange_Tales_172005/Strange_Tales_172005.png HTTP/1.1\" 200 6141258\n",
      "127.0.0.1 - - [21/May/2024 15:27:45] \"GET /images/cache/Strange_Tales_172005/Strange_Tales_172005_mask.png HTTP/1.1\" 200 43593\n",
      "t=2024-05-21T15:29:04+0200 lvl=warn msg=\"Stopping forwarder\" name=http-56636-a6d680df-9db1-4002-8a90-6091610177ce acceptErr=\"failed to accept connection: Listener closed\"\n"
     ]
    }
   ],
   "source": [
    "if (os.environ['USE_PIL'].lower() == 'false') and os.environ['USE_TUNNEL'].lower() == 'true':\n",
    "    SERVER = web_server.setup_ngrok(web_server.WebServerBottle, Path(EXP_DIR))\n"
   ]
  },
  {
   "cell_type": "code",
   "execution_count": 13,
   "metadata": {},
   "outputs": [
    {
     "data": {
      "text/html": [
       "<pre style=\"white-space:pre;overflow-x:auto;line-height:normal;font-family:Menlo,'DejaVu Sans Mono',consolas,'Courier New',monospace\">CONTEXT.<span style=\"color: #808000; text-decoration-color: #808000\">force_PIL</span>=<span style=\"color: #ff0000; text-decoration-color: #ff0000; font-style: italic\">False</span>, CONTEXT.<span style=\"color: #808000; text-decoration-color: #808000\">use_tunnel</span>=<span style=\"color: #00ff00; text-decoration-color: #00ff00; font-style: italic\">True</span>, \n",
       "CONTEXT.<span style=\"color: #808000; text-decoration-color: #808000\">server</span>=<span style=\"font-weight: bold\">&lt;</span><span style=\"color: #ff00ff; text-decoration-color: #ff00ff; font-weight: bold\">pcleaner._testbed.testbed.web_server.WebServerBottle</span><span style=\"color: #000000; text-decoration-color: #000000\"> object at </span><span style=\"color: #008080; text-decoration-color: #008080; font-weight: bold\">0x30981bdc0</span><span style=\"font-weight: bold\">&gt;</span>\n",
       "</pre>\n"
      ],
      "text/plain": [
       "CONTEXT.\u001b[33mforce_PIL\u001b[0m=\u001b[3;91mFalse\u001b[0m, CONTEXT.\u001b[33muse_tunnel\u001b[0m=\u001b[3;92mTrue\u001b[0m, \n",
       "CONTEXT.\u001b[33mserver\u001b[0m=\u001b[1m<\u001b[0m\u001b[1;95mpcleaner._testbed.testbed.web_server.WebServerBottle\u001b[0m\u001b[39m object at \u001b[0m\u001b[1;36m0x30981bdc0\u001b[0m\u001b[1m>\u001b[0m\n"
      ]
     },
     "metadata": {},
     "output_type": "display_data"
    }
   ],
   "source": [
    "CONTEXT = OCRExperimentContext('Tesseract', server=SERVER)\n",
    "cprint(\n",
    "    f\"{CONTEXT.force_PIL=}, \"\n",
    "    f\"{CONTEXT.use_tunnel=}, \"\n",
    "    f\"{CONTEXT.server=}\")\n",
    "\n"
   ]
  },
  {
   "cell_type": "code",
   "execution_count": 14,
   "metadata": {},
   "outputs": [
    {
     "data": {
      "text/html": [
       "<pre style=\"white-space:pre;overflow-x:auto;line-height:normal;font-family:Menlo,'DejaVu Sans Mono',consolas,'Courier New',monospace\"><span style=\"font-weight: bold\">&lt;</span><span style=\"color: #ff00ff; text-decoration-color: #ff00ff; font-weight: bold\">img</span><span style=\"color: #000000; text-decoration-color: #000000\"> </span>\n",
       "<span style=\"color: #808000; text-decoration-color: #808000\">src</span><span style=\"color: #000000; text-decoration-color: #000000\">=</span><span style=\"color: #008000; text-decoration-color: #008000\">\"//ee06-83-33-227-209.ngrok-free.app/images/cache/Strange_Tales_172005/.crop/Strange_Tales_172005_0_</span>\n",
       "<span style=\"color: #008000; text-decoration-color: #008000\">Default.png\"</span><span style=\"color: #800080; text-decoration-color: #800080\">/</span><span style=\"font-weight: bold\">&gt;</span>\n",
       "</pre>\n"
      ],
      "text/plain": [
       "\u001b[1m<\u001b[0m\u001b[1;95mimg\u001b[0m\u001b[39m \u001b[0m\n",
       "\u001b[33msrc\u001b[0m\u001b[39m=\u001b[0m\u001b[32m\"//ee06-83-33-227-209.ngrok-free.app/images/cache/Strange_Tales_172005/.crop/Strange_Tales_172005_0_\u001b[0m\n",
       "\u001b[32mDefault.png\"\u001b[0m\u001b[35m/\u001b[0m\u001b[1m>\u001b[0m\n"
      ]
     },
     "metadata": {},
     "output_type": "display_data"
    },
    {
     "data": {
      "text/html": [
       "<img src=\"//ee06-83-33-227-209.ngrok-free.app/images/cache/Strange_Tales_172005/.crop/Strange_Tales_172005_0_Default.png\"/>"
      ],
      "text/plain": [
       "<IPython.core.display.HTML object>"
      ]
     },
     "metadata": {},
     "output_type": "display_data"
    }
   ],
   "source": [
    "context: OCRExperimentContext\n",
    "if SERVER is not None:\n",
    "    assert SERVER.unc_share is not None and SERVER.running\n",
    "    context = OCRExperimentContext('Tesseract')\n",
    "    result = context.result('Tesseract-crop-post', 20, 0, CropMethod.DEFAULT, False)\n",
    "    public_url: Path = SERVER.unc_share\n",
    "    img_path = 'cache/Strange_Tales_172005/.crop/Strange_Tales_172005_0_Default.png'\n",
    "    cprint(f'<img src=\"{public_url}/{img_path}\"/>')\n",
    "    display(HTML(f'<img src=\"{public_url}/{img_path}\"/>'))\n"
   ]
  },
  {
   "cell_type": "markdown",
   "metadata": {},
   "source": [
    "We'll use this little helper function throughout the experiments to get the local path, a server url or a PIL image.\n"
   ]
  },
  {
   "cell_type": "code",
   "execution_count": 15,
   "metadata": {},
   "outputs": [
    {
     "data": {
      "text/html": [
       "<pre style=\"white-space:pre;overflow-x:auto;line-height:normal;font-family:Menlo,'DejaVu Sans Mono',consolas,'Courier New',monospace\"><span style=\"color: #808000; text-decoration-color: #808000\">p</span>=<span style=\"color: #800080; text-decoration-color: #800080; font-weight: bold\">Path</span><span style=\"font-weight: bold\">(</span><span style=\"color: #008000; text-decoration-color: #008000\">'source/Adolf_Cap_01_008.jpg'</span><span style=\"font-weight: bold\">)</span>\n",
       "</pre>\n"
      ],
      "text/plain": [
       "\u001b[33mp\u001b[0m=\u001b[1;35mPath\u001b[0m\u001b[1m(\u001b[0m\u001b[32m'source/Adolf_Cap_01_008.jpg'\u001b[0m\u001b[1m)\u001b[0m\n"
      ]
     },
     "metadata": {},
     "output_type": "display_data"
    },
    {
     "data": {
      "text/html": [
       "<pre style=\"white-space:pre;overflow-x:auto;line-height:normal;font-family:Menlo,'DejaVu Sans Mono',consolas,'Courier New',monospace\">force_PIL: <span style=\"color: #ff0000; text-decoration-color: #ff0000; font-style: italic\">False</span>, use_tunnel: <span style=\"color: #ff0000; text-decoration-color: #ff0000; font-style: italic\">False</span> =&gt; DI: <span style=\"color: #800080; text-decoration-color: #800080; font-weight: bold\">Path</span><span style=\"font-weight: bold\">(</span><span style=\"color: #008000; text-decoration-color: #008000\">'../experiment/source/Adolf_Cap_01_008.jpg'</span><span style=\"font-weight: bold\">)</span>\n",
       "</pre>\n"
      ],
      "text/plain": [
       "force_PIL: \u001b[3;91mFalse\u001b[0m, use_tunnel: \u001b[3;91mFalse\u001b[0m => DI: \u001b[1;35mPath\u001b[0m\u001b[1m(\u001b[0m\u001b[32m'../experiment/source/Adolf_Cap_01_008.jpg'\u001b[0m\u001b[1m)\u001b[0m\n"
      ]
     },
     "metadata": {},
     "output_type": "display_data"
    },
    {
     "data": {
      "text/html": [
       "<pre style=\"white-space:pre;overflow-x:auto;line-height:normal;font-family:Menlo,'DejaVu Sans Mono',consolas,'Courier New',monospace\">force_PIL: <span style=\"color: #ff0000; text-decoration-color: #ff0000; font-style: italic\">False</span>, use_tunnel: <span style=\"color: #00ff00; text-decoration-color: #00ff00; font-style: italic\">True</span> =&gt; DI: \n",
       "<span style=\"color: #800080; text-decoration-color: #800080; font-weight: bold\">Path</span><span style=\"font-weight: bold\">(</span><span style=\"color: #008000; text-decoration-color: #008000\">'//ee06-83-33-227-209.ngrok-free.app/images/source/Adolf_Cap_01_008.jpg'</span><span style=\"font-weight: bold\">)</span>\n",
       "</pre>\n"
      ],
      "text/plain": [
       "force_PIL: \u001b[3;91mFalse\u001b[0m, use_tunnel: \u001b[3;92mTrue\u001b[0m => DI: \n",
       "\u001b[1;35mPath\u001b[0m\u001b[1m(\u001b[0m\u001b[32m'//ee06-83-33-227-209.ngrok-free.app/images/source/Adolf_Cap_01_008.jpg'\u001b[0m\u001b[1m)\u001b[0m\n"
      ]
     },
     "metadata": {},
     "output_type": "display_data"
    },
    {
     "data": {
      "text/html": [
       "<pre style=\"white-space:pre;overflow-x:auto;line-height:normal;font-family:Menlo,'DejaVu Sans Mono',consolas,'Courier New',monospace\">force_PIL: <span style=\"color: #00ff00; text-decoration-color: #00ff00; font-style: italic\">True</span>, use_tunnel: <span style=\"color: #ff0000; text-decoration-color: #ff0000; font-style: italic\">False</span> =&gt; DI: <span style=\"font-weight: bold\">&lt;</span><span style=\"color: #ff00ff; text-decoration-color: #ff00ff; font-weight: bold\">class</span><span style=\"color: #000000; text-decoration-color: #000000\"> </span><span style=\"color: #008000; text-decoration-color: #008000\">'PIL.JpegImagePlugin.JpegImageFile'</span><span style=\"font-weight: bold\">&gt;</span>\n",
       "</pre>\n"
      ],
      "text/plain": [
       "force_PIL: \u001b[3;92mTrue\u001b[0m, use_tunnel: \u001b[3;91mFalse\u001b[0m => DI: \u001b[1m<\u001b[0m\u001b[1;95mclass\u001b[0m\u001b[39m \u001b[0m\u001b[32m'PIL.JpegImagePlugin.JpegImageFile'\u001b[0m\u001b[1m>\u001b[0m\n"
      ]
     },
     "metadata": {},
     "output_type": "display_data"
    },
    {
     "data": {
      "text/html": [
       "<pre style=\"white-space:pre;overflow-x:auto;line-height:normal;font-family:Menlo,'DejaVu Sans Mono',consolas,'Courier New',monospace\">force_PIL: <span style=\"color: #00ff00; text-decoration-color: #00ff00; font-style: italic\">True</span>, use_tunnel: <span style=\"color: #00ff00; text-decoration-color: #00ff00; font-style: italic\">True</span> =&gt; DI: <span style=\"font-weight: bold\">&lt;</span><span style=\"color: #ff00ff; text-decoration-color: #ff00ff; font-weight: bold\">class</span><span style=\"color: #000000; text-decoration-color: #000000\"> </span><span style=\"color: #008000; text-decoration-color: #008000\">'PIL.JpegImagePlugin.JpegImageFile'</span><span style=\"font-weight: bold\">&gt;</span>\n",
       "</pre>\n"
      ],
      "text/plain": [
       "force_PIL: \u001b[3;92mTrue\u001b[0m, use_tunnel: \u001b[3;92mTrue\u001b[0m => DI: \u001b[1m<\u001b[0m\u001b[1;95mclass\u001b[0m\u001b[39m \u001b[0m\u001b[32m'PIL.JpegImagePlugin.JpegImageFile'\u001b[0m\u001b[1m>\u001b[0m\n"
      ]
     },
     "metadata": {},
     "output_type": "display_data"
    }
   ],
   "source": [
    "_BCK = CONTEXT.force_PIL, CONTEXT.use_tunnel\n",
    "DI = CONTEXT.display_image\n",
    "\n",
    "p = CONTEXT.path_from_idx('Adolf_Cap_01_008.jpg')\n",
    "cprint(f\"{p=}\")\n",
    "\n",
    "CONTEXT.force_PIL, CONTEXT.use_tunnel = False, False\n",
    "try: \n",
    "    test_eq(DI(p),  CONTEXT.final(p))\n",
    "    cprint(f\"force_PIL: {CONTEXT.force_PIL}, use_tunnel: {CONTEXT.use_tunnel} => DI: {DI(p)!r}\")\n",
    "except Exception as e: cprint('Error:', e)\n",
    "\n",
    "CONTEXT.force_PIL, CONTEXT.use_tunnel = False, True\n",
    "try: \n",
    "    assert SERVER and SERVER.unc_share\n",
    "    prefix = SERVER.unc_share if SERVER else ''\n",
    "    test_eq(DI(p),  prefix/p)\n",
    "    cprint(f\"force_PIL: {CONTEXT.force_PIL}, use_tunnel: {CONTEXT.use_tunnel} => DI: {DI(p)!r}\")\n",
    "except Exception as e: cprint('Error:', e)\n",
    "\n",
    "CONTEXT.force_PIL, CONTEXT.use_tunnel = True, False\n",
    "try: \n",
    "    test_eq(isinstance(DI(p), Image.Image), True)\n",
    "    cprint(f\"force_PIL: {CONTEXT.force_PIL}, use_tunnel: {CONTEXT.use_tunnel} => DI: {type(DI(p))}\")\n",
    "except Exception as e: cprint('Error:', e)\n",
    "\n",
    "CONTEXT.force_PIL, CONTEXT.use_tunnel = True, True\n",
    "try: \n",
    "    test_eq(isinstance(DI(p), Image.Image), True)\n",
    "    cprint(f\"force_PIL: {CONTEXT.force_PIL}, use_tunnel: {CONTEXT.use_tunnel} => DI: {type(DI(p))}\")\n",
    "except Exception as e: cprint('Error:', e)\n",
    "\n",
    "CONTEXT.force_PIL, CONTEXT.use_tunnel = _BCK\n"
   ]
  },
  {
   "cell_type": "code",
   "execution_count": 16,
   "metadata": {},
   "outputs": [
    {
     "data": {
      "text/html": [
       "<pre style=\"white-space:pre;overflow-x:auto;line-height:normal;font-family:Menlo,'DejaVu Sans Mono',consolas,'Courier New',monospace\">force_PIL: <span style=\"color: #ff0000; text-decoration-color: #ff0000; font-style: italic\">False</span>, use_tunnel: <span style=\"color: #00ff00; text-decoration-color: #00ff00; font-style: italic\">True</span>\n",
       "</pre>\n"
      ],
      "text/plain": [
       "force_PIL: \u001b[3;91mFalse\u001b[0m, use_tunnel: \u001b[3;92mTrue\u001b[0m\n"
      ]
     },
     "metadata": {},
     "output_type": "display_data"
    },
    {
     "data": {
      "text/html": [
       "<pre style=\"white-space:pre;overflow-x:auto;line-height:normal;font-family:Menlo,'DejaVu Sans Mono',consolas,'Courier New',monospace\"><span style=\"color: #808000; text-decoration-color: #808000\">result_img</span>=<span style=\"color: #800080; text-decoration-color: #800080; font-weight: bold\">Path</span><span style=\"font-weight: bold\">(</span><span style=\"color: #008000; text-decoration-color: #008000\">'cache/Strange_Tales_172005/.crop/Strange_Tales_172005_0_Default.png'</span><span style=\"font-weight: bold\">)</span>\n",
       "</pre>\n"
      ],
      "text/plain": [
       "\u001b[33mresult_img\u001b[0m=\u001b[1;35mPath\u001b[0m\u001b[1m(\u001b[0m\u001b[32m'cache/Strange_Tales_172005/.crop/Strange_Tales_172005_0_Default.png'\u001b[0m\u001b[1m)\u001b[0m\n"
      ]
     },
     "metadata": {},
     "output_type": "display_data"
    },
    {
     "data": {
      "text/html": [
       "<pre style=\"white-space:pre;overflow-x:auto;line-height:normal;font-family:Menlo,'DejaVu Sans Mono',consolas,'Courier New',monospace\">result_final_img = \n",
       "<span style=\"color: #800080; text-decoration-color: #800080; font-weight: bold\">Path</span><span style=\"font-weight: bold\">(</span><span style=\"color: #008000; text-decoration-color: #008000\">'../experiment/cache/Strange_Tales_172005/.crop/Strange_Tales_172005_0_Default.png'</span><span style=\"font-weight: bold\">)</span>\n",
       "</pre>\n"
      ],
      "text/plain": [
       "result_final_img = \n",
       "\u001b[1;35mPath\u001b[0m\u001b[1m(\u001b[0m\u001b[32m'../experiment/cache/Strange_Tales_172005/.crop/Strange_Tales_172005_0_Default.png'\u001b[0m\u001b[1m)\u001b[0m\n"
      ]
     },
     "metadata": {},
     "output_type": "display_data"
    },
    {
     "data": {
      "text/html": [
       "<pre style=\"white-space:pre;overflow-x:auto;line-height:normal;font-family:Menlo,'DejaVu Sans Mono',consolas,'Courier New',monospace\">display_image = \n",
       "<span style=\"color: #800080; text-decoration-color: #800080; font-weight: bold\">Path</span><span style=\"font-weight: bold\">(</span><span style=\"color: #008000; text-decoration-color: #008000\">'//ee06-83-33-227-209.ngrok-free.app/images/cache/Strange_Tales_172005/.crop/Strange_Tales_172005_0</span>\n",
       "<span style=\"color: #008000; text-decoration-color: #008000\">_Default.png'</span><span style=\"font-weight: bold\">)</span>\n",
       "</pre>\n"
      ],
      "text/plain": [
       "display_image = \n",
       "\u001b[1;35mPath\u001b[0m\u001b[1m(\u001b[0m\u001b[32m'//ee06-83-33-227-209.ngrok-free.app/images/cache/Strange_Tales_172005/.crop/Strange_Tales_172005_0\u001b[0m\n",
       "\u001b[32m_Default.png'\u001b[0m\u001b[1m)\u001b[0m\n"
      ]
     },
     "metadata": {},
     "output_type": "display_data"
    },
    {
     "data": {
      "text/html": [
       "<img src=\"//ee06-83-33-227-209.ngrok-free.app/images/cache/Strange_Tales_172005/.crop/Strange_Tales_172005_0_Default.png\"/>"
      ],
      "text/plain": [
       "<IPython.core.display.HTML object>"
      ]
     },
     "metadata": {},
     "output_type": "display_data"
    }
   ],
   "source": [
    "cprint(f\"force_PIL: {CONTEXT.force_PIL}, use_tunnel: {CONTEXT.use_tunnel}\")\n",
    "\n",
    "result_img = CONTEXT.cache_dir / 'Strange_Tales_172005/.crop/Strange_Tales_172005_0_Default.png'\n",
    "cprint(f\"{result_img=}\")\n",
    "\n",
    "result_final_img = CONTEXT.final(result_img)\n",
    "cprint(f\"{result_final_img = }\")\n",
    "\n",
    "display_image = CONTEXT.DI(result_img)\n",
    "cprint(f\"{display_image = }\") if not CONTEXT.force_PIL else cprint(f\"{type(display_image) = }\")\n",
    "display(HTML(f'<img src=\"{display_image}\"/>'))\n"
   ]
  },
  {
   "cell_type": "markdown",
   "metadata": {},
   "source": [
    "# EEAaO\n"
   ]
  },
  {
   "cell_type": "markdown",
   "metadata": {},
   "source": [
    "## Visualize all"
   ]
  },
  {
   "cell_type": "code",
   "execution_count": 17,
   "metadata": {},
   "outputs": [
    {
     "data": {
      "application/vnd.jupyter.widget-view+json": {
       "model_id": "e5ae93890f9c49ccb19d40546fdda682",
       "version_major": 2,
       "version_minor": 0
      },
      "text/plain": [
       "VBox(children=(HBox(children=(HBox(children=(HBox(children=(Dropdown(layout=Layout(width='fit-content'), optio…"
      ]
     },
     "metadata": {},
     "output_type": "display_data"
    },
    {
     "data": {
      "application/vnd.jupyter.widget-view+json": {
       "model_id": "9c6b62aaee414b18b873e0b9b4a77242",
       "version_major": 2,
       "version_minor": 0
      },
      "text/plain": [
       "Output()"
      ]
     },
     "metadata": {},
     "output_type": "display_data"
    }
   ],
   "source": [
    "tesseract_experiment = ExperimentsVisor(CONTEXT, image_idx='Strange_Tales_172005.jpg')\n",
    "tesseract_experiment.display()\n"
   ]
  },
  {
   "cell_type": "markdown",
   "metadata": {},
   "source": [
    "# -\n",
    "----\n"
   ]
  },
  {
   "cell_type": "code",
   "execution_count": 18,
   "metadata": {},
   "outputs": [
    {
     "data": {
      "text/html": [
       "<pre style=\"white-space:pre;overflow-x:auto;line-height:normal;font-family:Menlo,'DejaVu Sans Mono',consolas,'Courier New',monospace\">Ngrok tunnel disconnected\n",
       "</pre>\n"
      ],
      "text/plain": [
       "Ngrok tunnel disconnected\n"
      ]
     },
     "metadata": {},
     "output_type": "display_data"
    },
    {
     "name": "stdout",
     "output_type": "stream",
     "text": [
      "Thread did not terminate, proceeding with forceful shutdown.\n"
     ]
    },
    {
     "data": {
      "text/html": [
       "<pre style=\"white-space:pre;overflow-x:auto;line-height:normal;font-family:Menlo,'DejaVu Sans Mono',consolas,'Courier New',monospace\">Server stopped\n",
       "</pre>\n"
      ],
      "text/plain": [
       "Server stopped\n"
      ]
     },
     "metadata": {},
     "output_type": "display_data"
    }
   ],
   "source": [
    "if SERVER is not None:\n",
    "    SERVER.stop()\n",
    "    SERVER = None\n",
    "    os.environ['USE_TUNNEL'] = 'False'\n"
   ]
  }
 ],
 "metadata": {
  "kernelspec": {
   "display_name": "Python 3 (ipykernel)",
   "language": "python",
   "name": "python3"
  },
  "language_info": {
   "codemirror_mode": {
    "name": "ipython",
    "version": 3
   },
   "file_extension": ".py",
   "mimetype": "text/x-python",
   "name": "python",
   "nbconvert_exporter": "python",
   "pygments_lexer": "ipython3",
   "version": "3.10.14"
  }
 },
 "nbformat": 4,
 "nbformat_minor": 4
}

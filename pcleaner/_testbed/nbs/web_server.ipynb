{
 "cells": [
  {
   "cell_type": "code",
   "execution_count": null,
   "metadata": {},
   "outputs": [],
   "source": [
    "#| default_exp testbed/web_server"
   ]
  },
  {
   "cell_type": "code",
   "execution_count": null,
   "metadata": {},
   "outputs": [],
   "source": [
    "#| export\n",
    "\n",
    "from __future__ import annotations\n"
   ]
  },
  {
   "cell_type": "code",
   "execution_count": null,
   "metadata": {},
   "outputs": [],
   "source": [
    "#| hide\n",
    "# %reload_ext autoreload\n",
    "# %autoreload 0\n"
   ]
  },
  {
   "cell_type": "markdown",
   "metadata": {},
   "source": [
    "# install (Colab)"
   ]
  },
  {
   "cell_type": "code",
   "execution_count": null,
   "metadata": {},
   "outputs": [],
   "source": [
    "MOUNT_DRIVE = True\n",
    "DEV_INSTALL = True\n",
    "GDRIVE_MOUNT_POINT = 'drive'\n"
   ]
  },
  {
   "cell_type": "code",
   "execution_count": null,
   "metadata": {},
   "outputs": [],
   "source": [
    "import os\n",
    "from pathlib import Path\n",
    "import fastcore.all as FC\n",
    "from rich import print as cprint\n",
    "from rich.text import Text\n",
    "\n",
    "def info(msg: str):\n",
    "    text = Text(msg)\n",
    "    text.stylize(\"bold red\", 0, 6)\n",
    "    cprint(\"_\" * 10, text, \"_\" * 10)\n",
    "\n",
    "\n",
    "if FC.IN_COLAB:\n",
    "    if MOUNT_DRIVE:\n",
    "        mnt_point = f\"/content/{GDRIVE_MOUNT_POINT}\"\n",
    "        if not Path(mnt_point).exists():\n",
    "            info(\"Mounting Google Drive\")\n",
    "            from google.colab import drive\n",
    "\n",
    "            drive.mount(mnt_point, force_remount=True)\n"
   ]
  },
  {
   "cell_type": "markdown",
   "metadata": {},
   "source": [
    "Colab has issues with PanelClenar PIL version.: uninstall Colab one, restart wen prompted and rerun from the top.\n"
   ]
  },
  {
   "cell_type": "code",
   "execution_count": null,
   "metadata": {},
   "outputs": [],
   "source": [
    "if FC.IN_COLAB:\n",
    "    from packaging import version\n",
    "    import PIL\n",
    "    pil_version = version.parse(PIL.__version__)\n",
    "    if pil_version < version.parse(\"10\"):\n",
    "        info('Uninstalling Pillow')\n",
    "        !pip uninstall Pillow\n",
    "        info('Installing Pillow')\n",
    "        !pip install Pillow\n"
   ]
  },
  {
   "cell_type": "code",
   "execution_count": null,
   "metadata": {},
   "outputs": [],
   "source": [
    "if FC.IN_COLAB:\n",
    "    info('Installing PanelCleaner')\n",
    "    if DEV_INSTALL:\n",
    "        assert MOUNT_DRIVE, \"DEV_INSTALL need a mounted google drive drive\"\n",
    "        info('Installing PanelCleaner from Google Drive')\n",
    "        os.chdir('/content/drive/MyDrive/Shared/PanelCleaner/')\n",
    "        !pip install -e .\n",
    "    else:\n",
    "        info('Installing PanelCleaner from Github')\n",
    "        !pip install -q git+https://github.com/civvic/PanelCleaner.git@testbed-colab\n"
   ]
  },
  {
   "cell_type": "code",
   "execution_count": null,
   "metadata": {},
   "outputs": [],
   "source": [
    "if FC.IN_COLAB:\n",
    "    info('Installing PanelCleaner Colab requirements')\n",
    "    import importlib.resources\n",
    "    if DEV_INSTALL:\n",
    "        os.chdir('pcleaner/_testbed')\n",
    "    \n",
    "    try:\n",
    "        package_path = importlib.resources.files('pcleaner')\n",
    "        info('Installing PanelCleaner testbed requirements')\n",
    "        p = (Path(package_path)/'_testbed/requirements-colab.txt')\n",
    "        if p.exists():\n",
    "            !pip install -r {p}\n",
    "        else:\n",
    "            print(f\"colab requirements {p} not found\")\n",
    "    except Exception:\n",
    "        info(\"Couldn't install PanelCleaner Colab requirements\")\n"
   ]
  },
  {
   "cell_type": "markdown",
   "metadata": {},
   "source": [
    "# Basic web server for serving images from Google Drive\n"
   ]
  },
  {
   "cell_type": "markdown",
   "metadata": {},
   "source": [
    "# Prologue"
   ]
  },
  {
   "cell_type": "code",
   "execution_count": null,
   "metadata": {},
   "outputs": [],
   "source": [
    "#| export\n",
    "import getpass\n",
    "import http.server\n",
    "import os\n",
    "import signal\n",
    "import socketserver\n",
    "import threading\n",
    "import uuid\n",
    "from http import HTTPStatus\n",
    "from pathlib import Path\n",
    "from typing import Protocol\n",
    "\n",
    "import portpicker\n",
    "import psutil\n",
    "import requests\n",
    "import rich\n",
    "from IPython.display import display\n",
    "from IPython.display import HTML\n",
    "from loguru import logger\n",
    "from pyngrok import conf\n",
    "from pyngrok import ngrok\n",
    "from rich.console import Console\n"
   ]
  },
  {
   "cell_type": "code",
   "execution_count": null,
   "metadata": {},
   "outputs": [],
   "source": [
    "#| exporti\n",
    "from pcleaner._testbed.testbed.bottle import Bottle\n",
    "from pcleaner._testbed.testbed.bottle import HTTPError\n",
    "from pcleaner._testbed.testbed.bottle import response\n",
    "from pcleaner._testbed.testbed.bottle import run\n",
    "from pcleaner._testbed.testbed.bottle import static_file\n"
   ]
  },
  {
   "cell_type": "code",
   "execution_count": null,
   "metadata": {},
   "outputs": [],
   "source": [
    "import fastcore.all as FC\n",
    "import fastcore.xtras  # patch Path with some utils\n",
    "from fastcore.test import *  # type: ignore\n",
    "\n",
    "import  pcleaner._testbed.testbed.bottle as bottle\n"
   ]
  },
  {
   "cell_type": "markdown",
   "metadata": {},
   "source": [
    "# Helpers"
   ]
  },
  {
   "cell_type": "code",
   "execution_count": null,
   "metadata": {},
   "outputs": [],
   "source": [
    "# pretty print by default\n",
    "# %load_ext rich"
   ]
  },
  {
   "cell_type": "code",
   "execution_count": null,
   "metadata": {},
   "outputs": [],
   "source": [
    "#| exporti\n",
    "console = Console(width=104, tab_size=4, force_jupyter=True)\n",
    "cprint = console.print\n"
   ]
  },
  {
   "cell_type": "code",
   "execution_count": null,
   "metadata": {},
   "outputs": [],
   "source": [
    "#| export\n",
    "\n",
    "def display_ngrok_warning(url):\n",
    "    did = 'ngrokFrame' + str(uuid.uuid4())\n",
    "    html_code = f\"\"\"\n",
    "<div style=\"font-size: 13pt;\" id=\"{did}\">\n",
    "  <div style=\"background-color: aliceblue;\">\n",
    "    <p><b>Ngrok</b> displays a <b>warning page</b> as a security measure to prevent unintentional access to your local servers. This page requires you to <b>confirm</b> that you wish to proceed to the content.</p>\n",
    "    <p style=\"font-weight: bold;\">Please review the <em>ngrok</em> warning page displayed below. If prompted, click '<b>Visit Page</b>' to proceed.</p>\n",
    "    Don't worry if you see a <b>404</b> or <b>403</b> error. Then, you can click the '<b>Close</b>' button below to hide this section.</p>\n",
    "  </div>\n",
    "    <iframe src=\"{url}\" width=\"100%\" height=\"600px\" style=\"border:none;\"></iframe>\n",
    "    <button onclick=\"document.getElementById('{did}').innerHTML='';\">Close</button>\n",
    "</div>\n",
    "\"\"\"\n",
    "\n",
    "    display(HTML(html_code))\n"
   ]
  },
  {
   "cell_type": "code",
   "execution_count": null,
   "metadata": {},
   "outputs": [],
   "source": [
    "#| export\n",
    "\n",
    "class WebServer(Protocol):\n",
    "    @property\n",
    "    def public_url(self) -> str | None: ...\n",
    "    @property\n",
    "    def unc_share(self) -> Path | None: ...\n",
    "    @property\n",
    "    def prefix(self) -> str: ...\n",
    "    @property\n",
    "    def running(self) -> bool: ...\n",
    "    def __init__(self, directory: Path | str = \"\"): ...\n",
    "    def start(self): ...\n",
    "    def stop(self): ...\n",
    "\n",
    "\n",
    "def setup_ngrok(server_cls: type[WebServer], images_dir: str | Path):\n",
    "    cprint(\n",
    "        \"Enter your ngrok authtoken, which can be copied from \"\n",
    "        \"https://dashboard.ngrok.com/get-started/your-authtoken\"\n",
    "    )\n",
    "    auth_token = getpass.getpass()\n",
    "    conf.get_default().auth_token = auth_token\n",
    "    ngrok.set_auth_token(auth_token)\n",
    "\n",
    "    server = server_cls(directory=str(images_dir))\n",
    "    try:\n",
    "        server.start()\n",
    "    except Exception as e:\n",
    "        cprint(f\"Error starting server: {e}\")\n",
    "        return None\n",
    "\n",
    "    display_ngrok_warning(f\"{server.public_url}/{server.prefix}/pcleaner.png\")\n",
    "    return server\n"
   ]
  },
  {
   "cell_type": "markdown",
   "metadata": {},
   "source": [
    "----"
   ]
  },
  {
   "cell_type": "markdown",
   "metadata": {},
   "source": [
    "Modify `cache_dir` path to point to the directory containing the images you want to serve\n"
   ]
  },
  {
   "cell_type": "code",
   "execution_count": null,
   "metadata": {},
   "outputs": [],
   "source": [
    "cache_dir = Path('../experiment/cache')\n",
    "test_eq(cache_dir.exists(), True)\n"
   ]
  },
  {
   "cell_type": "markdown",
   "metadata": {},
   "source": [
    "# WebServerStdlib\n",
    "> simple web server based on `http.server` and `ngrok` as reverse proxy\n"
   ]
  },
  {
   "cell_type": "code",
   "execution_count": null,
   "metadata": {},
   "outputs": [],
   "source": [
    "#| exporti\n",
    "\n",
    "class ImageHTTPRequestHandler(http.server.SimpleHTTPRequestHandler):\n",
    "    def end_headers(self):\n",
    "        for k,v in {\n",
    "                'ngrok-skip-browser-warning': 'true',\n",
    "                'User-Agent': 'MyCustomUserAgent/1.0',\n",
    "                'Cache-Control': 'public, max-age=86400'\n",
    "            }.items():\n",
    "            self.send_header(k, v)\n",
    "        super().end_headers()\n",
    "\n",
    "    def do_GET(self):\n",
    "        if self.is_image_request(self.path):\n",
    "            super().do_GET()\n",
    "        else:\n",
    "            self.send_error(HTTPStatus.FORBIDDEN, \"Only image files are accessible.\")\n",
    "\n",
    "    def is_image_request(self, path):\n",
    "        allowed_extensions = ('.jpg', '.jpeg', '.png', '.gif', '.webp')\n",
    "        _, ext = os.path.splitext(path)\n",
    "        return ext.lower() in allowed_extensions\n",
    "    \n",
    "    def __init__(self, *args, **kwargs):\n",
    "        super().__init__(*args, directory=self.directory, **kwargs)\n"
   ]
  },
  {
   "cell_type": "code",
   "execution_count": null,
   "metadata": {},
   "outputs": [],
   "source": [
    "#| export\n",
    "\n",
    "class WebServerStdlib:\n",
    "    \"\"\"\n",
    "    A simple web server for serving images from a local directory using http.server and ngrok.\n",
    "    \n",
    "    It is intended to be used in environments like Google Colab, where direct\n",
    "    web server hosting might not be feasible. It uses ngrok to allow images to be accessed \n",
    "    via a public URL.\n",
    "    \n",
    "    Attributes:\n",
    "        directory (str): The directory from which files are served.\n",
    "        port (int): The local port on which the server listens.\n",
    "        public_url (str): The ngrok public URL where the server is accessible.\n",
    "        tunnel (ngrok.NgrokTunnel): The ngrok tunnel object.\n",
    "    \n",
    "    Methods:\n",
    "        start(): Starts the web server and the ngrok tunnel.\n",
    "        stop(): Stops the web server and disconnects the ngrok tunnel.\n",
    "        make_request(path=\"/\"): Makes a request to the ngrok URL to fetch data from the server.\n",
    "    \"\"\"\n",
    "    \n",
    "    def __init__(self, directory: Path | str=\"\"):\n",
    "        port = portpicker.pick_unused_port()\n",
    "        self.port = port\n",
    "        if isinstance(directory, str): \n",
    "            directory = Path(directory)\n",
    "        assert directory.exists(), f\"Directory {directory} does not exist\"\n",
    "        self.directory = str(directory.resolve())\n",
    "        self.thread = None\n",
    "        self.httpd = None\n",
    "        self.public_url = None\n",
    "        self.prefix = ''\n",
    "        self.unc_share = None\n",
    "        self.tunnel = None\n",
    "\n",
    "    @property\n",
    "    def running(self):\n",
    "        return self.thread is not None and self.thread.is_alive()\n",
    "    \n",
    "    def start_server(self):\n",
    "        Handler = ImageHTTPRequestHandler \n",
    "        Handler.directory = self.directory\n",
    "        try:\n",
    "            with socketserver.TCPServer((\"\", self.port), Handler) as httpd:\n",
    "                self.httpd = httpd\n",
    "                httpd.serve_forever()\n",
    "        except OSError as e:\n",
    "            cprint(f\"Error: {e}\")\n",
    "\n",
    "    def start(self):\n",
    "        if self.thread is None or not self.thread.is_alive():\n",
    "            self.thread = threading.Thread(target=self.start_server)\n",
    "            self.thread.start()\n",
    "            self.tunnel = ngrok.connect(self.port)  # type: ignore\n",
    "            self.public_url = self.tunnel.public_url\n",
    "            if self.public_url is not None:\n",
    "                self.unc_share = Path(self.public_url.replace('https:', ''))\n",
    "            cprint(f\"ngrok tunnel: {self.tunnel}\")\n",
    "            cprint(f\"Public URL: {self.public_url}\")\n",
    "        else:\n",
    "            cprint(\"Server is already running\")\n",
    "\n",
    "    def stop(self):\n",
    "        if self.httpd:\n",
    "            self.httpd.shutdown()\n",
    "            self.httpd.server_close()\n",
    "        if self.tunnel and self.tunnel.public_url:\n",
    "            ngrok.disconnect(self.tunnel.public_url)  # Use the stored tunnel object's URL\n",
    "            cprint(\"Ngrok tunnel disconnected\")\n",
    "            ngrok.kill()\n",
    "        if self.thread:\n",
    "            self.thread.join()\n",
    "        self.thread = self.public_url = self.unc_share = None\n",
    "        cprint(\"Server stopped\")\n",
    "\n",
    "    def make_request(self, path=\"/\"):\n",
    "        \"\"\"Makes a request to the ngrok URL with headers to bypass the ngrok warning.\"\"\"\n",
    "        if self.public_url:\n",
    "            url = f\"{self.public_url}{path}\"\n",
    "            headers = {\n",
    "                \"ngrok-skip-browser-warning\": \"true\",\n",
    "                \"User-Agent\": \"MyCustomUserAgent/1.0\"\n",
    "            }\n",
    "            response = requests.get(url, headers=headers)\n",
    "            return response.text\n",
    "        else:\n",
    "            return \"Server not started or public URL not available.\"\n",
    "\n",
    "    def __enter__(self):\n",
    "        self.start()\n",
    "        return self\n",
    "\n",
    "    def __exit__(self, exc_type, exc_val, exc_tb):\n",
    "        self.stop()\n"
   ]
  },
  {
   "cell_type": "code",
   "execution_count": null,
   "metadata": {},
   "outputs": [
    {
     "data": {
      "text/plain": [
       "Path('../experiment/cache')"
      ]
     },
     "execution_count": null,
     "metadata": {},
     "output_type": "execute_result"
    }
   ],
   "source": [
    "serve_dir = cache_dir\n",
    "test_eq(serve_dir.exists(), True)\n",
    "serve_dir"
   ]
  },
  {
   "cell_type": "code",
   "execution_count": null,
   "metadata": {},
   "outputs": [
    {
     "data": {
      "text/html": [
       "<pre style=\"white-space:pre;overflow-x:auto;line-height:normal;font-family:Menlo,'DejaVu Sans Mono',consolas,'Courier New',monospace\">Enter your ngrok authtoken, which can be copied from \n",
       "<span style=\"color: #0000ff; text-decoration-color: #0000ff; text-decoration: underline\">https://dashboard.ngrok.com/get-started/your-authtoken</span>\n",
       "</pre>\n"
      ],
      "text/plain": [
       "Enter your ngrok authtoken, which can be copied from \n",
       "\u001b[4;94mhttps://dashboard.ngrok.com/get-started/your-authtoken\u001b[0m\n"
      ]
     },
     "metadata": {},
     "output_type": "display_data"
    },
    {
     "data": {
      "text/html": [
       "<pre style=\"white-space:pre;overflow-x:auto;line-height:normal;font-family:Menlo,'DejaVu Sans Mono',consolas,'Courier New',monospace\">ngrok tunnel: NgrokTunnel: <span style=\"color: #008000; text-decoration-color: #008000\">\"https://36a0-83-33-227-209.ngrok-free.app\"</span> -&gt; <span style=\"color: #008000; text-decoration-color: #008000\">\"http://localhost:55435\"</span>\n",
       "</pre>\n"
      ],
      "text/plain": [
       "ngrok tunnel: NgrokTunnel: \u001b[32m\"https://36a0-83-33-227-209.ngrok-free.app\"\u001b[0m -> \u001b[32m\"http://localhost:55435\"\u001b[0m\n"
      ]
     },
     "metadata": {},
     "output_type": "display_data"
    },
    {
     "data": {
      "text/html": [
       "<pre style=\"white-space:pre;overflow-x:auto;line-height:normal;font-family:Menlo,'DejaVu Sans Mono',consolas,'Courier New',monospace\">Public URL: <span style=\"color: #0000ff; text-decoration-color: #0000ff; text-decoration: underline\">https://36a0-83-33-227-209.ngrok-free.app</span>\n",
       "</pre>\n"
      ],
      "text/plain": [
       "Public URL: \u001b[4;94mhttps://36a0-83-33-227-209.ngrok-free.app\u001b[0m\n"
      ]
     },
     "metadata": {},
     "output_type": "display_data"
    },
    {
     "data": {
      "text/html": [
       "\n",
       "<div style=\"font-size: 13pt;\" id=\"ngrokFrame6525c2e6-1bbc-41c8-8f62-85e75e8222ab\">\n",
       "  <div style=\"background-color: aliceblue;\">\n",
       "    <p><b>Ngrok</b> displays a <b>warning page</b> as a security measure to prevent unintentional access to your local servers. This page requires you to <b>confirm</b> that you wish to proceed to the content.</p>\n",
       "    <p style=\"font-weight: bold;\">Please review the <em>ngrok</em> warning page displayed below. If prompted, click '<b>Visit Page</b>' to proceed.</p>\n",
       "    Don't worry if you see a <b>404</b> or <b>403</b> error. Then, you can click the '<b>Close</b>' button below to hide this section.</p>\n",
       "  </div>\n",
       "    <iframe src=\"https://36a0-83-33-227-209.ngrok-free.app//pcleaner.png\" width=\"100%\" height=\"600px\" style=\"border:none;\"></iframe>\n",
       "    <button onclick=\"document.getElementById('ngrokFrame6525c2e6-1bbc-41c8-8f62-85e75e8222ab').innerHTML='';\">Close</button>\n",
       "</div>\n"
      ],
      "text/plain": [
       "<IPython.core.display.HTML object>"
      ]
     },
     "metadata": {},
     "output_type": "display_data"
    },
    {
     "name": "stderr",
     "output_type": "stream",
     "text": [
      "127.0.0.1 - - [21/May/2024 13:22:26] \"GET //pcleaner.png HTTP/1.1\" 200 -\n",
      "127.0.0.1 - - [21/May/2024 13:22:46] \"GET /Strange_Tales_172005/.crop/Strange_Tales_172005_0_Default.png HTTP/1.1\" 200 -\n",
      "127.0.0.1 - - [21/May/2024 13:22:48] \"GET /Strange_Tales_172005/.crop/Strange_Tales_172005_1_Default.png HTTP/1.1\" 200 -\n",
      "t=2024-05-21T13:22:51+0200 lvl=warn msg=\"Stopping forwarder\" name=http-55435-1681ca10-634d-4a9f-b4c3-e9ae3c2b48e2 acceptErr=\"failed to accept connection: Listener closed\"\n"
     ]
    }
   ],
   "source": [
    "server = setup_ngrok(WebServerStdlib, serve_dir)\n"
   ]
  },
  {
   "cell_type": "code",
   "execution_count": null,
   "metadata": {},
   "outputs": [],
   "source": [
    "assert server is not None and server.public_url is not None\n",
    "public_url: str = server.public_url\n"
   ]
  },
  {
   "cell_type": "code",
   "execution_count": null,
   "metadata": {},
   "outputs": [],
   "source": [
    "img_path = 'Strange_Tales_172005/.crop/Strange_Tales_172005_0_Default.png'\n"
   ]
  },
  {
   "cell_type": "code",
   "execution_count": null,
   "metadata": {},
   "outputs": [
    {
     "data": {
      "text/plain": [
       "'<img src=\"https://36a0-83-33-227-209.ngrok-free.app/Strange_Tales_172005/.crop/Strange_Tales_172005_0_Default.png\"/>'"
      ]
     },
     "execution_count": null,
     "metadata": {},
     "output_type": "execute_result"
    }
   ],
   "source": [
    "f'<img src=\"{public_url}/{img_path}\"/>'"
   ]
  },
  {
   "cell_type": "code",
   "execution_count": null,
   "metadata": {},
   "outputs": [
    {
     "data": {
      "text/html": [
       "<img src=\"https://36a0-83-33-227-209.ngrok-free.app/Strange_Tales_172005/.crop/Strange_Tales_172005_0_Default.png\"/>"
      ],
      "text/plain": [
       "<IPython.core.display.HTML object>"
      ]
     },
     "metadata": {},
     "output_type": "display_data"
    }
   ],
   "source": [
    "display(HTML(f'<img src=\"{public_url}/{img_path}\"/>'))"
   ]
  },
  {
   "cell_type": "code",
   "execution_count": null,
   "metadata": {},
   "outputs": [
    {
     "data": {
      "text/html": [
       "<img src=\"https://36a0-83-33-227-209.ngrok-free.app/Strange_Tales_172005/.crop/Strange_Tales_172005_1_Default.png\"/>"
      ],
      "text/plain": [
       "<IPython.core.display.HTML object>"
      ]
     },
     "metadata": {},
     "output_type": "display_data"
    }
   ],
   "source": [
    "display(HTML(f'<img src=\"{public_url}/Strange_Tales_172005/.crop/Strange_Tales_172005_1_Default.png\"/>'))\n"
   ]
  },
  {
   "cell_type": "code",
   "execution_count": null,
   "metadata": {},
   "outputs": [
    {
     "data": {
      "text/html": [
       "<pre style=\"white-space:pre;overflow-x:auto;line-height:normal;font-family:Menlo,'DejaVu Sans Mono',consolas,'Courier New',monospace\">Ngrok tunnel disconnected\n",
       "</pre>\n"
      ],
      "text/plain": [
       "Ngrok tunnel disconnected\n"
      ]
     },
     "metadata": {},
     "output_type": "display_data"
    },
    {
     "data": {
      "text/html": [
       "<pre style=\"white-space:pre;overflow-x:auto;line-height:normal;font-family:Menlo,'DejaVu Sans Mono',consolas,'Courier New',monospace\">Server stopped\n",
       "</pre>\n"
      ],
      "text/plain": [
       "Server stopped\n"
      ]
     },
     "metadata": {},
     "output_type": "display_data"
    }
   ],
   "source": [
    "if server is not None: \n",
    "    server.stop()\n"
   ]
  },
  {
   "cell_type": "code",
   "execution_count": null,
   "metadata": {},
   "outputs": [],
   "source": [
    "test_eq(ngrok.get_tunnels(), [])\n"
   ]
  },
  {
   "cell_type": "code",
   "execution_count": null,
   "metadata": {},
   "outputs": [
    {
     "data": {
      "text/plain": [
       "52794"
      ]
     },
     "execution_count": null,
     "metadata": {},
     "output_type": "execute_result"
    }
   ],
   "source": [
    "PORT = server.port\n",
    "PORT\n"
   ]
  },
  {
   "cell_type": "code",
   "execution_count": null,
   "metadata": {},
   "outputs": [
    {
     "data": {
      "text/plain": [
       "[]"
      ]
     },
     "execution_count": null,
     "metadata": {},
     "output_type": "execute_result"
    }
   ],
   "source": [
    "_PID = !lsof -ti :$PORT  # Find the process using PORT  # type: ignore\n",
    "if len(_PID) > 0: _PID = _PID[0]\n",
    "_PID\n"
   ]
  },
  {
   "cell_type": "code",
   "execution_count": null,
   "metadata": {},
   "outputs": [],
   "source": [
    "# !kill -9 $_PID"
   ]
  },
  {
   "cell_type": "markdown",
   "metadata": {},
   "source": [
    "# WebServerBottle\n",
    "> simple web server based on `Bottle` and `ngrok` as reverse proxy\n"
   ]
  },
  {
   "cell_type": "code",
   "execution_count": null,
   "metadata": {},
   "outputs": [],
   "source": [
    "#| exporti\n",
    "\n",
    "app = Bottle()\n",
    "\n",
    "@app.route('/images/<filename:path>')  # type: ignore\n",
    "def serve_image(filename):\n",
    "    if not filename.lower().endswith(('.png', '.jpg', '.jpeg', '.gif', '.webp')):\n",
    "        return HTTPError(404, \"File not found\")\n",
    "    response.set_header('Cache-Control', 'public, max-age=86400')  # Set caching headers\n",
    "    return static_file(filename, root=app.config['image_dir'])\n",
    "\n",
    "@app.route('/shutdown')  # type: ignore\n",
    "def shutdown():\n",
    "    current_process = psutil.Process()\n",
    "    current_process.send_signal(signal.SIGTERM)\n"
   ]
  },
  {
   "cell_type": "code",
   "execution_count": null,
   "metadata": {},
   "outputs": [],
   "source": [
    "#| export\n",
    "\n",
    "class WebServerBottle:\n",
    "    \"\"\"\n",
    "    A simple web server for serving images from a local directory using ngrok.\n",
    "    This class uses the Bottle framework to handle HTTP requests and ngrok to expose the \n",
    "    server to the internet.It is designed to be used in environments like Google Colab, \n",
    "    where direct web server hosting might not be feasible.\n",
    "    \n",
    "    Attributes:\n",
    "        directory (Path | str): The directory from which files are served.\n",
    "        port (int): The local port on which the server listens.\n",
    "        public_url (str): The ngrok public URL where the server is accessible.\n",
    "        tunnel (ngrok.NgrokTunnel): The ngrok tunnel object.\n",
    "    \n",
    "    Methods:\n",
    "        start(): Starts the web server and the ngrok tunnel.\n",
    "        stop(): Stops the web server and disconnects the ngrok tunnel.\n",
    "    \"\"\"\n",
    "    \n",
    "    def __init__(self, directory: Path | str = \"\"):\n",
    "        self.port = portpicker.pick_unused_port()\n",
    "        if isinstance(directory, str):\n",
    "            directory = Path(directory)\n",
    "        assert directory.exists(), f\"Directory {directory} does not exist\"\n",
    "        self.directory = directory\n",
    "        self.thread = None\n",
    "        self.httpd = None\n",
    "        self.public_url = None\n",
    "        self.unc_share = None\n",
    "        self.prefix = 'images'\n",
    "        self.tunnel = None\n",
    "        app.config['image_dir'] = str(directory)  # directory for Bottle\n",
    "        # app.routes[0].callback.__globals__['image_dir'] = str(directory)  # directory for Bottle\n",
    "\n",
    "    @property\n",
    "    def running(self):\n",
    "        return self.thread is not None and self.thread.is_alive()\n",
    "\n",
    "    def start_server(self):\n",
    "        def bottle_run():\n",
    "            run(app, host='localhost', port=self.port)\n",
    "        \n",
    "        self.thread = threading.Thread(target=bottle_run)\n",
    "        self.thread.start()\n",
    "        self.tunnel = ngrok.connect(self.port)  # type: ignore\n",
    "        self.public_url = self.tunnel.public_url\n",
    "        if self.public_url is not None:\n",
    "            self.unc_share = Path(self.public_url.replace('https:', ''))/self.prefix\n",
    "        cprint(f\"ngrok tunnel: {self.tunnel}\")\n",
    "        cprint(f\"Public URL: {self.public_url}\")\n",
    "\n",
    "    def start(self):\n",
    "        if self.thread is None or not self.thread.is_alive():\n",
    "            self.start_server()\n",
    "        else:\n",
    "            cprint(\"Server is already running\")\n",
    "\n",
    "    def stop(self):\n",
    "        if self.tunnel and self.tunnel.public_url:\n",
    "            ngrok.disconnect(self.tunnel.public_url)\n",
    "            cprint(\"Ngrok tunnel disconnected\")\n",
    "            ngrok.kill()\n",
    "        \n",
    "        if self.thread:\n",
    "            self.make_request('/shutdown')\n",
    "            self.thread.join(timeout=10)\n",
    "            if self.thread.is_alive():\n",
    "                print(\"Thread did not terminate, proceeding with forceful shutdown.\")\n",
    "            else:\n",
    "                print(\"Server thread stopped successfully.\")\n",
    "        self.thread = self.tunnel = self.public_url = self.unc_share = None\n",
    "        cprint(\"Server stopped\")\n",
    "\n",
    "    def make_request(self, path=\"/\"):\n",
    "        \"\"\"Makes a request to the ngrok URL with headers to bypass the ngrok warning.\"\"\"\n",
    "        if self.public_url:\n",
    "            url = f\"{self.public_url}{path}\"\n",
    "            headers = {\n",
    "                \"ngrok-skip-browser-warning\": \"true\",\n",
    "                \"User-Agent\": \"MyCustomUserAgent/1.0\"\n",
    "            }\n",
    "            response = requests.get(url, headers=headers)\n",
    "            return response.text\n",
    "        else:\n",
    "            return \"Server not started or public URL not available.\"\n",
    "\n",
    "    def __enter__(self):\n",
    "        self.start()\n",
    "        return self\n",
    "\n",
    "    def __exit__(self, exc_type, exc_val, exc_tb):\n",
    "        self.stop()\n"
   ]
  },
  {
   "cell_type": "code",
   "execution_count": null,
   "metadata": {},
   "outputs": [
    {
     "data": {
      "text/plain": [
       "Path('../experiment/cache')"
      ]
     },
     "execution_count": null,
     "metadata": {},
     "output_type": "execute_result"
    }
   ],
   "source": [
    "serve_dir = cache_dir\n",
    "test_eq(serve_dir.exists(), True)\n",
    "serve_dir"
   ]
  },
  {
   "cell_type": "code",
   "execution_count": null,
   "metadata": {},
   "outputs": [
    {
     "data": {
      "text/html": [
       "<pre style=\"white-space:pre;overflow-x:auto;line-height:normal;font-family:Menlo,'DejaVu Sans Mono',consolas,'Courier New',monospace\">Enter your ngrok authtoken, which can be copied from \n",
       "<span style=\"color: #0000ff; text-decoration-color: #0000ff; text-decoration: underline\">https://dashboard.ngrok.com/get-started/your-authtoken</span>\n",
       "</pre>\n"
      ],
      "text/plain": [
       "Enter your ngrok authtoken, which can be copied from \n",
       "\u001b[4;94mhttps://dashboard.ngrok.com/get-started/your-authtoken\u001b[0m\n"
      ]
     },
     "metadata": {},
     "output_type": "display_data"
    },
    {
     "name": "stderr",
     "output_type": "stream",
     "text": [
      "Bottle v0.13-dev server starting up (using WSGIRefServer())...\n",
      "Listening on http://localhost:55470/\n",
      "Hit Ctrl-C to quit.\n",
      "\n"
     ]
    },
    {
     "data": {
      "text/html": [
       "<pre style=\"white-space:pre;overflow-x:auto;line-height:normal;font-family:Menlo,'DejaVu Sans Mono',consolas,'Courier New',monospace\">ngrok tunnel: NgrokTunnel: <span style=\"color: #008000; text-decoration-color: #008000\">\"https://0836-83-33-227-209.ngrok-free.app\"</span> -&gt; <span style=\"color: #008000; text-decoration-color: #008000\">\"http://localhost:55470\"</span>\n",
       "</pre>\n"
      ],
      "text/plain": [
       "ngrok tunnel: NgrokTunnel: \u001b[32m\"https://0836-83-33-227-209.ngrok-free.app\"\u001b[0m -> \u001b[32m\"http://localhost:55470\"\u001b[0m\n"
      ]
     },
     "metadata": {},
     "output_type": "display_data"
    },
    {
     "data": {
      "text/html": [
       "<pre style=\"white-space:pre;overflow-x:auto;line-height:normal;font-family:Menlo,'DejaVu Sans Mono',consolas,'Courier New',monospace\">Public URL: <span style=\"color: #0000ff; text-decoration-color: #0000ff; text-decoration: underline\">https://0836-83-33-227-209.ngrok-free.app</span>\n",
       "</pre>\n"
      ],
      "text/plain": [
       "Public URL: \u001b[4;94mhttps://0836-83-33-227-209.ngrok-free.app\u001b[0m\n"
      ]
     },
     "metadata": {},
     "output_type": "display_data"
    },
    {
     "data": {
      "text/html": [
       "\n",
       "<div style=\"font-size: 13pt;\" id=\"ngrokFrame137cf000-8359-4ec8-a802-c2a2a9f49b55\">\n",
       "  <div style=\"background-color: aliceblue;\">\n",
       "    <p><b>Ngrok</b> displays a <b>warning page</b> as a security measure to prevent unintentional access to your local servers. This page requires you to <b>confirm</b> that you wish to proceed to the content.</p>\n",
       "    <p style=\"font-weight: bold;\">Please review the <em>ngrok</em> warning page displayed below. If prompted, click '<b>Visit Page</b>' to proceed.</p>\n",
       "    Don't worry if you see a <b>404</b> or <b>403</b> error. Then, you can click the '<b>Close</b>' button below to hide this section.</p>\n",
       "  </div>\n",
       "    <iframe src=\"https://0836-83-33-227-209.ngrok-free.app/images/pcleaner.png\" width=\"100%\" height=\"600px\" style=\"border:none;\"></iframe>\n",
       "    <button onclick=\"document.getElementById('ngrokFrame137cf000-8359-4ec8-a802-c2a2a9f49b55').innerHTML='';\">Close</button>\n",
       "</div>\n"
      ],
      "text/plain": [
       "<IPython.core.display.HTML object>"
      ]
     },
     "metadata": {},
     "output_type": "display_data"
    },
    {
     "name": "stderr",
     "output_type": "stream",
     "text": [
      "127.0.0.1 - - [21/May/2024 13:24:01] \"GET /images/pcleaner.png HTTP/1.1\" 200 17709\n",
      "127.0.0.1 - - [21/May/2024 13:24:45] \"GET /images/Strange_Tales_172005/.crop/Strange_Tales_172005_0_Default.png HTTP/1.1\" 200 137784\n",
      "127.0.0.1 - - [21/May/2024 13:24:48] \"GET /images/images/Strange_Tales_172005/.crop/Strange_Tales_172005_1_Default.png HTTP/1.1\" 404 817\n",
      "127.0.0.1 - - [21/May/2024 13:25:01] \"GET /images/Strange_Tales_172005/.crop/Strange_Tales_172005_1_Default.png HTTP/1.1\" 200 107550\n"
     ]
    }
   ],
   "source": [
    "server = setup_ngrok(WebServerBottle, serve_dir)\n"
   ]
  },
  {
   "cell_type": "code",
   "execution_count": null,
   "metadata": {},
   "outputs": [],
   "source": [
    "assert server is not None and server.public_url is not None\n",
    "public_url: str = f\"{server.public_url}/{server.prefix}\"\n"
   ]
  },
  {
   "cell_type": "code",
   "execution_count": null,
   "metadata": {},
   "outputs": [],
   "source": [
    "img_path = 'Strange_Tales_172005/.crop/Strange_Tales_172005_0_Default.png'\n"
   ]
  },
  {
   "cell_type": "code",
   "execution_count": null,
   "metadata": {},
   "outputs": [
    {
     "data": {
      "text/plain": [
       "'<img src=\"https://0836-83-33-227-209.ngrok-free.app/images/Strange_Tales_172005/.crop/Strange_Tales_172005_0_Default.png\"/>'"
      ]
     },
     "execution_count": null,
     "metadata": {},
     "output_type": "execute_result"
    }
   ],
   "source": [
    "f'<img src=\"{public_url}/{img_path}\"/>'"
   ]
  },
  {
   "cell_type": "code",
   "execution_count": null,
   "metadata": {},
   "outputs": [
    {
     "data": {
      "text/html": [
       "<img src=\"https://0836-83-33-227-209.ngrok-free.app/images/Strange_Tales_172005/.crop/Strange_Tales_172005_0_Default.png\"/>"
      ],
      "text/plain": [
       "<IPython.core.display.HTML object>"
      ]
     },
     "metadata": {},
     "output_type": "display_data"
    }
   ],
   "source": [
    "display(HTML(f'<img src=\"{public_url}/{img_path}\"/>'))\n"
   ]
  },
  {
   "cell_type": "code",
   "execution_count": null,
   "metadata": {},
   "outputs": [
    {
     "data": {
      "text/html": [
       "<img src=\"https://0836-83-33-227-209.ngrok-free.app/images/Strange_Tales_172005/.crop/Strange_Tales_172005_1_Default.png\"/>"
      ],
      "text/plain": [
       "<IPython.core.display.HTML object>"
      ]
     },
     "metadata": {},
     "output_type": "display_data"
    }
   ],
   "source": [
    "display(HTML(f'<img src=\"{public_url}/Strange_Tales_172005/.crop/Strange_Tales_172005_1_Default.png\"/>'))\n"
   ]
  },
  {
   "cell_type": "code",
   "execution_count": null,
   "metadata": {},
   "outputs": [
    {
     "name": "stderr",
     "output_type": "stream",
     "text": [
      "t=2024-05-21T13:25:04+0200 lvl=warn msg=\"Stopping forwarder\" name=http-55470-05e35e60-2237-402e-b7ab-8507dd7f47dc acceptErr=\"failed to accept connection: Listener closed\"\n"
     ]
    },
    {
     "data": {
      "text/html": [
       "<pre style=\"white-space:pre;overflow-x:auto;line-height:normal;font-family:Menlo,'DejaVu Sans Mono',consolas,'Courier New',monospace\">Ngrok tunnel disconnected\n",
       "</pre>\n"
      ],
      "text/plain": [
       "Ngrok tunnel disconnected\n"
      ]
     },
     "metadata": {},
     "output_type": "display_data"
    },
    {
     "name": "stdout",
     "output_type": "stream",
     "text": [
      "Thread did not terminate, proceeding with forceful shutdown.\n"
     ]
    },
    {
     "data": {
      "text/html": [
       "<pre style=\"white-space:pre;overflow-x:auto;line-height:normal;font-family:Menlo,'DejaVu Sans Mono',consolas,'Courier New',monospace\">Server stopped\n",
       "</pre>\n"
      ],
      "text/plain": [
       "Server stopped\n"
      ]
     },
     "metadata": {},
     "output_type": "display_data"
    }
   ],
   "source": [
    "if server is not None: \n",
    "    server.stop()\n"
   ]
  },
  {
   "cell_type": "code",
   "execution_count": null,
   "metadata": {},
   "outputs": [],
   "source": [
    "test_eq(ngrok.get_tunnels(), [])"
   ]
  },
  {
   "cell_type": "code",
   "execution_count": null,
   "metadata": {},
   "outputs": [
    {
     "data": {
      "text/plain": [
       "58805"
      ]
     },
     "execution_count": null,
     "metadata": {},
     "output_type": "execute_result"
    }
   ],
   "source": [
    "PORT = server.port\n",
    "PORT\n"
   ]
  },
  {
   "cell_type": "code",
   "execution_count": null,
   "metadata": {},
   "outputs": [
    {
     "data": {
      "text/plain": [
       "[]"
      ]
     },
     "execution_count": null,
     "metadata": {},
     "output_type": "execute_result"
    }
   ],
   "source": [
    "_PID = !lsof -ti :$PORT  # Find the process using PORT  # type: ignore\n",
    "if len(_PID) > 0: _PID = _PID[0]\n",
    "_PID\n"
   ]
  },
  {
   "cell_type": "code",
   "execution_count": null,
   "metadata": {},
   "outputs": [],
   "source": [
    "# !kill -9 $_PID"
   ]
  },
  {
   "cell_type": "markdown",
   "metadata": {},
   "source": [
    "# Colophon\n",
    "----\n"
   ]
  },
  {
   "cell_type": "code",
   "execution_count": null,
   "metadata": {},
   "outputs": [],
   "source": [
    "import fastcore.all as FC\n",
    "from nbdev.export import nb_export\n"
   ]
  },
  {
   "cell_type": "code",
   "execution_count": null,
   "metadata": {},
   "outputs": [],
   "source": [
    "if FC.IN_NOTEBOOK:\n",
    "    nb_export('web_server.ipynb', '..')\n"
   ]
  }
 ],
 "metadata": {
  "kernelspec": {
   "display_name": "python3",
   "name": "python3"
  }
 },
 "nbformat": 4,
 "nbformat_minor": 0
}

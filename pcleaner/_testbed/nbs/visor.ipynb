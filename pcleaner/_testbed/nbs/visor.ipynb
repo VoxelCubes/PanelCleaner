{
 "cells": [
  {
   "cell_type": "code",
   "execution_count": 1,
   "metadata": {},
   "outputs": [],
   "source": [
    "#| default_exp testbed/visor"
   ]
  },
  {
   "cell_type": "code",
   "execution_count": 2,
   "metadata": {
    "notebookRunGroups": {
     "groupValue": "1"
    }
   },
   "outputs": [],
   "source": [
    "#| export\n",
    "from __future__ import annotations\n"
   ]
  },
  {
   "cell_type": "code",
   "execution_count": 3,
   "metadata": {},
   "outputs": [],
   "source": [
    "#| hide\n",
    "# %reload_ext autoreload\n",
    "# %autoreload 0\n"
   ]
  },
  {
   "cell_type": "markdown",
   "metadata": {},
   "source": [
    "# Visor\n",
    "> Simple visor of namespaces based on `ipywidgets`.\n"
   ]
  },
  {
   "cell_type": "markdown",
   "metadata": {},
   "source": [
    "# Prologue"
   ]
  },
  {
   "cell_type": "code",
   "execution_count": 4,
   "metadata": {
    "notebookRunGroups": {
     "groupValue": "1"
    }
   },
   "outputs": [],
   "source": [
    "#| export\n",
    "from collections import defaultdict\n",
    "from typing import Any\n",
    "from typing import TypeAlias\n",
    "\n",
    "import ipywidgets as W\n",
    "import traitlets as T\n",
    "from IPython.display import clear_output\n",
    "from IPython.display import display\n",
    "from IPython.display import HTML\n",
    "from ipywidgets.widgets.interaction import show_inline_matplotlib_plots\n",
    "from rich.console import Console\n"
   ]
  },
  {
   "cell_type": "code",
   "execution_count": 5,
   "metadata": {
    "notebookRunGroups": {
     "groupValue": "1"
    }
   },
   "outputs": [],
   "source": [
    "#| export\n",
    "\n",
    "from pcleaner._testbed.testbed.helpers import _pops_\n",
    "from pcleaner._testbed.testbed.helpers import cleanupwidgets\n"
   ]
  },
  {
   "cell_type": "code",
   "execution_count": 6,
   "metadata": {
    "notebookRunGroups": {
     "groupValue": "1"
    }
   },
   "outputs": [],
   "source": [
    "from fastcore.test import *  # type: ignore\n"
   ]
  },
  {
   "cell_type": "markdown",
   "metadata": {},
   "source": [
    "# Helpers"
   ]
  },
  {
   "cell_type": "code",
   "execution_count": 7,
   "metadata": {
    "notebookRunGroups": {
     "groupValue": "1"
    }
   },
   "outputs": [],
   "source": [
    "# pretty print by default\n",
    "# %load_ext rich"
   ]
  },
  {
   "cell_type": "code",
   "execution_count": 8,
   "metadata": {
    "notebookRunGroups": {
     "groupValue": "1"
    }
   },
   "outputs": [],
   "source": [
    "#| exporti\n",
    "console = Console(width=104, tab_size=4, force_jupyter=True)\n",
    "cprint = console.print\n"
   ]
  },
  {
   "cell_type": "markdown",
   "metadata": {},
   "source": [
    "----\n",
    "# ContextVisor\n"
   ]
  },
  {
   "cell_type": "code",
   "execution_count": 9,
   "metadata": {},
   "outputs": [],
   "source": [
    "#| exporti\n",
    "\n",
    "CtlT: TypeAlias = W.ValueWidget | W.fixed\n",
    "\n",
    "NO_UI = W.DOMWidget(layout={'display': 'none'})\n",
    "NO_UI.close()\n",
    "\n",
    "#| export\n",
    "\n",
    "UPDATE_SCRIPT = f\"\"\"\n",
    "<script>\n",
    "    var currentScript = document.currentScript;\n",
    "    currentScript.parentNode.innerHTML = '';\n",
    "    # console.log(currentScript);\n",
    "    # debugger;\n",
    "</script>\n",
    "\"\"\"\n"
   ]
  },
  {
   "cell_type": "code",
   "execution_count": 10,
   "metadata": {
    "notebookRunGroups": {
     "groupValue": "2"
    }
   },
   "outputs": [],
   "source": [
    "#| export\n",
    "\n",
    "class ContextVisor:\n",
    "    ctx: Any\n",
    "    values: dict[str, Any] = {}\n",
    "\n",
    "    _ctxs: dict[str, ContextVisor] = {}\n",
    "    _hdlrs: dict[str, ContextVisor] = {}\n",
    "    _css: str = ''\n",
    "    _ctl2name: dict[CtlT, str]\n",
    "    _name2comp: dict[str, ContextVisor]\n",
    "    _out: W.Output | None = None\n",
    "    _w: W.DOMWidget | None = None\n",
    "    _controls: dict[str, CtlT] | None = None\n",
    "    _all_controls: dict[str, CtlT] | None = None\n",
    "    _ui_cls: type[W.Box] = W.HBox\n",
    "    _inited = False\n",
    "\n",
    "    @property\n",
    "    def w(self) -> W.DOMWidget:\n",
    "        \"Container (DOM)widget of this comp.\"\n",
    "        if self._inited and self._w is None:\n",
    "            self._w = self._setup_ui() or NO_UI\n",
    "        return self._w  # type: ignore\n",
    "    @property\n",
    "    def out(self) -> W.Output:\n",
    "        if self._inited and self._out is None:\n",
    "            self._out = W.Output()\n",
    "            self._out.clear_output(wait=True)\n",
    "        return self._out  # type: ignore\n",
    "    @property\n",
    "    def controls(self) -> dict[str, CtlT]:\n",
    "        if self._controls is None:\n",
    "            self._controls = self.setup_controls() if self._inited else {}\n",
    "        return self._controls\n",
    "    @property\n",
    "    def all_controls(self) -> dict[str, CtlT]:\n",
    "        if self._all_controls is None:\n",
    "            controls = {}\n",
    "            if self._inited:\n",
    "                for visor in self._ctxs.values():\n",
    "                    controls.update(visor.all_controls)\n",
    "                controls.update(self.controls)\n",
    "            self._all_controls = controls\n",
    "            self._ctl2name = {v:k for k,v in controls.items()}\n",
    "        return self._all_controls  # type: ignore\n",
    "    \n",
    "    @property\n",
    "    def all_values(self):\n",
    "        \"\"\"Values from first level comps, keyed by comp name.\n",
    "        NOTE: will fail for nested contexts or more than one level.\n",
    "        \"\"\"\n",
    "        return {**{k:v.values for k,v in (self.comps | {'self': self}).items()}}\n",
    "    \n",
    "    def _all_values(self):\n",
    "        \"Flattened values from all comps\"\n",
    "        all_values = {}\n",
    "        for comp in [*self.comps.values(), self]: all_values.update(comp.values)\n",
    "        return all_values\n",
    "\n",
    "    @property\n",
    "    def comps(self): return self._ctxs\n",
    "    def comp(self, k: str) -> ContextVisor | None: return self._ctxs.get(k)\n",
    "    def handler(self, k: str) -> ContextVisor | None: return self._hdlrs.get(k)\n",
    "    \n",
    "    @property\n",
    "    def styler(self) -> W.HTML | str:\n",
    "        if getattr(self, '_style', None) is None:\n",
    "            stl = self.setup_style()\n",
    "            if stl: \n",
    "                stl_id = 'stl-' + str(id(self))\n",
    "                stl = f\"<style id='{stl_id}'>{stl}</style>\"\n",
    "                self._style = W.HTML(stl)\n",
    "            else:\n",
    "                self._style = ''\n",
    "        return self._style\n",
    "    def setup_style(self):\n",
    "        collate = [_.setup_style() for _ in self.comps.values()]\n",
    "        if self._css: collate.append(self._css)\n",
    "        return '\\n'.join([_ for _ in collate if _])\n",
    "    \n",
    "    def update_output(self, **kwargs): \n",
    "        cprint(kwargs)\n",
    "    \n",
    "    def setup_controls(self) -> dict[str, CtlT]:\n",
    "        widgets = [W.interactive.widget_from_abbrev(v) for k, v in self.values.items()]\n",
    "        widgets = {k:W.fixed(v) if w is None else w for (k, v), w in zip(self.values.items(), widgets)}\n",
    "        # return {k: W.Label(value=str(k)) for k,w in self.values.items()}\n",
    "        return widgets\n",
    "    \n",
    "    def hide(self): \n",
    "        if (w := self.w) is not NO_UI: \n",
    "            w.layout.visibility = 'hidden'\n",
    "    def show(self): \n",
    "        if (w := self.w) is not NO_UI: \n",
    "            w.layout.visibility = 'visible'\n",
    "\n",
    "    def comps_ui(self):\n",
    "        comps = []\n",
    "        if self._inited: \n",
    "            for visor in self.comps.values():\n",
    "                if (visor_ui := visor._setup_ui()) is not None:\n",
    "                    comps.append(visor_ui)\n",
    "        return comps\n",
    "\n",
    "\n",
    "    def _setup_ui(self):\n",
    "        if not self._inited: return\n",
    "        w = self.setup_ui()\n",
    "        if w is not None:\n",
    "            w.add_class('context-visor')\n",
    "            w.add_class(str(id(self)))\n",
    "        return w\n",
    "        \n",
    "    def setup_ui(self) -> W.DOMWidget | None:\n",
    "        \"\"\"Get the container widget for this comp.\n",
    "        This method should be the only one called when the comp is nested inside other comp.\n",
    "        \"\"\"\n",
    "        uis = [*self.comps_ui(), *self.controls.values()]\n",
    "        return self._ui_cls(uis) if uis else None\n",
    "\n",
    "    def setup_display(self): \n",
    "        \"Generates one time ui\"\n",
    "        if not self._inited: return\n",
    "        if self._w is None:\n",
    "            self._w = self._setup_ui()\n",
    "        \n",
    "\n",
    "    def _output(self, **kwargs):\n",
    "        # group keys by comp\n",
    "        collator = defaultdict(dict)\n",
    "        for k,v in kwargs.items():\n",
    "            if (comp := self.handler(k)) is not None:\n",
    "                collator[comp][k] = v\n",
    "            else:\n",
    "                # keys w/out control assigned, considered internal state\n",
    "                collator[self][k] = v\n",
    "        # group comps by output\n",
    "        outs = defaultdict(list)\n",
    "        for comp, kw in collator.items():\n",
    "            outs[comp.out].append((comp, kw))\n",
    "        for out, g in outs.items():\n",
    "            show_inline_matplotlib_plots()\n",
    "            with out:\n",
    "                clear_output(wait=True)\n",
    "                for comp, kw in g:\n",
    "                    comp.update_output(**kw)\n",
    "                show_inline_matplotlib_plots()\n",
    "\n",
    "    def _observe(self, change):\n",
    "        control_name = self._ctl2name[change['owner']]\n",
    "        kwargs = {control_name: change['new']}\n",
    "        updated = self._update(**kwargs)\n",
    "        self._output(**updated)\n",
    "    def setup_ux(self): pass\n",
    "    def _setup_ux(self): \n",
    "        for visor in self.comps.values():\n",
    "            visor._setup_ux()\n",
    "        self.setup_ux()\n",
    "    def interactive_output(self):\n",
    "        controls = self.all_controls\n",
    "        all_values = self._all_values()\n",
    "        for k,w in controls.items():\n",
    "            if k in all_values:\n",
    "                w.observe(self._observe, 'value')\n",
    "    \n",
    "    def display(self, **kwargs): \n",
    "        if not self._inited: return\n",
    "        if self._w is None:\n",
    "            self.setup_display()\n",
    "            self.interactive_output()\n",
    "            self._update(**(self.values | kwargs))\n",
    "            all_values = self._all_values()\n",
    "            self._hdlrs = {k:self._hdlrs.get(k, self) for k in all_values}\n",
    "            self._output(**all_values)\n",
    "            # ux final touches once everything (including outputs) is setup\n",
    "            # for visor in [*self.comps.values(), self]:\n",
    "            #     visor.setup_ux()\n",
    "            self._setup_ux()\n",
    "            stl = self.styler\n",
    "            ui: list = [stl] if stl else []\n",
    "            if (w := self.w) is not NO_UI:\n",
    "                ui.append(w)\n",
    "            for comp in [*self.comps.values(), self]:\n",
    "                if comp._out is not None:\n",
    "                    ui.append(comp._out)\n",
    "            self._final = W.VBox(ui)\n",
    "            self._display_handle = display(self._final, display_id=str(id(self)))\n",
    "        else:\n",
    "            self.update(**kwargs)\n",
    "    def _ipython_display_(self): self.display()\n",
    "\n",
    "    def _update(self, update_value: bool=True, **kwargs):\n",
    "        updated = {}\n",
    "        for visor in self.comps.values():\n",
    "            updated.update(visor._update(update_value=update_value, **kwargs))\n",
    "        values = self.values\n",
    "        my_vals = _pops_(kwargs, self.values.keys())\n",
    "        for k,v in my_vals.items():\n",
    "            if v is not None and v != values[k]:\n",
    "                if update_value: \n",
    "                    values[k] = v\n",
    "                updated[k] = v\n",
    "        return updated\n",
    "    def update(self, **kwargs):\n",
    "        updated = self._update(update_value=False, **kwargs)\n",
    "        controls = self.all_controls\n",
    "        for k,v in updated.items():\n",
    "            if k in controls:\n",
    "                if hasattr((ctl := controls[k]), 'value'):\n",
    "                    ctl.value = v  # will trigger update (self._observe)\n",
    "            elif k in (vv := self._name2comp):\n",
    "                # update manually\n",
    "                comp = vv[k]\n",
    "                if v != comp.values[k]:\n",
    "                    comp.values[k] = v\n",
    "                    self._output(**{k:v})\n",
    "    \n",
    "\n",
    "    def close(self):\n",
    "        controls = self.all_controls\n",
    "        for w in controls.values():\n",
    "            try: w.unobserve(self._observe, 'value')\n",
    "            except: pass\n",
    "            if isinstance(w, W.Widget):\n",
    "                w.close()\n",
    "        for visor in self._ctxs.values():\n",
    "            if w := getattr(visor, '_w', None): w.close()\n",
    "            if visor._out is not self._out:\n",
    "                if o := getattr(visor, '_out', None): o.close()\n",
    "            visor.close()\n",
    "        if w := getattr(self, '_w', None): w.close()\n",
    "        if o := getattr(self, '_out', None): o.close()\n",
    "        if f := self._final: f.close()\n",
    "        if self._display_handle is not None:\n",
    "            self._display_handle.update(HTML(UPDATE_SCRIPT))\n",
    "\n",
    "\n",
    "    def __del__(self): \n",
    "        self.close()\n",
    "\n",
    "    def __init__(self, \n",
    "            ctx: Any, \n",
    "            values: dict[str, Any], \n",
    "            out: W.Output | None = None,\n",
    "            ctxs: dict[str, ContextVisor] | None = None,\n",
    "            hdlrs: dict[str, ContextVisor] | None = None,\n",
    "            css: str | None = None,\n",
    "        ):\n",
    "        # Only setup some state. Controls, values and containers will be setup only when explicitly displayed\n",
    "        self._display_handle = None\n",
    "        self._final = None\n",
    "        self.ctx = ctx\n",
    "        self.values = values or {}\n",
    "        self._out = out\n",
    "        self._ctxs = comps = ctxs or {}\n",
    "        self._hdlrs = hdlrs or {}\n",
    "        if css is not None:\n",
    "            self._css = css\n",
    "        self._name2comp = name2comp = {}\n",
    "        for n,vv in self.all_values.items():\n",
    "            comp = comps.get(n, self)\n",
    "            for k in vv:\n",
    "                name2comp[k] = comp\n",
    "        self._inited = True\n"
   ]
  },
  {
   "cell_type": "code",
   "execution_count": 11,
   "metadata": {},
   "outputs": [
    {
     "data": {
      "text/html": [
       "\n",
       "<script>\n",
       "    var currentScript = document.currentScript;\n",
       "    currentScript.parentNode.innerHTML = '';\n",
       "    # console.log(currentScript);\n",
       "    # debugger;\n",
       "</script>\n"
      ],
      "text/plain": [
       "<IPython.core.display.HTML object>"
      ]
     },
     "metadata": {},
     "output_type": "display_data"
    }
   ],
   "source": [
    "cleanupwidgets('test_visor')\n",
    "\n",
    "test_visor = ContextVisor(None, {'a': 1})\n",
    "test_visor\n"
   ]
  },
  {
   "cell_type": "code",
   "execution_count": 12,
   "metadata": {},
   "outputs": [],
   "source": [
    "test_eq(test_visor.values, {'a': 1})\n",
    "test_visor.update(a='2')\n",
    "test_eq(test_visor.values, {'a': 2})\n"
   ]
  },
  {
   "cell_type": "code",
   "execution_count": 13,
   "metadata": {},
   "outputs": [],
   "source": [
    "cleanupwidgets('test_visor')\n",
    "test_eq(test_visor.w.comm, None)\n"
   ]
  },
  {
   "cell_type": "code",
   "execution_count": 14,
   "metadata": {},
   "outputs": [
    {
     "data": {
      "application/vnd.jupyter.widget-view+json": {
       "model_id": "24553fa5d9f048939f4ac38bc266ea81",
       "version_major": 2,
       "version_minor": 0
      },
      "text/plain": [
       "VBox(children=(VBox(children=(VBox(children=(Text(value='bbb'),), _dom_classes=('context-visor', '13217200496'…"
      ]
     },
     "metadata": {},
     "output_type": "display_data"
    }
   ],
   "source": [
    "cleanupwidgets('vsr1')\n",
    "\n",
    "vsr1 = ContextVisor(\n",
    "    None, {'a': 3}, \n",
    "    ctxs={'vsr2': ContextVisor(None, {'b': 'bbb'})}, \n",
    ")\n",
    "test_eq(vsr1.values, {'a': 3})\n",
    "test_eq(vsr1.all_values, {'vsr2': {'b': 'bbb'}, 'self': {'a': 3}})\n",
    "vsr1.display()\n",
    "\n"
   ]
  },
  {
   "cell_type": "code",
   "execution_count": 15,
   "metadata": {},
   "outputs": [],
   "source": [
    "vsr1.update(a=2)\n",
    "test_eq(vsr1.all_values, {'vsr2': {'b': 'bbb'}, 'self': {'a': 2}})\n"
   ]
  },
  {
   "cell_type": "code",
   "execution_count": 16,
   "metadata": {},
   "outputs": [],
   "source": [
    "vsr1.update(a=0, b='ccc')\n",
    "test_eq(vsr1.all_values, {'vsr2': {'b': 'ccc'}, 'self': {'a': 0}})\n"
   ]
  },
  {
   "cell_type": "code",
   "execution_count": 17,
   "metadata": {},
   "outputs": [
    {
     "data": {
      "application/vnd.jupyter.widget-view+json": {
       "model_id": "c1e38a469327423b876d69297283e9d1",
       "version_major": 2,
       "version_minor": 0
      },
      "text/plain": [
       "VBox(children=(VBox(children=(VBox(children=(Text(value='bbb'),), _dom_classes=('context-visor', '13218749008'…"
      ]
     },
     "metadata": {},
     "output_type": "display_data"
    }
   ],
   "source": [
    "cleanupwidgets('vsr2')\n",
    "\n",
    "vsr3 = ContextVisor(None, {'b': 'bbb'})\n",
    "vsr2 = ContextVisor(\n",
    "    None, {'a': 3}, \n",
    "    ctxs={'vsr3': vsr3}, \n",
    "    hdlrs={'b': vsr3}\n",
    ")\n",
    "vsr2.display()\n",
    "test_eq(vsr2.values, {'a': 3})\n",
    "test_eq(vsr2.all_values, {'vsr3': {'b': 'bbb'}, 'self': {'a': 3}})\n"
   ]
  },
  {
   "cell_type": "code",
   "execution_count": 18,
   "metadata": {},
   "outputs": [],
   "source": [
    "vsr2.update(a=1, b='ccc')\n",
    "test_eq(vsr2.values, {'a': 1})\n",
    "test_eq(vsr2.all_values, {'vsr3': {'b': 'ccc'}, 'self': {'a': 1}})\n"
   ]
  },
  {
   "cell_type": "code",
   "execution_count": 19,
   "metadata": {},
   "outputs": [
    {
     "data": {
      "text/html": [
       "\n",
       "<script>\n",
       "    var currentScript = document.currentScript;\n",
       "    currentScript.parentNode.innerHTML = '';\n",
       "    # console.log(currentScript);\n",
       "    # debugger;\n",
       "</script>\n"
      ],
      "text/plain": [
       "<IPython.core.display.HTML object>"
      ]
     },
     "metadata": {},
     "output_type": "display_data"
    }
   ],
   "source": [
    "class Vsr1(ContextVisor):\n",
    "    _css = \"\"\"\n",
    "    .vsr1 {\n",
    "        border: 1px solid red;\n",
    "    }\n",
    "    \"\"\"\n",
    "    def setup_ui(self) -> W.DOMWidget | None:\n",
    "        w = super().setup_ui()\n",
    "        if w is not None:\n",
    "            w.add_class('vsr1')\n",
    "        return w\n",
    "\n",
    "class Vsr2(ContextVisor):\n",
    "    _css = \"\"\"\n",
    "    .vsr2 {\n",
    "        border: 1px solid green;\n",
    "    }\n",
    "    \"\"\"\n",
    "    def setup_ui(self) -> W.DOMWidget | None:\n",
    "        uis = [*self.comps_ui(), *self.controls.values()]\n",
    "        w = W.HBox(uis) if uis else None\n",
    "        if w is not None:\n",
    "            w.add_class('vsr2')\n",
    "        return w\n",
    "\n",
    "vsr1 = Vsr1(\n",
    "    None, {'a': 3}, \n",
    "    ctxs={'vsr2': Vsr2(None, {'b': 'bbb'})}, \n",
    "    css = \"\"\"\n",
    "    .vsr1 {\n",
    "        border: 1px solid red;\n",
    "    }\n",
    "    \"\"\"\n",
    ")\n",
    "test_eq(vsr1.values, {'a': 3})\n",
    "test_eq(vsr1.all_values, {'vsr2': {'b': 'bbb'}, 'self': {'a': 3}})\n",
    "vsr1.display()\n"
   ]
  },
  {
   "cell_type": "code",
   "execution_count": 20,
   "metadata": {},
   "outputs": [],
   "source": [
    "cleanupwidgets('vsr1')\n"
   ]
  },
  {
   "cell_type": "markdown",
   "metadata": {},
   "source": [
    "# Spinner"
   ]
  },
  {
   "cell_type": "code",
   "execution_count": 21,
   "metadata": {},
   "outputs": [],
   "source": [
    "#| exporti\n",
    "\n",
    "spinner_css = \"\"\"\n",
    "    .wrapper-spinner {\n",
    "        overflow: hidden;\n",
    "        width: fit-content;\n",
    "        height: fit-content;\n",
    "    }\n",
    "    \n",
    "    .loading-spinner {\n",
    "        display: flex;\n",
    "        align-items: center;\n",
    "        justify-content: center;\n",
    "        border: 1px solid white;\n",
    "        border-radius: 50%;\n",
    "    }\n",
    "    \n",
    "    .spinner {\n",
    "        border: |border_width|px solid rgba(128,128,128,.5);\n",
    "        border-radius: 50%;\n",
    "        border-left-color: red;\n",
    "        animation: spin 1s infinite linear;\n",
    "    }\n",
    "    \n",
    "    @keyframes spin {\n",
    "        0% { transform: rotate(0deg); }\n",
    "        100% { transform: rotate(360deg); }\n",
    "    }\n",
    "\"\"\"\n"
   ]
  },
  {
   "cell_type": "code",
   "execution_count": 22,
   "metadata": {},
   "outputs": [],
   "source": [
    "# display(HTML(f\"<style>{spinner_css.replace('|border_width|', '4')}</style>\"))\n"
   ]
  },
  {
   "cell_type": "code",
   "execution_count": 23,
   "metadata": {},
   "outputs": [],
   "source": [
    "# def loading_spinner(size=36, border_width=4):\n",
    "#     bw = border_width*2\n",
    "#     html: str = f'''\n",
    "# <div class=\"loading-spinner\" style=\"width: {size + bw}px; height: {size + bw}px;\">\n",
    "#     <div class=\"spinner\" style=\"width: {size}px; height: {size}px;\"></div>\n",
    "# </div>\n",
    "# '''\n",
    "#     return html"
   ]
  },
  {
   "cell_type": "code",
   "execution_count": 24,
   "metadata": {},
   "outputs": [],
   "source": [
    "# cleanupwidgets('spinner')\n",
    "\n",
    "# spinner = W.HTML(loading_spinner(24), \n",
    "#     # layout={\n",
    "#     #     'overflow': 'hidden', \n",
    "#     #     'width': 'fit-content', \n",
    "#     #     'height': 'fit-content',\n",
    "#     #     'border': '1px solid green'\n",
    "#     #     }\n",
    "#         )\n",
    "# spinner.add_class('wrapper-spinner')\n",
    "# spinner\n"
   ]
  },
  {
   "cell_type": "code",
   "execution_count": 25,
   "metadata": {},
   "outputs": [],
   "source": [
    "# spinner.layout.display = 'none'\n"
   ]
  },
  {
   "cell_type": "code",
   "execution_count": 26,
   "metadata": {},
   "outputs": [],
   "source": [
    "# spinner.layout.display = 'block'\n"
   ]
  },
  {
   "cell_type": "code",
   "execution_count": 27,
   "metadata": {},
   "outputs": [],
   "source": [
    "# cleanupwidgets('spinner')"
   ]
  },
  {
   "cell_type": "code",
   "execution_count": 28,
   "metadata": {},
   "outputs": [],
   "source": [
    "#| export\n",
    "\n",
    "class Spinner(ContextVisor):\n",
    "    ctx: T.HasTraits\n",
    "\n",
    "    def loading_spinner(self, size=36, border_width=4):\n",
    "        bw = border_width*2\n",
    "        html: str = f'''\n",
    "<div class=\"loading-spinner\" style=\"width: {size + bw}px; height: {size + bw}px;\">\n",
    "    <div class=\"spinner\" style=\"width: {size}px; height: {size}px;\"></div>\n",
    "</div>\n",
    "    '''\n",
    "        return html\n",
    "    \n",
    "    def setup_controls(self):\n",
    "        spinner = W.HTML(self.loading_spinner(self.size, self.border_width))\n",
    "        spinner.add_class('wrapper-spinner')\n",
    "        return {'spinner': spinner}\n",
    "\n",
    "    @property\n",
    "    def spinner(self) -> W.HTML: return self.controls['spinner']  # type: ignore\n",
    "\n",
    "    def hide(self): self.spinner.layout.display = 'none'\n",
    "    def show(self): self.spinner.layout.display = 'block'\n",
    "\n",
    "    def setup_ux(self):\n",
    "        source = (self.ctx, '_running')\n",
    "        target = (self.spinner.layout, 'display')\n",
    "        self._link = T.dlink(source, target, lambda x: 'block' if x else 'none')\n",
    "\n",
    "    def close(self):\n",
    "        if l := getattr(self, '_link', None): l.unlink()\n",
    "        super().close()\n",
    "\n",
    "    def __init__(self, \n",
    "            ctx: T.HasTraits,\n",
    "            size: int = 24,\n",
    "            border_width: int = 4,\n",
    "            **kwargs\n",
    "        ):\n",
    "        self.size = size\n",
    "        self.border_width = border_width\n",
    "        self._link = None\n",
    "        super().__init__(ctx, {}, css=spinner_css.replace('|border_width|', str(border_width)), **kwargs)\n"
   ]
  },
  {
   "cell_type": "code",
   "execution_count": 29,
   "metadata": {},
   "outputs": [
    {
     "data": {
      "text/html": [
       "\n",
       "<script>\n",
       "    var currentScript = document.currentScript;\n",
       "    currentScript.parentNode.innerHTML = '';\n",
       "    # console.log(currentScript);\n",
       "    # debugger;\n",
       "</script>\n"
      ],
      "text/plain": [
       "<IPython.core.display.HTML object>"
      ]
     },
     "metadata": {},
     "output_type": "display_data"
    }
   ],
   "source": [
    "cleanupwidgets('spinner')\n",
    "\n",
    "class _Test(T.HasTraits):\n",
    "    _running = T.Bool(True)\n",
    "\n",
    "test = _Test()\n",
    "spinner = Spinner(test)\n",
    "spinner.display()\n"
   ]
  },
  {
   "cell_type": "code",
   "execution_count": 30,
   "metadata": {},
   "outputs": [],
   "source": [
    "# spinner.hide()\n",
    "test._running = False\n"
   ]
  },
  {
   "cell_type": "code",
   "execution_count": 31,
   "metadata": {},
   "outputs": [],
   "source": [
    "test._running = True\n"
   ]
  },
  {
   "cell_type": "code",
   "execution_count": 32,
   "metadata": {},
   "outputs": [],
   "source": [
    "cleanupwidgets('spinner')\n",
    "test_eq(test._trait_notifiers, {'_running': {'change': []}})\n"
   ]
  },
  {
   "cell_type": "code",
   "execution_count": 33,
   "metadata": {},
   "outputs": [
    {
     "data": {
      "text/html": [
       "\n",
       "<script>\n",
       "    var currentScript = document.currentScript;\n",
       "    currentScript.parentNode.innerHTML = '';\n",
       "    # console.log(currentScript);\n",
       "    # debugger;\n",
       "</script>\n"
      ],
      "text/plain": [
       "<IPython.core.display.HTML object>"
      ]
     },
     "metadata": {},
     "output_type": "display_data"
    }
   ],
   "source": [
    "cleanupwidgets('vsr3')\n",
    "\n",
    "vsr3 = Vsr1(\n",
    "    None, {'a': 3}, \n",
    "    ctxs={'vsr2': Vsr2(None, {'b': 'bbb'}, ctxs={'spinner': Spinner(test, 20, 3)})}, \n",
    "    css = \"\"\"\n",
    "    .vsr3 {\n",
    "        border: 1px solid red;\n",
    "    }\n",
    "    \"\"\"\n",
    ")\n",
    "test_eq(vsr3.values, {'a': 3})\n",
    "test_eq(vsr3.all_values, {'vsr2': {'b': 'bbb'}, 'self': {'a': 3}})\n",
    "vsr3.display()\n"
   ]
  },
  {
   "cell_type": "code",
   "execution_count": 34,
   "metadata": {},
   "outputs": [],
   "source": [
    "test._running = False\n"
   ]
  },
  {
   "cell_type": "code",
   "execution_count": 35,
   "metadata": {},
   "outputs": [],
   "source": [
    "test._running = True\n"
   ]
  },
  {
   "cell_type": "code",
   "execution_count": 36,
   "metadata": {},
   "outputs": [],
   "source": [
    "cleanupwidgets('vsr3')"
   ]
  },
  {
   "cell_type": "markdown",
   "metadata": {},
   "source": [
    "# Colophon\n",
    "----\n"
   ]
  },
  {
   "cell_type": "code",
   "execution_count": 37,
   "metadata": {},
   "outputs": [],
   "source": [
    "import fastcore.all as FC\n",
    "from nbdev.export import nb_export\n"
   ]
  },
  {
   "cell_type": "code",
   "execution_count": 38,
   "metadata": {},
   "outputs": [],
   "source": [
    "if FC.IN_NOTEBOOK:\n",
    "    nb_export('visor.ipynb', '..')\n"
   ]
  }
 ],
 "metadata": {
  "kernelspec": {
   "display_name": "Python 3 (ipykernel)",
   "language": "python",
   "name": "python3"
  },
  "language_info": {
   "codemirror_mode": {
    "name": "ipython",
    "version": 3
   },
   "file_extension": ".py",
   "mimetype": "text/x-python",
   "name": "python",
   "nbconvert_exporter": "python",
   "pygments_lexer": "ipython3",
   "version": "3.10.14"
  }
 },
 "nbformat": 4,
 "nbformat_minor": 4
}

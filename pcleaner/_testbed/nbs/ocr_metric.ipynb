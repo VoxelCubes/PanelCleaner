{
 "cells": [
  {
   "cell_type": "code",
   "execution_count": null,
   "metadata": {},
   "outputs": [],
   "source": [
    "#| default_exp ocr_metric"
   ]
  },
  {
   "cell_type": "code",
   "execution_count": null,
   "metadata": {},
   "outputs": [],
   "source": [
    "#| hide\n",
    "# %reload_ext autoreload\n",
    "# %autoreload 0\n"
   ]
  },
  {
   "cell_type": "markdown",
   "metadata": {},
   "source": [
    "# install (Colab)"
   ]
  },
  {
   "cell_type": "code",
   "execution_count": null,
   "metadata": {},
   "outputs": [],
   "source": [
    "# try: \n",
    "#     import fastcore as FC\n",
    "# except ImportError: \n",
    "#     !pip install -q fastcore\n",
    "# try:\n",
    "#     import rich\n",
    "# except ImportError:\n",
    "#     !pip install -q rich\n"
   ]
  },
  {
   "cell_type": "markdown",
   "metadata": {},
   "source": [
    "# Developing a metric for OCR of Comics/Manga texts\n"
   ]
  },
  {
   "cell_type": "markdown",
   "metadata": {},
   "source": [
    "# Prologue"
   ]
  },
  {
   "cell_type": "code",
   "execution_count": null,
   "metadata": {},
   "outputs": [],
   "source": [
    "#| export\n",
    "from __future__ import annotations\n",
    "\n",
    "import difflib\n",
    "import html\n",
    "\n",
    "from IPython.display import display\n",
    "from IPython.display import HTML\n",
    "from rich.console import Console\n"
   ]
  },
  {
   "cell_type": "code",
   "execution_count": null,
   "metadata": {},
   "outputs": [],
   "source": [
    "import fastcore.all as FC\n",
    "import fastcore.xtras  # patch Path with some utils\n",
    "import rich\n",
    "from fastcore.test import *  # type: ignore\n",
    "from loguru import logger\n"
   ]
  },
  {
   "cell_type": "markdown",
   "metadata": {},
   "source": [
    "# Helpers"
   ]
  },
  {
   "cell_type": "code",
   "execution_count": null,
   "metadata": {},
   "outputs": [],
   "source": [
    "# pretty print by default\n",
    "# %load_ext rich"
   ]
  },
  {
   "cell_type": "code",
   "execution_count": null,
   "metadata": {},
   "outputs": [],
   "source": [
    "\n",
    "console = Console(width=104, tab_size=4, force_jupyter=True)\n",
    "cprint = console.print\n"
   ]
  },
  {
   "cell_type": "markdown",
   "metadata": {},
   "source": [
    "## OCR results clean-up"
   ]
  },
  {
   "cell_type": "code",
   "execution_count": null,
   "metadata": {},
   "outputs": [],
   "source": [
    "#| export\n",
    "\n",
    "def remove_multiple_whitespaces(text):\n",
    "    return ' '.join(text.split())\n",
    "\n",
    "    \n",
    "def postprocess_ocr(text):\n",
    "    \"Basic postprocessing for English Tesseract OCR results.\"\n",
    "    return ' '.join(remove_multiple_whitespaces(text).splitlines()).capitalize()\n"
   ]
  },
  {
   "cell_type": "markdown",
   "metadata": {},
   "source": [
    "## OCR metric\n",
    "> Some basic ways to compare OCR results"
   ]
  },
  {
   "cell_type": "code",
   "execution_count": null,
   "metadata": {},
   "outputs": [],
   "source": [
    "#| export\n",
    "\n",
    "def accuracy_ocr_naive(text, ground_truth):\n",
    "    return sum(1 for a, b in zip(text, ground_truth) if a == b) / len(text)\n",
    "\n",
    "\n",
    "def accuracy_ocr_difflib(text, ground_truth):\n",
    "    \"\"\"\n",
    "    Calculates the OCR accuracy based on the similarity between the OCR text and the ground truth text,\n",
    "    using difflib's SequenceMatcher to account for differences in a manner similar to git diffs.\n",
    "\n",
    "    :param text: The OCR-generated text.\n",
    "    :param ground_truth: The ground truth text.\n",
    "    :return: A float representing the similarity ratio between the OCR text and the ground truth, \n",
    "            where 1.0 is identical.\n",
    "    \"\"\"\n",
    "    # Initialize the SequenceMatcher with the OCR text and the ground truth\n",
    "    matcher = difflib.SequenceMatcher(None, text, ground_truth)\n",
    "    \n",
    "    # Get the similarity ratio\n",
    "    similarity_ratio = matcher.ratio()\n",
    "    \n",
    "    return similarity_ratio"
   ]
  },
  {
   "cell_type": "code",
   "execution_count": null,
   "metadata": {},
   "outputs": [],
   "source": [
    "#| export\n",
    "\n",
    "def get_text_diffs_html(str1, str2: str | None=None, ignore_align: bool = False):\n",
    "    str2 = str2 or ''\n",
    "    matcher = difflib.SequenceMatcher(None, str1, str2)\n",
    "    html_str1, html_str2 = \"\", \"\"\n",
    "    _ch ='⎕'  # ▿\n",
    "    ch = f'&#x{ord(_ch):x};'\n",
    "    span1_g = lambda l: f\"<span style='color: green;'>{ch*l}</span>\" if l > 0 else \"\"\n",
    "    span1_r = lambda l: f\"<span style='color: red;'>{ch*l}</span>\" if l > 0 else \"\"\n",
    "    span2 = lambda s: f\"<span style='color: red;'>{html.escape(s)}</span>\" if s else \"\"\n",
    "\n",
    "    for opcode in matcher.get_opcodes():\n",
    "        tag, i1, i2, j1, j2 = opcode\n",
    "        if tag == \"equal\":\n",
    "            html_str1 += html.escape(str1[i1:i2])\n",
    "            html_str2 += html.escape(str2[j1:j2])\n",
    "        elif tag == \"replace\":\n",
    "            max_span = max(i2 - i1, j2 - j1)\n",
    "            # str1_segment = str1[i1:i2].ljust(max_span)\n",
    "            html_str1 += html.escape(str1[i1:i2]) + span1_g(max_span - (i2 - i1))\n",
    "            html_str2 += span2(str2[j1:j2]) + (span1_r(max_span - (j2 - j1)) if not ignore_align else '')\n",
    "        elif tag == \"delete\":\n",
    "            deleted_segment = str1[i1:i2]\n",
    "            html_str1 += html.escape(deleted_segment)\n",
    "            if not ignore_align: html_str2 += span1_r(len(deleted_segment))\n",
    "        elif tag == \"insert\":\n",
    "            inserted_segment = str2[j1:j2].replace(\" \", _ch)\n",
    "            html_str1 += span1_g(len(inserted_segment))\n",
    "            html_str2 += span2(inserted_segment)\n",
    "    html_str1 = f\"<div style='font-family: monospace; white-space: pre-wrap;'>{html_str1}</div>\"\n",
    "    html_str2 = f\"<div style='font-family: monospace; white-space: pre-wrap;'>{html_str2}</div>\"\n",
    "    return html_str1, html_str2\n",
    "\n",
    "def display_text_diffs(str1, str2):\n",
    "    \"\"\"\n",
    "    Displays two strings one above the other, with differing characters highlighted in red in the \n",
    "    second string only, using difflib.SequenceMatcher to align the strings and ensure matching \n",
    "    sequences are vertically aligned.\n",
    "\n",
    "    :param str1: The first string to compare.\n",
    "    :param str2: The second string to compare.\n",
    "    \"\"\"\n",
    "    html_str1, html_str2 = get_text_diffs_html(str1, str2)\n",
    "    display(HTML(f\"<pre style='font-size: 14px;'>{html_str1}<br/>{html_str2}</pre>\"))"
   ]
  },
  {
   "cell_type": "code",
   "execution_count": null,
   "metadata": {},
   "outputs": [
    {
     "data": {
      "text/html": [
       "<pre style='font-size: 14px;'><div style='font-family: monospace; white-space: pre-wrap;'>This i<span style='color: green;'>&#x2395;</span>s an awesome_<span style='color: green;'>&#x2395;&#x2395;&#x2395;</span> test<span style='color: green;'>&#x2395;</span> string.This i<span style='color: green;'>&#x2395;</span>s an awesome_<span style='color: green;'>&#x2395;&#x2395;&#x2395;</span> test<span style='color: green;'>&#x2395;</span> string.This i<span style='color: green;'>&#x2395;</span>s an awesome_<span style='color: green;'>&#x2395;&#x2395;&#x2395;</span> test<span style='color: green;'>&#x2395;</span> string.This i<span style='color: green;'>&#x2395;</span>s an awesome_<span style='color: green;'>&#x2395;&#x2395;&#x2395;</span> test<span style='color: green;'>&#x2395;</span> string.</div><br/><div style='font-family: monospace; white-space: pre-wrap;'>This <span style='color: red;'>wa</span>s an a<span style='color: red;'>&#x2395;&#x2395;&#x2395;&#x2395;</span>m<span style='color: red;'>azing</span> test<span style='color: red;'>▿</span> s<span style='color: red;'>p</span>ring.This <span style='color: red;'>wa</span>s an a<span style='color: red;'>&#x2395;&#x2395;&#x2395;&#x2395;</span>m<span style='color: red;'>azing</span> test<span style='color: red;'>▿</span> s<span style='color: red;'>p</span>ring.This <span style='color: red;'>wa</span>s an a<span style='color: red;'>&#x2395;&#x2395;&#x2395;&#x2395;</span>m<span style='color: red;'>azing</span> test<span style='color: red;'>▿</span> s<span style='color: red;'>p</span>ring.This <span style='color: red;'>wa</span>s an a<span style='color: red;'>&#x2395;&#x2395;&#x2395;&#x2395;</span>m<span style='color: red;'>azing</span> test<span style='color: red;'>▿</span> s<span style='color: red;'>p</span>ring.</div></pre>"
      ],
      "text/plain": [
       "<IPython.core.display.HTML object>"
      ]
     },
     "metadata": {},
     "output_type": "display_data"
    }
   ],
   "source": [
    "str1 = \"This is an awesome_ test string.\"*4\n",
    "str2 = \"This was an amazing test▿ spring.\"*4\n",
    "display_text_diffs(str1, str2)\n"
   ]
  },
  {
   "cell_type": "code",
   "execution_count": null,
   "metadata": {},
   "outputs": [
    {
     "data": {
      "text/html": [
       "<pre style='font-size: 14px;'><div style='font-family: monospace; white-space: pre-wrap;'>I was in a bad mood, and Curt sensed it immediately<span style='color: green;'>&#x2395;</span>...</div><br/><div style='font-family: monospace; white-space: pre-wrap;'>I was in a bad mood, and Curt sensed it immediately<span style='color: red;'>⎕</span>...</div></pre>"
      ],
      "text/plain": [
       "<IPython.core.display.HTML object>"
      ]
     },
     "metadata": {},
     "output_type": "display_data"
    }
   ],
   "source": [
    "str1 = \"I was in a bad mood, and Curt sensed it immediately...\"\n",
    "str2 = \"I was in a bad mood, and Curt sensed it immediately ...\"\n",
    "display_text_diffs(str1, str2)"
   ]
  },
  {
   "cell_type": "markdown",
   "metadata": {},
   "source": [
    "# Colophon\n",
    "----\n"
   ]
  },
  {
   "cell_type": "code",
   "execution_count": null,
   "metadata": {},
   "outputs": [],
   "source": [
    "import fastcore.all as FC\n",
    "from nbdev.export import nb_export\n"
   ]
  },
  {
   "cell_type": "code",
   "execution_count": null,
   "metadata": {},
   "outputs": [],
   "source": [
    "if FC.IN_NOTEBOOK:\n",
    "    nb_export('ocr_metric.ipynb', '../testbed')\n"
   ]
  }
 ],
 "metadata": {
  "kernelspec": {
   "display_name": "python3",
   "language": "python",
   "name": "python3"
  },
  "language_info": {
   "name": "python",
   "version": "3.11.9"
  }
 },
 "nbformat": 4,
 "nbformat_minor": 4
}

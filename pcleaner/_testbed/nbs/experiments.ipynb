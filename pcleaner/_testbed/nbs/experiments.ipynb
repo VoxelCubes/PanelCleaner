{
 "cells": [
  {
   "cell_type": "code",
   "execution_count": null,
   "metadata": {},
   "outputs": [],
   "source": [
    "#| default_exp experiments"
   ]
  },
  {
   "cell_type": "code",
   "execution_count": null,
   "metadata": {},
   "outputs": [],
   "source": [
    "#| export\n",
    "\n",
    "from __future__ import annotations\n"
   ]
  },
  {
   "cell_type": "code",
   "execution_count": null,
   "metadata": {},
   "outputs": [],
   "source": [
    "#| hide\n",
    "# %reload_ext autoreload\n",
    "# %autoreload 0\n"
   ]
  },
  {
   "cell_type": "markdown",
   "metadata": {},
   "source": [
    "# install (Colab)"
   ]
  },
  {
   "cell_type": "code",
   "execution_count": null,
   "metadata": {},
   "outputs": [],
   "source": [
    "# try: \n",
    "#     import fastcore as FC\n",
    "# except ImportError: \n",
    "#     !pip install -q fastcore\n",
    "# try:\n",
    "#     import rich\n",
    "# except ImportError:\n",
    "#     !pip install -q rich\n"
   ]
  },
  {
   "cell_type": "code",
   "execution_count": null,
   "metadata": {},
   "outputs": [],
   "source": [
    "# !pip uninstall Pillow"
   ]
  },
  {
   "cell_type": "code",
   "execution_count": null,
   "metadata": {},
   "outputs": [],
   "source": [
    "# !pip install \"pillow<10.1.0,>=8.3.2\""
   ]
  },
  {
   "cell_type": "markdown",
   "metadata": {},
   "source": [
    "> **Note: we're using the `testbed` branch of PanelCleaner.**"
   ]
  },
  {
   "cell_type": "code",
   "execution_count": null,
   "metadata": {},
   "outputs": [],
   "source": [
    "# !pip install -q git+https://github.com/civvic/PanelCleaner.git@testbed-colab"
   ]
  },
  {
   "cell_type": "markdown",
   "metadata": {},
   "source": [
    "# PanelCleaner Testbed\n",
    "> An PanelCleaner space to explore, play, colaborate and experiment with ML/DL techniques.\n"
   ]
  },
  {
   "cell_type": "markdown",
   "metadata": {},
   "source": [
    "# Prologue"
   ]
  },
  {
   "cell_type": "code",
   "execution_count": null,
   "metadata": {},
   "outputs": [],
   "source": [
    "#| export\n",
    "import contextlib\n",
    "import dataclasses\n",
    "import datetime\n",
    "import difflib\n",
    "import functools\n",
    "import json\n",
    "import os\n",
    "import shutil\n",
    "import tempfile\n",
    "from collections import defaultdict\n",
    "from enum import Enum\n",
    "from pathlib import Path\n",
    "from typing import Any\n",
    "from typing import Callable\n",
    "from typing import cast\n",
    "from typing import Mapping\n",
    "from typing import TypeAlias\n",
    "\n",
    "import fastcore.all as FC\n",
    "import ipywidgets as W\n",
    "import matplotlib.pyplot as plt\n",
    "import numpy as np\n",
    "import pandas as pd\n",
    "import pcleaner.config as cfg\n",
    "import pcleaner.ctd_interface as ctm\n",
    "import pcleaner.image_ops as ops\n",
    "import pcleaner.ocr.ocr as ocr\n",
    "import pcleaner.structures as st\n",
    "import torch\n",
    "import traitlets as T\n",
    "from IPython.display import clear_output\n",
    "from IPython.display import display\n",
    "from IPython.display import HTML\n",
    "from loguru import logger\n",
    "from pcleaner.ocr.ocr_tesseract import TesseractOcr\n",
    "from PIL import Image\n",
    "from PIL import ImageFilter\n",
    "from rich.console import Console\n",
    "from tqdm.notebook import tqdm\n",
    "\n",
    "from testbed.helpers import *\n",
    "from testbed.ocr_metric import *\n",
    "from testbed.visor import ContextVisor\n",
    "from testbed.visor import Spinner\n",
    "from testbed.web_server import WebServer\n",
    "from testbed.web_server import setup_ngrok\n",
    "from testbed.web_server import WebServerBottle\n"
   ]
  },
  {
   "cell_type": "code",
   "execution_count": null,
   "metadata": {},
   "outputs": [],
   "source": [
    "import copy\n",
    "import re\n",
    "from contextlib import ExitStack\n",
    "from typing import Protocol\n",
    "\n",
    "import fastcore.xtras  # patch `Path` with some utils (like `ls()` to list folder contents)\n",
    "import pcleaner.cli_utils as cli\n",
    "import pcleaner.preprocessor as pp\n",
    "import pytesseract\n",
    "import rich\n",
    "from fastcore.test import *  # type: ignore\n"
   ]
  },
  {
   "cell_type": "markdown",
   "metadata": {},
   "source": [
    "# Helpers"
   ]
  },
  {
   "cell_type": "code",
   "execution_count": null,
   "metadata": {},
   "outputs": [],
   "source": [
    "# pretty print by default\n",
    "# %load_ext rich"
   ]
  },
  {
   "cell_type": "code",
   "execution_count": null,
   "metadata": {},
   "outputs": [],
   "source": [
    "#| exporti\n",
    "console = Console(width=104, tab_size=4, force_jupyter=True)\n",
    "cprint = console.print\n"
   ]
  },
  {
   "cell_type": "markdown",
   "metadata": {},
   "source": [
    "## USE_PIL"
   ]
  },
  {
   "cell_type": "markdown",
   "metadata": {},
   "source": [
    "The experiments can generate hundreds of images, and maintaining the **PIL** images in memory is not efficient. All the generated images are cached and visualized on demand through a URL pointing to the local cache. This approach prevents the kernel from being overloaded with **PIL** images, with the front-end responsible for fetching the image and the backend web server (not the kernel) for serving the image in another process. This method is quick and efficient. As an added bonus, the saved notebook remains lean and fit; it doesn't store the Base64 versions of all the output cell images.\n",
    "\n",
    "Unfortunately, this approach does not work as is in **Colab**. Google Colab runs on an older Ubuntu 18.04 VM, so all the usual networking challenges with Docker, or whatever VMs Google is using, apply. Google also goes to great lengths to avoid exposing its internal architecture. We have two options:\n",
    "- Let the Jupyter kernel serve the images itself, which is slow and memory-consuming.\n",
    "- Use a tunnel to map localhost (server) to whatever IP and port the front-end (the browser you're currently using) is running on. We can use **ngrok** for this, but *ngrok* is a commercial service that has been abused and now requires confirmation the first time the tunnel connects, which can be inconvenient for the user. It also requires the user to open a free account and obtain an auth token.\n",
    "\n",
    "You choose.\n",
    "\n",
    "If the notebook is running in Colab and ngrok has been successfully installed and the tunnel has been created, the default setting is USE_PIL=False. You can set the environment variable USE_PIL=True to force the use of PIL images, but note that in certain circumstances, Colab will complain because the free tiers are usually memory constrained.\n"
   ]
  },
  {
   "cell_type": "code",
   "execution_count": null,
   "metadata": {},
   "outputs": [],
   "source": [
    "#| exporti\n",
    "\n",
    "os.environ['USE_PIL'] = 'False'\n",
    "os.environ['USE_TUNNEL'] = 'False'\n",
    "SERVER = None\n"
   ]
  },
  {
   "cell_type": "markdown",
   "metadata": {},
   "source": [
    "## Tesseract setup"
   ]
  },
  {
   "cell_type": "markdown",
   "metadata": {},
   "source": [
    "Get current version of Tesseract"
   ]
  },
  {
   "cell_type": "code",
   "execution_count": null,
   "metadata": {},
   "outputs": [
    {
     "data": {
      "text/html": [
       "<pre style=\"white-space:pre;overflow-x:auto;line-height:normal;font-family:Menlo,'DejaVu Sans Mono',consolas,'Courier New',monospace\"><span style=\"font-weight: bold\">[</span>\n",
       "    <span style=\"color: #008000; text-decoration-color: #008000\">'tesseract 5.3.4'</span>,\n",
       "    <span style=\"color: #008000; text-decoration-color: #008000\">' leptonica-1.84.1'</span>,\n",
       "    <span style=\"color: #008000; text-decoration-color: #008000\">'  libgif 5.2.1 : libjpeg 8d (libjpeg-turbo 3.0.0) : libpng 1.6.43 : libtiff 4.6.0 : zlib 1.2.11 : </span>\n",
       "<span style=\"color: #008000; text-decoration-color: #008000\">libwebp 1.4.0 : libopenjp2 2.5.2'</span>,\n",
       "    <span style=\"color: #008000; text-decoration-color: #008000\">' Found NEON'</span>,\n",
       "    <span style=\"color: #008000; text-decoration-color: #008000\">' Found libarchive 3.7.2 zlib/1.2.11 liblzma/5.4.6 bz2lib/1.0.8 liblz4/1.9.4 libzstd/1.5.6'</span>,\n",
       "    <span style=\"color: #008000; text-decoration-color: #008000\">' Found libcurl/8.6.0 SecureTransport (LibreSSL/3.3.6) zlib/1.2.12 nghttp2/1.61.0'</span>\n",
       "<span style=\"font-weight: bold\">]</span>\n",
       "</pre>\n"
      ],
      "text/plain": [
       "\u001b[1m[\u001b[0m\n",
       "    \u001b[32m'tesseract 5.3.4'\u001b[0m,\n",
       "    \u001b[32m' leptonica-1.84.1'\u001b[0m,\n",
       "    \u001b[32m'  libgif 5.2.1 : libjpeg 8d \u001b[0m\u001b[32m(\u001b[0m\u001b[32mlibjpeg-turbo 3.0.0\u001b[0m\u001b[32m)\u001b[0m\u001b[32m : libpng 1.6.43 : libtiff 4.6.0 : zlib 1.2.11 : \u001b[0m\n",
       "\u001b[32mlibwebp 1.4.0 : libopenjp2 2.5.2'\u001b[0m,\n",
       "    \u001b[32m' Found NEON'\u001b[0m,\n",
       "    \u001b[32m' Found libarchive 3.7.2 zlib/1.2.11 liblzma/5.4.6 bz2lib/1.0.8 liblz4/1.9.4 libzstd/1.5.6'\u001b[0m,\n",
       "    \u001b[32m' Found libcurl/8.6.0 SecureTransport \u001b[0m\u001b[32m(\u001b[0m\u001b[32mLibreSSL/3.3.6\u001b[0m\u001b[32m)\u001b[0m\u001b[32m zlib/1.2.12 nghttp2/1.61.0'\u001b[0m\n",
       "\u001b[1m]\u001b[0m\n"
      ]
     },
     "metadata": {},
     "output_type": "display_data"
    }
   ],
   "source": [
    "out = !tesseract --version  # type: ignore\n",
    "cprint(out)\n",
    "if 'tesseract 5.' not in out[0]:\n",
    "    if 'tesseractd 4.' in out[0]:\n",
    "        cprint('Old Tesseract 4.x is installed. You should uninstall it and install Tesseract 5.x')\n",
    "    else:\n",
    "        cprint('You should install Tesseract 5.x')\n"
   ]
  },
  {
   "cell_type": "markdown",
   "metadata": {},
   "source": [
    "> **NOTE: in below cells, when you encounter lines starting with the exclamation mark `!` (`bang`), uncoment them if you want to excute the shell commands**\n"
   ]
  },
  {
   "cell_type": "markdown",
   "metadata": {},
   "source": [
    "### Remove Tesseract installation\n",
    "> I you have the old 4.x version, you should consider removing the installation with the following commands.\n"
   ]
  },
  {
   "cell_type": "markdown",
   "metadata": {},
   "source": [
    "#### Mac (TBD)"
   ]
  },
  {
   "cell_type": "markdown",
   "metadata": {},
   "source": [
    "#### WIndows (TBD)"
   ]
  },
  {
   "cell_type": "markdown",
   "metadata": {},
   "source": [
    "#### Ubuntu"
   ]
  },
  {
   "cell_type": "code",
   "execution_count": null,
   "metadata": {},
   "outputs": [],
   "source": [
    "# !sudo apt-get remove tesseract-ocr\n"
   ]
  },
  {
   "cell_type": "markdown",
   "metadata": {},
   "source": [
    "### Tesseract installation"
   ]
  },
  {
   "cell_type": "markdown",
   "metadata": {},
   "source": [
    "#### Mac (TBD)"
   ]
  },
  {
   "cell_type": "markdown",
   "metadata": {},
   "source": [
    "#### WIndows (TBD)"
   ]
  },
  {
   "cell_type": "markdown",
   "metadata": {},
   "source": [
    "#### Ubuntu"
   ]
  },
  {
   "cell_type": "markdown",
   "metadata": {},
   "source": [
    "The **5.x** release series is available in the [another PPA](https://launchpad.net/~alex-p/+archive/ubuntu/tesseract-ocr5) for Ubuntu **18.04**, **20.04**, and **22.04**.\n"
   ]
  },
  {
   "cell_type": "code",
   "execution_count": null,
   "metadata": {},
   "outputs": [],
   "source": [
    "# !sudo add-apt-repository -y ppa:alex-p/tesseract-ocr5"
   ]
  },
  {
   "cell_type": "markdown",
   "metadata": {},
   "source": [
    "refresh system package cache in case you’re still running old Ubuntu 18.04"
   ]
  },
  {
   "cell_type": "code",
   "execution_count": null,
   "metadata": {},
   "outputs": [],
   "source": [
    "# !sudo apt update"
   ]
  },
  {
   "cell_type": "markdown",
   "metadata": {},
   "source": [
    "install the software engine"
   ]
  },
  {
   "cell_type": "code",
   "execution_count": null,
   "metadata": {},
   "outputs": [],
   "source": [
    "# !sudo apt install -y tesseract-ocr"
   ]
  },
  {
   "cell_type": "markdown",
   "metadata": {},
   "source": [
    "and check version:"
   ]
  },
  {
   "cell_type": "code",
   "execution_count": null,
   "metadata": {},
   "outputs": [
    {
     "data": {
      "text/html": [
       "<pre style=\"white-space:pre;overflow-x:auto;line-height:normal;font-family:Menlo,'DejaVu Sans Mono',consolas,'Courier New',monospace\"><span style=\"font-weight: bold\">[</span>\n",
       "    <span style=\"color: #008000; text-decoration-color: #008000\">'tesseract 5.3.4'</span>,\n",
       "    <span style=\"color: #008000; text-decoration-color: #008000\">' leptonica-1.84.1'</span>,\n",
       "    <span style=\"color: #008000; text-decoration-color: #008000\">'  libgif 5.2.1 : libjpeg 8d (libjpeg-turbo 3.0.0) : libpng 1.6.43 : libtiff 4.6.0 : zlib 1.2.11 : </span>\n",
       "<span style=\"color: #008000; text-decoration-color: #008000\">libwebp 1.4.0 : libopenjp2 2.5.2'</span>,\n",
       "    <span style=\"color: #008000; text-decoration-color: #008000\">' Found NEON'</span>,\n",
       "    <span style=\"color: #008000; text-decoration-color: #008000\">' Found libarchive 3.7.2 zlib/1.2.11 liblzma/5.4.6 bz2lib/1.0.8 liblz4/1.9.4 libzstd/1.5.6'</span>,\n",
       "    <span style=\"color: #008000; text-decoration-color: #008000\">' Found libcurl/8.6.0 SecureTransport (LibreSSL/3.3.6) zlib/1.2.12 nghttp2/1.61.0'</span>\n",
       "<span style=\"font-weight: bold\">]</span>\n",
       "</pre>\n"
      ],
      "text/plain": [
       "\u001b[1m[\u001b[0m\n",
       "    \u001b[32m'tesseract 5.3.4'\u001b[0m,\n",
       "    \u001b[32m' leptonica-1.84.1'\u001b[0m,\n",
       "    \u001b[32m'  libgif 5.2.1 : libjpeg 8d \u001b[0m\u001b[32m(\u001b[0m\u001b[32mlibjpeg-turbo 3.0.0\u001b[0m\u001b[32m)\u001b[0m\u001b[32m : libpng 1.6.43 : libtiff 4.6.0 : zlib 1.2.11 : \u001b[0m\n",
       "\u001b[32mlibwebp 1.4.0 : libopenjp2 2.5.2'\u001b[0m,\n",
       "    \u001b[32m' Found NEON'\u001b[0m,\n",
       "    \u001b[32m' Found libarchive 3.7.2 zlib/1.2.11 liblzma/5.4.6 bz2lib/1.0.8 liblz4/1.9.4 libzstd/1.5.6'\u001b[0m,\n",
       "    \u001b[32m' Found libcurl/8.6.0 SecureTransport \u001b[0m\u001b[32m(\u001b[0m\u001b[32mLibreSSL/3.3.6\u001b[0m\u001b[32m)\u001b[0m\u001b[32m zlib/1.2.12 nghttp2/1.61.0'\u001b[0m\n",
       "\u001b[1m]\u001b[0m\n"
      ]
     },
     "metadata": {},
     "output_type": "display_data"
    }
   ],
   "source": [
    "out = !tesseract --version  # type: ignore\n",
    "cprint(out)"
   ]
  },
  {
   "cell_type": "markdown",
   "metadata": {},
   "source": [
    "### Install Tesseract languages"
   ]
  },
  {
   "cell_type": "code",
   "execution_count": null,
   "metadata": {},
   "outputs": [
    {
     "data": {
      "text/html": [
       "<pre style=\"white-space:pre;overflow-x:auto;line-height:normal;font-family:Menlo,'DejaVu Sans Mono',consolas,'Courier New',monospace\">tessdata path: <span style=\"color: #800080; text-decoration-color: #800080\">/opt/homebrew/share/</span><span style=\"color: #ff00ff; text-decoration-color: #ff00ff\">tessdata</span>\n",
       "</pre>\n"
      ],
      "text/plain": [
       "tessdata path: \u001b[35m/opt/homebrew/share/\u001b[0m\u001b[95mtessdata\u001b[0m\n"
      ]
     },
     "metadata": {},
     "output_type": "display_data"
    },
    {
     "data": {
      "text/html": [
       "<pre style=\"white-space:pre;overflow-x:auto;line-height:normal;font-family:Menlo,'DejaVu Sans Mono',consolas,'Courier New',monospace\">Installed languages:\n",
       "<span style=\"font-weight: bold\">[</span>\n",
       "    <span style=\"color: #008000; text-decoration-color: #008000\">'afr, amh, ara, asm, aze, aze_cyrl, bel, ben, bod, bos, bre, bul, cat, ceb, ces'</span>,\n",
       "    <span style=\"color: #008000; text-decoration-color: #008000\">'chi_sim, chi_sim_vert, chi_tra, chi_tra_vert, chr, cos, cym, dan, deu, div, dzo, ell, eng, enm, </span>\n",
       "<span style=\"color: #008000; text-decoration-color: #008000\">epo'</span>,\n",
       "    <span style=\"color: #008000; text-decoration-color: #008000\">'equ, est, eus, fao, fas, fil, fin, fra, frk, frm, fry, gla, gle, glg, grc'</span>,\n",
       "    <span style=\"color: #008000; text-decoration-color: #008000\">'guj, hat, heb, hin, hrv, hun, hye, iku, ind, isl, ita, ita_old, jav, jpn, jpn_vert'</span>,\n",
       "    <span style=\"color: #008000; text-decoration-color: #008000\">'kan, kat, kat_old, kaz, khm, kir, kmr, kor, kor_vert, lao, lat, lav, lit, ltz, mal'</span>,\n",
       "    <span style=\"color: #008000; text-decoration-color: #008000\">'mar, mkd, mlt, mon, mri, msa, mya, nep, nld, nor, oci, ori, osd, pan, pol'</span>,\n",
       "    <span style=\"color: #008000; text-decoration-color: #008000\">'por, pus, que, ron, rus, san, script/Arabic, script/Armenian, script/Bengali, </span>\n",
       "<span style=\"color: #008000; text-decoration-color: #008000\">script/Canadian_Aboriginal, script/Cherokee, script/Cyrillic, script/Devanagari, script/Ethiopic, </span>\n",
       "<span style=\"color: #008000; text-decoration-color: #008000\">script/Fraktur'</span>,\n",
       "    <span style=\"color: #008000; text-decoration-color: #008000\">'script/Georgian, script/Greek, script/Gujarati, script/Gurmukhi, script/HanS, script/HanS_vert, </span>\n",
       "<span style=\"color: #008000; text-decoration-color: #008000\">script/HanT, script/HanT_vert, script/Hangul, script/Hangul_vert, script/Hebrew, script/Japanese, </span>\n",
       "<span style=\"color: #008000; text-decoration-color: #008000\">script/Japanese_vert, script/Kannada, script/Khmer'</span>,\n",
       "    <span style=\"color: #008000; text-decoration-color: #008000\">'script/Lao, script/Latin, script/Malayalam, script/Myanmar, script/Oriya, script/Sinhala, </span>\n",
       "<span style=\"color: #008000; text-decoration-color: #008000\">script/Syriac, script/Tamil, script/Telugu, script/Thaana, script/Thai, script/Tibetan, </span>\n",
       "<span style=\"color: #008000; text-decoration-color: #008000\">script/Vietnamese, sin, slk'</span>,\n",
       "    <span style=\"color: #008000; text-decoration-color: #008000\">'slv, snd, snum, spa, spa_old, sqi, srp, srp_latn, sun, swa, swe, syr, tam, tat, tel'</span>,\n",
       "    <span style=\"color: #008000; text-decoration-color: #008000\">'tgk, tha, tir, ton, tur, uig, ukr, urd, uzb, uzb_cyrl, vie, yid, yor'</span>\n",
       "<span style=\"font-weight: bold\">]</span>\n",
       "</pre>\n"
      ],
      "text/plain": [
       "Installed languages:\n",
       "\u001b[1m[\u001b[0m\n",
       "    \u001b[32m'afr, amh, ara, asm, aze, aze_cyrl, bel, ben, bod, bos, bre, bul, cat, ceb, ces'\u001b[0m,\n",
       "    \u001b[32m'chi_sim, chi_sim_vert, chi_tra, chi_tra_vert, chr, cos, cym, dan, deu, div, dzo, ell, eng, enm, \u001b[0m\n",
       "\u001b[32mepo'\u001b[0m,\n",
       "    \u001b[32m'equ, est, eus, fao, fas, fil, fin, fra, frk, frm, fry, gla, gle, glg, grc'\u001b[0m,\n",
       "    \u001b[32m'guj, hat, heb, hin, hrv, hun, hye, iku, ind, isl, ita, ita_old, jav, jpn, jpn_vert'\u001b[0m,\n",
       "    \u001b[32m'kan, kat, kat_old, kaz, khm, kir, kmr, kor, kor_vert, lao, lat, lav, lit, ltz, mal'\u001b[0m,\n",
       "    \u001b[32m'mar, mkd, mlt, mon, mri, msa, mya, nep, nld, nor, oci, ori, osd, pan, pol'\u001b[0m,\n",
       "    \u001b[32m'por, pus, que, ron, rus, san, script/Arabic, script/Armenian, script/Bengali, \u001b[0m\n",
       "\u001b[32mscript/Canadian_Aboriginal, script/Cherokee, script/Cyrillic, script/Devanagari, script/Ethiopic, \u001b[0m\n",
       "\u001b[32mscript/Fraktur'\u001b[0m,\n",
       "    \u001b[32m'script/Georgian, script/Greek, script/Gujarati, script/Gurmukhi, script/HanS, script/HanS_vert, \u001b[0m\n",
       "\u001b[32mscript/HanT, script/HanT_vert, script/Hangul, script/Hangul_vert, script/Hebrew, script/Japanese, \u001b[0m\n",
       "\u001b[32mscript/Japanese_vert, script/Kannada, script/Khmer'\u001b[0m,\n",
       "    \u001b[32m'script/Lao, script/Latin, script/Malayalam, script/Myanmar, script/Oriya, script/Sinhala, \u001b[0m\n",
       "\u001b[32mscript/Syriac, script/Tamil, script/Telugu, script/Thaana, script/Thai, script/Tibetan, \u001b[0m\n",
       "\u001b[32mscript/Vietnamese, sin, slk'\u001b[0m,\n",
       "    \u001b[32m'slv, snd, snum, spa, spa_old, sqi, srp, srp_latn, sun, swa, swe, syr, tam, tat, tel'\u001b[0m,\n",
       "    \u001b[32m'tgk, tha, tir, ton, tur, uig, ukr, urd, uzb, uzb_cyrl, vie, yid, yor'\u001b[0m\n",
       "\u001b[1m]\u001b[0m\n"
      ]
     },
     "metadata": {},
     "output_type": "display_data"
    }
   ],
   "source": [
    "out = !tesseract --list-langs  # type: ignore\n",
    "tessdata = Path(out[0].split('\"')[1])\n",
    "cprint(f\"tessdata path: {tessdata}\")\n",
    "cprint(\"Installed languages:\", [', '.join(sub) for sub in [out[i:i + 15] for i in range(1, len(out), 15)]])"
   ]
  },
  {
   "cell_type": "markdown",
   "metadata": {},
   "source": [
    "####  Install **best** languages and **jpn_ver** Tesseract lang\n",
    "> Much better results than default langs and `jpn` language model.\n"
   ]
  },
  {
   "cell_type": "markdown",
   "metadata": {},
   "source": [
    "Download from [tessdata_best](https://github.com/tesseract-ocr/tessdata_best).  \n",
    "Donwload from [here](https://groups.google.com/g/tesseract-ocr/c/FwjSZzoVgeg/m/u-zyFYQiBgAJ) a model trained for vertical Japanese text as found in manga.\n",
    "\n",
    "See [here](https://tesseract-ocr.github.io/tessdoc/Data-Files-in-different-versions.html) the languages codes.\n",
    "\n",
    "> Note: I've not play much with `jpn` or `jpn_vert`, `manag-ocr` is surely a much better fit, but it can be educational to compare."
   ]
  },
  {
   "cell_type": "markdown",
   "metadata": {},
   "source": [
    "Uncomment and excute to download the best language models:\n"
   ]
  },
  {
   "cell_type": "code",
   "execution_count": null,
   "metadata": {},
   "outputs": [],
   "source": [
    "# !wget https://raw.githubusercontent.com/tesseract-ocr/tessdata_best/main/osd.traineddata\n",
    "# !wget https://raw.githubusercontent.com/tesseract-ocr/tessdata_best/main/eng.traineddata\n",
    "# !wget https://raw.githubusercontent.com/tesseract-ocr/tessdata_best/main/jpn.traineddata\n",
    "\n",
    "# !wget https://raw.githubusercontent.com/tesseract-ocr/tessdata_best/main/jpn_vert.traineddata\n",
    "# or\n",
    "# !wget -O jpn_vert.traineddata https://github.com/zodiac3539/jpn_vert/blob/master/jpn_ver5.traineddata\n",
    "\n",
    "# !wget https://raw.githubusercontent.com/tesseract-ocr/tessdata_best/main/spa.traineddata\n",
    "# !wget https://raw.githubusercontent.com/tesseract-ocr/tessdata_best/main/fra.traineddata"
   ]
  },
  {
   "cell_type": "markdown",
   "metadata": {},
   "source": [
    "Copy downloaded models to tessdata folder (double check that `tessdata` variable points to the right folder):\n"
   ]
  },
  {
   "cell_type": "code",
   "execution_count": null,
   "metadata": {},
   "outputs": [
    {
     "data": {
      "text/html": [
       "<pre style=\"white-space:pre;overflow-x:auto;line-height:normal;font-family:Menlo,'DejaVu Sans Mono',consolas,'Courier New',monospace\">tessdata path: <span style=\"color: #800080; text-decoration-color: #800080\">/opt/homebrew/share/</span><span style=\"color: #ff00ff; text-decoration-color: #ff00ff\">tessdata</span>\n",
       "</pre>\n"
      ],
      "text/plain": [
       "tessdata path: \u001b[35m/opt/homebrew/share/\u001b[0m\u001b[95mtessdata\u001b[0m\n"
      ]
     },
     "metadata": {},
     "output_type": "display_data"
    }
   ],
   "source": [
    "cprint(f\"tessdata path: {tessdata}\")"
   ]
  },
  {
   "cell_type": "code",
   "execution_count": null,
   "metadata": {},
   "outputs": [],
   "source": [
    "# !sudo mv *.traineddata $tessdata"
   ]
  },
  {
   "cell_type": "markdown",
   "metadata": {},
   "source": [
    "and remove the downloaded models:\n"
   ]
  },
  {
   "cell_type": "code",
   "execution_count": null,
   "metadata": {},
   "outputs": [],
   "source": [
    "# !rm *.traineddata"
   ]
  },
  {
   "cell_type": "markdown",
   "metadata": {},
   "source": [
    "Check installed languages\n"
   ]
  },
  {
   "cell_type": "code",
   "execution_count": null,
   "metadata": {},
   "outputs": [
    {
     "data": {
      "text/html": [
       "<pre style=\"white-space:pre;overflow-x:auto;line-height:normal;font-family:Menlo,'DejaVu Sans Mono',consolas,'Courier New',monospace\"><span style=\"font-weight: bold\">[</span>\n",
       "    <span style=\"color: #800080; text-decoration-color: #800080; font-weight: bold\">Path</span><span style=\"font-weight: bold\">(</span><span style=\"color: #008000; text-decoration-color: #008000\">'/opt/homebrew/share/tessdata/spa.traineddata'</span><span style=\"font-weight: bold\">)</span>,\n",
       "    <span style=\"color: #800080; text-decoration-color: #800080; font-weight: bold\">Path</span><span style=\"font-weight: bold\">(</span><span style=\"color: #008000; text-decoration-color: #008000\">'/opt/homebrew/share/tessdata/eng.traineddata'</span><span style=\"font-weight: bold\">)</span>,\n",
       "    <span style=\"color: #800080; text-decoration-color: #800080; font-weight: bold\">Path</span><span style=\"font-weight: bold\">(</span><span style=\"color: #008000; text-decoration-color: #008000\">'/opt/homebrew/share/tessdata/jpn_vert.traineddata'</span><span style=\"font-weight: bold\">)</span>,\n",
       "    <span style=\"color: #800080; text-decoration-color: #800080; font-weight: bold\">Path</span><span style=\"font-weight: bold\">(</span><span style=\"color: #008000; text-decoration-color: #008000\">'/opt/homebrew/share/tessdata/spa_old.traineddata'</span><span style=\"font-weight: bold\">)</span>,\n",
       "    <span style=\"color: #800080; text-decoration-color: #800080; font-weight: bold\">Path</span><span style=\"font-weight: bold\">(</span><span style=\"color: #008000; text-decoration-color: #008000\">'/opt/homebrew/share/tessdata/fra.traineddata'</span><span style=\"font-weight: bold\">)</span>,\n",
       "    <span style=\"color: #800080; text-decoration-color: #800080; font-weight: bold\">Path</span><span style=\"font-weight: bold\">(</span><span style=\"color: #008000; text-decoration-color: #008000\">'/opt/homebrew/share/tessdata/jpn.traineddata'</span><span style=\"font-weight: bold\">)</span>\n",
       "<span style=\"font-weight: bold\">]</span>\n",
       "</pre>\n"
      ],
      "text/plain": [
       "\u001b[1m[\u001b[0m\n",
       "    \u001b[1;35mPath\u001b[0m\u001b[1m(\u001b[0m\u001b[32m'/opt/homebrew/share/tessdata/spa.traineddata'\u001b[0m\u001b[1m)\u001b[0m,\n",
       "    \u001b[1;35mPath\u001b[0m\u001b[1m(\u001b[0m\u001b[32m'/opt/homebrew/share/tessdata/eng.traineddata'\u001b[0m\u001b[1m)\u001b[0m,\n",
       "    \u001b[1;35mPath\u001b[0m\u001b[1m(\u001b[0m\u001b[32m'/opt/homebrew/share/tessdata/jpn_vert.traineddata'\u001b[0m\u001b[1m)\u001b[0m,\n",
       "    \u001b[1;35mPath\u001b[0m\u001b[1m(\u001b[0m\u001b[32m'/opt/homebrew/share/tessdata/spa_old.traineddata'\u001b[0m\u001b[1m)\u001b[0m,\n",
       "    \u001b[1;35mPath\u001b[0m\u001b[1m(\u001b[0m\u001b[32m'/opt/homebrew/share/tessdata/fra.traineddata'\u001b[0m\u001b[1m)\u001b[0m,\n",
       "    \u001b[1;35mPath\u001b[0m\u001b[1m(\u001b[0m\u001b[32m'/opt/homebrew/share/tessdata/jpn.traineddata'\u001b[0m\u001b[1m)\u001b[0m\n",
       "\u001b[1m]\u001b[0m\n"
      ]
     },
     "metadata": {},
     "output_type": "display_data"
    }
   ],
   "source": [
    "cprint(list(filter(lambda x: re.match(r'eng|jpn|jpn_vert|fra|spa', x.name), tessdata.ls())))  # type: ignore\n",
    "# cprint(pytesseract.get_languages())\n"
   ]
  },
  {
   "cell_type": "markdown",
   "metadata": {},
   "source": [
    "## Ground truth"
   ]
  },
  {
   "cell_type": "code",
   "execution_count": null,
   "metadata": {},
   "outputs": [],
   "source": [
    "#| export\n",
    "\n",
    "def ground_truth_path_old(page_data: st.PageData):\n",
    "    path = Path(page_data.original_path)\n",
    "    return path.with_stem(path.stem + '_gt').with_suffix('.txt')\n",
    "\n",
    "\n",
    "def read_ground_truth_old(page_data: st.PageData, root_dir: Path):\n",
    "    gts_path = root_dir / ground_truth_path_old(page_data)\n",
    "    if gts_path.exists():\n",
    "        gts = gts_path.read_text(encoding=\"utf-8\").splitlines()\n",
    "    else:\n",
    "        gts = [\"\" for _ in range(len(page_data.boxes))]\n",
    "    return gts\n",
    "\n",
    "\n",
    "def ground_truth_path(page_data: st.PageData):\n",
    "    path = Path(page_data.original_path)\n",
    "    return path.with_stem(path.stem + '_gt').with_suffix('.json')\n",
    "\n",
    "\n",
    "def read_ground_truth(page_data: st.PageData, root_dir: Path) -> dict[str, list[str]]:\n",
    "    gts_path = root_dir / ground_truth_path(page_data)\n",
    "    empty = [\"\" for _ in range(len(page_data.boxes))]\n",
    "    if gts_path.exists():\n",
    "        try:\n",
    "            with open(gts_path, 'r') as f:\n",
    "                data = json.load(f)\n",
    "                if 'all-caps' not in data:\n",
    "                    data['all-caps'] = empty\n",
    "                if 'capitalized' not in data:\n",
    "                    data['capitalized'] = empty.copy()\n",
    "                return data\n",
    "        except Exception as e:\n",
    "            logger.error(f\"Error loading {gts_path}: {e}\")\n",
    "    gts = {'all-caps': empty,\n",
    "            'capitalized': empty.copy()}\n",
    "    return gts\n",
    "\n",
    "\n",
    "def save_ground_truth(gts: dict[str, list[str]], page_data: st.PageData, root_dir: Path):\n",
    "    fp = root_dir / ground_truth_path(page_data)\n",
    "    with open(fp, 'w') as f:\n",
    "        json.dump(gts, f, indent=2)\n",
    "    return fp\n"
   ]
  },
  {
   "cell_type": "markdown",
   "metadata": {},
   "source": [
    "## Cropping"
   ]
  },
  {
   "cell_type": "code",
   "execution_count": null,
   "metadata": {},
   "outputs": [],
   "source": [
    "#| export\n",
    "\n",
    "def dilate_by_fractional_pixel(image, dilation_fraction, filter_base_size=3):\n",
    "    \"\"\"\n",
    "    Dilates an image by a specified fractional pixel amount. The function calculates \n",
    "    the necessary scaling factor and filter size based on the desired dilation fraction.\n",
    "\n",
    "    :param image: A PIL Image object (1-bit mode).\n",
    "    :param dilation_fraction: The desired fractional pixel amount for dilation (e.g., 0.2).\n",
    "    :param filter_base_size: The base size of the dilation filter to apply on the scaled image.\n",
    "                             This size is adjusted based on the scaling factor to achieve the\n",
    "                             desired dilation effect.\n",
    "    :return: A PIL Image object after dilation, converted back to grayscale.\n",
    "    \"\"\"\n",
    "    from PIL.Image import Resampling\n",
    "    # Calculate the scale factor based on the desired dilation fraction\n",
    "    scale_factor = int(1 / dilation_fraction)\n",
    "    \n",
    "    # Adjust the filter size based on the scale factor\n",
    "    # This ensures the dilation effect is proportional to the desired fraction\n",
    "    filter_size = max(1, filter_base_size * scale_factor // 5)\n",
    "\n",
    "    # Convert the image to grayscale for more nuanced intermediate values\n",
    "    image_gray = image.convert(\"L\")\n",
    "\n",
    "    # Resize the image to a larger size using bicubic interpolation\n",
    "    larger_size = (int(image.width * scale_factor), int(image.height * scale_factor))\n",
    "    image_resized = image_gray.resize(larger_size, Resampling.BICUBIC)\n",
    "\n",
    "    # Apply the dilation filter to the resized image\n",
    "    dilated_image = image_resized.filter(ImageFilter.MaxFilter(filter_size))\n",
    "\n",
    "    # Resize the image back to its original size using bicubic interpolation\n",
    "    image_dilated_fractional_pixel = dilated_image.resize(image.size, Resampling.BICUBIC)\n",
    "\n",
    "    return image_dilated_fractional_pixel\n"
   ]
  },
  {
   "cell_type": "code",
   "execution_count": null,
   "metadata": {},
   "outputs": [],
   "source": [
    "#| export\n",
    "\n",
    "def extract_text(image, text_mask, box):\n",
    "    cropped_image = crop_box(box, image)\n",
    "    cropped_mask = crop_box(box, text_mask)\n",
    "    extracted = ops.extract_text(cropped_image, cropped_mask)\n",
    "    return cropped_image, cropped_mask, extracted\n"
   ]
  },
  {
   "cell_type": "markdown",
   "metadata": {},
   "source": [
    "## Lang\n",
    "> language name to a language code  \n",
    "> every one has language codes: tesseract, comic-text-detector, earthlings...\n"
   ]
  },
  {
   "cell_type": "code",
   "execution_count": null,
   "metadata": {},
   "outputs": [],
   "source": [
    "#| exporti\n",
    "\n",
    "_lang2pcleaner = {'English': st.DetectedLang.ENG, 'Japanese': st.DetectedLang.JA, 'Spanish': st.DetectedLang.ENG,\n",
    "                    'French':st.DetectedLang.ENG}\n",
    "# _lang2tesseract = {'English': 'eng', 'Japanese': 'jpn'}\n",
    "_lang2tesseract = {'English': 'eng', 'Japanese': 'jpn_vert', 'Spanish': 'spa', 'French': 'fra'}\n"
   ]
  },
  {
   "cell_type": "code",
   "execution_count": null,
   "metadata": {},
   "outputs": [],
   "source": [
    "#| export\n",
    "def lang2pcleaner(lang: str):\n",
    "    return _lang2pcleaner[lang]\n",
    "\n",
    "def lang2tesseract(lang: str):\n",
    "    return _lang2tesseract[lang]\n"
   ]
  },
  {
   "cell_type": "markdown",
   "metadata": {},
   "source": [
    "----\n",
    "# Experiments helpers"
   ]
  },
  {
   "cell_type": "markdown",
   "metadata": {},
   "source": [
    "## CropMethod\n",
    "> Box cropping methods.\n"
   ]
  },
  {
   "cell_type": "code",
   "execution_count": null,
   "metadata": {},
   "outputs": [],
   "source": [
    "#| export\n",
    "\n",
    "class CropMethod(Enum):\n",
    "    INITIAL_BOX = 'Initial box'\n",
    "    DEFAULT = 'Default'\n",
    "    DEFAULT_GREY_PAD = 'Default, grey pad'\n",
    "    PADDED_4 = 'Padded 4px'\n",
    "    PADDED_8 = 'Padded 8px'\n",
    "    EXTRACTED_INIT_BOX = 'Extracted, init box'\n",
    "    PADDED_4_EXTRACTED = 'Padded 4, extracted'\n",
    "    PADDED_8_EXTRACTED = 'Padded 8, extracted'\n",
    "    PADDED_8_DILATION_1 = 'Padded 8, dilation 1'\n",
    "    PAD_8_FRACT_0_5 = 'Pad 8, fract. 0.5'\n",
    "    PAD_8_FRACT_0_2 = 'Pad 8, fract. 0.2'\n",
    "\n",
    "    @classmethod\n",
    "    def __display_names__(cls):\n",
    "        return dict(\n",
    "            zip([_.value for _ in cls], \n",
    "            cls))\n",
    "\n",
    "\n",
    "CM = CropMethod\n",
    "\n",
    "_IMAGE_METHODS = [CM.INITIAL_BOX, CM.DEFAULT, CM.DEFAULT_GREY_PAD, \n",
    "                    CM.PADDED_4, CM.PADDED_8]\n",
    "_EXTRACTED_METHODS = [CM.EXTRACTED_INIT_BOX, CM.PADDED_4_EXTRACTED, \n",
    "                        CM.PADDED_8_EXTRACTED, CM.PADDED_8_DILATION_1, \n",
    "                        CM.PAD_8_FRACT_0_5, CM.PAD_8_FRACT_0_2]\n",
    "\n",
    "\n",
    "def crop_by_image(method: CM, \n",
    "        box: st.Box, \n",
    "        base: Image.Image, \n",
    "        preproc: cfg.PreprocessorConfig,\n",
    "    ):\n",
    "    image = None\n",
    "    match method:\n",
    "        case CM.INITIAL_BOX :\n",
    "            image = crop_box(box, base)\n",
    "        case CM.DEFAULT:\n",
    "            padded2_4 = (\n",
    "                box.pad(preproc.box_padding_initial, base.size).right_pad(\n",
    "                            preproc.box_right_padding_initial, base.size))\n",
    "            image = crop_box(padded2_4, base)\n",
    "        case CM.DEFAULT_GREY_PAD:\n",
    "            image = crop_box(box, base)\n",
    "            image = ops.pad_image(image, 8, fill_color=(128, 128, 128))\n",
    "        case CM.PADDED_4:\n",
    "            padded4 = box.pad(4, base.size)\n",
    "            image = crop_box(padded4, base)\n",
    "        case CM.PADDED_8:\n",
    "            padded4 = box.pad(8, base.size)\n",
    "            image = crop_box(padded4, base)\n",
    "        case _: pass\n",
    "    return image\n",
    "\n",
    "\n",
    "def crop_by_extracted(method: CM, \n",
    "        box: st.Box, \n",
    "        base: Image.Image, \n",
    "        mask: Image.Image,\n",
    "        cropped_image_path: Path,\n",
    "        cropped_mask_path: Path,\n",
    "        dilated: dict[float, Image.Image]\n",
    "    ):\n",
    "    cropped_image, cropped_mask, image = None, None, None\n",
    "    if method in _EXTRACTED_METHODS:\n",
    "        if not cropped_image_path.exists() or not cropped_mask_path.exists():\n",
    "            match method:\n",
    "                case CM.EXTRACTED_INIT_BOX:\n",
    "                    cropped_image, cropped_mask, image = extract_text(base, mask, box)\n",
    "                case CM.PADDED_4_EXTRACTED:\n",
    "                    padded4 = box.pad(4, base.size)\n",
    "                    cropped_image, cropped_mask, image = extract_text(base, mask, padded4)\n",
    "                case CM.PADDED_8_EXTRACTED:\n",
    "                    padded8 = box.pad(8, base.size)\n",
    "                    cropped_image, cropped_mask, image = extract_text(base, mask, padded8)\n",
    "                case CM.PADDED_8_DILATION_1:\n",
    "                    padded8 = box.pad(8, base.size)\n",
    "                    cropped_image, cropped_mask, image = extract_text(\n",
    "                                                        base, dilated[1], padded8)\n",
    "                case CM.PAD_8_FRACT_0_5:\n",
    "                    padded8 = box.pad(8, base.size)\n",
    "                    cropped_image, cropped_mask, image = extract_text(\n",
    "                                                        base, dilated[0.5], padded8)\n",
    "                case CM.PAD_8_FRACT_0_2:\n",
    "                    padded8 = box.pad(8, base.size)\n",
    "                    cropped_image, cropped_mask, image = extract_text(\n",
    "                                                        base, dilated[0.2], padded8)\n",
    "                case _: pass\n",
    "\n",
    "    return image, cropped_image, cropped_mask\n",
    "\n"
   ]
  },
  {
   "cell_type": "markdown",
   "metadata": {},
   "source": [
    "## ExperimentContext\n",
    "> Utility class to maintain shared state across all experiments.\n"
   ]
  },
  {
   "cell_type": "code",
   "execution_count": null,
   "metadata": {},
   "outputs": [],
   "source": [
    "#| export\n",
    "\n",
    "SubjIdT: TypeAlias = int\n",
    "RunIdT: TypeAlias = str\n",
    "SubjSpecT: TypeAlias = SubjIdT | str | Path\n",
    "\n",
    "\n",
    "class ExperimentSubject:\n",
    "    exp: ExperimentContext\n",
    "    idx: SubjIdT\n",
    "\n",
    "    def setup(self, exp: ExperimentContext, idx: Any, *args, **kwargs): \n",
    "        self.exp = exp\n",
    "        self.idx = cast(SubjIdT, exp.normalize_idx(idx))\n",
    "        return self\n",
    "\n",
    "    def __new__(cls, exp: ExperimentContext, idx: Any, *args, **kwargs):\n",
    "        idx = exp.normalize_idx(idx)\n",
    "        self = exp.subject_context(idx)\n",
    "        if self is None:\n",
    "            self = super().__new__(cls)\n",
    "            self = exp.setup_subject_context(idx, self, *args, **kwargs)\n",
    "            if self is None:\n",
    "                raise ValueError(f\"Can't create new subject with idx: {idx}: out of range\")\n",
    "        return self\n",
    "\n",
    "\n",
    "class Result:\n",
    "    subject_ctx: ExperimentSubject\n",
    "\n",
    "class ExperimentRun:\n",
    "    \"A set of experiment results obtained with the same parameters.\"\n",
    "    exp: ExperimentContext\n",
    "    name: RunIdT\n",
    "    dt: datetime.datetime\n",
    "\n",
    "    def setup(self, exp: ExperimentContext, name: RunIdT, *args, **kwargs): \n",
    "        self.exp = exp\n",
    "        self.name = name\n",
    "        return self\n",
    "\n",
    "    @classmethod\n",
    "    def setup_run_name(cls, name: RunIdT, dt: datetime.datetime):\n",
    "        return f\"{name}_{dt.strftime('%Y%m%d-%H%M%S')}\"\n",
    "\n",
    "    def setup_run(self, args, **kwargs):\n",
    "        pass\n",
    "    def before_result(self, *args, **kwargs):\n",
    "        pass\n",
    "    def after_result(self, result: Result, *args, **kwargs):\n",
    "        pass\n",
    "    \n",
    "    def __new__(cls, exp: ExperimentContext, name: RunIdT, *args, **kwargs):\n",
    "        self = exp.experiment_run(name)\n",
    "        if self is None:\n",
    "            self = super().__new__(cls)\n",
    "            self = exp.setup_experiment_run(name, self, *args, **kwargs)\n",
    "        return self\n",
    "\n",
    "\n",
    "class ExperimentContext(T.HasTraits):\n",
    "    \"Class to maintain shared state across all file-based experiments within the experiment domain.\"\n",
    "    name: str\n",
    "    _results: dict[RunIdT, dict[SubjIdT, Any]]\n",
    "\n",
    "    _dirty = T.Bool(default_value=False)\n",
    "\n",
    "    CACHE_DIR_NAME: str = 'cache'\n",
    "    SOURCE_DIR_NAME: str = 'source'\n",
    "    EXP_DIR: Path = Path(\"../experiment\")\n",
    "\n",
    "    subject_cls: Callable[..., ExperimentSubject]\n",
    "    def subject_factory(self) -> Callable[..., ExperimentSubject]: return type(self).subject_cls\n",
    "\n",
    "    def normalize_idx(self, idx: SubjSpecT) -> SubjIdT | None:\n",
    "        nidx = None\n",
    "        if isinstance(idx, int) and idx < self.subject_count:\n",
    "            nidx = idx\n",
    "        elif isinstance(idx, str):\n",
    "            try:\n",
    "                nidx = [_.name for _ in self._paths].index(idx)\n",
    "            except Exception:\n",
    "                pass\n",
    "        elif isinstance(idx, Path):\n",
    "            if idx in self._paths:\n",
    "                nidx = self._paths.index(idx)\n",
    "        return nidx\n",
    "    \n",
    "    def path_from_idx(self, idx: SubjSpecT):\n",
    "        \"Relative path to the subject with the given index.\"\n",
    "        _idx = self.normalize_idx(idx)\n",
    "        if _idx is None:\n",
    "            raise ValueError(f\"{_idx} not found in context.\")\n",
    "        path = Path(self._paths[_idx])\n",
    "        if not path.resolve().exists():\n",
    "            raise ValueError(f\"{path} not found in context.\")\n",
    "        return path\n",
    "    \n",
    "    @property\n",
    "    def subject_count(self): return len(self._paths)\n",
    "\n",
    "    @property\n",
    "    def run_names(self):\n",
    "        return list(self._exp_runs.keys())\n",
    "\n",
    "    @property\n",
    "    def root_dir(self): return self._root\n",
    "    # Relative paths to `root_dir`\n",
    "    @property\n",
    "    def cache_dir(self): return Path(self.CACHE_DIR_NAME)\n",
    "    @property\n",
    "    def source_dir(self): return Path(self.SOURCE_DIR_NAME)\n",
    "    @functools.lru_cache()\n",
    "    def _subject_cache_dir(self, idx: SubjIdT):\n",
    "        path = self.path_from_idx(idx)\n",
    "        subject_cache_dir = self.cache_dir / path.stem\n",
    "        self.final(subject_cache_dir).mkdir(parents=True, exist_ok=True)\n",
    "        return subject_cache_dir\n",
    "    def subject_cache_dir(self, idx: SubjSpecT):\n",
    "        \"Folder to cache and save subject results. Create if needed.\"\n",
    "        return self._subject_cache_dir(idx)\n",
    "    def final(self, path: Path | str): \n",
    "        \"\"\"`path` relative to the root of the experiment.\n",
    "        If `path` is absolute, it must be in the experiment directory.\n",
    "        \"\"\"\n",
    "        if isinstance(path, str):\n",
    "            path = Path(path)\n",
    "        if path.is_absolute():\n",
    "            try:\n",
    "                path = path.relative_to(self.root_dir.resolve())\n",
    "            except Exception:\n",
    "                return Path('_not_found_/'+path.name)\n",
    "        return self.root_dir / path\n",
    "    \n",
    "    def empty_cache(self, idx: SubjIdT | None = None):\n",
    "        if idx is None:\n",
    "            cache_dir = self.final(self.cache_dir)\n",
    "            shutil.rmtree(cache_dir, ignore_errors=True)\n",
    "            cache_dir.mkdir(parents=True, exist_ok=True)\n",
    "        else:\n",
    "            subject_cache_dir = self.final(self.subject_cache_dir(idx))\n",
    "            shutil.rmtree(subject_cache_dir, ignore_errors=True)\n",
    "            subject_cache_dir.mkdir(parents=True, exist_ok=True)\n",
    "    def empty_cache_warning(self, \n",
    "            idx: SubjIdT | None=None, *, warn: bool=True, out: W.Output | None=None):\n",
    "        def on_confirm_clicked(b):\n",
    "            try:\n",
    "                self.empty_cache(idx)\n",
    "                print(\"Cache cleared successfully.\")\n",
    "            except Exception as e:\n",
    "                print(f\"Failed to clear cache: {e}\")\n",
    "            finally:\n",
    "                for widget in confirmation_box.children:\n",
    "                    widget.close()\n",
    "\n",
    "        def on_cancel_clicked(b):\n",
    "            print(\"Cache clear cancelled.\")\n",
    "            for widget in confirmation_box.children:\n",
    "                widget.close()\n",
    "\n",
    "        if out is None:\n",
    "            out = W.Output()\n",
    "        cache_name = '' if idx is None else f\" of '{self.subject_cache_dir(idx).name}'\"\n",
    "        text = f\"Are you sure you want to clear the cache{cache_name}? This action cannot be undone.\"\n",
    "        with out:\n",
    "            if FC.IN_NOTEBOOK:\n",
    "                confirm_button = W.Button(description=\"Confirm\")\n",
    "                cancel_button = W.Button(description=\"Cancel\")\n",
    "                confirm_button.on_click(on_confirm_clicked)\n",
    "                cancel_button.on_click(on_cancel_clicked)\n",
    "                label = W.Label(text, style={'font_size': '1.25em', 'font_weight': 'bold'})\n",
    "                confirmation_box = W.VBox([label, W.HBox([confirm_button, cancel_button])])\n",
    "                display(confirmation_box)\n",
    "            else:\n",
    "                on_confirm_clicked(None)\n",
    "        return out\n",
    "\n",
    "    def subject_context(self, idx: SubjSpecT):\n",
    "        \"Cached subject.\"\n",
    "        if (nidx := self.normalize_idx(idx)) is None:\n",
    "            return None\n",
    "        return self._subjects.get(nidx)\n",
    "    def setup_subject_context(self, idx: SubjIdT, /, subject: ExperimentSubject, *args, **kwargs):\n",
    "        \"Setup and set cached subject.\"\n",
    "        if idx < 0 or idx >= self.subject_count:\n",
    "            raise ValueError(f\"Can't create new subject with idx: {idx}: out of range\")\n",
    "        subject.setup(self, idx, *args, **kwargs)\n",
    "        self._subjects[idx] = subject\n",
    "        return subject\n",
    "\n",
    "    def experiment_run(self, name: RunIdT | None = None):\n",
    "        \"Experiment run `name` or the last one if `name` is None or None\"\n",
    "        if name: \n",
    "            return self._exp_runs.get(name)\n",
    "        if self._exp_runs:\n",
    "            return self._exp_runs[list(self._exp_runs.keys())[-1]]\n",
    "        return None\n",
    "    def setup_experiment_run(self, name: str, run: ExperimentRun, *args, **kwargs):\n",
    "        \"Set or replace cached experiment run.\"\n",
    "        run.setup(self, name, *args, **kwargs)\n",
    "        self._exp_runs[name] = run\n",
    "        return run\n",
    "\n",
    "    def _reset_(self):\n",
    "        # start over. Note: doesn't change _dirty status, intended for use in testing.\n",
    "        self._subjects.clear()\n",
    "        self._subject_cache_dir.cache_clear()\n",
    "\n",
    "    def cleanup_model(self):\n",
    "        pass\n",
    "\n",
    "    def __init__(self, name: str, paths: list[Path], root: Path | None = None):\n",
    "        self.name = name\n",
    "        self._root = root or type(self).EXP_DIR\n",
    "        self._paths = paths  # relative paths wrt self._root\n",
    "        self._subjects: dict[SubjIdT, ExperimentSubject] = {}\n",
    "        self._exp_runs: dict[str, ExperimentRun] = {}\n",
    "        self._results = {}\n"
   ]
  },
  {
   "cell_type": "markdown",
   "metadata": {},
   "source": [
    "`ExperimentSubject`s are created and cached int the `ExperimentContext`.\n"
   ]
  },
  {
   "cell_type": "code",
   "execution_count": null,
   "metadata": {},
   "outputs": [],
   "source": [
    "exp = ExperimentContext('test', [Path('b'), Path('c')], Path('../a'))\n",
    "subj = exp.subject_context(5)\n",
    "test_eq(subj, None)\n",
    "\n",
    "# subject haven't been created yet\n",
    "_ = exp.subject_context(1)\n",
    "test_is(_, None)\n",
    "\n",
    "# Instantiate subject\n",
    "subj1 = ExperimentSubject(exp, 1)\n",
    "_ = exp.subject_context(1)\n",
    "test_eq(_ is not None, True)\n",
    "test_is(_, subj1)\n",
    "test_is(subj1, ExperimentSubject(exp, 1))\n"
   ]
  },
  {
   "cell_type": "markdown",
   "metadata": {},
   "source": [
    "You can't create `ExperimentSubject`s beyond `ExperimentContext` domain."
   ]
  },
  {
   "cell_type": "code",
   "execution_count": null,
   "metadata": {},
   "outputs": [],
   "source": [
    "test_fail(lambda:ExperimentSubject(exp, 2), 'out of range')"
   ]
  },
  {
   "cell_type": "markdown",
   "metadata": {},
   "source": [
    "All paths are relative to the root of the experiment.\n"
   ]
  },
  {
   "cell_type": "code",
   "execution_count": null,
   "metadata": {},
   "outputs": [],
   "source": [
    "test_eq(exp.final('d/image.jpg'),          Path('../a/d/image.jpg'))\n",
    "test_eq(exp.final(Path('d/image.jpg')),    Path('../a/d/image.jpg'))\n",
    "p = Path('..').resolve()/'a/d/image.jpg'\n",
    "test_eq(exp.final(p),                      Path('../a/d/image.jpg'))\n",
    "test_eq(exp.final('../a/d/image.jpg'),     Path('../a/../a/d/image.jpg'))\n",
    "test_eq(exp.final('/other/a/d/image.jpg'), Path('_not_found_/image.jpg'))\n"
   ]
  },
  {
   "cell_type": "markdown",
   "metadata": {},
   "source": [
    "`ExperimentRun`s are created and cached int the `ExperimentContext`.\n"
   ]
  },
  {
   "cell_type": "code",
   "execution_count": null,
   "metadata": {},
   "outputs": [],
   "source": [
    "run = exp.experiment_run('test')\n",
    "test_eq(run, None)\n",
    "\n",
    "test_eq(exp.run_names, [])\n",
    "\n",
    "# Instantiate run\n",
    "run = ExperimentRun(exp, 'test')\n",
    "_ = exp.experiment_run('test')\n",
    "test_eq(_ is not None, True)\n",
    "test_is(_, run)\n",
    "test_is(run, ExperimentRun(exp, 'test'))\n",
    "\n",
    "test_eq(exp.run_names, ['test'])\n",
    "\n",
    "run2 = ExperimentRun(exp, 'test2')\n",
    "\n",
    "test_eq(exp.run_names, ['test', 'test2'])\n"
   ]
  },
  {
   "cell_type": "markdown",
   "metadata": {},
   "source": [
    "## ImageContext\n",
    "> A utility class to maintain image state for a `OCRExperimentContext`.\n"
   ]
  },
  {
   "cell_type": "code",
   "execution_count": null,
   "metadata": {},
   "outputs": [],
   "source": [
    "#| export\n",
    "\n",
    "ImgIdT = SubjIdT\n",
    "ImgSpecT: TypeAlias = ImgIdT | str | Path\n",
    "\n",
    "\n",
    "class ImageContext(ExperimentSubject):\n",
    "    \"\"\"\n",
    "    A utility class to maintain image state for a ExperimentContext.\n",
    "\n",
    "    Attributes:\n",
    "        json_data (dict): JSON data loaded from cached files.\n",
    "        page_data (st.PageData): PanelClaner page data.\n",
    "        base_image (Image.Image): The base image loaded from the cache.\n",
    "        mask (Image.Image): The mask image used for text detection.\n",
    "        gts (list[str]): Ground truth data for the text in the images.\n",
    "        mask_dilated1 (Image.Image): Image mask dilated by 1 pixel.\n",
    "        mask_dilated05 (Image.Image): Image mask dilated by 0.5 pixels.\n",
    "        mask_dilated02 (Image.Image): Image mask dilated by 0.2 pixels.\n",
    "\n",
    "    \"\"\"\n",
    "    exp: ExperimentContext\n",
    "    idx: ImgIdT\n",
    "    base_image: Image.Image\n",
    "    mask: Image.Image\n",
    "    json_data: dict | None\n",
    "    page_data: st.PageData\n",
    "    _page_lang: str\n",
    "    _gts: dict[str, list[str]]\n",
    "    _mask_dilated1: Image.Image | None\n",
    "    _mask_dilated05: Image.Image | None\n",
    "    _mask_dilated02: Image.Image | None\n",
    "    \n",
    "    def to_dict(self):\n",
    "        return {\n",
    "            'image_idx': self.idx,\n",
    "            'page_lang': self.page_lang,\n",
    "        }\n",
    "    \n",
    "    @property\n",
    "    def image_idx(self): return self.idx\n",
    "    @property\n",
    "    def cache_dir(self): \n",
    "        \"Relative path of the cache directory for this image.\"\n",
    "        return self.exp.subject_cache_dir(self.idx)\n",
    "    \n",
    "    @property\n",
    "    def image_info(self): \n",
    "        img = self.base_image\n",
    "        w, h = img.size\n",
    "        print_size_in = size(w, h, 'in', 300)\n",
    "        print_size_cm = size(w, h, 'cm', 300)\n",
    "        required_dpi = dpi(w, h, 'Modern Age')\n",
    "        return (w, h),  print_size_in, print_size_cm, required_dpi\n",
    "\n",
    "    @property\n",
    "    def original_image_path(self): return Path(self.page_data.original_path)\n",
    "    @property\n",
    "    def image_path(self): return Path(self.page_data.image_path)\n",
    "    @property\n",
    "    def mask_path(self): return Path(self.page_data.mask_path)\n",
    "    @property\n",
    "    def image_boxes_path(self):\n",
    "        exp, img_path = self.exp, self.image_path\n",
    "        if exp.final( p := img_path.with_stem(img_path.stem + '_boxes')).exists(): \n",
    "            return p\n",
    "        _, p = page_boxes(self.page_data, exp.final(img_path))\n",
    "        return p.relative_to(exp.root_dir)\n",
    "    \n",
    "    # Base image properties \n",
    "    @property\n",
    "    def image_name(self): return self.original_image_path.name\n",
    "    @property\n",
    "    def image_size(self): return self.base_image.size\n",
    "    @property\n",
    "    def image_dim(self):return size(*self.image_size)\n",
    "    @property\n",
    "    def image_dpi(self): return dpi(*self.image_size)\n",
    "    @property\n",
    "    def image_print(self):\n",
    "        return self.image_size, self.image_dim, self.image_dpi\n",
    "    @property\n",
    "    def image_name_rich(self):\n",
    "        siz, dim, res = self.image_print\n",
    "        return f\"{self.image_name} - {siz[0]}x{siz[1]} px: {dim[0]:.2f}x{dim[1]:.2f}\\\" @ {res:.2f} dpi\"\n",
    "    \n",
    "    def setup_page_lang(self, page_lang: str | None = None):\n",
    "        path = self.exp.final(self.page_data.original_path).with_suffix('.json')\n",
    "        metadata = json.load(open(path)) if path.exists() else {}\n",
    "        if 'lang' in metadata and (page_lang == metadata['lang'] or page_lang is None):\n",
    "            self._page_lang = metadata['lang']\n",
    "            return\n",
    "        self._page_lang = metadata['lang'] = page_lang or 'English'\n",
    "        json.dump(metadata, open(path, 'w'), indent=2)\n",
    "    @property\n",
    "    def page_lang(self):\n",
    "        if self._page_lang == None:\n",
    "            self.setup_page_lang()\n",
    "        return self._page_lang\n",
    "    \n",
    "    @property\n",
    "    def boxes(self): return self.page_data.boxes\n",
    "    \n",
    "    def setup_ground_truth(self):\n",
    "        self._gts = read_ground_truth(self.page_data, self.exp.root_dir)\n",
    "    \n",
    "    def gts(self, version: str = 'capitalized'): \n",
    "        if self._gts is None:\n",
    "            self.setup_ground_truth()\n",
    "        if version not in self._gts:\n",
    "            self._gts[version] = [\"\" for _ in range(len(self.boxes))]\n",
    "        return self._gts[version]\n",
    "    \n",
    "    @functools.lru_cache(typed=True)\n",
    "    def dilated_mask(self, fraction: float):\n",
    "        return dilate_by_fractional_pixel(self.mask, fraction)\n",
    "    \n",
    "    def mask_dilated1(self): \n",
    "        if self._mask_dilated1 is None:\n",
    "            self._mask_dilated1 = self.mask.filter(ImageFilter.MaxFilter(3))\n",
    "        return self._mask_dilated1\n",
    "    \n",
    "    def mask_dilated05(self): \n",
    "        if self._mask_dilated05 is None:\n",
    "            self._mask_dilated05 = self.dilated_mask(0.5)\n",
    "        return self._mask_dilated05\n",
    "    \n",
    "    def mask_dilated02(self): \n",
    "        if self._mask_dilated02 is None:\n",
    "            self._mask_dilated02 = self.dilated_mask(0.2)\n",
    "        return self._mask_dilated02\n",
    "    \n",
    "    def dilated(self):\n",
    "        return {1: self.mask_dilated1(),\n",
    "                0.5: self.mask_dilated05(),\n",
    "                0.2: self.mask_dilated02(),}\n",
    "\n",
    "    def __new__(cls,\n",
    "            exp: ExperimentContext,\n",
    "            idx: ImgSpecT,\n",
    "            *args, **kwargs) -> 'ImageContext':\n",
    "        return super().__new__(cls, exp, idx, *args, **kwargs)  # type: ignore\n"
   ]
  },
  {
   "cell_type": "markdown",
   "metadata": {},
   "source": [
    "## ResultOCR\n",
    "> Store OCR results\n"
   ]
  },
  {
   "cell_type": "code",
   "execution_count": null,
   "metadata": {},
   "outputs": [],
   "source": [
    "#| export\n",
    "\n",
    "@dataclasses.dataclass\n",
    "class ResultOCR(Result): \n",
    "    subject_ctx: ImageContext\n",
    "    block_idx: int\n",
    "    ocr: str | None = None\n",
    "    image: Image.Image | None = None\n",
    "    description: str = dataclasses.field(default='', kw_only=True)\n",
    "\n",
    "    def __post_init__(self): \n",
    "        self._acc = None\n",
    "        if self.image is None:\n",
    "            cache_path = self.image_ctx.exp.final(self.cache_path())\n",
    "            if cache_path.exists():\n",
    "                self.image = Image.open(cache_path)\n",
    "\n",
    "    @property\n",
    "    def image_ctx(self): return self.subject_ctx\n",
    "    \n",
    "    @property\n",
    "    def acc(self):\n",
    "        if self.ocr is not None:\n",
    "            self._acc = accuracy_ocr_difflib(self.ocr, self.image_ctx.gts()[self.block_idx])\n",
    "        return self._acc\n",
    "    @property\n",
    "    def suffix(self): return f\"{self.block_idx}_{self.description}\"\n",
    "\n",
    "    def cache_path(self, suffix: str | None = None): \n",
    "        img_ctx = self.image_ctx\n",
    "        suffix = self.suffix + (('_'+suffix) if suffix else '')\n",
    "        img_name = img_ctx.image_path.stem\n",
    "        return img_ctx.cache_dir / '.crop' / f\"{img_name}_{suffix}.png\"\n",
    "    \n",
    "    def cache_image(self, image: Image.Image | None = None, suffix: str | None = None):\n",
    "        image = image or (self.image if not suffix else None)\n",
    "        box_image_path = self.cache_path(suffix)\n",
    "        final_path = self.image_ctx.exp.final(box_image_path)\n",
    "        if image and not final_path.exists():\n",
    "            final_path.parent.mkdir(parents=True, exist_ok=True)\n",
    "            image.save(final_path)\n",
    "        return box_image_path\n",
    "\n",
    "    def to_dict(self):\n",
    "        d = dataclasses.asdict(self)\n",
    "        d['image_ctx'] = d['image'] = d['page_data'] = d['gts'] = None\n",
    "        return d\n",
    "\n",
    "    # @classmethod\n",
    "    # def from_dict(cls, d: dict, page_data: st.PageData, gts: list[str]):\n",
    "    #     return cls(**(d | {'page_data':page_data, 'gts':gts}))\n",
    "\n",
    "    def __repr__(self): \n",
    "        return f\"{type(self).__name__}#block {self.block_idx:02}: {self.acc:.2f}||{self.ocr}\"\n",
    "\n",
    "    def display(self): \n",
    "        visor = getattr(self, '_default_visor_type', None)\n",
    "        display(HTML(\n",
    "            visor(self).as_html() if visor else f\"{self}\"\n",
    "            ))\n",
    "    def _ipython_display_(self): self.display()\n",
    "\n",
    "\n",
    "class ResultOCRExtracted(ResultOCR): \n",
    "    def __repr__(self): return super().__repr__()\n"
   ]
  },
  {
   "cell_type": "markdown",
   "metadata": {},
   "source": [
    "## ResultSet\n",
    "> tagged nested dict to store image results keyed by box, and crop method\n"
   ]
  },
  {
   "cell_type": "code",
   "execution_count": null,
   "metadata": {},
   "outputs": [],
   "source": [
    "#| export\n",
    "\n",
    "BoxIdT: TypeAlias = int\n",
    "\n",
    "class ResultSet(dict[BoxIdT, dict[CropMethod, ResultOCR]]): ...\n",
    "\n",
    "class ResultSetDefault(defaultdict[BoxIdT, dict[CropMethod, ResultOCR]]): ...\n",
    "\n",
    "def resultset_to_dict(results: ResultSet) -> dict[BoxIdT, dict[str, str]]:\n",
    "    d = {}\n",
    "    for box, box_methods in results.items():\n",
    "        for method, result in box_methods.items():\n",
    "            if box not in d:\n",
    "                d[box] = {}\n",
    "            d[box][method.name] = result.ocr\n",
    "    return d\n",
    "\n",
    "def dict_to_resultset(\n",
    "        image_idx: ImgIdT, \n",
    "        results_dict: dict[str, dict[str, str]],\n",
    "        result_factory: Callable\n",
    "    ) -> ResultSetDefault:\n",
    "    results = ResultSetDefault(dict[CropMethod, ResultOCR])\n",
    "    for box_idx, box_methods in results_dict.items():\n",
    "        box_idx = int(box_idx)\n",
    "        for method, ocr in box_methods.items():\n",
    "            m = CM[method]\n",
    "            results[box_idx][m] = result_factory(image_idx, box_idx, m, ocr)\n",
    "    return results\n"
   ]
  },
  {
   "cell_type": "markdown",
   "metadata": {},
   "source": [
    "## OCRExperimentContext"
   ]
  },
  {
   "cell_type": "code",
   "execution_count": null,
   "metadata": {},
   "outputs": [],
   "source": [
    "#| export\n",
    "\n",
    "class OCRModel(Enum):\n",
    "    TESSERACT = 0\n",
    "    IDEFICS = 1\n",
    "    @staticmethod\n",
    "    def __display_names__() -> dict[str, OCRModel]:\n",
    "        return dict(\n",
    "            zip(\"Tesseract, Idefics\".split(', '), \n",
    "            OCRModel))\n",
    "\n",
    "\n",
    "class OCRExperimentRun(ExperimentRun): \n",
    "    def _result_from(self, \n",
    "            image_idx: ImgIdT, box_idx: BoxIdT, method: CropMethod, ocr: str | None = None):\n",
    "        img_ctx = ImageContext(self.exp, image_idx)\n",
    "        extracted = method in _EXTRACTED_METHODS\n",
    "        result_cls = ResultOCRExtracted if extracted else ResultOCR\n",
    "        result = result_cls(img_ctx, int(box_idx), None, None, description=f\"{method.value}\")\n",
    "        if ocr is not None:\n",
    "            result.ocr = ocr\n",
    "        return result\n",
    "\n",
    "\n",
    "class OCRExperimentContext(ExperimentContext):\n",
    "    \"\"\"\n",
    "    A utility class to maintain shared state across all experiments within OCR domain.\n",
    "    This class encapsulates state necessary for conducting PanelCleaner OCR experiments.\n",
    "    \"\"\"\n",
    "\n",
    "    config: cfg.Config\n",
    "    image_paths: list[Path]\n",
    "    ocr_model: str\n",
    "    force_PIL: bool\n",
    "    use_tunnel: bool\n",
    "    server: web_server.WebServer | None\n",
    "\n",
    "    # ExperimentRun name -> Image index -> Box index -> Crop method -> Result\n",
    "    _results: dict[RunIdT, dict[ImgIdT, ResultSet]]\n",
    "    _exp_runs: dict[str, OCRExperimentRun]\n",
    "\n",
    "    _running = T.Bool(False)\n",
    "    \n",
    "    engines = {\n",
    "        'Tesseract': cfg.OCREngine.TESSERACT, \n",
    "        'Idefics': None, \n",
    "        'manga-ocr': cfg.OCREngine.MANGAOCR}\n",
    "\n",
    "\n",
    "    @classmethod\n",
    "    def get_config(cls) -> cfg.Config:\n",
    "        config = cfg.load_config()\n",
    "        profile = config.current_profile\n",
    "        preprocessor_conf = profile.preprocessor\n",
    "        # Modify the profile to OCR all boxes.\n",
    "        # Make sure OCR is enabled.\n",
    "        preprocessor_conf.ocr_enabled = True\n",
    "        # Make sure the max size is infinite, so no boxes are skipped in the OCR process.\n",
    "        preprocessor_conf.ocr_max_size = 10**10\n",
    "        # Make sure the sus box min size is infinite, so all boxes with \"unknown\" language are skipped.\n",
    "        preprocessor_conf.suspicious_box_min_size = 10**10\n",
    "        # Set the OCR blacklist pattern to match everything, so all text gets reported in the analytics.\n",
    "        preprocessor_conf.ocr_blacklist_pattern = \".*\"\n",
    "\n",
    "        # Load models if needed\n",
    "        gpu = torch.cuda.is_available() or torch.backends.mps.is_available()\n",
    "        model_path = config.get_model_path(gpu)\n",
    "        if model_path is None:\n",
    "            # don't mess with normal PanelCleaner, download models directly\n",
    "            import pcleaner.model_downloader as md\n",
    "            model_dir = config.get_model_cache_dir()\n",
    "            config.default_torch_model_path = md.download_torch_model(model_dir)\n",
    "            config.default_cv2_model_path = md.download_cv2_model(model_dir)\n",
    "\n",
    "        return config\n",
    "        \n",
    "    @functools.lru_cache()\n",
    "    def mocr(self, lang: str):\n",
    "        engine = self.engines[self.ocr_model]\n",
    "        ocr_processor = ocr.get_ocr_processor(True, engine)\n",
    "        proc = ocr_processor[lang2pcleaner(lang)]\n",
    "        if isinstance(proc, TesseractOcr):\n",
    "            proc.lang = lang2tesseract(lang)\n",
    "        return proc\n",
    "\n",
    "    @contextlib.contextmanager\n",
    "    def running(self, value: bool):\n",
    "        _running = self._running\n",
    "        self._running = value\n",
    "        yield\n",
    "        self._running = _running\n",
    "\n",
    "    def ocr_box(self, result: ResultOCR, lang: str): \n",
    "        assert result.image is not None\n",
    "        text = self.mocr(lang)(result.image)\n",
    "        result.ocr = text\n",
    "        self._dirty = True\n",
    "        return result\n",
    "\n",
    "    image_cache_dir = ExperimentContext.subject_cache_dir\n",
    "\n",
    "    def _detect_text(self, img_path: Path, dest_dir: Path):\n",
    "        config = self.config\n",
    "        root_dir = self.root_dir\n",
    "        image_name = img_path.stem\n",
    "        pfl = config.current_profile\n",
    "        gpu = torch.cuda.is_available() or torch.backends.mps.is_available()\n",
    "        model_path = config.get_model_path(gpu)\n",
    "        json_data = None\n",
    "        with tempfile.TemporaryDirectory() as temp_dir:\n",
    "            temp_path = Path(temp_dir)\n",
    "            ctm.model2annotations(pfl.general, pfl.text_detector, model_path, [img_path], temp_path)\n",
    "            contents = list(temp_path.glob(f\"*{image_name}*\"))\n",
    "            json_path = [_ for _ in contents if _.suffix == '.json'][0]\n",
    "            json_data = json.loads(json_path.read_text(encoding=\"utf-8\"))\n",
    "            # we don't need unique names for this tests, strip uuids\n",
    "            for temp_file in contents:\n",
    "                if temp_file.suffix == \".json\": continue\n",
    "                new_path = dest_dir / strip_uuid(temp_file.name)\n",
    "                shutil.copy(temp_file, new_path)\n",
    "                if 'mask' in temp_file.name:\n",
    "                    json_data['mask_path'] = str(new_path.relative_to(root_dir))\n",
    "                elif new_path.stem == image_name:\n",
    "                    json_data['image_path'] = str(new_path.relative_to(root_dir))\n",
    "            json_data['original_path'] = str(img_path.relative_to(root_dir))\n",
    "            json.dump(json_data, open(dest_dir / f\"{image_name}#raw.json\", \"w\"), indent=2)\n",
    "        return json_data\n",
    "    \n",
    "    @functools.lru_cache()\n",
    "    def _load_page_data(self, image_idx: ImgIdT):\n",
    "        root_dir = self.root_dir\n",
    "        dest_dir = self.final(self.image_cache_dir(image_idx))\n",
    "        img_path = self.final(self.image_paths[image_idx])\n",
    "        image_name = img_path.stem\n",
    "        # read cached json\n",
    "        jsons = [_ for _ in dest_dir.glob(\"*#raw.json\") if image_name in _.stem]\n",
    "        assert len(jsons) <= 1\n",
    "        # generate text boxes if needed\n",
    "        if not jsons:\n",
    "            json_data = self._detect_text(img_path, dest_dir)\n",
    "        else:\n",
    "            json_file_path = jsons[0]\n",
    "            json_data = json.loads(json_file_path.read_text(encoding=\"utf-8\"))\n",
    "        \n",
    "        if not all((root_dir / json_data[_]).exists() \n",
    "                        for _ in (\"image_path\", \"mask_path\", \"original_path\")):\n",
    "            raise ValueError(f\"Inconsistent page_data of {img_path}\")\n",
    "\n",
    "        page_data = st.PageData(\n",
    "            json_data[\"image_path\"], json_data[\"mask_path\"], \n",
    "            json_data[\"original_path\"], json_data[\"scale\"], \n",
    "            [st.Box(*data[\"xyxy\"]) for data in json_data[\"blk_list\"]], \n",
    "            [], [], [])\n",
    "        # Merge boxes that have mutually overlapping centers.\n",
    "        page_data.resolve_total_overlaps()\n",
    "        return json_data, page_data\n",
    "\n",
    "    def page_data(self, image_idx: int):\n",
    "        _, page_data = self._load_page_data(image_idx)\n",
    "        return page_data\n",
    "    def json_data(self, image_idx: int):\n",
    "        json_data, _ = self._load_page_data(image_idx)\n",
    "        return json_data\n",
    "\n",
    "    def path_from_idx(self, image_idx: ImgSpecT, cached: bool = False):\n",
    "        \"(Relative path) to subject image. Raises ValueError if not found.\"\n",
    "        _idx = self.normalize_idx(image_idx)\n",
    "        if _idx is None:\n",
    "            raise ValueError(f\"{_idx} not found in context.\")\n",
    "        if cached:\n",
    "            page_data = self.page_data(_idx)  # load if needed\n",
    "            path = Path(page_data.image_path)\n",
    "        else:\n",
    "            path = self.image_paths[_idx]\n",
    "        if not self.final(path).exists():\n",
    "            raise ValueError(f\"{path} not found in context.\")\n",
    "        return path\n",
    "\n",
    "    def cached_image(self, image_idx: ImgSpecT):\n",
    "        \"Relative path to cached image.\"\n",
    "        _idx = self.normalize_idx(image_idx)\n",
    "        if _idx is None:\n",
    "            return None\n",
    "        page_data = self.page_data(_idx)  # load if needed\n",
    "        path = Path(page_data.image_path)\n",
    "        if not self.final(path).exists():\n",
    "            return None\n",
    "        return path\n",
    "    \n",
    "    def image_context(self, image_idx: ImgSpecT) -> ImageContext | None:\n",
    "        \"Cached image context.\"\n",
    "        return cast(ImageContext, self.subject_context(image_idx))\n",
    "\n",
    "    def display_image(self, image_path: Path | str):\n",
    "        \"Return a PIL image, a url, or the given (final) path.\"\n",
    "        final_image_path = self.final(image_path)\n",
    "        if self.force_PIL:\n",
    "            return Image.open(final_image_path)\n",
    "        elif self.use_tunnel:\n",
    "            if (server := self.server) is not None and (url := server.unc_share) is not None:\n",
    "                return url/final_image_path.relative_to(self.root_dir)\n",
    "        return final_image_path\n",
    "    DI = display_image\n",
    "\n",
    "    def _update_results(self, run_name: str, img_idx: ImgIdT, results: ResultSetDefault):\n",
    "        self._results[run_name][img_idx] = cast(ResultSet, results)\n",
    "    \n",
    "    # def _result_from(self, \n",
    "    #         image_idx: ImgIdT, box_idx: BoxIdT, method: CropMethod, ocr: str | None = None):\n",
    "    #     img_ctx = ImageContext(self, image_idx)\n",
    "    #     extracted = method in _EXTRACTED_METHODS\n",
    "    #     result_cls = ResultOCRExtracted if extracted else ResultOCR\n",
    "    #     result = result_cls(img_ctx, int(box_idx), None, None, description=f\"{method.value}\")\n",
    "    #     if ocr is not None:\n",
    "    #         result.ocr = ocr\n",
    "    #     return result\n",
    "        \n",
    "    def result(self, \n",
    "            run_name: str,\n",
    "            image_idx: ImgIdT, box_idx: BoxIdT, method: CropMethod, \n",
    "            ocr: bool=True, \n",
    "            rebuild: bool=False) -> ResultOCR | None:\n",
    "        _result = self._results[run_name][image_idx][box_idx].get(method)\n",
    "        if not rebuild and _result is not None:\n",
    "            return _result\n",
    "        \n",
    "        run = self._exp_runs[run_name]\n",
    "        result: ResultOCR = run._result_from(image_idx, box_idx, method)\n",
    "        image, cropped_image, cropped_mask = result.image, None, None\n",
    "        img_ctx = ImageContext(self, image_idx)\n",
    "        base_image = img_ctx.base_image\n",
    "        box = img_ctx.boxes[box_idx]\n",
    "        if image is None and method in _IMAGE_METHODS:\n",
    "            image = crop_by_image(\n",
    "                    method, box, base_image, self.config.current_profile.preprocessor)\n",
    "\n",
    "        if image is None and method in _EXTRACTED_METHODS:\n",
    "            mask = img_ctx.mask\n",
    "            cropped_image_path = result.cache_image(cropped_image, \"cropped\")\n",
    "            cropped_mask_path = result.cache_image(cropped_mask, \"mask\")\n",
    "            if not cropped_image_path.exists() or not cropped_mask_path.exists():\n",
    "                image, cropped_image, cropped_mask = crop_by_extracted(\n",
    "                    method, box, base_image, mask, \n",
    "                    cropped_image_path, cropped_mask_path, img_ctx.dilated())\n",
    "        \n",
    "        assert image is not None\n",
    "        if result.image is None:\n",
    "            result.image = image\n",
    "            result.cache_image()\n",
    "        if cropped_image is not None:\n",
    "            result.cache_image(cropped_image, \"cropped\")\n",
    "        if cropped_mask is not None:\n",
    "            result.cache_image(cropped_mask, \"mask\")\n",
    "        \n",
    "        exp_run = OCRExperimentRun(self, run_name)\n",
    "        if ocr:\n",
    "            exp_run.before_result(result)\n",
    "            result = self.ocr_box(result, img_ctx.page_lang)\n",
    "            result.ocr = postprocess_ocr(result.ocr)\n",
    "            exp_run.after_result(result)\n",
    "        self._results[run_name][image_idx][box_idx][method] = result\n",
    "        self._dirty = True\n",
    "        return result\n",
    "\n",
    "    def results(self, run_name: str | None = None, img_idx: ImgIdT | None = None):\n",
    "        if run_name is None: return self._results\n",
    "        if img_idx is None: return self._results[run_name]\n",
    "        return self._results[run_name][img_idx]\n",
    "    def run_results(self, run_name: str):\n",
    "        return cast(dict[ImgIdT, ResultSet], self.results(run_name))\n",
    "    def image_results(self, run_name: str, img_idx: ImgIdT):\n",
    "        return cast(ResultSet, self.results(run_name, img_idx))\n",
    "    def box_results(self, run_name: str, img_idx: ImgIdT, box_idx: BoxIdT):\n",
    "        return cast(ResultSet, self.results(run_name, img_idx))[box_idx]\n",
    "    def method_results(self, run_name: str, img_idx: ImgIdT, method: CropMethod):\n",
    "        image_results = self.image_results(run_name, img_idx)\n",
    "        return {i: box_results.get(method) for i,box_results in image_results.items()}\n",
    "\n",
    "    def _reset_results(self):\n",
    "        results = defaultdict(lambda: defaultdict(lambda: ResultSetDefault(dict)))\n",
    "        self._results = cast(dict[str, dict[ImgIdT, ResultSet]], results)\n",
    "    def _reset_results_(self, \n",
    "            run_name: str | None = None, \n",
    "            image_idx: int | None = None, \n",
    "            box_idx: int | None = None, \n",
    "            method: CropMethod | None = None):\n",
    "        if run_name is None and image_idx is None and box_idx is None and method is None:\n",
    "            self._reset_results()\n",
    "            return\n",
    "        results = self._results\n",
    "        models = tuple(results.keys()) if run_name is None else [run_name] if run_name in results else []\n",
    "        for run_name in models:\n",
    "            img_nodes = results[run_name]\n",
    "            imgs = (tuple(img_nodes.keys()) \n",
    "                if image_idx is None else [image_idx] if image_idx in img_nodes else [])\n",
    "            for img_idx in imgs:\n",
    "                box_nodes = img_nodes[img_idx]\n",
    "                boxes = (tuple(box_nodes.keys()) \n",
    "                    if box_idx is None else [box_idx] if box_idx in box_nodes else [])\n",
    "                for box_idx in boxes:\n",
    "                    if method is None:\n",
    "                        del box_nodes[box_idx]\n",
    "                    else:\n",
    "                        methods = box_nodes[box_idx]\n",
    "                        if method in methods:\n",
    "                            del methods[method]\n",
    "                    if not box_nodes[box_idx]:\n",
    "                        del box_nodes[box_idx]\n",
    "                if not img_nodes[img_idx]:\n",
    "                    del img_nodes[img_idx]\n",
    "            if not results[run_name]:\n",
    "                del results[run_name]\n",
    "    def reset_results(self, \n",
    "            run_name: str | None = None, \n",
    "            image_idx: int | None = None, \n",
    "            box_idx: int | None = None, \n",
    "            method: CropMethod | None = None):\n",
    "        self._reset_results_(run_name, image_idx, box_idx, method)\n",
    "        self._dirty = True\n",
    "    def _reset_(self):\n",
    "        super()._reset_()\n",
    "        self._reset_results_()\n",
    "        self._load_page_data.cache_clear()\n",
    "        self.mocr.cache_clear()\n",
    "\n",
    "    @classmethod\n",
    "    def get_image_paths(cls, root_dir: Path):\n",
    "        if root_dir is None: return []\n",
    "        source_dir = root_dir / cls.SOURCE_DIR_NAME\n",
    "        return sorted(\n",
    "            [_.relative_to(root_dir) for _ in source_dir.glob(\"*\") \n",
    "                if _.is_file() and _.suffix.lower() in [\".jpg\", \".png\", \".jpeg\"]])\n",
    "\n",
    "    def run_to_dict(self, run_name: RunIdT) -> dict[str, dict[BoxIdT, dict[str, str]]]:\n",
    "        \"JSON serializable dict of the experiment run\"\n",
    "        results = {}\n",
    "        idx2name = {i: p.name for i, p in enumerate(self.image_paths)}\n",
    "        run_results = cast(dict[ImgIdT, ResultSet], self.results(run_name))\n",
    "        for img_idx, rset in run_results.items():\n",
    "            results[idx2name[img_idx]] = resultset_to_dict(cast(ResultSet, rset))\n",
    "        return results\n",
    "\n",
    "    # def run_to_json(self, run_name: RunIdT):\n",
    "    #     data = {\n",
    "    #         'run_name': run_name,\n",
    "    #         'results': self.run_to_dict(run_name),\n",
    "    #     }\n",
    "    #     fp = self._root / f'{run_name}.json'\n",
    "    #     with open(fp, 'w') as f:\n",
    "    #         json.dump(data, f, indent=2)\n",
    "    #     return fp\n",
    "\n",
    "    # def save_results(self):\n",
    "    #     for run_name, _ in self._exp_runs.items():\n",
    "    #         self.run_to_json(run_name)\n",
    "    \n",
    "    def _load_run_results(self, run_name: str, run_data: dict[str, dict[str, dict[str, str]]]):\n",
    "        run: OCRExperimentRun = cast(OCRExperimentRun, OCRExperimentRun(self, run_name))\n",
    "        self._exp_runs[run_name] = run\n",
    "        name2idx = {p.name: i for i, p in enumerate(self.image_paths)}\n",
    "        for img_name, data in run_data.items():\n",
    "            img_idx = name2idx.get(img_name, None)\n",
    "            if img_idx is None: \n",
    "                logger.warning(f\"Image {img_name} not found in context.\")\n",
    "                continue\n",
    "            rset: ResultSetDefault = dict_to_resultset(\n",
    "                ImgIdT(img_idx), \n",
    "                data, \n",
    "                result_factory=run._result_from)\n",
    "            self._update_results(run_name, img_idx, rset)\n",
    "\n",
    "    # def load_results(self):\n",
    "    #     for json_path in self.root_dir.glob(\"*.json\"):\n",
    "    #         try:\n",
    "    #             with open(json_path, 'r') as f:\n",
    "    #                 data = json.load(f)\n",
    "    #                 if data.keys() != {'run_name', 'results'}:\n",
    "    #                     continue\n",
    "    #         except Exception as e:\n",
    "    #             continue\n",
    "    #         self._load_run_results(data)\n",
    "\n",
    "    def to_dict(self):\n",
    "        data: dict = {\n",
    "            \"ocr_model\": self.ocr_model,\n",
    "            \"runs\": (rr := {})\n",
    "        }\n",
    "        for run_name, _ in self._exp_runs.items():\n",
    "            rr[run_name] = self.run_to_dict(run_name)\n",
    "        return data\n",
    "\n",
    "    def to_json(self):\n",
    "        data = self.to_dict()\n",
    "        _ = datetime.datetime.now()\n",
    "        fp = self._root / f'{self.name}.json'\n",
    "        with open(fp, 'w') as f:\n",
    "            json.dump(data, f, indent=2)\n",
    "        return fp\n",
    "    \n",
    "    def _from_json(self):\n",
    "        json_path = self.root_dir / f'{self.name}.json'\n",
    "        if not json_path.exists(): return\n",
    "        try:\n",
    "            with open(json_path, 'r') as f:\n",
    "                data = json.load(f)\n",
    "        except Exception as e:\n",
    "            logger.error(f\"Error loading {json_path}: {e}\")\n",
    "            return\n",
    "        self.ocr_model = data['ocr_model']\n",
    "        for run_name, run_results in data['runs'].items():\n",
    "            self._load_run_results(run_name, run_results)\n",
    "    \n",
    "    @classmethod\n",
    "    def from_json(cls, root_dir: Path, name: str, config: cfg.Config | None = None):\n",
    "        json_path = root_dir / f'{name}.json'\n",
    "        try:\n",
    "            with open(json_path, 'r') as f:\n",
    "                data = json.load(f)\n",
    "        except Exception as e:\n",
    "            logger.error(f\"Error loading {json_path}: {e}\")\n",
    "            raise e\n",
    "        config = config or cls.get_config()\n",
    "        self = cls(data['ocr_model'], root_dir, config=config)\n",
    "        for run_name, run_results in data['runs'].items():\n",
    "            self._load_run_results(run_name, run_results)\n",
    "        return self\n",
    "    \n",
    "    def save(self):\n",
    "        fp = self.to_json()\n",
    "        self._dirty = False\n",
    "        return fp\n",
    "\n",
    "    @classmethod\n",
    "    def load(cls, root_dir: Path, name: str):\n",
    "        return cls.from_json(root_dir, name)\n",
    "\n",
    "\n",
    "    def show(self):\n",
    "        config = self.config\n",
    "        gpu = torch.cuda.is_available() or torch.backends.mps.is_available()\n",
    "        model_path = config.get_model_path(gpu)\n",
    "        device = (\"mps\" if torch.backends.mps.is_available() else \"cuda\") if model_path.suffix == \".pt\" else \"cpu\"\n",
    "\n",
    "        config.show()\n",
    "        cprint(\n",
    "            f\"{'config cache_dir':>17}: {repr(config.cache_dir)}\\n\"\n",
    "            f\"{'model_path':>17}: {repr(model_path)}\\n\"\n",
    "            f\"{'device':>17}: {repr(device)}\")\n",
    "        \n",
    "        cprint(\n",
    "            f\"{'force_PIL':>17}: {self.force_PIL}\\n\"\n",
    "            f\"{'use_tunnel':>17}: {self.use_tunnel}\\n\"\n",
    "            f\"{'server_url':>17}: {repr(self.server.unc_share) if self.server else ''}\\n\"\n",
    "            f\"{'experiment dir':>17}: {self.root_dir}\\n\"\n",
    "            f\"{'source_dir':>17}: {self.final(self.source_dir)}\\n\"\n",
    "            f\"{'cache_dir':>17}: {self.final(self.cache_dir)}\\n\"\n",
    "        )\n",
    "\n",
    "\n",
    "    def __init__(self, \n",
    "            ocr_model: str,\n",
    "            root_dir: Path | str | None = None, \n",
    "            *, \n",
    "            config: cfg.Config | None = None, \n",
    "            server: web_server.WebServer | None = None,\n",
    "            run_name: str = 'Tesseract-crop-post',\n",
    "            load: bool = True):\n",
    "        if root_dir is None:\n",
    "            root_dir = type(self).EXP_DIR\n",
    "        self.config = config or type(self).get_config()\n",
    "        self.ocr_model = ocr_model\n",
    "        root_dir = Path(root_dir)\n",
    "        super().__init__(\n",
    "            ocr_model, self.get_image_paths(root_dir), root=root_dir)\n",
    "        self.image_paths = self._paths\n",
    "        self._reset_results()\n",
    "        self._images = self._subjects\n",
    "        use_pil = os.environ['USE_PIL'].lower() == 'true'\n",
    "        self.force_PIL = use_pil\n",
    "        use_tunnel = os.environ['USE_TUNNEL'].lower() == 'true'\n",
    "        self.use_tunnel = use_tunnel\n",
    "        self.server = server or SERVER\n",
    "        if load:\n",
    "            self._from_json()\n",
    "        # default run\n",
    "        ExperimentRun(self, run_name)\n",
    "\n"
   ]
  },
  {
   "cell_type": "code",
   "execution_count": null,
   "metadata": {},
   "outputs": [],
   "source": [
    "#| exporti\n",
    "\n",
    "@FC.patch_to(ImageContext)\n",
    "def setup(self, exp: OCRExperimentContext, image_idx: ImgSpecT, page_lang: str | None = None):\n",
    "    super(type(self), self).setup(exp, image_idx)\n",
    "    self._mask_dilated1 = self._mask_dilated05 = self._mask_dilated02 = None\n",
    "    self.json_data, self.page_data = exp._load_page_data(self.idx)\n",
    "    self.setup_page_lang(page_lang)\n",
    "    self.mask = Image.open(exp.final(self.mask_path))\n",
    "    self.base_image = Image.open(exp.final(self.image_path))\n",
    "    self.setup_ground_truth()\n"
   ]
  },
  {
   "cell_type": "code",
   "execution_count": null,
   "metadata": {},
   "outputs": [],
   "source": [
    "exp = OCRExperimentContext('test')\n",
    "test_eq(rr := exp._results, {})\n",
    "test_eq(rr['Tesseract'][0][0], {})\n",
    "test_eq(rr, {'Tesseract': {0: {0: {}}}})\n",
    "test_eq(rr['Tesseract'][0][0].get(CM.INITIAL_BOX), None)\n",
    "rr['Tesseract'][0][0][CM.INITIAL_BOX] = 'a'  # type: ignore\n",
    "test_eq(rr, {'Tesseract': {0: {0: {CM.INITIAL_BOX: 'a'}}}})\n"
   ]
  },
  {
   "cell_type": "markdown",
   "metadata": {},
   "source": [
    "## SimpleResultVisor\n"
   ]
  },
  {
   "cell_type": "code",
   "execution_count": null,
   "metadata": {},
   "outputs": [],
   "source": [
    "#| export\n",
    "\n",
    "class SimpleResultVisor:\n",
    "    ctx: ResultOCR\n",
    "\n",
    "    @classmethod\n",
    "    def diff_tagged(cls, result: ResultOCR):\n",
    "        _, html = get_text_diffs_html(result.image_ctx.gts()[result.block_idx], result.ocr, False)\n",
    "        return f\"<span style='font-size: 14px;'>{html}</span>\"\n",
    "\n",
    "    def as_html(self):\n",
    "        result = self.ctx\n",
    "        DI = cast(OCRExperimentContext, result.image_ctx.exp).DI\n",
    "        if isinstance(result, ResultOCRExtracted):\n",
    "            return self.as_html_extracted()\n",
    "        has_ocr = result.ocr is not None\n",
    "        acc_html = ''\n",
    "        if has_ocr:\n",
    "            acc_html = f\"<br/><strong><span style='color: red;'>{result.acc:.2f}</span></strong>\"\n",
    "        html_str1, html_str2 = get_text_diffs_html(result.image_ctx.gts()[result.block_idx], result.ocr)\n",
    "        box_image_path = result.cache_image()\n",
    "        html1 = get_columns_html([[DI(box_image_path)], [(result.ocr or '') + acc_html]])\n",
    "        if has_ocr:\n",
    "            html2 = f\"<pre style='font-size: 14px;'>{html_str1}<br/>{html_str2}</pre>\"\n",
    "        else:\n",
    "            html2 = f\"<pre style='font-size: 14px;'>{html_str1}</pre>\"\n",
    "        return html1 + '\\n<br/>\\n' + html2\n",
    "\n",
    "    def as_html_extracted(self):\n",
    "        result = self.ctx\n",
    "        has_ocr = result.ocr is not None\n",
    "        DI = cast(OCRExperimentContext, result.image_ctx.exp).DI\n",
    "        html_str1, html_str2 = get_text_diffs_html(result.image_ctx.gts()[result.block_idx], result.ocr)\n",
    "        if has_ocr:\n",
    "            diff_html = f\"<pre style='font-size: 14px;'>{html_str1}<br/>{html_str2}</pre>\"\n",
    "        else:\n",
    "            diff_html = f\"<pre style='font-size: 14px;'>{html_str1}</pre>\"\n",
    "        cropped_image_path = result.cache_image(None, \"cropped\")\n",
    "        cropped_mask_path = result.cache_image(None, \"mask\")\n",
    "        result_path = result.cache_image()\n",
    "        return '\\n<br/>\\n'.join([\n",
    "            get_image_grid_html([\n",
    "                DI(cropped_image_path), DI(cropped_mask_path), DI(result_path)], 1, 3), \n",
    "            acc_as_html(result.acc) if has_ocr else '', \n",
    "            diff_html\n",
    "        ])\n",
    "    \n",
    "    def display(self): display(HTML(self.as_html()))\n",
    "    def _ipython_display_(self): self.display()\n",
    "\n",
    "    def __init__(self, ctx: ResultOCR):\n",
    "        self.ctx = ctx\n",
    "\n",
    "\n",
    "ResultOCR._default_visor_type = SimpleResultVisor  # type: ignore\n"
   ]
  },
  {
   "cell_type": "markdown",
   "metadata": {},
   "source": [
    "# ExperimentContext.EXP_DIR\n",
    "> Directory where the source images resides (`source/`) and the resulting images will be cached (`cache/`).\n",
    "\n",
    "By default, is set to `../experiment/`, and that's the value used by any `ExperimentContext` if not explicitly set on `__init__`.\n"
   ]
  },
  {
   "cell_type": "code",
   "execution_count": null,
   "metadata": {},
   "outputs": [],
   "source": [
    "EXP_DIR = ExperimentContext.EXP_DIR\n",
    "test_eq(EXP_DIR, Path('../experiment'))\n"
   ]
  },
  {
   "cell_type": "markdown",
   "metadata": {},
   "source": [
    "# CONTEXT\n",
    "> `CONTEXT` is an `ExperimentContext` object that contains the configuration and the list of image paths.\n"
   ]
  },
  {
   "cell_type": "markdown",
   "metadata": {},
   "source": [
    "## PanelCleaner Configuration\n",
    "> Adapt `PanelCleaner` `Config` current config to this notebook.\n"
   ]
  },
  {
   "cell_type": "markdown",
   "metadata": {},
   "source": [
    "Get PanelCleaner config the usual way or through `OCRExperimentContext`"
   ]
  },
  {
   "cell_type": "code",
   "execution_count": null,
   "metadata": {},
   "outputs": [],
   "source": [
    "# CONFIG = cfg.load_config()\n",
    "\n",
    "# profile = CONFIG.current_profile\n",
    "# preprocessor_conf = profile.preprocessor\n",
    "# # Modify the profile to OCR all boxes.\n",
    "# # Make sure OCR is enabled.\n",
    "# preprocessor_conf.ocr_enabled = True\n",
    "# # Make sure the max size is infinite, so no boxes are skipped in the OCR process.\n",
    "# preprocessor_conf.ocr_max_size = 10**10\n",
    "# # Make sure the sus box min size is infinite, so all boxes with \"unknown\" language are skipped.\n",
    "# preprocessor_conf.suspicious_box_min_size = 10**10\n",
    "# # Set the OCR blacklist pattern to match everything, so all text gets reported in the analytics.\n",
    "# preprocessor_conf.ocr_blacklist_pattern = \".*\"\n",
    "\n",
    "# gpu = torch.cuda.is_available() or torch.backends.mps.is_available()\n",
    "# model_path = CONFIG.get_model_path(gpu)\n",
    "\n",
    "# if model_path is None:\n",
    "#     # don't mess with normal PanelCleaner, download models directly\n",
    "#     import pcleaner.model_downloader as md\n",
    "#     model_dir = CONFIG.get_model_cache_dir()\n",
    "#     CONFIG.default_torch_model_path = md.download_torch_model(model_dir)\n",
    "#     CONFIG.default_cv2_model_path = md.download_cv2_model(model_dir)\n"
   ]
  },
  {
   "cell_type": "markdown",
   "metadata": {},
   "source": [
    "Creates the `OCRExperimentContext` object we'll use to manage experiments.\n"
   ]
  },
  {
   "cell_type": "code",
   "execution_count": null,
   "metadata": {},
   "outputs": [],
   "source": [
    "CONTEXT = OCRExperimentContext('Tesseract')\n"
   ]
  },
  {
   "cell_type": "code",
   "execution_count": null,
   "metadata": {},
   "outputs": [
    {
     "name": "stdout",
     "output_type": "stream",
     "text": [
      "Current Configuration:\n",
      "\n",
      "Locale: System default\n",
      "Default Profile: Built-in\n",
      "Saved Profiles:\n",
      "- victess: /Users/vic/dev/repo/DL-mac/cleaned/victess.conf\n",
      "- vicmang: /Users/vic/dev/repo/DL-mac/cleaned/vicmang.conf\n",
      "\n",
      "Profile Editor: cursor\n",
      "Cache Directory: System default\n",
      "Default Torch Model Path: /Users/vic/Library/Caches/pcleaner/model/comictextdetector.pt\n",
      "Default CV2 Model Path: /Users/vic/Library/Caches/pcleaner/model/comictextdetector.pt.onnx\n",
      "GUI Theme: System default\n",
      "\n",
      "--------------------\n",
      "\n",
      "Config file located at: /Users/vic/Library/Application Support/pcleaner/pcleanerconfig.ini\n",
      "System default cache directory: /Users/vic/Library/Caches/pcleaner\n"
     ]
    },
    {
     "data": {
      "text/html": [
       "<pre style=\"white-space:pre;overflow-x:auto;line-height:normal;font-family:Menlo,'DejaVu Sans Mono',consolas,'Courier New',monospace\"> config cache_dir: <span style=\"color: #800080; text-decoration-color: #800080; font-style: italic\">None</span>\n",
       "       model_path: <span style=\"color: #800080; text-decoration-color: #800080; font-weight: bold\">Path</span><span style=\"font-weight: bold\">(</span><span style=\"color: #008000; text-decoration-color: #008000\">'/Users/vic/Library/Caches/pcleaner/model/comictextdetector.pt'</span><span style=\"font-weight: bold\">)</span>\n",
       "           device: <span style=\"color: #008000; text-decoration-color: #008000\">'mps'</span>\n",
       "</pre>\n"
      ],
      "text/plain": [
       " config cache_dir: \u001b[3;35mNone\u001b[0m\n",
       "       model_path: \u001b[1;35mPath\u001b[0m\u001b[1m(\u001b[0m\u001b[32m'/Users/vic/Library/Caches/pcleaner/model/comictextdetector.pt'\u001b[0m\u001b[1m)\u001b[0m\n",
       "           device: \u001b[32m'mps'\u001b[0m\n"
      ]
     },
     "metadata": {},
     "output_type": "display_data"
    },
    {
     "data": {
      "text/html": [
       "<pre style=\"white-space:pre;overflow-x:auto;line-height:normal;font-family:Menlo,'DejaVu Sans Mono',consolas,'Courier New',monospace\">        force_PIL: <span style=\"color: #ff0000; text-decoration-color: #ff0000; font-style: italic\">False</span>\n",
       "       use_tunnel: <span style=\"color: #ff0000; text-decoration-color: #ff0000; font-style: italic\">False</span>\n",
       "       server_url: \n",
       "   experiment dir: ..<span style=\"color: #800080; text-decoration-color: #800080\">/</span><span style=\"color: #ff00ff; text-decoration-color: #ff00ff\">experiment</span>\n",
       "       source_dir: ..<span style=\"color: #800080; text-decoration-color: #800080\">/experiment/</span><span style=\"color: #ff00ff; text-decoration-color: #ff00ff\">source</span>\n",
       "        cache_dir: ..<span style=\"color: #800080; text-decoration-color: #800080\">/experiment/</span><span style=\"color: #ff00ff; text-decoration-color: #ff00ff\">cache</span>\n",
       "\n",
       "</pre>\n"
      ],
      "text/plain": [
       "        force_PIL: \u001b[3;91mFalse\u001b[0m\n",
       "       use_tunnel: \u001b[3;91mFalse\u001b[0m\n",
       "       server_url: \n",
       "   experiment dir: ..\u001b[35m/\u001b[0m\u001b[95mexperiment\u001b[0m\n",
       "       source_dir: ..\u001b[35m/experiment/\u001b[0m\u001b[95msource\u001b[0m\n",
       "        cache_dir: ..\u001b[35m/experiment/\u001b[0m\u001b[95mcache\u001b[0m\n",
       "\n"
      ]
     },
     "metadata": {},
     "output_type": "display_data"
    }
   ],
   "source": [
    "test_eq(CONTEXT.config.current_profile.preprocessor.ocr_enabled, True)\n",
    "test_eq(CONTEXT.config.current_profile.preprocessor.ocr_max_size, 10**10)\n",
    "test_eq(CONTEXT.config.current_profile.preprocessor.suspicious_box_min_size, 10**10)\n",
    "test_eq(CONTEXT.config.current_profile.preprocessor.ocr_blacklist_pattern, \".*\")\n",
    "\n",
    "test_eq(CONTEXT.root_dir, EXP_DIR)\n",
    "test_eq(CONTEXT.cache_dir, Path(ExperimentContext.CACHE_DIR_NAME))\n",
    "test_eq(CONTEXT.source_dir, Path(ExperimentContext.SOURCE_DIR_NAME))\n",
    "\n",
    "CONTEXT.show()\n"
   ]
  },
  {
   "cell_type": "markdown",
   "metadata": {},
   "source": [
    "# Test images\n",
    "> `IMAGE_PATHS` is a list of image file paths that are used as input for testing the OCR methods."
   ]
  },
  {
   "cell_type": "markdown",
   "metadata": {},
   "source": [
    "Copy your images to the source directory or use the standard set:\n"
   ]
  },
  {
   "cell_type": "code",
   "execution_count": null,
   "metadata": {},
   "outputs": [
    {
     "data": {
      "text/plain": [
       "['00: Action_Comics_1960-01-00_(262).JPG',\n",
       " '01: Adolf_Cap_01_008.jpg',\n",
       " '02: Barnaby_v1-028.png',\n",
       " '03: Barnaby_v1-029.png',\n",
       " '04: Buck_Danny_-_12_-_Avions_Sans_Pilotes_-_013.jpg',\n",
       " '05: Cannon-292.jpg',\n",
       " '06: Contrato_con_Dios_028.jpg',\n",
       " '07: Erase_una_vez_en_Francia_02_88.jpg',\n",
       " '08: FOX_CHILLINTALES_T17_012.jpg',\n",
       " '09: Furari_-_Jiro_Taniguchi_selma_056.jpg',\n",
       " '10: Galactus_12.jpg',\n",
       " '11: INOUE_KYOUMEN_002.png',\n",
       " '12: MCCALL_ROBINHOOD_T31_010.jpg',\n",
       " '13: MCCAY_LITTLENEMO_090.jpg',\n",
       " '14: Mary_Perkins_On_Stage_v2006_1_-_P00068.jpg',\n",
       " '15: PIKE_BOYLOVEGIRLS_T41_012.jpg',\n",
       " '16: Sal_Buscema_Spaceknights_&_Superheroes_Ocular_Edition_1_1.png',\n",
       " '17: Sal_Buscema_Spaceknights_&_Superheroes_Ocular_Edition_1_1_K.png',\n",
       " '18: Sal_Buscema_Spaceknights_&_Superheroes_Ocular_Edition_1_2.png',\n",
       " '19: Spirou_Et_Fantasio_Integrale_06_1958_1959_0025_0024.jpg',\n",
       " '20: Strange_Tales_172005.jpg',\n",
       " '21: Strange_Tales_172021.jpg',\n",
       " '22: Tarzan_014-21.JPG',\n",
       " '23: Tintin_21_Les_Bijoux_de_la_Castafiore_page_39.jpg',\n",
       " '24: Transformers_-_Unicron_000-004.jpg',\n",
       " '25: Transformers_-_Unicron_000-016.jpg',\n",
       " '26: WARE_ACME_024.jpg',\n",
       " '27: Yoko_Tsuno_T01_1972-10.jpg',\n",
       " '28: Your_Name_Another_Side_Earthbound_T02_084.jpg',\n",
       " '29: manga_0033.jpg',\n",
       " '30: ronson-031.jpg',\n",
       " '31: 哀心迷図のバベル 第01巻 - 22002_00_059.jpg']"
      ]
     },
     "execution_count": null,
     "metadata": {},
     "output_type": "execute_result"
    }
   ],
   "source": [
    "IMAGE_PATHS = CONTEXT.image_paths\n",
    "\n",
    "[f\"{i:02}: {_.name}\" for i,_ in enumerate(IMAGE_PATHS)]\n"
   ]
  },
  {
   "cell_type": "markdown",
   "metadata": {},
   "source": [
    "ExperimentContext offers facilities to access the subjects data (images in this case) in the context.\n"
   ]
  },
  {
   "cell_type": "code",
   "execution_count": null,
   "metadata": {},
   "outputs": [],
   "source": [
    "test_eq(CONTEXT.subject_count, 32)\n",
    "\n",
    "test_eq(CONTEXT.subject_cache_dir(2), CONTEXT.cache_dir / CONTEXT.image_paths[2].stem)\n",
    "\n",
    "test_eq(CONTEXT.normalize_idx(2), 2)\n",
    "test_eq(CONTEXT.normalize_idx('Action_Comics_1960-01-00_(262).JPG'), 0)\n",
    "test_eq(CONTEXT.normalize_idx(IMAGE_PATHS[31]), 31)\n",
    "\n",
    "test_eq(CONTEXT.path_from_idx(2), IMAGE_PATHS[2])\n",
    "test_eq(CONTEXT.path_from_idx('Barnaby_v1-028.png', cached=True), CONTEXT.cached_image(2))\n"
   ]
  },
  {
   "cell_type": "markdown",
   "metadata": {},
   "source": [
    "# EXP_RUN\n",
    "> `EXP_RUN` is the current `OCRExperimentRun`.\n"
   ]
  },
  {
   "cell_type": "code",
   "execution_count": null,
   "metadata": {},
   "outputs": [
    {
     "data": {
      "text/plain": [
       "'Tesseract-crop'"
      ]
     },
     "execution_count": null,
     "metadata": {},
     "output_type": "execute_result"
    }
   ],
   "source": [
    "EXP_RUN = CONTEXT.experiment_run()\n",
    "assert EXP_RUN is not None\n",
    "RUN_NAME = EXP_RUN.name\n",
    "RUN_NAME\n"
   ]
  },
  {
   "cell_type": "markdown",
   "metadata": {},
   "source": [
    "# Context browser\n"
   ]
  },
  {
   "cell_type": "markdown",
   "metadata": {},
   "source": [
    "## RunSelector\n"
   ]
  },
  {
   "cell_type": "code",
   "execution_count": null,
   "metadata": {},
   "outputs": [],
   "source": [
    "#| export\n",
    "\n",
    "class RunSelector(ContextVisor):\n",
    "    def setup_controls(self):\n",
    "        options = self.run_names\n",
    "        w = W.Dropdown(\n",
    "                options=options, \n",
    "                value=self.values['run_name'],\n",
    "                layout={'width': 'fit-content'},\n",
    "                style={'description_width': 'initial'})\n",
    "        return {'run_name': w}\n",
    "\n",
    "    def setup_ui(self):\n",
    "        ctls = self.controls\n",
    "        model_grp = W.HBox([ctls['run_name']])\n",
    "        model_grp.add_class('model_grp')\n",
    "        ui = W.HBox([*super().comps_ui(), model_grp])\n",
    "        return ui\n",
    "\n",
    "    def __init__(self, \n",
    "            exp_ctx: OCRExperimentContext,\n",
    "            run_name: str | None=None,\n",
    "            run_names: list[str] | None = None,\n",
    "            **kwargs\n",
    "        ):\n",
    "        self.run_names: list[str] = run_names or exp_ctx.run_names\n",
    "        super().__init__(exp_ctx, \n",
    "            {'run_name': run_name or self.run_names[0]})\n"
   ]
  },
  {
   "cell_type": "code",
   "execution_count": null,
   "metadata": {},
   "outputs": [
    {
     "data": {
      "application/vnd.jupyter.widget-view+json": {
       "model_id": "0c2020d24be648859a860e5164b7a488",
       "version_major": 2,
       "version_minor": 0
      },
      "text/plain": [
       "VBox(children=(HBox(children=(HBox(children=(Dropdown(layout=Layout(width='fit-content'), options=('Tesseract-…"
      ]
     },
     "metadata": {},
     "output_type": "display_data"
    }
   ],
   "source": [
    "cleanupwidgets('run_selector')\n",
    "\n",
    "run_selector = RunSelector(CONTEXT)\n",
    "run_selector\n"
   ]
  },
  {
   "cell_type": "markdown",
   "metadata": {},
   "source": [
    "## MessageVisor\n"
   ]
  },
  {
   "cell_type": "code",
   "execution_count": null,
   "metadata": {},
   "outputs": [],
   "source": [
    "#| export\n",
    "\n",
    "class MessageVisor(ContextVisor):\n",
    "    EMPTY = '<empty>'\n",
    "\n",
    "    # _css = \"\"\"\n",
    "    #     .message_visor-yXy {\n",
    "    #         border: 1px solid red;\n",
    "    #     }\n",
    "    # \"\"\"\n",
    "\n",
    "    @property\n",
    "    def msg(self): return self.values['msg']\n",
    "    \n",
    "    def update_output(self, /, msg: str | None = None, **kwargs):\n",
    "        if msg is not None and msg != self.EMPTY:\n",
    "            cprint(msg)\n",
    "            self.values['msg'] = None\n",
    "        else:\n",
    "            clear_output()\n",
    "        \n",
    "    def setup_style(self):\n",
    "        self.out.add_class('message_visor-yXy')\n",
    "        return super().setup_style()\n",
    "\n",
    "    def setup_controls(self):\n",
    "        # w = W.Label(value=self.values['msg'] if self.values['msg'] != self.EMPTY else None, \n",
    "        #         layout={'width': 'fit-content'})\n",
    "        return {}#{'msg': w}\n",
    "\n",
    "    def __init__(self, \n",
    "            msg: str | None = None,\n",
    "            **kwargs\n",
    "        ):\n",
    "        super().__init__(None, \n",
    "            {'msg': msg}, \n",
    "            **kwargs)\n"
   ]
  },
  {
   "cell_type": "code",
   "execution_count": null,
   "metadata": {},
   "outputs": [
    {
     "data": {
      "text/html": [
       "\n",
       "<script>\n",
       "    var currentScript = document.currentScript;\n",
       "    currentScript.parentNode.innerHTML = '';\n",
       "    # console.log(currentScript);\n",
       "    # debugger;\n",
       "</script>\n"
      ],
      "text/plain": [
       "<IPython.core.display.HTML object>"
      ]
     },
     "metadata": {},
     "output_type": "display_data"
    }
   ],
   "source": [
    "cleanupwidgets('message_visor')\n",
    "\n",
    "message_visor = MessageVisor('Hello, Earth-616!')\n",
    "message_visor\n"
   ]
  },
  {
   "cell_type": "code",
   "execution_count": null,
   "metadata": {},
   "outputs": [],
   "source": [
    "message_visor.update(msg='Hello, mirror universe!')\n"
   ]
  },
  {
   "cell_type": "code",
   "execution_count": null,
   "metadata": {},
   "outputs": [],
   "source": [
    "message_visor.update(msg=MessageVisor.EMPTY)\n"
   ]
  },
  {
   "cell_type": "code",
   "execution_count": null,
   "metadata": {},
   "outputs": [],
   "source": [
    "message_visor.update(msg=\"seeya'!\")\n"
   ]
  },
  {
   "cell_type": "code",
   "execution_count": null,
   "metadata": {},
   "outputs": [],
   "source": [
    "cleanupwidgets('message_visor')"
   ]
  },
  {
   "cell_type": "markdown",
   "metadata": {},
   "source": [
    "## Status visor\n"
   ]
  },
  {
   "cell_type": "code",
   "execution_count": null,
   "metadata": {},
   "outputs": [],
   "source": [
    "#| export\n",
    "\n",
    "class StatusVisor(ContextVisor):\n",
    "    ctx: OCRExperimentContext\n",
    "\n",
    "    @property\n",
    "    def save_button(self) -> W.Button: return self.controls['save']  # type: ignore\n",
    "    @property\n",
    "    def reset_button(self) -> W.Button: return self.controls['reset']  # type: ignore\n",
    "    \n",
    "    def setup_controls(self):\n",
    "        style={'font_size': '1em', 'font_weight': 'bold'}\n",
    "        sw = W.Button(description = 'save', style=style,\n",
    "                layout={'width': '4em'},\n",
    "            )\n",
    "        rw = W.Button(description = 'reset', style=style,\n",
    "                layout={'width': '5em', 'margin': '0px 0px 0px 3em'},\n",
    "            )\n",
    "        return {'save': sw, 'reset': rw}\n",
    "\n",
    "    def setup_ux(self):\n",
    "        source = (self.ctx, '_dirty')\n",
    "        target = (self.save_button, 'disabled')\n",
    "        T.dlink(source, target, lambda x: not x)\n",
    "        target = (self.save_button.style, 'button_color')\n",
    "        T.dlink(source, target, lambda x: 'lightblue' if x else None)\n",
    "    \n",
    "\n",
    "    def __init__(self, exp_ctx: OCRExperimentContext, **kwargs):\n",
    "        super().__init__(exp_ctx, {}, **kwargs)\n"
   ]
  },
  {
   "cell_type": "code",
   "execution_count": null,
   "metadata": {},
   "outputs": [
    {
     "data": {
      "application/vnd.jupyter.widget-view+json": {
       "model_id": "bd2189871d114efda2d8289cff17f061",
       "version_major": 2,
       "version_minor": 0
      },
      "text/plain": [
       "VBox(children=(HBox(children=(Button(description='save', disabled=True, layout=Layout(width='4em'), style=Butt…"
      ]
     },
     "metadata": {},
     "output_type": "display_data"
    }
   ],
   "source": [
    "cleanupwidgets('status_visor')\n",
    "\n",
    "CONTEXT._dirty = False\n",
    "status_visor = StatusVisor(CONTEXT)\n",
    "status_visor\n"
   ]
  },
  {
   "cell_type": "code",
   "execution_count": null,
   "metadata": {},
   "outputs": [
    {
     "data": {
      "text/html": [
       "<table><colgroup><col style='width: 552px;'/><col style='width: auto;'/></colgroup><tr><td style='text-align: center;'><img src=\"../experiment/cache/Barnaby_v1-028/.crop/Barnaby_v1-028_3_Initial box.png\"/></td><td style='font-size: 12pt; text-align: left; '></td></tr></table>\n",
       "<br/>\n",
       "<pre style='font-size: 14px;'><div style='font-family: monospace; white-space: pre-wrap;'>Where the end of this divining rod turns to the earth we&#x27;ll find water.</div></pre>"
      ],
      "text/plain": [
       "<IPython.core.display.HTML object>"
      ]
     },
     "metadata": {},
     "output_type": "display_data"
    }
   ],
   "source": [
    "result = CONTEXT.result(RUN_NAME, 2, 3, CropMethod.INITIAL_BOX, ocr=False)\n",
    "result\n"
   ]
  },
  {
   "cell_type": "code",
   "execution_count": null,
   "metadata": {},
   "outputs": [],
   "source": [
    "CONTEXT._dirty = False\n"
   ]
  },
  {
   "cell_type": "markdown",
   "metadata": {},
   "source": [
    "## OCRModelSelector\n"
   ]
  },
  {
   "cell_type": "code",
   "execution_count": null,
   "metadata": {},
   "outputs": [],
   "source": [
    "#| export\n",
    "\n",
    "class OCRModelSelector(ContextVisor):\n",
    "    ctx: OCRExperimentContext\n",
    "    \n",
    "    def setup_controls(self):\n",
    "        options = self.models\n",
    "        w = W.Dropdown(\n",
    "                options=options, \n",
    "                value=self.values['model'],\n",
    "                layout={'width': 'fit-content'},\n",
    "                style={'description_width': 'initial'})\n",
    "        return {'model': w}\n",
    "\n",
    "    def setup_ui(self):\n",
    "        ctls = self.controls\n",
    "        model_grp = W.HBox([ctls['model']])\n",
    "        model_grp.add_class('model_grp')\n",
    "        ui = W.HBox([*super().comps_ui(), model_grp])\n",
    "        return ui\n",
    "\n",
    "    def __init__(self, \n",
    "            exp_ctx: OCRExperimentContext,\n",
    "            ocr_model: OCRModel | None=OCRModel.TESSERACT,\n",
    "            ocr_models: dict[str, OCRModel] | None = None,\n",
    "            out: W.Output | None = None\n",
    "        ):\n",
    "        self.models: dict[str, OCRModel] = ocr_models or OCRModel.__display_names__()\n",
    "        super().__init__(exp_ctx, \n",
    "            {'model': ocr_model or OCRModel.TESSERACT}, \n",
    "            out=out or self.out)#, ctxs=[exp_visor])\n"
   ]
  },
  {
   "cell_type": "code",
   "execution_count": null,
   "metadata": {},
   "outputs": [
    {
     "data": {
      "application/vnd.jupyter.widget-view+json": {
       "model_id": "372113f76b744e858ab64c6e2eb4e750",
       "version_major": 2,
       "version_minor": 0
      },
      "text/plain": [
       "VBox(children=(HBox(children=(HBox(children=(Dropdown(layout=Layout(width='fit-content'), options={'Tesseract'…"
      ]
     },
     "metadata": {},
     "output_type": "display_data"
    }
   ],
   "source": [
    "model_selector = OCRModelSelector(CONTEXT)\n",
    "model_selector\n"
   ]
  },
  {
   "cell_type": "markdown",
   "metadata": {},
   "source": [
    "## ContentSelector"
   ]
  },
  {
   "cell_type": "code",
   "execution_count": null,
   "metadata": {},
   "outputs": [],
   "source": [
    "#| export\n",
    "\n",
    "class DisplayOptions(Enum):\n",
    "    BOXES = 0\n",
    "    IMAGE = 1\n",
    "    MASK = 2\n",
    "    IMAGE_MASK = 3\n",
    "    PAGE_DATA = 4\n",
    "    GROUND_TRUTH = 5\n",
    "    ALL = 6\n",
    "    RESULTS = 7\n",
    "    BEST_RESULTS = 8\n",
    "    ACCURACY = 9\n",
    "    DATAFRAME = 10\n",
    "    CONFIG = 11\n",
    "\n",
    "    @staticmethod\n",
    "    def __display_names__():\n",
    "        return dict(\n",
    "            zip(\"Boxes, Image, Mask, Image & Mask, Page data, Ground truth, Image All, Results, \"\n",
    "                \"Best results, Accuracy, Dataframe, Config\".split(', '), \n",
    "            DisplayOptions))\n",
    "\n",
    "\n",
    "class ContentSelector(ContextVisor):\n",
    "    ctx: OCRExperimentContext\n",
    "\n",
    "    def image_info(self, image_ctx: ImageContext): \n",
    "        img = image_ctx.base_image\n",
    "        (w, h), print_size_in, print_size_cm, required_dpi = image_ctx.image_info\n",
    "        format = PRINT_FORMATS['Modern Age']\n",
    "        cprint( f\"{'Width x Height':>30}: {w} x {h} pixels\\n\"\n",
    "                f\"{'PIL Info DPI':>30}: {repr(img.info.get('dpi', None))}\\n\"\n",
    "                f\"{'Print Size 300 DPI':>30}: {print_size_in[0]:.3f} x {print_size_in[1]:.3f} in\"\n",
    "                f\" / {print_size_cm[0]:.3f} x {print_size_cm[1]:.3f} cm\\n\"\n",
    "                f\"Required DPI Modern Age format: {required_dpi:.3f} dpi \"\n",
    "                f\"({format[0]:.3f} x {format[1]:.3f} in)\")\n",
    "\n",
    "\n",
    "    def display_content(self, image_ctx: ImageContext, display_option: DisplayOptions):\n",
    "        DI = self.ctx.DI\n",
    "        if display_option in (DisplayOptions.ALL, DisplayOptions.PAGE_DATA):\n",
    "            self.image_info(image_ctx)\n",
    "            RenderJSON(image_ctx.json_data, 350, 2).display()\n",
    "        if display_option in (DisplayOptions.ALL, DisplayOptions.GROUND_TRUTH):\n",
    "            cprint(image_ctx.gts())\n",
    "        if display_option == DisplayOptions.CONFIG:\n",
    "            self.ctx.show()\n",
    "        if display_option == DisplayOptions.IMAGE:\n",
    "            display_image_grid([DI(image_ctx.image_path)], 1, 1)\n",
    "        if display_option == DisplayOptions.MASK:\n",
    "            display_image_grid([DI(image_ctx.mask_path)], 1, 1)\n",
    "        if display_option in (DisplayOptions.ALL, DisplayOptions.IMAGE_MASK):\n",
    "            display_image_grid([DI(image_ctx.image_path), DI(image_ctx.mask_path)], 1, 2)\n",
    "        if display_option in (DisplayOptions.ALL, DisplayOptions.BOXES):\n",
    "            display_image_grid([DI(image_ctx.image_boxes_path)], 1, 1)\n",
    "\n",
    "\n",
    "    def setup_controls(self):\n",
    "        options = self.display_options or {**DisplayOptions.__display_names__()}\n",
    "        display_option_wdgt = W.Dropdown(\n",
    "                options=options, \n",
    "                value=self.values['display_option'],\n",
    "                layout={'width': '120px'},\n",
    "                style={'description_width': 'initial'})\n",
    "        return {'display_option': display_option_wdgt}\n",
    "\n",
    "\n",
    "    def setup_ui(self):\n",
    "        ctls = self.controls\n",
    "        display_option_grp = W.HBox([ctls['display_option']])\n",
    "        display_option_grp.add_class('display_option_grp')\n",
    "        comps = self.comps_ui()\n",
    "        ui = W.HBox([*comps, display_option_grp])\n",
    "        return ui\n",
    "\n",
    "\n",
    "    def __init__(self, \n",
    "            exp_ctx: OCRExperimentContext,\n",
    "            display_option: DisplayOptions | None=DisplayOptions.BOXES,\n",
    "            display_options: Mapping[str, DisplayOptions] | None = None,\n",
    "            **kwargs\n",
    "        ):\n",
    "        self.display_options = display_options\n",
    "        super().__init__(exp_ctx, \n",
    "            {'display_option': display_option or DisplayOptions.BOXES}, \n",
    "            **kwargs)#, ctxs=[exp_visor])\n"
   ]
  },
  {
   "cell_type": "code",
   "execution_count": null,
   "metadata": {},
   "outputs": [
    {
     "data": {
      "application/vnd.jupyter.widget-view+json": {
       "model_id": "379b9649230a41a1bb6f8bf778aeb332",
       "version_major": 2,
       "version_minor": 0
      },
      "text/plain": [
       "VBox(children=(HBox(children=(HBox(children=(Dropdown(index=2, layout=Layout(width='120px'), options={'Boxes':…"
      ]
     },
     "metadata": {},
     "output_type": "display_data"
    }
   ],
   "source": [
    "content_selector = ContentSelector(CONTEXT, DisplayOptions.MASK)\n",
    "content_selector\n"
   ]
  },
  {
   "cell_type": "code",
   "execution_count": null,
   "metadata": {},
   "outputs": [],
   "source": [
    "content_selector.update(display_option=DisplayOptions.MASK)\n"
   ]
  },
  {
   "cell_type": "markdown",
   "metadata": {},
   "source": [
    "## ImageSelector"
   ]
  },
  {
   "cell_type": "code",
   "execution_count": null,
   "metadata": {},
   "outputs": [],
   "source": [
    "#| export\n",
    "\n",
    "class ImageSelector(ContextVisor):\n",
    "    ctx: OCRExperimentContext\n",
    "\n",
    "    @property\n",
    "    def image_ctx(self):\n",
    "        return ImageContext(self.ctx, self.values['image_idx'])\n",
    "    \n",
    "    def setup_controls(self):\n",
    "        paths = self.ctx.image_paths\n",
    "        w = W.Dropdown(\n",
    "                options={_.stem:i for i,_ in enumerate(paths)}, \n",
    "                value=self.values['image_idx'],\n",
    "                # layout={'width': 'fit-content'},\n",
    "                layout={'width': '25em'},\n",
    "                style={'description_width': 'initial'})\n",
    "        return {'image_idx': w}\n",
    "\n",
    "    def update(self, image_idx: ImgSpecT | None = None, **kwargs):\n",
    "        if image_idx is None: return\n",
    "        idx = self.ctx.normalize_idx(image_idx)\n",
    "        if idx is None: return\n",
    "        super().update(image_idx=idx, **kwargs)\n",
    "\n",
    "\n",
    "    def __init__(self, \n",
    "            ctx: OCRExperimentContext, /, \n",
    "            image_idx: ImgSpecT = 0, \n",
    "            **kwargs):\n",
    "        idx = ctx.normalize_idx(image_idx)\n",
    "        assert idx is not None, f\"Image {image_idx} not found in experiment context\"\n",
    "        super().__init__(ctx, {'image_idx': idx}, **kwargs)\n"
   ]
  },
  {
   "cell_type": "code",
   "execution_count": null,
   "metadata": {},
   "outputs": [
    {
     "data": {
      "application/vnd.jupyter.widget-view+json": {
       "model_id": "9cc6381da8e646a1b118578ad328e52a",
       "version_major": 2,
       "version_minor": 0
      },
      "text/plain": [
       "VBox(children=(HBox(children=(Dropdown(index=2, layout=Layout(width='25em'), options={'Action_Comics_1960-01-0…"
      ]
     },
     "metadata": {},
     "output_type": "display_data"
    }
   ],
   "source": [
    "cleanupwidgets('image_selector')\n",
    "\n",
    "image_selector = ImageSelector(CONTEXT, 2)\n",
    "image_selector\n"
   ]
  },
  {
   "cell_type": "code",
   "execution_count": null,
   "metadata": {},
   "outputs": [],
   "source": [
    "image_selector.update(13)\n",
    "test_eq(image_selector.values['image_idx'], 13)\n"
   ]
  },
  {
   "cell_type": "markdown",
   "metadata": {},
   "source": [
    "## OCRContextVisor"
   ]
  },
  {
   "cell_type": "code",
   "execution_count": null,
   "metadata": {},
   "outputs": [],
   "source": [
    "#| export\n",
    "class OCRContextVisor(ContextVisor):\n",
    "    ctx: OCRExperimentContext\n",
    "    \n",
    "    def update_output(self, /, image_idx: ImgIdT, **kwargs):\n",
    "        ctx = self.ctx\n",
    "        img_path = ctx.path_from_idx(image_idx, cached=ctx.force_PIL)\n",
    "        img = ctx.display_image(img_path)\n",
    "        display_image_grid([img], 1, 1)\n",
    "\n",
    "    def update(self, image_idx: ImgSpecT | None = None, **kwargs):\n",
    "        if image_idx is None: return\n",
    "        idx = self.ctx.normalize_idx(image_idx)\n",
    "        if idx is None: return\n",
    "        super().update(image_idx=idx, **kwargs)\n",
    "        \n",
    "    def __init__(self, \n",
    "            ctx: OCRExperimentContext, /, \n",
    "            image_idx: ImgSpecT = 0, *, \n",
    "            out: W.Output | None=None):\n",
    "        super().__init__(ctx, {}, out, \n",
    "                        ctxs={'image_idx': ImageSelector(ctx, image_idx, out=self.out)})\n"
   ]
  },
  {
   "cell_type": "code",
   "execution_count": null,
   "metadata": {},
   "outputs": [
    {
     "data": {
      "application/vnd.jupyter.widget-view+json": {
       "model_id": "bbf5ee92ee4944018eca90195350d5a4",
       "version_major": 2,
       "version_minor": 0
      },
      "text/plain": [
       "VBox(children=(VBox(children=(VBox(children=(Dropdown(index=2, layout=Layout(width='fit-content'), options={'A…"
      ]
     },
     "metadata": {},
     "output_type": "display_data"
    }
   ],
   "source": [
    "cleanupwidgets('ctx_visor')\n",
    "\n",
    "# ContextVisor(CONTEXT)\n",
    "# ContextVisor(CONTEXT).display(3)\n",
    "ctx_visor = OCRContextVisor(CONTEXT, 2)\n",
    "ctx_visor\n"
   ]
  },
  {
   "cell_type": "code",
   "execution_count": null,
   "metadata": {},
   "outputs": [],
   "source": [
    "ctx_visor.update('Mary_Perkins_On_Stage_v2006_1_-_P00068.jpg')"
   ]
  },
  {
   "cell_type": "markdown",
   "metadata": {},
   "source": [
    "# Base image\n",
    "> Change `BASE_IMAGE_IDX` to select a different base image to use in the examples below."
   ]
  },
  {
   "cell_type": "code",
   "execution_count": null,
   "metadata": {},
   "outputs": [],
   "source": [
    "BASE_IMAGE_IDX: ImgIdT = cast(ImgIdT, CONTEXT.normalize_idx(\"Strange_Tales_172005.jpg\"))\n",
    "\n",
    "assert BASE_IMAGE_IDX is not None\n",
    "img_path = CONTEXT.final(CONTEXT.image_paths[BASE_IMAGE_IDX])\n",
    "assert img_path.exists()\n"
   ]
  },
  {
   "cell_type": "markdown",
   "metadata": {},
   "source": [
    "# Empty cache\n",
    "> Clear the image cache used profusely throughout the examples below."
   ]
  },
  {
   "cell_type": "markdown",
   "metadata": {},
   "source": [
    "\n",
    "You will be warned before the cache is emptied."
   ]
  },
  {
   "cell_type": "code",
   "execution_count": null,
   "metadata": {},
   "outputs": [],
   "source": [
    "# CONTEXT.empty_cache_warning()"
   ]
  },
  {
   "cell_type": "code",
   "execution_count": null,
   "metadata": {},
   "outputs": [],
   "source": [
    "# CONTEXT.empty_cache_warning(30)"
   ]
  },
  {
   "cell_type": "markdown",
   "metadata": {},
   "source": [
    "# ImageContext of base image\n",
    "> Creates the `ImageContext` for the base image.\n"
   ]
  },
  {
   "cell_type": "markdown",
   "metadata": {},
   "source": [
    "If `PanelCleaner` page data is already cached, it is loaded from the cache.\n"
   ]
  },
  {
   "cell_type": "code",
   "execution_count": null,
   "metadata": {},
   "outputs": [],
   "source": [
    "CONTEXT._reset_()"
   ]
  },
  {
   "cell_type": "code",
   "execution_count": null,
   "metadata": {},
   "outputs": [
    {
     "data": {
      "text/html": [
       "\n",
       "        <div id=\"wrapper-02a07ecb-4f3b-438e-a94e-7bd387df6ef9\" style=\"width: 100%; max-height: 360px; overflow-y: auto;\">\n",
       "            <div id=\"02a07ecb-4f3b-438e-a94e-7bd387df6ef9\" style=\"width: 100%;\"></div>\n",
       "            <script>\n",
       "                require([\"https://rawgit.com/caldwell/renderjson/master/renderjson.js\"], function() {\n",
       "                    renderjson.set_show_to_level(2);\n",
       "                    document.getElementById('02a07ecb-4f3b-438e-a94e-7bd387df6ef9').appendChild(renderjson({\"image_path\": \"cache/Strange_Tales_172005/Strange_Tales_172005.png\", \"mask_path\": \"cache/Strange_Tales_172005/Strange_Tales_172005_mask.png\", \"original_path\": \"source/Strange_Tales_172005.jpg\", \"scale\": 1.0, \"blk_list\": [{\"xyxy\": [58, 64, 428, 208], \"lines\": [[[58, 62], [414, 64], [414, 88], [58, 86]], [[70, 86], [405, 86], [405, 108], [70, 108]], [[70, 106], [410, 106], [410, 129], [70, 129]], [[70, 127], [420, 127], [420, 149], [70, 149]], [[70, 147], [409, 147], [409, 169], [70, 169]], [[70, 167], [370, 167], [370, 190], [70, 190]], [[160, 187], [270, 187], [270, 210], [160, 210]]], \"vertical\": false, \"language\": \"eng\", \"font_size\": 21, \"distance\": [74.77837079135338, 96.77695264302439, 117.27459618921701, 137.76989231860426, 157.77504781898952, 178.29334863307128, 198.29803465009545], \"angle\": 0, \"vec\": [2130.0, 2.0], \"norm\": 2130.000938966929, \"merged\": false, \"weight\": 427.59999999999997, \"text\": [], \"prob\": 1, \"translation\": \"\", \"fg_r\": 0, \"fg_g\": 0, \"fg_b\": 0, \"bg_r\": 0, \"bg_g\": 0, \"bg_b\": 0, \"font_family\": \"\", \"bold\": false, \"underline\": false, \"italic\": false, \"alpha\": 255, \"rich_text\": \"\", \"line_spacing\": 1.0, \"_alignment\": -1, \"_target_lang\": \"\", \"_bounding_rect\": null, \"default_stroke_width\": 0.2, \"accumulate_color\": true}, {\"xyxy\": [477, 62, 850, 171], \"lines\": [[[480, 60], [823, 62], [823, 86], [480, 84]], [[480, 82], [842, 84], [842, 108], [480, 107]], [[477, 103], [825, 104], [825, 129], [477, 127]], [[477, 123], [825, 125], [825, 149], [477, 147]], [[493, 145], [807, 147], [807, 169], [493, 167]]], \"vertical\": false, \"language\": \"eng\", \"font_size\": 22, \"distance\": [69.58009146722691, 91.52993499754474, 112.5821232498025, 132.58184786003417, 153.5868064419293], \"angle\": 0, \"vec\": [1715.0, 9.0], \"norm\": 1715.0236149977643, \"merged\": false, \"weight\": 2407602.7, \"text\": [], \"prob\": 1, \"translation\": \"\", \"fg_r\": 0, \"fg_g\": 0, \"fg_b\": 0, \"bg_r\": 0, \"bg_g\": 0, \"bg_b\": 0, \"font_family\": \"\", \"bold\": false, \"underline\": false, \"italic\": false, \"alpha\": 255, \"rich_text\": \"\", \"line_spacing\": 1.0, \"_alignment\": -1, \"_target_lang\": \"\", \"_bounding_rect\": null, \"default_stroke_width\": 0.2, \"accumulate_color\": true}, {\"xyxy\": [481, 303, 666, 392], \"lines\": [[[501, 305], [626, 305], [626, 328], [501, 328]], [[486, 324], [650, 324], [650, 346], [486, 346]], [[490, 344], [637, 346], [637, 370], [490, 368]], [[486, 364], [654, 366], [654, 391], [486, 389]]], \"vertical\": false, \"language\": \"eng\", \"font_size\": 22, \"distance\": [312.76135349492733, 331.23114715329416, 353.2604654051972, 373.7169704646074], \"angle\": 0, \"vec\": [604.0, 4.0], \"norm\": 604.0132448878915, \"merged\": false, \"weight\": 2407725.7, \"text\": [], \"prob\": 1, \"translation\": \"\", \"fg_r\": 0, \"fg_g\": 0, \"fg_b\": 0, \"bg_r\": 0, \"bg_g\": 0, \"bg_b\": 0, \"font_family\": \"\", \"bold\": false, \"underline\": false, \"italic\": false, \"alpha\": 255, \"rich_text\": \"\", \"line_spacing\": 1.0, \"_alignment\": -1, \"_target_lang\": \"\", \"_bounding_rect\": null, \"default_stroke_width\": 0.2, \"accumulate_color\": true}, {\"xyxy\": [701, 224, 831, 289], \"lines\": [[[722, 226], [821, 226], [821, 249], [722, 249]], [[707, 246], [821, 246], [821, 269], [707, 269]], [[711, 267], [814, 267], [814, 291], [711, 291]]], \"vertical\": false, \"language\": \"eng\", \"font_size\": 21, \"distance\": [237.49999999999994, 257.50000000000006, 279.00000000000034], \"angle\": 0, \"vec\": [316.0, 0.0], \"norm\": 316.0, \"merged\": false, \"weight\": 2407865.7, \"text\": [], \"prob\": 1, \"translation\": \"\", \"fg_r\": 0, \"fg_g\": 0, \"fg_b\": 0, \"bg_r\": 0, \"bg_g\": 0, \"bg_b\": 0, \"font_family\": \"\", \"bold\": false, \"underline\": false, \"italic\": false, \"alpha\": 255, \"rich_text\": \"\", \"line_spacing\": 1.0, \"_alignment\": -1, \"_target_lang\": \"\", \"_bounding_rect\": null, \"default_stroke_width\": 0.2, \"accumulate_color\": true}, {\"xyxy\": [1004, 67, 1214, 190], \"lines\": [[[1007, 66], [1190, 66], [1190, 88], [1007, 88]], [[1009, 88], [1195, 88], [1195, 105], [1009, 105]], [[1024, 106], [1182, 106], [1182, 129], [1024, 129]], [[1007, 125], [1204, 125], [1204, 147], [1007, 147]], [[1007, 147], [1206, 147], [1206, 169], [1007, 169]], [[1057, 165], [1155, 167], [1155, 191], [1057, 190]]], \"vertical\": false, \"language\": \"eng\", \"font_size\": 20, \"distance\": [75.3860596817718, 94.88089662537139, 115.87940481594718, 134.375711985048, 156.37421909642663, 176.37493208566144], \"angle\": 0, \"vec\": [1021.0, 1.5], \"norm\": 1021.0011018603261, \"merged\": false, \"weight\": 4814839.3, \"text\": [], \"prob\": 1, \"translation\": \"\", \"fg_r\": 0, \"fg_g\": 0, \"fg_b\": 0, \"bg_r\": 0, \"bg_g\": 0, \"bg_b\": 0, \"font_family\": \"\", \"bold\": false, \"underline\": false, \"italic\": false, \"alpha\": 255, \"rich_text\": \"\", \"line_spacing\": 1.0, \"_alignment\": -1, \"_target_lang\": \"\", \"_bounding_rect\": null, \"default_stroke_width\": 0.2, \"accumulate_color\": true}, {\"xyxy\": [95, 688, 304, 756], \"lines\": [[[95, 689], [302, 691], [302, 715], [95, 713]], [[106, 709], [300, 711], [300, 735], [106, 733]], [[141, 733], [265, 733], [265, 756], [141, 756]]], \"vertical\": false, \"language\": \"eng\", \"font_size\": 22, \"distance\": [700.4672883193294, 720.4324231265472, 742.9317700937542], \"angle\": 0, \"vec\": [525.0, 4.0], \"norm\": 525.0152378741021, \"merged\": false, \"weight\": 7222089.4, \"text\": [], \"prob\": 1, \"translation\": \"\", \"fg_r\": 0, \"fg_g\": 0, \"fg_b\": 0, \"bg_r\": 0, \"bg_g\": 0, \"bg_b\": 0, \"font_family\": \"\", \"bold\": false, \"underline\": false, \"italic\": false, \"alpha\": 255, \"rich_text\": \"\", \"line_spacing\": 1.0, \"_alignment\": -1, \"_target_lang\": \"\", \"_bounding_rect\": null, \"default_stroke_width\": 0.2, \"accumulate_color\": true}, {\"xyxy\": [42, 793, 235, 919], \"lines\": [[[44, 796], [224, 796], [224, 818], [44, 818]], [[58, 818], [204, 818], [204, 835], [58, 835]], [[49, 838], [226, 838], [226, 855], [49, 855]], [[55, 857], [210, 857], [210, 879], [55, 879]], [[68, 879], [189, 879], [189, 901], [68, 901]], [[66, 897], [186, 897], [186, 920], [66, 920]]], \"vertical\": false, \"language\": \"eng\", \"font_size\": 18, \"distance\": [807.0, 826.5, 846.5, 867.9999999999999, 890.0, 908.5], \"angle\": 0, \"vec\": [899.0, 0.0], \"norm\": 899.0, \"merged\": false, \"weight\": 7222150.2, \"text\": [], \"prob\": 1, \"translation\": \"\", \"fg_r\": 0, \"fg_g\": 0, \"fg_b\": 0, \"bg_r\": 0, \"bg_g\": 0, \"bg_b\": 0, \"font_family\": \"\", \"bold\": false, \"underline\": false, \"italic\": false, \"alpha\": 255, \"rich_text\": \"\", \"line_spacing\": 1.0, \"_alignment\": -1, \"_target_lang\": \"\", \"_bounding_rect\": null, \"default_stroke_width\": 0.2, \"accumulate_color\": true}, {\"xyxy\": [533, 803, 702, 932], \"lines\": [[[536, 807], [685, 807], [685, 829], [536, 829]], [[538, 831], [692, 831], [692, 848], [538, 848]], [[538, 851], [665, 851], [665, 868], [538, 868]], [[534, 868], [666, 868], [666, 890], [534, 890]], [[539, 890], [639, 890], [639, 912], [539, 912]], [[556, 910], [615, 910], [615, 934], [556, 934]]], \"vertical\": false, \"language\": \"eng\", \"font_size\": 19, \"distance\": [818.0, 839.5, 859.5, 879.0, 901.0, 922.0000000000001], \"angle\": 0, \"vec\": [721.0, 0.0], \"norm\": 721.0, \"merged\": false, \"weight\": 9629426.5, \"text\": [], \"prob\": 1, \"translation\": \"\", \"fg_r\": 0, \"fg_g\": 0, \"fg_b\": 0, \"bg_r\": 0, \"bg_g\": 0, \"bg_b\": 0, \"font_family\": \"\", \"bold\": false, \"underline\": false, \"italic\": false, \"alpha\": 255, \"rich_text\": \"\", \"line_spacing\": 1.0, \"_alignment\": -1, \"_target_lang\": \"\", \"_bounding_rect\": null, \"default_stroke_width\": 0.2, \"accumulate_color\": true}, {\"xyxy\": [949, 800, 1181, 921], \"lines\": [[[954, 800], [1146, 800], [1146, 822], [954, 822]], [[952, 820], [1151, 820], [1151, 842], [952, 842]], [[956, 840], [1168, 840], [1168, 863], [956, 863]], [[963, 860], [1162, 860], [1162, 883], [963, 883]], [[989, 881], [1123, 881], [1123, 903], [989, 903]], [[1011, 901], [1125, 901], [1125, 923], [1011, 923]]], \"vertical\": false, \"language\": \"eng\", \"font_size\": 20, \"distance\": [811.0000000000003, 830.9999999999998, 851.5000000000002, 871.5000000000002, 892.0000000000001, 912.0000000000001], \"angle\": 0, \"vec\": [1050.0, 0.0], \"norm\": 1050.0, \"merged\": false, \"weight\": 12036646.5, \"text\": [], \"prob\": 1, \"translation\": \"\", \"fg_r\": 0, \"fg_g\": 0, \"fg_b\": 0, \"bg_r\": 0, \"bg_g\": 0, \"bg_b\": 0, \"font_family\": \"\", \"bold\": false, \"underline\": false, \"italic\": false, \"alpha\": 255, \"rich_text\": \"\", \"line_spacing\": 1.0, \"_alignment\": -1, \"_target_lang\": \"\", \"_bounding_rect\": null, \"default_stroke_width\": 0.2, \"accumulate_color\": true}, {\"xyxy\": [342, 1164, 461, 1248], \"lines\": [[[386, 1165], [410, 1165], [410, 1183], [386, 1183]], [[346, 1181], [455, 1181], [455, 1205], [346, 1205]], [[350, 1203], [451, 1203], [451, 1226], [350, 1226]], [[351, 1224], [445, 1224], [445, 1246], [351, 1246]]], \"vertical\": false, \"language\": \"eng\", \"font_size\": 20, \"distance\": [1174.0, 1192.9999999999998, 1214.5, 1235.0], \"angle\": 0, \"vec\": [328.0, 0.0], \"norm\": 328.0, \"merged\": false, \"weight\": 14443943.8, \"text\": [], \"prob\": 1, \"translation\": \"\", \"fg_r\": 0, \"fg_g\": 0, \"fg_b\": 0, \"bg_r\": 0, \"bg_g\": 0, \"bg_b\": 0, \"font_family\": \"\", \"bold\": false, \"underline\": false, \"italic\": false, \"alpha\": 255, \"rich_text\": \"\", \"line_spacing\": 1.0, \"_alignment\": -1, \"_target_lang\": \"\", \"_bounding_rect\": null, \"default_stroke_width\": 0.2, \"accumulate_color\": true}, {\"xyxy\": [967, 939, 1175, 1006], \"lines\": [[[967, 942], [1166, 942], [1166, 964], [967, 964]], [[983, 962], [1169, 962], [1169, 984], [983, 984]], [[978, 982], [1153, 982], [1153, 1005], [978, 1005]]], \"vertical\": false, \"language\": \"eng\", \"font_size\": 20, \"distance\": [952.9999999999998, 973.0000000000001, 993.5000000000001], \"angle\": 0, \"vec\": [560.0, 0.0], \"norm\": 560.0, \"merged\": false, \"weight\": 19257893.7, \"text\": [], \"prob\": 1, \"translation\": \"\", \"fg_r\": 0, \"fg_g\": 0, \"fg_b\": 0, \"bg_r\": 0, \"bg_g\": 0, \"bg_b\": 0, \"font_family\": \"\", \"bold\": false, \"underline\": false, \"italic\": false, \"alpha\": 255, \"rich_text\": \"\", \"line_spacing\": 1.0, \"_alignment\": -1, \"_target_lang\": \"\", \"_bounding_rect\": null, \"default_stroke_width\": 0.2, \"accumulate_color\": true}, {\"xyxy\": [69, 1419, 412, 1502], \"lines\": [[[70, 1417], [412, 1417], [412, 1440], [70, 1440]], [[79, 1439], [401, 1439], [401, 1462], [79, 1462]], [[79, 1458], [407, 1458], [407, 1480], [79, 1480]], [[208, 1480], [259, 1480], [259, 1502], [208, 1502]]], \"vertical\": false, \"language\": \"eng\", \"font_size\": 20, \"distance\": [1428.5, 1450.5, 1469.0, 1491.0], \"angle\": 0, \"vec\": [1043.0, 0.0], \"norm\": 1043.0, \"merged\": false, \"weight\": 21665133.1, \"text\": [], \"prob\": 1, \"translation\": \"\", \"fg_r\": 0, \"fg_g\": 0, \"fg_b\": 0, \"bg_r\": 0, \"bg_g\": 0, \"bg_b\": 0, \"font_family\": \"\", \"bold\": false, \"underline\": false, \"italic\": false, \"alpha\": 255, \"rich_text\": \"\", \"line_spacing\": 1.0, \"_alignment\": -1, \"_target_lang\": \"\", \"_bounding_rect\": null, \"default_stroke_width\": 0.2, \"accumulate_color\": true}, {\"xyxy\": [472, 1420, 724, 1484], \"lines\": [[[477, 1419], [711, 1419], [711, 1441], [477, 1441]], [[475, 1437], [714, 1439], [714, 1462], [475, 1460]], [[479, 1456], [690, 1460], [690, 1484], [479, 1480]]], \"vertical\": false, \"language\": \"eng\", \"font_size\": 21, \"distance\": [1424.7346603857238, 1444.2295244019977, 1464.816451666877], \"angle\": 0, \"vec\": [684.0, 6.0], \"norm\": 684.0263152832645, \"merged\": false, \"weight\": 24072243.6, \"text\": [], \"prob\": 1, \"translation\": \"\", \"fg_r\": 0, \"fg_g\": 0, \"fg_b\": 0, \"bg_r\": 0, \"bg_g\": 0, \"bg_b\": 0, \"font_family\": \"\", \"bold\": false, \"underline\": false, \"italic\": false, \"alpha\": 255, \"rich_text\": \"\", \"line_spacing\": 1.0, \"_alignment\": -1, \"_target_lang\": \"\", \"_bounding_rect\": null, \"default_stroke_width\": 0.2, \"accumulate_color\": true}, {\"xyxy\": [799, 1758, 982, 1822], \"lines\": [[[810, 1760], [967, 1760], [967, 1783], [810, 1783]], [[801, 1780], [974, 1779], [974, 1801], [801, 1803]], [[808, 1801], [969, 1801], [969, 1823], [808, 1823]]], \"vertical\": false, \"language\": \"eng\", \"font_size\": 20, \"distance\": [1774.2060791718054, 1793.2029355337188, 1814.705890180632], \"angle\": 0, \"vec\": [491.0, -1.5], \"norm\": 491.00229123701655, \"merged\": false, \"weight\": 26479622.6, \"text\": [], \"prob\": 1, \"translation\": \"\", \"fg_r\": 0, \"fg_g\": 0, \"fg_b\": 0, \"bg_r\": 0, \"bg_g\": 0, \"bg_b\": 0, \"font_family\": \"\", \"bold\": false, \"underline\": false, \"italic\": false, \"alpha\": 255, \"rich_text\": \"\", \"line_spacing\": 1.0, \"_alignment\": -1, \"_target_lang\": \"\", \"_bounding_rect\": null, \"default_stroke_width\": 0.2, \"accumulate_color\": true}, {\"xyxy\": [858, 1827, 1238, 1860], \"lines\": [[[877, 1830], [1007, 1830], [1007, 1854], [877, 1854]]], \"vertical\": false, \"language\": \"eng\", \"font_size\": 22, \"distance\": [1842.0], \"angle\": 0, \"vec\": [130.0, 0.0], \"norm\": 130.0, \"merged\": false, \"weight\": 26479865.1, \"text\": [], \"prob\": 1, \"translation\": \"\", \"fg_r\": 0, \"fg_g\": 0, \"fg_b\": 0, \"bg_r\": 0, \"bg_g\": 0, \"bg_b\": 0, \"font_family\": \"\", \"bold\": false, \"underline\": false, \"italic\": false, \"alpha\": 255, \"rich_text\": \"\", \"line_spacing\": 1.0, \"_alignment\": -1, \"_target_lang\": \"\", \"_bounding_rect\": null, \"default_stroke_width\": 0.2, \"accumulate_color\": true}]}));\n",
       "                });\n",
       "            </script>\n",
       "        </div>\n",
       "        "
      ],
      "text/plain": [
       "<IPython.core.display.HTML object>"
      ]
     },
     "metadata": {},
     "output_type": "display_data"
    }
   ],
   "source": [
    "page_lang = 'English'\n",
    "# page_lang = 'Japanese'\n",
    "# page_lang = 'Spanish'\n",
    "# page_lang = 'French'\n",
    "\n",
    "IMAGE_CONTEXT = ImageContext(CONTEXT, BASE_IMAGE_IDX, page_lang=page_lang)\n",
    "test_eq(IMAGE_CONTEXT.page_data is not None, True)\n",
    "# cprint(IMAGE_CONTEXT.page_data.boxes)\n",
    "RenderJSON(IMAGE_CONTEXT.json_data, 360, 2)\n"
   ]
  },
  {
   "cell_type": "code",
   "execution_count": null,
   "metadata": {},
   "outputs": [],
   "source": [
    "test_is(IMAGE_CONTEXT, ImageContext(CONTEXT, BASE_IMAGE_IDX))\n"
   ]
  },
  {
   "cell_type": "markdown",
   "metadata": {},
   "source": [
    "Visualize image"
   ]
  },
  {
   "cell_type": "code",
   "execution_count": null,
   "metadata": {},
   "outputs": [
    {
     "data": {
      "text/html": [
       "<table><caption style='caption-side: top; text-align: center; font-weight: bold;'>Strange_Tales_172005.jpg - 1275x1888 px: 4.25x6.29\" @ 188.32 dpi</caption><tr><td style='text-align: center;'><img src=\"../experiment/cache/Strange_Tales_172005/Strange_Tales_172005.png\"/></td><td style='text-align: center;'><img src=\"../experiment/cache/Strange_Tales_172005/Strange_Tales_172005_mask.png\"/></td></tr></table>"
      ],
      "text/plain": [
       "<IPython.core.display.HTML object>"
      ]
     },
     "metadata": {},
     "output_type": "display_data"
    }
   ],
   "source": [
    "display_image_grid([\n",
    "    CONTEXT.DI(IMAGE_CONTEXT.image_path), \n",
    "    CONTEXT.DI(IMAGE_CONTEXT.mask_path)\n",
    "    ], 1, 2, caption=IMAGE_CONTEXT.image_name_rich)\n"
   ]
  },
  {
   "cell_type": "code",
   "execution_count": null,
   "metadata": {},
   "outputs": [
    {
     "data": {
      "text/html": [
       "<table><tr><td style='text-align: center;'><img src=\"../experiment/cache/Strange_Tales_172005/Strange_Tales_172005_boxes.png\"/></td></tr></table>"
      ],
      "text/plain": [
       "<IPython.core.display.HTML object>"
      ]
     },
     "metadata": {},
     "output_type": "display_data"
    }
   ],
   "source": [
    "boxes_path = IMAGE_CONTEXT.image_boxes_path\n",
    "display_image_grid([CONTEXT.DI(boxes_path)], 1, 1)\n"
   ]
  },
  {
   "cell_type": "markdown",
   "metadata": {},
   "source": [
    "# Image browser"
   ]
  },
  {
   "cell_type": "markdown",
   "metadata": {},
   "source": [
    "## ImageContextVisor"
   ]
  },
  {
   "cell_type": "code",
   "execution_count": null,
   "metadata": {},
   "outputs": [],
   "source": [
    "#| export\n",
    "\n",
    "class ImageContextVisor(ContextVisor):\n",
    "    ctx: ImageContext\n",
    "    # control_names: list[str] = ['display_option']\n",
    "\n",
    "    _css = \"\"\"\n",
    "    .display_option_grp {\n",
    "        background-color: lightblue;\n",
    "    }\n",
    "    \"\"\"\n",
    "\n",
    "    def image_info(self): \n",
    "        content_selector = cast(ContentSelector, self.comp('display_option'))\n",
    "        content_selector.image_info(self.ctx)\n",
    "\n",
    "    def update_output(self, \n",
    "            display_option: DisplayOptions | None = None,\n",
    "            image_idx: ImgIdT | None = None,\n",
    "            **kwargs):\n",
    "        content_selector = cast(ContentSelector, self.comp('display_option'))\n",
    "        if image_idx is not None and image_idx != self.ctx.image_idx:\n",
    "            ctx = ImageContext(self.ctx.exp, image_idx)\n",
    "            assert ctx is not None\n",
    "            self.ctx = ctx\n",
    "            display_option = content_selector.values['display_option']\n",
    "        if display_option is None:\n",
    "            return\n",
    "        content_selector.display_content(self.ctx, display_option)\n",
    "        \n",
    "    def update(self, \n",
    "            display_option: DisplayOptions | None=None, \n",
    "            image_idx: ImgSpecT | None=None,\n",
    "            **kwargs):\n",
    "        if image_idx is not None:\n",
    "            if (idx := self.ctx.exp.normalize_idx(image_idx)) is not None:\n",
    "                kwargs['image_idx'] = idx\n",
    "        super().update(display_option=display_option, **kwargs)\n",
    "\n",
    "    def __init__(self, \n",
    "            exp_ctx: OCRExperimentContext,\n",
    "            img_idx: ImgSpecT | ImageContext,\n",
    "            display_option: DisplayOptions=DisplayOptions.BOXES,\n",
    "            display_options: Mapping[str, DisplayOptions] | None = None,\n",
    "            out: W.Output | None = None\n",
    "        ):\n",
    "        if isinstance(img_idx, ImageContext):\n",
    "            ctx = img_idx\n",
    "        else:\n",
    "            assert exp_ctx is not None, \"exp_ctx must be provided if img_idx is not an ImageContext\"\n",
    "            ctx = ImageContext(exp_ctx, img_idx)\n",
    "            assert ctx is not None, f\"Image {img_idx} not found in experiment context\"\n",
    "        if display_options is None:\n",
    "            display_options = {k: v for k, v in DisplayOptions.__display_names__().items() \n",
    "                    if k not in ('Results', 'Accuracy', 'Best results', 'Dataframe', 'Config')}\n",
    "        out = out or self.out\n",
    "        content_selector = ContentSelector(exp_ctx, \n",
    "                display_option=display_option, display_options=display_options, out=out)\n",
    "        image_selector = ImageSelector(exp_ctx, ctx.image_idx, out=out)\n",
    "        super().__init__(ctx, {}, out=out, \n",
    "                ctxs={'image_idx': image_selector, 'display_option': content_selector})\n"
   ]
  },
  {
   "cell_type": "markdown",
   "metadata": {},
   "source": [
    "Easier to use `ImageContextVisor` to display interactively images, masks, and associated page data.\n"
   ]
  },
  {
   "cell_type": "code",
   "execution_count": null,
   "metadata": {},
   "outputs": [],
   "source": [
    "CONTEXT._reset_()"
   ]
  },
  {
   "cell_type": "code",
   "execution_count": null,
   "metadata": {},
   "outputs": [
    {
     "data": {
      "application/vnd.jupyter.widget-view+json": {
       "model_id": "8bfbbd7344224964994f913744b75bdc",
       "version_major": 2,
       "version_minor": 0
      },
      "text/plain": [
       "VBox(children=(HTML(value=\"<style id='stl-13439172224'>\\n    .display_option_grp {\\n        background-color: …"
      ]
     },
     "metadata": {},
     "output_type": "display_data"
    }
   ],
   "source": [
    "cleanupwidgets('img_visor')\n",
    "\n",
    "assert BASE_IMAGE_IDX is not None\n",
    "\n",
    "img_visor = ImageContextVisor(CONTEXT, BASE_IMAGE_IDX)\n",
    "# img_visor = ImageContextVisor(IMAGE_CONTEXT).display(DisplayOptions.Mask)\n",
    "# img_visor = ImageContextVisor(IMAGE_CONTEXT).display(DisplayOptions.Boxes, 0)\n",
    "img_visor\n"
   ]
  },
  {
   "cell_type": "code",
   "execution_count": null,
   "metadata": {},
   "outputs": [],
   "source": [
    "img_visor.update(display_option=DisplayOptions.MASK)\n"
   ]
  },
  {
   "cell_type": "code",
   "execution_count": null,
   "metadata": {},
   "outputs": [],
   "source": [
    "img_visor.update(image_idx=1)"
   ]
  },
  {
   "cell_type": "markdown",
   "metadata": {},
   "source": [
    "## Image info"
   ]
  },
  {
   "cell_type": "markdown",
   "metadata": {},
   "source": [
    "`Tesseract` performs best with images at `300` **dpi** or with an approximate **20 px** height for lowercase **'x'**. Anything lower than 300 dpi is likely to result in poor OCR accuracy.  \n",
    "In comics, this issue is mitigated by the large size of the text, which is almost always capitalized. The image currently displayed (`'Strange_Tales_172005'`) is at **188** dpi.\n"
   ]
  },
  {
   "cell_type": "code",
   "execution_count": null,
   "metadata": {},
   "outputs": [
    {
     "data": {
      "text/html": [
       "<pre style=\"white-space:pre;overflow-x:auto;line-height:normal;font-family:Menlo,'DejaVu Sans Mono',consolas,'Courier New',monospace\">                Width x Height: <span style=\"color: #008080; text-decoration-color: #008080; font-weight: bold\">1275</span> x <span style=\"color: #008080; text-decoration-color: #008080; font-weight: bold\">1888</span> pixels\n",
       "                  PIL Info DPI: <span style=\"color: #800080; text-decoration-color: #800080; font-style: italic\">None</span>\n",
       "            Print Size <span style=\"color: #008080; text-decoration-color: #008080; font-weight: bold\">300</span> DPI: <span style=\"color: #008080; text-decoration-color: #008080; font-weight: bold\">4.250</span> x <span style=\"color: #008080; text-decoration-color: #008080; font-weight: bold\">6.293</span> in <span style=\"color: #800080; text-decoration-color: #800080\">/</span> <span style=\"color: #008080; text-decoration-color: #008080; font-weight: bold\">10.795</span> x <span style=\"color: #008080; text-decoration-color: #008080; font-weight: bold\">15.985</span> cm\n",
       "Required DPI Modern Age format: <span style=\"color: #008080; text-decoration-color: #008080; font-weight: bold\">188.324</span> dpi <span style=\"font-weight: bold\">(</span><span style=\"color: #008080; text-decoration-color: #008080; font-weight: bold\">6.625</span> x <span style=\"color: #008080; text-decoration-color: #008080; font-weight: bold\">10.250</span> in<span style=\"font-weight: bold\">)</span>\n",
       "</pre>\n"
      ],
      "text/plain": [
       "                Width x Height: \u001b[1;36m1275\u001b[0m x \u001b[1;36m1888\u001b[0m pixels\n",
       "                  PIL Info DPI: \u001b[3;35mNone\u001b[0m\n",
       "            Print Size \u001b[1;36m300\u001b[0m DPI: \u001b[1;36m4.250\u001b[0m x \u001b[1;36m6.293\u001b[0m in \u001b[35m/\u001b[0m \u001b[1;36m10.795\u001b[0m x \u001b[1;36m15.985\u001b[0m cm\n",
       "Required DPI Modern Age format: \u001b[1;36m188.324\u001b[0m dpi \u001b[1m(\u001b[0m\u001b[1;36m6.625\u001b[0m x \u001b[1;36m10.250\u001b[0m in\u001b[1m)\u001b[0m\n"
      ]
     },
     "metadata": {},
     "output_type": "display_data"
    }
   ],
   "source": [
    "img = IMAGE_CONTEXT.base_image\n",
    "w, h = img.size\n",
    "\n",
    "print_size_in = size(w, h, 'in', 300)\n",
    "print_size_cm = size(w, h, 'cm', 300)\n",
    "required_dpi = dpi(w, h, 'Modern Age')\n",
    "format = PRINT_FORMATS['Modern Age']\n",
    "cprint( f\"{'Width x Height':>30}: {w} x {h} pixels\\n\"\n",
    "        f\"{'PIL Info DPI':>30}: {repr(img.info.get('dpi', None))}\\n\"\n",
    "        f\"{'Print Size 300 DPI':>30}: {print_size_in[0]:.3f} x {print_size_in[1]:.3f} in\"\n",
    "        f\" / {print_size_cm[0]:.3f} x {print_size_cm[1]:.3f} cm\\n\"\n",
    "        f\"Required DPI Modern Age format: {required_dpi:.3f} dpi ({format[0]:.3f} x {format[1]:.3f} in)\")\n"
   ]
  },
  {
   "cell_type": "code",
   "execution_count": null,
   "metadata": {},
   "outputs": [
    {
     "data": {
      "text/plain": [
       "((1275, 1888),\n",
       " (4.25, 6.293333333333333),\n",
       " (10.795, 15.985066666666667),\n",
       " 188.32397606994937)"
      ]
     },
     "metadata": {},
     "output_type": "display_data"
    },
    {
     "data": {
      "text/html": [
       "<pre style=\"white-space:pre;overflow-x:auto;line-height:normal;font-family:Menlo,'DejaVu Sans Mono',consolas,'Courier New',monospace\">                Width x Height: <span style=\"color: #008080; text-decoration-color: #008080; font-weight: bold\">804</span> x <span style=\"color: #008080; text-decoration-color: #008080; font-weight: bold\">1241</span> pixels\n",
       "                  PIL Info DPI: <span style=\"color: #800080; text-decoration-color: #800080; font-style: italic\">None</span>\n",
       "            Print Size <span style=\"color: #008080; text-decoration-color: #008080; font-weight: bold\">300</span> DPI: <span style=\"color: #008080; text-decoration-color: #008080; font-weight: bold\">2.680</span> x <span style=\"color: #008080; text-decoration-color: #008080; font-weight: bold\">4.137</span> in <span style=\"color: #800080; text-decoration-color: #800080\">/</span> <span style=\"color: #008080; text-decoration-color: #008080; font-weight: bold\">6.807</span> x <span style=\"color: #008080; text-decoration-color: #008080; font-weight: bold\">10.507</span> cm\n",
       "Required DPI Modern Age format: <span style=\"color: #008080; text-decoration-color: #008080; font-weight: bold\">121.216</span> dpi <span style=\"font-weight: bold\">(</span><span style=\"color: #008080; text-decoration-color: #008080; font-weight: bold\">6.625</span> x <span style=\"color: #008080; text-decoration-color: #008080; font-weight: bold\">10.250</span> in<span style=\"font-weight: bold\">)</span>\n",
       "</pre>\n"
      ],
      "text/plain": [
       "                Width x Height: \u001b[1;36m804\u001b[0m x \u001b[1;36m1241\u001b[0m pixels\n",
       "                  PIL Info DPI: \u001b[3;35mNone\u001b[0m\n",
       "            Print Size \u001b[1;36m300\u001b[0m DPI: \u001b[1;36m2.680\u001b[0m x \u001b[1;36m4.137\u001b[0m in \u001b[35m/\u001b[0m \u001b[1;36m6.807\u001b[0m x \u001b[1;36m10.507\u001b[0m cm\n",
       "Required DPI Modern Age format: \u001b[1;36m121.216\u001b[0m dpi \u001b[1m(\u001b[0m\u001b[1;36m6.625\u001b[0m x \u001b[1;36m10.250\u001b[0m in\u001b[1m)\u001b[0m\n"
      ]
     },
     "metadata": {},
     "output_type": "display_data"
    }
   ],
   "source": [
    "display(IMAGE_CONTEXT.image_info)\n",
    "img_visor.image_info()\n"
   ]
  },
  {
   "cell_type": "markdown",
   "metadata": {},
   "source": [
    "## Balloons and Captions Ground Truth\n",
    "> The ground truth for the balloons and captions is read from a `.txt` file.\n",
    "\n",
    "The file is named `<image_name>.gt.txt` and contains one entry per line, corresponding to each balloon or caption in the order found in PanelClenaer page data.\n"
   ]
  },
  {
   "cell_type": "code",
   "execution_count": null,
   "metadata": {},
   "outputs": [
    {
     "data": {
      "text/html": [
       "<pre style=\"white-space:pre;overflow-x:auto;line-height:normal;font-family:Menlo,'DejaVu Sans Mono',consolas,'Courier New',monospace\"><span style=\"font-weight: bold\">[</span>\n",
       "    <span style=\"color: #008000; text-decoration-color: #008000\">'Embowered by great gnarled cypress trees, the ancient manor stands alone on the outskirts of New </span>\n",
       "<span style=\"color: #008000; text-decoration-color: #008000\">Orleans, kept tidy by a white-haired old man known only as Bambu.'</span>,\n",
       "    <span style=\"color: #008000; text-decoration-color: #008000\">'The house and the old man are alike in many ways; tall, proud, patient, contented always to wait </span>\n",
       "<span style=\"color: #008000; text-decoration-color: #008000\">until their master comes home--'</span>,\n",
       "    <span style=\"color: #008000; text-decoration-color: #008000\">'And one in need of some help, it would appear.'</span>,\n",
       "    <span style=\"color: #008000; text-decoration-color: #008000\">'Bambu-- we have a guest.'</span>,\n",
       "    <span style=\"color: #008000; text-decoration-color: #008000\">'--and tonight, he comes most urgently, slamming open the oaken front doors!'</span>,\n",
       "    <span style=\"color: #008000; text-decoration-color: #008000\">'Tell me, master-- how may Bambu serve?'</span>,\n",
       "    <span style=\"color: #008000; text-decoration-color: #008000\">'Some blankets to keep her warm, Bambu-- and perhaps some dry clothes'</span>,\n",
       "    <span style=\"color: #008000; text-decoration-color: #008000\">\"The echo of the old man's footsteps fades down the hall as...\"</span>,\n",
       "    <span style=\"color: #008000; text-decoration-color: #008000\">'How curious the whims of fate. Had I not chanced to stroll along the river tonight--'</span>,\n",
       "    <span style=\"color: #008000; text-decoration-color: #008000\">'As quickly as I can, master'</span>,\n",
       "    <span style=\"color: #008000; text-decoration-color: #008000\">'--the girl would most surely be dead by now.'</span>,\n",
       "    <span style=\"color: #008000; text-decoration-color: #008000\">'Ghede has been generous. the Death God has given the girl a second chance at--'</span>,\n",
       "    <span style=\"color: #008000; text-decoration-color: #008000\">\"Easy, girl-- there's nothing to scream about anymore.\"</span>,\n",
       "    <span style=\"color: #008000; text-decoration-color: #008000\">\"You're among friends now, you're safe!\"</span>,\n",
       "    <span style=\"color: #008000; text-decoration-color: #008000\">'Continued after next page'</span>\n",
       "<span style=\"font-weight: bold\">]</span>\n",
       "</pre>\n"
      ],
      "text/plain": [
       "\u001b[1m[\u001b[0m\n",
       "    \u001b[32m'Embowered by great gnarled cypress trees, the ancient manor stands alone on the outskirts of New \u001b[0m\n",
       "\u001b[32mOrleans, kept tidy by a white-haired old man known only as Bambu.'\u001b[0m,\n",
       "    \u001b[32m'The house and the old man are alike in many ways; tall, proud, patient, contented always to wait \u001b[0m\n",
       "\u001b[32muntil their master comes home--'\u001b[0m,\n",
       "    \u001b[32m'And one in need of some help, it would appear.'\u001b[0m,\n",
       "    \u001b[32m'Bambu-- we have a guest.'\u001b[0m,\n",
       "    \u001b[32m'--and tonight, he comes most urgently, slamming open the oaken front doors!'\u001b[0m,\n",
       "    \u001b[32m'Tell me, master-- how may Bambu serve?'\u001b[0m,\n",
       "    \u001b[32m'Some blankets to keep her warm, Bambu-- and perhaps some dry clothes'\u001b[0m,\n",
       "    \u001b[32m\"The echo of the old man's footsteps fades down the hall as...\"\u001b[0m,\n",
       "    \u001b[32m'How curious the whims of fate. Had I not chanced to stroll along the river tonight--'\u001b[0m,\n",
       "    \u001b[32m'As quickly as I can, master'\u001b[0m,\n",
       "    \u001b[32m'--the girl would most surely be dead by now.'\u001b[0m,\n",
       "    \u001b[32m'Ghede has been generous. the Death God has given the girl a second chance at--'\u001b[0m,\n",
       "    \u001b[32m\"Easy, girl-- there's nothing to scream about anymore.\"\u001b[0m,\n",
       "    \u001b[32m\"You're among friends now, you're safe!\"\u001b[0m,\n",
       "    \u001b[32m'Continued after next page'\u001b[0m\n",
       "\u001b[1m]\u001b[0m\n"
      ]
     },
     "metadata": {},
     "output_type": "display_data"
    },
    {
     "data": {
      "text/html": [
       "<pre style=\"white-space:pre;overflow-x:auto;line-height:normal;font-family:Menlo,'DejaVu Sans Mono',consolas,'Courier New',monospace\"><span style=\"font-weight: bold\">[</span>\n",
       "    <span style=\"color: #008000; text-decoration-color: #008000\">'EMBOWERED BY GREAT GNARLED CYPRESS TREES, THE ANCIENT MANOR STANDS ALONE ON THE OUTSKIRTS OF NEW </span>\n",
       "<span style=\"color: #008000; text-decoration-color: #008000\">ORLEANS, KEPT TIDY BY A WHITE-HAIRED OLD MAN KNOWN ONLY AS BAMBU.'</span>,\n",
       "    <span style=\"color: #008000; text-decoration-color: #008000\">'THE HOUSE AND THE OLD MAN ARE ALIKE IN MANY WAYS; TALL, PROUD, PATIENT, CONTENTED ALWAYS TO WAIT </span>\n",
       "<span style=\"color: #008000; text-decoration-color: #008000\">UNTIL THEIR MASTER COMES HOME--'</span>,\n",
       "    <span style=\"color: #008000; text-decoration-color: #008000\">'AND ONE IN NEED OF SOME HELP, IT WOULD APPEAR.'</span>,\n",
       "    <span style=\"color: #008000; text-decoration-color: #008000\">'BAMBU-- WE HAVE A GUEST.'</span>,\n",
       "    <span style=\"color: #008000; text-decoration-color: #008000\">'--AND TONIGHT, HE COMES MOST URGENTLY, SLAMMING OPEN THE OAKEN FRONT DOORS!'</span>,\n",
       "    <span style=\"color: #008000; text-decoration-color: #008000\">'TELL ME, MASTER-- HOW MAY BAMBU SERVE?'</span>,\n",
       "    <span style=\"color: #008000; text-decoration-color: #008000\">'SOME BLANKETS TO KEEP HER WARM, BAMBU-- AND PERHAPS SOME DRY CLOTHES'</span>,\n",
       "    <span style=\"color: #008000; text-decoration-color: #008000\">\"THE ECHO OF THE OLD MAN'S FOOTSTEPS FADES DOWN THE HALL AS...\"</span>,\n",
       "    <span style=\"color: #008000; text-decoration-color: #008000\">'HOW CURIOUS THE WHIMS OF FATE. HAD I NOT CHANCED TO STROLL ALONG THE RIVER TONIGHT--'</span>,\n",
       "    <span style=\"color: #008000; text-decoration-color: #008000\">'AS QUICKLY AS I CAN, MASTER'</span>,\n",
       "    <span style=\"color: #008000; text-decoration-color: #008000\">'--THE GIRL WOULD MOST SURELY BE DEAD BY NOW.'</span>,\n",
       "    <span style=\"color: #008000; text-decoration-color: #008000\">'GHEDE HAS BEEN GENEROUS. THE DEATH GOD HAS GIVEN THE GIRL A SECOND CHANCE AT--'</span>,\n",
       "    <span style=\"color: #008000; text-decoration-color: #008000\">\"EASY, GIRL-- THERE'S NOTHING TO SCREAM ABOUT ANYMORE.\"</span>,\n",
       "    <span style=\"color: #008000; text-decoration-color: #008000\">\"YOU'RE AMONG FRIENDS NOW, YOU'RE SAFE!\"</span>,\n",
       "    <span style=\"color: #008000; text-decoration-color: #008000\">'CONTINUED AFTER NEXT PAGE'</span>\n",
       "<span style=\"font-weight: bold\">]</span>\n",
       "</pre>\n"
      ],
      "text/plain": [
       "\u001b[1m[\u001b[0m\n",
       "    \u001b[32m'EMBOWERED BY GREAT GNARLED CYPRESS TREES, THE ANCIENT MANOR STANDS ALONE ON THE OUTSKIRTS OF NEW \u001b[0m\n",
       "\u001b[32mORLEANS, KEPT TIDY BY A WHITE-HAIRED OLD MAN KNOWN ONLY AS BAMBU.'\u001b[0m,\n",
       "    \u001b[32m'THE HOUSE AND THE OLD MAN ARE ALIKE IN MANY WAYS; TALL, PROUD, PATIENT, CONTENTED ALWAYS TO WAIT \u001b[0m\n",
       "\u001b[32mUNTIL THEIR MASTER COMES HOME--'\u001b[0m,\n",
       "    \u001b[32m'AND ONE IN NEED OF SOME HELP, IT WOULD APPEAR.'\u001b[0m,\n",
       "    \u001b[32m'BAMBU-- WE HAVE A GUEST.'\u001b[0m,\n",
       "    \u001b[32m'--AND TONIGHT, HE COMES MOST URGENTLY, SLAMMING OPEN THE OAKEN FRONT DOORS!'\u001b[0m,\n",
       "    \u001b[32m'TELL ME, MASTER-- HOW MAY BAMBU SERVE?'\u001b[0m,\n",
       "    \u001b[32m'SOME BLANKETS TO KEEP HER WARM, BAMBU-- AND PERHAPS SOME DRY CLOTHES'\u001b[0m,\n",
       "    \u001b[32m\"THE ECHO OF THE OLD MAN'S FOOTSTEPS FADES DOWN THE HALL AS...\"\u001b[0m,\n",
       "    \u001b[32m'HOW CURIOUS THE WHIMS OF FATE. HAD I NOT CHANCED TO STROLL ALONG THE RIVER TONIGHT--'\u001b[0m,\n",
       "    \u001b[32m'AS QUICKLY AS I CAN, MASTER'\u001b[0m,\n",
       "    \u001b[32m'--THE GIRL WOULD MOST SURELY BE DEAD BY NOW.'\u001b[0m,\n",
       "    \u001b[32m'GHEDE HAS BEEN GENEROUS. THE DEATH GOD HAS GIVEN THE GIRL A SECOND CHANCE AT--'\u001b[0m,\n",
       "    \u001b[32m\"EASY, GIRL-- THERE'S NOTHING TO SCREAM ABOUT ANYMORE.\"\u001b[0m,\n",
       "    \u001b[32m\"YOU'RE AMONG FRIENDS NOW, YOU'RE SAFE!\"\u001b[0m,\n",
       "    \u001b[32m'CONTINUED AFTER NEXT PAGE'\u001b[0m\n",
       "\u001b[1m]\u001b[0m\n"
      ]
     },
     "metadata": {},
     "output_type": "display_data"
    }
   ],
   "source": [
    "cprint(IMAGE_CONTEXT.gts())\n",
    "cprint(IMAGE_CONTEXT.gts('all-caps'))"
   ]
  },
  {
   "cell_type": "code",
   "execution_count": null,
   "metadata": {},
   "outputs": [],
   "source": [
    "# for img_path in CONTEXT.image_paths:\n",
    "#     gt_path = img_path.with_stem(img_path.stem + '_gt').with_suffix('.txt')\n",
    "#     print(gt_path)\n",
    "#     gt_path = CONTEXT.root_dir/gt_path\n",
    "#     if gt_path.exists():\n",
    "#         gts = gt_path.read_text(encoding=\"utf-8\").splitlines()\n",
    "#         data = {\n",
    "#             'all-caps': [gt.upper() for gt in gts],\n",
    "#             'capitalized': gts\n",
    "#         }\n",
    "#         fp = gt_path.with_suffix('.json')\n",
    "#         with open(fp, 'w') as f:\n",
    "#             json.dump(data, f, indent=2)\n",
    "\n"
   ]
  },
  {
   "cell_type": "markdown",
   "metadata": {},
   "source": [
    "# ExperimentOCR\n",
    "> Use `ExperimentOCR` to perform OCR on the page balloons given a `CropMethod` and a model (i.e., `'Tesseract'` or `'Idefics'`)\n"
   ]
  },
  {
   "cell_type": "code",
   "execution_count": null,
   "metadata": {},
   "outputs": [],
   "source": [
    "#| exporti\n",
    "\n",
    "def trimmed_mean(data, trim_percent):\n",
    "    sorted_data = np.sort(data)\n",
    "    n = len(data)\n",
    "    trim_count = int(trim_percent * n)\n",
    "    trimmed_data = sorted_data[trim_count:-trim_count]\n",
    "    return np.mean(trimmed_data)\n",
    "\n",
    "def mad_based_outlier(points, threshold=3.5):\n",
    "    median = np.median(points)\n",
    "    diff = np.abs(points - median)\n",
    "    mad = np.median(diff)\n",
    "    modified_z_score = 0.6745 * diff / mad\n",
    "    return points[modified_z_score < threshold]\n",
    "\n",
    "def iqr_outlier_removal(data):\n",
    "    q1 = np.percentile(data, 25)\n",
    "    q3 = np.percentile(data, 75)\n",
    "    iqr = q3 - q1\n",
    "    lower_bound = q1 - 1.5 * iqr\n",
    "    upper_bound = q3 + 1.5 * iqr\n",
    "    return data[(data >= lower_bound) & (data <= upper_bound)]\n",
    "    "
   ]
  },
  {
   "cell_type": "code",
   "execution_count": null,
   "metadata": {},
   "outputs": [],
   "source": [
    "#| export\n",
    "\n",
    "class ExperimentOCR:\n",
    "    ctx: ImageContext\n",
    "    run: ExperimentRun\n",
    "\n",
    "    @property\n",
    "    def ocr_model(self): return cast(OCRExperimentContext, self.ctx.exp).ocr_model\n",
    "    @property\n",
    "    def img_ctx(self) -> ImageContext: return self.ctx\n",
    "    @property\n",
    "    def ctxs(self) -> tuple[OCRExperimentContext, ImageContext]:\n",
    "        return cast(OCRExperimentContext, self.img_ctx.exp), self.img_ctx\n",
    "\n",
    "    def to_dict(self):\n",
    "        \"JSON serializable dict of the experiment\"\n",
    "        results = resultset_to_dict(self.results())\n",
    "        return {\n",
    "            'run_name': self.run.name,\n",
    "            'image_name': self.img_ctx.image_name,\n",
    "            'results': results,\n",
    "        }\n",
    "\n",
    "    @classmethod\n",
    "    def from_image(cls, \n",
    "            ctx: OCRExperimentContext, \n",
    "            run_name: RunIdT,\n",
    "            image_idx: ImgSpecT):\n",
    "        idx = cast(ImgIdT, ctx.normalize_idx(image_idx))\n",
    "        img_ctx = ImageContext(ctx, idx)\n",
    "        return cls(img_ctx, run_name)\n",
    "\n",
    "    @classmethod\n",
    "    def from_method(cls, \n",
    "            ctx: OCRExperimentContext, \n",
    "            image_idx: ImgIdT | str | Path, \n",
    "            run_name: str,\n",
    "            method: CropMethod) -> ExperimentOCRMethod | None:\n",
    "        experiment = cls.from_image(ctx, run_name, image_idx)\n",
    "        if experiment is None:\n",
    "            return None\n",
    "        return experiment.method_experiment(method)\n",
    "\n",
    "\n",
    "    def result(self, box_idx: BoxIdT, method: CropMethod, ocr: bool=True, rebuild: bool=False):\n",
    "        ctx, img_ctx = self.ctxs\n",
    "        return ctx.result(self.run.name, img_ctx.image_idx, box_idx, method, ocr, rebuild)\n",
    "\n",
    "    def results(self):\n",
    "        ctx, img_ctx = self.ctxs\n",
    "        return cast(ResultSet, ctx.results(self.run.name, img_ctx.image_idx))\n",
    "\n",
    "    def has_run(self):\n",
    "        \"at least one method has run\"\n",
    "        return len(self.results()) == len(self.img_ctx.page_data.boxes)  # pylint: disable=no-member\n",
    "    \n",
    "    def best_results(self):\n",
    "        methods = list(CropMethod.__members__.values())\n",
    "        _ = [self.method_experiment(m).results() for m in methods]\n",
    "        results = self.results()\n",
    "        # at least one method has run\n",
    "        if len(results) < len(self.img_ctx.page_data.boxes):    # pylint: disable=no-member\n",
    "            return None\n",
    "        best = []\n",
    "        for box_idx in results:\n",
    "            methods = results[box_idx]\n",
    "            best_method = max(methods, key=lambda m: methods[m].acc)  # type: ignore\n",
    "            best.append((best_method, methods[best_method]))\n",
    "        return best\n",
    "\n",
    "    def save_results_as_ground_truth(self, overwrite=False):\n",
    "        ctx, img_ctx = self.ctxs\n",
    "        gts_path = ctx.final(ground_truth_path(img_ctx.page_data))  # pylint: disable=no-member\n",
    "        if overwrite or not gts_path.exists():\n",
    "            best_results = self.best_results()\n",
    "            if best_results:\n",
    "                tt = [r.ocr for m,r in best_results]\n",
    "                gts_path.write_text('\\n'.join(tt), encoding=\"utf-8\")\n",
    "                img_ctx.setup_ground_truth()\n",
    "                logger.info(f\"Ground truth data saved successfully to {gts_path}\")\n",
    "                return True\n",
    "            else:\n",
    "                logger.info(\"No best results available to save.\")\n",
    "                return False\n",
    "        else:\n",
    "            return False\n",
    "\n",
    "    @property\n",
    "    def experiments(self):\n",
    "        if not hasattr(self, '_experiments'):\n",
    "            self._experiments = {}\n",
    "        return self._experiments\n",
    "    def method_experiment(self, method: CropMethod) -> ExperimentOCRMethod:\n",
    "        if method not in self.experiments:\n",
    "            self.experiments[method] = ExperimentOCRMethod(self, method)\n",
    "        return self.experiments[method]\n",
    "    \n",
    "\n",
    "    def to_dataframe(self):\n",
    "        \"Dataframe with crop methods as columns and box ids as rows\"\n",
    "        methods = list(CropMethod.__members__.values())\n",
    "        experiments = [self.method_experiment(m) for m in methods]\n",
    "        accuracies = [[result.acc for result in exp.results()] for exp in experiments]\n",
    "        # transpose accuracies\n",
    "        accuracies = list(zip(*accuracies))\n",
    "        return pd.DataFrame(accuracies, columns=CropMethod.__display_names__())\n",
    "\n",
    "    def plot_accuracies(self, \n",
    "            methods: list[CropMethod] | None = None, \n",
    "        ):\n",
    "        \"Plots a horizontal bar chart of the accuracies for a list of method experiments.\"\n",
    "        from matplotlib.colors import Normalize\n",
    "        methods = methods or list(CropMethod.__members__.values())\n",
    "        experiments = [self.method_experiment(m) for m in methods]\n",
    "        if not experiments: return\n",
    "\n",
    "        _, img_ctx = self.ctxs\n",
    "        page_data = img_ctx.page_data  # pylint: disable=no-member\n",
    "        _ = [[result.acc or 0.0 for result in exp.results()] for exp in experiments]\n",
    "        accuracies: list[float] = [np.mean(a) for a in _]\n",
    "        # accuracies = [np.mean([result.acc for result in exp.results()]) for exp in experiments]\n",
    "\n",
    "        _, ax = plt.subplots(figsize=(10, 5))\n",
    "        \n",
    "        # Normalize the accuracies for color mapping\n",
    "        norm = Normalize(min(accuracies), max(accuracies))\n",
    "        # Color map from red to green\n",
    "        cmap = plt.get_cmap('RdYlGn')\n",
    "        colors = cmap(norm(accuracies))\n",
    "\n",
    "        ax.barh([m.value for m in methods], accuracies, color=colors)\n",
    "\n",
    "        ax.set_xscale('log')  # Set the x-axis to a logarithmic scale\n",
    "        ax.set_xlabel('Average Accuracy (log scale)', fontsize=12, fontweight='bold')\n",
    "\n",
    "        ax.set_ylabel('Method', fontsize=12, fontweight='bold')\n",
    "        ax.set_yticks(range(len(methods)))\n",
    "        ax.set_yticklabels([f'{method.value} ({acc:.2f})' \n",
    "                for method, acc in zip(methods, accuracies)], fontsize=12)\n",
    "        max_acc_index = np.argmax(accuracies)\n",
    "        ax.get_yticklabels()[max_acc_index].set(color='blue', fontweight='bold')\n",
    "\n",
    "        model = self.ocr_model\n",
    "        title_text = (f\"{page_data.original_path} - OCR model: {model}\")\n",
    "        ax.set_title(title_text, fontsize=12, fontweight='bold')\n",
    "\n",
    "        plt.tight_layout()\n",
    "        plt.show()\n",
    "\n",
    "\n",
    "    def summary_box(self, box_idx: int):\n",
    "        ctx, _ = self.ctxs\n",
    "        results: list[tuple[CropMethod, ResultOCR]] = []\n",
    "        pb = tqdm(CropMethod.__members__.values(), leave=False, desc=f\"Box #{box_idx+1}\")\n",
    "        for m in pb:\n",
    "            r = cast(ResultOCR, self.result(box_idx, m))\n",
    "            results.append((m, r))\n",
    "        methods, images, ocrs, accs = zip(*map(\n",
    "                lambda t: (t[0].value, ctx.DI(t[1].cache_image()), \n",
    "                    SimpleResultVisor.diff_tagged(t[1]), acc_as_html(t[1].acc)), \n",
    "                results))\n",
    "        display_columns([methods, images, accs, ocrs], \n",
    "                            headers=[\"Method\", f\"Box #{box_idx+1}\", \"Accuracy\", \"OCR\"])\n",
    "\n",
    "\n",
    "    def summary_method(self, method: CropMethod):\n",
    "        ctx, _ = self.ctxs\n",
    "        results = self.method_experiment(method).results()\n",
    "        methods, images, ocrs, accs = zip(*map(\n",
    "                lambda r: (r.block_idx+1, ctx.DI(r.cache_image()), \n",
    "                SimpleResultVisor.diff_tagged(r), acc_as_html(r.acc)), \n",
    "                results))\n",
    "        display_columns([methods, images, accs, ocrs], \n",
    "                headers=[\"Box #\", \"Box\", \"Accuracy\", f\"{method.value} OCR\"])\n",
    "\n",
    "\n",
    "    def display(self):\n",
    "        out = []\n",
    "        for method in CropMethod:\n",
    "            out.append(f\"---------- {method.value} ----------\")\n",
    "            results = self.method_experiment(method).results()\n",
    "            out.extend(results)\n",
    "            out.append('\\n')\n",
    "        cprint(*out, soft_wrap=True)\n",
    "\n",
    "\n",
    "    def reset(self, box_idx: int | None = None, method: CropMethod | None = None):\n",
    "        ctx, img_ctx = self.ctxs\n",
    "        ctx.reset_results(None, img_ctx.image_idx, box_idx,  method)\n",
    "\n",
    "    def perform_methods(self, \n",
    "            methods: CropMethod | list[CropMethod] | None = None, \n",
    "            box_idxs: BoxIdT | list[BoxIdT] | None = None,\n",
    "            rebuild: bool = False,\n",
    "            plot_acc: bool = False\n",
    "        ):\n",
    "        if methods is None:\n",
    "            methods = [*CropMethod.__members__.values()]\n",
    "        elif isinstance(methods, CropMethod):\n",
    "            methods = [methods]\n",
    "        if rebuild:\n",
    "            _methods = tqdm(methods, desc=\"Methods\")\n",
    "        else:\n",
    "            _methods = methods\n",
    "        for method in _methods:\n",
    "            method_exp = self.method_experiment(method)\n",
    "            if method_exp: \n",
    "                if rebuild:\n",
    "                    method_exp(box_idxs, rebuild=rebuild)\n",
    "        if plot_acc:\n",
    "            self.plot_accuracies()\n",
    "\n",
    "    def __call__(self, \n",
    "            box_idxs: BoxIdT | list[BoxIdT] | None = None,\n",
    "            methods: CropMethod | list[CropMethod] | None = None, \n",
    "            # save: bool = True,\n",
    "            display=False, \n",
    "            rebuild: bool=False, \n",
    "            save_as_ground_truth=False):\n",
    "        self.perform_methods(methods, box_idxs, rebuild=rebuild)\n",
    "        if save_as_ground_truth:\n",
    "            self.save_results_as_ground_truth(overwrite=True)\n",
    "        # if save:\n",
    "        #     self.to_json()\n",
    "        if display:\n",
    "            self.display()\n",
    "    \n",
    "    def __repr__(self):\n",
    "        return f\"ExperimentOCR#{self.ctx.exp.name}_{self.run.name}\"\n",
    "    \n",
    "    def __init__(self, ctx: ImageContext, run_name: RunIdT, **kwargs):\n",
    "        # super().__init__(ctx, **kwargs)\n",
    "        self.ctx = ctx\n",
    "        run = ctx.exp.experiment_run(run_name)\n",
    "        assert run is not None\n",
    "        self.run = run\n",
    "\n",
    "\n",
    "@dataclasses.dataclass\n",
    "class ExperimentOCRMethod:\n",
    "    ctx: ExperimentOCR\n",
    "    method: CropMethod\n",
    "\n",
    "    @property\n",
    "    def exp_ctx(self): return self.ctx\n",
    "    @property\n",
    "    def img_ctx(self): return self.ctx.ctx\n",
    "    @property\n",
    "    def ctxs(self):\n",
    "        img_ctx = self.img_ctx\n",
    "        return cast(OCRExperimentContext, img_ctx.exp), img_ctx, self.ctx\n",
    "    \n",
    "    def result(self, box_idx: BoxIdT, ocr: bool=True, rebuild: bool=False) -> ResultOCR | None:\n",
    "        ctx, img_ctx, exp_ctx = self.ctxs\n",
    "        return ctx.result(exp_ctx.run.name, img_ctx.image_idx, box_idx, self.method, ocr, rebuild)\n",
    "\n",
    "    def results(self, \n",
    "            box_idxs: BoxIdT | list[BoxIdT] | None = None, \n",
    "            ocr: bool=True, rebuild: bool=False) -> list[ResultOCR]:\n",
    "        ctx, img_ctx, exp_ctx = self.ctxs\n",
    "        if box_idxs is None:\n",
    "            box_idxs = list(range(len(img_ctx.boxes)))\n",
    "        elif isinstance(box_idxs, int):\n",
    "            box_idxs = [box_idxs]\n",
    "        run_name = exp_ctx.run.name\n",
    "        results = ctx.method_results(run_name, img_ctx.image_idx, self.method)\n",
    "        results = {i:results[i] if i in results else None for i in box_idxs}\n",
    "        pb = rebuild or not results or any(r is None for r in results.values())\n",
    "        if pb and len(results) > 2:\n",
    "            model = exp_ctx.ocr_model\n",
    "            progress_bar = tqdm(list(results.keys()), desc=f\"{self.method.value} - {model}\")\n",
    "        else:\n",
    "            progress_bar = list(results.keys())\n",
    "        results = []\n",
    "        for i in progress_bar:\n",
    "            results.append(self.result(i, ocr, rebuild=rebuild))\n",
    "        return results\n",
    "\n",
    "\n",
    "    def get_results_html(self, \n",
    "            box_idxs: BoxIdT | list[BoxIdT] | None = None,\n",
    "            max_image_width: int | None = None): \n",
    "        ctx, img_ctx, exp_ctx = self.ctxs\n",
    "        results: list[ResultOCR] = self.results(box_idxs)\n",
    "        accs = np.array([r.acc for r in results])\n",
    "        mean_accuracy = np.mean(accs)\n",
    "        mean_trimmed = trimmed_mean(accs, 0.1)\n",
    "        # filtered_data = mad_based_outlier(accs)\n",
    "        # mean_mad = np.mean(filtered_data)\n",
    "        # filtered_data = iqr_outlier_removal(accs)\n",
    "        # mean_iqr = np.mean(filtered_data)\n",
    "        \n",
    "        DI = ctx.DI\n",
    "        descriptions, images, ocrs, accs = zip(*map(\n",
    "            lambda r: (\n",
    "                r.block_idx+1, \n",
    "                DI(r.cache_image()), \n",
    "                SimpleResultVisor.diff_tagged(r), \n",
    "                acc_as_html(r.acc)\n",
    "            ), results))\n",
    "        non_breakin_space = u'\\u00A0'  # pylint: disable=unused-variable\n",
    "        tmpl = \"<span style='font-family: monospace; white-space: pre-wrap;'>{}</span>\"\n",
    "        padded_s = lambda s,n: tmpl.format(s.rjust(n))\n",
    "        acc_fmt = f\"<strong style='color: red;'>{mean_accuracy:.2f}/{mean_trimmed:.2f}</strong>\"\n",
    "        w, h = img_ctx.base_image.size\n",
    "        dim, _dpi = size(w, h), dpi(w, h)\n",
    "        dim_fmt = f\"{w}x{h} px: {dim[0]:.2f} x {dim[1]:.2f} in @ {_dpi:.2f} dpi\"\n",
    "        return '\\n<br/>\\n'.join([\n",
    "            (\"<div style='font-size: 12pt;'>\"\n",
    "            f\"{padded_s('Page', 24)}: <strong>{img_ctx.page_data.original_path}</strong><br/>\"\n",
    "            f\"{padded_s('Size', 24)}: <strong>{dim_fmt}</strong><br/>\"\n",
    "            f\"{padded_s('Run', 24)}: <strong>{exp_ctx.run.name}</strong><br/>\"\n",
    "            f\"{padded_s('Model', 24)}: <strong>{exp_ctx.ocr_model}</strong><br/>\"\n",
    "            f\"{padded_s('Crop Method', 24)}: <strong>{self.method.value}</strong><br/>\"\n",
    "            f\"{padded_s('Accuracy Mean/Trimmed', 24)}: {acc_fmt}\"\n",
    "            \"</div>\"), \n",
    "            get_columns_html(\n",
    "                [descriptions, images, accs, ocrs], \n",
    "                max_image_width, \n",
    "                headers=[\"Box #\", \"Image\", \"Accuracy\", \"OCR\"]),\n",
    "        ])\n",
    "\n",
    "    def display(self, \n",
    "            box_idxs: BoxIdT | list[BoxIdT] | None = None, max_image_width: int | None = None):\n",
    "        display(HTML(self.get_results_html(box_idxs, max_image_width)))\n",
    "\n",
    "\n",
    "    def summary(self):\n",
    "        ctx, _, _ = self.ctxs\n",
    "        DI = ctx.DI\n",
    "        results = self.results()\n",
    "        methods, images, ocrs, accs = zip(*map(\n",
    "            lambda r: (r.block_idx+1, DI(r.cache_image()), SimpleResultVisor.diff_tagged(r), acc_as_html(r.acc)), \n",
    "            results))\n",
    "        display_columns([methods, images, accs, ocrs], \n",
    "                headers=[\"Box #\", \"Box\", \"Accuracy\", f\"{self.method.value} OCR\"])\n",
    "\n",
    "\n",
    "    def reset(self):\n",
    "        _, _, exp_ctx = self.ctxs\n",
    "        exp_ctx.reset(method=self.method)\n",
    "    \n",
    "    def __call__(self, box_idxs: BoxIdT | list[BoxIdT] | None = None, display=False, rebuild=False):\n",
    "        if isinstance(box_idxs, int):\n",
    "            result = self.result(cast(BoxIdT, box_idxs), rebuild=rebuild)\n",
    "            if result is not None and display:\n",
    "                result.display()\n",
    "        else:\n",
    "            results = self.results(box_idxs, rebuild=rebuild)\n",
    "            if results and display:\n",
    "                self.display(box_idxs)\n"
   ]
  },
  {
   "cell_type": "markdown",
   "metadata": {},
   "source": [
    "# Box id\n",
    "> change `BOX_IDX` to use any box to test crop methods"
   ]
  },
  {
   "cell_type": "code",
   "execution_count": null,
   "metadata": {},
   "outputs": [],
   "source": [
    "BOX_IDX = 0"
   ]
  },
  {
   "cell_type": "markdown",
   "metadata": {},
   "source": [
    "# Crop methods testing"
   ]
  },
  {
   "cell_type": "code",
   "execution_count": null,
   "metadata": {},
   "outputs": [
    {
     "data": {
      "text/plain": [
       "ExperimentOCR#Tesseract_Tesseract-crop"
      ]
     },
     "execution_count": null,
     "metadata": {},
     "output_type": "execute_result"
    }
   ],
   "source": [
    "CONTEXT._reset_()\n",
    "test_eq(CONTEXT.results(), {})\n",
    "\n",
    "image_experiment = ExperimentOCR(IMAGE_CONTEXT, RUN_NAME)\n",
    "image_experiment\n"
   ]
  },
  {
   "cell_type": "markdown",
   "metadata": {},
   "source": [
    "## Single box results\n"
   ]
  },
  {
   "cell_type": "markdown",
   "metadata": {},
   "source": [
    "### comics_text_detector initial boxes + padding"
   ]
  },
  {
   "cell_type": "markdown",
   "metadata": {},
   "source": [
    "#### Initial box"
   ]
  },
  {
   "cell_type": "code",
   "execution_count": null,
   "metadata": {},
   "outputs": [
    {
     "name": "stderr",
     "output_type": "stream",
     "text": [
      "\u001b[32m2024-05-23 17:54:40.348\u001b[0m | \u001b[1mINFO    \u001b[0m | \u001b[36mpcleaner.ocr.ocr_mangaocr\u001b[0m:\u001b[36m__new__\u001b[0m:\u001b[36m15\u001b[0m - \u001b[1mCreating the MangaOcr instance\u001b[0m\n"
     ]
    },
    {
     "data": {
      "text/html": [
       "<table><colgroup><col style='width: 370px;'/><col style='width: auto;'/></colgroup><tr><td style='text-align: center;'><img src=\"../experiment/cache/Strange_Tales_172005/.crop/Strange_Tales_172005_0_Initial box.png\"/></td><td style='font-size: 12pt; text-align: left; '>Eneonered by great gnarled cypress jrfes, the ancient manor stands alone on the outski) 2 of mew ce eans, kept tidy by a white-haired old man known only as bambs, 3<br/><strong><span style='color: red;'>0.90</span></strong></td></tr></table>\n",
       "<br/>\n",
       "<pre style='font-size: 14px;'><div style='font-family: monospace; white-space: pre-wrap;'>Embowered by great gnarled cypress trees, the ancient manor stands alone on the outskirts of New Orleans, kept tidy by a white-haired old man known only as Bambu.<span style='color: green;'>&#x2395;&#x2395;</span></div><br/><div style='font-family: monospace; white-space: pre-wrap;'>E<span style='color: red;'>ne</span>o<span style='color: red;'>n</span>ered by great gnarled cypress <span style='color: red;'>j</span>r<span style='color: red;'>f</span>es, the ancient manor stands alone on the outski<span style='color: red;'>) 2</span> of <span style='color: red;'>m</span>ew <span style='color: red;'>ce </span>eans, kept tidy by a white-haired old man known only as <span style='color: red;'>b</span>amb<span style='color: red;'>s, 3</span></div></pre>"
      ],
      "text/plain": [
       "<IPython.core.display.HTML object>"
      ]
     },
     "metadata": {},
     "output_type": "display_data"
    }
   ],
   "source": [
    "method = CropMethod.INITIAL_BOX\n",
    "\n",
    "result = image_experiment.result(BOX_IDX, method, ocr=False)\n",
    "assert result is not None\n",
    "\n",
    "image = result.image\n",
    "assert image is not None\n",
    "text = CONTEXT.mocr(page_lang)(image)\n",
    "result.ocr = postprocess_ocr(text)\n",
    "result\n"
   ]
  },
  {
   "cell_type": "markdown",
   "metadata": {},
   "source": [
    "#### PanelCleaner default pad"
   ]
  },
  {
   "cell_type": "code",
   "execution_count": null,
   "metadata": {},
   "outputs": [
    {
     "data": {
      "text/html": [
       "<table><colgroup><col style='width: 377px;'/><col style='width: auto;'/></colgroup><tr><td style='text-align: center;'><img src=\"../experiment/cache/Strange_Tales_172005/.crop/Strange_Tales_172005_0_Default.png\"/></td><td style='font-size: 12pt; text-align: left; '>Eneowered by great gnarled cypress jrfes, the ancient manor ! alone on the eit of mew rce: eans, kept tipy by a white-haired ao han known only as<br/><strong><span style='color: red;'>0.85</span></strong></td></tr></table>\n",
       "<br/>\n",
       "<pre style='font-size: 14px;'><div style='font-family: monospace; white-space: pre-wrap;'>Embowered by great gnarled cypress trees, the ancient manor stands alone on the outskirts of New Orl<span style='color: green;'>&#x2395;&#x2395;&#x2395;</span>eans, kept tidy by a white-haired <span style='color: green;'>&#x2395;</span>old man known only as Bambu.</div><br/><div style='font-family: monospace; white-space: pre-wrap;'>E<span style='color: red;'>ne</span>owered by great gnarled cypress <span style='color: red;'>j</span>r<span style='color: red;'>f</span>es, the ancient manor <span style='color: red;'>!</span><span style='color: red;'>&#x2395;&#x2395;&#x2395;&#x2395;&#x2395;</span> alone on the <span style='color: red;'>ei</span>t<span style='color: red;'>&#x2395;&#x2395;&#x2395;&#x2395;&#x2395;&#x2395;</span> of <span style='color: red;'>m</span>ew <span style='color: red;'>&#x2395;</span>r<span style='color: red;'>ce: </span>eans, kept ti<span style='color: red;'>p</span>y by a white-haired <span style='color: red;'>a</span>o<span style='color: red;'>&#x2395;&#x2395;</span> <span style='color: red;'>h</span>an known only as<span style='color: red;'>&#x2395;&#x2395;&#x2395;&#x2395;&#x2395;&#x2395;&#x2395;</span></div></pre>"
      ],
      "text/plain": [
       "<IPython.core.display.HTML object>"
      ]
     },
     "metadata": {},
     "output_type": "display_data"
    }
   ],
   "source": [
    "method = CropMethod.DEFAULT\n",
    "\n",
    "result = image_experiment.result(BOX_IDX, method, ocr=False)\n",
    "assert result is not None\n",
    "\n",
    "CONTEXT.ocr_box(result, page_lang)\n",
    "result.ocr = postprocess_ocr(result.ocr)\n"
   ]
  },
  {
   "cell_type": "markdown",
   "metadata": {},
   "source": [
    "#### PanelCleaner default pad, grey pad"
   ]
  },
  {
   "cell_type": "code",
   "execution_count": null,
   "metadata": {},
   "outputs": [
    {
     "data": {
      "text/html": [
       "<table><colgroup><col style='width: 386px;'/><col style='width: auto;'/></colgroup><tr><td style='text-align: center;'><img src=\"../experiment/cache/Strange_Tales_172005/.crop/Strange_Tales_172005_0_Default, grey pad.png\"/></td><td style='font-size: 12pt; text-align: left; '>Enbowered by great gnarled cypress trees, the ancient manor stands alone on the outskirts of new orleans, kept tipy by a white-haired old man known only as<br/><strong><span style='color: red;'>0.95</span></strong></td></tr></table>\n",
       "<br/>\n",
       "<pre style='font-size: 14px;'><div style='font-family: monospace; white-space: pre-wrap;'>Embowered by great gnarled cypress trees, the ancient manor stands alone on the outskirts of New Orleans, kept tidy by a white-haired old man known only as Bambu.</div><br/><div style='font-family: monospace; white-space: pre-wrap;'>E<span style='color: red;'>n</span>bowered by great gnarled cypress trees, the ancient manor stands alone on the outskirts of <span style='color: red;'>n</span>ew <span style='color: red;'>o</span>rleans, kept ti<span style='color: red;'>p</span>y by a white-haired old man known only as<span style='color: red;'>&#x2395;&#x2395;&#x2395;&#x2395;&#x2395;&#x2395;&#x2395;</span></div></pre>"
      ],
      "text/plain": [
       "<IPython.core.display.HTML object>"
      ]
     },
     "metadata": {},
     "output_type": "display_data"
    }
   ],
   "source": [
    "method = CropMethod.DEFAULT_GREY_PAD\n",
    "result = image_experiment.result(BOX_IDX, method)\n",
    "result\n"
   ]
  },
  {
   "cell_type": "markdown",
   "metadata": {},
   "source": [
    "#### padded, 4px"
   ]
  },
  {
   "cell_type": "code",
   "execution_count": null,
   "metadata": {},
   "outputs": [
    {
     "data": {
      "text/html": [
       "<table><colgroup><col style='width: 378px;'/><col style='width: auto;'/></colgroup><tr><td style='text-align: center;'><img src=\"../experiment/cache/Strange_Tales_172005/.crop/Strange_Tales_172005_0_Padded 4px.png\"/></td><td style='font-size: 12pt; text-align: left; '>Enbonered by great gnarled cypress jrfes, the ancient manor stands alone on the eit of mew rce: eans, kept tipy by a white-haired ao lo man known only as<br/><strong><span style='color: red;'>0.88</span></strong></td></tr></table>\n",
       "<br/>\n",
       "<pre style='font-size: 14px;'><div style='font-family: monospace; white-space: pre-wrap;'>Embowered by great gnarled cypress trees, the ancient manor stands alone on the outskirts of New Orl<span style='color: green;'>&#x2395;&#x2395;&#x2395;</span>eans, kept tidy by a white-haired <span style='color: green;'>&#x2395;</span>o<span style='color: green;'>&#x2395;</span>ld man known only as Bambu.</div><br/><div style='font-family: monospace; white-space: pre-wrap;'>E<span style='color: red;'>n</span>bo<span style='color: red;'>n</span>ered by great gnarled cypress <span style='color: red;'>j</span>r<span style='color: red;'>f</span>es, the ancient manor stands alone on the <span style='color: red;'>ei</span>t<span style='color: red;'>&#x2395;&#x2395;&#x2395;&#x2395;&#x2395;&#x2395;</span> of <span style='color: red;'>m</span>ew <span style='color: red;'>&#x2395;</span>r<span style='color: red;'>ce: </span>eans, kept ti<span style='color: red;'>p</span>y by a white-haired <span style='color: red;'>a</span>o<span style='color: red;'>⎕</span>l<span style='color: red;'>o</span> man known only as<span style='color: red;'>&#x2395;&#x2395;&#x2395;&#x2395;&#x2395;&#x2395;&#x2395;</span></div></pre>"
      ],
      "text/plain": [
       "<IPython.core.display.HTML object>"
      ]
     },
     "metadata": {},
     "output_type": "display_data"
    }
   ],
   "source": [
    "image_experiment.result(BOX_IDX, CropMethod.PADDED_4)\n"
   ]
  },
  {
   "cell_type": "markdown",
   "metadata": {},
   "source": [
    "#### padded, 8px"
   ]
  },
  {
   "cell_type": "code",
   "execution_count": null,
   "metadata": {},
   "outputs": [
    {
     "data": {
      "text/html": [
       "<table><colgroup><col style='width: 386px;'/><col style='width: auto;'/></colgroup><tr><td style='text-align: center;'><img src=\"../experiment/cache/Strange_Tales_172005/.crop/Strange_Tales_172005_0_Padded 8px.png\"/></td><td style='font-size: 12pt; text-align: left; '>Enbonered by great gnarled cypress trees, the ancient manor stands alone on the pag hile of new orleans, kept tipy by a white-haired ao lo man known omy as<br/><strong><span style='color: red;'>0.88</span></strong></td></tr></table>\n",
       "<br/>\n",
       "<pre style='font-size: 14px;'><div style='font-family: monospace; white-space: pre-wrap;'>Embowered by great gnarled cypress trees, the ancient manor stands alone on the outskirts of New Orleans, kept tidy by a white-haired <span style='color: green;'>&#x2395;</span>o<span style='color: green;'>&#x2395;</span>ld man known only as Bambu.</div><br/><div style='font-family: monospace; white-space: pre-wrap;'>E<span style='color: red;'>n</span>bo<span style='color: red;'>n</span>ered by great gnarled cypress trees, the ancient manor stands alone on the <span style='color: red;'>pag h</span>i<span style='color: red;'>le</span><span style='color: red;'>&#x2395;</span> of <span style='color: red;'>n</span>ew <span style='color: red;'>o</span>rleans, kept ti<span style='color: red;'>p</span>y by a white-haired <span style='color: red;'>a</span>o<span style='color: red;'>⎕</span>l<span style='color: red;'>o</span> man known o<span style='color: red;'>m</span><span style='color: red;'>&#x2395;</span>y as<span style='color: red;'>&#x2395;&#x2395;&#x2395;&#x2395;&#x2395;&#x2395;&#x2395;</span></div></pre>"
      ],
      "text/plain": [
       "<IPython.core.display.HTML object>"
      ]
     },
     "metadata": {},
     "output_type": "display_data"
    }
   ],
   "source": [
    "image_experiment.result(BOX_IDX, CropMethod.PADDED_8)\n"
   ]
  },
  {
   "cell_type": "markdown",
   "metadata": {},
   "source": [
    "### Extracted text"
   ]
  },
  {
   "cell_type": "markdown",
   "metadata": {},
   "source": [
    "#### Extracted text, initial box\n",
    "\n",
    "Unfortunately, the `comic-text_detector` does not remove letter holes from the text mask, despite using OpenCV. This oversight likely impacts the accuracy of the OCR results."
   ]
  },
  {
   "cell_type": "code",
   "execution_count": null,
   "metadata": {},
   "outputs": [
    {
     "data": {
      "text/html": [
       "<table><tr><td style='text-align: center;'><img src=\"../experiment/cache/Strange_Tales_172005/.crop/Strange_Tales_172005_0_Extracted, init box_cropped.png\"/></td><td style='text-align: center;'><img src=\"../experiment/cache/Strange_Tales_172005/.crop/Strange_Tales_172005_0_Extracted, init box_mask.png\"/></td><td style='text-align: center;'><img src=\"../experiment/cache/Strange_Tales_172005/.crop/Strange_Tales_172005_0_Extracted, init box.png\"/></td></tr></table>\n",
       "<br/>\n",
       "<div style='font-size: 12pt;'><strong style='color: red;'>0.92</strong><div/>\n",
       "<br/>\n",
       "<pre style='font-size: 14px;'><div style='font-family: monospace; white-space: pre-wrap;'>Embowered by great gnarled cypress trees, the ancient <span style='color: green;'>&#x2395;</span>manor stands alone on the outskirts of New Orleans, kept tidy by a whi<span style='color: green;'>&#x2395;</span>te-haired old man known only as Bambu<span style='color: green;'>&#x2395;&#x2395;</span>.</div><br/><div style='font-family: monospace; white-space: pre-wrap;'><span style='color: red;'>Fh</span>bo<span style='color: red;'>n</span>ered by great <span style='color: red;'>s</span>narled cypress trees, the ancient <span style='color: red;'>n</span>manor stands alone on the outskirts of <span style='color: red;'>n</span>ew <span style='color: red;'>o</span>rleans<span style='color: red;'>.</span> kept ti<span style='color: red;'>p</span>y by a whi<span style='color: red;'>⎕</span>te-haire<span style='color: red;'>&#x2395;</span> old man known only as <span style='color: red;'>b</span>amb<span style='color: red;'>i] </span>.</div></pre>"
      ],
      "text/plain": [
       "<IPython.core.display.HTML object>"
      ]
     },
     "metadata": {},
     "output_type": "display_data"
    }
   ],
   "source": [
    "method = CropMethod.EXTRACTED_INIT_BOX\n",
    "# results[method] = IMAGE_CONTEXT.result(BOX_IDX, method)\n",
    "# image = results[method].image\n",
    "# assert image is not None\n",
    "# results[method].ocr = postprocess_ocr(IMAGE_CONTEXT.mocr(image))\n",
    "# display_extracted_result(None, None, results[method], IMAGE_CONTEXT.gts()[BOX_IDX])\n",
    "image_experiment.result(BOX_IDX, method)\n"
   ]
  },
  {
   "cell_type": "markdown",
   "metadata": {},
   "source": [
    "#### padded 4, extracted"
   ]
  },
  {
   "cell_type": "code",
   "execution_count": null,
   "metadata": {},
   "outputs": [
    {
     "data": {
      "text/html": [
       "<table><tr><td style='text-align: center;'><img src=\"../experiment/cache/Strange_Tales_172005/.crop/Strange_Tales_172005_0_Padded 4, extracted_cropped.png\"/></td><td style='text-align: center;'><img src=\"../experiment/cache/Strange_Tales_172005/.crop/Strange_Tales_172005_0_Padded 4, extracted_mask.png\"/></td><td style='text-align: center;'><img src=\"../experiment/cache/Strange_Tales_172005/.crop/Strange_Tales_172005_0_Padded 4, extracted.png\"/></td></tr></table>\n",
       "<br/>\n",
       "<div style='font-size: 12pt;'><strong style='color: red;'>0.91</strong><div/>\n",
       "<br/>\n",
       "<pre style='font-size: 14px;'><div style='font-family: monospace; white-space: pre-wrap;'>Embowered by great gnarled cypress trees, the ancient manor stands alone on the outskirts of New Orleans, kept tidy by a whi<span style='color: green;'>&#x2395;</span>te-<span style='color: green;'>&#x2395;</span>haired old man known only as B<span style='color: green;'>&#x2395;</span>ambu<span style='color: green;'>&#x2395;</span>.</div><br/><div style='font-family: monospace; white-space: pre-wrap;'>E<span style='color: red;'>n</span>bo<span style='color: red;'>ns</span>red by great <span style='color: red;'>sh</span>a<span style='color: red;'>&#x2395;</span>le<span style='color: red;'>&#x2395;</span> cypress trees, the anci<span style='color: red;'>&#x2395;&#x2395;&#x2395;</span> manor stands alone on the <span style='color: red;'>[</span><span style='color: red;'>&#x2395;</span>tskirts of <span style='color: red;'>n</span>ew <span style='color: red;'>o</span>rleans, kept tidy by a whi<span style='color: red;'>⎕</span>te-<span style='color: red;'>⎕</span>haired old man known only as <span style='color: red;'>b8</span>amb<span style='color: red;'>l </span>.</div></pre>"
      ],
      "text/plain": [
       "<IPython.core.display.HTML object>"
      ]
     },
     "metadata": {},
     "output_type": "display_data"
    }
   ],
   "source": [
    "image_experiment.result(BOX_IDX, CropMethod.PADDED_4_EXTRACTED)\n"
   ]
  },
  {
   "cell_type": "markdown",
   "metadata": {},
   "source": [
    "#### padded 8, extracted"
   ]
  },
  {
   "cell_type": "code",
   "execution_count": null,
   "metadata": {},
   "outputs": [
    {
     "data": {
      "text/html": [
       "<table><tr><td style='text-align: center;'><img src=\"../experiment/cache/Strange_Tales_172005/.crop/Strange_Tales_172005_0_Padded 8, extracted_cropped.png\"/></td><td style='text-align: center;'><img src=\"../experiment/cache/Strange_Tales_172005/.crop/Strange_Tales_172005_0_Padded 8, extracted_mask.png\"/></td><td style='text-align: center;'><img src=\"../experiment/cache/Strange_Tales_172005/.crop/Strange_Tales_172005_0_Padded 8, extracted.png\"/></td></tr></table>\n",
       "<br/>\n",
       "<div style='font-size: 12pt;'><strong style='color: red;'>0.94</strong><div/>\n",
       "<br/>\n",
       "<pre style='font-size: 14px;'><div style='font-family: monospace; white-space: pre-wrap;'>Embowered by great gnarled cypress trees, the ancient <span style='color: green;'>&#x2395;</span>manor stands alone on the outskirts of New Orleans, kept tidy by a whi<span style='color: green;'>&#x2395;</span>te-haired old man known only as Bambu<span style='color: green;'>&#x2395;&#x2395;</span>.</div><br/><div style='font-family: monospace; white-space: pre-wrap;'>E<span style='color: red;'>n</span>bo<span style='color: red;'>n</span>ered by great <span style='color: red;'>s</span>narled cypress trees, the ancient <span style='color: red;'>n</span>manor stands alone on the outskirts of <span style='color: red;'>n</span>ew <span style='color: red;'>o</span>rleans, kept ti<span style='color: red;'>p</span>y by a whi<span style='color: red;'>⎕</span>te-haired old man known only as <span style='color: red;'>8</span>amb<span style='color: red;'>li </span>.</div></pre>"
      ],
      "text/plain": [
       "<IPython.core.display.HTML object>"
      ]
     },
     "metadata": {},
     "output_type": "display_data"
    }
   ],
   "source": [
    "image_experiment.result(BOX_IDX, CropMethod.PADDED_8_EXTRACTED)\n"
   ]
  },
  {
   "cell_type": "markdown",
   "metadata": {},
   "source": [
    "#### padded 8, dilation 1, extracted"
   ]
  },
  {
   "cell_type": "code",
   "execution_count": null,
   "metadata": {},
   "outputs": [
    {
     "data": {
      "text/html": [
       "<table><tr><td style='text-align: center;'><img src=\"../experiment/cache/Strange_Tales_172005/.crop/Strange_Tales_172005_0_Padded 8, dilation 1_cropped.png\"/></td><td style='text-align: center;'><img src=\"../experiment/cache/Strange_Tales_172005/.crop/Strange_Tales_172005_0_Padded 8, dilation 1_mask.png\"/></td><td style='text-align: center;'><img src=\"../experiment/cache/Strange_Tales_172005/.crop/Strange_Tales_172005_0_Padded 8, dilation 1.png\"/></td></tr></table>\n",
       "<br/>\n",
       "<div style='font-size: 12pt;'><strong style='color: red;'>0.61</strong><div/>\n",
       "<br/>\n",
       "<pre style='font-size: 14px;'><div style='font-family: monospace; white-space: pre-wrap;'>Embowered by great gnarled cypress trees, the ancient manor stands alone on the outskirts of New Orleans, kept tidy by a white-haired old man known only as Bambu.</div><br/><div style='font-family: monospace; white-space: pre-wrap;'><span style='color: red;'>O</span><span style='color: red;'>&#x2395;&#x2395;&#x2395;&#x2395;&#x2395;&#x2395;&#x2395;&#x2395;&#x2395;&#x2395;&#x2395;&#x2395;&#x2395;&#x2395;&#x2395;&#x2395;&#x2395;&#x2395;&#x2395;&#x2395;&#x2395;&#x2395;&#x2395;&#x2395;&#x2395;&#x2395;&#x2395;&#x2395;&#x2395;&#x2395;&#x2395;&#x2395;&#x2395;&#x2395;&#x2395;&#x2395;&#x2395;&#x2395;&#x2395;&#x2395;&#x2395;&#x2395;&#x2395;&#x2395;&#x2395;&#x2395;&#x2395;&#x2395;&#x2395;&#x2395;&#x2395;&#x2395;&#x2395;&#x2395;&#x2395;&#x2395;&#x2395;&#x2395;&#x2395;&#x2395;&#x2395;&#x2395;&#x2395;&#x2395;&#x2395;&#x2395;&#x2395;&#x2395;&#x2395;&#x2395;&#x2395;&#x2395;&#x2395;&#x2395;&#x2395;&#x2395;&#x2395;&#x2395;&#x2395;&#x2395;</span>utskirts of <span style='color: red;'>n</span>ew <span style='color: red;'>o</span>rleans, kept ti<span style='color: red;'>p</span>y by a white-haired old man known only as <span style='color: red;'>s</span>am<span style='color: red;'>s </span>.</div></pre>"
      ],
      "text/plain": [
       "<IPython.core.display.HTML object>"
      ]
     },
     "metadata": {},
     "output_type": "display_data"
    }
   ],
   "source": [
    "image_experiment.result(BOX_IDX, CropMethod.PADDED_8_DILATION_1)\n"
   ]
  },
  {
   "cell_type": "markdown",
   "metadata": {},
   "source": [
    "#### padded 8, dilation 0.5, extracted"
   ]
  },
  {
   "cell_type": "code",
   "execution_count": null,
   "metadata": {},
   "outputs": [
    {
     "data": {
      "text/html": [
       "<table><tr><td style='text-align: center;'><img src=\"../experiment/cache/Strange_Tales_172005/.crop/Strange_Tales_172005_0_Pad 8, fract. 0.5_cropped.png\"/></td><td style='text-align: center;'><img src=\"../experiment/cache/Strange_Tales_172005/.crop/Strange_Tales_172005_0_Pad 8, fract. 0.5_mask.png\"/></td><td style='text-align: center;'><img src=\"../experiment/cache/Strange_Tales_172005/.crop/Strange_Tales_172005_0_Pad 8, fract. 0.5.png\"/></td></tr></table>\n",
       "<br/>\n",
       "<div style='font-size: 12pt;'><strong style='color: red;'>0.94</strong><div/>\n",
       "<br/>\n",
       "<pre style='font-size: 14px;'><div style='font-family: monospace; white-space: pre-wrap;'>Embowered by great gnarled cypress trees, the ancient manor stands alone on the outskirts of New Orleans, kept tidy by a whi<span style='color: green;'>&#x2395;</span>te-haired old man known only as B<span style='color: green;'>&#x2395;</span>ambu<span style='color: green;'>&#x2395;</span>.</div><br/><div style='font-family: monospace; white-space: pre-wrap;'>E<span style='color: red;'>n</span>bo<span style='color: red;'>n</span>ered by great <span style='color: red;'>s</span>narled cypress trees, the ancient manor stands alone on the outskirts of <span style='color: red;'>n</span>ew <span style='color: red;'>o</span>rleans, kept ti<span style='color: red;'>p</span>y by a whi<span style='color: red;'>⎕</span>te-haired old man known only as <span style='color: red;'>b8</span>amb<span style='color: red;'>l </span>.</div></pre>"
      ],
      "text/plain": [
       "<IPython.core.display.HTML object>"
      ]
     },
     "metadata": {},
     "output_type": "display_data"
    }
   ],
   "source": [
    "image_experiment.result(BOX_IDX, CropMethod.PAD_8_FRACT_0_5)\n"
   ]
  },
  {
   "cell_type": "markdown",
   "metadata": {},
   "source": [
    "#### padded 8, dilation 0.2, extracted"
   ]
  },
  {
   "cell_type": "code",
   "execution_count": null,
   "metadata": {},
   "outputs": [
    {
     "data": {
      "text/html": [
       "<table><tr><td style='text-align: center;'><img src=\"../experiment/cache/Strange_Tales_172005/.crop/Strange_Tales_172005_0_Pad 8, fract. 0.2_cropped.png\"/></td><td style='text-align: center;'><img src=\"../experiment/cache/Strange_Tales_172005/.crop/Strange_Tales_172005_0_Pad 8, fract. 0.2_mask.png\"/></td><td style='text-align: center;'><img src=\"../experiment/cache/Strange_Tales_172005/.crop/Strange_Tales_172005_0_Pad 8, fract. 0.2.png\"/></td></tr></table>\n",
       "<br/>\n",
       "<div style='font-size: 12pt;'><strong style='color: red;'>0.94</strong><div/>\n",
       "<br/>\n",
       "<pre style='font-size: 14px;'><div style='font-family: monospace; white-space: pre-wrap;'>Embowered by great gnarled cypress trees, the ancient manor stands alone on the outskirts of New Orleans, kept tidy by a whi<span style='color: green;'>&#x2395;</span>te-haired old man known only as B<span style='color: green;'>&#x2395;</span>ambu<span style='color: green;'>&#x2395;</span>.</div><br/><div style='font-family: monospace; white-space: pre-wrap;'>E<span style='color: red;'>n</span>bo<span style='color: red;'>n</span>ered by great <span style='color: red;'>s</span>narled cypress trees, the ancient manor stands alone on the outskirts of <span style='color: red;'>n</span>ew <span style='color: red;'>o</span>rleans, kept ti<span style='color: red;'>p</span>y by a whi<span style='color: red;'>⎕</span>te-haired old man known only as <span style='color: red;'>b8</span>amb<span style='color: red;'>l </span>.</div></pre>"
      ],
      "text/plain": [
       "<IPython.core.display.HTML object>"
      ]
     },
     "metadata": {},
     "output_type": "display_data"
    }
   ],
   "source": [
    "image_experiment.result(BOX_IDX, CropMethod.PAD_8_FRACT_0_2)\n"
   ]
  },
  {
   "cell_type": "markdown",
   "metadata": {},
   "source": [
    "### Summary\n",
    "> Use `ImageContext.summary_box` to display the results of the crop methods for OCR of a given box index.\n"
   ]
  },
  {
   "cell_type": "code",
   "execution_count": null,
   "metadata": {},
   "outputs": [
    {
     "data": {
      "application/vnd.jupyter.widget-view+json": {
       "model_id": "cfcd85b5416e48b3b8bc9eb9bc5a2611",
       "version_major": 2,
       "version_minor": 0
      },
      "text/plain": [
       "Box #1:   0%|          | 0/11 [00:00<?, ?it/s]"
      ]
     },
     "metadata": {},
     "output_type": "display_data"
    },
    {
     "data": {
      "text/html": [
       "<table><colgroup><col style='width: auto;'/><col style='width: 386px;'/><col style='width: auto;'/><col style='width: auto;'/></colgroup><tr><th style='text-align: center; font-weight: bold;'>Method</th><th style='text-align: center; font-weight: bold;'>Box #1</th><th style='text-align: center; font-weight: bold;'>Accuracy</th><th style='text-align: center; font-weight: bold;'>OCR</th></tr><tr><td style='font-size: 12pt; text-align: left; font-weight: bold;'>Initial box</td><td style='text-align: center;'><img src=\"../experiment/cache/Strange_Tales_172005/.crop/Strange_Tales_172005_0_Initial box.png\"/></td><td style='font-size: 12pt; text-align: left; '><div style='font-size: 12pt;'><strong style='color: red;'>0.90</strong><div/></td><td style='font-size: 12pt; text-align: left; '><span style='font-size: 14px;'><div style='font-family: monospace; white-space: pre-wrap;'>E<span style='color: red;'>ne</span>o<span style='color: red;'>n</span>ered by great gnarled cypress <span style='color: red;'>j</span>r<span style='color: red;'>f</span>es, the ancient manor stands alone on the outski<span style='color: red;'>) 2</span> of <span style='color: red;'>m</span>ew <span style='color: red;'>ce </span>eans, kept tidy by a white-haired old man known only as <span style='color: red;'>b</span>amb<span style='color: red;'>s, 3</span></div></span></td></tr><tr><td style='font-size: 12pt; text-align: left; font-weight: bold;'>Default</td><td style='text-align: center;'><img src=\"../experiment/cache/Strange_Tales_172005/.crop/Strange_Tales_172005_0_Default.png\"/></td><td style='font-size: 12pt; text-align: left; '><div style='font-size: 12pt;'><strong style='color: red;'>0.85</strong><div/></td><td style='font-size: 12pt; text-align: left; '><span style='font-size: 14px;'><div style='font-family: monospace; white-space: pre-wrap;'>E<span style='color: red;'>ne</span>owered by great gnarled cypress <span style='color: red;'>j</span>r<span style='color: red;'>f</span>es, the ancient manor <span style='color: red;'>!</span><span style='color: red;'>&#x2395;&#x2395;&#x2395;&#x2395;&#x2395;</span> alone on the <span style='color: red;'>ei</span>t<span style='color: red;'>&#x2395;&#x2395;&#x2395;&#x2395;&#x2395;&#x2395;</span> of <span style='color: red;'>m</span>ew <span style='color: red;'>&#x2395;</span>r<span style='color: red;'>ce: </span>eans, kept ti<span style='color: red;'>p</span>y by a white-haired <span style='color: red;'>a</span>o<span style='color: red;'>&#x2395;&#x2395;</span> <span style='color: red;'>h</span>an known only as<span style='color: red;'>&#x2395;&#x2395;&#x2395;&#x2395;&#x2395;&#x2395;&#x2395;</span></div></span></td></tr><tr><td style='font-size: 12pt; text-align: left; font-weight: bold;'>Default, grey pad</td><td style='text-align: center;'><img src=\"../experiment/cache/Strange_Tales_172005/.crop/Strange_Tales_172005_0_Default, grey pad.png\"/></td><td style='font-size: 12pt; text-align: left; '><div style='font-size: 12pt;'><strong style='color: red;'>0.95</strong><div/></td><td style='font-size: 12pt; text-align: left; '><span style='font-size: 14px;'><div style='font-family: monospace; white-space: pre-wrap;'>E<span style='color: red;'>n</span>bowered by great gnarled cypress trees, the ancient manor stands alone on the outskirts of <span style='color: red;'>n</span>ew <span style='color: red;'>o</span>rleans, kept ti<span style='color: red;'>p</span>y by a white-haired old man known only as<span style='color: red;'>&#x2395;&#x2395;&#x2395;&#x2395;&#x2395;&#x2395;&#x2395;</span></div></span></td></tr><tr><td style='font-size: 12pt; text-align: left; font-weight: bold;'>Padded 4px</td><td style='text-align: center;'><img src=\"../experiment/cache/Strange_Tales_172005/.crop/Strange_Tales_172005_0_Padded 4px.png\"/></td><td style='font-size: 12pt; text-align: left; '><div style='font-size: 12pt;'><strong style='color: red;'>0.88</strong><div/></td><td style='font-size: 12pt; text-align: left; '><span style='font-size: 14px;'><div style='font-family: monospace; white-space: pre-wrap;'>E<span style='color: red;'>n</span>bo<span style='color: red;'>n</span>ered by great gnarled cypress <span style='color: red;'>j</span>r<span style='color: red;'>f</span>es, the ancient manor stands alone on the <span style='color: red;'>ei</span>t<span style='color: red;'>&#x2395;&#x2395;&#x2395;&#x2395;&#x2395;&#x2395;</span> of <span style='color: red;'>m</span>ew <span style='color: red;'>&#x2395;</span>r<span style='color: red;'>ce: </span>eans, kept ti<span style='color: red;'>p</span>y by a white-haired <span style='color: red;'>a</span>o<span style='color: red;'>⎕</span>l<span style='color: red;'>o</span> man known only as<span style='color: red;'>&#x2395;&#x2395;&#x2395;&#x2395;&#x2395;&#x2395;&#x2395;</span></div></span></td></tr><tr><td style='font-size: 12pt; text-align: left; font-weight: bold;'>Padded 8px</td><td style='text-align: center;'><img src=\"../experiment/cache/Strange_Tales_172005/.crop/Strange_Tales_172005_0_Padded 8px.png\"/></td><td style='font-size: 12pt; text-align: left; '><div style='font-size: 12pt;'><strong style='color: red;'>0.88</strong><div/></td><td style='font-size: 12pt; text-align: left; '><span style='font-size: 14px;'><div style='font-family: monospace; white-space: pre-wrap;'>E<span style='color: red;'>n</span>bo<span style='color: red;'>n</span>ered by great gnarled cypress trees, the ancient manor stands alone on the <span style='color: red;'>pag h</span>i<span style='color: red;'>le</span><span style='color: red;'>&#x2395;</span> of <span style='color: red;'>n</span>ew <span style='color: red;'>o</span>rleans, kept ti<span style='color: red;'>p</span>y by a white-haired <span style='color: red;'>a</span>o<span style='color: red;'>⎕</span>l<span style='color: red;'>o</span> man known o<span style='color: red;'>m</span><span style='color: red;'>&#x2395;</span>y as<span style='color: red;'>&#x2395;&#x2395;&#x2395;&#x2395;&#x2395;&#x2395;&#x2395;</span></div></span></td></tr><tr><td style='font-size: 12pt; text-align: left; font-weight: bold;'>Extracted, init box</td><td style='text-align: center;'><img src=\"../experiment/cache/Strange_Tales_172005/.crop/Strange_Tales_172005_0_Extracted, init box.png\"/></td><td style='font-size: 12pt; text-align: left; '><div style='font-size: 12pt;'><strong style='color: red;'>0.92</strong><div/></td><td style='font-size: 12pt; text-align: left; '><span style='font-size: 14px;'><div style='font-family: monospace; white-space: pre-wrap;'><span style='color: red;'>Fh</span>bo<span style='color: red;'>n</span>ered by great <span style='color: red;'>s</span>narled cypress trees, the ancient <span style='color: red;'>n</span>manor stands alone on the outskirts of <span style='color: red;'>n</span>ew <span style='color: red;'>o</span>rleans<span style='color: red;'>.</span> kept ti<span style='color: red;'>p</span>y by a whi<span style='color: red;'>⎕</span>te-haire<span style='color: red;'>&#x2395;</span> old man known only as <span style='color: red;'>b</span>amb<span style='color: red;'>i] </span>.</div></span></td></tr><tr><td style='font-size: 12pt; text-align: left; font-weight: bold;'>Padded 4, extracted</td><td style='text-align: center;'><img src=\"../experiment/cache/Strange_Tales_172005/.crop/Strange_Tales_172005_0_Padded 4, extracted.png\"/></td><td style='font-size: 12pt; text-align: left; '><div style='font-size: 12pt;'><strong style='color: red;'>0.91</strong><div/></td><td style='font-size: 12pt; text-align: left; '><span style='font-size: 14px;'><div style='font-family: monospace; white-space: pre-wrap;'>E<span style='color: red;'>n</span>bo<span style='color: red;'>ns</span>red by great <span style='color: red;'>sh</span>a<span style='color: red;'>&#x2395;</span>le<span style='color: red;'>&#x2395;</span> cypress trees, the anci<span style='color: red;'>&#x2395;&#x2395;&#x2395;</span> manor stands alone on the <span style='color: red;'>[</span><span style='color: red;'>&#x2395;</span>tskirts of <span style='color: red;'>n</span>ew <span style='color: red;'>o</span>rleans, kept tidy by a whi<span style='color: red;'>⎕</span>te-<span style='color: red;'>⎕</span>haired old man known only as <span style='color: red;'>b8</span>amb<span style='color: red;'>l </span>.</div></span></td></tr><tr><td style='font-size: 12pt; text-align: left; font-weight: bold;'>Padded 8, extracted</td><td style='text-align: center;'><img src=\"../experiment/cache/Strange_Tales_172005/.crop/Strange_Tales_172005_0_Padded 8, extracted.png\"/></td><td style='font-size: 12pt; text-align: left; '><div style='font-size: 12pt;'><strong style='color: red;'>0.94</strong><div/></td><td style='font-size: 12pt; text-align: left; '><span style='font-size: 14px;'><div style='font-family: monospace; white-space: pre-wrap;'>E<span style='color: red;'>n</span>bo<span style='color: red;'>n</span>ered by great <span style='color: red;'>s</span>narled cypress trees, the ancient <span style='color: red;'>n</span>manor stands alone on the outskirts of <span style='color: red;'>n</span>ew <span style='color: red;'>o</span>rleans, kept ti<span style='color: red;'>p</span>y by a whi<span style='color: red;'>⎕</span>te-haired old man known only as <span style='color: red;'>8</span>amb<span style='color: red;'>li </span>.</div></span></td></tr><tr><td style='font-size: 12pt; text-align: left; font-weight: bold;'>Padded 8, dilation 1</td><td style='text-align: center;'><img src=\"../experiment/cache/Strange_Tales_172005/.crop/Strange_Tales_172005_0_Padded 8, dilation 1.png\"/></td><td style='font-size: 12pt; text-align: left; '><div style='font-size: 12pt;'><strong style='color: red;'>0.61</strong><div/></td><td style='font-size: 12pt; text-align: left; '><span style='font-size: 14px;'><div style='font-family: monospace; white-space: pre-wrap;'><span style='color: red;'>O</span><span style='color: red;'>&#x2395;&#x2395;&#x2395;&#x2395;&#x2395;&#x2395;&#x2395;&#x2395;&#x2395;&#x2395;&#x2395;&#x2395;&#x2395;&#x2395;&#x2395;&#x2395;&#x2395;&#x2395;&#x2395;&#x2395;&#x2395;&#x2395;&#x2395;&#x2395;&#x2395;&#x2395;&#x2395;&#x2395;&#x2395;&#x2395;&#x2395;&#x2395;&#x2395;&#x2395;&#x2395;&#x2395;&#x2395;&#x2395;&#x2395;&#x2395;&#x2395;&#x2395;&#x2395;&#x2395;&#x2395;&#x2395;&#x2395;&#x2395;&#x2395;&#x2395;&#x2395;&#x2395;&#x2395;&#x2395;&#x2395;&#x2395;&#x2395;&#x2395;&#x2395;&#x2395;&#x2395;&#x2395;&#x2395;&#x2395;&#x2395;&#x2395;&#x2395;&#x2395;&#x2395;&#x2395;&#x2395;&#x2395;&#x2395;&#x2395;&#x2395;&#x2395;&#x2395;&#x2395;&#x2395;&#x2395;</span>utskirts of <span style='color: red;'>n</span>ew <span style='color: red;'>o</span>rleans, kept ti<span style='color: red;'>p</span>y by a white-haired old man known only as <span style='color: red;'>s</span>am<span style='color: red;'>s </span>.</div></span></td></tr><tr><td style='font-size: 12pt; text-align: left; font-weight: bold;'>Pad 8, fract. 0.5</td><td style='text-align: center;'><img src=\"../experiment/cache/Strange_Tales_172005/.crop/Strange_Tales_172005_0_Pad 8, fract. 0.5.png\"/></td><td style='font-size: 12pt; text-align: left; '><div style='font-size: 12pt;'><strong style='color: red;'>0.94</strong><div/></td><td style='font-size: 12pt; text-align: left; '><span style='font-size: 14px;'><div style='font-family: monospace; white-space: pre-wrap;'>E<span style='color: red;'>n</span>bo<span style='color: red;'>n</span>ered by great <span style='color: red;'>s</span>narled cypress trees, the ancient manor stands alone on the outskirts of <span style='color: red;'>n</span>ew <span style='color: red;'>o</span>rleans, kept ti<span style='color: red;'>p</span>y by a whi<span style='color: red;'>⎕</span>te-haired old man known only as <span style='color: red;'>b8</span>amb<span style='color: red;'>l </span>.</div></span></td></tr><tr><td style='font-size: 12pt; text-align: left; font-weight: bold;'>Pad 8, fract. 0.2</td><td style='text-align: center;'><img src=\"../experiment/cache/Strange_Tales_172005/.crop/Strange_Tales_172005_0_Pad 8, fract. 0.2.png\"/></td><td style='font-size: 12pt; text-align: left; '><div style='font-size: 12pt;'><strong style='color: red;'>0.94</strong><div/></td><td style='font-size: 12pt; text-align: left; '><span style='font-size: 14px;'><div style='font-family: monospace; white-space: pre-wrap;'>E<span style='color: red;'>n</span>bo<span style='color: red;'>n</span>ered by great <span style='color: red;'>s</span>narled cypress trees, the ancient manor stands alone on the outskirts of <span style='color: red;'>n</span>ew <span style='color: red;'>o</span>rleans, kept ti<span style='color: red;'>p</span>y by a whi<span style='color: red;'>⎕</span>te-haired old man known only as <span style='color: red;'>b8</span>amb<span style='color: red;'>l </span>.</div></span></td></tr></table>"
      ],
      "text/plain": [
       "<IPython.core.display.HTML object>"
      ]
     },
     "metadata": {},
     "output_type": "display_data"
    }
   ],
   "source": [
    "# methods, images, ocrs, accs = zip(\n",
    "#     *map(lambda t: (t[0].value, t[1].cache_image(), t[1].diff_tagged(), acc_as_html(t[1].acc)), \n",
    "#             IMAGE_CONTEXT.results[BOX_IDX].items()))\n",
    "# display_columns([methods, images, accs, ocrs], headers=[\"Method\", \"Box\", \"Accuracy\", \"OCR\"])\n",
    "\n",
    "image_experiment.summary_box(BOX_IDX)\n"
   ]
  },
  {
   "cell_type": "markdown",
   "metadata": {},
   "source": [
    "Show result for any box # and any method"
   ]
  },
  {
   "cell_type": "code",
   "execution_count": null,
   "metadata": {},
   "outputs": [
    {
     "data": {
      "text/html": [
       "<table><colgroup><col style='width: 226px;'/><col style='width: auto;'/></colgroup><tr><td style='text-align: center;'><img src=\"../experiment/cache/Strange_Tales_172005/.crop/Strange_Tales_172005_4_Padded 8px.png\"/></td><td style='font-size: 12pt; text-align: left; '>Tonight, he comes host slamming open<br/><strong><span style='color: red;'>0.61</span></strong></td></tr></table>\n",
       "<br/>\n",
       "<pre style='font-size: 14px;'><div style='font-family: monospace; white-space: pre-wrap;'>--and tonight, he comes most urgently, slamming open the oaken front doors!</div><br/><div style='font-family: monospace; white-space: pre-wrap;'><span style='color: red;'>T</span><span style='color: red;'>&#x2395;&#x2395;&#x2395;&#x2395;&#x2395;&#x2395;</span>onight, he comes <span style='color: red;'>h</span>ost<span style='color: red;'>&#x2395;&#x2395;&#x2395;&#x2395;&#x2395;&#x2395;&#x2395;&#x2395;&#x2395;&#x2395;</span> slamming open<span style='color: red;'>&#x2395;&#x2395;&#x2395;&#x2395;&#x2395;&#x2395;&#x2395;&#x2395;&#x2395;&#x2395;&#x2395;&#x2395;&#x2395;&#x2395;&#x2395;&#x2395;&#x2395;&#x2395;&#x2395;&#x2395;&#x2395;&#x2395;&#x2395;</span></div></pre>"
      ],
      "text/plain": [
       "<IPython.core.display.HTML object>"
      ]
     },
     "metadata": {},
     "output_type": "display_data"
    }
   ],
   "source": [
    "image_experiment.result(4, CropMethod.PADDED_8)\n"
   ]
  },
  {
   "cell_type": "code",
   "execution_count": null,
   "metadata": {},
   "outputs": [
    {
     "data": {
      "text/html": [
       "<table><tr><td style='text-align: center;'><img src=\"../experiment/cache/Strange_Tales_172005/.crop/Strange_Tales_172005_3_Extracted, init box_cropped.png\"/></td><td style='text-align: center;'><img src=\"../experiment/cache/Strange_Tales_172005/.crop/Strange_Tales_172005_3_Extracted, init box_mask.png\"/></td><td style='text-align: center;'><img src=\"../experiment/cache/Strange_Tales_172005/.crop/Strange_Tales_172005_3_Extracted, init box.png\"/></td></tr></table>\n",
       "<br/>\n",
       "<div style='font-size: 12pt;'><strong style='color: red;'>0.67</strong><div/>\n",
       "<br/>\n",
       "<pre style='font-size: 14px;'><div style='font-family: monospace; white-space: pre-wrap;'>Bambu-- we have a gues<span style='color: green;'>&#x2395;</span>t.</div><br/><div style='font-family: monospace; white-space: pre-wrap;'><span style='color: red;'>—</span><span style='color: red;'>&#x2395;&#x2395;&#x2395;&#x2395;&#x2395;&#x2395;</span> we have a <span style='color: red;'>i=</span><span style='color: red;'>&#x2395;</span>s<span style='color: red;'>7</span>t.</div></pre>"
      ],
      "text/plain": [
       "<IPython.core.display.HTML object>"
      ]
     },
     "metadata": {},
     "output_type": "display_data"
    }
   ],
   "source": [
    "image_experiment.result(3, CropMethod.EXTRACTED_INIT_BOX)\n"
   ]
  },
  {
   "cell_type": "markdown",
   "metadata": {},
   "source": [
    "# ResultVisor"
   ]
  },
  {
   "cell_type": "code",
   "execution_count": null,
   "metadata": {},
   "outputs": [],
   "source": [
    "#| export\n",
    "\n",
    "class ResultVisor(ContextVisor):\n",
    "    ctx: ExperimentOCR\n",
    "    control_names: list[str] = ['all_boxes', 'box_idx', 'all_methods', 'method']\n",
    "\n",
    "    _css = \"\"\"\n",
    "    .box_grp {\n",
    "        background-color: aliceblue;\n",
    "    }\n",
    "    .method_grp {\n",
    "        background-color: #ededed;\n",
    "    }\n",
    "    \"\"\"\n",
    "    \n",
    "    def best_results(self): \n",
    "        ll = self.ctx.best_results()\n",
    "        if ll:\n",
    "            cprint([(m.value, f\"{r.acc:.3f}\", r.ocr) for m,r in ll])\n",
    "\n",
    "    def pd_to_html(self):\n",
    "        df = self.ctx.to_dataframe()\n",
    "        # set float precision\n",
    "        df = df.round(3)\n",
    "        # display floats with 3 decimal digits\n",
    "        df = df.applymap(lambda x: f\"{x:.3f}\")\n",
    "        # highlight max value in each row\n",
    "        stl = df.style.highlight_max(axis=0)\n",
    "        display(HTML(stl.to_html()))\n",
    "\n",
    "    def update_output(self, **kwargs):\n",
    "        all_boxes: bool = self.values['all_boxes']\n",
    "        box_idx: int = self.values['box_idx']\n",
    "        all_methods: bool = self.values['all_methods']\n",
    "        method: CropMethod = self.values['method']\n",
    "\n",
    "        # cprint(f\"all_boxes: {all_boxes}, box_idx: {box_idx}, all_methods: {all_methods}, method: {method}\")\n",
    "\n",
    "        exp, _ = self.ctx.ctxs\n",
    "        if all_boxes and all_methods:\n",
    "            self.ctx.plot_accuracies()\n",
    "            self.ctx.display()\n",
    "        elif all_boxes:\n",
    "            self.ctx.summary_method(method)\n",
    "        elif all_methods:\n",
    "            self.ctx.summary_box(box_idx)\n",
    "        else:\n",
    "            with exp.running(True):\n",
    "                result = self.ctx.result(box_idx, method)\n",
    "                if result is not None:\n",
    "                    result.display()\n",
    "                    # from time import sleep\n",
    "                    # sleep(2)\n",
    "\n",
    "    def setup_controls(self):\n",
    "        _, img_ctx = self.ctx.ctxs\n",
    "        values = self.values\n",
    "        box_wdgt = W.BoundedIntText(\n",
    "                    value=values['box_idx'], min=0, max=len(img_ctx.boxes)-1, step=1,\n",
    "                    disabled=values['all_boxes'],\n",
    "                    layout={'width': '50px'},\n",
    "                    style={'description_width': 'initial'})\n",
    "        methods_wdgt = W.Dropdown(\n",
    "                    options=CropMethod.__display_names__(), \n",
    "                    value=values['method'],\n",
    "                    layout={'width': '150px'},\n",
    "                    style={'description_width': 'initial'})\n",
    "        all_boxes_wdgt = W.Checkbox(label='All', value=values['all_boxes'], \n",
    "                    description=\"all\", \n",
    "                    layout={'width': 'initial'},\n",
    "                    style={'description_width': '0px'})\n",
    "        all_methods_wdgt = W.Checkbox(label='All', value=values['all_methods'], \n",
    "                    description=\"all\", \n",
    "                    layout={'width': 'initial'},\n",
    "                    style={'description_width': '0px'})\n",
    "        return {'all_boxes': all_boxes_wdgt, 'box_idx': box_wdgt, \n",
    "                'all_methods': all_methods_wdgt, 'method': methods_wdgt}\n",
    "    \n",
    "    def setup_ui(self):\n",
    "        ctls = self.controls\n",
    "        _, img_ctx = self.ctx.ctxs\n",
    "        box_label = W.Label(\n",
    "                value=f\"Box # (of {len(img_ctx.boxes)}):\", \n",
    "                layout={'width': 'initial', 'padding': '0px 0px 0px 10px'})\n",
    "        method_label = W.Label(value='Method:', layout={'width': 'initial', 'padding': '0px 0px 0px 10px'})\n",
    "\n",
    "        box_grp = W.HBox([box_label, ctls['all_boxes'], ctls['box_idx']])\n",
    "        box_grp.add_class('box_grp')\n",
    "        method_grp = W.HBox([method_label, ctls['all_methods'], ctls['method']])\n",
    "        method_grp.add_class('method_grp')\n",
    "        uis = self.comps_ui()\n",
    "        return W.HBox([box_grp, method_grp, *uis])\n",
    "\n",
    "    def __init__(self, \n",
    "            ctx: OCRExperimentContext | ExperimentOCR,\n",
    "            img_idx: int | str | Path | None = None,\n",
    "            all_boxes: bool = False,\n",
    "            box_idx: int = 0,\n",
    "            all_methods: bool = False,\n",
    "            method: CropMethod=CropMethod.INITIAL_BOX,\n",
    "            **kwargs\n",
    "        ):\n",
    "        if isinstance(ctx, OCRExperimentContext):\n",
    "            assert img_idx is not None, \"img_idx must be provided if ctx is an ExperimentContext\"\n",
    "            exp = ExperimentOCR.from_image(ctx, 'Tesseract', img_idx)\n",
    "            if not exp:\n",
    "                raise ValueError(f\"Image {img_idx} not found in experiment context\")\n",
    "            ctx = exp\n",
    "        else:\n",
    "            if not isinstance(ctx, ExperimentOCR):\n",
    "                raise ValueError(\"ctx must be an ExperimentOCR or OCRExperimentContext\")\n",
    "        \n",
    "        super().__init__(ctx, {'all_boxes': all_boxes, 'box_idx': box_idx, \n",
    "                            'all_methods': all_methods, 'method': method}, **kwargs)\n"
   ]
  },
  {
   "cell_type": "code",
   "execution_count": null,
   "metadata": {},
   "outputs": [
    {
     "data": {
      "application/vnd.jupyter.widget-view+json": {
       "model_id": "ca70d84aca1547b8acb38c76753fe91b",
       "version_major": 2,
       "version_minor": 0
      },
      "text/plain": [
       "VBox(children=(HTML(value=\"<style id='stl-13825031232'>\\n    .wrapper-spinner {\\n        overflow: hidden;\\n  …"
      ]
     },
     "metadata": {},
     "output_type": "display_data"
    }
   ],
   "source": [
    "cleanupwidgets('result_visor')\n",
    "\n",
    "result_visor = ResultVisor(image_experiment, ctxs={'spinner': Spinner(CONTEXT, 20, 3)})\n",
    "result_visor\n"
   ]
  },
  {
   "cell_type": "markdown",
   "metadata": {},
   "source": [
    "# ExperimentVisor\n"
   ]
  },
  {
   "cell_type": "code",
   "execution_count": null,
   "metadata": {},
   "outputs": [],
   "source": [
    "#| export\n",
    "\n",
    "class ExperimentVisor(ContextVisor):\n",
    "    ctx: ExperimentOCR\n",
    "\n",
    "    def update_output(self, \n",
    "            image_idx: int | None = None,\n",
    "            **kwargs):\n",
    "        exp_ctx, img_ctx = self.ctx.ctxs\n",
    "        if image_idx is not None and image_idx != img_ctx.image_idx:\n",
    "            ctx = ImageContext(exp_ctx, image_idx)\n",
    "            assert ctx is not None\n",
    "            self.ctx.ctx = ctx\n",
    "        result_visor = self.comp('result_visor')\n",
    "        if result_visor is not None:\n",
    "            result_visor.update_output(**kwargs)\n",
    "\n",
    "    def __init__(self, \n",
    "            ctx: OCRExperimentContext | ExperimentOCR,\n",
    "            img_idx: int | str | Path | None = None,\n",
    "            all_boxes: bool = False,\n",
    "            box_idx: int = 0,\n",
    "            all_methods: bool = False,\n",
    "            method: CropMethod=CropMethod.INITIAL_BOX,\n",
    "            out: W.Output | None = None,\n",
    "        ):\n",
    "        if isinstance(ctx, OCRExperimentContext):\n",
    "            assert img_idx is not None, \"img_idx must be provided if ctx is an ExperimentContext\"\n",
    "            exp = ExperimentOCR.from_image(ctx, 'Tesseract', img_idx)\n",
    "            if not exp:\n",
    "                raise ValueError(f\"Image {img_idx} not found in experiment context\")\n",
    "            ctx = exp\n",
    "        else:\n",
    "            if not issubclass(type(ctx), ExperimentOCR):\n",
    "                raise ValueError(\"ctx must be an ExperimentOCR or OCRExperimentContext\")\n",
    "        \n",
    "        exp_ctx, img_ctx = ctx.ctxs\n",
    "        out = out or self.out\n",
    "        image_selector = ImageSelector(exp_ctx, image_idx=img_ctx.image_idx, out=out)\n",
    "        result_visor = ResultVisor(ctx, out=out,\n",
    "            all_boxes=all_boxes, box_idx=box_idx, all_methods=all_methods, method=method)\n",
    "\n",
    "        super().__init__(ctx, {}, out=out, \n",
    "                    ctxs={'image_selector': image_selector, 'result_visor': result_visor},\n",
    "                    hdlrs={'display_option': result_visor}\n",
    "                    )\n"
   ]
  },
  {
   "cell_type": "code",
   "execution_count": null,
   "metadata": {},
   "outputs": [
    {
     "data": {
      "application/vnd.jupyter.widget-view+json": {
       "model_id": "ae489cc65bb54dcf8215c8807fab2701",
       "version_major": 2,
       "version_minor": 0
      },
      "text/plain": [
       "VBox(children=(HTML(value=\"<style id='stl-13709436448'>\\n    .box_grp {\\n        background-color: aliceblue;\\…"
      ]
     },
     "metadata": {},
     "output_type": "display_data"
    }
   ],
   "source": [
    "cleanupwidgets('exp_visor')\n",
    "\n",
    "exp_visor = ExperimentVisor(image_experiment)\n",
    "exp_visor\n"
   ]
  },
  {
   "cell_type": "code",
   "execution_count": null,
   "metadata": {},
   "outputs": [],
   "source": [
    "exp_visor.update(box_idx=1)\n"
   ]
  },
  {
   "cell_type": "code",
   "execution_count": null,
   "metadata": {},
   "outputs": [],
   "source": [
    "exp_visor.update(image_idx=0)\n"
   ]
  },
  {
   "cell_type": "markdown",
   "metadata": {},
   "source": [
    "# Method experiment\n",
    "> perform method on one or more boxes"
   ]
  },
  {
   "cell_type": "code",
   "execution_count": null,
   "metadata": {},
   "outputs": [],
   "source": [
    "CONTEXT._reset_()\n"
   ]
  },
  {
   "cell_type": "code",
   "execution_count": null,
   "metadata": {},
   "outputs": [],
   "source": [
    "image_experiment = ExperimentOCR(IMAGE_CONTEXT, RUN_NAME)\n"
   ]
  },
  {
   "cell_type": "markdown",
   "metadata": {},
   "source": [
    "Visualize summary of crop methods on a given box\n"
   ]
  },
  {
   "cell_type": "code",
   "execution_count": null,
   "metadata": {},
   "outputs": [
    {
     "data": {
      "application/vnd.jupyter.widget-view+json": {
       "model_id": "b4f8302579a04ed5a7d235f66693068d",
       "version_major": 2,
       "version_minor": 0
      },
      "text/plain": [
       "Box #2:   0%|          | 0/11 [00:00<?, ?it/s]"
      ]
     },
     "metadata": {},
     "output_type": "display_data"
    },
    {
     "data": {
      "text/html": [
       "<table><colgroup><col style='width: auto;'/><col style='width: 389px;'/><col style='width: auto;'/><col style='width: auto;'/></colgroup><tr><th style='text-align: center; font-weight: bold;'>Method</th><th style='text-align: center; font-weight: bold;'>Box #2</th><th style='text-align: center; font-weight: bold;'>Accuracy</th><th style='text-align: center; font-weight: bold;'>OCR</th></tr><tr><td style='font-size: 12pt; text-align: left; font-weight: bold;'>Initial box</td><td style='text-align: center;'><img src=\"../experiment/cache/Strange_Tales_172005/.crop/Strange_Tales_172005_1_Initial box.png\"/></td><td style='font-size: 12pt; text-align: left; '><div style='font-size: 12pt;'><strong style='color: red;'>0.93</strong><div/></td><td style='font-size: 12pt; text-align: left; '><span style='font-size: 14px;'><div style='font-family: monospace; white-space: pre-wrap;'>The house and the old man are alike in many ways; tall, pro<span style='color: red;'>li</span>d, patient, contented always <span style='color: red;'>0</span><span style='color: red;'>&#x2395;</span> wait until<span style='color: red;'>.</span> their<span style='color: red;'>.</span> master co<span style='color: red;'>n</span>es <span style='color: red;'>m</span>ome<span style='color: red;'> ~~</span></div></span></td></tr><tr><td style='font-size: 12pt; text-align: left; font-weight: bold;'>Default</td><td style='text-align: center;'><img src=\"../experiment/cache/Strange_Tales_172005/.crop/Strange_Tales_172005_1_Default.png\"/></td><td style='font-size: 12pt; text-align: left; '><div style='font-size: 12pt;'><strong style='color: red;'>0.96</strong><div/></td><td style='font-size: 12pt; text-align: left; '><span style='font-size: 14px;'><div style='font-family: monospace; white-space: pre-wrap;'>The house and the old man are alike in many ways; tall, proud, patient, conten<span style='color: red;'>⎕</span>te<span style='color: red;'>l</span> always to wait until their<span style='color: red;'>.</span> master co<span style='color: red;'>n</span>es home<span style='color: red;'> ~~</span></div></span></td></tr><tr><td style='font-size: 12pt; text-align: left; font-weight: bold;'>Default, grey pad</td><td style='text-align: center;'><img src=\"../experiment/cache/Strange_Tales_172005/.crop/Strange_Tales_172005_1_Default, grey pad.png\"/></td><td style='font-size: 12pt; text-align: left; '><div style='font-size: 12pt;'><strong style='color: red;'>0.96</strong><div/></td><td style='font-size: 12pt; text-align: left; '><span style='font-size: 14px;'><div style='font-family: monospace; white-space: pre-wrap;'>The house and the old man are alike in many ways; tall, pro<span style='color: red;'>li</span>d, patient, contented always to wait until their<span style='color: red;'>.⎕*</span> master co<span style='color: red;'>n</span>es home<span style='color: red;'>⎕~</span>-<span style='color: red;'>&#x2395;</span></div></span></td></tr><tr><td style='font-size: 12pt; text-align: left; font-weight: bold;'>Padded 4px</td><td style='text-align: center;'><img src=\"../experiment/cache/Strange_Tales_172005/.crop/Strange_Tales_172005_1_Padded 4px.png\"/></td><td style='font-size: 12pt; text-align: left; '><div style='font-size: 12pt;'><strong style='color: red;'>0.93</strong><div/></td><td style='font-size: 12pt; text-align: left; '><span style='font-size: 14px;'><div style='font-family: monospace; white-space: pre-wrap;'>The house and the old<span style='color: red;'>&#x2395;</span>man are alike in many ways; tall, proud, patient, contented a<span style='color: red;'> </span>ways <span style='color: red;'>0</span><span style='color: red;'>&#x2395;</span> wait until their<span style='color: red;'>.</span> <span style='color: red;'>&#x2395;</span>aster comes home<span style='color: red;'> ~~ | }</span></div></span></td></tr><tr><td style='font-size: 12pt; text-align: left; font-weight: bold;'>Padded 8px</td><td style='text-align: center;'><img src=\"../experiment/cache/Strange_Tales_172005/.crop/Strange_Tales_172005_1_Padded 8px.png\"/></td><td style='font-size: 12pt; text-align: left; '><div style='font-size: 12pt;'><strong style='color: red;'>0.99</strong><div/></td><td style='font-size: 12pt; text-align: left; '><span style='font-size: 14px;'><div style='font-family: monospace; white-space: pre-wrap;'>The house and the old man are alike in many ways; tall, proud, patient, contented always to wait until their<span style='color: red;'>.</span> master comes home<span style='color: red;'>&#x2395;&#x2395;</span></div></span></td></tr><tr><td style='font-size: 12pt; text-align: left; font-weight: bold;'>Extracted, init box</td><td style='text-align: center;'><img src=\"../experiment/cache/Strange_Tales_172005/.crop/Strange_Tales_172005_1_Extracted, init box.png\"/></td><td style='font-size: 12pt; text-align: left; '><div style='font-size: 12pt;'><strong style='color: red;'>0.93</strong><div/></td><td style='font-size: 12pt; text-align: left; '><span style='font-size: 14px;'><div style='font-family: monospace; white-space: pre-wrap;'><span style='color: red;'>E</span><span style='color: red;'>&#x2395;</span>e house and the old man <span style='color: red;'>po</span>r<span style='color: red;'>&#x2395;</span> alike in many ways; tall, proud, patient, contented always t<span style='color: red;'>°</span> wait until their<span style='color: red;'>.</span> master co<span style='color: red;'>n</span>es home<span style='color: red;'> ~~</span></div></span></td></tr><tr><td style='font-size: 12pt; text-align: left; font-weight: bold;'>Padded 4, extracted</td><td style='text-align: center;'><img src=\"../experiment/cache/Strange_Tales_172005/.crop/Strange_Tales_172005_1_Padded 4, extracted.png\"/></td><td style='font-size: 12pt; text-align: left; '><div style='font-size: 12pt;'><strong style='color: red;'>0.98</strong><div/></td><td style='font-size: 12pt; text-align: left; '><span style='font-size: 14px;'><div style='font-family: monospace; white-space: pre-wrap;'>The house and the old man are alike in many ways; tall, proud, patient, contented always t<span style='color: red;'>°</span> wait until their<span style='color: red;'>.</span> master co<span style='color: red;'>n</span>es home<span style='color: red;'>⎕</span>--</div></span></td></tr><tr><td style='font-size: 12pt; text-align: left; font-weight: bold;'>Padded 8, extracted</td><td style='text-align: center;'><img src=\"../experiment/cache/Strange_Tales_172005/.crop/Strange_Tales_172005_1_Padded 8, extracted.png\"/></td><td style='font-size: 12pt; text-align: left; '><div style='font-size: 12pt;'><strong style='color: red;'>0.98</strong><div/></td><td style='font-size: 12pt; text-align: left; '><span style='font-size: 14px;'><div style='font-family: monospace; white-space: pre-wrap;'>The house and the old man are alike in many ways; tall, proud, patient, contented always t<span style='color: red;'>°</span> wait until their<span style='color: red;'>.</span> master comes home<span style='color: red;'>⎕</span>--</div></span></td></tr><tr><td style='font-size: 12pt; text-align: left; font-weight: bold;'>Padded 8, dilation 1</td><td style='text-align: center;'><img src=\"../experiment/cache/Strange_Tales_172005/.crop/Strange_Tales_172005_1_Padded 8, dilation 1.png\"/></td><td style='font-size: 12pt; text-align: left; '><div style='font-size: 12pt;'><strong style='color: red;'>0.88</strong><div/></td><td style='font-size: 12pt; text-align: left; '><span style='font-size: 14px;'><div style='font-family: monospace; white-space: pre-wrap;'>The house and the old man are alike in many ways<span style='color: red;'>,</span> tall, proud, <span style='color: red;'>&#x2395;&#x2395;&#x2395;&#x2395;&#x2395;</span>nt, contented <span style='color: red;'>&#x2395;</span>l<span style='color: red;'>ive</span><span style='color: red;'>&#x2395;&#x2395;&#x2395;&#x2395;</span> wa<span style='color: red;'>l</span>t <span style='color: red;'>g</span><span style='color: red;'>&#x2395;</span>ti<span style='color: red;'>e</span> their<span style='color: red;'>,</span> master comes home<span style='color: red;'>⎕</span>-<span style='color: red;'>=</span></div></span></td></tr><tr><td style='font-size: 12pt; text-align: left; font-weight: bold;'>Pad 8, fract. 0.5</td><td style='text-align: center;'><img src=\"../experiment/cache/Strange_Tales_172005/.crop/Strange_Tales_172005_1_Pad 8, fract. 0.5.png\"/></td><td style='font-size: 12pt; text-align: left; '><div style='font-size: 12pt;'><strong style='color: red;'>0.97</strong><div/></td><td style='font-size: 12pt; text-align: left; '><span style='font-size: 14px;'><div style='font-family: monospace; white-space: pre-wrap;'>The house and the old man are alike in many ways; tall, proud, patient, contented always t<span style='color: red;'>°</span> wait until<span style='color: red;'>.</span> their<span style='color: red;'>.</span> master comes home<span style='color: red;'> ~~</span></div></span></td></tr><tr><td style='font-size: 12pt; text-align: left; font-weight: bold;'>Pad 8, fract. 0.2</td><td style='text-align: center;'><img src=\"../experiment/cache/Strange_Tales_172005/.crop/Strange_Tales_172005_1_Pad 8, fract. 0.2.png\"/></td><td style='font-size: 12pt; text-align: left; '><div style='font-size: 12pt;'><strong style='color: red;'>0.97</strong><div/></td><td style='font-size: 12pt; text-align: left; '><span style='font-size: 14px;'><div style='font-family: monospace; white-space: pre-wrap;'>The house and the old man are alike in many ways; tall, proud, patient, contented always t<span style='color: red;'>°</span> wait until their<span style='color: red;'>.</span> master comes home<span style='color: red;'> ~~</span></div></span></td></tr></table>"
      ],
      "text/plain": [
       "<IPython.core.display.HTML object>"
      ]
     },
     "metadata": {},
     "output_type": "display_data"
    }
   ],
   "source": [
    "image_experiment.summary_box(1)"
   ]
  },
  {
   "cell_type": "markdown",
   "metadata": {},
   "source": [
    "Results for any crop method"
   ]
  },
  {
   "cell_type": "code",
   "execution_count": null,
   "metadata": {},
   "outputs": [
    {
     "data": {
      "application/vnd.jupyter.widget-view+json": {
       "model_id": "55975686e0de4a63ba88e37d034dacbb",
       "version_major": 2,
       "version_minor": 0
      },
      "text/plain": [
       "Padded 4px - Tesseract:   0%|          | 0/15 [00:00<?, ?it/s]"
      ]
     },
     "metadata": {},
     "output_type": "display_data"
    },
    {
     "data": {
      "text/html": [
       "<table><colgroup><col style='width: auto;'/><col style='width: 388px;'/><col style='width: auto;'/><col style='width: auto;'/></colgroup><tr><th style='text-align: center; font-weight: bold;'>Box #</th><th style='text-align: center; font-weight: bold;'>Box</th><th style='text-align: center; font-weight: bold;'>Accuracy</th><th style='text-align: center; font-weight: bold;'>Padded 4px OCR</th></tr><tr><td style='font-size: 12pt; text-align: left; font-weight: bold;'>1</td><td style='text-align: center;'><img src=\"../experiment/cache/Strange_Tales_172005/.crop/Strange_Tales_172005_0_Padded 4px.png\"/></td><td style='font-size: 12pt; text-align: left; '><div style='font-size: 12pt;'><strong style='color: red;'>0.88</strong><div/></td><td style='font-size: 12pt; text-align: left; '><span style='font-size: 14px;'><div style='font-family: monospace; white-space: pre-wrap;'>E<span style='color: red;'>n</span>bo<span style='color: red;'>n</span>ered by great gnarled cypress <span style='color: red;'>j</span>r<span style='color: red;'>f</span>es, the ancient manor stands alone on the <span style='color: red;'>ei</span>t<span style='color: red;'>&#x2395;&#x2395;&#x2395;&#x2395;&#x2395;&#x2395;</span> of <span style='color: red;'>m</span>ew <span style='color: red;'>&#x2395;</span>r<span style='color: red;'>ce: </span>eans, kept ti<span style='color: red;'>p</span>y by a white-haired <span style='color: red;'>a</span>o<span style='color: red;'>⎕</span>l<span style='color: red;'>o</span> man known only as<span style='color: red;'>&#x2395;&#x2395;&#x2395;&#x2395;&#x2395;&#x2395;&#x2395;</span></div></span></td></tr><tr><td style='font-size: 12pt; text-align: left; font-weight: bold;'>2</td><td style='text-align: center;'><img src=\"../experiment/cache/Strange_Tales_172005/.crop/Strange_Tales_172005_1_Padded 4px.png\"/></td><td style='font-size: 12pt; text-align: left; '><div style='font-size: 12pt;'><strong style='color: red;'>0.93</strong><div/></td><td style='font-size: 12pt; text-align: left; '><span style='font-size: 14px;'><div style='font-family: monospace; white-space: pre-wrap;'>The house and the old<span style='color: red;'>&#x2395;</span>man are alike in many ways; tall, proud, patient, contented a<span style='color: red;'> </span>ways <span style='color: red;'>0</span><span style='color: red;'>&#x2395;</span> wait until their<span style='color: red;'>.</span> <span style='color: red;'>&#x2395;</span>aster comes home<span style='color: red;'> ~~ | }</span></div></span></td></tr><tr><td style='font-size: 12pt; text-align: left; font-weight: bold;'>3</td><td style='text-align: center;'><img src=\"../experiment/cache/Strange_Tales_172005/.crop/Strange_Tales_172005_2_Padded 4px.png\"/></td><td style='font-size: 12pt; text-align: left; '><div style='font-size: 12pt;'><strong style='color: red;'>0.69</strong><div/></td><td style='font-size: 12pt; text-align: left; '><span style='font-size: 14px;'><div style='font-family: monospace; white-space: pre-wrap;'><span style='color: red;'>F a</span>nd one in <span style='color: red;'>&#x2395;</span>ee<span style='color: red;'>&#x2395;&#x2395;&#x2395;&#x2395;&#x2395;&#x2395;&#x2395;&#x2395;&#x2395;&#x2395;&#x2395;&#x2395;&#x2395;&#x2395;&#x2395;&#x2395;&#x2395;&#x2395;</span> would appear.</div></span></td></tr><tr><td style='font-size: 12pt; text-align: left; font-weight: bold;'>4</td><td style='text-align: center;'><img src=\"../experiment/cache/Strange_Tales_172005/.crop/Strange_Tales_172005_3_Padded 4px.png\"/></td><td style='font-size: 12pt; text-align: left; '><div style='font-size: 12pt;'><strong style='color: red;'>0.77</strong><div/></td><td style='font-size: 12pt; text-align: left; '><span style='font-size: 14px;'><div style='font-family: monospace; white-space: pre-wrap;'><span style='color: red;'>&quot; b</span>amb<span style='color: red;'>li</span>-<span style='color: red;'>—</span> we have a g<span style='color: red;'>li</span>est.</div></span></td></tr><tr><td style='font-size: 12pt; text-align: left; font-weight: bold;'>5</td><td style='text-align: center;'><img src=\"../experiment/cache/Strange_Tales_172005/.crop/Strange_Tales_172005_4_Padded 4px.png\"/></td><td style='font-size: 12pt; text-align: left; '><div style='font-size: 12pt;'><strong style='color: red;'>0.55</strong><div/></td><td style='font-size: 12pt; text-align: left; '><span style='font-size: 14px;'><div style='font-family: monospace; white-space: pre-wrap;'><span style='color: red;'>P</span><span style='color: red;'>&#x2395;&#x2395;&#x2395;&#x2395;&#x2395;&#x2395;&#x2395;&#x2395;&#x2395;&#x2395;&#x2395;&#x2395;&#x2395;&#x2395;&#x2395;&#x2395;</span> comes<span style='color: red;'>&#x2395;&#x2395;&#x2395;&#x2395;&#x2395;&#x2395;&#x2395;&#x2395;&#x2395;&#x2395;&#x2395;&#x2395;&#x2395;&#x2395;&#x2395;</span> slamming open the <span style='color: red;'>c</span>aken<span style='color: red;'>&#x2395;&#x2395;&#x2395;&#x2395;&#x2395;&#x2395;&#x2395;&#x2395;&#x2395;&#x2395;&#x2395;&#x2395;&#x2395;</span></div></span></td></tr><tr><td style='font-size: 12pt; text-align: left; font-weight: bold;'>6</td><td style='text-align: center;'><img src=\"../experiment/cache/Strange_Tales_172005/.crop/Strange_Tales_172005_5_Padded 4px.png\"/></td><td style='font-size: 12pt; text-align: left; '><div style='font-size: 12pt;'><strong style='color: red;'>0.57</strong><div/></td><td style='font-size: 12pt; text-align: left; '><span style='font-size: 14px;'><div style='font-family: monospace; white-space: pre-wrap;'>Tel<span style='color: red;'>&#x2395;</span> <span style='color: red;'>o</span>e<span style='color: red;'>&#x2395;</span> <span style='color: red;'>&#x2395;&#x2395;&#x2395;&#x2395;</span>er-- <span style='color: red;'>5 </span>ow <span style='color: red;'>&#x2395;</span>a<span style='color: red;'>&#x2395;</span> <span style='color: red;'>=</span><span style='color: red;'>&#x2395;&#x2395;&#x2395;&#x2395;</span> <span style='color: red;'>7</span><span style='color: red;'>&#x2395;&#x2395;&#x2395;&#x2395;&#x2395;</span></div></span></td></tr><tr><td style='font-size: 12pt; text-align: left; font-weight: bold;'>7</td><td style='text-align: center;'><img src=\"../experiment/cache/Strange_Tales_172005/.crop/Strange_Tales_172005_6_Padded 4px.png\"/></td><td style='font-size: 12pt; text-align: left; '><div style='font-size: 12pt;'><strong style='color: red;'>0.38</strong><div/></td><td style='font-size: 12pt; text-align: left; '><span style='font-size: 14px;'><div style='font-family: monospace; white-space: pre-wrap;'><span style='color: red;'>W</span><span style='color: red;'>&#x2395;&#x2395;</span>e<span style='color: red;'>&#x2395;&#x2395;&#x2395;&#x2395;&#x2395;&#x2395;&#x2395;&#x2395;&#x2395;&#x2395;&#x2395;&#x2395;&#x2395;&#x2395;&#x2395;&#x2395;&#x2395;&#x2395;&#x2395;&#x2395;&#x2395;&#x2395;&#x2395;&#x2395;&#x2395;&#x2395;&#x2395;&#x2395;&#x2395;&#x2395;&#x2395;&#x2395;&#x2395;&#x2395;&#x2395;</span> and perhaps <span style='color: red;'>c </span>o<span style='color: red;'>&#x2395;</span>e <span style='color: red;'>/</span><span style='color: red;'>&#x2395;&#x2395;&#x2395;&#x2395;&#x2395;&#x2395;&#x2395;&#x2395;&#x2395;&#x2395;</span></div></span></td></tr><tr><td style='font-size: 12pt; text-align: left; font-weight: bold;'>8</td><td style='text-align: center;'><img src=\"../experiment/cache/Strange_Tales_172005/.crop/Strange_Tales_172005_7_Padded 4px.png\"/></td><td style='font-size: 12pt; text-align: left; '><div style='font-size: 12pt;'><strong style='color: red;'>0.75</strong><div/></td><td style='font-size: 12pt; text-align: left; '><span style='font-size: 14px;'><div style='font-family: monospace; white-space: pre-wrap;'>The<span style='color: red;'>&#x2395;&#x2395;&#x2395;&#x2395;&#x2395;&#x2395;&#x2395;&#x2395;</span> the old man<span style='color: red;'>&#x2395;&#x2395;&#x2395;&#x2395;&#x2395;&#x2395;&#x2395;&#x2395;&#x2395;&#x2395;&#x2395;</span>s fades down the hall <span style='color: red;'>sr</span>a<span style='color: red;'>&#x2395;&#x2395;&#x2395;&#x2395;</span></div></span></td></tr><tr><td style='font-size: 12pt; text-align: left; font-weight: bold;'>9</td><td style='text-align: center;'><img src=\"../experiment/cache/Strange_Tales_172005/.crop/Strange_Tales_172005_8_Padded 4px.png\"/></td><td style='font-size: 12pt; text-align: left; '><div style='font-size: 12pt;'><strong style='color: red;'>0.92</strong><div/></td><td style='font-size: 12pt; text-align: left; '><span style='font-size: 14px;'><div style='font-family: monospace; white-space: pre-wrap;'>How curious the <span style='color: red;'>a⎕</span>whims of fate<span style='color: red;'>⎕</span>. <span style='color: red;'>- h</span>ad <span style='color: red;'>i</span> not chanced to stroll along the river <span style='color: red;'>yl⎕</span>tonight<span style='color: red;'>~</span>-<span style='color: red;'>&#x2395;</span></div></span></td></tr><tr><td style='font-size: 12pt; text-align: left; font-weight: bold;'>10</td><td style='text-align: center;'><img src=\"../experiment/cache/Strange_Tales_172005/.crop/Strange_Tales_172005_9_Padded 4px.png\"/></td><td style='font-size: 12pt; text-align: left; '><div style='font-size: 12pt;'><strong style='color: red;'>0.79</strong><div/></td><td style='font-size: 12pt; text-align: left; '><span style='font-size: 14px;'><div style='font-family: monospace; white-space: pre-wrap;'>A<span style='color: red;'>&#x2395;&#x2395;&#x2395;</span>u<span style='color: red;'>l</span>ckly as <span style='color: red;'>t</span> can, <span style='color: red;'>‘</span>mas<span style='color: red;'>r</span>er<span style='color: red;'>.</span></div></span></td></tr><tr><td style='font-size: 12pt; text-align: left; font-weight: bold;'>11</td><td style='text-align: center;'><img src=\"../experiment/cache/Strange_Tales_172005/.crop/Strange_Tales_172005_10_Padded 4px.png\"/></td><td style='font-size: 12pt; text-align: left; '><div style='font-size: 12pt;'><strong style='color: red;'>0.92</strong><div/></td><td style='font-size: 12pt; text-align: left; '><span style='font-size: 14px;'><div style='font-family: monospace; white-space: pre-wrap;'><span style='color: red;'>&lt;</span><span style='color: red;'>&#x2395;</span>the girl wo<span style='color: red;'>l</span>ld<span style='color: red;'>⎕-</span> most surely be dead by now.</div></span></td></tr><tr><td style='font-size: 12pt; text-align: left; font-weight: bold;'>12</td><td style='text-align: center;'><img src=\"../experiment/cache/Strange_Tales_172005/.crop/Strange_Tales_172005_11_Padded 4px.png\"/></td><td style='font-size: 12pt; text-align: left; '><div style='font-size: 12pt;'><strong style='color: red;'>0.88</strong><div/></td><td style='font-size: 12pt; text-align: left; '><span style='font-size: 14px;'><div style='font-family: monospace; white-space: pre-wrap;'>Ghede has been generous. the <span style='color: red;'>o</span>eath <span style='color: red;'>g</span>o<span style='color: red;'>p</span> has given <span style='color: red;'>-⎕</span>the girl<span style='color: red;'>.</span> a second chance <span style='color: red;'>ye,⎕</span>a<span style='color: red;'>lem</span></div></span></td></tr><tr><td style='font-size: 12pt; text-align: left; font-weight: bold;'>13</td><td style='text-align: center;'><img src=\"../experiment/cache/Strange_Tales_172005/.crop/Strange_Tales_172005_12_Padded 4px.png\"/></td><td style='font-size: 12pt; text-align: left; '><div style='font-size: 12pt;'><strong style='color: red;'>0.67</strong><div/></td><td style='font-size: 12pt; text-align: left; '><span style='font-size: 14px;'><div style='font-family: monospace; white-space: pre-wrap;'><span style='color: red;'>Soe</span><span style='color: red;'>&#x2395;&#x2395;</span> <span style='color: red;'>&#x2395;&#x2395;&#x2395;&#x2395;&#x2395;&#x2395;&#x2395;&#x2395;&#x2395;</span>er<span style='color: red;'>⎕</span>e<span style='color: red;'>ke</span> <span style='color: red;'>&#x2395;</span>othing to scream a<span style='color: red;'>y</span><span style='color: red;'>&#x2395;&#x2395;&#x2395;</span> anymore.</div></span></td></tr><tr><td style='font-size: 12pt; text-align: left; font-weight: bold;'>14</td><td style='text-align: center;'><img src=\"../experiment/cache/Strange_Tales_172005/.crop/Strange_Tales_172005_13_Padded 4px.png\"/></td><td style='font-size: 12pt; text-align: left; '><div style='font-size: 12pt;'><strong style='color: red;'>0.94</strong><div/></td><td style='font-size: 12pt; text-align: left; '><span style='font-size: 14px;'><div style='font-family: monospace; white-space: pre-wrap;'><span style='color: red;'>&quot;y</span>ou&#x27;re among friends now<span style='color: red;'>.</span> you&#x27;re safe!</div></span></td></tr><tr><td style='font-size: 12pt; text-align: left; font-weight: bold;'>15</td><td style='text-align: center;'><img src=\"../experiment/cache/Strange_Tales_172005/.crop/Strange_Tales_172005_14_Padded 4px.png\"/></td><td style='font-size: 12pt; text-align: left; '><div style='font-size: 12pt;'><strong style='color: red;'>1.00</strong><div/></td><td style='font-size: 12pt; text-align: left; '><span style='font-size: 14px;'><div style='font-family: monospace; white-space: pre-wrap;'>Continued after next page</div></span></td></tr></table>"
      ],
      "text/plain": [
       "<IPython.core.display.HTML object>"
      ]
     },
     "metadata": {},
     "output_type": "display_data"
    }
   ],
   "source": [
    "image_experiment.summary_method(CropMethod.PADDED_4)\n"
   ]
  },
  {
   "cell_type": "markdown",
   "metadata": {},
   "source": [
    "You can use method experiment directly"
   ]
  },
  {
   "cell_type": "code",
   "execution_count": null,
   "metadata": {},
   "outputs": [
    {
     "data": {
      "text/html": [
       "<table><colgroup><col style='width: 370px;'/><col style='width: auto;'/></colgroup><tr><td style='text-align: center;'><img src=\"../experiment/cache/Strange_Tales_172005/.crop/Strange_Tales_172005_0_Initial box.png\"/></td><td style='font-size: 12pt; text-align: left; '>Eneonered by great gnarled cypress jrfes, the ancient manor stands alone on the outski) 2 of mew ce eans, kept tidy by a white-haired old man known only as bambs, 3<br/><strong><span style='color: red;'>0.90</span></strong></td></tr></table>\n",
       "<br/>\n",
       "<pre style='font-size: 14px;'><div style='font-family: monospace; white-space: pre-wrap;'>Embowered by great gnarled cypress trees, the ancient manor stands alone on the outskirts of New Orleans, kept tidy by a white-haired old man known only as Bambu.<span style='color: green;'>&#x2395;&#x2395;</span></div><br/><div style='font-family: monospace; white-space: pre-wrap;'>E<span style='color: red;'>ne</span>o<span style='color: red;'>n</span>ered by great gnarled cypress <span style='color: red;'>j</span>r<span style='color: red;'>f</span>es, the ancient manor stands alone on the outski<span style='color: red;'>) 2</span> of <span style='color: red;'>m</span>ew <span style='color: red;'>ce </span>eans, kept tidy by a white-haired old man known only as <span style='color: red;'>b</span>amb<span style='color: red;'>s, 3</span></div></pre>"
      ],
      "text/plain": [
       "<IPython.core.display.HTML object>"
      ]
     },
     "metadata": {},
     "output_type": "display_data"
    }
   ],
   "source": [
    "method_experiment = ExperimentOCR.from_method(CONTEXT, IMAGE_CONTEXT.image_idx, RUN_NAME, CropMethod.INITIAL_BOX)\n",
    "assert method_experiment is not None\n",
    "method_experiment(BOX_IDX, display=True)\n"
   ]
  },
  {
   "cell_type": "markdown",
   "metadata": {},
   "source": [
    "for all boxes"
   ]
  },
  {
   "cell_type": "code",
   "execution_count": null,
   "metadata": {},
   "outputs": [
    {
     "data": {
      "application/vnd.jupyter.widget-view+json": {
       "model_id": "44dbe9ff00d3490c8cbceec23afa7ba4",
       "version_major": 2,
       "version_minor": 0
      },
      "text/plain": [
       "Initial box - Tesseract:   0%|          | 0/15 [00:00<?, ?it/s]"
      ]
     },
     "metadata": {},
     "output_type": "display_data"
    },
    {
     "data": {
      "text/html": [
       "<div style='font-size: 12pt;'><span style='font-family: monospace; white-space: pre-wrap;'>                    Page</span>: <strong>source/Strange_Tales_172005.jpg</strong><br/><span style='font-family: monospace; white-space: pre-wrap;'>                    Size</span>: <strong>1275x1888 px: 4.25 x 6.29 in @ 188.32 dpi</strong><br/><span style='font-family: monospace; white-space: pre-wrap;'>                     Run</span>: <strong>Tesseract-crop-post</strong><br/><span style='font-family: monospace; white-space: pre-wrap;'>                   Model</span>: <strong>Tesseract</strong><br/><span style='font-family: monospace; white-space: pre-wrap;'>             Crop Method</span>: <strong>Initial box</strong><br/><span style='font-family: monospace; white-space: pre-wrap;'>   Accuracy Mean/Trimmed</span>: <strong style='color: red;'>0.79/0.80</strong></div>\n",
       "<br/>\n",
       "<table><colgroup><col style='width: auto;'/><col style='width: 380px;'/><col style='width: auto;'/><col style='width: auto;'/></colgroup><tr><th style='text-align: center; font-weight: bold;'>Box #</th><th style='text-align: center; font-weight: bold;'>Image</th><th style='text-align: center; font-weight: bold;'>Accuracy</th><th style='text-align: center; font-weight: bold;'>OCR</th></tr><tr><td style='font-size: 12pt; text-align: left; font-weight: bold;'>1</td><td style='text-align: center;'><img src=\"../experiment/cache/Strange_Tales_172005/.crop/Strange_Tales_172005_0_Initial box.png\"/></td><td style='font-size: 12pt; text-align: left; '><div style='font-size: 12pt;'><strong style='color: red;'>0.90</strong><div/></td><td style='font-size: 12pt; text-align: left; '><span style='font-size: 14px;'><div style='font-family: monospace; white-space: pre-wrap;'>E<span style='color: red;'>ne</span>o<span style='color: red;'>n</span>ered by great gnarled cypress <span style='color: red;'>j</span>r<span style='color: red;'>f</span>es, the ancient manor stands alone on the outski<span style='color: red;'>) 2</span> of <span style='color: red;'>m</span>ew <span style='color: red;'>ce </span>eans, kept tidy by a white-haired old man known only as <span style='color: red;'>b</span>amb<span style='color: red;'>s, 3</span></div></span></td></tr><tr><td style='font-size: 12pt; text-align: left; font-weight: bold;'>2</td><td style='text-align: center;'><img src=\"../experiment/cache/Strange_Tales_172005/.crop/Strange_Tales_172005_1_Initial box.png\"/></td><td style='font-size: 12pt; text-align: left; '><div style='font-size: 12pt;'><strong style='color: red;'>0.93</strong><div/></td><td style='font-size: 12pt; text-align: left; '><span style='font-size: 14px;'><div style='font-family: monospace; white-space: pre-wrap;'>The house and the old man are alike in many ways; tall, pro<span style='color: red;'>li</span>d, patient, contented always <span style='color: red;'>0</span><span style='color: red;'>&#x2395;</span> wait until<span style='color: red;'>.</span> their<span style='color: red;'>.</span> master co<span style='color: red;'>n</span>es <span style='color: red;'>m</span>ome<span style='color: red;'> ~~</span></div></span></td></tr><tr><td style='font-size: 12pt; text-align: left; font-weight: bold;'>3</td><td style='text-align: center;'><img src=\"../experiment/cache/Strange_Tales_172005/.crop/Strange_Tales_172005_2_Initial box.png\"/></td><td style='font-size: 12pt; text-align: left; '><div style='font-size: 12pt;'><strong style='color: red;'>0.70</strong><div/></td><td style='font-size: 12pt; text-align: left; '><span style='font-size: 14px;'><div style='font-family: monospace; white-space: pre-wrap;'><span style='color: red;'>“a</span>nd one in <span style='color: red;'>&#x2395;</span>ee<span style='color: red;'>&#x2395;&#x2395;&#x2395;&#x2395;&#x2395;&#x2395;&#x2395;&#x2395;&#x2395;&#x2395;&#x2395;&#x2395;&#x2395;&#x2395;&#x2395;&#x2395;&#x2395;&#x2395;</span> would appear.</div></span></td></tr><tr><td style='font-size: 12pt; text-align: left; font-weight: bold;'>4</td><td style='text-align: center;'><img src=\"../experiment/cache/Strange_Tales_172005/.crop/Strange_Tales_172005_3_Initial box.png\"/></td><td style='font-size: 12pt; text-align: left; '><div style='font-size: 12pt;'><strong style='color: red;'>0.62</strong><div/></td><td style='font-size: 12pt; text-align: left; '><span style='font-size: 14px;'><div style='font-family: monospace; white-space: pre-wrap;'><span style='color: red;'>Re b</span>amb<span style='color: red;'>li</span>-<span style='color: red;'>~</span> we have a<span style='color: red;'>&#x2395;&#x2395;&#x2395;&#x2395;&#x2395;&#x2395;&#x2395;</span></div></span></td></tr><tr><td style='font-size: 12pt; text-align: left; font-weight: bold;'>5</td><td style='text-align: center;'><img src=\"../experiment/cache/Strange_Tales_172005/.crop/Strange_Tales_172005_4_Initial box.png\"/></td><td style='font-size: 12pt; text-align: left; '><div style='font-size: 12pt;'><strong style='color: red;'>0.70</strong><div/></td><td style='font-size: 12pt; text-align: left; '><span style='font-size: 14px;'><div style='font-family: monospace; white-space: pre-wrap;'><span style='color: red;'>T</span><span style='color: red;'>&#x2395;&#x2395;&#x2395;&#x2395;&#x2395;&#x2395;</span>onight, he comes <span style='color: red;'>no</span>ost<span style='color: red;'>&#x2395;&#x2395;&#x2395;&#x2395;&#x2395;&#x2395;&#x2395;&#x2395;&#x2395;&#x2395;</span> slamming open the <span style='color: red;'>c</span>aken<span style='color: red;'>&#x2395;&#x2395;&#x2395;&#x2395;&#x2395;&#x2395;&#x2395;&#x2395;&#x2395;&#x2395;&#x2395;&#x2395;&#x2395;</span></div></span></td></tr><tr><td style='font-size: 12pt; text-align: left; font-weight: bold;'>6</td><td style='text-align: center;'><img src=\"../experiment/cache/Strange_Tales_172005/.crop/Strange_Tales_172005_5_Initial box.png\"/></td><td style='font-size: 12pt; text-align: left; '><div style='font-size: 12pt;'><strong style='color: red;'>0.82</strong><div/></td><td style='font-size: 12pt; text-align: left; '><span style='font-size: 14px;'><div style='font-family: monospace; white-space: pre-wrap;'>Tell me<span style='color: red;'>&#x2395;</span> <span style='color: red;'>n</span>aster<span style='color: red;'>.</span><span style='color: red;'>&#x2395;</span> how may <span style='color: red;'>b</span>amb<span style='color: red;'>li</span> serve<span style='color: red;'> 7</span></div></span></td></tr><tr><td style='font-size: 12pt; text-align: left; font-weight: bold;'>7</td><td style='text-align: center;'><img src=\"../experiment/cache/Strange_Tales_172005/.crop/Strange_Tales_172005_6_Initial box.png\"/></td><td style='font-size: 12pt; text-align: left; '><div style='font-size: 12pt;'><strong style='color: red;'>0.56</strong><div/></td><td style='font-size: 12pt; text-align: left; '><span style='font-size: 14px;'><div style='font-family: monospace; white-space: pre-wrap;'><span style='color: red;'>£7</span><span style='color: red;'>&#x2395;&#x2395;</span> <span style='color: red;'>»</span><span style='color: red;'>&#x2395;&#x2395;&#x2395;&#x2395;&#x2395;&#x2395;&#x2395;&#x2395;&#x2395;&#x2395;&#x2395;&#x2395;&#x2395;&#x2395;&#x2395;&#x2395;&#x2395;&#x2395;&#x2395;&#x2395;&#x2395;&#x2395;&#x2395;&#x2395;&#x2395;&#x2395;&#x2395;&#x2395;&#x2395;&#x2395;&#x2395;&#x2395;&#x2395;</span> and perhaps some dry clothes<span style='color: red;'>...⎕7⎕/</span></div></span></td></tr><tr><td style='font-size: 12pt; text-align: left; font-weight: bold;'>8</td><td style='text-align: center;'><img src=\"../experiment/cache/Strange_Tales_172005/.crop/Strange_Tales_172005_7_Initial box.png\"/></td><td style='font-size: 12pt; text-align: left; '><div style='font-size: 12pt;'><strong style='color: red;'>0.81</strong><div/></td><td style='font-size: 12pt; text-align: left; '><span style='font-size: 14px;'><div style='font-family: monospace; white-space: pre-wrap;'>The<span style='color: red;'>&#x2395;&#x2395;&#x2395;&#x2395;&#x2395;&#x2395;&#x2395;&#x2395;</span> the old man&#x27;<span style='color: red;'>&#x2395;&#x2395;&#x2395;&#x2395;&#x2395;&#x2395;&#x2395;&#x2395;&#x2395;&#x2395;</span>s fades down the hall as...<span style='color: red;'>⎕7</span></div></span></td></tr><tr><td style='font-size: 12pt; text-align: left; font-weight: bold;'>9</td><td style='text-align: center;'><img src=\"../experiment/cache/Strange_Tales_172005/.crop/Strange_Tales_172005_8_Initial box.png\"/></td><td style='font-size: 12pt; text-align: left; '><div style='font-size: 12pt;'><strong style='color: red;'>0.85</strong><div/></td><td style='font-size: 12pt; text-align: left; '><span style='font-size: 14px;'><div style='font-family: monospace; white-space: pre-wrap;'>How curious the <span style='color: red;'>4⎕fate.⎕</span>whims of <span style='color: red;'>h</span><span style='color: red;'>&#x2395;&#x2395;&#x2395;&#x2395;&#x2395;&#x2395;</span>ad <span style='color: red;'>t</span> not chanced to stroll along the river <span style='color: red;'>yl⎕</span>tonight<span style='color: red;'> ==</span></div></span></td></tr><tr><td style='font-size: 12pt; text-align: left; font-weight: bold;'>10</td><td style='text-align: center;'><img src=\"../experiment/cache/Strange_Tales_172005/.crop/Strange_Tales_172005_9_Initial box.png\"/></td><td style='font-size: 12pt; text-align: left; '><div style='font-size: 12pt;'><strong style='color: red;'>0.80</strong><div/></td><td style='font-size: 12pt; text-align: left; '><span style='font-size: 14px;'><div style='font-family: monospace; white-space: pre-wrap;'><span style='color: red;'>Fa</span>s <span style='color: red;'>o</span>u<span style='color: red;'>l</span>ckly as <span style='color: red;'>t</span> ca<span style='color: red;'>&#x2395;</span>, master<span style='color: red;'>.</span></div></span></td></tr><tr><td style='font-size: 12pt; text-align: left; font-weight: bold;'>11</td><td style='text-align: center;'><img src=\"../experiment/cache/Strange_Tales_172005/.crop/Strange_Tales_172005_10_Initial box.png\"/></td><td style='font-size: 12pt; text-align: left; '><div style='font-size: 12pt;'><strong style='color: red;'>0.91</strong><div/></td><td style='font-size: 12pt; text-align: left; '><span style='font-size: 14px;'><div style='font-family: monospace; white-space: pre-wrap;'><span style='color: red;'>&lt;</span><span style='color: red;'>&#x2395;</span>the girl would <span style='color: red;'>-⎕</span>most s<span style='color: red;'>li</span>rely be dead by now.</div></span></td></tr><tr><td style='font-size: 12pt; text-align: left; font-weight: bold;'>12</td><td style='text-align: center;'><img src=\"../experiment/cache/Strange_Tales_172005/.crop/Strange_Tales_172005_11_Initial box.png\"/></td><td style='font-size: 12pt; text-align: left; '><div style='font-size: 12pt;'><strong style='color: red;'>0.47</strong><div/></td><td style='font-size: 12pt; text-align: left; '><span style='font-size: 14px;'><div style='font-family: monospace; white-space: pre-wrap;'><span style='color: red;'>A</span><span style='color: red;'>&#x2395;&#x2395;&#x2395;&#x2395;&#x2395;&#x2395;&#x2395;&#x2395;&#x2395;&#x2395;&#x2395;&#x2395;&#x2395;&#x2395;&#x2395;&#x2395;&#x2395;&#x2395;&#x2395;&#x2395;&#x2395;&#x2395;&#x2395;&#x2395;</span>th<span style='color: red;'>&#x2395;&#x2395;&#x2395;&#x2395;&#x2395;&#x2395;&#x2395;&#x2395;&#x2395;&#x2395;&#x2395;&#x2395;&#x2395;&#x2395;&#x2395;&#x2395;&#x2395;&#x2395;&#x2395;&#x2395;&#x2395;</span> the girl<span style='color: red;'>.</span> a second chance <span style='color: red;'>ge⎕</span>a<span style='color: red;'> ee yg adil</span></div></span></td></tr><tr><td style='font-size: 12pt; text-align: left; font-weight: bold;'>13</td><td style='text-align: center;'><img src=\"../experiment/cache/Strange_Tales_172005/.crop/Strange_Tales_172005_12_Initial box.png\"/></td><td style='font-size: 12pt; text-align: left; '><div style='font-size: 12pt;'><strong style='color: red;'>0.84</strong><div/></td><td style='font-size: 12pt; text-align: left; '><span style='font-size: 14px;'><div style='font-family: monospace; white-space: pre-wrap;'><span style='color: red;'>Ah</span><span style='color: red;'>&#x2395;&#x2395;&#x2395;</span> girl--<span style='color: red;'>&#x2395;</span>there&#x27;s <span style='color: red;'>&#x2395;</span>othing to scream <span style='color: red;'>nt</span><span style='color: red;'>&#x2395;&#x2395;</span>t anymore<span style='color: red;'>⎕</span>.</div></span></td></tr><tr><td style='font-size: 12pt; text-align: left; font-weight: bold;'>14</td><td style='text-align: center;'><img src=\"../experiment/cache/Strange_Tales_172005/.crop/Strange_Tales_172005_13_Initial box.png\"/></td><td style='font-size: 12pt; text-align: left; '><div style='font-size: 12pt;'><strong style='color: red;'>0.93</strong><div/></td><td style='font-size: 12pt; text-align: left; '><span style='font-size: 14px;'><div style='font-family: monospace; white-space: pre-wrap;'>You&#x27;re among friends now<span style='color: red;'>.</span> you&#x27;re sa<span style='color: red;'>l</span>e<span style='color: red;'>&#x2395;</span></div></span></td></tr><tr><td style='font-size: 12pt; text-align: left; font-weight: bold;'>15</td><td style='text-align: center;'><img src=\"../experiment/cache/Strange_Tales_172005/.crop/Strange_Tales_172005_14_Initial box.png\"/></td><td style='font-size: 12pt; text-align: left; '><div style='font-size: 12pt;'><strong style='color: red;'>1.00</strong><div/></td><td style='font-size: 12pt; text-align: left; '><span style='font-size: 14px;'><div style='font-family: monospace; white-space: pre-wrap;'>Continued after next page</div></span></td></tr></table>"
      ],
      "text/plain": [
       "<IPython.core.display.HTML object>"
      ]
     },
     "metadata": {},
     "output_type": "display_data"
    }
   ],
   "source": [
    "assert method_experiment is not None\n",
    "method_experiment(display=True)\n"
   ]
  },
  {
   "cell_type": "markdown",
   "metadata": {},
   "source": [
    "or selected boxes"
   ]
  },
  {
   "cell_type": "code",
   "execution_count": null,
   "metadata": {},
   "outputs": [],
   "source": [
    "CONTEXT._reset_()\n"
   ]
  },
  {
   "cell_type": "code",
   "execution_count": null,
   "metadata": {},
   "outputs": [
    {
     "data": {
      "application/vnd.jupyter.widget-view+json": {
       "model_id": "ab55ae13c897455c86def261f1123a7c",
       "version_major": 2,
       "version_minor": 0
      },
      "text/plain": [
       "Initial box - Tesseract:   0%|          | 0/4 [00:00<?, ?it/s]"
      ]
     },
     "metadata": {},
     "output_type": "display_data"
    },
    {
     "data": {
      "text/html": [
       "<div style='font-size: 12pt;'><span style='font-family: monospace; white-space: pre-wrap;'>                    Page</span>: <strong>source/Strange_Tales_172005.jpg</strong><br/><span style='font-family: monospace; white-space: pre-wrap;'>                    Size</span>: <strong>1275x1888 px: 4.25 x 6.29 in @ 188.32 dpi</strong><br/><span style='font-family: monospace; white-space: pre-wrap;'>                     Run</span>: <strong>Tesseract-crop-post</strong><br/><span style='font-family: monospace; white-space: pre-wrap;'>                   Model</span>: <strong>Tesseract</strong><br/><span style='font-family: monospace; white-space: pre-wrap;'>             Crop Method</span>: <strong>Initial box</strong><br/><span style='font-family: monospace; white-space: pre-wrap;'>   Accuracy Mean/Trimmed</span>: <strong style='color: red;'>0.80/nan</strong></div>\n",
       "<br/>\n",
       "<table><colgroup><col style='width: auto;'/><col style='width: 373px;'/><col style='width: auto;'/><col style='width: auto;'/></colgroup><tr><th style='text-align: center; font-weight: bold;'>Box #</th><th style='text-align: center; font-weight: bold;'>Image</th><th style='text-align: center; font-weight: bold;'>Accuracy</th><th style='text-align: center; font-weight: bold;'>OCR</th></tr><tr><td style='font-size: 12pt; text-align: left; font-weight: bold;'>1</td><td style='text-align: center;'><img src=\"../experiment/cache/Strange_Tales_172005/.crop/Strange_Tales_172005_0_Initial box.png\"/></td><td style='font-size: 12pt; text-align: left; '><div style='font-size: 12pt;'><strong style='color: red;'>0.90</strong><div/></td><td style='font-size: 12pt; text-align: left; '><span style='font-size: 14px;'><div style='font-family: monospace; white-space: pre-wrap;'>E<span style='color: red;'>ne</span>o<span style='color: red;'>n</span>ered by great gnarled cypress <span style='color: red;'>j</span>r<span style='color: red;'>f</span>es, the ancient manor stands alone on the outski<span style='color: red;'>) 2</span> of <span style='color: red;'>m</span>ew <span style='color: red;'>ce </span>eans, kept tidy by a white-haired old man known only as <span style='color: red;'>b</span>amb<span style='color: red;'>s, 3</span></div></span></td></tr><tr><td style='font-size: 12pt; text-align: left; font-weight: bold;'>2</td><td style='text-align: center;'><img src=\"../experiment/cache/Strange_Tales_172005/.crop/Strange_Tales_172005_1_Initial box.png\"/></td><td style='font-size: 12pt; text-align: left; '><div style='font-size: 12pt;'><strong style='color: red;'>0.93</strong><div/></td><td style='font-size: 12pt; text-align: left; '><span style='font-size: 14px;'><div style='font-family: monospace; white-space: pre-wrap;'>The house and the old man are alike in many ways; tall, pro<span style='color: red;'>li</span>d, patient, contented always <span style='color: red;'>0</span><span style='color: red;'>&#x2395;</span> wait until<span style='color: red;'>.</span> their<span style='color: red;'>.</span> master co<span style='color: red;'>n</span>es <span style='color: red;'>m</span>ome<span style='color: red;'> ~~</span></div></span></td></tr><tr><td style='font-size: 12pt; text-align: left; font-weight: bold;'>7</td><td style='text-align: center;'><img src=\"../experiment/cache/Strange_Tales_172005/.crop/Strange_Tales_172005_6_Initial box.png\"/></td><td style='font-size: 12pt; text-align: left; '><div style='font-size: 12pt;'><strong style='color: red;'>0.56</strong><div/></td><td style='font-size: 12pt; text-align: left; '><span style='font-size: 14px;'><div style='font-family: monospace; white-space: pre-wrap;'><span style='color: red;'>£7</span><span style='color: red;'>&#x2395;&#x2395;</span> <span style='color: red;'>»</span><span style='color: red;'>&#x2395;&#x2395;&#x2395;&#x2395;&#x2395;&#x2395;&#x2395;&#x2395;&#x2395;&#x2395;&#x2395;&#x2395;&#x2395;&#x2395;&#x2395;&#x2395;&#x2395;&#x2395;&#x2395;&#x2395;&#x2395;&#x2395;&#x2395;&#x2395;&#x2395;&#x2395;&#x2395;&#x2395;&#x2395;&#x2395;&#x2395;&#x2395;&#x2395;</span> and perhaps some dry clothes<span style='color: red;'>...⎕7⎕/</span></div></span></td></tr><tr><td style='font-size: 12pt; text-align: left; font-weight: bold;'>10</td><td style='text-align: center;'><img src=\"../experiment/cache/Strange_Tales_172005/.crop/Strange_Tales_172005_9_Initial box.png\"/></td><td style='font-size: 12pt; text-align: left; '><div style='font-size: 12pt;'><strong style='color: red;'>0.80</strong><div/></td><td style='font-size: 12pt; text-align: left; '><span style='font-size: 14px;'><div style='font-family: monospace; white-space: pre-wrap;'><span style='color: red;'>Fa</span>s <span style='color: red;'>o</span>u<span style='color: red;'>l</span>ckly as <span style='color: red;'>t</span> ca<span style='color: red;'>&#x2395;</span>, master<span style='color: red;'>.</span></div></span></td></tr></table>"
      ],
      "text/plain": [
       "<IPython.core.display.HTML object>"
      ]
     },
     "metadata": {},
     "output_type": "display_data"
    }
   ],
   "source": [
    "method_experiment = ExperimentOCR.from_method(CONTEXT, IMAGE_CONTEXT.image_idx, RUN_NAME, CropMethod.INITIAL_BOX)\n",
    "assert method_experiment is not None\n",
    "method_experiment([0, 1, 6, 9], display=True)\n"
   ]
  },
  {
   "cell_type": "markdown",
   "metadata": {},
   "source": [
    "# Full page results\n",
    "> all methods on all boxes"
   ]
  },
  {
   "cell_type": "code",
   "execution_count": null,
   "metadata": {},
   "outputs": [],
   "source": [
    "CONTEXT._reset_()\n"
   ]
  },
  {
   "cell_type": "code",
   "execution_count": null,
   "metadata": {},
   "outputs": [],
   "source": [
    "image_experiment = ExperimentOCR(IMAGE_CONTEXT, RUN_NAME)\n"
   ]
  },
  {
   "cell_type": "code",
   "execution_count": null,
   "metadata": {},
   "outputs": [
    {
     "data": {
      "application/vnd.jupyter.widget-view+json": {
       "model_id": "4857f0caca954e769faac39cff5d86b0",
       "version_major": 2,
       "version_minor": 0
      },
      "text/plain": [
       "Initial box - Tesseract:   0%|          | 0/15 [00:00<?, ?it/s]"
      ]
     },
     "metadata": {},
     "output_type": "display_data"
    },
    {
     "data": {
      "text/html": [
       "<div style='font-size: 12pt;'><span style='font-family: monospace; white-space: pre-wrap;'>                    Page</span>: <strong>source/Strange_Tales_172005.jpg</strong><br/><span style='font-family: monospace; white-space: pre-wrap;'>                    Size</span>: <strong>1275x1888 px: 4.25 x 6.29 in @ 188.32 dpi</strong><br/><span style='font-family: monospace; white-space: pre-wrap;'>                     Run</span>: <strong>Tesseract-crop-post</strong><br/><span style='font-family: monospace; white-space: pre-wrap;'>                   Model</span>: <strong>Tesseract</strong><br/><span style='font-family: monospace; white-space: pre-wrap;'>             Crop Method</span>: <strong>Initial box</strong><br/><span style='font-family: monospace; white-space: pre-wrap;'>   Accuracy Mean/Trimmed</span>: <strong style='color: red;'>0.79/0.80</strong></div>\n",
       "<br/>\n",
       "<table><colgroup><col style='width: auto;'/><col style='width: 380px;'/><col style='width: auto;'/><col style='width: auto;'/></colgroup><tr><th style='text-align: center; font-weight: bold;'>Box #</th><th style='text-align: center; font-weight: bold;'>Image</th><th style='text-align: center; font-weight: bold;'>Accuracy</th><th style='text-align: center; font-weight: bold;'>OCR</th></tr><tr><td style='font-size: 12pt; text-align: left; font-weight: bold;'>1</td><td style='text-align: center;'><img src=\"../experiment/cache/Strange_Tales_172005/.crop/Strange_Tales_172005_0_Initial box.png\"/></td><td style='font-size: 12pt; text-align: left; '><div style='font-size: 12pt;'><strong style='color: red;'>0.90</strong><div/></td><td style='font-size: 12pt; text-align: left; '><span style='font-size: 14px;'><div style='font-family: monospace; white-space: pre-wrap;'>E<span style='color: red;'>ne</span>o<span style='color: red;'>n</span>ered by great gnarled cypress <span style='color: red;'>j</span>r<span style='color: red;'>f</span>es, the ancient manor stands alone on the outski<span style='color: red;'>) 2</span> of <span style='color: red;'>m</span>ew <span style='color: red;'>ce </span>eans, kept tidy by a white-haired old man known only as <span style='color: red;'>b</span>amb<span style='color: red;'>s, 3</span></div></span></td></tr><tr><td style='font-size: 12pt; text-align: left; font-weight: bold;'>2</td><td style='text-align: center;'><img src=\"../experiment/cache/Strange_Tales_172005/.crop/Strange_Tales_172005_1_Initial box.png\"/></td><td style='font-size: 12pt; text-align: left; '><div style='font-size: 12pt;'><strong style='color: red;'>0.93</strong><div/></td><td style='font-size: 12pt; text-align: left; '><span style='font-size: 14px;'><div style='font-family: monospace; white-space: pre-wrap;'>The house and the old man are alike in many ways; tall, pro<span style='color: red;'>li</span>d, patient, contented always <span style='color: red;'>0</span><span style='color: red;'>&#x2395;</span> wait until<span style='color: red;'>.</span> their<span style='color: red;'>.</span> master co<span style='color: red;'>n</span>es <span style='color: red;'>m</span>ome<span style='color: red;'> ~~</span></div></span></td></tr><tr><td style='font-size: 12pt; text-align: left; font-weight: bold;'>3</td><td style='text-align: center;'><img src=\"../experiment/cache/Strange_Tales_172005/.crop/Strange_Tales_172005_2_Initial box.png\"/></td><td style='font-size: 12pt; text-align: left; '><div style='font-size: 12pt;'><strong style='color: red;'>0.70</strong><div/></td><td style='font-size: 12pt; text-align: left; '><span style='font-size: 14px;'><div style='font-family: monospace; white-space: pre-wrap;'><span style='color: red;'>“a</span>nd one in <span style='color: red;'>&#x2395;</span>ee<span style='color: red;'>&#x2395;&#x2395;&#x2395;&#x2395;&#x2395;&#x2395;&#x2395;&#x2395;&#x2395;&#x2395;&#x2395;&#x2395;&#x2395;&#x2395;&#x2395;&#x2395;&#x2395;&#x2395;</span> would appear.</div></span></td></tr><tr><td style='font-size: 12pt; text-align: left; font-weight: bold;'>4</td><td style='text-align: center;'><img src=\"../experiment/cache/Strange_Tales_172005/.crop/Strange_Tales_172005_3_Initial box.png\"/></td><td style='font-size: 12pt; text-align: left; '><div style='font-size: 12pt;'><strong style='color: red;'>0.62</strong><div/></td><td style='font-size: 12pt; text-align: left; '><span style='font-size: 14px;'><div style='font-family: monospace; white-space: pre-wrap;'><span style='color: red;'>Re b</span>amb<span style='color: red;'>li</span>-<span style='color: red;'>~</span> we have a<span style='color: red;'>&#x2395;&#x2395;&#x2395;&#x2395;&#x2395;&#x2395;&#x2395;</span></div></span></td></tr><tr><td style='font-size: 12pt; text-align: left; font-weight: bold;'>5</td><td style='text-align: center;'><img src=\"../experiment/cache/Strange_Tales_172005/.crop/Strange_Tales_172005_4_Initial box.png\"/></td><td style='font-size: 12pt; text-align: left; '><div style='font-size: 12pt;'><strong style='color: red;'>0.70</strong><div/></td><td style='font-size: 12pt; text-align: left; '><span style='font-size: 14px;'><div style='font-family: monospace; white-space: pre-wrap;'><span style='color: red;'>T</span><span style='color: red;'>&#x2395;&#x2395;&#x2395;&#x2395;&#x2395;&#x2395;</span>onight, he comes <span style='color: red;'>no</span>ost<span style='color: red;'>&#x2395;&#x2395;&#x2395;&#x2395;&#x2395;&#x2395;&#x2395;&#x2395;&#x2395;&#x2395;</span> slamming open the <span style='color: red;'>c</span>aken<span style='color: red;'>&#x2395;&#x2395;&#x2395;&#x2395;&#x2395;&#x2395;&#x2395;&#x2395;&#x2395;&#x2395;&#x2395;&#x2395;&#x2395;</span></div></span></td></tr><tr><td style='font-size: 12pt; text-align: left; font-weight: bold;'>6</td><td style='text-align: center;'><img src=\"../experiment/cache/Strange_Tales_172005/.crop/Strange_Tales_172005_5_Initial box.png\"/></td><td style='font-size: 12pt; text-align: left; '><div style='font-size: 12pt;'><strong style='color: red;'>0.82</strong><div/></td><td style='font-size: 12pt; text-align: left; '><span style='font-size: 14px;'><div style='font-family: monospace; white-space: pre-wrap;'>Tell me<span style='color: red;'>&#x2395;</span> <span style='color: red;'>n</span>aster<span style='color: red;'>.</span><span style='color: red;'>&#x2395;</span> how may <span style='color: red;'>b</span>amb<span style='color: red;'>li</span> serve<span style='color: red;'> 7</span></div></span></td></tr><tr><td style='font-size: 12pt; text-align: left; font-weight: bold;'>7</td><td style='text-align: center;'><img src=\"../experiment/cache/Strange_Tales_172005/.crop/Strange_Tales_172005_6_Initial box.png\"/></td><td style='font-size: 12pt; text-align: left; '><div style='font-size: 12pt;'><strong style='color: red;'>0.56</strong><div/></td><td style='font-size: 12pt; text-align: left; '><span style='font-size: 14px;'><div style='font-family: monospace; white-space: pre-wrap;'><span style='color: red;'>£7</span><span style='color: red;'>&#x2395;&#x2395;</span> <span style='color: red;'>»</span><span style='color: red;'>&#x2395;&#x2395;&#x2395;&#x2395;&#x2395;&#x2395;&#x2395;&#x2395;&#x2395;&#x2395;&#x2395;&#x2395;&#x2395;&#x2395;&#x2395;&#x2395;&#x2395;&#x2395;&#x2395;&#x2395;&#x2395;&#x2395;&#x2395;&#x2395;&#x2395;&#x2395;&#x2395;&#x2395;&#x2395;&#x2395;&#x2395;&#x2395;&#x2395;</span> and perhaps some dry clothes<span style='color: red;'>...⎕7⎕/</span></div></span></td></tr><tr><td style='font-size: 12pt; text-align: left; font-weight: bold;'>8</td><td style='text-align: center;'><img src=\"../experiment/cache/Strange_Tales_172005/.crop/Strange_Tales_172005_7_Initial box.png\"/></td><td style='font-size: 12pt; text-align: left; '><div style='font-size: 12pt;'><strong style='color: red;'>0.81</strong><div/></td><td style='font-size: 12pt; text-align: left; '><span style='font-size: 14px;'><div style='font-family: monospace; white-space: pre-wrap;'>The<span style='color: red;'>&#x2395;&#x2395;&#x2395;&#x2395;&#x2395;&#x2395;&#x2395;&#x2395;</span> the old man&#x27;<span style='color: red;'>&#x2395;&#x2395;&#x2395;&#x2395;&#x2395;&#x2395;&#x2395;&#x2395;&#x2395;&#x2395;</span>s fades down the hall as...<span style='color: red;'>⎕7</span></div></span></td></tr><tr><td style='font-size: 12pt; text-align: left; font-weight: bold;'>9</td><td style='text-align: center;'><img src=\"../experiment/cache/Strange_Tales_172005/.crop/Strange_Tales_172005_8_Initial box.png\"/></td><td style='font-size: 12pt; text-align: left; '><div style='font-size: 12pt;'><strong style='color: red;'>0.85</strong><div/></td><td style='font-size: 12pt; text-align: left; '><span style='font-size: 14px;'><div style='font-family: monospace; white-space: pre-wrap;'>How curious the <span style='color: red;'>4⎕fate.⎕</span>whims of <span style='color: red;'>h</span><span style='color: red;'>&#x2395;&#x2395;&#x2395;&#x2395;&#x2395;&#x2395;</span>ad <span style='color: red;'>t</span> not chanced to stroll along the river <span style='color: red;'>yl⎕</span>tonight<span style='color: red;'> ==</span></div></span></td></tr><tr><td style='font-size: 12pt; text-align: left; font-weight: bold;'>10</td><td style='text-align: center;'><img src=\"../experiment/cache/Strange_Tales_172005/.crop/Strange_Tales_172005_9_Initial box.png\"/></td><td style='font-size: 12pt; text-align: left; '><div style='font-size: 12pt;'><strong style='color: red;'>0.80</strong><div/></td><td style='font-size: 12pt; text-align: left; '><span style='font-size: 14px;'><div style='font-family: monospace; white-space: pre-wrap;'><span style='color: red;'>Fa</span>s <span style='color: red;'>o</span>u<span style='color: red;'>l</span>ckly as <span style='color: red;'>t</span> ca<span style='color: red;'>&#x2395;</span>, master<span style='color: red;'>.</span></div></span></td></tr><tr><td style='font-size: 12pt; text-align: left; font-weight: bold;'>11</td><td style='text-align: center;'><img src=\"../experiment/cache/Strange_Tales_172005/.crop/Strange_Tales_172005_10_Initial box.png\"/></td><td style='font-size: 12pt; text-align: left; '><div style='font-size: 12pt;'><strong style='color: red;'>0.91</strong><div/></td><td style='font-size: 12pt; text-align: left; '><span style='font-size: 14px;'><div style='font-family: monospace; white-space: pre-wrap;'><span style='color: red;'>&lt;</span><span style='color: red;'>&#x2395;</span>the girl would <span style='color: red;'>-⎕</span>most s<span style='color: red;'>li</span>rely be dead by now.</div></span></td></tr><tr><td style='font-size: 12pt; text-align: left; font-weight: bold;'>12</td><td style='text-align: center;'><img src=\"../experiment/cache/Strange_Tales_172005/.crop/Strange_Tales_172005_11_Initial box.png\"/></td><td style='font-size: 12pt; text-align: left; '><div style='font-size: 12pt;'><strong style='color: red;'>0.47</strong><div/></td><td style='font-size: 12pt; text-align: left; '><span style='font-size: 14px;'><div style='font-family: monospace; white-space: pre-wrap;'><span style='color: red;'>A</span><span style='color: red;'>&#x2395;&#x2395;&#x2395;&#x2395;&#x2395;&#x2395;&#x2395;&#x2395;&#x2395;&#x2395;&#x2395;&#x2395;&#x2395;&#x2395;&#x2395;&#x2395;&#x2395;&#x2395;&#x2395;&#x2395;&#x2395;&#x2395;&#x2395;&#x2395;</span>th<span style='color: red;'>&#x2395;&#x2395;&#x2395;&#x2395;&#x2395;&#x2395;&#x2395;&#x2395;&#x2395;&#x2395;&#x2395;&#x2395;&#x2395;&#x2395;&#x2395;&#x2395;&#x2395;&#x2395;&#x2395;&#x2395;&#x2395;</span> the girl<span style='color: red;'>.</span> a second chance <span style='color: red;'>ge⎕</span>a<span style='color: red;'> ee yg adil</span></div></span></td></tr><tr><td style='font-size: 12pt; text-align: left; font-weight: bold;'>13</td><td style='text-align: center;'><img src=\"../experiment/cache/Strange_Tales_172005/.crop/Strange_Tales_172005_12_Initial box.png\"/></td><td style='font-size: 12pt; text-align: left; '><div style='font-size: 12pt;'><strong style='color: red;'>0.84</strong><div/></td><td style='font-size: 12pt; text-align: left; '><span style='font-size: 14px;'><div style='font-family: monospace; white-space: pre-wrap;'><span style='color: red;'>Ah</span><span style='color: red;'>&#x2395;&#x2395;&#x2395;</span> girl--<span style='color: red;'>&#x2395;</span>there&#x27;s <span style='color: red;'>&#x2395;</span>othing to scream <span style='color: red;'>nt</span><span style='color: red;'>&#x2395;&#x2395;</span>t anymore<span style='color: red;'>⎕</span>.</div></span></td></tr><tr><td style='font-size: 12pt; text-align: left; font-weight: bold;'>14</td><td style='text-align: center;'><img src=\"../experiment/cache/Strange_Tales_172005/.crop/Strange_Tales_172005_13_Initial box.png\"/></td><td style='font-size: 12pt; text-align: left; '><div style='font-size: 12pt;'><strong style='color: red;'>0.93</strong><div/></td><td style='font-size: 12pt; text-align: left; '><span style='font-size: 14px;'><div style='font-family: monospace; white-space: pre-wrap;'>You&#x27;re among friends now<span style='color: red;'>.</span> you&#x27;re sa<span style='color: red;'>l</span>e<span style='color: red;'>&#x2395;</span></div></span></td></tr><tr><td style='font-size: 12pt; text-align: left; font-weight: bold;'>15</td><td style='text-align: center;'><img src=\"../experiment/cache/Strange_Tales_172005/.crop/Strange_Tales_172005_14_Initial box.png\"/></td><td style='font-size: 12pt; text-align: left; '><div style='font-size: 12pt;'><strong style='color: red;'>1.00</strong><div/></td><td style='font-size: 12pt; text-align: left; '><span style='font-size: 14px;'><div style='font-family: monospace; white-space: pre-wrap;'>Continued after next page</div></span></td></tr></table>"
      ],
      "text/plain": [
       "<IPython.core.display.HTML object>"
      ]
     },
     "metadata": {},
     "output_type": "display_data"
    }
   ],
   "source": [
    "method = CropMethod.INITIAL_BOX\n",
    "# method = CropMethod.DEFAULT\n",
    "# method = CropMethod.PADDED_4\n",
    "# method = CropMethod.PADDED_8\n",
    "# method = CropMethod.EXTRACTED_INIT_BOX\n",
    "# method = CropMethod.PAD_8_FRACT_0_5\n",
    "# method = CropMethod.PAD_8_FRACT_0_2\n",
    "\n",
    "# image_experiment.method_experiment(CropMethod.INITIAL_BOX).results()\n",
    "initial_box_exp = image_experiment.method_experiment(CropMethod.INITIAL_BOX)\n",
    "initial_box_exp(display=True)\n"
   ]
  },
  {
   "cell_type": "markdown",
   "metadata": {},
   "source": [
    "Other method"
   ]
  },
  {
   "cell_type": "code",
   "execution_count": null,
   "metadata": {},
   "outputs": [
    {
     "data": {
      "application/vnd.jupyter.widget-view+json": {
       "model_id": "3c37d1f599594764a7cfd591a0540f7d",
       "version_major": 2,
       "version_minor": 0
      },
      "text/plain": [
       "Default - Tesseract:   0%|          | 0/15 [00:00<?, ?it/s]"
      ]
     },
     "metadata": {},
     "output_type": "display_data"
    },
    {
     "data": {
      "text/plain": [
       "[ResultOCR#block 00: 0.85||Eneowered by great gnarled cypress jrfes, the ancient manor ! alone on the eit of mew rce: eans, kept tipy by a white-haired ao han known only as,\n",
       " ResultOCR#block 01: 0.96||The house and the old man are alike in many ways; tall, proud, patient, conten tel always to wait until their. master cones home ~~,\n",
       " ResultOCR#block 02: 0.74||And one in ee would appear.,\n",
       " ResultOCR#block 03: 0.41||Rir guest.,\n",
       " ResultOCR#block 04: 0.59||=~and tonight, he comes host sane oo,\n",
       " ResultOCR#block 05: 0.78||Tell me masts - how may bambli . serve 7 _,\n",
       " ResultOCR#block 06: 0.48||R warm, bambli-~ and perhaps,\n",
       " ResultOCR#block 07: 0.76||The the old mans fades down the hall s.00,\n",
       " ResultOCR#block 08: 0.92||How curious the a whims of fate . had t not chanced to stroll along the river tonight~~ >,\n",
       " ResultOCR#block 09: 0.50||Aulckly “master as t can,,\n",
       " ResultOCR#block 10: 0.94||<the girl would - most surely be dead by now.,\n",
       " ResultOCR#block 11: 0.50||Ath - the girl. a second chance ee oo tr tt,\n",
       " ResultOCR#block 12: 0.84||Oe girl--there's othing to scream nt anymore. 4,\n",
       " ResultOCR#block 13: 0.96||You're among friends now. youre safe!,\n",
       " ResultOCR#block 14: 1.00||Continued after next page]"
      ]
     },
     "execution_count": null,
     "metadata": {},
     "output_type": "execute_result"
    }
   ],
   "source": [
    "image_experiment.method_experiment(CropMethod.DEFAULT).results()"
   ]
  },
  {
   "cell_type": "markdown",
   "metadata": {},
   "source": [
    "All methods"
   ]
  },
  {
   "cell_type": "code",
   "execution_count": null,
   "metadata": {},
   "outputs": [
    {
     "data": {
      "application/vnd.jupyter.widget-view+json": {
       "model_id": "8a16692cf7444ca3902e24b3073c6a62",
       "version_major": 2,
       "version_minor": 0
      },
      "text/plain": [
       "Default, grey pad - Tesseract:   0%|          | 0/15 [00:00<?, ?it/s]"
      ]
     },
     "metadata": {},
     "output_type": "display_data"
    },
    {
     "data": {
      "application/vnd.jupyter.widget-view+json": {
       "model_id": "ebf9b5427d8842f3acaa36756d142090",
       "version_major": 2,
       "version_minor": 0
      },
      "text/plain": [
       "Padded 4px - Tesseract:   0%|          | 0/15 [00:00<?, ?it/s]"
      ]
     },
     "metadata": {},
     "output_type": "display_data"
    },
    {
     "data": {
      "application/vnd.jupyter.widget-view+json": {
       "model_id": "11f5df9b5fe74104bed8698d63a230d8",
       "version_major": 2,
       "version_minor": 0
      },
      "text/plain": [
       "Padded 8px - Tesseract:   0%|          | 0/15 [00:00<?, ?it/s]"
      ]
     },
     "metadata": {},
     "output_type": "display_data"
    },
    {
     "data": {
      "application/vnd.jupyter.widget-view+json": {
       "model_id": "1942d48087c84edba235c0bf5b1c36c9",
       "version_major": 2,
       "version_minor": 0
      },
      "text/plain": [
       "Extracted, init box - Tesseract:   0%|          | 0/15 [00:00<?, ?it/s]"
      ]
     },
     "metadata": {},
     "output_type": "display_data"
    },
    {
     "data": {
      "application/vnd.jupyter.widget-view+json": {
       "model_id": "6b78a67da62c40ae86efb0b2a1f7f627",
       "version_major": 2,
       "version_minor": 0
      },
      "text/plain": [
       "Padded 4, extracted - Tesseract:   0%|          | 0/15 [00:00<?, ?it/s]"
      ]
     },
     "metadata": {},
     "output_type": "display_data"
    },
    {
     "data": {
      "application/vnd.jupyter.widget-view+json": {
       "model_id": "21848d76a64f4459b3af67e74ee70e76",
       "version_major": 2,
       "version_minor": 0
      },
      "text/plain": [
       "Padded 8, extracted - Tesseract:   0%|          | 0/15 [00:00<?, ?it/s]"
      ]
     },
     "metadata": {},
     "output_type": "display_data"
    },
    {
     "data": {
      "application/vnd.jupyter.widget-view+json": {
       "model_id": "3a07d4089f564a14a4aa192fafe02948",
       "version_major": 2,
       "version_minor": 0
      },
      "text/plain": [
       "Padded 8, dilation 1 - Tesseract:   0%|          | 0/15 [00:00<?, ?it/s]"
      ]
     },
     "metadata": {},
     "output_type": "display_data"
    },
    {
     "data": {
      "application/vnd.jupyter.widget-view+json": {
       "model_id": "19a43022c8a84ed285d615b376712b9e",
       "version_major": 2,
       "version_minor": 0
      },
      "text/plain": [
       "Pad 8, fract. 0.5 - Tesseract:   0%|          | 0/15 [00:00<?, ?it/s]"
      ]
     },
     "metadata": {},
     "output_type": "display_data"
    },
    {
     "data": {
      "application/vnd.jupyter.widget-view+json": {
       "model_id": "780f033b5a4b42e2abde436f53357a1a",
       "version_major": 2,
       "version_minor": 0
      },
      "text/plain": [
       "Pad 8, fract. 0.2 - Tesseract:   0%|          | 0/15 [00:00<?, ?it/s]"
      ]
     },
     "metadata": {},
     "output_type": "display_data"
    },
    {
     "data": {
      "image/png": "[encoded data removed]",
      "text/plain": [
       "<Figure size 1000x500 with 1 Axes>"
      ]
     },
     "metadata": {},
     "output_type": "display_data"
    }
   ],
   "source": [
    "image_experiment.perform_methods(plot_acc=True)\n"
   ]
  },
  {
   "cell_type": "code",
   "execution_count": null,
   "metadata": {},
   "outputs": [
    {
     "data": {
      "text/html": [
       "<pre style=\"white-space:pre;overflow-x:auto;line-height:normal;font-family:Menlo,'DejaVu Sans Mono',consolas,'Courier New',monospace\">---------- Initial box ----------\n",
       "ResultOCR#block <span style=\"color: #008080; text-decoration-color: #008080; font-weight: bold\">00</span>: <span style=\"color: #008080; text-decoration-color: #008080; font-weight: bold\">0.90</span>||Eneonered by great gnarled cypress jrfes, the ancient manor stands alone on the outski<span style=\"font-weight: bold\">)</span> <span style=\"color: #008080; text-decoration-color: #008080; font-weight: bold\">2</span> of mew ce eans, kept tidy by a white-haired old man known only as bambs, <span style=\"color: #008080; text-decoration-color: #008080; font-weight: bold\">3</span>\n",
       "ResultOCR#block <span style=\"color: #008080; text-decoration-color: #008080; font-weight: bold\">01</span>: <span style=\"color: #008080; text-decoration-color: #008080; font-weight: bold\">0.93</span>||The house and the old man are alike in many ways; tall, prolid, patient, contented always <span style=\"color: #008080; text-decoration-color: #008080; font-weight: bold\">0</span> wait until. their. master cones mome ~~\n",
       "ResultOCR#block <span style=\"color: #008080; text-decoration-color: #008080; font-weight: bold\">02</span>: <span style=\"color: #008080; text-decoration-color: #008080; font-weight: bold\">0.70</span>||“and one in ee would appear.\n",
       "ResultOCR#block <span style=\"color: #008080; text-decoration-color: #008080; font-weight: bold\">03</span>: <span style=\"color: #008080; text-decoration-color: #008080; font-weight: bold\">0.62</span>||Re bambli-~ we have a\n",
       "ResultOCR#block <span style=\"color: #008080; text-decoration-color: #008080; font-weight: bold\">04</span>: <span style=\"color: #008080; text-decoration-color: #008080; font-weight: bold\">0.70</span>||Tonight, he comes noost slamming open the caken\n",
       "ResultOCR#block <span style=\"color: #008080; text-decoration-color: #008080; font-weight: bold\">05</span>: <span style=\"color: #008080; text-decoration-color: #008080; font-weight: bold\">0.82</span>||Tell me naster. how may bambli serve <span style=\"color: #008080; text-decoration-color: #008080; font-weight: bold\">7</span>\n",
       "ResultOCR#block <span style=\"color: #008080; text-decoration-color: #008080; font-weight: bold\">06</span>: <span style=\"color: #008080; text-decoration-color: #008080; font-weight: bold\">0.56</span>||£<span style=\"color: #008080; text-decoration-color: #008080; font-weight: bold\">7</span> » and perhaps some dry clothes<span style=\"color: #808000; text-decoration-color: #808000\">...</span> <span style=\"color: #008080; text-decoration-color: #008080; font-weight: bold\">7</span> <span style=\"color: #800080; text-decoration-color: #800080\">/</span>\n",
       "ResultOCR#block <span style=\"color: #008080; text-decoration-color: #008080; font-weight: bold\">07</span>: <span style=\"color: #008080; text-decoration-color: #008080; font-weight: bold\">0.81</span>||The the old man's fades down the hall as<span style=\"color: #808000; text-decoration-color: #808000\">...</span> <span style=\"color: #008080; text-decoration-color: #008080; font-weight: bold\">7</span>\n",
       "ResultOCR#block <span style=\"color: #008080; text-decoration-color: #008080; font-weight: bold\">08</span>: <span style=\"color: #008080; text-decoration-color: #008080; font-weight: bold\">0.85</span>||How curious the <span style=\"color: #008080; text-decoration-color: #008080; font-weight: bold\">4</span> fate. whims of had t not chanced to stroll along the river yl tonight ==\n",
       "ResultOCR#block <span style=\"color: #008080; text-decoration-color: #008080; font-weight: bold\">09</span>: <span style=\"color: #008080; text-decoration-color: #008080; font-weight: bold\">0.80</span>||Fas oulckly as t ca, master.\n",
       "ResultOCR#block <span style=\"color: #008080; text-decoration-color: #008080; font-weight: bold\">10</span>: <span style=\"color: #008080; text-decoration-color: #008080; font-weight: bold\">0.91</span>||&lt;the girl would - most slirely be dead by now.\n",
       "ResultOCR#block <span style=\"color: #008080; text-decoration-color: #008080; font-weight: bold\">11</span>: <span style=\"color: #008080; text-decoration-color: #008080; font-weight: bold\">0.47</span>||Ath the girl. a second chance ge a ee yg adil\n",
       "ResultOCR#block <span style=\"color: #008080; text-decoration-color: #008080; font-weight: bold\">12</span>: <span style=\"color: #008080; text-decoration-color: #008080; font-weight: bold\">0.84</span>||Ah girl--there's othing to scream ntt anymore .\n",
       "ResultOCR#block <span style=\"color: #008080; text-decoration-color: #008080; font-weight: bold\">13</span>: <span style=\"color: #008080; text-decoration-color: #008080; font-weight: bold\">0.93</span>||You're among friends now. you're sale\n",
       "ResultOCR#block <span style=\"color: #008080; text-decoration-color: #008080; font-weight: bold\">14</span>: <span style=\"color: #008080; text-decoration-color: #008080; font-weight: bold\">1.00</span>||Continued after next page\n",
       "\n",
       " ---------- Default ----------\n",
       "ResultOCR#block <span style=\"color: #008080; text-decoration-color: #008080; font-weight: bold\">00</span>: <span style=\"color: #008080; text-decoration-color: #008080; font-weight: bold\">0.85</span>||Eneowered by great gnarled cypress jrfes, the ancient manor ! alone on the eit of mew rce: eans, kept tipy by a white-haired ao han known only as\n",
       "ResultOCR#block <span style=\"color: #008080; text-decoration-color: #008080; font-weight: bold\">01</span>: <span style=\"color: #008080; text-decoration-color: #008080; font-weight: bold\">0.96</span>||The house and the old man are alike in many ways; tall, proud, patient, conten tel always to wait until their. master cones home ~~\n",
       "ResultOCR#block <span style=\"color: #008080; text-decoration-color: #008080; font-weight: bold\">02</span>: <span style=\"color: #008080; text-decoration-color: #008080; font-weight: bold\">0.74</span>||And one in ee would appear.\n",
       "ResultOCR#block <span style=\"color: #008080; text-decoration-color: #008080; font-weight: bold\">03</span>: <span style=\"color: #008080; text-decoration-color: #008080; font-weight: bold\">0.41</span>||Rir guest.\n",
       "ResultOCR#block <span style=\"color: #008080; text-decoration-color: #008080; font-weight: bold\">04</span>: <span style=\"color: #008080; text-decoration-color: #008080; font-weight: bold\">0.59</span>||=~and tonight, he comes host sane oo\n",
       "ResultOCR#block <span style=\"color: #008080; text-decoration-color: #008080; font-weight: bold\">05</span>: <span style=\"color: #008080; text-decoration-color: #008080; font-weight: bold\">0.78</span>||Tell me masts - how may bambli . serve <span style=\"color: #008080; text-decoration-color: #008080; font-weight: bold\">7</span> _\n",
       "ResultOCR#block <span style=\"color: #008080; text-decoration-color: #008080; font-weight: bold\">06</span>: <span style=\"color: #008080; text-decoration-color: #008080; font-weight: bold\">0.48</span>||R warm, bambli-~ and perhaps\n",
       "ResultOCR#block <span style=\"color: #008080; text-decoration-color: #008080; font-weight: bold\">07</span>: <span style=\"color: #008080; text-decoration-color: #008080; font-weight: bold\">0.76</span>||The the old mans fades down the hall s.<span style=\"color: #008080; text-decoration-color: #008080; font-weight: bold\">00</span>\n",
       "ResultOCR#block <span style=\"color: #008080; text-decoration-color: #008080; font-weight: bold\">08</span>: <span style=\"color: #008080; text-decoration-color: #008080; font-weight: bold\">0.92</span>||How curious the a whims of fate . had t not chanced to stroll along the river tonight~~ &gt;\n",
       "ResultOCR#block <span style=\"color: #008080; text-decoration-color: #008080; font-weight: bold\">09</span>: <span style=\"color: #008080; text-decoration-color: #008080; font-weight: bold\">0.50</span>||Aulckly “master as t can,\n",
       "ResultOCR#block <span style=\"color: #008080; text-decoration-color: #008080; font-weight: bold\">10</span>: <span style=\"color: #008080; text-decoration-color: #008080; font-weight: bold\">0.94</span>||&lt;the girl would - most surely be dead by now.\n",
       "ResultOCR#block <span style=\"color: #008080; text-decoration-color: #008080; font-weight: bold\">11</span>: <span style=\"color: #008080; text-decoration-color: #008080; font-weight: bold\">0.50</span>||Ath - the girl. a second chance ee oo tr tt\n",
       "ResultOCR#block <span style=\"color: #008080; text-decoration-color: #008080; font-weight: bold\">12</span>: <span style=\"color: #008080; text-decoration-color: #008080; font-weight: bold\">0.84</span>||Oe girl--there's othing to scream nt anymore. <span style=\"color: #008080; text-decoration-color: #008080; font-weight: bold\">4</span>\n",
       "ResultOCR#block <span style=\"color: #008080; text-decoration-color: #008080; font-weight: bold\">13</span>: <span style=\"color: #008080; text-decoration-color: #008080; font-weight: bold\">0.96</span>||You're among friends now. youre safe!\n",
       "ResultOCR#block <span style=\"color: #008080; text-decoration-color: #008080; font-weight: bold\">14</span>: <span style=\"color: #008080; text-decoration-color: #008080; font-weight: bold\">1.00</span>||Continued after next page\n",
       "\n",
       " ---------- Default, grey pad ----------\n",
       "ResultOCR#block <span style=\"color: #008080; text-decoration-color: #008080; font-weight: bold\">00</span>: <span style=\"color: #008080; text-decoration-color: #008080; font-weight: bold\">0.95</span>||Enbowered by great gnarled cypress trees, the ancient manor stands alone on the outskirts of new orleans, kept tipy by a white-haired old man known only as\n",
       "ResultOCR#block <span style=\"color: #008080; text-decoration-color: #008080; font-weight: bold\">01</span>: <span style=\"color: #008080; text-decoration-color: #008080; font-weight: bold\">0.96</span>||The house and the old man are alike in many ways; tall, prolid, patient, contented always to wait until their. * master cones home ~-\n",
       "ResultOCR#block <span style=\"color: #008080; text-decoration-color: #008080; font-weight: bold\">02</span>: <span style=\"color: #008080; text-decoration-color: #008080; font-weight: bold\">0.94</span>||“and one in &gt; need of some help, it would appear .\n",
       "ResultOCR#block <span style=\"color: #008080; text-decoration-color: #008080; font-weight: bold\">03</span>: <span style=\"color: #008080; text-decoration-color: #008080; font-weight: bold\">0.88</span>||\" bambl-- we have a guest.\n",
       "ResultOCR#block <span style=\"color: #008080; text-decoration-color: #008080; font-weight: bold\">04</span>: <span style=\"color: #008080; text-decoration-color: #008080; font-weight: bold\">0.72</span>||~~and tonight, he comes urgently, slanming open\n",
       "ResultOCR#block <span style=\"color: #008080; text-decoration-color: #008080; font-weight: bold\">05</span>: <span style=\"color: #008080; text-decoration-color: #008080; font-weight: bold\">0.86</span>||Tell me, master: how may bambli serve <span style=\"color: #008080; text-decoration-color: #008080; font-weight: bold\">7</span>\n",
       "ResultOCR#block <span style=\"color: #008080; text-decoration-color: #008080; font-weight: bold\">06</span>: <span style=\"color: #008080; text-decoration-color: #008080; font-weight: bold\">0.90</span>||Some blankets to keep her. warm, bambli-- and perhaps some dry \\ clothes-<span style=\"color: #008080; text-decoration-color: #008080; font-weight: bold\">-7</span> <span style=\"color: #800080; text-decoration-color: #800080\">/</span><span style=\"color: #ff00ff; text-decoration-color: #ff00ff\">.</span>\n",
       "ResultOCR#block <span style=\"color: #008080; text-decoration-color: #008080; font-weight: bold\">07</span>: <span style=\"color: #008080; text-decoration-color: #008080; font-weight: bold\">0.06</span>||As.\n",
       "ResultOCR#block <span style=\"color: #008080; text-decoration-color: #008080; font-weight: bold\">08</span>: <span style=\"color: #008080; text-decoration-color: #008080; font-weight: bold\">0.91</span>||How curious the d 7e . whims of fa; had i not chanced to stroll along the river tonight--\n",
       "ResultOCR#block <span style=\"color: #008080; text-decoration-color: #008080; font-weight: bold\">09</span>: <span style=\"color: #008080; text-decoration-color: #008080; font-weight: bold\">0.55</span>||Ickl as t can\n",
       "ResultOCR#block <span style=\"color: #008080; text-decoration-color: #008080; font-weight: bold\">10</span>: <span style=\"color: #008080; text-decoration-color: #008080; font-weight: bold\">0.00</span>||\n",
       "ResultOCR#block <span style=\"color: #008080; text-decoration-color: #008080; font-weight: bold\">11</span>: <span style=\"color: #008080; text-decoration-color: #008080; font-weight: bold\">0.85</span>||Ghede has been generous. the death god has gen + the girl. a second chance te oe ato\" pd ate\n",
       "ResultOCR#block <span style=\"color: #008080; text-decoration-color: #008080; font-weight: bold\">12</span>: <span style=\"color: #008080; text-decoration-color: #008080; font-weight: bold\">0.95</span>||Easy, girl--there's | nothing to scream about anyaore.\n",
       "ResultOCR#block <span style=\"color: #008080; text-decoration-color: #008080; font-weight: bold\">13</span>: <span style=\"color: #008080; text-decoration-color: #008080; font-weight: bold\">0.97</span>||You're among friends now. you're safe!\n",
       "ResultOCR#block <span style=\"color: #008080; text-decoration-color: #008080; font-weight: bold\">14</span>: <span style=\"color: #008080; text-decoration-color: #008080; font-weight: bold\">0.54</span>||“continued a\n",
       "\n",
       " ---------- Padded 4px ----------\n",
       "ResultOCR#block <span style=\"color: #008080; text-decoration-color: #008080; font-weight: bold\">00</span>: <span style=\"color: #008080; text-decoration-color: #008080; font-weight: bold\">0.88</span>||Enbonered by great gnarled cypress jrfes, the ancient manor stands alone on the eit of mew rce: eans, kept tipy by a white-haired ao lo man known only as\n",
       "ResultOCR#block <span style=\"color: #008080; text-decoration-color: #008080; font-weight: bold\">01</span>: <span style=\"color: #008080; text-decoration-color: #008080; font-weight: bold\">0.93</span>||The house and the oldman are alike in many ways; tall, proud, patient, contented a ways <span style=\"color: #008080; text-decoration-color: #008080; font-weight: bold\">0</span> wait until their. aster comes home ~~ | <span style=\"font-weight: bold\">}</span>\n",
       "ResultOCR#block <span style=\"color: #008080; text-decoration-color: #008080; font-weight: bold\">02</span>: <span style=\"color: #008080; text-decoration-color: #008080; font-weight: bold\">0.69</span>||F and one in ee would appear.\n",
       "ResultOCR#block <span style=\"color: #008080; text-decoration-color: #008080; font-weight: bold\">03</span>: <span style=\"color: #008080; text-decoration-color: #008080; font-weight: bold\">0.77</span>||\" bambli-— we have a gliest.\n",
       "ResultOCR#block <span style=\"color: #008080; text-decoration-color: #008080; font-weight: bold\">04</span>: <span style=\"color: #008080; text-decoration-color: #008080; font-weight: bold\">0.55</span>||P comes slamming open the caken\n",
       "ResultOCR#block <span style=\"color: #008080; text-decoration-color: #008080; font-weight: bold\">05</span>: <span style=\"color: #008080; text-decoration-color: #008080; font-weight: bold\">0.57</span>||Tel oe er-- <span style=\"color: #008080; text-decoration-color: #008080; font-weight: bold\">5</span> ow a = <span style=\"color: #008080; text-decoration-color: #008080; font-weight: bold\">7</span>\n",
       "ResultOCR#block <span style=\"color: #008080; text-decoration-color: #008080; font-weight: bold\">06</span>: <span style=\"color: #008080; text-decoration-color: #008080; font-weight: bold\">0.38</span>||We and perhaps c oe <span style=\"color: #800080; text-decoration-color: #800080\">/</span>\n",
       "ResultOCR#block <span style=\"color: #008080; text-decoration-color: #008080; font-weight: bold\">07</span>: <span style=\"color: #008080; text-decoration-color: #008080; font-weight: bold\">0.75</span>||The the old mans fades down the hall sra\n",
       "ResultOCR#block <span style=\"color: #008080; text-decoration-color: #008080; font-weight: bold\">08</span>: <span style=\"color: #008080; text-decoration-color: #008080; font-weight: bold\">0.92</span>||How curious the a whims of fate . - had i not chanced to stroll along the river yl tonight~-\n",
       "ResultOCR#block <span style=\"color: #008080; text-decoration-color: #008080; font-weight: bold\">09</span>: <span style=\"color: #008080; text-decoration-color: #008080; font-weight: bold\">0.79</span>||Aulckly as t can, ‘masrer.\n",
       "ResultOCR#block <span style=\"color: #008080; text-decoration-color: #008080; font-weight: bold\">10</span>: <span style=\"color: #008080; text-decoration-color: #008080; font-weight: bold\">0.92</span>||&lt;the girl wolld - most surely be dead by now.\n",
       "ResultOCR#block <span style=\"color: #008080; text-decoration-color: #008080; font-weight: bold\">11</span>: <span style=\"color: #008080; text-decoration-color: #008080; font-weight: bold\">0.88</span>||Ghede has been generous. the oeath gop has given - the girl. a second chance ye, alem\n",
       "ResultOCR#block <span style=\"color: #008080; text-decoration-color: #008080; font-weight: bold\">12</span>: <span style=\"color: #008080; text-decoration-color: #008080; font-weight: bold\">0.67</span>||Soe er eke othing to scream ay anymore.\n",
       "ResultOCR#block <span style=\"color: #008080; text-decoration-color: #008080; font-weight: bold\">13</span>: <span style=\"color: #008080; text-decoration-color: #008080; font-weight: bold\">0.94</span>||\"you're among friends now. you're safe!\n",
       "ResultOCR#block <span style=\"color: #008080; text-decoration-color: #008080; font-weight: bold\">14</span>: <span style=\"color: #008080; text-decoration-color: #008080; font-weight: bold\">1.00</span>||Continued after next page\n",
       "\n",
       " ---------- Padded 8px ----------\n",
       "ResultOCR#block <span style=\"color: #008080; text-decoration-color: #008080; font-weight: bold\">00</span>: <span style=\"color: #008080; text-decoration-color: #008080; font-weight: bold\">0.88</span>||Enbonered by great gnarled cypress trees, the ancient manor stands alone on the pag hile of new orleans, kept tipy by a white-haired ao lo man known omy as\n",
       "ResultOCR#block <span style=\"color: #008080; text-decoration-color: #008080; font-weight: bold\">01</span>: <span style=\"color: #008080; text-decoration-color: #008080; font-weight: bold\">0.99</span>||The house and the old man are alike in many ways; tall, proud, patient, contented always to wait until their. master comes home\n",
       "ResultOCR#block <span style=\"color: #008080; text-decoration-color: #008080; font-weight: bold\">02</span>: <span style=\"color: #008080; text-decoration-color: #008080; font-weight: bold\">0.67</span>||<span style=\"color: #008080; text-decoration-color: #008080; font-weight: bold\">7</span> and one in ee would appear,\n",
       "ResultOCR#block <span style=\"color: #008080; text-decoration-color: #008080; font-weight: bold\">03</span>: <span style=\"color: #008080; text-decoration-color: #008080; font-weight: bold\">0.76</span>||Zf mbl == we have a guest.\n",
       "ResultOCR#block <span style=\"color: #008080; text-decoration-color: #008080; font-weight: bold\">04</span>: <span style=\"color: #008080; text-decoration-color: #008080; font-weight: bold\">0.61</span>||Tonight, he comes host slamming open\n",
       "ResultOCR#block <span style=\"color: #008080; text-decoration-color: #008080; font-weight: bold\">05</span>: <span style=\"color: #008080; text-decoration-color: #008080; font-weight: bold\">0.75</span>||Yy i tell me master - how may bambli serve <span style=\"color: #008080; text-decoration-color: #008080; font-weight: bold\">7</span> _,\n",
       "ResultOCR#block <span style=\"color: #008080; text-decoration-color: #008080; font-weight: bold\">06</span>: <span style=\"color: #008080; text-decoration-color: #008080; font-weight: bold\">0.89</span>||Some. blankets to keep he arm , bambli-= and perhaps some dry clothes. 2s\n",
       "ResultOCR#block <span style=\"color: #008080; text-decoration-color: #008080; font-weight: bold\">07</span>: <span style=\"color: #008080; text-decoration-color: #008080; font-weight: bold\">0.72</span>||The the old mans fades down the hal. srl see\n",
       "ResultOCR#block <span style=\"color: #008080; text-decoration-color: #008080; font-weight: bold\">08</span>: <span style=\"color: #008080; text-decoration-color: #008080; font-weight: bold\">0.88</span>||* how curious the p whims of fate . - had i not chanced . to stroll along _ the river <span style=\"color: #008080; text-decoration-color: #008080; font-weight: bold\">3</span> tonight-~\n",
       "ResultOCR#block <span style=\"color: #008080; text-decoration-color: #008080; font-weight: bold\">09</span>: <span style=\"color: #008080; text-decoration-color: #008080; font-weight: bold\">0.65</span>||Tiie as t can, \\ master ,\n",
       "ResultOCR#block <span style=\"color: #008080; text-decoration-color: #008080; font-weight: bold\">10</span>: <span style=\"color: #008080; text-decoration-color: #008080; font-weight: bold\">0.86</span>||The girl wolld - most slirely be - dead by now.\n",
       "ResultOCR#block <span style=\"color: #008080; text-decoration-color: #008080; font-weight: bold\">11</span>: <span style=\"color: #008080; text-decoration-color: #008080; font-weight: bold\">0.62</span>||Ghede has been generous. : the crn son ue;\n",
       "ResultOCR#block <span style=\"color: #008080; text-decoration-color: #008080; font-weight: bold\">12</span>: <span style=\"color: #008080; text-decoration-color: #008080; font-weight: bold\">0.62</span>||Soe er eke othing to scream hbolt anhore hr\n",
       "ResultOCR#block <span style=\"color: #008080; text-decoration-color: #008080; font-weight: bold\">13</span>: <span style=\"color: #008080; text-decoration-color: #008080; font-weight: bold\">0.92</span>||” you're among friends now. you're safe!\n",
       "ResultOCR#block <span style=\"color: #008080; text-decoration-color: #008080; font-weight: bold\">14</span>: <span style=\"color: #008080; text-decoration-color: #008080; font-weight: bold\">0.94</span>||“continued after next page\n",
       "\n",
       " ---------- Extracted, init box ----------\n",
       "ResultOCRExtracted#block <span style=\"color: #008080; text-decoration-color: #008080; font-weight: bold\">00</span>: <span style=\"color: #008080; text-decoration-color: #008080; font-weight: bold\">0.92</span>||Fhbonered by great snarled cypress trees, the ancient nmanor stands alone on the outskirts of new orleans. kept tipy by a whi te-haire old man known only as bambi<span style=\"font-weight: bold\">]</span> .\n",
       "ResultOCRExtracted#block <span style=\"color: #008080; text-decoration-color: #008080; font-weight: bold\">01</span>: <span style=\"color: #008080; text-decoration-color: #008080; font-weight: bold\">0.93</span>||Ee house and the old man por alike in many ways; tall, proud, patient, contented always t° wait until their. master cones home ~~\n",
       "ResultOCRExtracted#block <span style=\"color: #008080; text-decoration-color: #008080; font-weight: bold\">02</span>: <span style=\"color: #008080; text-decoration-color: #008080; font-weight: bold\">0.73</span>||And one in fee would appear.\n",
       "ResultOCRExtracted#block <span style=\"color: #008080; text-decoration-color: #008080; font-weight: bold\">03</span>: <span style=\"color: #008080; text-decoration-color: #008080; font-weight: bold\">0.67</span>||— we have a <span style=\"color: #808000; text-decoration-color: #808000\">i</span>=<span style=\"color: #800080; text-decoration-color: #800080\">s7t</span>.\n",
       "ResultOCRExtracted#block <span style=\"color: #008080; text-decoration-color: #008080; font-weight: bold\">04</span>: <span style=\"color: #008080; text-decoration-color: #008080; font-weight: bold\">0.74</span>||~and tonight, he comes urgently, slamming open\n",
       "ResultOCRExtracted#block <span style=\"color: #008080; text-decoration-color: #008080; font-weight: bold\">05</span>: <span style=\"color: #008080; text-decoration-color: #008080; font-weight: bold\">0.85</span>||Tell me master how may bambli serve <span style=\"color: #008080; text-decoration-color: #008080; font-weight: bold\">7</span>\n",
       "ResultOCRExtracted#block <span style=\"color: #008080; text-decoration-color: #008080; font-weight: bold\">06</span>: <span style=\"color: #008080; text-decoration-color: #008080; font-weight: bold\">0.93</span>||Some blankets to keep her warm, banbli-- and perhaps. some dry clothes\n",
       "ResultOCRExtracted#block <span style=\"color: #008080; text-decoration-color: #008080; font-weight: bold\">07</span>: <span style=\"color: #008080; text-decoration-color: #008080; font-weight: bold\">0.77</span>||The the old man's fades down the hall s.,<span style=\"color: #008080; text-decoration-color: #008080; font-weight: bold\">00</span>\n",
       "ResultOCRExtracted#block <span style=\"color: #008080; text-decoration-color: #008080; font-weight: bold\">08</span>: <span style=\"color: #008080; text-decoration-color: #008080; font-weight: bold\">0.77</span>||Hin ef fare” had i not chanced to stroll along the river. <span style=\"color: #808000; text-decoration-color: #808000\">tonigmt</span>=~\n",
       "ResultOCRExtracted#block <span style=\"color: #008080; text-decoration-color: #008080; font-weight: bold\">09</span>: <span style=\"color: #008080; text-decoration-color: #008080; font-weight: bold\">0.85</span>||Aulckly as t can, master,\n",
       "ResultOCRExtracted#block <span style=\"color: #008080; text-decoration-color: #008080; font-weight: bold\">10</span>: <span style=\"color: #008080; text-decoration-color: #008080; font-weight: bold\">1.00</span>||--the girl would most surely be dead by now.\n",
       "ResultOCRExtracted#block <span style=\"color: #008080; text-decoration-color: #008080; font-weight: bold\">11</span>: <span style=\"color: #008080; text-decoration-color: #008080; font-weight: bold\">0.51</span>||Ath the girl a second chance ro\n",
       "ResultOCRExtracted#block <span style=\"color: #008080; text-decoration-color: #008080; font-weight: bold\">12</span>: <span style=\"color: #008080; text-decoration-color: #008080; font-weight: bold\">0.56</span>||Cas ee, othing to scream pls aa .\n",
       "ResultOCRExtracted#block <span style=\"color: #008080; text-decoration-color: #008080; font-weight: bold\">13</span>: <span style=\"color: #008080; text-decoration-color: #008080; font-weight: bold\">0.95</span>||You're among friends now. you're sale!\n",
       "ResultOCRExtracted#block <span style=\"color: #008080; text-decoration-color: #008080; font-weight: bold\">14</span>: <span style=\"color: #008080; text-decoration-color: #008080; font-weight: bold\">0.91</span>||Continued af ext page\n",
       "\n",
       " ---------- Padded <span style=\"color: #008080; text-decoration-color: #008080; font-weight: bold\">4</span>, extracted ----------\n",
       "ResultOCRExtracted#block <span style=\"color: #008080; text-decoration-color: #008080; font-weight: bold\">00</span>: <span style=\"color: #008080; text-decoration-color: #008080; font-weight: bold\">0.91</span>||Enbonsred by great shale cypress trees, the anci manor stands alone on the <span style=\"font-weight: bold\">[</span>tskirts of new orleans, kept tidy by a whi te- haired old man known only as b8ambl .\n",
       "ResultOCRExtracted#block <span style=\"color: #008080; text-decoration-color: #008080; font-weight: bold\">01</span>: <span style=\"color: #008080; text-decoration-color: #008080; font-weight: bold\">0.98</span>||The house and the old man are alike in many ways; tall, proud, patient, contented always t° wait until their. master cones home --\n",
       "ResultOCRExtracted#block <span style=\"color: #008080; text-decoration-color: #008080; font-weight: bold\">02</span>: <span style=\"color: #008080; text-decoration-color: #008080; font-weight: bold\">0.73</span>||And one in fee would appear.\n",
       "ResultOCRExtracted#block <span style=\"color: #008080; text-decoration-color: #008080; font-weight: bold\">03</span>: <span style=\"color: #008080; text-decoration-color: #008080; font-weight: bold\">0.83</span>||Bambli we have a gliest.\n",
       "ResultOCRExtracted#block <span style=\"color: #008080; text-decoration-color: #008080; font-weight: bold\">04</span>: <span style=\"color: #008080; text-decoration-color: #008080; font-weight: bold\">0.74</span>||=~and tonight, he comes urgently, slamming open\n",
       "ResultOCRExtracted#block <span style=\"color: #008080; text-decoration-color: #008080; font-weight: bold\">05</span>: <span style=\"color: #008080; text-decoration-color: #008080; font-weight: bold\">0.84</span>||Tell me master. how may bambli serve <span style=\"color: #008080; text-decoration-color: #008080; font-weight: bold\">7</span>\n",
       "ResultOCRExtracted#block <span style=\"color: #008080; text-decoration-color: #008080; font-weight: bold\">06</span>: <span style=\"color: #008080; text-decoration-color: #008080; font-weight: bold\">0.53</span>||Warm, bambli-- and perhaps. som\n",
       "ResultOCRExtracted#block <span style=\"color: #008080; text-decoration-color: #008080; font-weight: bold\">07</span>: <span style=\"color: #008080; text-decoration-color: #008080; font-weight: bold\">0.75</span>||The the old mans fades down the hall sra\n",
       "ResultOCRExtracted#block <span style=\"color: #008080; text-decoration-color: #008080; font-weight: bold\">08</span>: <span style=\"color: #008080; text-decoration-color: #008080; font-weight: bold\">0.76</span>||We sea had i not chanced to stroll along the river. tonight-~\n",
       "ResultOCRExtracted#block <span style=\"color: #008080; text-decoration-color: #008080; font-weight: bold\">09</span>: <span style=\"color: #008080; text-decoration-color: #008080; font-weight: bold\">0.76</span>||Alley as t can, master,\n",
       "ResultOCRExtracted#block <span style=\"color: #008080; text-decoration-color: #008080; font-weight: bold\">10</span>: <span style=\"color: #008080; text-decoration-color: #008080; font-weight: bold\">0.98</span>||~-the girl would most surely be dead by now.\n",
       "ResultOCRExtracted#block <span style=\"color: #008080; text-decoration-color: #008080; font-weight: bold\">11</span>: <span style=\"color: #008080; text-decoration-color: #008080; font-weight: bold\">0.92</span>||Chepe has been generous. the peath god has given the girl a second chance amr\n",
       "ResultOCRExtracted#block <span style=\"color: #008080; text-decoration-color: #008080; font-weight: bold\">12</span>: <span style=\"color: #008080; text-decoration-color: #008080; font-weight: bold\">0.73</span>||Cas gr theres othing to scream pissy tore .\n",
       "ResultOCRExtracted#block <span style=\"color: #008080; text-decoration-color: #008080; font-weight: bold\">13</span>: <span style=\"color: #008080; text-decoration-color: #008080; font-weight: bold\">0.95</span>||You're among eriends now. you're safe!\n",
       "ResultOCRExtracted#block <span style=\"color: #008080; text-decoration-color: #008080; font-weight: bold\">14</span>: <span style=\"color: #008080; text-decoration-color: #008080; font-weight: bold\">0.91</span>||Continued af ext page\n",
       "\n",
       " ---------- Padded <span style=\"color: #008080; text-decoration-color: #008080; font-weight: bold\">8</span>, extracted ----------\n",
       "ResultOCRExtracted#block <span style=\"color: #008080; text-decoration-color: #008080; font-weight: bold\">00</span>: <span style=\"color: #008080; text-decoration-color: #008080; font-weight: bold\">0.94</span>||Enbonered by great snarled cypress trees, the ancient nmanor stands alone on the outskirts of new orleans, kept tipy by a whi te-haired old man known only as 8ambli .\n",
       "ResultOCRExtracted#block <span style=\"color: #008080; text-decoration-color: #008080; font-weight: bold\">01</span>: <span style=\"color: #008080; text-decoration-color: #008080; font-weight: bold\">0.98</span>||The house and the old man are alike in many ways; tall, proud, patient, contented always t° wait until their. master comes home --\n",
       "ResultOCRExtracted#block <span style=\"color: #008080; text-decoration-color: #008080; font-weight: bold\">02</span>: <span style=\"color: #008080; text-decoration-color: #008080; font-weight: bold\">0.70</span>||And one in fee wolld appear.\n",
       "ResultOCRExtracted#block <span style=\"color: #008080; text-decoration-color: #008080; font-weight: bold\">03</span>: <span style=\"color: #008080; text-decoration-color: #008080; font-weight: bold\">0.86</span>||Bambl ~~ we have a guest.\n",
       "ResultOCRExtracted#block <span style=\"color: #008080; text-decoration-color: #008080; font-weight: bold\">04</span>: <span style=\"color: #008080; text-decoration-color: #008080; font-weight: bold\">0.64</span>||=~and tonight, he comes slamming open urgently,\n",
       "ResultOCRExtracted#block <span style=\"color: #008080; text-decoration-color: #008080; font-weight: bold\">05</span>: <span style=\"color: #008080; text-decoration-color: #008080; font-weight: bold\">0.82</span>||Tell me master<span style=\"color: #808000; text-decoration-color: #808000\">...</span> how may bambli serve't\n",
       "ResultOCRExtracted#block <span style=\"color: #008080; text-decoration-color: #008080; font-weight: bold\">06</span>: <span style=\"color: #008080; text-decoration-color: #008080; font-weight: bold\">0.91</span>||Some blankets to keep her warm, banbli-~ and perhaps. some dry clothes\n",
       "ResultOCRExtracted#block <span style=\"color: #008080; text-decoration-color: #008080; font-weight: bold\">07</span>: <span style=\"color: #008080; text-decoration-color: #008080; font-weight: bold\">0.75</span>||The the old mans fades down the hall sire\n",
       "ResultOCRExtracted#block <span style=\"color: #008080; text-decoration-color: #008080; font-weight: bold\">08</span>: <span style=\"color: #008080; text-decoration-color: #008080; font-weight: bold\">0.96</span>||How curious the whims of fate . had i not chanced to stroll along the river tonight-~\n",
       "ResultOCRExtracted#block <span style=\"color: #008080; text-decoration-color: #008080; font-weight: bold\">09</span>: <span style=\"color: #008080; text-decoration-color: #008080; font-weight: bold\">0.77</span>||Allckry as t can, master.\n",
       "ResultOCRExtracted#block <span style=\"color: #008080; text-decoration-color: #008080; font-weight: bold\">10</span>: <span style=\"color: #008080; text-decoration-color: #008080; font-weight: bold\">0.98</span>||~-the girl would most surely be dead by now.\n",
       "ResultOCRExtracted#block <span style=\"color: #008080; text-decoration-color: #008080; font-weight: bold\">11</span>: <span style=\"color: #008080; text-decoration-color: #008080; font-weight: bold\">0.94</span>||Ghede has been generous. the peath god has given the girl a second chance po\n",
       "ResultOCRExtracted#block <span style=\"color: #008080; text-decoration-color: #008080; font-weight: bold\">12</span>: <span style=\"color: #008080; text-decoration-color: #008080; font-weight: bold\">0.74</span>||Cas gr theres othing to scream pps hore .\n",
       "ResultOCRExtracted#block <span style=\"color: #008080; text-decoration-color: #008080; font-weight: bold\">13</span>: <span style=\"color: #008080; text-decoration-color: #008080; font-weight: bold\">0.42</span>||You're safe § r\n",
       "ResultOCRExtracted#block <span style=\"color: #008080; text-decoration-color: #008080; font-weight: bold\">14</span>: <span style=\"color: #008080; text-decoration-color: #008080; font-weight: bold\">0.83</span>||| continued af ext page\n",
       "\n",
       " ---------- Padded <span style=\"color: #008080; text-decoration-color: #008080; font-weight: bold\">8</span>, dilation <span style=\"color: #008080; text-decoration-color: #008080; font-weight: bold\">1</span> ----------\n",
       "ResultOCRExtracted#block <span style=\"color: #008080; text-decoration-color: #008080; font-weight: bold\">00</span>: <span style=\"color: #008080; text-decoration-color: #008080; font-weight: bold\">0.61</span>||Outskirts of new orleans, kept tipy by a white-haired old man known only as sams .\n",
       "ResultOCRExtracted#block <span style=\"color: #008080; text-decoration-color: #008080; font-weight: bold\">01</span>: <span style=\"color: #008080; text-decoration-color: #008080; font-weight: bold\">0.88</span>||The house and the old man are alike in many ways, tall, proud, nt, contented live walt gtie their, master comes home -=\n",
       "ResultOCRExtracted#block <span style=\"color: #008080; text-decoration-color: #008080; font-weight: bold\">02</span>: <span style=\"color: #008080; text-decoration-color: #008080; font-weight: bold\">0.97</span>||And one in need of some help, it wolld appear .\n",
       "ResultOCRExtracted#block <span style=\"color: #008080; text-decoration-color: #008080; font-weight: bold\">03</span>: <span style=\"color: #008080; text-decoration-color: #008080; font-weight: bold\">0.78</span>||Bambli ~~ we have a gliest.\n",
       "ResultOCRExtracted#block <span style=\"color: #008080; text-decoration-color: #008080; font-weight: bold\">04</span>: <span style=\"color: #008080; text-decoration-color: #008080; font-weight: bold\">0.79</span>||=and tonight, he comes most slamming open the front\n",
       "ResultOCRExtracted#block <span style=\"color: #008080; text-decoration-color: #008080; font-weight: bold\">05</span>: <span style=\"color: #008080; text-decoration-color: #008080; font-weight: bold\">0.86</span>||Tell me, master: how may bambli serve <span style=\"color: #008080; text-decoration-color: #008080; font-weight: bold\">7</span>\n",
       "ResultOCRExtracted#block <span style=\"color: #008080; text-decoration-color: #008080; font-weight: bold\">06</span>: <span style=\"color: #008080; text-decoration-color: #008080; font-weight: bold\">0.85</span>||Gone blankets to keep her. warm, bambli-~ and perhaps some dry\n",
       "ResultOCRExtracted#block <span style=\"color: #008080; text-decoration-color: #008080; font-weight: bold\">07</span>: <span style=\"color: #008080; text-decoration-color: #008080; font-weight: bold\">0.73</span>||The old man's footsteps the hall as.re\n",
       "ResultOCRExtracted#block <span style=\"color: #008080; text-decoration-color: #008080; font-weight: bold\">08</span>: <span style=\"color: #008080; text-decoration-color: #008080; font-weight: bold\">0.94</span>||How curious the whims of fate . had i not chanced to stroll along the r/| ver tonight-~\n",
       "ResultOCRExtracted#block <span style=\"color: #008080; text-decoration-color: #008080; font-weight: bold\">09</span>: <span style=\"color: #008080; text-decoration-color: #008080; font-weight: bold\">0.68</span>||Aulckly as t can,\n",
       "ResultOCRExtracted#block <span style=\"color: #008080; text-decoration-color: #008080; font-weight: bold\">10</span>: <span style=\"color: #008080; text-decoration-color: #008080; font-weight: bold\">0.95</span>||~&lt;the girl would most surely be dead by now.\n",
       "ResultOCRExtracted#block <span style=\"color: #008080; text-decoration-color: #008080; font-weight: bold\">11</span>: <span style=\"color: #008080; text-decoration-color: #008080; font-weight: bold\">0.75</span>||Ee lh boe ene. the death gop has the girl. a second chance\n",
       "ResultOCRExtracted#block <span style=\"color: #008080; text-decoration-color: #008080; font-weight: bold\">12</span>: <span style=\"color: #008080; text-decoration-color: #008080; font-weight: bold\">0.92</span>||Easy, girl--there's nothing to scream abolit anymo!\n",
       "ResultOCRExtracted#block <span style=\"color: #008080; text-decoration-color: #008080; font-weight: bold\">13</span>: <span style=\"color: #008080; text-decoration-color: #008080; font-weight: bold\">0.97</span>||You're among friends now. you're safe!\n",
       "ResultOCRExtracted#block <span style=\"color: #008080; text-decoration-color: #008080; font-weight: bold\">14</span>: <span style=\"color: #008080; text-decoration-color: #008080; font-weight: bold\">0.83</span>||| continued af ext page\n",
       "\n",
       " ---------- Pad <span style=\"color: #008080; text-decoration-color: #008080; font-weight: bold\">8</span>, fract. <span style=\"color: #008080; text-decoration-color: #008080; font-weight: bold\">0.5</span> ----------\n",
       "ResultOCRExtracted#block <span style=\"color: #008080; text-decoration-color: #008080; font-weight: bold\">00</span>: <span style=\"color: #008080; text-decoration-color: #008080; font-weight: bold\">0.94</span>||Enbonered by great snarled cypress trees, the ancient manor stands alone on the outskirts of new orleans, kept tipy by a whi te-haired old man known only as b8ambl .\n",
       "ResultOCRExtracted#block <span style=\"color: #008080; text-decoration-color: #008080; font-weight: bold\">01</span>: <span style=\"color: #008080; text-decoration-color: #008080; font-weight: bold\">0.97</span>||The house and the old man are alike in many ways; tall, proud, patient, contented always t° wait until. their. master comes home ~~\n",
       "ResultOCRExtracted#block <span style=\"color: #008080; text-decoration-color: #008080; font-weight: bold\">02</span>: <span style=\"color: #008080; text-decoration-color: #008080; font-weight: bold\">0.78</span>||And one in eee pe would appear.\n",
       "ResultOCRExtracted#block <span style=\"color: #008080; text-decoration-color: #008080; font-weight: bold\">03</span>: <span style=\"color: #008080; text-decoration-color: #008080; font-weight: bold\">0.86</span>||Bambl ~~ we have a guest.\n",
       "ResultOCRExtracted#block <span style=\"color: #008080; text-decoration-color: #008080; font-weight: bold\">04</span>: <span style=\"color: #008080; text-decoration-color: #008080; font-weight: bold\">0.64</span>||=~and tonight, he comes slamming open urgently,\n",
       "ResultOCRExtracted#block <span style=\"color: #008080; text-decoration-color: #008080; font-weight: bold\">05</span>: <span style=\"color: #008080; text-decoration-color: #008080; font-weight: bold\">0.82</span>||Tell me master<span style=\"color: #808000; text-decoration-color: #808000\">...</span> how may bambli serve'<span style=\"color: #008080; text-decoration-color: #008080; font-weight: bold\">7</span>\n",
       "ResultOCRExtracted#block <span style=\"color: #008080; text-decoration-color: #008080; font-weight: bold\">06</span>: <span style=\"color: #008080; text-decoration-color: #008080; font-weight: bold\">0.94</span>||Some blankets to keep her. warm, bambli-~ and perhaps. some dry clothes\n",
       "ResultOCRExtracted#block <span style=\"color: #008080; text-decoration-color: #008080; font-weight: bold\">07</span>: <span style=\"color: #008080; text-decoration-color: #008080; font-weight: bold\">0.73</span>||The the old mans fades donn the hall sire\n",
       "ResultOCRExtracted#block <span style=\"color: #008080; text-decoration-color: #008080; font-weight: bold\">08</span>: <span style=\"color: #008080; text-decoration-color: #008080; font-weight: bold\">0.96</span>||How curious the whims of fate . had i not chanced to stroll along the river tonight-~\n",
       "ResultOCRExtracted#block <span style=\"color: #008080; text-decoration-color: #008080; font-weight: bold\">09</span>: <span style=\"color: #008080; text-decoration-color: #008080; font-weight: bold\">0.81</span>||Aulckry as t can, master.\n",
       "ResultOCRExtracted#block <span style=\"color: #008080; text-decoration-color: #008080; font-weight: bold\">10</span>: <span style=\"color: #008080; text-decoration-color: #008080; font-weight: bold\">0.98</span>||~-the girl would most surely be dead by now.\n",
       "ResultOCRExtracted#block <span style=\"color: #008080; text-decoration-color: #008080; font-weight: bold\">11</span>: <span style=\"color: #008080; text-decoration-color: #008080; font-weight: bold\">0.92</span>||Ghede hag been generous. the peath god has given the girl a second chance po\n",
       "ResultOCRExtracted#block <span style=\"color: #008080; text-decoration-color: #008080; font-weight: bold\">12</span>: <span style=\"color: #008080; text-decoration-color: #008080; font-weight: bold\">0.76</span>||Cas srl theres othing to scream seoit hore .\n",
       "ResultOCRExtracted#block <span style=\"color: #008080; text-decoration-color: #008080; font-weight: bold\">13</span>: <span style=\"color: #008080; text-decoration-color: #008080; font-weight: bold\">0.42</span>||You're safe <span style=\"color: #008080; text-decoration-color: #008080; font-weight: bold\">4</span> ’\n",
       "ResultOCRExtracted#block <span style=\"color: #008080; text-decoration-color: #008080; font-weight: bold\">14</span>: <span style=\"color: #008080; text-decoration-color: #008080; font-weight: bold\">0.83</span>||| continued af ext page\n",
       "\n",
       " ---------- Pad <span style=\"color: #008080; text-decoration-color: #008080; font-weight: bold\">8</span>, fract. <span style=\"color: #008080; text-decoration-color: #008080; font-weight: bold\">0.2</span> ----------\n",
       "ResultOCRExtracted#block <span style=\"color: #008080; text-decoration-color: #008080; font-weight: bold\">00</span>: <span style=\"color: #008080; text-decoration-color: #008080; font-weight: bold\">0.94</span>||Enbonered by great snarled cypress trees, the ancient manor stands alone on the outskirts of new orleans, kept tipy by a whi te-haired old man known only as b8ambl .\n",
       "ResultOCRExtracted#block <span style=\"color: #008080; text-decoration-color: #008080; font-weight: bold\">01</span>: <span style=\"color: #008080; text-decoration-color: #008080; font-weight: bold\">0.97</span>||The house and the old man are alike in many ways; tall, proud, patient, contented always t° wait until their. master comes home ~~\n",
       "ResultOCRExtracted#block <span style=\"color: #008080; text-decoration-color: #008080; font-weight: bold\">02</span>: <span style=\"color: #008080; text-decoration-color: #008080; font-weight: bold\">0.77</span>||And one in eet sve would appear.\n",
       "ResultOCRExtracted#block <span style=\"color: #008080; text-decoration-color: #008080; font-weight: bold\">03</span>: <span style=\"color: #008080; text-decoration-color: #008080; font-weight: bold\">0.86</span>||Bambl ~~ we have a guest.\n",
       "ResultOCRExtracted#block <span style=\"color: #008080; text-decoration-color: #008080; font-weight: bold\">04</span>: <span style=\"color: #008080; text-decoration-color: #008080; font-weight: bold\">0.64</span>||=~and tonight, he comes slamming open urgently,\n",
       "ResultOCRExtracted#block <span style=\"color: #008080; text-decoration-color: #008080; font-weight: bold\">05</span>: <span style=\"color: #008080; text-decoration-color: #008080; font-weight: bold\">0.82</span>||Tell me master<span style=\"color: #808000; text-decoration-color: #808000\">...</span> how may bambli serve'<span style=\"color: #008080; text-decoration-color: #008080; font-weight: bold\">7</span>\n",
       "ResultOCRExtracted#block <span style=\"color: #008080; text-decoration-color: #008080; font-weight: bold\">06</span>: <span style=\"color: #008080; text-decoration-color: #008080; font-weight: bold\">0.94</span>||Some blankets to keep her, warm, bambli-~ and perhaps. some dry clothes\n",
       "ResultOCRExtracted#block <span style=\"color: #008080; text-decoration-color: #008080; font-weight: bold\">07</span>: <span style=\"color: #008080; text-decoration-color: #008080; font-weight: bold\">0.75</span>||The the old mans fades down the hall sere\n",
       "ResultOCRExtracted#block <span style=\"color: #008080; text-decoration-color: #008080; font-weight: bold\">08</span>: <span style=\"color: #008080; text-decoration-color: #008080; font-weight: bold\">0.96</span>||How curious the whims of fate . had i not chanced to stroll along the river tonight-~\n",
       "ResultOCRExtracted#block <span style=\"color: #008080; text-decoration-color: #008080; font-weight: bold\">09</span>: <span style=\"color: #008080; text-decoration-color: #008080; font-weight: bold\">0.81</span>||Aulckry as t can, master.\n",
       "ResultOCRExtracted#block <span style=\"color: #008080; text-decoration-color: #008080; font-weight: bold\">10</span>: <span style=\"color: #008080; text-decoration-color: #008080; font-weight: bold\">0.95</span>||~&lt;the girl would most surely be dead by now.\n",
       "ResultOCRExtracted#block <span style=\"color: #008080; text-decoration-color: #008080; font-weight: bold\">11</span>: <span style=\"color: #008080; text-decoration-color: #008080; font-weight: bold\">0.94</span>||Ghede has been generous. the ceath god has given the girl a second chance po\n",
       "ResultOCRExtracted#block <span style=\"color: #008080; text-decoration-color: #008080; font-weight: bold\">12</span>: <span style=\"color: #008080; text-decoration-color: #008080; font-weight: bold\">0.67</span>||Yi renee othing to scream seat anhore .\n",
       "ResultOCRExtracted#block <span style=\"color: #008080; text-decoration-color: #008080; font-weight: bold\">13</span>: <span style=\"color: #008080; text-decoration-color: #008080; font-weight: bold\">0.93</span>||Youre among eriends now. you're safe!\n",
       "ResultOCRExtracted#block <span style=\"color: #008080; text-decoration-color: #008080; font-weight: bold\">14</span>: <span style=\"color: #008080; text-decoration-color: #008080; font-weight: bold\">0.83</span>||| continued af ext page\n",
       "\n",
       "\n",
       "</pre>\n"
      ],
      "text/plain": [
       "---------- Initial box ----------\n",
       "ResultOCR#block \u001b[1;36m00\u001b[0m: \u001b[1;36m0.90\u001b[0m||Eneonered by great gnarled cypress jrfes, the ancient manor stands alone on the outski\u001b[1m)\u001b[0m \u001b[1;36m2\u001b[0m of mew ce eans, kept tidy by a white-haired old man known only as bambs, \u001b[1;36m3\u001b[0m\n",
       "ResultOCR#block \u001b[1;36m01\u001b[0m: \u001b[1;36m0.93\u001b[0m||The house and the old man are alike in many ways; tall, prolid, patient, contented always \u001b[1;36m0\u001b[0m wait until. their. master cones mome ~~\n",
       "ResultOCR#block \u001b[1;36m02\u001b[0m: \u001b[1;36m0.70\u001b[0m||“and one in ee would appear.\n",
       "ResultOCR#block \u001b[1;36m03\u001b[0m: \u001b[1;36m0.62\u001b[0m||Re bambli-~ we have a\n",
       "ResultOCR#block \u001b[1;36m04\u001b[0m: \u001b[1;36m0.70\u001b[0m||Tonight, he comes noost slamming open the caken\n",
       "ResultOCR#block \u001b[1;36m05\u001b[0m: \u001b[1;36m0.82\u001b[0m||Tell me naster. how may bambli serve \u001b[1;36m7\u001b[0m\n",
       "ResultOCR#block \u001b[1;36m06\u001b[0m: \u001b[1;36m0.56\u001b[0m||£\u001b[1;36m7\u001b[0m » and perhaps some dry clothes\u001b[33m...\u001b[0m \u001b[1;36m7\u001b[0m \u001b[35m/\u001b[0m\n",
       "ResultOCR#block \u001b[1;36m07\u001b[0m: \u001b[1;36m0.81\u001b[0m||The the old man's fades down the hall as\u001b[33m...\u001b[0m \u001b[1;36m7\u001b[0m\n",
       "ResultOCR#block \u001b[1;36m08\u001b[0m: \u001b[1;36m0.85\u001b[0m||How curious the \u001b[1;36m4\u001b[0m fate. whims of had t not chanced to stroll along the river yl tonight ==\n",
       "ResultOCR#block \u001b[1;36m09\u001b[0m: \u001b[1;36m0.80\u001b[0m||Fas oulckly as t ca, master.\n",
       "ResultOCR#block \u001b[1;36m10\u001b[0m: \u001b[1;36m0.91\u001b[0m||<the girl would - most slirely be dead by now.\n",
       "ResultOCR#block \u001b[1;36m11\u001b[0m: \u001b[1;36m0.47\u001b[0m||Ath the girl. a second chance ge a ee yg adil\n",
       "ResultOCR#block \u001b[1;36m12\u001b[0m: \u001b[1;36m0.84\u001b[0m||Ah girl--there's othing to scream ntt anymore .\n",
       "ResultOCR#block \u001b[1;36m13\u001b[0m: \u001b[1;36m0.93\u001b[0m||You're among friends now. you're sale\n",
       "ResultOCR#block \u001b[1;36m14\u001b[0m: \u001b[1;36m1.00\u001b[0m||Continued after next page\n",
       "\n",
       " ---------- Default ----------\n",
       "ResultOCR#block \u001b[1;36m00\u001b[0m: \u001b[1;36m0.85\u001b[0m||Eneowered by great gnarled cypress jrfes, the ancient manor ! alone on the eit of mew rce: eans, kept tipy by a white-haired ao han known only as\n",
       "ResultOCR#block \u001b[1;36m01\u001b[0m: \u001b[1;36m0.96\u001b[0m||The house and the old man are alike in many ways; tall, proud, patient, conten tel always to wait until their. master cones home ~~\n",
       "ResultOCR#block \u001b[1;36m02\u001b[0m: \u001b[1;36m0.74\u001b[0m||And one in ee would appear.\n",
       "ResultOCR#block \u001b[1;36m03\u001b[0m: \u001b[1;36m0.41\u001b[0m||Rir guest.\n",
       "ResultOCR#block \u001b[1;36m04\u001b[0m: \u001b[1;36m0.59\u001b[0m||=~and tonight, he comes host sane oo\n",
       "ResultOCR#block \u001b[1;36m05\u001b[0m: \u001b[1;36m0.78\u001b[0m||Tell me masts - how may bambli . serve \u001b[1;36m7\u001b[0m _\n",
       "ResultOCR#block \u001b[1;36m06\u001b[0m: \u001b[1;36m0.48\u001b[0m||R warm, bambli-~ and perhaps\n",
       "ResultOCR#block \u001b[1;36m07\u001b[0m: \u001b[1;36m0.76\u001b[0m||The the old mans fades down the hall s.\u001b[1;36m00\u001b[0m\n",
       "ResultOCR#block \u001b[1;36m08\u001b[0m: \u001b[1;36m0.92\u001b[0m||How curious the a whims of fate . had t not chanced to stroll along the river tonight~~ >\n",
       "ResultOCR#block \u001b[1;36m09\u001b[0m: \u001b[1;36m0.50\u001b[0m||Aulckly “master as t can,\n",
       "ResultOCR#block \u001b[1;36m10\u001b[0m: \u001b[1;36m0.94\u001b[0m||<the girl would - most surely be dead by now.\n",
       "ResultOCR#block \u001b[1;36m11\u001b[0m: \u001b[1;36m0.50\u001b[0m||Ath - the girl. a second chance ee oo tr tt\n",
       "ResultOCR#block \u001b[1;36m12\u001b[0m: \u001b[1;36m0.84\u001b[0m||Oe girl--there's othing to scream nt anymore. \u001b[1;36m4\u001b[0m\n",
       "ResultOCR#block \u001b[1;36m13\u001b[0m: \u001b[1;36m0.96\u001b[0m||You're among friends now. youre safe!\n",
       "ResultOCR#block \u001b[1;36m14\u001b[0m: \u001b[1;36m1.00\u001b[0m||Continued after next page\n",
       "\n",
       " ---------- Default, grey pad ----------\n",
       "ResultOCR#block \u001b[1;36m00\u001b[0m: \u001b[1;36m0.95\u001b[0m||Enbowered by great gnarled cypress trees, the ancient manor stands alone on the outskirts of new orleans, kept tipy by a white-haired old man known only as\n",
       "ResultOCR#block \u001b[1;36m01\u001b[0m: \u001b[1;36m0.96\u001b[0m||The house and the old man are alike in many ways; tall, prolid, patient, contented always to wait until their. * master cones home ~-\n",
       "ResultOCR#block \u001b[1;36m02\u001b[0m: \u001b[1;36m0.94\u001b[0m||“and one in > need of some help, it would appear .\n",
       "ResultOCR#block \u001b[1;36m03\u001b[0m: \u001b[1;36m0.88\u001b[0m||\" bambl-- we have a guest.\n",
       "ResultOCR#block \u001b[1;36m04\u001b[0m: \u001b[1;36m0.72\u001b[0m||~~and tonight, he comes urgently, slanming open\n",
       "ResultOCR#block \u001b[1;36m05\u001b[0m: \u001b[1;36m0.86\u001b[0m||Tell me, master: how may bambli serve \u001b[1;36m7\u001b[0m\n",
       "ResultOCR#block \u001b[1;36m06\u001b[0m: \u001b[1;36m0.90\u001b[0m||Some blankets to keep her. warm, bambli-- and perhaps some dry \\ clothes-\u001b[1;36m-7\u001b[0m \u001b[35m/\u001b[0m\u001b[95m.\u001b[0m\n",
       "ResultOCR#block \u001b[1;36m07\u001b[0m: \u001b[1;36m0.06\u001b[0m||As.\n",
       "ResultOCR#block \u001b[1;36m08\u001b[0m: \u001b[1;36m0.91\u001b[0m||How curious the d 7e . whims of fa; had i not chanced to stroll along the river tonight--\n",
       "ResultOCR#block \u001b[1;36m09\u001b[0m: \u001b[1;36m0.55\u001b[0m||Ickl as t can\n",
       "ResultOCR#block \u001b[1;36m10\u001b[0m: \u001b[1;36m0.00\u001b[0m||\n",
       "ResultOCR#block \u001b[1;36m11\u001b[0m: \u001b[1;36m0.85\u001b[0m||Ghede has been generous. the death god has gen + the girl. a second chance te oe ato\" pd ate\n",
       "ResultOCR#block \u001b[1;36m12\u001b[0m: \u001b[1;36m0.95\u001b[0m||Easy, girl--there's | nothing to scream about anyaore.\n",
       "ResultOCR#block \u001b[1;36m13\u001b[0m: \u001b[1;36m0.97\u001b[0m||You're among friends now. you're safe!\n",
       "ResultOCR#block \u001b[1;36m14\u001b[0m: \u001b[1;36m0.54\u001b[0m||“continued a\n",
       "\n",
       " ---------- Padded 4px ----------\n",
       "ResultOCR#block \u001b[1;36m00\u001b[0m: \u001b[1;36m0.88\u001b[0m||Enbonered by great gnarled cypress jrfes, the ancient manor stands alone on the eit of mew rce: eans, kept tipy by a white-haired ao lo man known only as\n",
       "ResultOCR#block \u001b[1;36m01\u001b[0m: \u001b[1;36m0.93\u001b[0m||The house and the oldman are alike in many ways; tall, proud, patient, contented a ways \u001b[1;36m0\u001b[0m wait until their. aster comes home ~~ | \u001b[1m}\u001b[0m\n",
       "ResultOCR#block \u001b[1;36m02\u001b[0m: \u001b[1;36m0.69\u001b[0m||F and one in ee would appear.\n",
       "ResultOCR#block \u001b[1;36m03\u001b[0m: \u001b[1;36m0.77\u001b[0m||\" bambli-— we have a gliest.\n",
       "ResultOCR#block \u001b[1;36m04\u001b[0m: \u001b[1;36m0.55\u001b[0m||P comes slamming open the caken\n",
       "ResultOCR#block \u001b[1;36m05\u001b[0m: \u001b[1;36m0.57\u001b[0m||Tel oe er-- \u001b[1;36m5\u001b[0m ow a = \u001b[1;36m7\u001b[0m\n",
       "ResultOCR#block \u001b[1;36m06\u001b[0m: \u001b[1;36m0.38\u001b[0m||We and perhaps c oe \u001b[35m/\u001b[0m\n",
       "ResultOCR#block \u001b[1;36m07\u001b[0m: \u001b[1;36m0.75\u001b[0m||The the old mans fades down the hall sra\n",
       "ResultOCR#block \u001b[1;36m08\u001b[0m: \u001b[1;36m0.92\u001b[0m||How curious the a whims of fate . - had i not chanced to stroll along the river yl tonight~-\n",
       "ResultOCR#block \u001b[1;36m09\u001b[0m: \u001b[1;36m0.79\u001b[0m||Aulckly as t can, ‘masrer.\n",
       "ResultOCR#block \u001b[1;36m10\u001b[0m: \u001b[1;36m0.92\u001b[0m||<the girl wolld - most surely be dead by now.\n",
       "ResultOCR#block \u001b[1;36m11\u001b[0m: \u001b[1;36m0.88\u001b[0m||Ghede has been generous. the oeath gop has given - the girl. a second chance ye, alem\n",
       "ResultOCR#block \u001b[1;36m12\u001b[0m: \u001b[1;36m0.67\u001b[0m||Soe er eke othing to scream ay anymore.\n",
       "ResultOCR#block \u001b[1;36m13\u001b[0m: \u001b[1;36m0.94\u001b[0m||\"you're among friends now. you're safe!\n",
       "ResultOCR#block \u001b[1;36m14\u001b[0m: \u001b[1;36m1.00\u001b[0m||Continued after next page\n",
       "\n",
       " ---------- Padded 8px ----------\n",
       "ResultOCR#block \u001b[1;36m00\u001b[0m: \u001b[1;36m0.88\u001b[0m||Enbonered by great gnarled cypress trees, the ancient manor stands alone on the pag hile of new orleans, kept tipy by a white-haired ao lo man known omy as\n",
       "ResultOCR#block \u001b[1;36m01\u001b[0m: \u001b[1;36m0.99\u001b[0m||The house and the old man are alike in many ways; tall, proud, patient, contented always to wait until their. master comes home\n",
       "ResultOCR#block \u001b[1;36m02\u001b[0m: \u001b[1;36m0.67\u001b[0m||\u001b[1;36m7\u001b[0m and one in ee would appear,\n",
       "ResultOCR#block \u001b[1;36m03\u001b[0m: \u001b[1;36m0.76\u001b[0m||Zf mbl == we have a guest.\n",
       "ResultOCR#block \u001b[1;36m04\u001b[0m: \u001b[1;36m0.61\u001b[0m||Tonight, he comes host slamming open\n",
       "ResultOCR#block \u001b[1;36m05\u001b[0m: \u001b[1;36m0.75\u001b[0m||Yy i tell me master - how may bambli serve \u001b[1;36m7\u001b[0m _,\n",
       "ResultOCR#block \u001b[1;36m06\u001b[0m: \u001b[1;36m0.89\u001b[0m||Some. blankets to keep he arm , bambli-= and perhaps some dry clothes. 2s\n",
       "ResultOCR#block \u001b[1;36m07\u001b[0m: \u001b[1;36m0.72\u001b[0m||The the old mans fades down the hal. srl see\n",
       "ResultOCR#block \u001b[1;36m08\u001b[0m: \u001b[1;36m0.88\u001b[0m||* how curious the p whims of fate . - had i not chanced . to stroll along _ the river \u001b[1;36m3\u001b[0m tonight-~\n",
       "ResultOCR#block \u001b[1;36m09\u001b[0m: \u001b[1;36m0.65\u001b[0m||Tiie as t can, \\ master ,\n",
       "ResultOCR#block \u001b[1;36m10\u001b[0m: \u001b[1;36m0.86\u001b[0m||The girl wolld - most slirely be - dead by now.\n",
       "ResultOCR#block \u001b[1;36m11\u001b[0m: \u001b[1;36m0.62\u001b[0m||Ghede has been generous. : the crn son ue;\n",
       "ResultOCR#block \u001b[1;36m12\u001b[0m: \u001b[1;36m0.62\u001b[0m||Soe er eke othing to scream hbolt anhore hr\n",
       "ResultOCR#block \u001b[1;36m13\u001b[0m: \u001b[1;36m0.92\u001b[0m||” you're among friends now. you're safe!\n",
       "ResultOCR#block \u001b[1;36m14\u001b[0m: \u001b[1;36m0.94\u001b[0m||“continued after next page\n",
       "\n",
       " ---------- Extracted, init box ----------\n",
       "ResultOCRExtracted#block \u001b[1;36m00\u001b[0m: \u001b[1;36m0.92\u001b[0m||Fhbonered by great snarled cypress trees, the ancient nmanor stands alone on the outskirts of new orleans. kept tipy by a whi te-haire old man known only as bambi\u001b[1m]\u001b[0m .\n",
       "ResultOCRExtracted#block \u001b[1;36m01\u001b[0m: \u001b[1;36m0.93\u001b[0m||Ee house and the old man por alike in many ways; tall, proud, patient, contented always t° wait until their. master cones home ~~\n",
       "ResultOCRExtracted#block \u001b[1;36m02\u001b[0m: \u001b[1;36m0.73\u001b[0m||And one in fee would appear.\n",
       "ResultOCRExtracted#block \u001b[1;36m03\u001b[0m: \u001b[1;36m0.67\u001b[0m||— we have a \u001b[33mi\u001b[0m=\u001b[35ms7t\u001b[0m.\n",
       "ResultOCRExtracted#block \u001b[1;36m04\u001b[0m: \u001b[1;36m0.74\u001b[0m||~and tonight, he comes urgently, slamming open\n",
       "ResultOCRExtracted#block \u001b[1;36m05\u001b[0m: \u001b[1;36m0.85\u001b[0m||Tell me master how may bambli serve \u001b[1;36m7\u001b[0m\n",
       "ResultOCRExtracted#block \u001b[1;36m06\u001b[0m: \u001b[1;36m0.93\u001b[0m||Some blankets to keep her warm, banbli-- and perhaps. some dry clothes\n",
       "ResultOCRExtracted#block \u001b[1;36m07\u001b[0m: \u001b[1;36m0.77\u001b[0m||The the old man's fades down the hall s.,\u001b[1;36m00\u001b[0m\n",
       "ResultOCRExtracted#block \u001b[1;36m08\u001b[0m: \u001b[1;36m0.77\u001b[0m||Hin ef fare” had i not chanced to stroll along the river. \u001b[33mtonigmt\u001b[0m=~\n",
       "ResultOCRExtracted#block \u001b[1;36m09\u001b[0m: \u001b[1;36m0.85\u001b[0m||Aulckly as t can, master,\n",
       "ResultOCRExtracted#block \u001b[1;36m10\u001b[0m: \u001b[1;36m1.00\u001b[0m||--the girl would most surely be dead by now.\n",
       "ResultOCRExtracted#block \u001b[1;36m11\u001b[0m: \u001b[1;36m0.51\u001b[0m||Ath the girl a second chance ro\n",
       "ResultOCRExtracted#block \u001b[1;36m12\u001b[0m: \u001b[1;36m0.56\u001b[0m||Cas ee, othing to scream pls aa .\n",
       "ResultOCRExtracted#block \u001b[1;36m13\u001b[0m: \u001b[1;36m0.95\u001b[0m||You're among friends now. you're sale!\n",
       "ResultOCRExtracted#block \u001b[1;36m14\u001b[0m: \u001b[1;36m0.91\u001b[0m||Continued af ext page\n",
       "\n",
       " ---------- Padded \u001b[1;36m4\u001b[0m, extracted ----------\n",
       "ResultOCRExtracted#block \u001b[1;36m00\u001b[0m: \u001b[1;36m0.91\u001b[0m||Enbonsred by great shale cypress trees, the anci manor stands alone on the \u001b[1m[\u001b[0mtskirts of new orleans, kept tidy by a whi te- haired old man known only as b8ambl .\n",
       "ResultOCRExtracted#block \u001b[1;36m01\u001b[0m: \u001b[1;36m0.98\u001b[0m||The house and the old man are alike in many ways; tall, proud, patient, contented always t° wait until their. master cones home --\n",
       "ResultOCRExtracted#block \u001b[1;36m02\u001b[0m: \u001b[1;36m0.73\u001b[0m||And one in fee would appear.\n",
       "ResultOCRExtracted#block \u001b[1;36m03\u001b[0m: \u001b[1;36m0.83\u001b[0m||Bambli we have a gliest.\n",
       "ResultOCRExtracted#block \u001b[1;36m04\u001b[0m: \u001b[1;36m0.74\u001b[0m||=~and tonight, he comes urgently, slamming open\n",
       "ResultOCRExtracted#block \u001b[1;36m05\u001b[0m: \u001b[1;36m0.84\u001b[0m||Tell me master. how may bambli serve \u001b[1;36m7\u001b[0m\n",
       "ResultOCRExtracted#block \u001b[1;36m06\u001b[0m: \u001b[1;36m0.53\u001b[0m||Warm, bambli-- and perhaps. som\n",
       "ResultOCRExtracted#block \u001b[1;36m07\u001b[0m: \u001b[1;36m0.75\u001b[0m||The the old mans fades down the hall sra\n",
       "ResultOCRExtracted#block \u001b[1;36m08\u001b[0m: \u001b[1;36m0.76\u001b[0m||We sea had i not chanced to stroll along the river. tonight-~\n",
       "ResultOCRExtracted#block \u001b[1;36m09\u001b[0m: \u001b[1;36m0.76\u001b[0m||Alley as t can, master,\n",
       "ResultOCRExtracted#block \u001b[1;36m10\u001b[0m: \u001b[1;36m0.98\u001b[0m||~-the girl would most surely be dead by now.\n",
       "ResultOCRExtracted#block \u001b[1;36m11\u001b[0m: \u001b[1;36m0.92\u001b[0m||Chepe has been generous. the peath god has given the girl a second chance amr\n",
       "ResultOCRExtracted#block \u001b[1;36m12\u001b[0m: \u001b[1;36m0.73\u001b[0m||Cas gr theres othing to scream pissy tore .\n",
       "ResultOCRExtracted#block \u001b[1;36m13\u001b[0m: \u001b[1;36m0.95\u001b[0m||You're among eriends now. you're safe!\n",
       "ResultOCRExtracted#block \u001b[1;36m14\u001b[0m: \u001b[1;36m0.91\u001b[0m||Continued af ext page\n",
       "\n",
       " ---------- Padded \u001b[1;36m8\u001b[0m, extracted ----------\n",
       "ResultOCRExtracted#block \u001b[1;36m00\u001b[0m: \u001b[1;36m0.94\u001b[0m||Enbonered by great snarled cypress trees, the ancient nmanor stands alone on the outskirts of new orleans, kept tipy by a whi te-haired old man known only as 8ambli .\n",
       "ResultOCRExtracted#block \u001b[1;36m01\u001b[0m: \u001b[1;36m0.98\u001b[0m||The house and the old man are alike in many ways; tall, proud, patient, contented always t° wait until their. master comes home --\n",
       "ResultOCRExtracted#block \u001b[1;36m02\u001b[0m: \u001b[1;36m0.70\u001b[0m||And one in fee wolld appear.\n",
       "ResultOCRExtracted#block \u001b[1;36m03\u001b[0m: \u001b[1;36m0.86\u001b[0m||Bambl ~~ we have a guest.\n",
       "ResultOCRExtracted#block \u001b[1;36m04\u001b[0m: \u001b[1;36m0.64\u001b[0m||=~and tonight, he comes slamming open urgently,\n",
       "ResultOCRExtracted#block \u001b[1;36m05\u001b[0m: \u001b[1;36m0.82\u001b[0m||Tell me master\u001b[33m...\u001b[0m how may bambli serve't\n",
       "ResultOCRExtracted#block \u001b[1;36m06\u001b[0m: \u001b[1;36m0.91\u001b[0m||Some blankets to keep her warm, banbli-~ and perhaps. some dry clothes\n",
       "ResultOCRExtracted#block \u001b[1;36m07\u001b[0m: \u001b[1;36m0.75\u001b[0m||The the old mans fades down the hall sire\n",
       "ResultOCRExtracted#block \u001b[1;36m08\u001b[0m: \u001b[1;36m0.96\u001b[0m||How curious the whims of fate . had i not chanced to stroll along the river tonight-~\n",
       "ResultOCRExtracted#block \u001b[1;36m09\u001b[0m: \u001b[1;36m0.77\u001b[0m||Allckry as t can, master.\n",
       "ResultOCRExtracted#block \u001b[1;36m10\u001b[0m: \u001b[1;36m0.98\u001b[0m||~-the girl would most surely be dead by now.\n",
       "ResultOCRExtracted#block \u001b[1;36m11\u001b[0m: \u001b[1;36m0.94\u001b[0m||Ghede has been generous. the peath god has given the girl a second chance po\n",
       "ResultOCRExtracted#block \u001b[1;36m12\u001b[0m: \u001b[1;36m0.74\u001b[0m||Cas gr theres othing to scream pps hore .\n",
       "ResultOCRExtracted#block \u001b[1;36m13\u001b[0m: \u001b[1;36m0.42\u001b[0m||You're safe § r\n",
       "ResultOCRExtracted#block \u001b[1;36m14\u001b[0m: \u001b[1;36m0.83\u001b[0m||| continued af ext page\n",
       "\n",
       " ---------- Padded \u001b[1;36m8\u001b[0m, dilation \u001b[1;36m1\u001b[0m ----------\n",
       "ResultOCRExtracted#block \u001b[1;36m00\u001b[0m: \u001b[1;36m0.61\u001b[0m||Outskirts of new orleans, kept tipy by a white-haired old man known only as sams .\n",
       "ResultOCRExtracted#block \u001b[1;36m01\u001b[0m: \u001b[1;36m0.88\u001b[0m||The house and the old man are alike in many ways, tall, proud, nt, contented live walt gtie their, master comes home -=\n",
       "ResultOCRExtracted#block \u001b[1;36m02\u001b[0m: \u001b[1;36m0.97\u001b[0m||And one in need of some help, it wolld appear .\n",
       "ResultOCRExtracted#block \u001b[1;36m03\u001b[0m: \u001b[1;36m0.78\u001b[0m||Bambli ~~ we have a gliest.\n",
       "ResultOCRExtracted#block \u001b[1;36m04\u001b[0m: \u001b[1;36m0.79\u001b[0m||=and tonight, he comes most slamming open the front\n",
       "ResultOCRExtracted#block \u001b[1;36m05\u001b[0m: \u001b[1;36m0.86\u001b[0m||Tell me, master: how may bambli serve \u001b[1;36m7\u001b[0m\n",
       "ResultOCRExtracted#block \u001b[1;36m06\u001b[0m: \u001b[1;36m0.85\u001b[0m||Gone blankets to keep her. warm, bambli-~ and perhaps some dry\n",
       "ResultOCRExtracted#block \u001b[1;36m07\u001b[0m: \u001b[1;36m0.73\u001b[0m||The old man's footsteps the hall as.re\n",
       "ResultOCRExtracted#block \u001b[1;36m08\u001b[0m: \u001b[1;36m0.94\u001b[0m||How curious the whims of fate . had i not chanced to stroll along the r/| ver tonight-~\n",
       "ResultOCRExtracted#block \u001b[1;36m09\u001b[0m: \u001b[1;36m0.68\u001b[0m||Aulckly as t can,\n",
       "ResultOCRExtracted#block \u001b[1;36m10\u001b[0m: \u001b[1;36m0.95\u001b[0m||~<the girl would most surely be dead by now.\n",
       "ResultOCRExtracted#block \u001b[1;36m11\u001b[0m: \u001b[1;36m0.75\u001b[0m||Ee lh boe ene. the death gop has the girl. a second chance\n",
       "ResultOCRExtracted#block \u001b[1;36m12\u001b[0m: \u001b[1;36m0.92\u001b[0m||Easy, girl--there's nothing to scream abolit anymo!\n",
       "ResultOCRExtracted#block \u001b[1;36m13\u001b[0m: \u001b[1;36m0.97\u001b[0m||You're among friends now. you're safe!\n",
       "ResultOCRExtracted#block \u001b[1;36m14\u001b[0m: \u001b[1;36m0.83\u001b[0m||| continued af ext page\n",
       "\n",
       " ---------- Pad \u001b[1;36m8\u001b[0m, fract. \u001b[1;36m0.5\u001b[0m ----------\n",
       "ResultOCRExtracted#block \u001b[1;36m00\u001b[0m: \u001b[1;36m0.94\u001b[0m||Enbonered by great snarled cypress trees, the ancient manor stands alone on the outskirts of new orleans, kept tipy by a whi te-haired old man known only as b8ambl .\n",
       "ResultOCRExtracted#block \u001b[1;36m01\u001b[0m: \u001b[1;36m0.97\u001b[0m||The house and the old man are alike in many ways; tall, proud, patient, contented always t° wait until. their. master comes home ~~\n",
       "ResultOCRExtracted#block \u001b[1;36m02\u001b[0m: \u001b[1;36m0.78\u001b[0m||And one in eee pe would appear.\n",
       "ResultOCRExtracted#block \u001b[1;36m03\u001b[0m: \u001b[1;36m0.86\u001b[0m||Bambl ~~ we have a guest.\n",
       "ResultOCRExtracted#block \u001b[1;36m04\u001b[0m: \u001b[1;36m0.64\u001b[0m||=~and tonight, he comes slamming open urgently,\n",
       "ResultOCRExtracted#block \u001b[1;36m05\u001b[0m: \u001b[1;36m0.82\u001b[0m||Tell me master\u001b[33m...\u001b[0m how may bambli serve'\u001b[1;36m7\u001b[0m\n",
       "ResultOCRExtracted#block \u001b[1;36m06\u001b[0m: \u001b[1;36m0.94\u001b[0m||Some blankets to keep her. warm, bambli-~ and perhaps. some dry clothes\n",
       "ResultOCRExtracted#block \u001b[1;36m07\u001b[0m: \u001b[1;36m0.73\u001b[0m||The the old mans fades donn the hall sire\n",
       "ResultOCRExtracted#block \u001b[1;36m08\u001b[0m: \u001b[1;36m0.96\u001b[0m||How curious the whims of fate . had i not chanced to stroll along the river tonight-~\n",
       "ResultOCRExtracted#block \u001b[1;36m09\u001b[0m: \u001b[1;36m0.81\u001b[0m||Aulckry as t can, master.\n",
       "ResultOCRExtracted#block \u001b[1;36m10\u001b[0m: \u001b[1;36m0.98\u001b[0m||~-the girl would most surely be dead by now.\n",
       "ResultOCRExtracted#block \u001b[1;36m11\u001b[0m: \u001b[1;36m0.92\u001b[0m||Ghede hag been generous. the peath god has given the girl a second chance po\n",
       "ResultOCRExtracted#block \u001b[1;36m12\u001b[0m: \u001b[1;36m0.76\u001b[0m||Cas srl theres othing to scream seoit hore .\n",
       "ResultOCRExtracted#block \u001b[1;36m13\u001b[0m: \u001b[1;36m0.42\u001b[0m||You're safe \u001b[1;36m4\u001b[0m ’\n",
       "ResultOCRExtracted#block \u001b[1;36m14\u001b[0m: \u001b[1;36m0.83\u001b[0m||| continued af ext page\n",
       "\n",
       " ---------- Pad \u001b[1;36m8\u001b[0m, fract. \u001b[1;36m0.2\u001b[0m ----------\n",
       "ResultOCRExtracted#block \u001b[1;36m00\u001b[0m: \u001b[1;36m0.94\u001b[0m||Enbonered by great snarled cypress trees, the ancient manor stands alone on the outskirts of new orleans, kept tipy by a whi te-haired old man known only as b8ambl .\n",
       "ResultOCRExtracted#block \u001b[1;36m01\u001b[0m: \u001b[1;36m0.97\u001b[0m||The house and the old man are alike in many ways; tall, proud, patient, contented always t° wait until their. master comes home ~~\n",
       "ResultOCRExtracted#block \u001b[1;36m02\u001b[0m: \u001b[1;36m0.77\u001b[0m||And one in eet sve would appear.\n",
       "ResultOCRExtracted#block \u001b[1;36m03\u001b[0m: \u001b[1;36m0.86\u001b[0m||Bambl ~~ we have a guest.\n",
       "ResultOCRExtracted#block \u001b[1;36m04\u001b[0m: \u001b[1;36m0.64\u001b[0m||=~and tonight, he comes slamming open urgently,\n",
       "ResultOCRExtracted#block \u001b[1;36m05\u001b[0m: \u001b[1;36m0.82\u001b[0m||Tell me master\u001b[33m...\u001b[0m how may bambli serve'\u001b[1;36m7\u001b[0m\n",
       "ResultOCRExtracted#block \u001b[1;36m06\u001b[0m: \u001b[1;36m0.94\u001b[0m||Some blankets to keep her, warm, bambli-~ and perhaps. some dry clothes\n",
       "ResultOCRExtracted#block \u001b[1;36m07\u001b[0m: \u001b[1;36m0.75\u001b[0m||The the old mans fades down the hall sere\n",
       "ResultOCRExtracted#block \u001b[1;36m08\u001b[0m: \u001b[1;36m0.96\u001b[0m||How curious the whims of fate . had i not chanced to stroll along the river tonight-~\n",
       "ResultOCRExtracted#block \u001b[1;36m09\u001b[0m: \u001b[1;36m0.81\u001b[0m||Aulckry as t can, master.\n",
       "ResultOCRExtracted#block \u001b[1;36m10\u001b[0m: \u001b[1;36m0.95\u001b[0m||~<the girl would most surely be dead by now.\n",
       "ResultOCRExtracted#block \u001b[1;36m11\u001b[0m: \u001b[1;36m0.94\u001b[0m||Ghede has been generous. the ceath god has given the girl a second chance po\n",
       "ResultOCRExtracted#block \u001b[1;36m12\u001b[0m: \u001b[1;36m0.67\u001b[0m||Yi renee othing to scream seat anhore .\n",
       "ResultOCRExtracted#block \u001b[1;36m13\u001b[0m: \u001b[1;36m0.93\u001b[0m||Youre among eriends now. you're safe!\n",
       "ResultOCRExtracted#block \u001b[1;36m14\u001b[0m: \u001b[1;36m0.83\u001b[0m||| continued af ext page\n",
       "\n",
       "\n"
      ]
     },
     "metadata": {},
     "output_type": "display_data"
    }
   ],
   "source": [
    "image_experiment.display()"
   ]
  },
  {
   "cell_type": "code",
   "execution_count": null,
   "metadata": {},
   "outputs": [
    {
     "data": {
      "image/png": "[encoded data removed]",
      "text/plain": [
       "<Figure size 1000x500 with 1 Axes>"
      ]
     },
     "metadata": {},
     "output_type": "display_data"
    }
   ],
   "source": [
    "image_experiment.plot_accuracies()\n"
   ]
  },
  {
   "cell_type": "code",
   "execution_count": null,
   "metadata": {},
   "outputs": [
    {
     "data": {
      "text/html": [
       "\n",
       "        <div id=\"wrapper-5f46b4cf-bce1-47d7-ab7b-f8c22370d5ee\" style=\"width: 100%; max-height: 400px; overflow-y: auto;\">\n",
       "            <div id=\"5f46b4cf-bce1-47d7-ab7b-f8c22370d5ee\" style=\"width: 100%;\"></div>\n",
       "            <script>\n",
       "                require([\"https://rawgit.com/caldwell/renderjson/master/renderjson.js\"], function() {\n",
       "                    renderjson.set_show_to_level(2);\n",
       "                    document.getElementById('5f46b4cf-bce1-47d7-ab7b-f8c22370d5ee').appendChild(renderjson({\"run_name\": \"Tesseract-crop-post\", \"image_name\": \"Strange_Tales_172005.jpg\", \"results\": {\"0\": {\"INITIAL_BOX\": \"Eneonered by great gnarled cypress jrfes, the ancient manor stands alone on the outski) 2 of mew ce eans, kept tidy by a white-haired old man known only as bambs, 3\", \"DEFAULT\": \"Eneowered by great gnarled cypress jrfes, the ancient manor ! alone on the eit of mew rce: eans, kept tipy by a white-haired ao han known only as\", \"DEFAULT_GREY_PAD\": \"Enbowered by great gnarled cypress trees, the ancient manor stands alone on the outskirts of new orleans, kept tipy by a white-haired old man known only as\", \"PADDED_4\": \"Enbonered by great gnarled cypress jrfes, the ancient manor stands alone on the eit of mew rce: eans, kept tipy by a white-haired ao lo man known only as\", \"PADDED_8\": \"Enbonered by great gnarled cypress trees, the ancient manor stands alone on the pag hile of new orleans, kept tipy by a white-haired ao lo man known omy as\", \"EXTRACTED_INIT_BOX\": \"Fhbonered by great snarled cypress trees, the ancient nmanor stands alone on the outskirts of new orleans. kept tipy by a whi te-haire old man known only as bambi] .\", \"PADDED_4_EXTRACTED\": \"Enbonsred by great shale cypress trees, the anci manor stands alone on the [tskirts of new orleans, kept tidy by a whi te- haired old man known only as b8ambl .\", \"PADDED_8_EXTRACTED\": \"Enbonered by great snarled cypress trees, the ancient nmanor stands alone on the outskirts of new orleans, kept tipy by a whi te-haired old man known only as 8ambli .\", \"PADDED_8_DILATION_1\": \"Outskirts of new orleans, kept tipy by a white-haired old man known only as sams .\", \"PAD_8_FRACT_0_5\": \"Enbonered by great snarled cypress trees, the ancient manor stands alone on the outskirts of new orleans, kept tipy by a whi te-haired old man known only as b8ambl .\", \"PAD_8_FRACT_0_2\": \"Enbonered by great snarled cypress trees, the ancient manor stands alone on the outskirts of new orleans, kept tipy by a whi te-haired old man known only as b8ambl .\"}, \"1\": {\"INITIAL_BOX\": \"The house and the old man are alike in many ways; tall, prolid, patient, contented always 0 wait until. their. master cones mome ~~\", \"DEFAULT\": \"The house and the old man are alike in many ways; tall, proud, patient, conten tel always to wait until their. master cones home ~~\", \"DEFAULT_GREY_PAD\": \"The house and the old man are alike in many ways; tall, prolid, patient, contented always to wait until their. * master cones home ~-\", \"PADDED_4\": \"The house and the oldman are alike in many ways; tall, proud, patient, contented a ways 0 wait until their. aster comes home ~~ | }\", \"PADDED_8\": \"The house and the old man are alike in many ways; tall, proud, patient, contented always to wait until their. master comes home\", \"EXTRACTED_INIT_BOX\": \"Ee house and the old man por alike in many ways; tall, proud, patient, contented always t\\u00b0 wait until their. master cones home ~~\", \"PADDED_4_EXTRACTED\": \"The house and the old man are alike in many ways; tall, proud, patient, contented always t\\u00b0 wait until their. master cones home --\", \"PADDED_8_EXTRACTED\": \"The house and the old man are alike in many ways; tall, proud, patient, contented always t\\u00b0 wait until their. master comes home --\", \"PADDED_8_DILATION_1\": \"The house and the old man are alike in many ways, tall, proud, nt, contented live walt gtie their, master comes home -=\", \"PAD_8_FRACT_0_5\": \"The house and the old man are alike in many ways; tall, proud, patient, contented always t\\u00b0 wait until. their. master comes home ~~\", \"PAD_8_FRACT_0_2\": \"The house and the old man are alike in many ways; tall, proud, patient, contented always t\\u00b0 wait until their. master comes home ~~\"}, \"2\": {\"INITIAL_BOX\": \"\\u201cand one in ee would appear.\", \"DEFAULT\": \"And one in ee would appear.\", \"DEFAULT_GREY_PAD\": \"\\u201cand one in > need of some help, it would appear .\", \"PADDED_4\": \"F and one in ee would appear.\", \"PADDED_8\": \"7 and one in ee would appear,\", \"EXTRACTED_INIT_BOX\": \"And one in fee would appear.\", \"PADDED_4_EXTRACTED\": \"And one in fee would appear.\", \"PADDED_8_EXTRACTED\": \"And one in fee wolld appear.\", \"PADDED_8_DILATION_1\": \"And one in need of some help, it wolld appear .\", \"PAD_8_FRACT_0_5\": \"And one in eee pe would appear.\", \"PAD_8_FRACT_0_2\": \"And one in eet sve would appear.\"}, \"3\": {\"INITIAL_BOX\": \"Re bambli-~ we have a\", \"DEFAULT\": \"Rir guest.\", \"DEFAULT_GREY_PAD\": \"\\\" bambl-- we have a guest.\", \"PADDED_4\": \"\\\" bambli-\\u2014 we have a gliest.\", \"PADDED_8\": \"Zf mbl == we have a guest.\", \"EXTRACTED_INIT_BOX\": \"\\u2014 we have a i=s7t.\", \"PADDED_4_EXTRACTED\": \"Bambli we have a gliest.\", \"PADDED_8_EXTRACTED\": \"Bambl ~~ we have a guest.\", \"PADDED_8_DILATION_1\": \"Bambli ~~ we have a gliest.\", \"PAD_8_FRACT_0_5\": \"Bambl ~~ we have a guest.\", \"PAD_8_FRACT_0_2\": \"Bambl ~~ we have a guest.\"}, \"4\": {\"INITIAL_BOX\": \"Tonight, he comes noost slamming open the caken\", \"DEFAULT\": \"=~and tonight, he comes host sane oo\", \"DEFAULT_GREY_PAD\": \"~~and tonight, he comes urgently, slanming open\", \"PADDED_4\": \"P comes slamming open the caken\", \"PADDED_8\": \"Tonight, he comes host slamming open\", \"EXTRACTED_INIT_BOX\": \"~and tonight, he comes urgently, slamming open\", \"PADDED_4_EXTRACTED\": \"=~and tonight, he comes urgently, slamming open\", \"PADDED_8_EXTRACTED\": \"=~and tonight, he comes slamming open urgently,\", \"PADDED_8_DILATION_1\": \"=and tonight, he comes most slamming open the front\", \"PAD_8_FRACT_0_5\": \"=~and tonight, he comes slamming open urgently,\", \"PAD_8_FRACT_0_2\": \"=~and tonight, he comes slamming open urgently,\"}, \"5\": {\"INITIAL_BOX\": \"Tell me naster. how may bambli serve 7\", \"DEFAULT\": \"Tell me masts - how may bambli . serve 7 _\", \"DEFAULT_GREY_PAD\": \"Tell me, master: how may bambli serve 7\", \"PADDED_4\": \"Tel oe er-- 5 ow a = 7\", \"PADDED_8\": \"Yy i tell me master - how may bambli serve 7 _,\", \"EXTRACTED_INIT_BOX\": \"Tell me master how may bambli serve 7\", \"PADDED_4_EXTRACTED\": \"Tell me master. how may bambli serve 7\", \"PADDED_8_EXTRACTED\": \"Tell me master... how may bambli serve't\", \"PADDED_8_DILATION_1\": \"Tell me, master: how may bambli serve 7\", \"PAD_8_FRACT_0_5\": \"Tell me master... how may bambli serve'7\", \"PAD_8_FRACT_0_2\": \"Tell me master... how may bambli serve'7\"}, \"6\": {\"INITIAL_BOX\": \"\\u00a37 \\u00bb and perhaps some dry clothes... 7 /\", \"DEFAULT\": \"R warm, bambli-~ and perhaps\", \"DEFAULT_GREY_PAD\": \"Some blankets to keep her. warm, bambli-- and perhaps some dry \\\\ clothes--7 /.\", \"PADDED_4\": \"We and perhaps c oe /\", \"PADDED_8\": \"Some. blankets to keep he arm , bambli-= and perhaps some dry clothes. 2s\", \"EXTRACTED_INIT_BOX\": \"Some blankets to keep her warm, banbli-- and perhaps. some dry clothes\", \"PADDED_4_EXTRACTED\": \"Warm, bambli-- and perhaps. som\", \"PADDED_8_EXTRACTED\": \"Some blankets to keep her warm, banbli-~ and perhaps. some dry clothes\", \"PADDED_8_DILATION_1\": \"Gone blankets to keep her. warm, bambli-~ and perhaps some dry\", \"PAD_8_FRACT_0_5\": \"Some blankets to keep her. warm, bambli-~ and perhaps. some dry clothes\", \"PAD_8_FRACT_0_2\": \"Some blankets to keep her, warm, bambli-~ and perhaps. some dry clothes\"}, \"7\": {\"INITIAL_BOX\": \"The the old man's fades down the hall as... 7\", \"DEFAULT\": \"The the old mans fades down the hall s.00\", \"DEFAULT_GREY_PAD\": \"As.\", \"PADDED_4\": \"The the old mans fades down the hall sra\", \"PADDED_8\": \"The the old mans fades down the hal. srl see\", \"EXTRACTED_INIT_BOX\": \"The the old man's fades down the hall s.,00\", \"PADDED_4_EXTRACTED\": \"The the old mans fades down the hall sra\", \"PADDED_8_EXTRACTED\": \"The the old mans fades down the hall sire\", \"PADDED_8_DILATION_1\": \"The old man's footsteps the hall as.re\", \"PAD_8_FRACT_0_5\": \"The the old mans fades donn the hall sire\", \"PAD_8_FRACT_0_2\": \"The the old mans fades down the hall sere\"}, \"8\": {\"INITIAL_BOX\": \"How curious the 4 fate. whims of had t not chanced to stroll along the river yl tonight ==\", \"DEFAULT\": \"How curious the a whims of fate . had t not chanced to stroll along the river tonight~~ >\", \"DEFAULT_GREY_PAD\": \"How curious the d 7e . whims of fa; had i not chanced to stroll along the river tonight--\", \"PADDED_4\": \"How curious the a whims of fate . - had i not chanced to stroll along the river yl tonight~-\", \"PADDED_8\": \"* how curious the p whims of fate . - had i not chanced . to stroll along _ the river 3 tonight-~\", \"EXTRACTED_INIT_BOX\": \"Hin ef fare\\u201d had i not chanced to stroll along the river. tonigmt=~\", \"PADDED_4_EXTRACTED\": \"We sea had i not chanced to stroll along the river. tonight-~\", \"PADDED_8_EXTRACTED\": \"How curious the whims of fate . had i not chanced to stroll along the river tonight-~\", \"PADDED_8_DILATION_1\": \"How curious the whims of fate . had i not chanced to stroll along the r/| ver tonight-~\", \"PAD_8_FRACT_0_5\": \"How curious the whims of fate . had i not chanced to stroll along the river tonight-~\", \"PAD_8_FRACT_0_2\": \"How curious the whims of fate . had i not chanced to stroll along the river tonight-~\"}, \"9\": {\"INITIAL_BOX\": \"Fas oulckly as t ca, master.\", \"DEFAULT\": \"Aulckly \\u201cmaster as t can,\", \"DEFAULT_GREY_PAD\": \"Ickl as t can\", \"PADDED_4\": \"Aulckly as t can, \\u2018masrer.\", \"PADDED_8\": \"Tiie as t can, \\\\ master ,\", \"EXTRACTED_INIT_BOX\": \"Aulckly as t can, master,\", \"PADDED_4_EXTRACTED\": \"Alley as t can, master,\", \"PADDED_8_EXTRACTED\": \"Allckry as t can, master.\", \"PADDED_8_DILATION_1\": \"Aulckly as t can,\", \"PAD_8_FRACT_0_5\": \"Aulckry as t can, master.\", \"PAD_8_FRACT_0_2\": \"Aulckry as t can, master.\"}, \"10\": {\"INITIAL_BOX\": \"<the girl would - most slirely be dead by now.\", \"DEFAULT\": \"<the girl would - most surely be dead by now.\", \"DEFAULT_GREY_PAD\": \"\", \"PADDED_4\": \"<the girl wolld - most surely be dead by now.\", \"PADDED_8\": \"The girl wolld - most slirely be - dead by now.\", \"EXTRACTED_INIT_BOX\": \"--the girl would most surely be dead by now.\", \"PADDED_4_EXTRACTED\": \"~-the girl would most surely be dead by now.\", \"PADDED_8_EXTRACTED\": \"~-the girl would most surely be dead by now.\", \"PADDED_8_DILATION_1\": \"~<the girl would most surely be dead by now.\", \"PAD_8_FRACT_0_5\": \"~-the girl would most surely be dead by now.\", \"PAD_8_FRACT_0_2\": \"~<the girl would most surely be dead by now.\"}, \"11\": {\"INITIAL_BOX\": \"Ath the girl. a second chance ge a ee yg adil\", \"DEFAULT\": \"Ath - the girl. a second chance ee oo tr tt\", \"DEFAULT_GREY_PAD\": \"Ghede has been generous. the death god has gen + the girl. a second chance te oe ato\\\" pd ate\", \"PADDED_4\": \"Ghede has been generous. the oeath gop has given - the girl. a second chance ye, alem\", \"PADDED_8\": \"Ghede has been generous. : the crn son ue;\", \"EXTRACTED_INIT_BOX\": \"Ath the girl a second chance ro\", \"PADDED_4_EXTRACTED\": \"Chepe has been generous. the peath god has given the girl a second chance amr\", \"PADDED_8_EXTRACTED\": \"Ghede has been generous. the peath god has given the girl a second chance po\", \"PADDED_8_DILATION_1\": \"Ee lh boe ene. the death gop has the girl. a second chance\", \"PAD_8_FRACT_0_5\": \"Ghede hag been generous. the peath god has given the girl a second chance po\", \"PAD_8_FRACT_0_2\": \"Ghede has been generous. the ceath god has given the girl a second chance po\"}, \"12\": {\"INITIAL_BOX\": \"Ah girl--there's othing to scream ntt anymore .\", \"DEFAULT\": \"Oe girl--there's othing to scream nt anymore. 4\", \"DEFAULT_GREY_PAD\": \"Easy, girl--there's | nothing to scream about anyaore.\", \"PADDED_4\": \"Soe er eke othing to scream ay anymore.\", \"PADDED_8\": \"Soe er eke othing to scream hbolt anhore hr\", \"EXTRACTED_INIT_BOX\": \"Cas ee, othing to scream pls aa .\", \"PADDED_4_EXTRACTED\": \"Cas gr theres othing to scream pissy tore .\", \"PADDED_8_EXTRACTED\": \"Cas gr theres othing to scream pps hore .\", \"PADDED_8_DILATION_1\": \"Easy, girl--there's nothing to scream abolit anymo!\", \"PAD_8_FRACT_0_5\": \"Cas srl theres othing to scream seoit hore .\", \"PAD_8_FRACT_0_2\": \"Yi renee othing to scream seat anhore .\"}, \"13\": {\"INITIAL_BOX\": \"You're among friends now. you're sale\", \"DEFAULT\": \"You're among friends now. youre safe!\", \"DEFAULT_GREY_PAD\": \"You're among friends now. you're safe!\", \"PADDED_4\": \"\\\"you're among friends now. you're safe!\", \"PADDED_8\": \"\\u201d you're among friends now. you're safe!\", \"EXTRACTED_INIT_BOX\": \"You're among friends now. you're sale!\", \"PADDED_4_EXTRACTED\": \"You're among eriends now. you're safe!\", \"PADDED_8_EXTRACTED\": \"You're safe \\u00a7 r\", \"PADDED_8_DILATION_1\": \"You're among friends now. you're safe!\", \"PAD_8_FRACT_0_5\": \"You're safe 4 \\u2019\", \"PAD_8_FRACT_0_2\": \"Youre among eriends now. you're safe!\"}, \"14\": {\"INITIAL_BOX\": \"Continued after next page\", \"DEFAULT\": \"Continued after next page\", \"DEFAULT_GREY_PAD\": \"\\u201ccontinued a\", \"PADDED_4\": \"Continued after next page\", \"PADDED_8\": \"\\u201ccontinued after next page\", \"EXTRACTED_INIT_BOX\": \"Continued af ext page\", \"PADDED_4_EXTRACTED\": \"Continued af ext page\", \"PADDED_8_EXTRACTED\": \"| continued af ext page\", \"PADDED_8_DILATION_1\": \"| continued af ext page\", \"PAD_8_FRACT_0_5\": \"| continued af ext page\", \"PAD_8_FRACT_0_2\": \"| continued af ext page\"}}}));\n",
       "                });\n",
       "            </script>\n",
       "        </div>\n",
       "        "
      ],
      "text/plain": [
       "<IPython.core.display.HTML object>"
      ]
     },
     "metadata": {},
     "output_type": "display_data"
    }
   ],
   "source": [
    "RenderJSON(image_experiment.to_dict(), 400, 2)\n"
   ]
  },
  {
   "cell_type": "markdown",
   "metadata": {},
   "source": [
    "best results"
   ]
  },
  {
   "cell_type": "code",
   "execution_count": null,
   "metadata": {},
   "outputs": [
    {
     "data": {
      "text/html": [
       "<pre style=\"white-space:pre;overflow-x:auto;line-height:normal;font-family:Menlo,'DejaVu Sans Mono',consolas,'Courier New',monospace\"><span style=\"font-weight: bold\">[</span>\n",
       "    <span style=\"font-weight: bold\">(</span>\n",
       "        <span style=\"color: #008000; text-decoration-color: #008000\">'Default, grey pad'</span>,\n",
       "        <span style=\"color: #008000; text-decoration-color: #008000\">'0.953'</span>,\n",
       "        <span style=\"color: #008000; text-decoration-color: #008000\">'Enbowered by great gnarled cypress trees, the ancient manor stands alone on the outskirts of </span>\n",
       "<span style=\"color: #008000; text-decoration-color: #008000\">new orleans, kept tipy by a white-haired old man known only as'</span>\n",
       "    <span style=\"font-weight: bold\">)</span>,\n",
       "    <span style=\"font-weight: bold\">(</span>\n",
       "        <span style=\"color: #008000; text-decoration-color: #008000\">'Padded 8px'</span>,\n",
       "        <span style=\"color: #008000; text-decoration-color: #008000\">'0.988'</span>,\n",
       "        <span style=\"color: #008000; text-decoration-color: #008000\">'The house and the old man are alike in many ways; tall, proud, patient, contented always to </span>\n",
       "<span style=\"color: #008000; text-decoration-color: #008000\">wait until their. master comes home'</span>\n",
       "    <span style=\"font-weight: bold\">)</span>,\n",
       "    <span style=\"font-weight: bold\">(</span><span style=\"color: #008000; text-decoration-color: #008000\">'Padded 8, dilation 1'</span>, <span style=\"color: #008000; text-decoration-color: #008000\">'0.968'</span>, <span style=\"color: #008000; text-decoration-color: #008000\">'And one in need of some help, it wolld appear .'</span><span style=\"font-weight: bold\">)</span>,\n",
       "    <span style=\"font-weight: bold\">(</span><span style=\"color: #008000; text-decoration-color: #008000\">'Default, grey pad'</span>, <span style=\"color: #008000; text-decoration-color: #008000\">'0.880'</span>, <span style=\"color: #008000; text-decoration-color: #008000\">'\" bambl-- we have a guest.'</span><span style=\"font-weight: bold\">)</span>,\n",
       "    <span style=\"font-weight: bold\">(</span><span style=\"color: #008000; text-decoration-color: #008000\">'Padded 8, dilation 1'</span>, <span style=\"color: #008000; text-decoration-color: #008000\">'0.794'</span>, <span style=\"color: #008000; text-decoration-color: #008000\">'=and tonight, he comes most slamming open the front'</span><span style=\"font-weight: bold\">)</span>,\n",
       "    <span style=\"font-weight: bold\">(</span><span style=\"color: #008000; text-decoration-color: #008000\">'Default, grey pad'</span>, <span style=\"color: #008000; text-decoration-color: #008000\">'0.857'</span>, <span style=\"color: #008000; text-decoration-color: #008000\">'Tell me, master: how may bambli serve 7'</span><span style=\"font-weight: bold\">)</span>,\n",
       "    <span style=\"font-weight: bold\">(</span>\n",
       "        <span style=\"color: #008000; text-decoration-color: #008000\">'Pad 8, fract. 0.5'</span>,\n",
       "        <span style=\"color: #008000; text-decoration-color: #008000\">'0.935'</span>,\n",
       "        <span style=\"color: #008000; text-decoration-color: #008000\">'Some blankets to keep her. warm, bambli-~ and perhaps. some dry clothes'</span>\n",
       "    <span style=\"font-weight: bold\">)</span>,\n",
       "    <span style=\"font-weight: bold\">(</span><span style=\"color: #008000; text-decoration-color: #008000\">'Initial box'</span>, <span style=\"color: #008000; text-decoration-color: #008000\">'0.811'</span>, <span style=\"color: #008000; text-decoration-color: #008000\">\"The the old man's fades down the hall as... 7\"</span><span style=\"font-weight: bold\">)</span>,\n",
       "    <span style=\"font-weight: bold\">(</span>\n",
       "        <span style=\"color: #008000; text-decoration-color: #008000\">'Padded 8, extracted'</span>,\n",
       "        <span style=\"color: #008000; text-decoration-color: #008000\">'0.959'</span>,\n",
       "        <span style=\"color: #008000; text-decoration-color: #008000\">'How curious the whims of fate . had i not chanced to stroll along the river tonight-~'</span>\n",
       "    <span style=\"font-weight: bold\">)</span>,\n",
       "    <span style=\"font-weight: bold\">(</span><span style=\"color: #008000; text-decoration-color: #008000\">'Extracted, init box'</span>, <span style=\"color: #008000; text-decoration-color: #008000\">'0.846'</span>, <span style=\"color: #008000; text-decoration-color: #008000\">'Aulckly as t can, master,'</span><span style=\"font-weight: bold\">)</span>,\n",
       "    <span style=\"font-weight: bold\">(</span><span style=\"color: #008000; text-decoration-color: #008000\">'Extracted, init box'</span>, <span style=\"color: #008000; text-decoration-color: #008000\">'1.000'</span>, <span style=\"color: #008000; text-decoration-color: #008000\">'--the girl would most surely be dead by now.'</span><span style=\"font-weight: bold\">)</span>,\n",
       "    <span style=\"font-weight: bold\">(</span>\n",
       "        <span style=\"color: #008000; text-decoration-color: #008000\">'Padded 8, extracted'</span>,\n",
       "        <span style=\"color: #008000; text-decoration-color: #008000\">'0.935'</span>,\n",
       "        <span style=\"color: #008000; text-decoration-color: #008000\">'Ghede has been generous. the peath god has given the girl a second chance po'</span>\n",
       "    <span style=\"font-weight: bold\">)</span>,\n",
       "    <span style=\"font-weight: bold\">(</span><span style=\"color: #008000; text-decoration-color: #008000\">'Default, grey pad'</span>, <span style=\"color: #008000; text-decoration-color: #008000\">'0.953'</span>, <span style=\"color: #008000; text-decoration-color: #008000\">\"Easy, girl--there's | nothing to scream about anyaore.\"</span><span style=\"font-weight: bold\">)</span>,\n",
       "    <span style=\"font-weight: bold\">(</span><span style=\"color: #008000; text-decoration-color: #008000\">'Default, grey pad'</span>, <span style=\"color: #008000; text-decoration-color: #008000\">'0.974'</span>, <span style=\"color: #008000; text-decoration-color: #008000\">\"You're among friends now. you're safe!\"</span><span style=\"font-weight: bold\">)</span>,\n",
       "    <span style=\"font-weight: bold\">(</span><span style=\"color: #008000; text-decoration-color: #008000\">'Initial box'</span>, <span style=\"color: #008000; text-decoration-color: #008000\">'1.000'</span>, <span style=\"color: #008000; text-decoration-color: #008000\">'Continued after next page'</span><span style=\"font-weight: bold\">)</span>\n",
       "<span style=\"font-weight: bold\">]</span>\n",
       "</pre>\n"
      ],
      "text/plain": [
       "\u001b[1m[\u001b[0m\n",
       "    \u001b[1m(\u001b[0m\n",
       "        \u001b[32m'Default, grey pad'\u001b[0m,\n",
       "        \u001b[32m'0.953'\u001b[0m,\n",
       "        \u001b[32m'Enbowered by great gnarled cypress trees, the ancient manor stands alone on the outskirts of \u001b[0m\n",
       "\u001b[32mnew orleans, kept tipy by a white-haired old man known only as'\u001b[0m\n",
       "    \u001b[1m)\u001b[0m,\n",
       "    \u001b[1m(\u001b[0m\n",
       "        \u001b[32m'Padded 8px'\u001b[0m,\n",
       "        \u001b[32m'0.988'\u001b[0m,\n",
       "        \u001b[32m'The house and the old man are alike in many ways; tall, proud, patient, contented always to \u001b[0m\n",
       "\u001b[32mwait until their. master comes home'\u001b[0m\n",
       "    \u001b[1m)\u001b[0m,\n",
       "    \u001b[1m(\u001b[0m\u001b[32m'Padded 8, dilation 1'\u001b[0m, \u001b[32m'0.968'\u001b[0m, \u001b[32m'And one in need of some help, it wolld appear .'\u001b[0m\u001b[1m)\u001b[0m,\n",
       "    \u001b[1m(\u001b[0m\u001b[32m'Default, grey pad'\u001b[0m, \u001b[32m'0.880'\u001b[0m, \u001b[32m'\" bambl-- we have a guest.'\u001b[0m\u001b[1m)\u001b[0m,\n",
       "    \u001b[1m(\u001b[0m\u001b[32m'Padded 8, dilation 1'\u001b[0m, \u001b[32m'0.794'\u001b[0m, \u001b[32m'=and tonight, he comes most slamming open the front'\u001b[0m\u001b[1m)\u001b[0m,\n",
       "    \u001b[1m(\u001b[0m\u001b[32m'Default, grey pad'\u001b[0m, \u001b[32m'0.857'\u001b[0m, \u001b[32m'Tell me, master: how may bambli serve 7'\u001b[0m\u001b[1m)\u001b[0m,\n",
       "    \u001b[1m(\u001b[0m\n",
       "        \u001b[32m'Pad 8, fract. 0.5'\u001b[0m,\n",
       "        \u001b[32m'0.935'\u001b[0m,\n",
       "        \u001b[32m'Some blankets to keep her. warm, bambli-~ and perhaps. some dry clothes'\u001b[0m\n",
       "    \u001b[1m)\u001b[0m,\n",
       "    \u001b[1m(\u001b[0m\u001b[32m'Initial box'\u001b[0m, \u001b[32m'0.811'\u001b[0m, \u001b[32m\"The the old man's fades down the hall as... 7\"\u001b[0m\u001b[1m)\u001b[0m,\n",
       "    \u001b[1m(\u001b[0m\n",
       "        \u001b[32m'Padded 8, extracted'\u001b[0m,\n",
       "        \u001b[32m'0.959'\u001b[0m,\n",
       "        \u001b[32m'How curious the whims of fate . had i not chanced to stroll along the river tonight-~'\u001b[0m\n",
       "    \u001b[1m)\u001b[0m,\n",
       "    \u001b[1m(\u001b[0m\u001b[32m'Extracted, init box'\u001b[0m, \u001b[32m'0.846'\u001b[0m, \u001b[32m'Aulckly as t can, master,'\u001b[0m\u001b[1m)\u001b[0m,\n",
       "    \u001b[1m(\u001b[0m\u001b[32m'Extracted, init box'\u001b[0m, \u001b[32m'1.000'\u001b[0m, \u001b[32m'--the girl would most surely be dead by now.'\u001b[0m\u001b[1m)\u001b[0m,\n",
       "    \u001b[1m(\u001b[0m\n",
       "        \u001b[32m'Padded 8, extracted'\u001b[0m,\n",
       "        \u001b[32m'0.935'\u001b[0m,\n",
       "        \u001b[32m'Ghede has been generous. the peath god has given the girl a second chance po'\u001b[0m\n",
       "    \u001b[1m)\u001b[0m,\n",
       "    \u001b[1m(\u001b[0m\u001b[32m'Default, grey pad'\u001b[0m, \u001b[32m'0.953'\u001b[0m, \u001b[32m\"Easy, girl--there's | nothing to scream about anyaore.\"\u001b[0m\u001b[1m)\u001b[0m,\n",
       "    \u001b[1m(\u001b[0m\u001b[32m'Default, grey pad'\u001b[0m, \u001b[32m'0.974'\u001b[0m, \u001b[32m\"You're among friends now. you're safe!\"\u001b[0m\u001b[1m)\u001b[0m,\n",
       "    \u001b[1m(\u001b[0m\u001b[32m'Initial box'\u001b[0m, \u001b[32m'1.000'\u001b[0m, \u001b[32m'Continued after next page'\u001b[0m\u001b[1m)\u001b[0m\n",
       "\u001b[1m]\u001b[0m\n"
      ]
     },
     "metadata": {},
     "output_type": "display_data"
    }
   ],
   "source": [
    "ll = image_experiment.best_results()\n",
    "if ll:\n",
    "    cprint([(m.value, f\"{r.acc:.3f}\", r.ocr) for m,r in ll])\n"
   ]
  },
  {
   "cell_type": "markdown",
   "metadata": {},
   "source": [
    "Perfom experiments given a list of `CropMethod`s\n"
   ]
  },
  {
   "cell_type": "code",
   "execution_count": null,
   "metadata": {},
   "outputs": [],
   "source": [
    "# methods = [*CropMethod.__members__.values()]\n",
    "methods = [CropMethod.INITIAL_BOX, CropMethod.DEFAULT]\n",
    "image_experiment.perform_methods(methods)\n"
   ]
  },
  {
   "cell_type": "markdown",
   "metadata": {},
   "source": [
    "Plot the perfomance of the experiments"
   ]
  },
  {
   "cell_type": "code",
   "execution_count": null,
   "metadata": {},
   "outputs": [
    {
     "data": {
      "image/png": "[encoded data removed]",
      "text/plain": [
       "<Figure size 1000x500 with 1 Axes>"
      ]
     },
     "metadata": {},
     "output_type": "display_data"
    }
   ],
   "source": [
    "# image_experiment.plot_accuracies(exps, IMAGE_CONTEXT)\n",
    "image_experiment.plot_accuracies(methods)\n"
   ]
  },
  {
   "cell_type": "markdown",
   "metadata": {},
   "source": [
    "Get experiment for image idx\n"
   ]
  },
  {
   "cell_type": "code",
   "execution_count": null,
   "metadata": {},
   "outputs": [
    {
     "data": {
      "text/html": [
       "<div style='font-size: 12pt;'><span style='font-family: monospace; white-space: pre-wrap;'>                    Page</span>: <strong>source/Strange_Tales_172005.jpg</strong><br/><span style='font-family: monospace; white-space: pre-wrap;'>                    Size</span>: <strong>1275x1888 px: 4.25 x 6.29 in @ 188.32 dpi</strong><br/><span style='font-family: monospace; white-space: pre-wrap;'>                     Run</span>: <strong>Tesseract-crop-post</strong><br/><span style='font-family: monospace; white-space: pre-wrap;'>                   Model</span>: <strong>Tesseract</strong><br/><span style='font-family: monospace; white-space: pre-wrap;'>             Crop Method</span>: <strong>Pad 8, fract. 0.2</strong><br/><span style='font-family: monospace; white-space: pre-wrap;'>   Accuracy Mean/Trimmed</span>: <strong style='color: red;'>0.85/0.86</strong></div>\n",
       "<br/>\n",
       "<table><colgroup><col style='width: auto;'/><col style='width: 396px;'/><col style='width: auto;'/><col style='width: auto;'/></colgroup><tr><th style='text-align: center; font-weight: bold;'>Box #</th><th style='text-align: center; font-weight: bold;'>Image</th><th style='text-align: center; font-weight: bold;'>Accuracy</th><th style='text-align: center; font-weight: bold;'>OCR</th></tr><tr><td style='font-size: 12pt; text-align: left; font-weight: bold;'>1</td><td style='text-align: center;'><img src=\"../experiment/cache/Strange_Tales_172005/.crop/Strange_Tales_172005_0_Pad 8, fract. 0.2.png\"/></td><td style='font-size: 12pt; text-align: left; '><div style='font-size: 12pt;'><strong style='color: red;'>0.94</strong><div/></td><td style='font-size: 12pt; text-align: left; '><span style='font-size: 14px;'><div style='font-family: monospace; white-space: pre-wrap;'>E<span style='color: red;'>n</span>bo<span style='color: red;'>n</span>ered by great <span style='color: red;'>s</span>narled cypress trees, the ancient manor stands alone on the outskirts of <span style='color: red;'>n</span>ew <span style='color: red;'>o</span>rleans, kept ti<span style='color: red;'>p</span>y by a whi<span style='color: red;'>⎕</span>te-haired old man known only as <span style='color: red;'>b8</span>amb<span style='color: red;'>l </span>.</div></span></td></tr><tr><td style='font-size: 12pt; text-align: left; font-weight: bold;'>2</td><td style='text-align: center;'><img src=\"../experiment/cache/Strange_Tales_172005/.crop/Strange_Tales_172005_1_Pad 8, fract. 0.2.png\"/></td><td style='font-size: 12pt; text-align: left; '><div style='font-size: 12pt;'><strong style='color: red;'>0.97</strong><div/></td><td style='font-size: 12pt; text-align: left; '><span style='font-size: 14px;'><div style='font-family: monospace; white-space: pre-wrap;'>The house and the old man are alike in many ways; tall, proud, patient, contented always t<span style='color: red;'>°</span> wait until their<span style='color: red;'>.</span> master comes home<span style='color: red;'> ~~</span></div></span></td></tr><tr><td style='font-size: 12pt; text-align: left; font-weight: bold;'>3</td><td style='text-align: center;'><img src=\"../experiment/cache/Strange_Tales_172005/.crop/Strange_Tales_172005_2_Pad 8, fract. 0.2.png\"/></td><td style='font-size: 12pt; text-align: left; '><div style='font-size: 12pt;'><strong style='color: red;'>0.77</strong><div/></td><td style='font-size: 12pt; text-align: left; '><span style='font-size: 14px;'><div style='font-family: monospace; white-space: pre-wrap;'>And one in <span style='color: red;'>&#x2395;</span>ee<span style='color: red;'>t</span><span style='color: red;'>&#x2395;&#x2395;&#x2395;</span> s<span style='color: red;'>v</span><span style='color: red;'>&#x2395;</span>e<span style='color: red;'>&#x2395;&#x2395;&#x2395;&#x2395;&#x2395;&#x2395;&#x2395;&#x2395;&#x2395;</span> would appear.</div></span></td></tr><tr><td style='font-size: 12pt; text-align: left; font-weight: bold;'>4</td><td style='text-align: center;'><img src=\"../experiment/cache/Strange_Tales_172005/.crop/Strange_Tales_172005_3_Pad 8, fract. 0.2.png\"/></td><td style='font-size: 12pt; text-align: left; '><div style='font-size: 12pt;'><strong style='color: red;'>0.86</strong><div/></td><td style='font-size: 12pt; text-align: left; '><span style='font-size: 14px;'><div style='font-family: monospace; white-space: pre-wrap;'>Bamb<span style='color: red;'>l ~~</span> we have a guest.</div></span></td></tr><tr><td style='font-size: 12pt; text-align: left; font-weight: bold;'>5</td><td style='text-align: center;'><img src=\"../experiment/cache/Strange_Tales_172005/.crop/Strange_Tales_172005_4_Pad 8, fract. 0.2.png\"/></td><td style='font-size: 12pt; text-align: left; '><div style='font-size: 12pt;'><strong style='color: red;'>0.64</strong><div/></td><td style='font-size: 12pt; text-align: left; '><span style='font-size: 14px;'><div style='font-family: monospace; white-space: pre-wrap;'><span style='color: red;'>=~</span>and tonight, he comes <span style='color: red;'>&#x2395;&#x2395;&#x2395;&#x2395;&#x2395;&#x2395;&#x2395;&#x2395;&#x2395;&#x2395;&#x2395;&#x2395;&#x2395;&#x2395;&#x2395;</span>slamming open <span style='color: red;'>urg</span><span style='color: red;'>&#x2395;&#x2395;&#x2395;&#x2395;</span>en<span style='color: red;'>&#x2395;&#x2395;&#x2395;&#x2395;&#x2395;</span>t<span style='color: red;'>ly,</span><span style='color: red;'>&#x2395;&#x2395;&#x2395;&#x2395;</span></div></span></td></tr><tr><td style='font-size: 12pt; text-align: left; font-weight: bold;'>6</td><td style='text-align: center;'><img src=\"../experiment/cache/Strange_Tales_172005/.crop/Strange_Tales_172005_5_Pad 8, fract. 0.2.png\"/></td><td style='font-size: 12pt; text-align: left; '><div style='font-size: 12pt;'><strong style='color: red;'>0.82</strong><div/></td><td style='font-size: 12pt; text-align: left; '><span style='font-size: 14px;'><div style='font-family: monospace; white-space: pre-wrap;'>Tell me<span style='color: red;'>&#x2395;</span> master<span style='color: red;'>...</span> how may <span style='color: red;'>b</span>amb<span style='color: red;'>li</span> serve<span style='color: red;'>&#x27;7</span></div></span></td></tr><tr><td style='font-size: 12pt; text-align: left; font-weight: bold;'>7</td><td style='text-align: center;'><img src=\"../experiment/cache/Strange_Tales_172005/.crop/Strange_Tales_172005_6_Pad 8, fract. 0.2.png\"/></td><td style='font-size: 12pt; text-align: left; '><div style='font-size: 12pt;'><strong style='color: red;'>0.94</strong><div/></td><td style='font-size: 12pt; text-align: left; '><span style='font-size: 14px;'><div style='font-family: monospace; white-space: pre-wrap;'>Some blankets to keep her<span style='color: red;'>,</span> warm, <span style='color: red;'>b</span>amb<span style='color: red;'>li</span>-<span style='color: red;'>~</span> and perhaps<span style='color: red;'>.</span> some dry clothes</div></span></td></tr><tr><td style='font-size: 12pt; text-align: left; font-weight: bold;'>8</td><td style='text-align: center;'><img src=\"../experiment/cache/Strange_Tales_172005/.crop/Strange_Tales_172005_7_Pad 8, fract. 0.2.png\"/></td><td style='font-size: 12pt; text-align: left; '><div style='font-size: 12pt;'><strong style='color: red;'>0.75</strong><div/></td><td style='font-size: 12pt; text-align: left; '><span style='font-size: 14px;'><div style='font-family: monospace; white-space: pre-wrap;'>The<span style='color: red;'>&#x2395;&#x2395;&#x2395;&#x2395;&#x2395;&#x2395;&#x2395;&#x2395;</span> the old man<span style='color: red;'>&#x2395;&#x2395;&#x2395;&#x2395;&#x2395;&#x2395;&#x2395;&#x2395;&#x2395;&#x2395;&#x2395;</span>s fades down the hall <span style='color: red;'>&#x2395;</span>s<span style='color: red;'>ere</span></div></span></td></tr><tr><td style='font-size: 12pt; text-align: left; font-weight: bold;'>9</td><td style='text-align: center;'><img src=\"../experiment/cache/Strange_Tales_172005/.crop/Strange_Tales_172005_8_Pad 8, fract. 0.2.png\"/></td><td style='font-size: 12pt; text-align: left; '><div style='font-size: 12pt;'><strong style='color: red;'>0.96</strong><div/></td><td style='font-size: 12pt; text-align: left; '><span style='font-size: 14px;'><div style='font-family: monospace; white-space: pre-wrap;'>How curious the whims of fate<span style='color: red;'>⎕</span>. <span style='color: red;'>h</span>ad <span style='color: red;'>i</span> not chanced to stroll along the river tonight-<span style='color: red;'>~</span></div></span></td></tr><tr><td style='font-size: 12pt; text-align: left; font-weight: bold;'>10</td><td style='text-align: center;'><img src=\"../experiment/cache/Strange_Tales_172005/.crop/Strange_Tales_172005_9_Pad 8, fract. 0.2.png\"/></td><td style='font-size: 12pt; text-align: left; '><div style='font-size: 12pt;'><strong style='color: red;'>0.81</strong><div/></td><td style='font-size: 12pt; text-align: left; '><span style='font-size: 14px;'><div style='font-family: monospace; white-space: pre-wrap;'>A<span style='color: red;'>&#x2395;&#x2395;&#x2395;</span>u<span style='color: red;'>l</span>ck<span style='color: red;'>r</span>y as <span style='color: red;'>t</span> can, master<span style='color: red;'>.</span></div></span></td></tr><tr><td style='font-size: 12pt; text-align: left; font-weight: bold;'>11</td><td style='text-align: center;'><img src=\"../experiment/cache/Strange_Tales_172005/.crop/Strange_Tales_172005_10_Pad 8, fract. 0.2.png\"/></td><td style='font-size: 12pt; text-align: left; '><div style='font-size: 12pt;'><strong style='color: red;'>0.95</strong><div/></td><td style='font-size: 12pt; text-align: left; '><span style='font-size: 14px;'><div style='font-family: monospace; white-space: pre-wrap;'><span style='color: red;'>~&lt;</span>the girl would most surely be dead by now.</div></span></td></tr><tr><td style='font-size: 12pt; text-align: left; font-weight: bold;'>12</td><td style='text-align: center;'><img src=\"../experiment/cache/Strange_Tales_172005/.crop/Strange_Tales_172005_11_Pad 8, fract. 0.2.png\"/></td><td style='font-size: 12pt; text-align: left; '><div style='font-size: 12pt;'><strong style='color: red;'>0.94</strong><div/></td><td style='font-size: 12pt; text-align: left; '><span style='font-size: 14px;'><div style='font-family: monospace; white-space: pre-wrap;'>Ghede has been generous. the <span style='color: red;'>c</span>eath <span style='color: red;'>g</span>od has given the girl a second chance <span style='color: red;'>po</span><span style='color: red;'>&#x2395;&#x2395;</span></div></span></td></tr><tr><td style='font-size: 12pt; text-align: left; font-weight: bold;'>13</td><td style='text-align: center;'><img src=\"../experiment/cache/Strange_Tales_172005/.crop/Strange_Tales_172005_12_Pad 8, fract. 0.2.png\"/></td><td style='font-size: 12pt; text-align: left; '><div style='font-size: 12pt;'><strong style='color: red;'>0.67</strong><div/></td><td style='font-size: 12pt; text-align: left; '><span style='font-size: 14px;'><div style='font-family: monospace; white-space: pre-wrap;'><span style='color: red;'>Yi</span><span style='color: red;'>&#x2395;&#x2395;&#x2395;</span> <span style='color: red;'>&#x2395;&#x2395;&#x2395;&#x2395;&#x2395;&#x2395;&#x2395;&#x2395;&#x2395;&#x2395;</span>re<span style='color: red;'>nee</span> <span style='color: red;'>&#x2395;</span>othing to scream <span style='color: red;'>se</span>a<span style='color: red;'>&#x2395;&#x2395;&#x2395;</span>t an<span style='color: red;'>h</span><span style='color: red;'>&#x2395;</span>ore<span style='color: red;'>⎕</span>.</div></span></td></tr><tr><td style='font-size: 12pt; text-align: left; font-weight: bold;'>14</td><td style='text-align: center;'><img src=\"../experiment/cache/Strange_Tales_172005/.crop/Strange_Tales_172005_13_Pad 8, fract. 0.2.png\"/></td><td style='font-size: 12pt; text-align: left; '><div style='font-size: 12pt;'><strong style='color: red;'>0.93</strong><div/></td><td style='font-size: 12pt; text-align: left; '><span style='font-size: 14px;'><div style='font-family: monospace; white-space: pre-wrap;'>You<span style='color: red;'>&#x2395;</span>re among <span style='color: red;'>e</span>riends now<span style='color: red;'>.</span> you&#x27;re safe!</div></span></td></tr><tr><td style='font-size: 12pt; text-align: left; font-weight: bold;'>15</td><td style='text-align: center;'><img src=\"../experiment/cache/Strange_Tales_172005/.crop/Strange_Tales_172005_14_Pad 8, fract. 0.2.png\"/></td><td style='font-size: 12pt; text-align: left; '><div style='font-size: 12pt;'><strong style='color: red;'>0.83</strong><div/></td><td style='font-size: 12pt; text-align: left; '><span style='font-size: 14px;'><div style='font-family: monospace; white-space: pre-wrap;'><span style='color: red;'>| c</span>ontinued af<span style='color: red;'>&#x2395;&#x2395;&#x2395;</span> <span style='color: red;'>&#x2395;</span>ext page</div></span></td></tr></table>"
      ],
      "text/plain": [
       "<IPython.core.display.HTML object>"
      ]
     },
     "metadata": {},
     "output_type": "display_data"
    }
   ],
   "source": [
    "saved_exp = ExperimentOCR.from_image(CONTEXT, RUN_NAME, IMAGE_CONTEXT.image_idx)\n",
    "# saved_exp = ExperimentOCR.saved_experiment(IMAGE_CONTEXT, 'Tesseract', 'Action_Comics_1960-01-00_(262).JPG')\n",
    "saved_exp.method_experiment(CropMethod.PAD_8_FRACT_0_2).display()\n"
   ]
  },
  {
   "cell_type": "markdown",
   "metadata": {},
   "source": [
    "Perform experiments for selected boxes y methods"
   ]
  },
  {
   "cell_type": "code",
   "execution_count": null,
   "metadata": {},
   "outputs": [
    {
     "data": {
      "text/html": [
       "<pre style=\"white-space:pre;overflow-x:auto;line-height:normal;font-family:Menlo,'DejaVu Sans Mono',consolas,'Courier New',monospace\">---------- Initial box ----------\n",
       "ResultOCR#block <span style=\"color: #008080; text-decoration-color: #008080; font-weight: bold\">00</span>: <span style=\"color: #008080; text-decoration-color: #008080; font-weight: bold\">0.90</span>||Eneonered by great gnarled cypress jrfes, the ancient manor stands alone on the outski<span style=\"font-weight: bold\">)</span> <span style=\"color: #008080; text-decoration-color: #008080; font-weight: bold\">2</span> of mew ce eans, kept tidy by a white-haired old man known only as bambs, <span style=\"color: #008080; text-decoration-color: #008080; font-weight: bold\">3</span>\n",
       "ResultOCR#block <span style=\"color: #008080; text-decoration-color: #008080; font-weight: bold\">01</span>: <span style=\"color: #008080; text-decoration-color: #008080; font-weight: bold\">0.93</span>||The house and the old man are alike in many ways; tall, prolid, patient, contented always <span style=\"color: #008080; text-decoration-color: #008080; font-weight: bold\">0</span> wait until. their. master cones mome ~~\n",
       "ResultOCR#block <span style=\"color: #008080; text-decoration-color: #008080; font-weight: bold\">02</span>: <span style=\"color: #008080; text-decoration-color: #008080; font-weight: bold\">0.70</span>||“and one in ee would appear.\n",
       "ResultOCR#block <span style=\"color: #008080; text-decoration-color: #008080; font-weight: bold\">03</span>: <span style=\"color: #008080; text-decoration-color: #008080; font-weight: bold\">0.62</span>||Re bambli-~ we have a\n",
       "ResultOCR#block <span style=\"color: #008080; text-decoration-color: #008080; font-weight: bold\">04</span>: <span style=\"color: #008080; text-decoration-color: #008080; font-weight: bold\">0.70</span>||Tonight, he comes noost slamming open the caken\n",
       "ResultOCR#block <span style=\"color: #008080; text-decoration-color: #008080; font-weight: bold\">05</span>: <span style=\"color: #008080; text-decoration-color: #008080; font-weight: bold\">0.82</span>||Tell me naster. how may bambli serve <span style=\"color: #008080; text-decoration-color: #008080; font-weight: bold\">7</span>\n",
       "ResultOCR#block <span style=\"color: #008080; text-decoration-color: #008080; font-weight: bold\">06</span>: <span style=\"color: #008080; text-decoration-color: #008080; font-weight: bold\">0.56</span>||£<span style=\"color: #008080; text-decoration-color: #008080; font-weight: bold\">7</span> » and perhaps some dry clothes<span style=\"color: #808000; text-decoration-color: #808000\">...</span> <span style=\"color: #008080; text-decoration-color: #008080; font-weight: bold\">7</span> <span style=\"color: #800080; text-decoration-color: #800080\">/</span>\n",
       "ResultOCR#block <span style=\"color: #008080; text-decoration-color: #008080; font-weight: bold\">07</span>: <span style=\"color: #008080; text-decoration-color: #008080; font-weight: bold\">0.81</span>||The the old man's fades down the hall as<span style=\"color: #808000; text-decoration-color: #808000\">...</span> <span style=\"color: #008080; text-decoration-color: #008080; font-weight: bold\">7</span>\n",
       "ResultOCR#block <span style=\"color: #008080; text-decoration-color: #008080; font-weight: bold\">08</span>: <span style=\"color: #008080; text-decoration-color: #008080; font-weight: bold\">0.85</span>||How curious the <span style=\"color: #008080; text-decoration-color: #008080; font-weight: bold\">4</span> fate. whims of had t not chanced to stroll along the river yl tonight ==\n",
       "ResultOCR#block <span style=\"color: #008080; text-decoration-color: #008080; font-weight: bold\">09</span>: <span style=\"color: #008080; text-decoration-color: #008080; font-weight: bold\">0.80</span>||Fas oulckly as t ca, master.\n",
       "ResultOCR#block <span style=\"color: #008080; text-decoration-color: #008080; font-weight: bold\">10</span>: <span style=\"color: #008080; text-decoration-color: #008080; font-weight: bold\">0.91</span>||&lt;the girl would - most slirely be dead by now.\n",
       "ResultOCR#block <span style=\"color: #008080; text-decoration-color: #008080; font-weight: bold\">11</span>: <span style=\"color: #008080; text-decoration-color: #008080; font-weight: bold\">0.47</span>||Ath the girl. a second chance ge a ee yg adil\n",
       "ResultOCR#block <span style=\"color: #008080; text-decoration-color: #008080; font-weight: bold\">12</span>: <span style=\"color: #008080; text-decoration-color: #008080; font-weight: bold\">0.84</span>||Ah girl--there's othing to scream ntt anymore .\n",
       "ResultOCR#block <span style=\"color: #008080; text-decoration-color: #008080; font-weight: bold\">13</span>: <span style=\"color: #008080; text-decoration-color: #008080; font-weight: bold\">0.93</span>||You're among friends now. you're sale\n",
       "ResultOCR#block <span style=\"color: #008080; text-decoration-color: #008080; font-weight: bold\">14</span>: <span style=\"color: #008080; text-decoration-color: #008080; font-weight: bold\">1.00</span>||Continued after next page\n",
       "\n",
       " ---------- Default ----------\n",
       "ResultOCR#block <span style=\"color: #008080; text-decoration-color: #008080; font-weight: bold\">00</span>: <span style=\"color: #008080; text-decoration-color: #008080; font-weight: bold\">0.85</span>||Eneowered by great gnarled cypress jrfes, the ancient manor ! alone on the eit of mew rce: eans, kept tipy by a white-haired ao han known only as\n",
       "ResultOCR#block <span style=\"color: #008080; text-decoration-color: #008080; font-weight: bold\">01</span>: <span style=\"color: #008080; text-decoration-color: #008080; font-weight: bold\">0.96</span>||The house and the old man are alike in many ways; tall, proud, patient, conten tel always to wait until their. master cones home ~~\n",
       "ResultOCR#block <span style=\"color: #008080; text-decoration-color: #008080; font-weight: bold\">02</span>: <span style=\"color: #008080; text-decoration-color: #008080; font-weight: bold\">0.74</span>||And one in ee would appear.\n",
       "ResultOCR#block <span style=\"color: #008080; text-decoration-color: #008080; font-weight: bold\">03</span>: <span style=\"color: #008080; text-decoration-color: #008080; font-weight: bold\">0.41</span>||Rir guest.\n",
       "ResultOCR#block <span style=\"color: #008080; text-decoration-color: #008080; font-weight: bold\">04</span>: <span style=\"color: #008080; text-decoration-color: #008080; font-weight: bold\">0.59</span>||=~and tonight, he comes host sane oo\n",
       "ResultOCR#block <span style=\"color: #008080; text-decoration-color: #008080; font-weight: bold\">05</span>: <span style=\"color: #008080; text-decoration-color: #008080; font-weight: bold\">0.78</span>||Tell me masts - how may bambli . serve <span style=\"color: #008080; text-decoration-color: #008080; font-weight: bold\">7</span> _\n",
       "ResultOCR#block <span style=\"color: #008080; text-decoration-color: #008080; font-weight: bold\">06</span>: <span style=\"color: #008080; text-decoration-color: #008080; font-weight: bold\">0.48</span>||R warm, bambli-~ and perhaps\n",
       "ResultOCR#block <span style=\"color: #008080; text-decoration-color: #008080; font-weight: bold\">07</span>: <span style=\"color: #008080; text-decoration-color: #008080; font-weight: bold\">0.76</span>||The the old mans fades down the hall s.<span style=\"color: #008080; text-decoration-color: #008080; font-weight: bold\">00</span>\n",
       "ResultOCR#block <span style=\"color: #008080; text-decoration-color: #008080; font-weight: bold\">08</span>: <span style=\"color: #008080; text-decoration-color: #008080; font-weight: bold\">0.92</span>||How curious the a whims of fate . had t not chanced to stroll along the river tonight~~ &gt;\n",
       "ResultOCR#block <span style=\"color: #008080; text-decoration-color: #008080; font-weight: bold\">09</span>: <span style=\"color: #008080; text-decoration-color: #008080; font-weight: bold\">0.50</span>||Aulckly “master as t can,\n",
       "ResultOCR#block <span style=\"color: #008080; text-decoration-color: #008080; font-weight: bold\">10</span>: <span style=\"color: #008080; text-decoration-color: #008080; font-weight: bold\">0.94</span>||&lt;the girl would - most surely be dead by now.\n",
       "ResultOCR#block <span style=\"color: #008080; text-decoration-color: #008080; font-weight: bold\">11</span>: <span style=\"color: #008080; text-decoration-color: #008080; font-weight: bold\">0.50</span>||Ath - the girl. a second chance ee oo tr tt\n",
       "ResultOCR#block <span style=\"color: #008080; text-decoration-color: #008080; font-weight: bold\">12</span>: <span style=\"color: #008080; text-decoration-color: #008080; font-weight: bold\">0.84</span>||Oe girl--there's othing to scream nt anymore. <span style=\"color: #008080; text-decoration-color: #008080; font-weight: bold\">4</span>\n",
       "ResultOCR#block <span style=\"color: #008080; text-decoration-color: #008080; font-weight: bold\">13</span>: <span style=\"color: #008080; text-decoration-color: #008080; font-weight: bold\">0.96</span>||You're among friends now. youre safe!\n",
       "ResultOCR#block <span style=\"color: #008080; text-decoration-color: #008080; font-weight: bold\">14</span>: <span style=\"color: #008080; text-decoration-color: #008080; font-weight: bold\">1.00</span>||Continued after next page\n",
       "\n",
       " ---------- Default, grey pad ----------\n",
       "ResultOCR#block <span style=\"color: #008080; text-decoration-color: #008080; font-weight: bold\">00</span>: <span style=\"color: #008080; text-decoration-color: #008080; font-weight: bold\">0.95</span>||Enbowered by great gnarled cypress trees, the ancient manor stands alone on the outskirts of new orleans, kept tipy by a white-haired old man known only as\n",
       "ResultOCR#block <span style=\"color: #008080; text-decoration-color: #008080; font-weight: bold\">01</span>: <span style=\"color: #008080; text-decoration-color: #008080; font-weight: bold\">0.96</span>||The house and the old man are alike in many ways; tall, prolid, patient, contented always to wait until their. * master cones home ~-\n",
       "ResultOCR#block <span style=\"color: #008080; text-decoration-color: #008080; font-weight: bold\">02</span>: <span style=\"color: #008080; text-decoration-color: #008080; font-weight: bold\">0.94</span>||“and one in &gt; need of some help, it would appear .\n",
       "ResultOCR#block <span style=\"color: #008080; text-decoration-color: #008080; font-weight: bold\">03</span>: <span style=\"color: #008080; text-decoration-color: #008080; font-weight: bold\">0.88</span>||\" bambl-- we have a guest.\n",
       "ResultOCR#block <span style=\"color: #008080; text-decoration-color: #008080; font-weight: bold\">04</span>: <span style=\"color: #008080; text-decoration-color: #008080; font-weight: bold\">0.72</span>||~~and tonight, he comes urgently, slanming open\n",
       "ResultOCR#block <span style=\"color: #008080; text-decoration-color: #008080; font-weight: bold\">05</span>: <span style=\"color: #008080; text-decoration-color: #008080; font-weight: bold\">0.86</span>||Tell me, master: how may bambli serve <span style=\"color: #008080; text-decoration-color: #008080; font-weight: bold\">7</span>\n",
       "ResultOCR#block <span style=\"color: #008080; text-decoration-color: #008080; font-weight: bold\">06</span>: <span style=\"color: #008080; text-decoration-color: #008080; font-weight: bold\">0.90</span>||Some blankets to keep her. warm, bambli-- and perhaps some dry \\ clothes-<span style=\"color: #008080; text-decoration-color: #008080; font-weight: bold\">-7</span> <span style=\"color: #800080; text-decoration-color: #800080\">/</span><span style=\"color: #ff00ff; text-decoration-color: #ff00ff\">.</span>\n",
       "ResultOCR#block <span style=\"color: #008080; text-decoration-color: #008080; font-weight: bold\">07</span>: <span style=\"color: #008080; text-decoration-color: #008080; font-weight: bold\">0.06</span>||As.\n",
       "ResultOCR#block <span style=\"color: #008080; text-decoration-color: #008080; font-weight: bold\">08</span>: <span style=\"color: #008080; text-decoration-color: #008080; font-weight: bold\">0.91</span>||How curious the d 7e . whims of fa; had i not chanced to stroll along the river tonight--\n",
       "ResultOCR#block <span style=\"color: #008080; text-decoration-color: #008080; font-weight: bold\">09</span>: <span style=\"color: #008080; text-decoration-color: #008080; font-weight: bold\">0.55</span>||Ickl as t can\n",
       "ResultOCR#block <span style=\"color: #008080; text-decoration-color: #008080; font-weight: bold\">10</span>: <span style=\"color: #008080; text-decoration-color: #008080; font-weight: bold\">0.00</span>||\n",
       "ResultOCR#block <span style=\"color: #008080; text-decoration-color: #008080; font-weight: bold\">11</span>: <span style=\"color: #008080; text-decoration-color: #008080; font-weight: bold\">0.85</span>||Ghede has been generous. the death god has gen + the girl. a second chance te oe ato\" pd ate\n",
       "ResultOCR#block <span style=\"color: #008080; text-decoration-color: #008080; font-weight: bold\">12</span>: <span style=\"color: #008080; text-decoration-color: #008080; font-weight: bold\">0.95</span>||Easy, girl--there's | nothing to scream about anyaore.\n",
       "ResultOCR#block <span style=\"color: #008080; text-decoration-color: #008080; font-weight: bold\">13</span>: <span style=\"color: #008080; text-decoration-color: #008080; font-weight: bold\">0.97</span>||You're among friends now. you're safe!\n",
       "ResultOCR#block <span style=\"color: #008080; text-decoration-color: #008080; font-weight: bold\">14</span>: <span style=\"color: #008080; text-decoration-color: #008080; font-weight: bold\">0.54</span>||“continued a\n",
       "\n",
       " ---------- Padded 4px ----------\n",
       "ResultOCR#block <span style=\"color: #008080; text-decoration-color: #008080; font-weight: bold\">00</span>: <span style=\"color: #008080; text-decoration-color: #008080; font-weight: bold\">0.88</span>||Enbonered by great gnarled cypress jrfes, the ancient manor stands alone on the eit of mew rce: eans, kept tipy by a white-haired ao lo man known only as\n",
       "ResultOCR#block <span style=\"color: #008080; text-decoration-color: #008080; font-weight: bold\">01</span>: <span style=\"color: #008080; text-decoration-color: #008080; font-weight: bold\">0.93</span>||The house and the oldman are alike in many ways; tall, proud, patient, contented a ways <span style=\"color: #008080; text-decoration-color: #008080; font-weight: bold\">0</span> wait until their. aster comes home ~~ | <span style=\"font-weight: bold\">}</span>\n",
       "ResultOCR#block <span style=\"color: #008080; text-decoration-color: #008080; font-weight: bold\">02</span>: <span style=\"color: #008080; text-decoration-color: #008080; font-weight: bold\">0.69</span>||F and one in ee would appear.\n",
       "ResultOCR#block <span style=\"color: #008080; text-decoration-color: #008080; font-weight: bold\">03</span>: <span style=\"color: #008080; text-decoration-color: #008080; font-weight: bold\">0.77</span>||\" bambli-— we have a gliest.\n",
       "ResultOCR#block <span style=\"color: #008080; text-decoration-color: #008080; font-weight: bold\">04</span>: <span style=\"color: #008080; text-decoration-color: #008080; font-weight: bold\">0.55</span>||P comes slamming open the caken\n",
       "ResultOCR#block <span style=\"color: #008080; text-decoration-color: #008080; font-weight: bold\">05</span>: <span style=\"color: #008080; text-decoration-color: #008080; font-weight: bold\">0.57</span>||Tel oe er-- <span style=\"color: #008080; text-decoration-color: #008080; font-weight: bold\">5</span> ow a = <span style=\"color: #008080; text-decoration-color: #008080; font-weight: bold\">7</span>\n",
       "ResultOCR#block <span style=\"color: #008080; text-decoration-color: #008080; font-weight: bold\">06</span>: <span style=\"color: #008080; text-decoration-color: #008080; font-weight: bold\">0.38</span>||We and perhaps c oe <span style=\"color: #800080; text-decoration-color: #800080\">/</span>\n",
       "ResultOCR#block <span style=\"color: #008080; text-decoration-color: #008080; font-weight: bold\">07</span>: <span style=\"color: #008080; text-decoration-color: #008080; font-weight: bold\">0.75</span>||The the old mans fades down the hall sra\n",
       "ResultOCR#block <span style=\"color: #008080; text-decoration-color: #008080; font-weight: bold\">08</span>: <span style=\"color: #008080; text-decoration-color: #008080; font-weight: bold\">0.92</span>||How curious the a whims of fate . - had i not chanced to stroll along the river yl tonight~-\n",
       "ResultOCR#block <span style=\"color: #008080; text-decoration-color: #008080; font-weight: bold\">09</span>: <span style=\"color: #008080; text-decoration-color: #008080; font-weight: bold\">0.79</span>||Aulckly as t can, ‘masrer.\n",
       "ResultOCR#block <span style=\"color: #008080; text-decoration-color: #008080; font-weight: bold\">10</span>: <span style=\"color: #008080; text-decoration-color: #008080; font-weight: bold\">0.92</span>||&lt;the girl wolld - most surely be dead by now.\n",
       "ResultOCR#block <span style=\"color: #008080; text-decoration-color: #008080; font-weight: bold\">11</span>: <span style=\"color: #008080; text-decoration-color: #008080; font-weight: bold\">0.88</span>||Ghede has been generous. the oeath gop has given - the girl. a second chance ye, alem\n",
       "ResultOCR#block <span style=\"color: #008080; text-decoration-color: #008080; font-weight: bold\">12</span>: <span style=\"color: #008080; text-decoration-color: #008080; font-weight: bold\">0.67</span>||Soe er eke othing to scream ay anymore.\n",
       "ResultOCR#block <span style=\"color: #008080; text-decoration-color: #008080; font-weight: bold\">13</span>: <span style=\"color: #008080; text-decoration-color: #008080; font-weight: bold\">0.94</span>||\"you're among friends now. you're safe!\n",
       "ResultOCR#block <span style=\"color: #008080; text-decoration-color: #008080; font-weight: bold\">14</span>: <span style=\"color: #008080; text-decoration-color: #008080; font-weight: bold\">1.00</span>||Continued after next page\n",
       "\n",
       " ---------- Padded 8px ----------\n",
       "ResultOCR#block <span style=\"color: #008080; text-decoration-color: #008080; font-weight: bold\">00</span>: <span style=\"color: #008080; text-decoration-color: #008080; font-weight: bold\">0.88</span>||Enbonered by great gnarled cypress trees, the ancient manor stands alone on the pag hile of new orleans, kept tipy by a white-haired ao lo man known omy as\n",
       "ResultOCR#block <span style=\"color: #008080; text-decoration-color: #008080; font-weight: bold\">01</span>: <span style=\"color: #008080; text-decoration-color: #008080; font-weight: bold\">0.99</span>||The house and the old man are alike in many ways; tall, proud, patient, contented always to wait until their. master comes home\n",
       "ResultOCR#block <span style=\"color: #008080; text-decoration-color: #008080; font-weight: bold\">02</span>: <span style=\"color: #008080; text-decoration-color: #008080; font-weight: bold\">0.67</span>||<span style=\"color: #008080; text-decoration-color: #008080; font-weight: bold\">7</span> and one in ee would appear,\n",
       "ResultOCR#block <span style=\"color: #008080; text-decoration-color: #008080; font-weight: bold\">03</span>: <span style=\"color: #008080; text-decoration-color: #008080; font-weight: bold\">0.76</span>||Zf mbl == we have a guest.\n",
       "ResultOCR#block <span style=\"color: #008080; text-decoration-color: #008080; font-weight: bold\">04</span>: <span style=\"color: #008080; text-decoration-color: #008080; font-weight: bold\">0.61</span>||Tonight, he comes host slamming open\n",
       "ResultOCR#block <span style=\"color: #008080; text-decoration-color: #008080; font-weight: bold\">05</span>: <span style=\"color: #008080; text-decoration-color: #008080; font-weight: bold\">0.75</span>||Yy i tell me master - how may bambli serve <span style=\"color: #008080; text-decoration-color: #008080; font-weight: bold\">7</span> _,\n",
       "ResultOCR#block <span style=\"color: #008080; text-decoration-color: #008080; font-weight: bold\">06</span>: <span style=\"color: #008080; text-decoration-color: #008080; font-weight: bold\">0.89</span>||Some. blankets to keep he arm , bambli-= and perhaps some dry clothes. 2s\n",
       "ResultOCR#block <span style=\"color: #008080; text-decoration-color: #008080; font-weight: bold\">07</span>: <span style=\"color: #008080; text-decoration-color: #008080; font-weight: bold\">0.72</span>||The the old mans fades down the hal. srl see\n",
       "ResultOCR#block <span style=\"color: #008080; text-decoration-color: #008080; font-weight: bold\">08</span>: <span style=\"color: #008080; text-decoration-color: #008080; font-weight: bold\">0.88</span>||* how curious the p whims of fate . - had i not chanced . to stroll along _ the river <span style=\"color: #008080; text-decoration-color: #008080; font-weight: bold\">3</span> tonight-~\n",
       "ResultOCR#block <span style=\"color: #008080; text-decoration-color: #008080; font-weight: bold\">09</span>: <span style=\"color: #008080; text-decoration-color: #008080; font-weight: bold\">0.65</span>||Tiie as t can, \\ master ,\n",
       "ResultOCR#block <span style=\"color: #008080; text-decoration-color: #008080; font-weight: bold\">10</span>: <span style=\"color: #008080; text-decoration-color: #008080; font-weight: bold\">0.86</span>||The girl wolld - most slirely be - dead by now.\n",
       "ResultOCR#block <span style=\"color: #008080; text-decoration-color: #008080; font-weight: bold\">11</span>: <span style=\"color: #008080; text-decoration-color: #008080; font-weight: bold\">0.62</span>||Ghede has been generous. : the crn son ue;\n",
       "ResultOCR#block <span style=\"color: #008080; text-decoration-color: #008080; font-weight: bold\">12</span>: <span style=\"color: #008080; text-decoration-color: #008080; font-weight: bold\">0.62</span>||Soe er eke othing to scream hbolt anhore hr\n",
       "ResultOCR#block <span style=\"color: #008080; text-decoration-color: #008080; font-weight: bold\">13</span>: <span style=\"color: #008080; text-decoration-color: #008080; font-weight: bold\">0.92</span>||” you're among friends now. you're safe!\n",
       "ResultOCR#block <span style=\"color: #008080; text-decoration-color: #008080; font-weight: bold\">14</span>: <span style=\"color: #008080; text-decoration-color: #008080; font-weight: bold\">0.94</span>||“continued after next page\n",
       "\n",
       " ---------- Extracted, init box ----------\n",
       "ResultOCRExtracted#block <span style=\"color: #008080; text-decoration-color: #008080; font-weight: bold\">00</span>: <span style=\"color: #008080; text-decoration-color: #008080; font-weight: bold\">0.92</span>||Fhbonered by great snarled cypress trees, the ancient nmanor stands alone on the outskirts of new orleans. kept tipy by a whi te-haire old man known only as bambi<span style=\"font-weight: bold\">]</span> .\n",
       "ResultOCRExtracted#block <span style=\"color: #008080; text-decoration-color: #008080; font-weight: bold\">01</span>: <span style=\"color: #008080; text-decoration-color: #008080; font-weight: bold\">0.93</span>||Ee house and the old man por alike in many ways; tall, proud, patient, contented always t° wait until their. master cones home ~~\n",
       "ResultOCRExtracted#block <span style=\"color: #008080; text-decoration-color: #008080; font-weight: bold\">02</span>: <span style=\"color: #008080; text-decoration-color: #008080; font-weight: bold\">0.73</span>||And one in fee would appear.\n",
       "ResultOCRExtracted#block <span style=\"color: #008080; text-decoration-color: #008080; font-weight: bold\">03</span>: <span style=\"color: #008080; text-decoration-color: #008080; font-weight: bold\">0.67</span>||— we have a <span style=\"color: #808000; text-decoration-color: #808000\">i</span>=<span style=\"color: #800080; text-decoration-color: #800080\">s7t</span>.\n",
       "ResultOCRExtracted#block <span style=\"color: #008080; text-decoration-color: #008080; font-weight: bold\">04</span>: <span style=\"color: #008080; text-decoration-color: #008080; font-weight: bold\">0.74</span>||~and tonight, he comes urgently, slamming open\n",
       "ResultOCRExtracted#block <span style=\"color: #008080; text-decoration-color: #008080; font-weight: bold\">05</span>: <span style=\"color: #008080; text-decoration-color: #008080; font-weight: bold\">0.85</span>||Tell me master how may bambli serve <span style=\"color: #008080; text-decoration-color: #008080; font-weight: bold\">7</span>\n",
       "ResultOCRExtracted#block <span style=\"color: #008080; text-decoration-color: #008080; font-weight: bold\">06</span>: <span style=\"color: #008080; text-decoration-color: #008080; font-weight: bold\">0.93</span>||Some blankets to keep her warm, banbli-- and perhaps. some dry clothes\n",
       "ResultOCRExtracted#block <span style=\"color: #008080; text-decoration-color: #008080; font-weight: bold\">07</span>: <span style=\"color: #008080; text-decoration-color: #008080; font-weight: bold\">0.77</span>||The the old man's fades down the hall s.,<span style=\"color: #008080; text-decoration-color: #008080; font-weight: bold\">00</span>\n",
       "ResultOCRExtracted#block <span style=\"color: #008080; text-decoration-color: #008080; font-weight: bold\">08</span>: <span style=\"color: #008080; text-decoration-color: #008080; font-weight: bold\">0.77</span>||Hin ef fare” had i not chanced to stroll along the river. <span style=\"color: #808000; text-decoration-color: #808000\">tonigmt</span>=~\n",
       "ResultOCRExtracted#block <span style=\"color: #008080; text-decoration-color: #008080; font-weight: bold\">09</span>: <span style=\"color: #008080; text-decoration-color: #008080; font-weight: bold\">0.85</span>||Aulckly as t can, master,\n",
       "ResultOCRExtracted#block <span style=\"color: #008080; text-decoration-color: #008080; font-weight: bold\">10</span>: <span style=\"color: #008080; text-decoration-color: #008080; font-weight: bold\">1.00</span>||--the girl would most surely be dead by now.\n",
       "ResultOCRExtracted#block <span style=\"color: #008080; text-decoration-color: #008080; font-weight: bold\">11</span>: <span style=\"color: #008080; text-decoration-color: #008080; font-weight: bold\">0.51</span>||Ath the girl a second chance ro\n",
       "ResultOCRExtracted#block <span style=\"color: #008080; text-decoration-color: #008080; font-weight: bold\">12</span>: <span style=\"color: #008080; text-decoration-color: #008080; font-weight: bold\">0.56</span>||Cas ee, othing to scream pls aa .\n",
       "ResultOCRExtracted#block <span style=\"color: #008080; text-decoration-color: #008080; font-weight: bold\">13</span>: <span style=\"color: #008080; text-decoration-color: #008080; font-weight: bold\">0.95</span>||You're among friends now. you're sale!\n",
       "ResultOCRExtracted#block <span style=\"color: #008080; text-decoration-color: #008080; font-weight: bold\">14</span>: <span style=\"color: #008080; text-decoration-color: #008080; font-weight: bold\">0.91</span>||Continued af ext page\n",
       "\n",
       " ---------- Padded <span style=\"color: #008080; text-decoration-color: #008080; font-weight: bold\">4</span>, extracted ----------\n",
       "ResultOCRExtracted#block <span style=\"color: #008080; text-decoration-color: #008080; font-weight: bold\">00</span>: <span style=\"color: #008080; text-decoration-color: #008080; font-weight: bold\">0.91</span>||Enbonsred by great shale cypress trees, the anci manor stands alone on the <span style=\"font-weight: bold\">[</span>tskirts of new orleans, kept tidy by a whi te- haired old man known only as b8ambl .\n",
       "ResultOCRExtracted#block <span style=\"color: #008080; text-decoration-color: #008080; font-weight: bold\">01</span>: <span style=\"color: #008080; text-decoration-color: #008080; font-weight: bold\">0.98</span>||The house and the old man are alike in many ways; tall, proud, patient, contented always t° wait until their. master cones home --\n",
       "ResultOCRExtracted#block <span style=\"color: #008080; text-decoration-color: #008080; font-weight: bold\">02</span>: <span style=\"color: #008080; text-decoration-color: #008080; font-weight: bold\">0.73</span>||And one in fee would appear.\n",
       "ResultOCRExtracted#block <span style=\"color: #008080; text-decoration-color: #008080; font-weight: bold\">03</span>: <span style=\"color: #008080; text-decoration-color: #008080; font-weight: bold\">0.83</span>||Bambli we have a gliest.\n",
       "ResultOCRExtracted#block <span style=\"color: #008080; text-decoration-color: #008080; font-weight: bold\">04</span>: <span style=\"color: #008080; text-decoration-color: #008080; font-weight: bold\">0.74</span>||=~and tonight, he comes urgently, slamming open\n",
       "ResultOCRExtracted#block <span style=\"color: #008080; text-decoration-color: #008080; font-weight: bold\">05</span>: <span style=\"color: #008080; text-decoration-color: #008080; font-weight: bold\">0.84</span>||Tell me master. how may bambli serve <span style=\"color: #008080; text-decoration-color: #008080; font-weight: bold\">7</span>\n",
       "ResultOCRExtracted#block <span style=\"color: #008080; text-decoration-color: #008080; font-weight: bold\">06</span>: <span style=\"color: #008080; text-decoration-color: #008080; font-weight: bold\">0.53</span>||Warm, bambli-- and perhaps. som\n",
       "ResultOCRExtracted#block <span style=\"color: #008080; text-decoration-color: #008080; font-weight: bold\">07</span>: <span style=\"color: #008080; text-decoration-color: #008080; font-weight: bold\">0.75</span>||The the old mans fades down the hall sra\n",
       "ResultOCRExtracted#block <span style=\"color: #008080; text-decoration-color: #008080; font-weight: bold\">08</span>: <span style=\"color: #008080; text-decoration-color: #008080; font-weight: bold\">0.76</span>||We sea had i not chanced to stroll along the river. tonight-~\n",
       "ResultOCRExtracted#block <span style=\"color: #008080; text-decoration-color: #008080; font-weight: bold\">09</span>: <span style=\"color: #008080; text-decoration-color: #008080; font-weight: bold\">0.76</span>||Alley as t can, master,\n",
       "ResultOCRExtracted#block <span style=\"color: #008080; text-decoration-color: #008080; font-weight: bold\">10</span>: <span style=\"color: #008080; text-decoration-color: #008080; font-weight: bold\">0.98</span>||~-the girl would most surely be dead by now.\n",
       "ResultOCRExtracted#block <span style=\"color: #008080; text-decoration-color: #008080; font-weight: bold\">11</span>: <span style=\"color: #008080; text-decoration-color: #008080; font-weight: bold\">0.92</span>||Chepe has been generous. the peath god has given the girl a second chance amr\n",
       "ResultOCRExtracted#block <span style=\"color: #008080; text-decoration-color: #008080; font-weight: bold\">12</span>: <span style=\"color: #008080; text-decoration-color: #008080; font-weight: bold\">0.73</span>||Cas gr theres othing to scream pissy tore .\n",
       "ResultOCRExtracted#block <span style=\"color: #008080; text-decoration-color: #008080; font-weight: bold\">13</span>: <span style=\"color: #008080; text-decoration-color: #008080; font-weight: bold\">0.95</span>||You're among eriends now. you're safe!\n",
       "ResultOCRExtracted#block <span style=\"color: #008080; text-decoration-color: #008080; font-weight: bold\">14</span>: <span style=\"color: #008080; text-decoration-color: #008080; font-weight: bold\">0.91</span>||Continued af ext page\n",
       "\n",
       " ---------- Padded <span style=\"color: #008080; text-decoration-color: #008080; font-weight: bold\">8</span>, extracted ----------\n",
       "ResultOCRExtracted#block <span style=\"color: #008080; text-decoration-color: #008080; font-weight: bold\">00</span>: <span style=\"color: #008080; text-decoration-color: #008080; font-weight: bold\">0.94</span>||Enbonered by great snarled cypress trees, the ancient nmanor stands alone on the outskirts of new orleans, kept tipy by a whi te-haired old man known only as 8ambli .\n",
       "ResultOCRExtracted#block <span style=\"color: #008080; text-decoration-color: #008080; font-weight: bold\">01</span>: <span style=\"color: #008080; text-decoration-color: #008080; font-weight: bold\">0.98</span>||The house and the old man are alike in many ways; tall, proud, patient, contented always t° wait until their. master comes home --\n",
       "ResultOCRExtracted#block <span style=\"color: #008080; text-decoration-color: #008080; font-weight: bold\">02</span>: <span style=\"color: #008080; text-decoration-color: #008080; font-weight: bold\">0.70</span>||And one in fee wolld appear.\n",
       "ResultOCRExtracted#block <span style=\"color: #008080; text-decoration-color: #008080; font-weight: bold\">03</span>: <span style=\"color: #008080; text-decoration-color: #008080; font-weight: bold\">0.86</span>||Bambl ~~ we have a guest.\n",
       "ResultOCRExtracted#block <span style=\"color: #008080; text-decoration-color: #008080; font-weight: bold\">04</span>: <span style=\"color: #008080; text-decoration-color: #008080; font-weight: bold\">0.64</span>||=~and tonight, he comes slamming open urgently,\n",
       "ResultOCRExtracted#block <span style=\"color: #008080; text-decoration-color: #008080; font-weight: bold\">05</span>: <span style=\"color: #008080; text-decoration-color: #008080; font-weight: bold\">0.82</span>||Tell me master<span style=\"color: #808000; text-decoration-color: #808000\">...</span> how may bambli serve't\n",
       "ResultOCRExtracted#block <span style=\"color: #008080; text-decoration-color: #008080; font-weight: bold\">06</span>: <span style=\"color: #008080; text-decoration-color: #008080; font-weight: bold\">0.91</span>||Some blankets to keep her warm, banbli-~ and perhaps. some dry clothes\n",
       "ResultOCRExtracted#block <span style=\"color: #008080; text-decoration-color: #008080; font-weight: bold\">07</span>: <span style=\"color: #008080; text-decoration-color: #008080; font-weight: bold\">0.75</span>||The the old mans fades down the hall sire\n",
       "ResultOCRExtracted#block <span style=\"color: #008080; text-decoration-color: #008080; font-weight: bold\">08</span>: <span style=\"color: #008080; text-decoration-color: #008080; font-weight: bold\">0.96</span>||How curious the whims of fate . had i not chanced to stroll along the river tonight-~\n",
       "ResultOCRExtracted#block <span style=\"color: #008080; text-decoration-color: #008080; font-weight: bold\">09</span>: <span style=\"color: #008080; text-decoration-color: #008080; font-weight: bold\">0.77</span>||Allckry as t can, master.\n",
       "ResultOCRExtracted#block <span style=\"color: #008080; text-decoration-color: #008080; font-weight: bold\">10</span>: <span style=\"color: #008080; text-decoration-color: #008080; font-weight: bold\">0.98</span>||~-the girl would most surely be dead by now.\n",
       "ResultOCRExtracted#block <span style=\"color: #008080; text-decoration-color: #008080; font-weight: bold\">11</span>: <span style=\"color: #008080; text-decoration-color: #008080; font-weight: bold\">0.94</span>||Ghede has been generous. the peath god has given the girl a second chance po\n",
       "ResultOCRExtracted#block <span style=\"color: #008080; text-decoration-color: #008080; font-weight: bold\">12</span>: <span style=\"color: #008080; text-decoration-color: #008080; font-weight: bold\">0.74</span>||Cas gr theres othing to scream pps hore .\n",
       "ResultOCRExtracted#block <span style=\"color: #008080; text-decoration-color: #008080; font-weight: bold\">13</span>: <span style=\"color: #008080; text-decoration-color: #008080; font-weight: bold\">0.42</span>||You're safe § r\n",
       "ResultOCRExtracted#block <span style=\"color: #008080; text-decoration-color: #008080; font-weight: bold\">14</span>: <span style=\"color: #008080; text-decoration-color: #008080; font-weight: bold\">0.83</span>||| continued af ext page\n",
       "\n",
       " ---------- Padded <span style=\"color: #008080; text-decoration-color: #008080; font-weight: bold\">8</span>, dilation <span style=\"color: #008080; text-decoration-color: #008080; font-weight: bold\">1</span> ----------\n",
       "ResultOCRExtracted#block <span style=\"color: #008080; text-decoration-color: #008080; font-weight: bold\">00</span>: <span style=\"color: #008080; text-decoration-color: #008080; font-weight: bold\">0.61</span>||Outskirts of new orleans, kept tipy by a white-haired old man known only as sams .\n",
       "ResultOCRExtracted#block <span style=\"color: #008080; text-decoration-color: #008080; font-weight: bold\">01</span>: <span style=\"color: #008080; text-decoration-color: #008080; font-weight: bold\">0.88</span>||The house and the old man are alike in many ways, tall, proud, nt, contented live walt gtie their, master comes home -=\n",
       "ResultOCRExtracted#block <span style=\"color: #008080; text-decoration-color: #008080; font-weight: bold\">02</span>: <span style=\"color: #008080; text-decoration-color: #008080; font-weight: bold\">0.97</span>||And one in need of some help, it wolld appear .\n",
       "ResultOCRExtracted#block <span style=\"color: #008080; text-decoration-color: #008080; font-weight: bold\">03</span>: <span style=\"color: #008080; text-decoration-color: #008080; font-weight: bold\">0.78</span>||Bambli ~~ we have a gliest.\n",
       "ResultOCRExtracted#block <span style=\"color: #008080; text-decoration-color: #008080; font-weight: bold\">04</span>: <span style=\"color: #008080; text-decoration-color: #008080; font-weight: bold\">0.79</span>||=and tonight, he comes most slamming open the front\n",
       "ResultOCRExtracted#block <span style=\"color: #008080; text-decoration-color: #008080; font-weight: bold\">05</span>: <span style=\"color: #008080; text-decoration-color: #008080; font-weight: bold\">0.86</span>||Tell me, master: how may bambli serve <span style=\"color: #008080; text-decoration-color: #008080; font-weight: bold\">7</span>\n",
       "ResultOCRExtracted#block <span style=\"color: #008080; text-decoration-color: #008080; font-weight: bold\">06</span>: <span style=\"color: #008080; text-decoration-color: #008080; font-weight: bold\">0.85</span>||Gone blankets to keep her. warm, bambli-~ and perhaps some dry\n",
       "ResultOCRExtracted#block <span style=\"color: #008080; text-decoration-color: #008080; font-weight: bold\">07</span>: <span style=\"color: #008080; text-decoration-color: #008080; font-weight: bold\">0.73</span>||The old man's footsteps the hall as.re\n",
       "ResultOCRExtracted#block <span style=\"color: #008080; text-decoration-color: #008080; font-weight: bold\">08</span>: <span style=\"color: #008080; text-decoration-color: #008080; font-weight: bold\">0.94</span>||How curious the whims of fate . had i not chanced to stroll along the r/| ver tonight-~\n",
       "ResultOCRExtracted#block <span style=\"color: #008080; text-decoration-color: #008080; font-weight: bold\">09</span>: <span style=\"color: #008080; text-decoration-color: #008080; font-weight: bold\">0.68</span>||Aulckly as t can,\n",
       "ResultOCRExtracted#block <span style=\"color: #008080; text-decoration-color: #008080; font-weight: bold\">10</span>: <span style=\"color: #008080; text-decoration-color: #008080; font-weight: bold\">0.95</span>||~&lt;the girl would most surely be dead by now.\n",
       "ResultOCRExtracted#block <span style=\"color: #008080; text-decoration-color: #008080; font-weight: bold\">11</span>: <span style=\"color: #008080; text-decoration-color: #008080; font-weight: bold\">0.75</span>||Ee lh boe ene. the death gop has the girl. a second chance\n",
       "ResultOCRExtracted#block <span style=\"color: #008080; text-decoration-color: #008080; font-weight: bold\">12</span>: <span style=\"color: #008080; text-decoration-color: #008080; font-weight: bold\">0.92</span>||Easy, girl--there's nothing to scream abolit anymo!\n",
       "ResultOCRExtracted#block <span style=\"color: #008080; text-decoration-color: #008080; font-weight: bold\">13</span>: <span style=\"color: #008080; text-decoration-color: #008080; font-weight: bold\">0.97</span>||You're among friends now. you're safe!\n",
       "ResultOCRExtracted#block <span style=\"color: #008080; text-decoration-color: #008080; font-weight: bold\">14</span>: <span style=\"color: #008080; text-decoration-color: #008080; font-weight: bold\">0.83</span>||| continued af ext page\n",
       "\n",
       " ---------- Pad <span style=\"color: #008080; text-decoration-color: #008080; font-weight: bold\">8</span>, fract. <span style=\"color: #008080; text-decoration-color: #008080; font-weight: bold\">0.5</span> ----------\n",
       "ResultOCRExtracted#block <span style=\"color: #008080; text-decoration-color: #008080; font-weight: bold\">00</span>: <span style=\"color: #008080; text-decoration-color: #008080; font-weight: bold\">0.94</span>||Enbonered by great snarled cypress trees, the ancient manor stands alone on the outskirts of new orleans, kept tipy by a whi te-haired old man known only as b8ambl .\n",
       "ResultOCRExtracted#block <span style=\"color: #008080; text-decoration-color: #008080; font-weight: bold\">01</span>: <span style=\"color: #008080; text-decoration-color: #008080; font-weight: bold\">0.97</span>||The house and the old man are alike in many ways; tall, proud, patient, contented always t° wait until. their. master comes home ~~\n",
       "ResultOCRExtracted#block <span style=\"color: #008080; text-decoration-color: #008080; font-weight: bold\">02</span>: <span style=\"color: #008080; text-decoration-color: #008080; font-weight: bold\">0.78</span>||And one in eee pe would appear.\n",
       "ResultOCRExtracted#block <span style=\"color: #008080; text-decoration-color: #008080; font-weight: bold\">03</span>: <span style=\"color: #008080; text-decoration-color: #008080; font-weight: bold\">0.86</span>||Bambl ~~ we have a guest.\n",
       "ResultOCRExtracted#block <span style=\"color: #008080; text-decoration-color: #008080; font-weight: bold\">04</span>: <span style=\"color: #008080; text-decoration-color: #008080; font-weight: bold\">0.64</span>||=~and tonight, he comes slamming open urgently,\n",
       "ResultOCRExtracted#block <span style=\"color: #008080; text-decoration-color: #008080; font-weight: bold\">05</span>: <span style=\"color: #008080; text-decoration-color: #008080; font-weight: bold\">0.82</span>||Tell me master<span style=\"color: #808000; text-decoration-color: #808000\">...</span> how may bambli serve'<span style=\"color: #008080; text-decoration-color: #008080; font-weight: bold\">7</span>\n",
       "ResultOCRExtracted#block <span style=\"color: #008080; text-decoration-color: #008080; font-weight: bold\">06</span>: <span style=\"color: #008080; text-decoration-color: #008080; font-weight: bold\">0.94</span>||Some blankets to keep her. warm, bambli-~ and perhaps. some dry clothes\n",
       "ResultOCRExtracted#block <span style=\"color: #008080; text-decoration-color: #008080; font-weight: bold\">07</span>: <span style=\"color: #008080; text-decoration-color: #008080; font-weight: bold\">0.73</span>||The the old mans fades donn the hall sire\n",
       "ResultOCRExtracted#block <span style=\"color: #008080; text-decoration-color: #008080; font-weight: bold\">08</span>: <span style=\"color: #008080; text-decoration-color: #008080; font-weight: bold\">0.96</span>||How curious the whims of fate . had i not chanced to stroll along the river tonight-~\n",
       "ResultOCRExtracted#block <span style=\"color: #008080; text-decoration-color: #008080; font-weight: bold\">09</span>: <span style=\"color: #008080; text-decoration-color: #008080; font-weight: bold\">0.81</span>||Aulckry as t can, master.\n",
       "ResultOCRExtracted#block <span style=\"color: #008080; text-decoration-color: #008080; font-weight: bold\">10</span>: <span style=\"color: #008080; text-decoration-color: #008080; font-weight: bold\">0.98</span>||~-the girl would most surely be dead by now.\n",
       "ResultOCRExtracted#block <span style=\"color: #008080; text-decoration-color: #008080; font-weight: bold\">11</span>: <span style=\"color: #008080; text-decoration-color: #008080; font-weight: bold\">0.92</span>||Ghede hag been generous. the peath god has given the girl a second chance po\n",
       "ResultOCRExtracted#block <span style=\"color: #008080; text-decoration-color: #008080; font-weight: bold\">12</span>: <span style=\"color: #008080; text-decoration-color: #008080; font-weight: bold\">0.76</span>||Cas srl theres othing to scream seoit hore .\n",
       "ResultOCRExtracted#block <span style=\"color: #008080; text-decoration-color: #008080; font-weight: bold\">13</span>: <span style=\"color: #008080; text-decoration-color: #008080; font-weight: bold\">0.42</span>||You're safe <span style=\"color: #008080; text-decoration-color: #008080; font-weight: bold\">4</span> ’\n",
       "ResultOCRExtracted#block <span style=\"color: #008080; text-decoration-color: #008080; font-weight: bold\">14</span>: <span style=\"color: #008080; text-decoration-color: #008080; font-weight: bold\">0.83</span>||| continued af ext page\n",
       "\n",
       " ---------- Pad <span style=\"color: #008080; text-decoration-color: #008080; font-weight: bold\">8</span>, fract. <span style=\"color: #008080; text-decoration-color: #008080; font-weight: bold\">0.2</span> ----------\n",
       "ResultOCRExtracted#block <span style=\"color: #008080; text-decoration-color: #008080; font-weight: bold\">00</span>: <span style=\"color: #008080; text-decoration-color: #008080; font-weight: bold\">0.94</span>||Enbonered by great snarled cypress trees, the ancient manor stands alone on the outskirts of new orleans, kept tipy by a whi te-haired old man known only as b8ambl .\n",
       "ResultOCRExtracted#block <span style=\"color: #008080; text-decoration-color: #008080; font-weight: bold\">01</span>: <span style=\"color: #008080; text-decoration-color: #008080; font-weight: bold\">0.97</span>||The house and the old man are alike in many ways; tall, proud, patient, contented always t° wait until their. master comes home ~~\n",
       "ResultOCRExtracted#block <span style=\"color: #008080; text-decoration-color: #008080; font-weight: bold\">02</span>: <span style=\"color: #008080; text-decoration-color: #008080; font-weight: bold\">0.77</span>||And one in eet sve would appear.\n",
       "ResultOCRExtracted#block <span style=\"color: #008080; text-decoration-color: #008080; font-weight: bold\">03</span>: <span style=\"color: #008080; text-decoration-color: #008080; font-weight: bold\">0.86</span>||Bambl ~~ we have a guest.\n",
       "ResultOCRExtracted#block <span style=\"color: #008080; text-decoration-color: #008080; font-weight: bold\">04</span>: <span style=\"color: #008080; text-decoration-color: #008080; font-weight: bold\">0.64</span>||=~and tonight, he comes slamming open urgently,\n",
       "ResultOCRExtracted#block <span style=\"color: #008080; text-decoration-color: #008080; font-weight: bold\">05</span>: <span style=\"color: #008080; text-decoration-color: #008080; font-weight: bold\">0.82</span>||Tell me master<span style=\"color: #808000; text-decoration-color: #808000\">...</span> how may bambli serve'<span style=\"color: #008080; text-decoration-color: #008080; font-weight: bold\">7</span>\n",
       "ResultOCRExtracted#block <span style=\"color: #008080; text-decoration-color: #008080; font-weight: bold\">06</span>: <span style=\"color: #008080; text-decoration-color: #008080; font-weight: bold\">0.94</span>||Some blankets to keep her, warm, bambli-~ and perhaps. some dry clothes\n",
       "ResultOCRExtracted#block <span style=\"color: #008080; text-decoration-color: #008080; font-weight: bold\">07</span>: <span style=\"color: #008080; text-decoration-color: #008080; font-weight: bold\">0.75</span>||The the old mans fades down the hall sere\n",
       "ResultOCRExtracted#block <span style=\"color: #008080; text-decoration-color: #008080; font-weight: bold\">08</span>: <span style=\"color: #008080; text-decoration-color: #008080; font-weight: bold\">0.96</span>||How curious the whims of fate . had i not chanced to stroll along the river tonight-~\n",
       "ResultOCRExtracted#block <span style=\"color: #008080; text-decoration-color: #008080; font-weight: bold\">09</span>: <span style=\"color: #008080; text-decoration-color: #008080; font-weight: bold\">0.81</span>||Aulckry as t can, master.\n",
       "ResultOCRExtracted#block <span style=\"color: #008080; text-decoration-color: #008080; font-weight: bold\">10</span>: <span style=\"color: #008080; text-decoration-color: #008080; font-weight: bold\">0.95</span>||~&lt;the girl would most surely be dead by now.\n",
       "ResultOCRExtracted#block <span style=\"color: #008080; text-decoration-color: #008080; font-weight: bold\">11</span>: <span style=\"color: #008080; text-decoration-color: #008080; font-weight: bold\">0.94</span>||Ghede has been generous. the ceath god has given the girl a second chance po\n",
       "ResultOCRExtracted#block <span style=\"color: #008080; text-decoration-color: #008080; font-weight: bold\">12</span>: <span style=\"color: #008080; text-decoration-color: #008080; font-weight: bold\">0.67</span>||Yi renee othing to scream seat anhore .\n",
       "ResultOCRExtracted#block <span style=\"color: #008080; text-decoration-color: #008080; font-weight: bold\">13</span>: <span style=\"color: #008080; text-decoration-color: #008080; font-weight: bold\">0.93</span>||Youre among eriends now. you're safe!\n",
       "ResultOCRExtracted#block <span style=\"color: #008080; text-decoration-color: #008080; font-weight: bold\">14</span>: <span style=\"color: #008080; text-decoration-color: #008080; font-weight: bold\">0.83</span>||| continued af ext page\n",
       "\n",
       "\n",
       "</pre>\n"
      ],
      "text/plain": [
       "---------- Initial box ----------\n",
       "ResultOCR#block \u001b[1;36m00\u001b[0m: \u001b[1;36m0.90\u001b[0m||Eneonered by great gnarled cypress jrfes, the ancient manor stands alone on the outski\u001b[1m)\u001b[0m \u001b[1;36m2\u001b[0m of mew ce eans, kept tidy by a white-haired old man known only as bambs, \u001b[1;36m3\u001b[0m\n",
       "ResultOCR#block \u001b[1;36m01\u001b[0m: \u001b[1;36m0.93\u001b[0m||The house and the old man are alike in many ways; tall, prolid, patient, contented always \u001b[1;36m0\u001b[0m wait until. their. master cones mome ~~\n",
       "ResultOCR#block \u001b[1;36m02\u001b[0m: \u001b[1;36m0.70\u001b[0m||“and one in ee would appear.\n",
       "ResultOCR#block \u001b[1;36m03\u001b[0m: \u001b[1;36m0.62\u001b[0m||Re bambli-~ we have a\n",
       "ResultOCR#block \u001b[1;36m04\u001b[0m: \u001b[1;36m0.70\u001b[0m||Tonight, he comes noost slamming open the caken\n",
       "ResultOCR#block \u001b[1;36m05\u001b[0m: \u001b[1;36m0.82\u001b[0m||Tell me naster. how may bambli serve \u001b[1;36m7\u001b[0m\n",
       "ResultOCR#block \u001b[1;36m06\u001b[0m: \u001b[1;36m0.56\u001b[0m||£\u001b[1;36m7\u001b[0m » and perhaps some dry clothes\u001b[33m...\u001b[0m \u001b[1;36m7\u001b[0m \u001b[35m/\u001b[0m\n",
       "ResultOCR#block \u001b[1;36m07\u001b[0m: \u001b[1;36m0.81\u001b[0m||The the old man's fades down the hall as\u001b[33m...\u001b[0m \u001b[1;36m7\u001b[0m\n",
       "ResultOCR#block \u001b[1;36m08\u001b[0m: \u001b[1;36m0.85\u001b[0m||How curious the \u001b[1;36m4\u001b[0m fate. whims of had t not chanced to stroll along the river yl tonight ==\n",
       "ResultOCR#block \u001b[1;36m09\u001b[0m: \u001b[1;36m0.80\u001b[0m||Fas oulckly as t ca, master.\n",
       "ResultOCR#block \u001b[1;36m10\u001b[0m: \u001b[1;36m0.91\u001b[0m||<the girl would - most slirely be dead by now.\n",
       "ResultOCR#block \u001b[1;36m11\u001b[0m: \u001b[1;36m0.47\u001b[0m||Ath the girl. a second chance ge a ee yg adil\n",
       "ResultOCR#block \u001b[1;36m12\u001b[0m: \u001b[1;36m0.84\u001b[0m||Ah girl--there's othing to scream ntt anymore .\n",
       "ResultOCR#block \u001b[1;36m13\u001b[0m: \u001b[1;36m0.93\u001b[0m||You're among friends now. you're sale\n",
       "ResultOCR#block \u001b[1;36m14\u001b[0m: \u001b[1;36m1.00\u001b[0m||Continued after next page\n",
       "\n",
       " ---------- Default ----------\n",
       "ResultOCR#block \u001b[1;36m00\u001b[0m: \u001b[1;36m0.85\u001b[0m||Eneowered by great gnarled cypress jrfes, the ancient manor ! alone on the eit of mew rce: eans, kept tipy by a white-haired ao han known only as\n",
       "ResultOCR#block \u001b[1;36m01\u001b[0m: \u001b[1;36m0.96\u001b[0m||The house and the old man are alike in many ways; tall, proud, patient, conten tel always to wait until their. master cones home ~~\n",
       "ResultOCR#block \u001b[1;36m02\u001b[0m: \u001b[1;36m0.74\u001b[0m||And one in ee would appear.\n",
       "ResultOCR#block \u001b[1;36m03\u001b[0m: \u001b[1;36m0.41\u001b[0m||Rir guest.\n",
       "ResultOCR#block \u001b[1;36m04\u001b[0m: \u001b[1;36m0.59\u001b[0m||=~and tonight, he comes host sane oo\n",
       "ResultOCR#block \u001b[1;36m05\u001b[0m: \u001b[1;36m0.78\u001b[0m||Tell me masts - how may bambli . serve \u001b[1;36m7\u001b[0m _\n",
       "ResultOCR#block \u001b[1;36m06\u001b[0m: \u001b[1;36m0.48\u001b[0m||R warm, bambli-~ and perhaps\n",
       "ResultOCR#block \u001b[1;36m07\u001b[0m: \u001b[1;36m0.76\u001b[0m||The the old mans fades down the hall s.\u001b[1;36m00\u001b[0m\n",
       "ResultOCR#block \u001b[1;36m08\u001b[0m: \u001b[1;36m0.92\u001b[0m||How curious the a whims of fate . had t not chanced to stroll along the river tonight~~ >\n",
       "ResultOCR#block \u001b[1;36m09\u001b[0m: \u001b[1;36m0.50\u001b[0m||Aulckly “master as t can,\n",
       "ResultOCR#block \u001b[1;36m10\u001b[0m: \u001b[1;36m0.94\u001b[0m||<the girl would - most surely be dead by now.\n",
       "ResultOCR#block \u001b[1;36m11\u001b[0m: \u001b[1;36m0.50\u001b[0m||Ath - the girl. a second chance ee oo tr tt\n",
       "ResultOCR#block \u001b[1;36m12\u001b[0m: \u001b[1;36m0.84\u001b[0m||Oe girl--there's othing to scream nt anymore. \u001b[1;36m4\u001b[0m\n",
       "ResultOCR#block \u001b[1;36m13\u001b[0m: \u001b[1;36m0.96\u001b[0m||You're among friends now. youre safe!\n",
       "ResultOCR#block \u001b[1;36m14\u001b[0m: \u001b[1;36m1.00\u001b[0m||Continued after next page\n",
       "\n",
       " ---------- Default, grey pad ----------\n",
       "ResultOCR#block \u001b[1;36m00\u001b[0m: \u001b[1;36m0.95\u001b[0m||Enbowered by great gnarled cypress trees, the ancient manor stands alone on the outskirts of new orleans, kept tipy by a white-haired old man known only as\n",
       "ResultOCR#block \u001b[1;36m01\u001b[0m: \u001b[1;36m0.96\u001b[0m||The house and the old man are alike in many ways; tall, prolid, patient, contented always to wait until their. * master cones home ~-\n",
       "ResultOCR#block \u001b[1;36m02\u001b[0m: \u001b[1;36m0.94\u001b[0m||“and one in > need of some help, it would appear .\n",
       "ResultOCR#block \u001b[1;36m03\u001b[0m: \u001b[1;36m0.88\u001b[0m||\" bambl-- we have a guest.\n",
       "ResultOCR#block \u001b[1;36m04\u001b[0m: \u001b[1;36m0.72\u001b[0m||~~and tonight, he comes urgently, slanming open\n",
       "ResultOCR#block \u001b[1;36m05\u001b[0m: \u001b[1;36m0.86\u001b[0m||Tell me, master: how may bambli serve \u001b[1;36m7\u001b[0m\n",
       "ResultOCR#block \u001b[1;36m06\u001b[0m: \u001b[1;36m0.90\u001b[0m||Some blankets to keep her. warm, bambli-- and perhaps some dry \\ clothes-\u001b[1;36m-7\u001b[0m \u001b[35m/\u001b[0m\u001b[95m.\u001b[0m\n",
       "ResultOCR#block \u001b[1;36m07\u001b[0m: \u001b[1;36m0.06\u001b[0m||As.\n",
       "ResultOCR#block \u001b[1;36m08\u001b[0m: \u001b[1;36m0.91\u001b[0m||How curious the d 7e . whims of fa; had i not chanced to stroll along the river tonight--\n",
       "ResultOCR#block \u001b[1;36m09\u001b[0m: \u001b[1;36m0.55\u001b[0m||Ickl as t can\n",
       "ResultOCR#block \u001b[1;36m10\u001b[0m: \u001b[1;36m0.00\u001b[0m||\n",
       "ResultOCR#block \u001b[1;36m11\u001b[0m: \u001b[1;36m0.85\u001b[0m||Ghede has been generous. the death god has gen + the girl. a second chance te oe ato\" pd ate\n",
       "ResultOCR#block \u001b[1;36m12\u001b[0m: \u001b[1;36m0.95\u001b[0m||Easy, girl--there's | nothing to scream about anyaore.\n",
       "ResultOCR#block \u001b[1;36m13\u001b[0m: \u001b[1;36m0.97\u001b[0m||You're among friends now. you're safe!\n",
       "ResultOCR#block \u001b[1;36m14\u001b[0m: \u001b[1;36m0.54\u001b[0m||“continued a\n",
       "\n",
       " ---------- Padded 4px ----------\n",
       "ResultOCR#block \u001b[1;36m00\u001b[0m: \u001b[1;36m0.88\u001b[0m||Enbonered by great gnarled cypress jrfes, the ancient manor stands alone on the eit of mew rce: eans, kept tipy by a white-haired ao lo man known only as\n",
       "ResultOCR#block \u001b[1;36m01\u001b[0m: \u001b[1;36m0.93\u001b[0m||The house and the oldman are alike in many ways; tall, proud, patient, contented a ways \u001b[1;36m0\u001b[0m wait until their. aster comes home ~~ | \u001b[1m}\u001b[0m\n",
       "ResultOCR#block \u001b[1;36m02\u001b[0m: \u001b[1;36m0.69\u001b[0m||F and one in ee would appear.\n",
       "ResultOCR#block \u001b[1;36m03\u001b[0m: \u001b[1;36m0.77\u001b[0m||\" bambli-— we have a gliest.\n",
       "ResultOCR#block \u001b[1;36m04\u001b[0m: \u001b[1;36m0.55\u001b[0m||P comes slamming open the caken\n",
       "ResultOCR#block \u001b[1;36m05\u001b[0m: \u001b[1;36m0.57\u001b[0m||Tel oe er-- \u001b[1;36m5\u001b[0m ow a = \u001b[1;36m7\u001b[0m\n",
       "ResultOCR#block \u001b[1;36m06\u001b[0m: \u001b[1;36m0.38\u001b[0m||We and perhaps c oe \u001b[35m/\u001b[0m\n",
       "ResultOCR#block \u001b[1;36m07\u001b[0m: \u001b[1;36m0.75\u001b[0m||The the old mans fades down the hall sra\n",
       "ResultOCR#block \u001b[1;36m08\u001b[0m: \u001b[1;36m0.92\u001b[0m||How curious the a whims of fate . - had i not chanced to stroll along the river yl tonight~-\n",
       "ResultOCR#block \u001b[1;36m09\u001b[0m: \u001b[1;36m0.79\u001b[0m||Aulckly as t can, ‘masrer.\n",
       "ResultOCR#block \u001b[1;36m10\u001b[0m: \u001b[1;36m0.92\u001b[0m||<the girl wolld - most surely be dead by now.\n",
       "ResultOCR#block \u001b[1;36m11\u001b[0m: \u001b[1;36m0.88\u001b[0m||Ghede has been generous. the oeath gop has given - the girl. a second chance ye, alem\n",
       "ResultOCR#block \u001b[1;36m12\u001b[0m: \u001b[1;36m0.67\u001b[0m||Soe er eke othing to scream ay anymore.\n",
       "ResultOCR#block \u001b[1;36m13\u001b[0m: \u001b[1;36m0.94\u001b[0m||\"you're among friends now. you're safe!\n",
       "ResultOCR#block \u001b[1;36m14\u001b[0m: \u001b[1;36m1.00\u001b[0m||Continued after next page\n",
       "\n",
       " ---------- Padded 8px ----------\n",
       "ResultOCR#block \u001b[1;36m00\u001b[0m: \u001b[1;36m0.88\u001b[0m||Enbonered by great gnarled cypress trees, the ancient manor stands alone on the pag hile of new orleans, kept tipy by a white-haired ao lo man known omy as\n",
       "ResultOCR#block \u001b[1;36m01\u001b[0m: \u001b[1;36m0.99\u001b[0m||The house and the old man are alike in many ways; tall, proud, patient, contented always to wait until their. master comes home\n",
       "ResultOCR#block \u001b[1;36m02\u001b[0m: \u001b[1;36m0.67\u001b[0m||\u001b[1;36m7\u001b[0m and one in ee would appear,\n",
       "ResultOCR#block \u001b[1;36m03\u001b[0m: \u001b[1;36m0.76\u001b[0m||Zf mbl == we have a guest.\n",
       "ResultOCR#block \u001b[1;36m04\u001b[0m: \u001b[1;36m0.61\u001b[0m||Tonight, he comes host slamming open\n",
       "ResultOCR#block \u001b[1;36m05\u001b[0m: \u001b[1;36m0.75\u001b[0m||Yy i tell me master - how may bambli serve \u001b[1;36m7\u001b[0m _,\n",
       "ResultOCR#block \u001b[1;36m06\u001b[0m: \u001b[1;36m0.89\u001b[0m||Some. blankets to keep he arm , bambli-= and perhaps some dry clothes. 2s\n",
       "ResultOCR#block \u001b[1;36m07\u001b[0m: \u001b[1;36m0.72\u001b[0m||The the old mans fades down the hal. srl see\n",
       "ResultOCR#block \u001b[1;36m08\u001b[0m: \u001b[1;36m0.88\u001b[0m||* how curious the p whims of fate . - had i not chanced . to stroll along _ the river \u001b[1;36m3\u001b[0m tonight-~\n",
       "ResultOCR#block \u001b[1;36m09\u001b[0m: \u001b[1;36m0.65\u001b[0m||Tiie as t can, \\ master ,\n",
       "ResultOCR#block \u001b[1;36m10\u001b[0m: \u001b[1;36m0.86\u001b[0m||The girl wolld - most slirely be - dead by now.\n",
       "ResultOCR#block \u001b[1;36m11\u001b[0m: \u001b[1;36m0.62\u001b[0m||Ghede has been generous. : the crn son ue;\n",
       "ResultOCR#block \u001b[1;36m12\u001b[0m: \u001b[1;36m0.62\u001b[0m||Soe er eke othing to scream hbolt anhore hr\n",
       "ResultOCR#block \u001b[1;36m13\u001b[0m: \u001b[1;36m0.92\u001b[0m||” you're among friends now. you're safe!\n",
       "ResultOCR#block \u001b[1;36m14\u001b[0m: \u001b[1;36m0.94\u001b[0m||“continued after next page\n",
       "\n",
       " ---------- Extracted, init box ----------\n",
       "ResultOCRExtracted#block \u001b[1;36m00\u001b[0m: \u001b[1;36m0.92\u001b[0m||Fhbonered by great snarled cypress trees, the ancient nmanor stands alone on the outskirts of new orleans. kept tipy by a whi te-haire old man known only as bambi\u001b[1m]\u001b[0m .\n",
       "ResultOCRExtracted#block \u001b[1;36m01\u001b[0m: \u001b[1;36m0.93\u001b[0m||Ee house and the old man por alike in many ways; tall, proud, patient, contented always t° wait until their. master cones home ~~\n",
       "ResultOCRExtracted#block \u001b[1;36m02\u001b[0m: \u001b[1;36m0.73\u001b[0m||And one in fee would appear.\n",
       "ResultOCRExtracted#block \u001b[1;36m03\u001b[0m: \u001b[1;36m0.67\u001b[0m||— we have a \u001b[33mi\u001b[0m=\u001b[35ms7t\u001b[0m.\n",
       "ResultOCRExtracted#block \u001b[1;36m04\u001b[0m: \u001b[1;36m0.74\u001b[0m||~and tonight, he comes urgently, slamming open\n",
       "ResultOCRExtracted#block \u001b[1;36m05\u001b[0m: \u001b[1;36m0.85\u001b[0m||Tell me master how may bambli serve \u001b[1;36m7\u001b[0m\n",
       "ResultOCRExtracted#block \u001b[1;36m06\u001b[0m: \u001b[1;36m0.93\u001b[0m||Some blankets to keep her warm, banbli-- and perhaps. some dry clothes\n",
       "ResultOCRExtracted#block \u001b[1;36m07\u001b[0m: \u001b[1;36m0.77\u001b[0m||The the old man's fades down the hall s.,\u001b[1;36m00\u001b[0m\n",
       "ResultOCRExtracted#block \u001b[1;36m08\u001b[0m: \u001b[1;36m0.77\u001b[0m||Hin ef fare” had i not chanced to stroll along the river. \u001b[33mtonigmt\u001b[0m=~\n",
       "ResultOCRExtracted#block \u001b[1;36m09\u001b[0m: \u001b[1;36m0.85\u001b[0m||Aulckly as t can, master,\n",
       "ResultOCRExtracted#block \u001b[1;36m10\u001b[0m: \u001b[1;36m1.00\u001b[0m||--the girl would most surely be dead by now.\n",
       "ResultOCRExtracted#block \u001b[1;36m11\u001b[0m: \u001b[1;36m0.51\u001b[0m||Ath the girl a second chance ro\n",
       "ResultOCRExtracted#block \u001b[1;36m12\u001b[0m: \u001b[1;36m0.56\u001b[0m||Cas ee, othing to scream pls aa .\n",
       "ResultOCRExtracted#block \u001b[1;36m13\u001b[0m: \u001b[1;36m0.95\u001b[0m||You're among friends now. you're sale!\n",
       "ResultOCRExtracted#block \u001b[1;36m14\u001b[0m: \u001b[1;36m0.91\u001b[0m||Continued af ext page\n",
       "\n",
       " ---------- Padded \u001b[1;36m4\u001b[0m, extracted ----------\n",
       "ResultOCRExtracted#block \u001b[1;36m00\u001b[0m: \u001b[1;36m0.91\u001b[0m||Enbonsred by great shale cypress trees, the anci manor stands alone on the \u001b[1m[\u001b[0mtskirts of new orleans, kept tidy by a whi te- haired old man known only as b8ambl .\n",
       "ResultOCRExtracted#block \u001b[1;36m01\u001b[0m: \u001b[1;36m0.98\u001b[0m||The house and the old man are alike in many ways; tall, proud, patient, contented always t° wait until their. master cones home --\n",
       "ResultOCRExtracted#block \u001b[1;36m02\u001b[0m: \u001b[1;36m0.73\u001b[0m||And one in fee would appear.\n",
       "ResultOCRExtracted#block \u001b[1;36m03\u001b[0m: \u001b[1;36m0.83\u001b[0m||Bambli we have a gliest.\n",
       "ResultOCRExtracted#block \u001b[1;36m04\u001b[0m: \u001b[1;36m0.74\u001b[0m||=~and tonight, he comes urgently, slamming open\n",
       "ResultOCRExtracted#block \u001b[1;36m05\u001b[0m: \u001b[1;36m0.84\u001b[0m||Tell me master. how may bambli serve \u001b[1;36m7\u001b[0m\n",
       "ResultOCRExtracted#block \u001b[1;36m06\u001b[0m: \u001b[1;36m0.53\u001b[0m||Warm, bambli-- and perhaps. som\n",
       "ResultOCRExtracted#block \u001b[1;36m07\u001b[0m: \u001b[1;36m0.75\u001b[0m||The the old mans fades down the hall sra\n",
       "ResultOCRExtracted#block \u001b[1;36m08\u001b[0m: \u001b[1;36m0.76\u001b[0m||We sea had i not chanced to stroll along the river. tonight-~\n",
       "ResultOCRExtracted#block \u001b[1;36m09\u001b[0m: \u001b[1;36m0.76\u001b[0m||Alley as t can, master,\n",
       "ResultOCRExtracted#block \u001b[1;36m10\u001b[0m: \u001b[1;36m0.98\u001b[0m||~-the girl would most surely be dead by now.\n",
       "ResultOCRExtracted#block \u001b[1;36m11\u001b[0m: \u001b[1;36m0.92\u001b[0m||Chepe has been generous. the peath god has given the girl a second chance amr\n",
       "ResultOCRExtracted#block \u001b[1;36m12\u001b[0m: \u001b[1;36m0.73\u001b[0m||Cas gr theres othing to scream pissy tore .\n",
       "ResultOCRExtracted#block \u001b[1;36m13\u001b[0m: \u001b[1;36m0.95\u001b[0m||You're among eriends now. you're safe!\n",
       "ResultOCRExtracted#block \u001b[1;36m14\u001b[0m: \u001b[1;36m0.91\u001b[0m||Continued af ext page\n",
       "\n",
       " ---------- Padded \u001b[1;36m8\u001b[0m, extracted ----------\n",
       "ResultOCRExtracted#block \u001b[1;36m00\u001b[0m: \u001b[1;36m0.94\u001b[0m||Enbonered by great snarled cypress trees, the ancient nmanor stands alone on the outskirts of new orleans, kept tipy by a whi te-haired old man known only as 8ambli .\n",
       "ResultOCRExtracted#block \u001b[1;36m01\u001b[0m: \u001b[1;36m0.98\u001b[0m||The house and the old man are alike in many ways; tall, proud, patient, contented always t° wait until their. master comes home --\n",
       "ResultOCRExtracted#block \u001b[1;36m02\u001b[0m: \u001b[1;36m0.70\u001b[0m||And one in fee wolld appear.\n",
       "ResultOCRExtracted#block \u001b[1;36m03\u001b[0m: \u001b[1;36m0.86\u001b[0m||Bambl ~~ we have a guest.\n",
       "ResultOCRExtracted#block \u001b[1;36m04\u001b[0m: \u001b[1;36m0.64\u001b[0m||=~and tonight, he comes slamming open urgently,\n",
       "ResultOCRExtracted#block \u001b[1;36m05\u001b[0m: \u001b[1;36m0.82\u001b[0m||Tell me master\u001b[33m...\u001b[0m how may bambli serve't\n",
       "ResultOCRExtracted#block \u001b[1;36m06\u001b[0m: \u001b[1;36m0.91\u001b[0m||Some blankets to keep her warm, banbli-~ and perhaps. some dry clothes\n",
       "ResultOCRExtracted#block \u001b[1;36m07\u001b[0m: \u001b[1;36m0.75\u001b[0m||The the old mans fades down the hall sire\n",
       "ResultOCRExtracted#block \u001b[1;36m08\u001b[0m: \u001b[1;36m0.96\u001b[0m||How curious the whims of fate . had i not chanced to stroll along the river tonight-~\n",
       "ResultOCRExtracted#block \u001b[1;36m09\u001b[0m: \u001b[1;36m0.77\u001b[0m||Allckry as t can, master.\n",
       "ResultOCRExtracted#block \u001b[1;36m10\u001b[0m: \u001b[1;36m0.98\u001b[0m||~-the girl would most surely be dead by now.\n",
       "ResultOCRExtracted#block \u001b[1;36m11\u001b[0m: \u001b[1;36m0.94\u001b[0m||Ghede has been generous. the peath god has given the girl a second chance po\n",
       "ResultOCRExtracted#block \u001b[1;36m12\u001b[0m: \u001b[1;36m0.74\u001b[0m||Cas gr theres othing to scream pps hore .\n",
       "ResultOCRExtracted#block \u001b[1;36m13\u001b[0m: \u001b[1;36m0.42\u001b[0m||You're safe § r\n",
       "ResultOCRExtracted#block \u001b[1;36m14\u001b[0m: \u001b[1;36m0.83\u001b[0m||| continued af ext page\n",
       "\n",
       " ---------- Padded \u001b[1;36m8\u001b[0m, dilation \u001b[1;36m1\u001b[0m ----------\n",
       "ResultOCRExtracted#block \u001b[1;36m00\u001b[0m: \u001b[1;36m0.61\u001b[0m||Outskirts of new orleans, kept tipy by a white-haired old man known only as sams .\n",
       "ResultOCRExtracted#block \u001b[1;36m01\u001b[0m: \u001b[1;36m0.88\u001b[0m||The house and the old man are alike in many ways, tall, proud, nt, contented live walt gtie their, master comes home -=\n",
       "ResultOCRExtracted#block \u001b[1;36m02\u001b[0m: \u001b[1;36m0.97\u001b[0m||And one in need of some help, it wolld appear .\n",
       "ResultOCRExtracted#block \u001b[1;36m03\u001b[0m: \u001b[1;36m0.78\u001b[0m||Bambli ~~ we have a gliest.\n",
       "ResultOCRExtracted#block \u001b[1;36m04\u001b[0m: \u001b[1;36m0.79\u001b[0m||=and tonight, he comes most slamming open the front\n",
       "ResultOCRExtracted#block \u001b[1;36m05\u001b[0m: \u001b[1;36m0.86\u001b[0m||Tell me, master: how may bambli serve \u001b[1;36m7\u001b[0m\n",
       "ResultOCRExtracted#block \u001b[1;36m06\u001b[0m: \u001b[1;36m0.85\u001b[0m||Gone blankets to keep her. warm, bambli-~ and perhaps some dry\n",
       "ResultOCRExtracted#block \u001b[1;36m07\u001b[0m: \u001b[1;36m0.73\u001b[0m||The old man's footsteps the hall as.re\n",
       "ResultOCRExtracted#block \u001b[1;36m08\u001b[0m: \u001b[1;36m0.94\u001b[0m||How curious the whims of fate . had i not chanced to stroll along the r/| ver tonight-~\n",
       "ResultOCRExtracted#block \u001b[1;36m09\u001b[0m: \u001b[1;36m0.68\u001b[0m||Aulckly as t can,\n",
       "ResultOCRExtracted#block \u001b[1;36m10\u001b[0m: \u001b[1;36m0.95\u001b[0m||~<the girl would most surely be dead by now.\n",
       "ResultOCRExtracted#block \u001b[1;36m11\u001b[0m: \u001b[1;36m0.75\u001b[0m||Ee lh boe ene. the death gop has the girl. a second chance\n",
       "ResultOCRExtracted#block \u001b[1;36m12\u001b[0m: \u001b[1;36m0.92\u001b[0m||Easy, girl--there's nothing to scream abolit anymo!\n",
       "ResultOCRExtracted#block \u001b[1;36m13\u001b[0m: \u001b[1;36m0.97\u001b[0m||You're among friends now. you're safe!\n",
       "ResultOCRExtracted#block \u001b[1;36m14\u001b[0m: \u001b[1;36m0.83\u001b[0m||| continued af ext page\n",
       "\n",
       " ---------- Pad \u001b[1;36m8\u001b[0m, fract. \u001b[1;36m0.5\u001b[0m ----------\n",
       "ResultOCRExtracted#block \u001b[1;36m00\u001b[0m: \u001b[1;36m0.94\u001b[0m||Enbonered by great snarled cypress trees, the ancient manor stands alone on the outskirts of new orleans, kept tipy by a whi te-haired old man known only as b8ambl .\n",
       "ResultOCRExtracted#block \u001b[1;36m01\u001b[0m: \u001b[1;36m0.97\u001b[0m||The house and the old man are alike in many ways; tall, proud, patient, contented always t° wait until. their. master comes home ~~\n",
       "ResultOCRExtracted#block \u001b[1;36m02\u001b[0m: \u001b[1;36m0.78\u001b[0m||And one in eee pe would appear.\n",
       "ResultOCRExtracted#block \u001b[1;36m03\u001b[0m: \u001b[1;36m0.86\u001b[0m||Bambl ~~ we have a guest.\n",
       "ResultOCRExtracted#block \u001b[1;36m04\u001b[0m: \u001b[1;36m0.64\u001b[0m||=~and tonight, he comes slamming open urgently,\n",
       "ResultOCRExtracted#block \u001b[1;36m05\u001b[0m: \u001b[1;36m0.82\u001b[0m||Tell me master\u001b[33m...\u001b[0m how may bambli serve'\u001b[1;36m7\u001b[0m\n",
       "ResultOCRExtracted#block \u001b[1;36m06\u001b[0m: \u001b[1;36m0.94\u001b[0m||Some blankets to keep her. warm, bambli-~ and perhaps. some dry clothes\n",
       "ResultOCRExtracted#block \u001b[1;36m07\u001b[0m: \u001b[1;36m0.73\u001b[0m||The the old mans fades donn the hall sire\n",
       "ResultOCRExtracted#block \u001b[1;36m08\u001b[0m: \u001b[1;36m0.96\u001b[0m||How curious the whims of fate . had i not chanced to stroll along the river tonight-~\n",
       "ResultOCRExtracted#block \u001b[1;36m09\u001b[0m: \u001b[1;36m0.81\u001b[0m||Aulckry as t can, master.\n",
       "ResultOCRExtracted#block \u001b[1;36m10\u001b[0m: \u001b[1;36m0.98\u001b[0m||~-the girl would most surely be dead by now.\n",
       "ResultOCRExtracted#block \u001b[1;36m11\u001b[0m: \u001b[1;36m0.92\u001b[0m||Ghede hag been generous. the peath god has given the girl a second chance po\n",
       "ResultOCRExtracted#block \u001b[1;36m12\u001b[0m: \u001b[1;36m0.76\u001b[0m||Cas srl theres othing to scream seoit hore .\n",
       "ResultOCRExtracted#block \u001b[1;36m13\u001b[0m: \u001b[1;36m0.42\u001b[0m||You're safe \u001b[1;36m4\u001b[0m ’\n",
       "ResultOCRExtracted#block \u001b[1;36m14\u001b[0m: \u001b[1;36m0.83\u001b[0m||| continued af ext page\n",
       "\n",
       " ---------- Pad \u001b[1;36m8\u001b[0m, fract. \u001b[1;36m0.2\u001b[0m ----------\n",
       "ResultOCRExtracted#block \u001b[1;36m00\u001b[0m: \u001b[1;36m0.94\u001b[0m||Enbonered by great snarled cypress trees, the ancient manor stands alone on the outskirts of new orleans, kept tipy by a whi te-haired old man known only as b8ambl .\n",
       "ResultOCRExtracted#block \u001b[1;36m01\u001b[0m: \u001b[1;36m0.97\u001b[0m||The house and the old man are alike in many ways; tall, proud, patient, contented always t° wait until their. master comes home ~~\n",
       "ResultOCRExtracted#block \u001b[1;36m02\u001b[0m: \u001b[1;36m0.77\u001b[0m||And one in eet sve would appear.\n",
       "ResultOCRExtracted#block \u001b[1;36m03\u001b[0m: \u001b[1;36m0.86\u001b[0m||Bambl ~~ we have a guest.\n",
       "ResultOCRExtracted#block \u001b[1;36m04\u001b[0m: \u001b[1;36m0.64\u001b[0m||=~and tonight, he comes slamming open urgently,\n",
       "ResultOCRExtracted#block \u001b[1;36m05\u001b[0m: \u001b[1;36m0.82\u001b[0m||Tell me master\u001b[33m...\u001b[0m how may bambli serve'\u001b[1;36m7\u001b[0m\n",
       "ResultOCRExtracted#block \u001b[1;36m06\u001b[0m: \u001b[1;36m0.94\u001b[0m||Some blankets to keep her, warm, bambli-~ and perhaps. some dry clothes\n",
       "ResultOCRExtracted#block \u001b[1;36m07\u001b[0m: \u001b[1;36m0.75\u001b[0m||The the old mans fades down the hall sere\n",
       "ResultOCRExtracted#block \u001b[1;36m08\u001b[0m: \u001b[1;36m0.96\u001b[0m||How curious the whims of fate . had i not chanced to stroll along the river tonight-~\n",
       "ResultOCRExtracted#block \u001b[1;36m09\u001b[0m: \u001b[1;36m0.81\u001b[0m||Aulckry as t can, master.\n",
       "ResultOCRExtracted#block \u001b[1;36m10\u001b[0m: \u001b[1;36m0.95\u001b[0m||~<the girl would most surely be dead by now.\n",
       "ResultOCRExtracted#block \u001b[1;36m11\u001b[0m: \u001b[1;36m0.94\u001b[0m||Ghede has been generous. the ceath god has given the girl a second chance po\n",
       "ResultOCRExtracted#block \u001b[1;36m12\u001b[0m: \u001b[1;36m0.67\u001b[0m||Yi renee othing to scream seat anhore .\n",
       "ResultOCRExtracted#block \u001b[1;36m13\u001b[0m: \u001b[1;36m0.93\u001b[0m||Youre among eriends now. you're safe!\n",
       "ResultOCRExtracted#block \u001b[1;36m14\u001b[0m: \u001b[1;36m0.83\u001b[0m||| continued af ext page\n",
       "\n",
       "\n"
      ]
     },
     "metadata": {},
     "output_type": "display_data"
    }
   ],
   "source": [
    "image_experiment(\n",
    "    box_idxs=[0, 1, 2, 3],\n",
    "    methods=[CropMethod.INITIAL_BOX, CropMethod.DEFAULT],\n",
    "    rebuild=False,\n",
    "    display=True,\n",
    "    save_as_ground_truth=False\n",
    ")\n"
   ]
  },
  {
   "cell_type": "markdown",
   "metadata": {},
   "source": [
    "## On any image"
   ]
  },
  {
   "cell_type": "code",
   "execution_count": null,
   "metadata": {},
   "outputs": [],
   "source": [
    "test_fail(lambda: ExperimentOCR.from_image(CONTEXT, 'Tesseract', 37), 'out of range')\n"
   ]
  },
  {
   "cell_type": "code",
   "execution_count": null,
   "metadata": {},
   "outputs": [
    {
     "data": {
      "application/vnd.jupyter.widget-view+json": {
       "model_id": "d2244aadb3234fd4b92561865168e510",
       "version_major": 2,
       "version_minor": 0
      },
      "text/plain": [
       "VBox(children=(HTML(value=\"<style id='stl-13689629008'>\\n    .display_option_grp {\\n        background-color: …"
      ]
     },
     "metadata": {},
     "output_type": "display_data"
    }
   ],
   "source": [
    "ImageContextVisor(CONTEXT, 'Action_Comics_1960-01-00_(262).JPG')\n"
   ]
  },
  {
   "cell_type": "code",
   "execution_count": null,
   "metadata": {},
   "outputs": [
    {
     "data": {
      "application/vnd.jupyter.widget-view+json": {
       "model_id": "2a6613880a3e4cd198617299b4fa7577",
       "version_major": 2,
       "version_minor": 0
      },
      "text/plain": [
       "Initial box - Tesseract:   0%|          | 0/17 [00:00<?, ?it/s]"
      ]
     },
     "metadata": {},
     "output_type": "display_data"
    },
    {
     "data": {
      "application/vnd.jupyter.widget-view+json": {
       "model_id": "f681fe94dede49eb99f5379b0ef68a3b",
       "version_major": 2,
       "version_minor": 0
      },
      "text/plain": [
       "Default - Tesseract:   0%|          | 0/17 [00:00<?, ?it/s]"
      ]
     },
     "metadata": {},
     "output_type": "display_data"
    },
    {
     "data": {
      "application/vnd.jupyter.widget-view+json": {
       "model_id": "786d40102f734171b23c3c291f9274dd",
       "version_major": 2,
       "version_minor": 0
      },
      "text/plain": [
       "Default, grey pad - Tesseract:   0%|          | 0/17 [00:00<?, ?it/s]"
      ]
     },
     "metadata": {},
     "output_type": "display_data"
    },
    {
     "data": {
      "application/vnd.jupyter.widget-view+json": {
       "model_id": "f2eabd8a5b70498c858a5d86dc3bc518",
       "version_major": 2,
       "version_minor": 0
      },
      "text/plain": [
       "Padded 4px - Tesseract:   0%|          | 0/17 [00:00<?, ?it/s]"
      ]
     },
     "metadata": {},
     "output_type": "display_data"
    },
    {
     "data": {
      "application/vnd.jupyter.widget-view+json": {
       "model_id": "88af832b59c540749324baebf4fd6c8c",
       "version_major": 2,
       "version_minor": 0
      },
      "text/plain": [
       "Padded 8px - Tesseract:   0%|          | 0/17 [00:00<?, ?it/s]"
      ]
     },
     "metadata": {},
     "output_type": "display_data"
    },
    {
     "data": {
      "application/vnd.jupyter.widget-view+json": {
       "model_id": "9a355afc716a453e8de043f49c76d918",
       "version_major": 2,
       "version_minor": 0
      },
      "text/plain": [
       "Extracted, init box - Tesseract:   0%|          | 0/17 [00:00<?, ?it/s]"
      ]
     },
     "metadata": {},
     "output_type": "display_data"
    },
    {
     "data": {
      "application/vnd.jupyter.widget-view+json": {
       "model_id": "2e8dde3ebb3444099bd181c8390b5a16",
       "version_major": 2,
       "version_minor": 0
      },
      "text/plain": [
       "Padded 4, extracted - Tesseract:   0%|          | 0/17 [00:00<?, ?it/s]"
      ]
     },
     "metadata": {},
     "output_type": "display_data"
    },
    {
     "data": {
      "application/vnd.jupyter.widget-view+json": {
       "model_id": "482c41759d234ec4befd8a1d47ee20c9",
       "version_major": 2,
       "version_minor": 0
      },
      "text/plain": [
       "Padded 8, extracted - Tesseract:   0%|          | 0/17 [00:00<?, ?it/s]"
      ]
     },
     "metadata": {},
     "output_type": "display_data"
    },
    {
     "data": {
      "application/vnd.jupyter.widget-view+json": {
       "model_id": "661daecfd7ea441283fcf440dfadf001",
       "version_major": 2,
       "version_minor": 0
      },
      "text/plain": [
       "Padded 8, dilation 1 - Tesseract:   0%|          | 0/17 [00:00<?, ?it/s]"
      ]
     },
     "metadata": {},
     "output_type": "display_data"
    },
    {
     "data": {
      "application/vnd.jupyter.widget-view+json": {
       "model_id": "a6d180175d6f4ef2b58e547bdc078d00",
       "version_major": 2,
       "version_minor": 0
      },
      "text/plain": [
       "Pad 8, fract. 0.5 - Tesseract:   0%|          | 0/17 [00:00<?, ?it/s]"
      ]
     },
     "metadata": {},
     "output_type": "display_data"
    },
    {
     "data": {
      "application/vnd.jupyter.widget-view+json": {
       "model_id": "b0a0b54a47c3495ba4e51ba6274d4c99",
       "version_major": 2,
       "version_minor": 0
      },
      "text/plain": [
       "Pad 8, fract. 0.2 - Tesseract:   0%|          | 0/17 [00:00<?, ?it/s]"
      ]
     },
     "metadata": {},
     "output_type": "display_data"
    },
    {
     "data": {
      "text/html": [
       "<pre style=\"white-space:pre;overflow-x:auto;line-height:normal;font-family:Menlo,'DejaVu Sans Mono',consolas,'Courier New',monospace\">---------- Initial box ----------\n",
       "ResultOCR#block <span style=\"color: #008080; text-decoration-color: #008080; font-weight: bold\">00</span>: <span style=\"color: #008080; text-decoration-color: #008080; font-weight: bold\">0.90</span>||Suddenly.\n",
       "ResultOCR#block <span style=\"color: #008080; text-decoration-color: #008080; font-weight: bold\">01</span>: <span style=\"color: #008080; text-decoration-color: #008080; font-weight: bold\">0.81</span>||&gt;gasp!z everything's w- whirling around me!t can't stand sr rea\n",
       "ResultOCR#block <span style=\"color: #008080; text-decoration-color: #008080; font-weight: bold\">02</span>: <span style=\"color: #008080; text-decoration-color: #008080; font-weight: bold\">0.81</span>||Clark!i'm falling' “help! help! —\n",
       "ResultOCR#block <span style=\"color: #008080; text-decoration-color: #008080; font-weight: bold\">03</span>: <span style=\"color: #008080; text-decoration-color: #008080; font-weight: bold\">0.67</span>||I-i'm bs \"passing ohhh\n",
       "ResultOCR#block <span style=\"color: #008080; text-decoration-color: #008080; font-weight: bold\">04</span>: <span style=\"color: #008080; text-decoration-color: #008080; font-weight: bold\">0.92</span>||Action comics\n",
       "ResultOCR#block <span style=\"color: #008080; text-decoration-color: #008080; font-weight: bold\">05</span>: <span style=\"color: #008080; text-decoration-color: #008080; font-weight: bold\">1.00</span>||Then, seconds later<span style=\"color: #808000; text-decoration-color: #808000\">...</span>\n",
       "ResultOCR#block <span style=\"color: #008080; text-decoration-color: #008080; font-weight: bold\">06</span>: <span style=\"color: #008080; text-decoration-color: #008080; font-weight: bold\">0.89</span>||Great caesars ghost! <span style=\"font-weight: bold\">{</span> this <span style=\"color: #800080; text-decoration-color: #800080\">/</span><span style=\"color: #ff00ff; text-decoration-color: #ff00ff\">s</span> black magic! we've been transportel to the weirdest world, tit ever saw!\n",
       "ResultOCR#block <span style=\"color: #008080; text-decoration-color: #008080; font-weight: bold\">07</span>: <span style=\"color: #008080; text-decoration-color: #008080; font-weight: bold\">0.91</span>||<span style=\"color: #808000; text-decoration-color: #808000\">...</span>|t certainly isn't our earth, perry. look at the size of those bees.\n",
       "ResultOCR#block <span style=\"color: #008080; text-decoration-color: #008080; font-weight: bold\">08</span>: <span style=\"color: #008080; text-decoration-color: #008080; font-weight: bold\">0.88</span>||Watch out, clark!\n",
       "ResultOCR#block <span style=\"color: #008080; text-decoration-color: #008080; font-weight: bold\">09</span>: <span style=\"color: #008080; text-decoration-color: #008080; font-weight: bold\">0.73</span>||Owwww.\n",
       "ResultOCR#block <span style=\"color: #008080; text-decoration-color: #008080; font-weight: bold\">10</span>: <span style=\"color: #008080; text-decoration-color: #008080; font-weight: bold\">0.85</span>||Yet the bee's stinger went ws. right through my uniform and penetrated my skin! that means. the fabric of pe ay costume has become dj<span style=\"font-weight: bold\">}</span> satie fued <span style=\"color: #008080; text-decoration-color: #008080; font-weight: bold\">1</span>,\n",
       "ResultOCR#block <span style=\"color: #008080; text-decoration-color: #008080; font-weight: bold\">11</span>: <span style=\"color: #008080; text-decoration-color: #008080; font-weight: bold\">0.87</span>||Hurry. let's beat it before we get stung, foo = aii\n",
       "ResultOCR#block <span style=\"color: #008080; text-decoration-color: #008080; font-weight: bold\">12</span>: <span style=\"color: #008080; text-decoration-color: #008080; font-weight: bold\">0.86</span>||Ggreat guns!<span style=\"color: #808000; text-decoration-color: #808000\">...</span>2g, .pa/n i feel n pain! as superman, i should be &gt; invulnerable! <span style=\"color: #008080; text-decoration-color: #008080; font-weight: bold\">1</span> have unbreakabl ‘skin! under my clark kent clothes, im wearing an woestructisle superman uniform ! =\n",
       "ResultOCR#block <span style=\"color: #008080; text-decoration-color: #008080; font-weight: bold\">13</span>: <span style=\"color: #008080; text-decoration-color: #008080; font-weight: bold\">1.00</span>||Abruptly<span style=\"color: #808000; text-decoration-color: #808000\">...</span>\n",
       "ResultOCR#block <span style=\"color: #008080; text-decoration-color: #008080; font-weight: bold\">14</span>: <span style=\"color: #008080; text-decoration-color: #008080; font-weight: bold\">0.77</span>||Great caesar's ghost. he's spinning a web of g/ant, sr strands --\n",
       "ResultOCR#block <span style=\"color: #008080; text-decoration-color: #008080; font-weight: bold\">15</span>: <span style=\"color: #008080; text-decoration-color: #008080; font-weight: bold\">0.89</span>||I-i feel the heat of the sun<span style=\"color: #808000; text-decoration-color: #808000\">...</span>the pain of the bee-sting <span style=\"color: #808000; text-decoration-color: #808000\">...</span> the heavy weight of my pack! every human discomfort<span style=\"color: #808000; text-decoration-color: #808000\">...</span> good grief! i've lost all my super-powers! i've become an ordinary mortal in this world. <span style=\"color: #800080; text-decoration-color: #800080\">/</span>\n",
       "ResultOCR#block <span style=\"color: #008080; text-decoration-color: #008080; font-weight: bold\">16</span>: <span style=\"color: #008080; text-decoration-color: #008080; font-weight: bold\">0.84</span>||Enormous spider- like creature is going berserk, as if the sight of us excited him <span style=\"font-weight: bold\">(</span>into mad spinning get back! that <span style=\"color: #008080; text-decoration-color: #008080; font-weight: bold\">2</span>\n",
       "\n",
       " ---------- Default ----------\n",
       "ResultOCR#block <span style=\"color: #008080; text-decoration-color: #008080; font-weight: bold\">00</span>: <span style=\"color: #008080; text-decoration-color: #008080; font-weight: bold\">1.00</span>||Suddenly<span style=\"color: #808000; text-decoration-color: #808000\">...</span>\n",
       "ResultOCR#block <span style=\"color: #008080; text-decoration-color: #008080; font-weight: bold\">01</span>: <span style=\"color: #008080; text-decoration-color: #008080; font-weight: bold\">0.80</span>||Gasp! everything's w- whi rns atound me!i can't stand we a\n",
       "ResultOCR#block <span style=\"color: #008080; text-decoration-color: #008080; font-weight: bold\">02</span>: <span style=\"color: #008080; text-decoration-color: #008080; font-weight: bold\">0.87</span>||Clark!i'm falling! help! help\n",
       "ResultOCR#block <span style=\"color: #008080; text-decoration-color: #008080; font-weight: bold\">03</span>: <span style=\"color: #008080; text-decoration-color: #008080; font-weight: bold\">0.45</span>||I-i'm se ou\n",
       "ResultOCR#block <span style=\"color: #008080; text-decoration-color: #008080; font-weight: bold\">04</span>: <span style=\"color: #008080; text-decoration-color: #008080; font-weight: bold\">0.92</span>||Action comics\n",
       "ResultOCR#block <span style=\"color: #008080; text-decoration-color: #008080; font-weight: bold\">05</span>: <span style=\"color: #008080; text-decoration-color: #008080; font-weight: bold\">0.95</span>||Then, seconds later.\n",
       "ResultOCR#block <span style=\"color: #008080; text-decoration-color: #008080; font-weight: bold\">06</span>: <span style=\"color: #008080; text-decoration-color: #008080; font-weight: bold\">0.92</span>||Great caesar's ghost! this <span style=\"color: #800080; text-decoration-color: #800080\">/</span><span style=\"color: #ff00ff; text-decoration-color: #ff00ff\">s</span> black magic! we've been transported, to the weirdest world, i ever saw!\n",
       "ResultOCR#block <span style=\"color: #008080; text-decoration-color: #008080; font-weight: bold\">07</span>: <span style=\"color: #008080; text-decoration-color: #008080; font-weight: bold\">0.93</span>||<span style=\"color: #808000; text-decoration-color: #808000\">...</span>|t certainly isn't our earth, perry look at the size of those bees!\n",
       "ResultOCR#block <span style=\"color: #008080; text-decoration-color: #008080; font-weight: bold\">08</span>: <span style=\"color: #008080; text-decoration-color: #008080; font-weight: bold\">0.88</span>||Watch out, clark<span style=\"font-weight: bold\">)</span>\n",
       "ResultOCR#block <span style=\"color: #008080; text-decoration-color: #008080; font-weight: bold\">09</span>: <span style=\"color: #008080; text-decoration-color: #008080; font-weight: bold\">0.67</span>||Owwww.,\n",
       "ResultOCR#block <span style=\"color: #008080; text-decoration-color: #008080; font-weight: bold\">10</span>: <span style=\"color: #008080; text-decoration-color: #008080; font-weight: bold\">0.97</span>||Yet the bee's stinger went = right through my uniform ando penetrated my skin! that mean the fabric of my superman costume has become ordinary, cloth! £\n",
       "ResultOCR#block <span style=\"color: #008080; text-decoration-color: #008080; font-weight: bold\">11</span>: <span style=\"color: #008080; text-decoration-color: #008080; font-weight: bold\">0.89</span>||Hurry. let's beat it before we get stung, tod yi\n",
       "ResultOCR#block <span style=\"color: #008080; text-decoration-color: #008080; font-weight: bold\">12</span>: <span style=\"color: #008080; text-decoration-color: #008080; font-weight: bold\">0.88</span>||Ggreat guns!<span style=\"color: #808000; text-decoration-color: #808000\">...</span>2gasp/z<span style=\"color: #808000; text-decoration-color: #808000\">...</span>pain i feel n fan! as superman, i should be invulnerable! <span style=\"color: #008080; text-decoration-color: #008080; font-weight: bold\">1</span> have unbreakable skin! under my clark kent clothes, i'm wearing an <span style=\"color: #800080; text-decoration-color: #800080\">/noestruct/</span><span style=\"color: #ff00ff; text-decoration-color: #ff00ff\">ele</span> superman uniform !\n",
       "ResultOCR#block <span style=\"color: #008080; text-decoration-color: #008080; font-weight: bold\">13</span>: <span style=\"color: #008080; text-decoration-color: #008080; font-weight: bold\">1.00</span>||Abruptly<span style=\"color: #808000; text-decoration-color: #808000\">...</span>\n",
       "ResultOCR#block <span style=\"color: #008080; text-decoration-color: #008080; font-weight: bold\">14</span>: <span style=\"color: #008080; text-decoration-color: #008080; font-weight: bold\">0.76</span>||Great caesars ° ghost! he's spinning &amp; web of g/a, silk strands\n",
       "ResultOCR#block <span style=\"color: #008080; text-decoration-color: #008080; font-weight: bold\">15</span>: <span style=\"color: #008080; text-decoration-color: #008080; font-weight: bold\">0.89</span>||I-i feel the heat of the sum<span style=\"color: #808000; text-decoration-color: #808000\">...</span>the pain of the bee-sting<span style=\"color: #808000; text-decoration-color: #808000\">...</span> the heavy weight of my <span style=\"font-weight: bold\">{</span> pack! every human discomfort<span style=\"color: #808000; text-decoration-color: #808000\">...</span> good grief! i've lost all my super -powersx ve become an ordinary mortal in this world! j\n",
       "ResultOCR#block <span style=\"color: #008080; text-decoration-color: #008080; font-weight: bold\">16</span>: <span style=\"color: #008080; text-decoration-color: #008080; font-weight: bold\">0.70</span>||Like creature is going berserk, as if the sight of us excited him into mad spinning, get back! that \\ enormous spider-\n",
       "\n",
       " ---------- Default, grey pad ----------\n",
       "ResultOCR#block <span style=\"color: #008080; text-decoration-color: #008080; font-weight: bold\">00</span>: <span style=\"color: #008080; text-decoration-color: #008080; font-weight: bold\">0.78</span>||Sudden.\n",
       "ResultOCR#block <span style=\"color: #008080; text-decoration-color: #008080; font-weight: bold\">01</span>: <span style=\"color: #008080; text-decoration-color: #008080; font-weight: bold\">0.82</span>||5gasp!z everything's | w- whirling around<span style=\"font-weight: bold\">]</span> me!t can't stand ue a\n",
       "ResultOCR#block <span style=\"color: #008080; text-decoration-color: #008080; font-weight: bold\">02</span>: <span style=\"color: #008080; text-decoration-color: #008080; font-weight: bold\">0.57</span>||Ark!i'm falling\n",
       "ResultOCR#block <span style=\"color: #008080; text-decoration-color: #008080; font-weight: bold\">03</span>: <span style=\"color: #008080; text-decoration-color: #008080; font-weight: bold\">0.85</span>||I-t'm eq \"passing out<span style=\"color: #808000; text-decoration-color: #808000\">...</span> ohhh.\n",
       "ResultOCR#block <span style=\"color: #008080; text-decoration-color: #008080; font-weight: bold\">04</span>: <span style=\"color: #008080; text-decoration-color: #008080; font-weight: bold\">0.92</span>||Action comics\n",
       "ResultOCR#block <span style=\"color: #008080; text-decoration-color: #008080; font-weight: bold\">05</span>: <span style=\"color: #008080; text-decoration-color: #008080; font-weight: bold\">0.00</span>||\n",
       "ResultOCR#block <span style=\"color: #008080; text-decoration-color: #008080; font-weight: bold\">06</span>: <span style=\"color: #008080; text-decoration-color: #008080; font-weight: bold\">0.88</span>||‘great caesar's ghost! || this <span style=\"color: #800080; text-decoration-color: #800080\">/</span>§ black magic! we've been transportel to the weirdest world, i ever saw.\n",
       "ResultOCR#block <span style=\"color: #008080; text-decoration-color: #008080; font-weight: bold\">07</span>: <span style=\"color: #008080; text-decoration-color: #008080; font-weight: bold\">0.87</span>||\"<span style=\"color: #808000; text-decoration-color: #808000\">...</span>it certainly isn't our | earth, perry look at the| \\s|ze of those bees.\n",
       "ResultOCR#block <span style=\"color: #008080; text-decoration-color: #008080; font-weight: bold\">08</span>: <span style=\"color: #008080; text-decoration-color: #008080; font-weight: bold\">0.88</span>||Watch out, clark!\n",
       "ResultOCR#block <span style=\"color: #008080; text-decoration-color: #008080; font-weight: bold\">09</span>: <span style=\"color: #008080; text-decoration-color: #008080; font-weight: bold\">0.73</span>||Owwww.\n",
       "ResultOCR#block <span style=\"color: #008080; text-decoration-color: #008080; font-weight: bold\">10</span>: <span style=\"color: #008080; text-decoration-color: #008080; font-weight: bold\">0.90</span>||Yet the bee's stinger went ~ right through my uniform and penetrated my skin! that means. the fabric of sera ry costume vis become din a s clots! a\n",
       "ResultOCR#block <span style=\"color: #008080; text-decoration-color: #008080; font-weight: bold\">11</span>: <span style=\"color: #008080; text-decoration-color: #008080; font-weight: bold\">0.80</span>||Hurry. let's <span style=\"font-weight: bold\">)</span> beat it before<span style=\"font-weight: bold\">]</span> we get stung, k <span style=\"color: #008080; text-decoration-color: #008080; font-weight: bold\">00</span>! __j\n",
       "ResultOCR#block <span style=\"color: #008080; text-decoration-color: #008080; font-weight: bold\">12</span>: <span style=\"color: #008080; text-decoration-color: #008080; font-weight: bold\">0.86</span>||Ggreat guns!<span style=\"color: #808000; text-decoration-color: #808000\">...</span>3gasp/=<span style=\"color: #808000; text-decoration-color: #808000\">...</span> rain t feel fan! as superman, i should be invulnerable® <span style=\"color: #008080; text-decoration-color: #008080; font-weight: bold\">1</span> have unbreakabli skin! under my clark kent clothes, ia wearing an <span style=\"color: #800080; text-decoration-color: #800080\">/noestryct/</span><span style=\"color: #ff00ff; text-decoration-color: #ff00ff\">iele</span> supe iperman uniform !\n",
       "ResultOCR#block <span style=\"color: #008080; text-decoration-color: #008080; font-weight: bold\">13</span>: <span style=\"color: #008080; text-decoration-color: #008080; font-weight: bold\">0.90</span>||Abruptly.\n",
       "ResultOCR#block <span style=\"color: #008080; text-decoration-color: #008080; font-weight: bold\">14</span>: <span style=\"color: #008080; text-decoration-color: #008080; font-weight: bold\">0.92</span>||Great caesar's | ghost! he's spinning k web of giant, silk strands -- as tough as steel! ne<span style=\"font-weight: bold\">]</span>\n",
       "ResultOCR#block <span style=\"color: #008080; text-decoration-color: #008080; font-weight: bold\">15</span>: <span style=\"color: #008080; text-decoration-color: #008080; font-weight: bold\">0.89</span>||\\i-t feel the heat of the sun<span style=\"color: #808000; text-decoration-color: #808000\">...</span>the pain of the bee-sting<span style=\"color: #808000; text-decoration-color: #808000\">...</span> the heavy weight of my &amp; pack! every human discomfort<span style=\"color: #808000; text-decoration-color: #808000\">...</span> good grief! i've lost all my super-powers i've become an ordinary mortal in this world. <span style=\"color: #800080; text-decoration-color: #800080\">/</span><span style=\"color: #ff00ff; text-decoration-color: #ff00ff\">.</span>\n",
       "ResultOCR#block <span style=\"color: #008080; text-decoration-color: #008080; font-weight: bold\">16</span>: <span style=\"color: #008080; text-decoration-color: #008080; font-weight: bold\">0.94</span>||<span style=\"font-weight: bold\">(</span>get back! that enormous spider- like creature <span style=\"color: #008080; text-decoration-color: #008080; font-weight: bold\">1</span> § going berserk, as if the sight of us excited him into mad spinning<span style=\"font-weight: bold\">]</span>\n",
       "\n",
       " ---------- Padded 4px ----------\n",
       "ResultOCR#block <span style=\"color: #008080; text-decoration-color: #008080; font-weight: bold\">00</span>: <span style=\"color: #008080; text-decoration-color: #008080; font-weight: bold\">0.90</span>||Suddenly.\n",
       "ResultOCR#block <span style=\"color: #008080; text-decoration-color: #008080; font-weight: bold\">01</span>: <span style=\"color: #008080; text-decoration-color: #008080; font-weight: bold\">0.83</span>||Fgasp/= everything's whirling around me!i can't stand ea\n",
       "ResultOCR#block <span style=\"color: #008080; text-decoration-color: #008080; font-weight: bold\">02</span>: <span style=\"color: #008080; text-decoration-color: #008080; font-weight: bold\">0.68</span>||Ie lottie eto clark!i'm falling help! help!\n",
       "ResultOCR#block <span style=\"color: #008080; text-decoration-color: #008080; font-weight: bold\">03</span>: <span style=\"color: #008080; text-decoration-color: #008080; font-weight: bold\">0.55</span>||I-i'm yr a ohh hh.\n",
       "ResultOCR#block <span style=\"color: #008080; text-decoration-color: #008080; font-weight: bold\">04</span>: <span style=\"color: #008080; text-decoration-color: #008080; font-weight: bold\">0.92</span>||Action comics\n",
       "ResultOCR#block <span style=\"color: #008080; text-decoration-color: #008080; font-weight: bold\">05</span>: <span style=\"color: #008080; text-decoration-color: #008080; font-weight: bold\">0.74</span>||Then, seconds\n",
       "ResultOCR#block <span style=\"color: #008080; text-decoration-color: #008080; font-weight: bold\">06</span>: <span style=\"color: #008080; text-decoration-color: #008080; font-weight: bold\">0.62</span>||Great caesar's ghost! \\ this <span style=\"color: #800080; text-decoration-color: #800080\">/</span>§ black magic! i ever saw!\n",
       "ResultOCR#block <span style=\"color: #008080; text-decoration-color: #008080; font-weight: bold\">07</span>: <span style=\"color: #008080; text-decoration-color: #008080; font-weight: bold\">0.87</span>||T certainly isn't our earth, perry! look at the \\s|ze of those bees.\n",
       "ResultOCR#block <span style=\"color: #008080; text-decoration-color: #008080; font-weight: bold\">08</span>: <span style=\"color: #008080; text-decoration-color: #008080; font-weight: bold\">0.76</span>||#<span style=\"color: #008080; text-decoration-color: #008080; font-weight: bold\">3</span> watch out, clark!\n",
       "ResultOCR#block <span style=\"color: #008080; text-decoration-color: #008080; font-weight: bold\">09</span>: <span style=\"color: #008080; text-decoration-color: #008080; font-weight: bold\">0.73</span>||Owwww.\n",
       "ResultOCR#block <span style=\"color: #008080; text-decoration-color: #008080; font-weight: bold\">10</span>: <span style=\"color: #008080; text-decoration-color: #008080; font-weight: bold\">0.95</span>||\"yet the bee's stinger went ~~ right through my uniform and enetrated my skin! that means. the fabric of my superman costume has become ordinary, clot! &amp;\n",
       "ResultOCR#block <span style=\"color: #008080; text-decoration-color: #008080; font-weight: bold\">11</span>: <span style=\"color: #008080; text-decoration-color: #008080; font-weight: bold\">0.86</span>||Hurry! let's beat it <span style=\"color: #808000; text-decoration-color: #808000\">b</span>=<span style=\"color: #800080; text-decoration-color: #800080\">fore</span> we get stung, ¢ tool: puma\n",
       "ResultOCR#block <span style=\"color: #008080; text-decoration-color: #008080; font-weight: bold\">12</span>: <span style=\"color: #008080; text-decoration-color: #008080; font-weight: bold\">0.86</span>||‘ggreat guns!<span style=\"color: #808000; text-decoration-color: #808000\">...</span>3gasp/<span style=\"color: #008080; text-decoration-color: #008080; font-weight: bold\">5</span><span style=\"color: #808000; text-decoration-color: #808000\">...</span> pain i feel pain? as superman, i should be invilnerable | t ne unbreakasle gkin! under my clark kent clothes, tih wearing an indestructible superman uniform\n",
       "ResultOCR#block <span style=\"color: #008080; text-decoration-color: #008080; font-weight: bold\">13</span>: <span style=\"color: #008080; text-decoration-color: #008080; font-weight: bold\">1.00</span>||Abruptly<span style=\"color: #808000; text-decoration-color: #808000\">...</span>\n",
       "ResultOCR#block <span style=\"color: #008080; text-decoration-color: #008080; font-weight: bold\">14</span>: <span style=\"color: #008080; text-decoration-color: #008080; font-weight: bold\">0.91</span>||Great caesars ghost. he's spinning a web of g/ant, | silk strands as tough as steel!\n",
       "ResultOCR#block <span style=\"color: #008080; text-decoration-color: #008080; font-weight: bold\">15</span>: <span style=\"color: #008080; text-decoration-color: #008080; font-weight: bold\">0.89</span>||I-i feel the heat of the sun<span style=\"color: #808000; text-decoration-color: #808000\">...</span>the pain of the bee-sting<span style=\"color: #808000; text-decoration-color: #808000\">...</span> the heavy weight of my <span style=\"font-weight: bold\">{</span> pack! every human discomfort<span style=\"color: #808000; text-decoration-color: #808000\">...</span> good grief! i've lost all \\my super-powersx ve become an ordinary mortal in this world.\n",
       "ResultOCR#block <span style=\"color: #008080; text-decoration-color: #008080; font-weight: bold\">16</span>: <span style=\"color: #008080; text-decoration-color: #008080; font-weight: bold\">0.81</span>||<span style=\"font-weight: bold\">(</span>get back! that enormous spider- as if the sight of us excited him <span style=\"font-weight: bold\">[</span>into mad spinning\n",
       "\n",
       " ---------- Padded 8px ----------\n",
       "ResultOCR#block <span style=\"color: #008080; text-decoration-color: #008080; font-weight: bold\">00</span>: <span style=\"color: #008080; text-decoration-color: #008080; font-weight: bold\">0.00</span>||\n",
       "ResultOCR#block <span style=\"color: #008080; text-decoration-color: #008080; font-weight: bold\">01</span>: <span style=\"color: #008080; text-decoration-color: #008080; font-weight: bold\">0.76</span>||Ega5p/% everything s\\ w- whirling around me! t can't stand ue<span style=\"color: #808000; text-decoration-color: #808000\">...</span> slee\n",
       "ResultOCR#block <span style=\"color: #008080; text-decoration-color: #008080; font-weight: bold\">02</span>: <span style=\"color: #008080; text-decoration-color: #008080; font-weight: bold\">0.41</span>||\\ help! help’\n",
       "ResultOCR#block <span style=\"color: #008080; text-decoration-color: #008080; font-weight: bold\">03</span>: <span style=\"color: #008080; text-decoration-color: #008080; font-weight: bold\">0.86</span>||-i'm passing qut<span style=\"color: #808000; text-decoration-color: #808000\">...</span> ohh hh.\n",
       "ResultOCR#block <span style=\"color: #008080; text-decoration-color: #008080; font-weight: bold\">04</span>: <span style=\"color: #008080; text-decoration-color: #008080; font-weight: bold\">0.92</span>||Action comics\n",
       "ResultOCR#block <span style=\"color: #008080; text-decoration-color: #008080; font-weight: bold\">05</span>: <span style=\"color: #008080; text-decoration-color: #008080; font-weight: bold\">0.00</span>||\n",
       "ResultOCR#block <span style=\"color: #008080; text-decoration-color: #008080; font-weight: bold\">06</span>: <span style=\"color: #008080; text-decoration-color: #008080; font-weight: bold\">0.18</span>||I ever saw/\n",
       "ResultOCR#block <span style=\"color: #008080; text-decoration-color: #008080; font-weight: bold\">07</span>: <span style=\"color: #008080; text-decoration-color: #008080; font-weight: bold\">0.86</span>||It certainly isn't our earth, perry! poor a the size of thos!\n",
       "ResultOCR#block <span style=\"color: #008080; text-decoration-color: #008080; font-weight: bold\">08</span>: <span style=\"color: #008080; text-decoration-color: #008080; font-weight: bold\">0.62</span>||“watch out” ial ae clark!\n",
       "ResultOCR#block <span style=\"color: #008080; text-decoration-color: #008080; font-weight: bold\">09</span>: <span style=\"color: #008080; text-decoration-color: #008080; font-weight: bold\">0.73</span>||Owwww.\n",
       "ResultOCR#block <span style=\"color: #008080; text-decoration-color: #008080; font-weight: bold\">10</span>: <span style=\"color: #008080; text-decoration-color: #008080; font-weight: bold\">0.98</span>||Yet the bee's stinger went right through my uniform and \\penetrated my skin! that means. the fabric of my superman costume has become ordinar! cloth!\n",
       "ResultOCR#block <span style=\"color: #008080; text-decoration-color: #008080; font-weight: bold\">11</span>: <span style=\"color: #008080; text-decoration-color: #008080; font-weight: bold\">0.93</span>||Hurry. let's beat it before we get stung, too!\n",
       "ResultOCR#block <span style=\"color: #008080; text-decoration-color: #008080; font-weight: bold\">12</span>: <span style=\"color: #008080; text-decoration-color: #008080; font-weight: bold\">0.88</span>||Ggreat guns!<span style=\"color: #808000; text-decoration-color: #808000\">...</span>2gasp/z<span style=\"color: #808000; text-decoration-color: #808000\">...</span>pain i feel fan! as superman, i should be invulnerable! <span style=\"color: #008080; text-decoration-color: #008080; font-weight: bold\">1</span> have unbreakabl skin! under my clark kent clothes, i'm wearing an <span style=\"color: #800080; text-decoration-color: #800080\">/noestruct/</span><span style=\"color: #ff00ff; text-decoration-color: #ff00ff\">ele</span> $ superman uniform ! &amp;\n",
       "ResultOCR#block <span style=\"color: #008080; text-decoration-color: #008080; font-weight: bold\">13</span>: <span style=\"color: #008080; text-decoration-color: #008080; font-weight: bold\">0.00</span>||\n",
       "ResultOCR#block <span style=\"color: #008080; text-decoration-color: #008080; font-weight: bold\">14</span>: <span style=\"color: #008080; text-decoration-color: #008080; font-weight: bold\">0.91</span>||Great caesai ghost. he's spinning a web of g/ant, silk strands -- as tough as steel!\n",
       "ResultOCR#block <span style=\"color: #008080; text-decoration-color: #008080; font-weight: bold\">15</span>: <span style=\"color: #008080; text-decoration-color: #008080; font-weight: bold\">0.88</span>||I-i feel the heat of the sun<span style=\"color: #808000; text-decoration-color: #808000\">...</span>the pain of the bee-sting<span style=\"color: #808000; text-decoration-color: #808000\">...</span> the heavy weight of my ! every human discomfort<span style=\"color: #808000; text-decoration-color: #808000\">...</span> good grief! i've lost all \\my super-powers! ‘ve become an ordinary mortal in this world. x\n",
       "ResultOCR#block <span style=\"color: #008080; text-decoration-color: #008080; font-weight: bold\">16</span>: <span style=\"color: #008080; text-decoration-color: #008080; font-weight: bold\">0.60</span>||As if the sight of us excited him <span style=\"font-weight: bold\">{</span>into mad spinning\n",
       "\n",
       " ---------- Extracted, init box ----------\n",
       "ResultOCRExtracted#block <span style=\"color: #008080; text-decoration-color: #008080; font-weight: bold\">00</span>: <span style=\"color: #008080; text-decoration-color: #008080; font-weight: bold\">0.90</span>||Suddenly.\n",
       "ResultOCRExtracted#block <span style=\"color: #008080; text-decoration-color: #008080; font-weight: bold\">01</span>: <span style=\"color: #008080; text-decoration-color: #008080; font-weight: bold\">0.83</span>||Fgasp!z everything § w- whirling around me!i can't stand ue.\n",
       "ResultOCRExtracted#block <span style=\"color: #008080; text-decoration-color: #008080; font-weight: bold\">02</span>: <span style=\"color: #008080; text-decoration-color: #008080; font-weight: bold\">0.89</span>||Clark!i'm falling! help! help!\n",
       "ResultOCRExtracted#block <span style=\"color: #008080; text-decoration-color: #008080; font-weight: bold\">03</span>: <span style=\"color: #008080; text-decoration-color: #008080; font-weight: bold\">0.71</span>||I-i'm passing ohhh?\n",
       "ResultOCRExtracted#block <span style=\"color: #008080; text-decoration-color: #008080; font-weight: bold\">04</span>: <span style=\"color: #008080; text-decoration-color: #008080; font-weight: bold\">0.92</span>||Action comics\n",
       "ResultOCRExtracted#block <span style=\"color: #008080; text-decoration-color: #008080; font-weight: bold\">05</span>: <span style=\"color: #008080; text-decoration-color: #008080; font-weight: bold\">0.98</span>||Then, seconds later..\n",
       "ResultOCRExtracted#block <span style=\"color: #008080; text-decoration-color: #008080; font-weight: bold\">06</span>: <span style=\"color: #008080; text-decoration-color: #008080; font-weight: bold\">0.91</span>||Great caesar's ghost! this <span style=\"color: #800080; text-decoration-color: #800080\">/</span><span style=\"color: #ff00ff; text-decoration-color: #ff00ff\">s</span> black magic! we've been transportel to the weirdest world tit ever saw.\n",
       "ResultOCRExtracted#block <span style=\"color: #008080; text-decoration-color: #008080; font-weight: bold\">07</span>: <span style=\"color: #008080; text-decoration-color: #008080; font-weight: bold\">0.90</span>||<span style=\"color: #808000; text-decoration-color: #808000\">...</span>it certainly isnt our earth, perry. look at the size of those bees.\n",
       "ResultOCRExtracted#block <span style=\"color: #008080; text-decoration-color: #008080; font-weight: bold\">08</span>: <span style=\"color: #008080; text-decoration-color: #008080; font-weight: bold\">0.88</span>||Watch out, clark!\n",
       "ResultOCRExtracted#block <span style=\"color: #008080; text-decoration-color: #008080; font-weight: bold\">09</span>: <span style=\"color: #008080; text-decoration-color: #008080; font-weight: bold\">0.62</span>||Oowwwww.\n",
       "ResultOCRExtracted#block <span style=\"color: #008080; text-decoration-color: #008080; font-weight: bold\">10</span>: <span style=\"color: #008080; text-decoration-color: #008080; font-weight: bold\">0.99</span>||Yet the bee's stinger went right through my uniform and penetrated my skin! that means. the fabric of my superman costume has become ordinary cloth!\n",
       "ResultOCRExtracted#block <span style=\"color: #008080; text-decoration-color: #008080; font-weight: bold\">11</span>: <span style=\"color: #008080; text-decoration-color: #008080; font-weight: bold\">0.93</span>||Hurry. let's beat it before we get stung, too!\n",
       "ResultOCRExtracted#block <span style=\"color: #008080; text-decoration-color: #008080; font-weight: bold\">12</span>: <span style=\"color: #008080; text-decoration-color: #008080; font-weight: bold\">0.88</span>||Ggreat guns!<span style=\"color: #808000; text-decoration-color: #808000\">...</span>2g/ pain t feel pain? as superman, i should be invulnerable! <span style=\"color: #008080; text-decoration-color: #008080; font-weight: bold\">1</span> have unbreakabl skin! under my clark kent clothes, i'm wearing an <span style=\"color: #800080; text-decoration-color: #800080\">/noestruct/</span><span style=\"color: #ff00ff; text-decoration-color: #ff00ff\">ble</span> superman uniform *\n",
       "ResultOCRExtracted#block <span style=\"color: #008080; text-decoration-color: #008080; font-weight: bold\">13</span>: <span style=\"color: #008080; text-decoration-color: #008080; font-weight: bold\">0.96</span>||Abruptly. ..\n",
       "ResultOCRExtracted#block <span style=\"color: #008080; text-decoration-color: #008080; font-weight: bold\">14</span>: <span style=\"color: #008080; text-decoration-color: #008080; font-weight: bold\">0.80</span>||Great caesar's ghost. he's spinning a web of g/ant, silk strands --\n",
       "ResultOCRExtracted#block <span style=\"color: #008080; text-decoration-color: #008080; font-weight: bold\">15</span>: <span style=\"color: #008080; text-decoration-color: #008080; font-weight: bold\">0.89</span>||I-i feel the heat of the sun. the pain of the bee-sting<span style=\"color: #808000; text-decoration-color: #808000\">...</span> the heavy weight of my pack! every human discomfort<span style=\"color: #808000; text-decoration-color: #808000\">...</span> good grief! t've lost all my super-powers. ve become an ordinary mortal im this world.\n",
       "ResultOCRExtracted#block <span style=\"color: #008080; text-decoration-color: #008080; font-weight: bold\">16</span>: <span style=\"color: #008080; text-decoration-color: #008080; font-weight: bold\">0.97</span>||Get back. that enormous spider- like creature is going berserk, as if the sight of us excited him into mad spinning\n",
       "\n",
       " ---------- Padded <span style=\"color: #008080; text-decoration-color: #008080; font-weight: bold\">4</span>, extracted ----------\n",
       "ResultOCRExtracted#block <span style=\"color: #008080; text-decoration-color: #008080; font-weight: bold\">00</span>: <span style=\"color: #008080; text-decoration-color: #008080; font-weight: bold\">1.00</span>||Suddenly<span style=\"color: #808000; text-decoration-color: #808000\">...</span>\n",
       "ResultOCRExtracted#block <span style=\"color: #008080; text-decoration-color: #008080; font-weight: bold\">01</span>: <span style=\"color: #008080; text-decoration-color: #008080; font-weight: bold\">0.83</span>||Sgasp/z everything s w- whirling around me!i can't stand ue.\n",
       "ResultOCRExtracted#block <span style=\"color: #008080; text-decoration-color: #008080; font-weight: bold\">02</span>: <span style=\"color: #008080; text-decoration-color: #008080; font-weight: bold\">0.87</span>||Clark! i'm falling’ help! help!\n",
       "ResultOCRExtracted#block <span style=\"color: #008080; text-decoration-color: #008080; font-weight: bold\">03</span>: <span style=\"color: #008080; text-decoration-color: #008080; font-weight: bold\">0.78</span>||I-i'm passing ohhhh.\n",
       "ResultOCRExtracted#block <span style=\"color: #008080; text-decoration-color: #008080; font-weight: bold\">04</span>: <span style=\"color: #008080; text-decoration-color: #008080; font-weight: bold\">0.92</span>||Action comics\n",
       "ResultOCRExtracted#block <span style=\"color: #008080; text-decoration-color: #008080; font-weight: bold\">05</span>: <span style=\"color: #008080; text-decoration-color: #008080; font-weight: bold\">0.95</span>||Then, seconds later.\n",
       "ResultOCRExtracted#block <span style=\"color: #008080; text-decoration-color: #008080; font-weight: bold\">06</span>: <span style=\"color: #008080; text-decoration-color: #008080; font-weight: bold\">0.93</span>||Great caesar's ghost! this as black magic! we've been transported to the weirdest world i ever saw!\n",
       "ResultOCRExtracted#block <span style=\"color: #008080; text-decoration-color: #008080; font-weight: bold\">07</span>: <span style=\"color: #008080; text-decoration-color: #008080; font-weight: bold\">0.90</span>||<span style=\"color: #808000; text-decoration-color: #808000\">...</span>it certainly isnt our earth, perry. look at the size of those bees.\n",
       "ResultOCRExtracted#block <span style=\"color: #008080; text-decoration-color: #008080; font-weight: bold\">08</span>: <span style=\"color: #008080; text-decoration-color: #008080; font-weight: bold\">0.88</span>||Watch out, clark!\n",
       "ResultOCRExtracted#block <span style=\"color: #008080; text-decoration-color: #008080; font-weight: bold\">09</span>: <span style=\"color: #008080; text-decoration-color: #008080; font-weight: bold\">0.67</span>||Owwww.,\n",
       "ResultOCRExtracted#block <span style=\"color: #008080; text-decoration-color: #008080; font-weight: bold\">10</span>: <span style=\"color: #008080; text-decoration-color: #008080; font-weight: bold\">0.99</span>||Yet the bee's stinger went right through my uniform and penetrated my skin! that means. the fabric of my superman costume has become ordinary cloth!\n",
       "ResultOCRExtracted#block <span style=\"color: #008080; text-decoration-color: #008080; font-weight: bold\">11</span>: <span style=\"color: #008080; text-decoration-color: #008080; font-weight: bold\">0.96</span>||Hurry! let's beat it before we get stung, too!\n",
       "ResultOCRExtracted#block <span style=\"color: #008080; text-decoration-color: #008080; font-weight: bold\">12</span>: <span style=\"color: #008080; text-decoration-color: #008080; font-weight: bold\">0.89</span>||Ggreat guns!<span style=\"color: #808000; text-decoration-color: #808000\">...</span>2gasp/:<span style=\"color: #808000; text-decoration-color: #808000\">...</span> pain t feel fan! as superman, i should be invulnerable! <span style=\"color: #008080; text-decoration-color: #008080; font-weight: bold\">1</span> have unbreakabl skin! under my clark kent clothes, i'm wearing an <span style=\"color: #800080; text-decoration-color: #800080\">/noestruct/</span><span style=\"color: #ff00ff; text-decoration-color: #ff00ff\">ble</span> superman uniform !\n",
       "ResultOCRExtracted#block <span style=\"color: #008080; text-decoration-color: #008080; font-weight: bold\">13</span>: <span style=\"color: #008080; text-decoration-color: #008080; font-weight: bold\">1.00</span>||Abruptly<span style=\"color: #808000; text-decoration-color: #808000\">...</span>\n",
       "ResultOCRExtracted#block <span style=\"color: #008080; text-decoration-color: #008080; font-weight: bold\">14</span>: <span style=\"color: #008080; text-decoration-color: #008080; font-weight: bold\">0.94</span>||Great caesar's ghost! he's spinning a web of g/ant, \"silk strands -- as tough as steel!\n",
       "ResultOCRExtracted#block <span style=\"color: #008080; text-decoration-color: #008080; font-weight: bold\">15</span>: <span style=\"color: #008080; text-decoration-color: #008080; font-weight: bold\">0.89</span>||I-i feel the heat of the sun., the pain of the bee-sting<span style=\"color: #808000; text-decoration-color: #808000\">...</span> the heavy weight of my pack! every human discomfort<span style=\"color: #808000; text-decoration-color: #808000\">...</span> good grief! t've lost all my super-powers. ve become an ordinary mortal in this world.\n",
       "ResultOCRExtracted#block <span style=\"color: #008080; text-decoration-color: #008080; font-weight: bold\">16</span>: <span style=\"color: #008080; text-decoration-color: #008080; font-weight: bold\">0.97</span>||Get back! that enormous spider- like creature is going berserk, <span style=\"color: #008080; text-decoration-color: #008080; font-weight: bold\">25</span> if the sight of us excited him into mad spinning\n",
       "\n",
       " ---------- Padded <span style=\"color: #008080; text-decoration-color: #008080; font-weight: bold\">8</span>, extracted ----------\n",
       "ResultOCRExtracted#block <span style=\"color: #008080; text-decoration-color: #008080; font-weight: bold\">00</span>: <span style=\"color: #008080; text-decoration-color: #008080; font-weight: bold\">0.91</span>||Suddemly<span style=\"color: #808000; text-decoration-color: #808000\">...</span>\n",
       "ResultOCRExtracted#block <span style=\"color: #008080; text-decoration-color: #008080; font-weight: bold\">01</span>: <span style=\"color: #008080; text-decoration-color: #008080; font-weight: bold\">0.85</span>||Sgasp/z everything s w- whirling around me!i can't stand up.\n",
       "ResultOCRExtracted#block <span style=\"color: #008080; text-decoration-color: #008080; font-weight: bold\">02</span>: <span style=\"color: #008080; text-decoration-color: #008080; font-weight: bold\">0.84</span>||Clark! i'm falling’ _ help! help!\n",
       "ResultOCRExtracted#block <span style=\"color: #008080; text-decoration-color: #008080; font-weight: bold\">03</span>: <span style=\"color: #008080; text-decoration-color: #008080; font-weight: bold\">0.73</span>||I-i'm passing ohhha.\n",
       "ResultOCRExtracted#block <span style=\"color: #008080; text-decoration-color: #008080; font-weight: bold\">04</span>: <span style=\"color: #008080; text-decoration-color: #008080; font-weight: bold\">0.92</span>||Action comics\n",
       "ResultOCRExtracted#block <span style=\"color: #008080; text-decoration-color: #008080; font-weight: bold\">05</span>: <span style=\"color: #008080; text-decoration-color: #008080; font-weight: bold\">0.95</span>||Then, seconds later.\n",
       "ResultOCRExtracted#block <span style=\"color: #008080; text-decoration-color: #008080; font-weight: bold\">06</span>: <span style=\"color: #008080; text-decoration-color: #008080; font-weight: bold\">0.90</span>||Great caesar's ghost! f this <span style=\"color: #800080; text-decoration-color: #800080\">/</span>§ black magic! : we've been transported to the weirdest world i ever saw.\n",
       "ResultOCRExtracted#block <span style=\"color: #008080; text-decoration-color: #008080; font-weight: bold\">07</span>: <span style=\"color: #008080; text-decoration-color: #008080; font-weight: bold\">0.90</span>||<span style=\"color: #808000; text-decoration-color: #808000\">...</span>it certainly isnt our earth, perry. look at the size of those bees.\n",
       "ResultOCRExtracted#block <span style=\"color: #008080; text-decoration-color: #008080; font-weight: bold\">08</span>: <span style=\"color: #008080; text-decoration-color: #008080; font-weight: bold\">0.88</span>||Watch out, clark!\n",
       "ResultOCRExtracted#block <span style=\"color: #008080; text-decoration-color: #008080; font-weight: bold\">09</span>: <span style=\"color: #008080; text-decoration-color: #008080; font-weight: bold\">0.67</span>||Owwww.,\n",
       "ResultOCRExtracted#block <span style=\"color: #008080; text-decoration-color: #008080; font-weight: bold\">10</span>: <span style=\"color: #008080; text-decoration-color: #008080; font-weight: bold\">0.99</span>||Yet the bee's stinger went right through my uniform and penetrated my skin! that means. the fabric of my superman costume has become ordinary cloth!\n",
       "ResultOCRExtracted#block <span style=\"color: #008080; text-decoration-color: #008080; font-weight: bold\">11</span>: <span style=\"color: #008080; text-decoration-color: #008080; font-weight: bold\">0.96</span>||Hurry! let's beat it before we get stung, too!\n",
       "ResultOCRExtracted#block <span style=\"color: #008080; text-decoration-color: #008080; font-weight: bold\">12</span>: <span style=\"color: #008080; text-decoration-color: #008080; font-weight: bold\">0.89</span>||Ggreat guns!<span style=\"color: #808000; text-decoration-color: #808000\">...</span>2gasp/:<span style=\"color: #808000; text-decoration-color: #808000\">...</span> pain t feel fan! as superman, i should be invulnerable! <span style=\"color: #008080; text-decoration-color: #008080; font-weight: bold\">1</span> have unbreakabl skin! under my clark kent clothes, i'm wearing an <span style=\"color: #800080; text-decoration-color: #800080\">/noestruct/</span><span style=\"color: #ff00ff; text-decoration-color: #ff00ff\">ble</span> superman uniform !\n",
       "ResultOCRExtracted#block <span style=\"color: #008080; text-decoration-color: #008080; font-weight: bold\">13</span>: <span style=\"color: #008080; text-decoration-color: #008080; font-weight: bold\">0.96</span>||Abruptly. ..\n",
       "ResultOCRExtracted#block <span style=\"color: #008080; text-decoration-color: #008080; font-weight: bold\">14</span>: <span style=\"color: #008080; text-decoration-color: #008080; font-weight: bold\">0.93</span>||Great caesar's ghost! he's spinning _ a web of g/ant, \"silk strands -- as tough as steel!\n",
       "ResultOCRExtracted#block <span style=\"color: #008080; text-decoration-color: #008080; font-weight: bold\">15</span>: <span style=\"color: #008080; text-decoration-color: #008080; font-weight: bold\">0.89</span>||I-t feel the heat of the sun., the pain of the bee-sting<span style=\"color: #808000; text-decoration-color: #808000\">...</span> the heavy weight of my pack! every human discomfort<span style=\"color: #808000; text-decoration-color: #808000\">...</span> good grief! t've lost all my super-powers. ve become an ordinary mortal in this world.\n",
       "ResultOCRExtracted#block <span style=\"color: #008080; text-decoration-color: #008080; font-weight: bold\">16</span>: <span style=\"color: #008080; text-decoration-color: #008080; font-weight: bold\">0.95</span>||Get back! that enormous spider- like creature is going berserk, <span style=\"color: #008080; text-decoration-color: #008080; font-weight: bold\">25</span> if the sight of us excited him into mad spinning g <span style=\"font-weight: bold\">[</span>\n",
       "\n",
       " ---------- Padded <span style=\"color: #008080; text-decoration-color: #008080; font-weight: bold\">8</span>, dilation <span style=\"color: #008080; text-decoration-color: #008080; font-weight: bold\">1</span> ----------\n",
       "ResultOCRExtracted#block <span style=\"color: #008080; text-decoration-color: #008080; font-weight: bold\">00</span>: <span style=\"color: #008080; text-decoration-color: #008080; font-weight: bold\">1.00</span>||Suddenly<span style=\"color: #808000; text-decoration-color: #808000\">...</span>\n",
       "ResultOCRExtracted#block <span style=\"color: #008080; text-decoration-color: #008080; font-weight: bold\">01</span>: <span style=\"color: #008080; text-decoration-color: #008080; font-weight: bold\">0.83</span>||Gasp! everything s w-whirling around wel<span style=\"font-weight: bold\">]</span> i can't stand\n",
       "ResultOCRExtracted#block <span style=\"color: #008080; text-decoration-color: #008080; font-weight: bold\">02</span>: <span style=\"color: #008080; text-decoration-color: #008080; font-weight: bold\">0.86</span>||Clark!i'm falling! . help! help!\n",
       "ResultOCRExtracted#block <span style=\"color: #008080; text-decoration-color: #008080; font-weight: bold\">03</span>: <span style=\"color: #008080; text-decoration-color: #008080; font-weight: bold\">0.73</span>||I-i'm passing ohhha.\n",
       "ResultOCRExtracted#block <span style=\"color: #008080; text-decoration-color: #008080; font-weight: bold\">04</span>: <span style=\"color: #008080; text-decoration-color: #008080; font-weight: bold\">0.92</span>||Action comics\n",
       "ResultOCRExtracted#block <span style=\"color: #008080; text-decoration-color: #008080; font-weight: bold\">05</span>: <span style=\"color: #008080; text-decoration-color: #008080; font-weight: bold\">0.95</span>||Then, seconds later.\n",
       "ResultOCRExtracted#block <span style=\"color: #008080; text-decoration-color: #008080; font-weight: bold\">06</span>: <span style=\"color: #008080; text-decoration-color: #008080; font-weight: bold\">0.91</span>||Great caesar's ghost! e this <span style=\"color: #800080; text-decoration-color: #800080\">/</span><span style=\"color: #ff00ff; text-decoration-color: #ff00ff\">5</span> black magic! we've been transported to the weirdest world i ever saw/\n",
       "ResultOCRExtracted#block <span style=\"color: #008080; text-decoration-color: #008080; font-weight: bold\">07</span>: <span style=\"color: #008080; text-decoration-color: #008080; font-weight: bold\">0.91</span>||<span style=\"color: #808000; text-decoration-color: #808000\">...</span>|it certainly isnt our earth, perry” look at the size of those bees!\n",
       "ResultOCRExtracted#block <span style=\"color: #008080; text-decoration-color: #008080; font-weight: bold\">08</span>: <span style=\"color: #008080; text-decoration-color: #008080; font-weight: bold\">0.88</span>||Watch out, clark!\n",
       "ResultOCRExtracted#block <span style=\"color: #008080; text-decoration-color: #008080; font-weight: bold\">09</span>: <span style=\"color: #008080; text-decoration-color: #008080; font-weight: bold\">0.73</span>||Owwww.\n",
       "ResultOCRExtracted#block <span style=\"color: #008080; text-decoration-color: #008080; font-weight: bold\">10</span>: <span style=\"color: #008080; text-decoration-color: #008080; font-weight: bold\">0.94</span>||Yet the bee's stinger we right through my tform and penetrated my skin! that means. the fabric of my superman othe has become ordinary clot?\n",
       "ResultOCRExtracted#block <span style=\"color: #008080; text-decoration-color: #008080; font-weight: bold\">11</span>: <span style=\"color: #008080; text-decoration-color: #008080; font-weight: bold\">0.96</span>||Hurry! let's beat it before we get stung, too!\n",
       "ResultOCRExtracted#block <span style=\"color: #008080; text-decoration-color: #008080; font-weight: bold\">12</span>: <span style=\"color: #008080; text-decoration-color: #008080; font-weight: bold\">0.82</span>||Fain! as superman, i should be invulnerable! <span style=\"color: #008080; text-decoration-color: #008080; font-weight: bold\">1</span> have unbreakabl skin! under my clark kent clothes, i'm wearing an indestructible superman uniform !\n",
       "ResultOCRExtracted#block <span style=\"color: #008080; text-decoration-color: #008080; font-weight: bold\">13</span>: <span style=\"color: #008080; text-decoration-color: #008080; font-weight: bold\">0.00</span>||\n",
       "ResultOCRExtracted#block <span style=\"color: #008080; text-decoration-color: #008080; font-weight: bold\">14</span>: <span style=\"color: #008080; text-decoration-color: #008080; font-weight: bold\">0.67</span>||Great caesars ghost! he's spinning _ a web of g/ant,\n",
       "ResultOCRExtracted#block <span style=\"color: #008080; text-decoration-color: #008080; font-weight: bold\">15</span>: <span style=\"color: #008080; text-decoration-color: #008080; font-weight: bold\">0.86</span>||I-i feel the heat of the sun. the pain of the bee-sting<span style=\"color: #808000; text-decoration-color: #808000\">...</span> the heavy weight of my pack! every human discomfort<span style=\"color: #808000; text-decoration-color: #808000\">...</span> good grief! i've lost all my super-powers. ve ie an ordinary mortal in this world.\n",
       "ResultOCRExtracted#block <span style=\"color: #008080; text-decoration-color: #008080; font-weight: bold\">16</span>: <span style=\"color: #008080; text-decoration-color: #008080; font-weight: bold\">0.96</span>||Get back! that enormous spider- like creature is going berserk, as if the sight of us excited him into mad spinning’ g <span style=\"font-weight: bold\">[</span>\n",
       "\n",
       " ---------- Pad <span style=\"color: #008080; text-decoration-color: #008080; font-weight: bold\">8</span>, fract. <span style=\"color: #008080; text-decoration-color: #008080; font-weight: bold\">0.5</span> ----------\n",
       "ResultOCRExtracted#block <span style=\"color: #008080; text-decoration-color: #008080; font-weight: bold\">00</span>: <span style=\"color: #008080; text-decoration-color: #008080; font-weight: bold\">0.91</span>||Suddemly<span style=\"color: #808000; text-decoration-color: #808000\">...</span>\n",
       "ResultOCRExtracted#block <span style=\"color: #008080; text-decoration-color: #008080; font-weight: bold\">01</span>: <span style=\"color: #008080; text-decoration-color: #008080; font-weight: bold\">0.87</span>||Gasp/z everything s w- whirling around me!i can't stand up.\n",
       "ResultOCRExtracted#block <span style=\"color: #008080; text-decoration-color: #008080; font-weight: bold\">02</span>: <span style=\"color: #008080; text-decoration-color: #008080; font-weight: bold\">0.84</span>||Clark! i'm falling’ _ help! help!\n",
       "ResultOCRExtracted#block <span style=\"color: #008080; text-decoration-color: #008080; font-weight: bold\">03</span>: <span style=\"color: #008080; text-decoration-color: #008080; font-weight: bold\">0.78</span>||I-i'm passing ohhhh.\n",
       "ResultOCRExtracted#block <span style=\"color: #008080; text-decoration-color: #008080; font-weight: bold\">04</span>: <span style=\"color: #008080; text-decoration-color: #008080; font-weight: bold\">0.92</span>||Action comics\n",
       "ResultOCRExtracted#block <span style=\"color: #008080; text-decoration-color: #008080; font-weight: bold\">05</span>: <span style=\"color: #008080; text-decoration-color: #008080; font-weight: bold\">0.95</span>||Then, seconds later.\n",
       "ResultOCRExtracted#block <span style=\"color: #008080; text-decoration-color: #008080; font-weight: bold\">06</span>: <span style=\"color: #008080; text-decoration-color: #008080; font-weight: bold\">0.90</span>||Great caesar's ghost! f this <span style=\"color: #800080; text-decoration-color: #800080\">/</span>§ black magic! : we've been transported to the weirdest world i ever saw.\n",
       "ResultOCRExtracted#block <span style=\"color: #008080; text-decoration-color: #008080; font-weight: bold\">07</span>: <span style=\"color: #008080; text-decoration-color: #008080; font-weight: bold\">0.92</span>||<span style=\"color: #808000; text-decoration-color: #808000\">...</span>it certainly isnt our earth, perry! look at the size of those bees.\n",
       "ResultOCRExtracted#block <span style=\"color: #008080; text-decoration-color: #008080; font-weight: bold\">08</span>: <span style=\"color: #008080; text-decoration-color: #008080; font-weight: bold\">0.88</span>||Watch out, clark!\n",
       "ResultOCRExtracted#block <span style=\"color: #008080; text-decoration-color: #008080; font-weight: bold\">09</span>: <span style=\"color: #008080; text-decoration-color: #008080; font-weight: bold\">0.67</span>||Owwww.,\n",
       "ResultOCRExtracted#block <span style=\"color: #008080; text-decoration-color: #008080; font-weight: bold\">10</span>: <span style=\"color: #008080; text-decoration-color: #008080; font-weight: bold\">0.99</span>||Yet the bee's stinger went right through my uniform and penetrated my skin! that means. the fabric of my superman costume has become ordinary cloth!\n",
       "ResultOCRExtracted#block <span style=\"color: #008080; text-decoration-color: #008080; font-weight: bold\">11</span>: <span style=\"color: #008080; text-decoration-color: #008080; font-weight: bold\">0.96</span>||Hurry! let's beat it before we get stung, too!\n",
       "ResultOCRExtracted#block <span style=\"color: #008080; text-decoration-color: #008080; font-weight: bold\">12</span>: <span style=\"color: #008080; text-decoration-color: #008080; font-weight: bold\">0.90</span>||Ggreat guns!<span style=\"color: #808000; text-decoration-color: #808000\">...</span>2gasp/:<span style=\"color: #808000; text-decoration-color: #808000\">...</span>pain i feel fan! as superman, i should be invulnerable! <span style=\"color: #008080; text-decoration-color: #008080; font-weight: bold\">1</span> have unbreakabl skin! under my clark kent clothes, i'm wearing an <span style=\"color: #800080; text-decoration-color: #800080\">/nodestruct/</span><span style=\"color: #ff00ff; text-decoration-color: #ff00ff\">ible</span> superman uniform !\n",
       "ResultOCRExtracted#block <span style=\"color: #008080; text-decoration-color: #008080; font-weight: bold\">13</span>: <span style=\"color: #008080; text-decoration-color: #008080; font-weight: bold\">0.96</span>||Abruptly. ..\n",
       "ResultOCRExtracted#block <span style=\"color: #008080; text-decoration-color: #008080; font-weight: bold\">14</span>: <span style=\"color: #008080; text-decoration-color: #008080; font-weight: bold\">0.93</span>||Great caesar's ghost! he's spinning _ a web of g/ant, \"silk strands -- as tough as steel!\n",
       "ResultOCRExtracted#block <span style=\"color: #008080; text-decoration-color: #008080; font-weight: bold\">15</span>: <span style=\"color: #008080; text-decoration-color: #008080; font-weight: bold\">0.89</span>||I-i feel the heat of the sun. the pain of the bee-sting<span style=\"color: #808000; text-decoration-color: #808000\">...</span> the heavy weight of my pack! every human discomfort<span style=\"color: #808000; text-decoration-color: #808000\">...</span> good grief! i've lost all my super-powers. ve become an ordinary mortal in this world.\n",
       "ResultOCRExtracted#block <span style=\"color: #008080; text-decoration-color: #008080; font-weight: bold\">16</span>: <span style=\"color: #008080; text-decoration-color: #008080; font-weight: bold\">0.95</span>||Get back! that enormous spider- like creature is going berserk, <span style=\"color: #008080; text-decoration-color: #008080; font-weight: bold\">25</span> if the sight of us excited him into mad spinning g <span style=\"font-weight: bold\">[</span>\n",
       "\n",
       " ---------- Pad <span style=\"color: #008080; text-decoration-color: #008080; font-weight: bold\">8</span>, fract. <span style=\"color: #008080; text-decoration-color: #008080; font-weight: bold\">0.2</span> ----------\n",
       "ResultOCRExtracted#block <span style=\"color: #008080; text-decoration-color: #008080; font-weight: bold\">00</span>: <span style=\"color: #008080; text-decoration-color: #008080; font-weight: bold\">1.00</span>||Suddenly<span style=\"color: #808000; text-decoration-color: #808000\">...</span>\n",
       "ResultOCRExtracted#block <span style=\"color: #008080; text-decoration-color: #008080; font-weight: bold\">01</span>: <span style=\"color: #008080; text-decoration-color: #008080; font-weight: bold\">0.87</span>||Gasp/z everything s w- whirling around me!i can't stand up.\n",
       "ResultOCRExtracted#block <span style=\"color: #008080; text-decoration-color: #008080; font-weight: bold\">02</span>: <span style=\"color: #008080; text-decoration-color: #008080; font-weight: bold\">0.84</span>||Clark! i'm falling’ _ help! help!\n",
       "ResultOCRExtracted#block <span style=\"color: #008080; text-decoration-color: #008080; font-weight: bold\">03</span>: <span style=\"color: #008080; text-decoration-color: #008080; font-weight: bold\">0.73</span>||I-i'm passing ohhha.\n",
       "ResultOCRExtracted#block <span style=\"color: #008080; text-decoration-color: #008080; font-weight: bold\">04</span>: <span style=\"color: #008080; text-decoration-color: #008080; font-weight: bold\">0.92</span>||Action comics\n",
       "ResultOCRExtracted#block <span style=\"color: #008080; text-decoration-color: #008080; font-weight: bold\">05</span>: <span style=\"color: #008080; text-decoration-color: #008080; font-weight: bold\">0.95</span>||Then, seconds later.\n",
       "ResultOCRExtracted#block <span style=\"color: #008080; text-decoration-color: #008080; font-weight: bold\">06</span>: <span style=\"color: #008080; text-decoration-color: #008080; font-weight: bold\">0.90</span>||Great caesar's ghost! f this <span style=\"color: #800080; text-decoration-color: #800080\">/</span>§ black magic! : we've been transported to the weirdest world i ever saw!\n",
       "ResultOCRExtracted#block <span style=\"color: #008080; text-decoration-color: #008080; font-weight: bold\">07</span>: <span style=\"color: #008080; text-decoration-color: #008080; font-weight: bold\">0.92</span>||<span style=\"color: #808000; text-decoration-color: #808000\">...</span>it certainly isnt our earth, perry! look at the size of those bees.\n",
       "ResultOCRExtracted#block <span style=\"color: #008080; text-decoration-color: #008080; font-weight: bold\">08</span>: <span style=\"color: #008080; text-decoration-color: #008080; font-weight: bold\">0.88</span>||Watch out, clark!\n",
       "ResultOCRExtracted#block <span style=\"color: #008080; text-decoration-color: #008080; font-weight: bold\">09</span>: <span style=\"color: #008080; text-decoration-color: #008080; font-weight: bold\">0.67</span>||Owwww.,\n",
       "ResultOCRExtracted#block <span style=\"color: #008080; text-decoration-color: #008080; font-weight: bold\">10</span>: <span style=\"color: #008080; text-decoration-color: #008080; font-weight: bold\">0.99</span>||Yet the bee's stinger went right through my uniform and penetrated my skin! that means. the fabric of my superman costume has become ordinary cloth!\n",
       "ResultOCRExtracted#block <span style=\"color: #008080; text-decoration-color: #008080; font-weight: bold\">11</span>: <span style=\"color: #008080; text-decoration-color: #008080; font-weight: bold\">0.96</span>||Hurry! let's beat it before we get stung, too!\n",
       "ResultOCRExtracted#block <span style=\"color: #008080; text-decoration-color: #008080; font-weight: bold\">12</span>: <span style=\"color: #008080; text-decoration-color: #008080; font-weight: bold\">0.91</span>||Ggreat guns!<span style=\"color: #808000; text-decoration-color: #808000\">...</span>2gasp/:<span style=\"color: #808000; text-decoration-color: #808000\">...</span> pain i feel fan! as superman, i should be invulnerable! <span style=\"color: #008080; text-decoration-color: #008080; font-weight: bold\">1</span> have unbreakabl skin! under my clark kent clothes, i'm wearing an indestructible superman uniform !\n",
       "ResultOCRExtracted#block <span style=\"color: #008080; text-decoration-color: #008080; font-weight: bold\">13</span>: <span style=\"color: #008080; text-decoration-color: #008080; font-weight: bold\">0.96</span>||Abruptly<span style=\"color: #808000; text-decoration-color: #808000\">...</span>.\n",
       "ResultOCRExtracted#block <span style=\"color: #008080; text-decoration-color: #008080; font-weight: bold\">14</span>: <span style=\"color: #008080; text-decoration-color: #008080; font-weight: bold\">0.93</span>||Great caesar's ghost! he's spinning _ a web of g/ant, \"silk strands -- as tough as steel!\n",
       "ResultOCRExtracted#block <span style=\"color: #008080; text-decoration-color: #008080; font-weight: bold\">15</span>: <span style=\"color: #008080; text-decoration-color: #008080; font-weight: bold\">0.89</span>||I-i feel the heat of the sun., the pain of the bee-sting<span style=\"color: #808000; text-decoration-color: #808000\">...</span> the heavy weight of my pack! every human discomfort<span style=\"color: #808000; text-decoration-color: #808000\">...</span> good grief! i've lost all my super-powers. ve become an ordinary mortal in this world.\n",
       "ResultOCRExtracted#block <span style=\"color: #008080; text-decoration-color: #008080; font-weight: bold\">16</span>: <span style=\"color: #008080; text-decoration-color: #008080; font-weight: bold\">0.96</span>||Get back! that enormous spider- like creature is going berserk, as if the sight of us excited him into mad spinning gs <span style=\"font-weight: bold\">[</span>\n",
       "\n",
       "\n",
       "</pre>\n"
      ],
      "text/plain": [
       "---------- Initial box ----------\n",
       "ResultOCR#block \u001b[1;36m00\u001b[0m: \u001b[1;36m0.90\u001b[0m||Suddenly.\n",
       "ResultOCR#block \u001b[1;36m01\u001b[0m: \u001b[1;36m0.81\u001b[0m||>gasp!z everything's w- whirling around me!t can't stand sr rea\n",
       "ResultOCR#block \u001b[1;36m02\u001b[0m: \u001b[1;36m0.81\u001b[0m||Clark!i'm falling' “help! help! —\n",
       "ResultOCR#block \u001b[1;36m03\u001b[0m: \u001b[1;36m0.67\u001b[0m||I-i'm bs \"passing ohhh\n",
       "ResultOCR#block \u001b[1;36m04\u001b[0m: \u001b[1;36m0.92\u001b[0m||Action comics\n",
       "ResultOCR#block \u001b[1;36m05\u001b[0m: \u001b[1;36m1.00\u001b[0m||Then, seconds later\u001b[33m...\u001b[0m\n",
       "ResultOCR#block \u001b[1;36m06\u001b[0m: \u001b[1;36m0.89\u001b[0m||Great caesars ghost! \u001b[1m{\u001b[0m this \u001b[35m/\u001b[0m\u001b[95ms\u001b[0m black magic! we've been transportel to the weirdest world, tit ever saw!\n",
       "ResultOCR#block \u001b[1;36m07\u001b[0m: \u001b[1;36m0.91\u001b[0m||\u001b[33m...\u001b[0m|t certainly isn't our earth, perry. look at the size of those bees.\n",
       "ResultOCR#block \u001b[1;36m08\u001b[0m: \u001b[1;36m0.88\u001b[0m||Watch out, clark!\n",
       "ResultOCR#block \u001b[1;36m09\u001b[0m: \u001b[1;36m0.73\u001b[0m||Owwww.\n",
       "ResultOCR#block \u001b[1;36m10\u001b[0m: \u001b[1;36m0.85\u001b[0m||Yet the bee's stinger went ws. right through my uniform and penetrated my skin! that means. the fabric of pe ay costume has become dj\u001b[1m}\u001b[0m satie fued \u001b[1;36m1\u001b[0m,\n",
       "ResultOCR#block \u001b[1;36m11\u001b[0m: \u001b[1;36m0.87\u001b[0m||Hurry. let's beat it before we get stung, foo = aii\n",
       "ResultOCR#block \u001b[1;36m12\u001b[0m: \u001b[1;36m0.86\u001b[0m||Ggreat guns!\u001b[33m...\u001b[0m2g, .pa/n i feel n pain! as superman, i should be > invulnerable! \u001b[1;36m1\u001b[0m have unbreakabl ‘skin! under my clark kent clothes, im wearing an woestructisle superman uniform ! =\n",
       "ResultOCR#block \u001b[1;36m13\u001b[0m: \u001b[1;36m1.00\u001b[0m||Abruptly\u001b[33m...\u001b[0m\n",
       "ResultOCR#block \u001b[1;36m14\u001b[0m: \u001b[1;36m0.77\u001b[0m||Great caesar's ghost. he's spinning a web of g/ant, sr strands --\n",
       "ResultOCR#block \u001b[1;36m15\u001b[0m: \u001b[1;36m0.89\u001b[0m||I-i feel the heat of the sun\u001b[33m...\u001b[0mthe pain of the bee-sting \u001b[33m...\u001b[0m the heavy weight of my pack! every human discomfort\u001b[33m...\u001b[0m good grief! i've lost all my super-powers! i've become an ordinary mortal in this world. \u001b[35m/\u001b[0m\n",
       "ResultOCR#block \u001b[1;36m16\u001b[0m: \u001b[1;36m0.84\u001b[0m||Enormous spider- like creature is going berserk, as if the sight of us excited him \u001b[1m(\u001b[0minto mad spinning get back! that \u001b[1;36m2\u001b[0m\n",
       "\n",
       " ---------- Default ----------\n",
       "ResultOCR#block \u001b[1;36m00\u001b[0m: \u001b[1;36m1.00\u001b[0m||Suddenly\u001b[33m...\u001b[0m\n",
       "ResultOCR#block \u001b[1;36m01\u001b[0m: \u001b[1;36m0.80\u001b[0m||Gasp! everything's w- whi rns atound me!i can't stand we a\n",
       "ResultOCR#block \u001b[1;36m02\u001b[0m: \u001b[1;36m0.87\u001b[0m||Clark!i'm falling! help! help\n",
       "ResultOCR#block \u001b[1;36m03\u001b[0m: \u001b[1;36m0.45\u001b[0m||I-i'm se ou\n",
       "ResultOCR#block \u001b[1;36m04\u001b[0m: \u001b[1;36m0.92\u001b[0m||Action comics\n",
       "ResultOCR#block \u001b[1;36m05\u001b[0m: \u001b[1;36m0.95\u001b[0m||Then, seconds later.\n",
       "ResultOCR#block \u001b[1;36m06\u001b[0m: \u001b[1;36m0.92\u001b[0m||Great caesar's ghost! this \u001b[35m/\u001b[0m\u001b[95ms\u001b[0m black magic! we've been transported, to the weirdest world, i ever saw!\n",
       "ResultOCR#block \u001b[1;36m07\u001b[0m: \u001b[1;36m0.93\u001b[0m||\u001b[33m...\u001b[0m|t certainly isn't our earth, perry look at the size of those bees!\n",
       "ResultOCR#block \u001b[1;36m08\u001b[0m: \u001b[1;36m0.88\u001b[0m||Watch out, clark\u001b[1m)\u001b[0m\n",
       "ResultOCR#block \u001b[1;36m09\u001b[0m: \u001b[1;36m0.67\u001b[0m||Owwww.,\n",
       "ResultOCR#block \u001b[1;36m10\u001b[0m: \u001b[1;36m0.97\u001b[0m||Yet the bee's stinger went = right through my uniform ando penetrated my skin! that mean the fabric of my superman costume has become ordinary, cloth! £\n",
       "ResultOCR#block \u001b[1;36m11\u001b[0m: \u001b[1;36m0.89\u001b[0m||Hurry. let's beat it before we get stung, tod yi\n",
       "ResultOCR#block \u001b[1;36m12\u001b[0m: \u001b[1;36m0.88\u001b[0m||Ggreat guns!\u001b[33m...\u001b[0m2gasp/z\u001b[33m...\u001b[0mpain i feel n fan! as superman, i should be invulnerable! \u001b[1;36m1\u001b[0m have unbreakable skin! under my clark kent clothes, i'm wearing an \u001b[35m/noestruct/\u001b[0m\u001b[95mele\u001b[0m superman uniform !\n",
       "ResultOCR#block \u001b[1;36m13\u001b[0m: \u001b[1;36m1.00\u001b[0m||Abruptly\u001b[33m...\u001b[0m\n",
       "ResultOCR#block \u001b[1;36m14\u001b[0m: \u001b[1;36m0.76\u001b[0m||Great caesars ° ghost! he's spinning & web of g/a, silk strands\n",
       "ResultOCR#block \u001b[1;36m15\u001b[0m: \u001b[1;36m0.89\u001b[0m||I-i feel the heat of the sum\u001b[33m...\u001b[0mthe pain of the bee-sting\u001b[33m...\u001b[0m the heavy weight of my \u001b[1m{\u001b[0m pack! every human discomfort\u001b[33m...\u001b[0m good grief! i've lost all my super -powersx ve become an ordinary mortal in this world! j\n",
       "ResultOCR#block \u001b[1;36m16\u001b[0m: \u001b[1;36m0.70\u001b[0m||Like creature is going berserk, as if the sight of us excited him into mad spinning, get back! that \\ enormous spider-\n",
       "\n",
       " ---------- Default, grey pad ----------\n",
       "ResultOCR#block \u001b[1;36m00\u001b[0m: \u001b[1;36m0.78\u001b[0m||Sudden.\n",
       "ResultOCR#block \u001b[1;36m01\u001b[0m: \u001b[1;36m0.82\u001b[0m||5gasp!z everything's | w- whirling around\u001b[1m]\u001b[0m me!t can't stand ue a\n",
       "ResultOCR#block \u001b[1;36m02\u001b[0m: \u001b[1;36m0.57\u001b[0m||Ark!i'm falling\n",
       "ResultOCR#block \u001b[1;36m03\u001b[0m: \u001b[1;36m0.85\u001b[0m||I-t'm eq \"passing out\u001b[33m...\u001b[0m ohhh.\n",
       "ResultOCR#block \u001b[1;36m04\u001b[0m: \u001b[1;36m0.92\u001b[0m||Action comics\n",
       "ResultOCR#block \u001b[1;36m05\u001b[0m: \u001b[1;36m0.00\u001b[0m||\n",
       "ResultOCR#block \u001b[1;36m06\u001b[0m: \u001b[1;36m0.88\u001b[0m||‘great caesar's ghost! || this \u001b[35m/\u001b[0m§ black magic! we've been transportel to the weirdest world, i ever saw.\n",
       "ResultOCR#block \u001b[1;36m07\u001b[0m: \u001b[1;36m0.87\u001b[0m||\"\u001b[33m...\u001b[0mit certainly isn't our | earth, perry look at the| \\s|ze of those bees.\n",
       "ResultOCR#block \u001b[1;36m08\u001b[0m: \u001b[1;36m0.88\u001b[0m||Watch out, clark!\n",
       "ResultOCR#block \u001b[1;36m09\u001b[0m: \u001b[1;36m0.73\u001b[0m||Owwww.\n",
       "ResultOCR#block \u001b[1;36m10\u001b[0m: \u001b[1;36m0.90\u001b[0m||Yet the bee's stinger went ~ right through my uniform and penetrated my skin! that means. the fabric of sera ry costume vis become din a s clots! a\n",
       "ResultOCR#block \u001b[1;36m11\u001b[0m: \u001b[1;36m0.80\u001b[0m||Hurry. let's \u001b[1m)\u001b[0m beat it before\u001b[1m]\u001b[0m we get stung, k \u001b[1;36m00\u001b[0m! __j\n",
       "ResultOCR#block \u001b[1;36m12\u001b[0m: \u001b[1;36m0.86\u001b[0m||Ggreat guns!\u001b[33m...\u001b[0m3gasp/=\u001b[33m...\u001b[0m rain t feel fan! as superman, i should be invulnerable® \u001b[1;36m1\u001b[0m have unbreakabli skin! under my clark kent clothes, ia wearing an \u001b[35m/noestryct/\u001b[0m\u001b[95miele\u001b[0m supe iperman uniform !\n",
       "ResultOCR#block \u001b[1;36m13\u001b[0m: \u001b[1;36m0.90\u001b[0m||Abruptly.\n",
       "ResultOCR#block \u001b[1;36m14\u001b[0m: \u001b[1;36m0.92\u001b[0m||Great caesar's | ghost! he's spinning k web of giant, silk strands -- as tough as steel! ne\u001b[1m]\u001b[0m\n",
       "ResultOCR#block \u001b[1;36m15\u001b[0m: \u001b[1;36m0.89\u001b[0m||\\i-t feel the heat of the sun\u001b[33m...\u001b[0mthe pain of the bee-sting\u001b[33m...\u001b[0m the heavy weight of my & pack! every human discomfort\u001b[33m...\u001b[0m good grief! i've lost all my super-powers i've become an ordinary mortal in this world. \u001b[35m/\u001b[0m\u001b[95m.\u001b[0m\n",
       "ResultOCR#block \u001b[1;36m16\u001b[0m: \u001b[1;36m0.94\u001b[0m||\u001b[1m(\u001b[0mget back! that enormous spider- like creature \u001b[1;36m1\u001b[0m § going berserk, as if the sight of us excited him into mad spinning\u001b[1m]\u001b[0m\n",
       "\n",
       " ---------- Padded 4px ----------\n",
       "ResultOCR#block \u001b[1;36m00\u001b[0m: \u001b[1;36m0.90\u001b[0m||Suddenly.\n",
       "ResultOCR#block \u001b[1;36m01\u001b[0m: \u001b[1;36m0.83\u001b[0m||Fgasp/= everything's whirling around me!i can't stand ea\n",
       "ResultOCR#block \u001b[1;36m02\u001b[0m: \u001b[1;36m0.68\u001b[0m||Ie lottie eto clark!i'm falling help! help!\n",
       "ResultOCR#block \u001b[1;36m03\u001b[0m: \u001b[1;36m0.55\u001b[0m||I-i'm yr a ohh hh.\n",
       "ResultOCR#block \u001b[1;36m04\u001b[0m: \u001b[1;36m0.92\u001b[0m||Action comics\n",
       "ResultOCR#block \u001b[1;36m05\u001b[0m: \u001b[1;36m0.74\u001b[0m||Then, seconds\n",
       "ResultOCR#block \u001b[1;36m06\u001b[0m: \u001b[1;36m0.62\u001b[0m||Great caesar's ghost! \\ this \u001b[35m/\u001b[0m§ black magic! i ever saw!\n",
       "ResultOCR#block \u001b[1;36m07\u001b[0m: \u001b[1;36m0.87\u001b[0m||T certainly isn't our earth, perry! look at the \\s|ze of those bees.\n",
       "ResultOCR#block \u001b[1;36m08\u001b[0m: \u001b[1;36m0.76\u001b[0m||#\u001b[1;36m3\u001b[0m watch out, clark!\n",
       "ResultOCR#block \u001b[1;36m09\u001b[0m: \u001b[1;36m0.73\u001b[0m||Owwww.\n",
       "ResultOCR#block \u001b[1;36m10\u001b[0m: \u001b[1;36m0.95\u001b[0m||\"yet the bee's stinger went ~~ right through my uniform and enetrated my skin! that means. the fabric of my superman costume has become ordinary, clot! &\n",
       "ResultOCR#block \u001b[1;36m11\u001b[0m: \u001b[1;36m0.86\u001b[0m||Hurry! let's beat it \u001b[33mb\u001b[0m=\u001b[35mfore\u001b[0m we get stung, ¢ tool: puma\n",
       "ResultOCR#block \u001b[1;36m12\u001b[0m: \u001b[1;36m0.86\u001b[0m||‘ggreat guns!\u001b[33m...\u001b[0m3gasp/\u001b[1;36m5\u001b[0m\u001b[33m...\u001b[0m pain i feel pain? as superman, i should be invilnerable | t ne unbreakasle gkin! under my clark kent clothes, tih wearing an indestructible superman uniform\n",
       "ResultOCR#block \u001b[1;36m13\u001b[0m: \u001b[1;36m1.00\u001b[0m||Abruptly\u001b[33m...\u001b[0m\n",
       "ResultOCR#block \u001b[1;36m14\u001b[0m: \u001b[1;36m0.91\u001b[0m||Great caesars ghost. he's spinning a web of g/ant, | silk strands as tough as steel!\n",
       "ResultOCR#block \u001b[1;36m15\u001b[0m: \u001b[1;36m0.89\u001b[0m||I-i feel the heat of the sun\u001b[33m...\u001b[0mthe pain of the bee-sting\u001b[33m...\u001b[0m the heavy weight of my \u001b[1m{\u001b[0m pack! every human discomfort\u001b[33m...\u001b[0m good grief! i've lost all \\my super-powersx ve become an ordinary mortal in this world.\n",
       "ResultOCR#block \u001b[1;36m16\u001b[0m: \u001b[1;36m0.81\u001b[0m||\u001b[1m(\u001b[0mget back! that enormous spider- as if the sight of us excited him \u001b[1m[\u001b[0minto mad spinning\n",
       "\n",
       " ---------- Padded 8px ----------\n",
       "ResultOCR#block \u001b[1;36m00\u001b[0m: \u001b[1;36m0.00\u001b[0m||\n",
       "ResultOCR#block \u001b[1;36m01\u001b[0m: \u001b[1;36m0.76\u001b[0m||Ega5p/% everything s\\ w- whirling around me! t can't stand ue\u001b[33m...\u001b[0m slee\n",
       "ResultOCR#block \u001b[1;36m02\u001b[0m: \u001b[1;36m0.41\u001b[0m||\\ help! help’\n",
       "ResultOCR#block \u001b[1;36m03\u001b[0m: \u001b[1;36m0.86\u001b[0m||-i'm passing qut\u001b[33m...\u001b[0m ohh hh.\n",
       "ResultOCR#block \u001b[1;36m04\u001b[0m: \u001b[1;36m0.92\u001b[0m||Action comics\n",
       "ResultOCR#block \u001b[1;36m05\u001b[0m: \u001b[1;36m0.00\u001b[0m||\n",
       "ResultOCR#block \u001b[1;36m06\u001b[0m: \u001b[1;36m0.18\u001b[0m||I ever saw/\n",
       "ResultOCR#block \u001b[1;36m07\u001b[0m: \u001b[1;36m0.86\u001b[0m||It certainly isn't our earth, perry! poor a the size of thos!\n",
       "ResultOCR#block \u001b[1;36m08\u001b[0m: \u001b[1;36m0.62\u001b[0m||“watch out” ial ae clark!\n",
       "ResultOCR#block \u001b[1;36m09\u001b[0m: \u001b[1;36m0.73\u001b[0m||Owwww.\n",
       "ResultOCR#block \u001b[1;36m10\u001b[0m: \u001b[1;36m0.98\u001b[0m||Yet the bee's stinger went right through my uniform and \\penetrated my skin! that means. the fabric of my superman costume has become ordinar! cloth!\n",
       "ResultOCR#block \u001b[1;36m11\u001b[0m: \u001b[1;36m0.93\u001b[0m||Hurry. let's beat it before we get stung, too!\n",
       "ResultOCR#block \u001b[1;36m12\u001b[0m: \u001b[1;36m0.88\u001b[0m||Ggreat guns!\u001b[33m...\u001b[0m2gasp/z\u001b[33m...\u001b[0mpain i feel fan! as superman, i should be invulnerable! \u001b[1;36m1\u001b[0m have unbreakabl skin! under my clark kent clothes, i'm wearing an \u001b[35m/noestruct/\u001b[0m\u001b[95mele\u001b[0m $ superman uniform ! &\n",
       "ResultOCR#block \u001b[1;36m13\u001b[0m: \u001b[1;36m0.00\u001b[0m||\n",
       "ResultOCR#block \u001b[1;36m14\u001b[0m: \u001b[1;36m0.91\u001b[0m||Great caesai ghost. he's spinning a web of g/ant, silk strands -- as tough as steel!\n",
       "ResultOCR#block \u001b[1;36m15\u001b[0m: \u001b[1;36m0.88\u001b[0m||I-i feel the heat of the sun\u001b[33m...\u001b[0mthe pain of the bee-sting\u001b[33m...\u001b[0m the heavy weight of my ! every human discomfort\u001b[33m...\u001b[0m good grief! i've lost all \\my super-powers! ‘ve become an ordinary mortal in this world. x\n",
       "ResultOCR#block \u001b[1;36m16\u001b[0m: \u001b[1;36m0.60\u001b[0m||As if the sight of us excited him \u001b[1m{\u001b[0minto mad spinning\n",
       "\n",
       " ---------- Extracted, init box ----------\n",
       "ResultOCRExtracted#block \u001b[1;36m00\u001b[0m: \u001b[1;36m0.90\u001b[0m||Suddenly.\n",
       "ResultOCRExtracted#block \u001b[1;36m01\u001b[0m: \u001b[1;36m0.83\u001b[0m||Fgasp!z everything § w- whirling around me!i can't stand ue.\n",
       "ResultOCRExtracted#block \u001b[1;36m02\u001b[0m: \u001b[1;36m0.89\u001b[0m||Clark!i'm falling! help! help!\n",
       "ResultOCRExtracted#block \u001b[1;36m03\u001b[0m: \u001b[1;36m0.71\u001b[0m||I-i'm passing ohhh?\n",
       "ResultOCRExtracted#block \u001b[1;36m04\u001b[0m: \u001b[1;36m0.92\u001b[0m||Action comics\n",
       "ResultOCRExtracted#block \u001b[1;36m05\u001b[0m: \u001b[1;36m0.98\u001b[0m||Then, seconds later..\n",
       "ResultOCRExtracted#block \u001b[1;36m06\u001b[0m: \u001b[1;36m0.91\u001b[0m||Great caesar's ghost! this \u001b[35m/\u001b[0m\u001b[95ms\u001b[0m black magic! we've been transportel to the weirdest world tit ever saw.\n",
       "ResultOCRExtracted#block \u001b[1;36m07\u001b[0m: \u001b[1;36m0.90\u001b[0m||\u001b[33m...\u001b[0mit certainly isnt our earth, perry. look at the size of those bees.\n",
       "ResultOCRExtracted#block \u001b[1;36m08\u001b[0m: \u001b[1;36m0.88\u001b[0m||Watch out, clark!\n",
       "ResultOCRExtracted#block \u001b[1;36m09\u001b[0m: \u001b[1;36m0.62\u001b[0m||Oowwwww.\n",
       "ResultOCRExtracted#block \u001b[1;36m10\u001b[0m: \u001b[1;36m0.99\u001b[0m||Yet the bee's stinger went right through my uniform and penetrated my skin! that means. the fabric of my superman costume has become ordinary cloth!\n",
       "ResultOCRExtracted#block \u001b[1;36m11\u001b[0m: \u001b[1;36m0.93\u001b[0m||Hurry. let's beat it before we get stung, too!\n",
       "ResultOCRExtracted#block \u001b[1;36m12\u001b[0m: \u001b[1;36m0.88\u001b[0m||Ggreat guns!\u001b[33m...\u001b[0m2g/ pain t feel pain? as superman, i should be invulnerable! \u001b[1;36m1\u001b[0m have unbreakabl skin! under my clark kent clothes, i'm wearing an \u001b[35m/noestruct/\u001b[0m\u001b[95mble\u001b[0m superman uniform *\n",
       "ResultOCRExtracted#block \u001b[1;36m13\u001b[0m: \u001b[1;36m0.96\u001b[0m||Abruptly. ..\n",
       "ResultOCRExtracted#block \u001b[1;36m14\u001b[0m: \u001b[1;36m0.80\u001b[0m||Great caesar's ghost. he's spinning a web of g/ant, silk strands --\n",
       "ResultOCRExtracted#block \u001b[1;36m15\u001b[0m: \u001b[1;36m0.89\u001b[0m||I-i feel the heat of the sun. the pain of the bee-sting\u001b[33m...\u001b[0m the heavy weight of my pack! every human discomfort\u001b[33m...\u001b[0m good grief! t've lost all my super-powers. ve become an ordinary mortal im this world.\n",
       "ResultOCRExtracted#block \u001b[1;36m16\u001b[0m: \u001b[1;36m0.97\u001b[0m||Get back. that enormous spider- like creature is going berserk, as if the sight of us excited him into mad spinning\n",
       "\n",
       " ---------- Padded \u001b[1;36m4\u001b[0m, extracted ----------\n",
       "ResultOCRExtracted#block \u001b[1;36m00\u001b[0m: \u001b[1;36m1.00\u001b[0m||Suddenly\u001b[33m...\u001b[0m\n",
       "ResultOCRExtracted#block \u001b[1;36m01\u001b[0m: \u001b[1;36m0.83\u001b[0m||Sgasp/z everything s w- whirling around me!i can't stand ue.\n",
       "ResultOCRExtracted#block \u001b[1;36m02\u001b[0m: \u001b[1;36m0.87\u001b[0m||Clark! i'm falling’ help! help!\n",
       "ResultOCRExtracted#block \u001b[1;36m03\u001b[0m: \u001b[1;36m0.78\u001b[0m||I-i'm passing ohhhh.\n",
       "ResultOCRExtracted#block \u001b[1;36m04\u001b[0m: \u001b[1;36m0.92\u001b[0m||Action comics\n",
       "ResultOCRExtracted#block \u001b[1;36m05\u001b[0m: \u001b[1;36m0.95\u001b[0m||Then, seconds later.\n",
       "ResultOCRExtracted#block \u001b[1;36m06\u001b[0m: \u001b[1;36m0.93\u001b[0m||Great caesar's ghost! this as black magic! we've been transported to the weirdest world i ever saw!\n",
       "ResultOCRExtracted#block \u001b[1;36m07\u001b[0m: \u001b[1;36m0.90\u001b[0m||\u001b[33m...\u001b[0mit certainly isnt our earth, perry. look at the size of those bees.\n",
       "ResultOCRExtracted#block \u001b[1;36m08\u001b[0m: \u001b[1;36m0.88\u001b[0m||Watch out, clark!\n",
       "ResultOCRExtracted#block \u001b[1;36m09\u001b[0m: \u001b[1;36m0.67\u001b[0m||Owwww.,\n",
       "ResultOCRExtracted#block \u001b[1;36m10\u001b[0m: \u001b[1;36m0.99\u001b[0m||Yet the bee's stinger went right through my uniform and penetrated my skin! that means. the fabric of my superman costume has become ordinary cloth!\n",
       "ResultOCRExtracted#block \u001b[1;36m11\u001b[0m: \u001b[1;36m0.96\u001b[0m||Hurry! let's beat it before we get stung, too!\n",
       "ResultOCRExtracted#block \u001b[1;36m12\u001b[0m: \u001b[1;36m0.89\u001b[0m||Ggreat guns!\u001b[33m...\u001b[0m2gasp/:\u001b[33m...\u001b[0m pain t feel fan! as superman, i should be invulnerable! \u001b[1;36m1\u001b[0m have unbreakabl skin! under my clark kent clothes, i'm wearing an \u001b[35m/noestruct/\u001b[0m\u001b[95mble\u001b[0m superman uniform !\n",
       "ResultOCRExtracted#block \u001b[1;36m13\u001b[0m: \u001b[1;36m1.00\u001b[0m||Abruptly\u001b[33m...\u001b[0m\n",
       "ResultOCRExtracted#block \u001b[1;36m14\u001b[0m: \u001b[1;36m0.94\u001b[0m||Great caesar's ghost! he's spinning a web of g/ant, \"silk strands -- as tough as steel!\n",
       "ResultOCRExtracted#block \u001b[1;36m15\u001b[0m: \u001b[1;36m0.89\u001b[0m||I-i feel the heat of the sun., the pain of the bee-sting\u001b[33m...\u001b[0m the heavy weight of my pack! every human discomfort\u001b[33m...\u001b[0m good grief! t've lost all my super-powers. ve become an ordinary mortal in this world.\n",
       "ResultOCRExtracted#block \u001b[1;36m16\u001b[0m: \u001b[1;36m0.97\u001b[0m||Get back! that enormous spider- like creature is going berserk, \u001b[1;36m25\u001b[0m if the sight of us excited him into mad spinning\n",
       "\n",
       " ---------- Padded \u001b[1;36m8\u001b[0m, extracted ----------\n",
       "ResultOCRExtracted#block \u001b[1;36m00\u001b[0m: \u001b[1;36m0.91\u001b[0m||Suddemly\u001b[33m...\u001b[0m\n",
       "ResultOCRExtracted#block \u001b[1;36m01\u001b[0m: \u001b[1;36m0.85\u001b[0m||Sgasp/z everything s w- whirling around me!i can't stand up.\n",
       "ResultOCRExtracted#block \u001b[1;36m02\u001b[0m: \u001b[1;36m0.84\u001b[0m||Clark! i'm falling’ _ help! help!\n",
       "ResultOCRExtracted#block \u001b[1;36m03\u001b[0m: \u001b[1;36m0.73\u001b[0m||I-i'm passing ohhha.\n",
       "ResultOCRExtracted#block \u001b[1;36m04\u001b[0m: \u001b[1;36m0.92\u001b[0m||Action comics\n",
       "ResultOCRExtracted#block \u001b[1;36m05\u001b[0m: \u001b[1;36m0.95\u001b[0m||Then, seconds later.\n",
       "ResultOCRExtracted#block \u001b[1;36m06\u001b[0m: \u001b[1;36m0.90\u001b[0m||Great caesar's ghost! f this \u001b[35m/\u001b[0m§ black magic! : we've been transported to the weirdest world i ever saw.\n",
       "ResultOCRExtracted#block \u001b[1;36m07\u001b[0m: \u001b[1;36m0.90\u001b[0m||\u001b[33m...\u001b[0mit certainly isnt our earth, perry. look at the size of those bees.\n",
       "ResultOCRExtracted#block \u001b[1;36m08\u001b[0m: \u001b[1;36m0.88\u001b[0m||Watch out, clark!\n",
       "ResultOCRExtracted#block \u001b[1;36m09\u001b[0m: \u001b[1;36m0.67\u001b[0m||Owwww.,\n",
       "ResultOCRExtracted#block \u001b[1;36m10\u001b[0m: \u001b[1;36m0.99\u001b[0m||Yet the bee's stinger went right through my uniform and penetrated my skin! that means. the fabric of my superman costume has become ordinary cloth!\n",
       "ResultOCRExtracted#block \u001b[1;36m11\u001b[0m: \u001b[1;36m0.96\u001b[0m||Hurry! let's beat it before we get stung, too!\n",
       "ResultOCRExtracted#block \u001b[1;36m12\u001b[0m: \u001b[1;36m0.89\u001b[0m||Ggreat guns!\u001b[33m...\u001b[0m2gasp/:\u001b[33m...\u001b[0m pain t feel fan! as superman, i should be invulnerable! \u001b[1;36m1\u001b[0m have unbreakabl skin! under my clark kent clothes, i'm wearing an \u001b[35m/noestruct/\u001b[0m\u001b[95mble\u001b[0m superman uniform !\n",
       "ResultOCRExtracted#block \u001b[1;36m13\u001b[0m: \u001b[1;36m0.96\u001b[0m||Abruptly. ..\n",
       "ResultOCRExtracted#block \u001b[1;36m14\u001b[0m: \u001b[1;36m0.93\u001b[0m||Great caesar's ghost! he's spinning _ a web of g/ant, \"silk strands -- as tough as steel!\n",
       "ResultOCRExtracted#block \u001b[1;36m15\u001b[0m: \u001b[1;36m0.89\u001b[0m||I-t feel the heat of the sun., the pain of the bee-sting\u001b[33m...\u001b[0m the heavy weight of my pack! every human discomfort\u001b[33m...\u001b[0m good grief! t've lost all my super-powers. ve become an ordinary mortal in this world.\n",
       "ResultOCRExtracted#block \u001b[1;36m16\u001b[0m: \u001b[1;36m0.95\u001b[0m||Get back! that enormous spider- like creature is going berserk, \u001b[1;36m25\u001b[0m if the sight of us excited him into mad spinning g \u001b[1m[\u001b[0m\n",
       "\n",
       " ---------- Padded \u001b[1;36m8\u001b[0m, dilation \u001b[1;36m1\u001b[0m ----------\n",
       "ResultOCRExtracted#block \u001b[1;36m00\u001b[0m: \u001b[1;36m1.00\u001b[0m||Suddenly\u001b[33m...\u001b[0m\n",
       "ResultOCRExtracted#block \u001b[1;36m01\u001b[0m: \u001b[1;36m0.83\u001b[0m||Gasp! everything s w-whirling around wel\u001b[1m]\u001b[0m i can't stand\n",
       "ResultOCRExtracted#block \u001b[1;36m02\u001b[0m: \u001b[1;36m0.86\u001b[0m||Clark!i'm falling! . help! help!\n",
       "ResultOCRExtracted#block \u001b[1;36m03\u001b[0m: \u001b[1;36m0.73\u001b[0m||I-i'm passing ohhha.\n",
       "ResultOCRExtracted#block \u001b[1;36m04\u001b[0m: \u001b[1;36m0.92\u001b[0m||Action comics\n",
       "ResultOCRExtracted#block \u001b[1;36m05\u001b[0m: \u001b[1;36m0.95\u001b[0m||Then, seconds later.\n",
       "ResultOCRExtracted#block \u001b[1;36m06\u001b[0m: \u001b[1;36m0.91\u001b[0m||Great caesar's ghost! e this \u001b[35m/\u001b[0m\u001b[95m5\u001b[0m black magic! we've been transported to the weirdest world i ever saw/\n",
       "ResultOCRExtracted#block \u001b[1;36m07\u001b[0m: \u001b[1;36m0.91\u001b[0m||\u001b[33m...\u001b[0m|it certainly isnt our earth, perry” look at the size of those bees!\n",
       "ResultOCRExtracted#block \u001b[1;36m08\u001b[0m: \u001b[1;36m0.88\u001b[0m||Watch out, clark!\n",
       "ResultOCRExtracted#block \u001b[1;36m09\u001b[0m: \u001b[1;36m0.73\u001b[0m||Owwww.\n",
       "ResultOCRExtracted#block \u001b[1;36m10\u001b[0m: \u001b[1;36m0.94\u001b[0m||Yet the bee's stinger we right through my tform and penetrated my skin! that means. the fabric of my superman othe has become ordinary clot?\n",
       "ResultOCRExtracted#block \u001b[1;36m11\u001b[0m: \u001b[1;36m0.96\u001b[0m||Hurry! let's beat it before we get stung, too!\n",
       "ResultOCRExtracted#block \u001b[1;36m12\u001b[0m: \u001b[1;36m0.82\u001b[0m||Fain! as superman, i should be invulnerable! \u001b[1;36m1\u001b[0m have unbreakabl skin! under my clark kent clothes, i'm wearing an indestructible superman uniform !\n",
       "ResultOCRExtracted#block \u001b[1;36m13\u001b[0m: \u001b[1;36m0.00\u001b[0m||\n",
       "ResultOCRExtracted#block \u001b[1;36m14\u001b[0m: \u001b[1;36m0.67\u001b[0m||Great caesars ghost! he's spinning _ a web of g/ant,\n",
       "ResultOCRExtracted#block \u001b[1;36m15\u001b[0m: \u001b[1;36m0.86\u001b[0m||I-i feel the heat of the sun. the pain of the bee-sting\u001b[33m...\u001b[0m the heavy weight of my pack! every human discomfort\u001b[33m...\u001b[0m good grief! i've lost all my super-powers. ve ie an ordinary mortal in this world.\n",
       "ResultOCRExtracted#block \u001b[1;36m16\u001b[0m: \u001b[1;36m0.96\u001b[0m||Get back! that enormous spider- like creature is going berserk, as if the sight of us excited him into mad spinning’ g \u001b[1m[\u001b[0m\n",
       "\n",
       " ---------- Pad \u001b[1;36m8\u001b[0m, fract. \u001b[1;36m0.5\u001b[0m ----------\n",
       "ResultOCRExtracted#block \u001b[1;36m00\u001b[0m: \u001b[1;36m0.91\u001b[0m||Suddemly\u001b[33m...\u001b[0m\n",
       "ResultOCRExtracted#block \u001b[1;36m01\u001b[0m: \u001b[1;36m0.87\u001b[0m||Gasp/z everything s w- whirling around me!i can't stand up.\n",
       "ResultOCRExtracted#block \u001b[1;36m02\u001b[0m: \u001b[1;36m0.84\u001b[0m||Clark! i'm falling’ _ help! help!\n",
       "ResultOCRExtracted#block \u001b[1;36m03\u001b[0m: \u001b[1;36m0.78\u001b[0m||I-i'm passing ohhhh.\n",
       "ResultOCRExtracted#block \u001b[1;36m04\u001b[0m: \u001b[1;36m0.92\u001b[0m||Action comics\n",
       "ResultOCRExtracted#block \u001b[1;36m05\u001b[0m: \u001b[1;36m0.95\u001b[0m||Then, seconds later.\n",
       "ResultOCRExtracted#block \u001b[1;36m06\u001b[0m: \u001b[1;36m0.90\u001b[0m||Great caesar's ghost! f this \u001b[35m/\u001b[0m§ black magic! : we've been transported to the weirdest world i ever saw.\n",
       "ResultOCRExtracted#block \u001b[1;36m07\u001b[0m: \u001b[1;36m0.92\u001b[0m||\u001b[33m...\u001b[0mit certainly isnt our earth, perry! look at the size of those bees.\n",
       "ResultOCRExtracted#block \u001b[1;36m08\u001b[0m: \u001b[1;36m0.88\u001b[0m||Watch out, clark!\n",
       "ResultOCRExtracted#block \u001b[1;36m09\u001b[0m: \u001b[1;36m0.67\u001b[0m||Owwww.,\n",
       "ResultOCRExtracted#block \u001b[1;36m10\u001b[0m: \u001b[1;36m0.99\u001b[0m||Yet the bee's stinger went right through my uniform and penetrated my skin! that means. the fabric of my superman costume has become ordinary cloth!\n",
       "ResultOCRExtracted#block \u001b[1;36m11\u001b[0m: \u001b[1;36m0.96\u001b[0m||Hurry! let's beat it before we get stung, too!\n",
       "ResultOCRExtracted#block \u001b[1;36m12\u001b[0m: \u001b[1;36m0.90\u001b[0m||Ggreat guns!\u001b[33m...\u001b[0m2gasp/:\u001b[33m...\u001b[0mpain i feel fan! as superman, i should be invulnerable! \u001b[1;36m1\u001b[0m have unbreakabl skin! under my clark kent clothes, i'm wearing an \u001b[35m/nodestruct/\u001b[0m\u001b[95mible\u001b[0m superman uniform !\n",
       "ResultOCRExtracted#block \u001b[1;36m13\u001b[0m: \u001b[1;36m0.96\u001b[0m||Abruptly. ..\n",
       "ResultOCRExtracted#block \u001b[1;36m14\u001b[0m: \u001b[1;36m0.93\u001b[0m||Great caesar's ghost! he's spinning _ a web of g/ant, \"silk strands -- as tough as steel!\n",
       "ResultOCRExtracted#block \u001b[1;36m15\u001b[0m: \u001b[1;36m0.89\u001b[0m||I-i feel the heat of the sun. the pain of the bee-sting\u001b[33m...\u001b[0m the heavy weight of my pack! every human discomfort\u001b[33m...\u001b[0m good grief! i've lost all my super-powers. ve become an ordinary mortal in this world.\n",
       "ResultOCRExtracted#block \u001b[1;36m16\u001b[0m: \u001b[1;36m0.95\u001b[0m||Get back! that enormous spider- like creature is going berserk, \u001b[1;36m25\u001b[0m if the sight of us excited him into mad spinning g \u001b[1m[\u001b[0m\n",
       "\n",
       " ---------- Pad \u001b[1;36m8\u001b[0m, fract. \u001b[1;36m0.2\u001b[0m ----------\n",
       "ResultOCRExtracted#block \u001b[1;36m00\u001b[0m: \u001b[1;36m1.00\u001b[0m||Suddenly\u001b[33m...\u001b[0m\n",
       "ResultOCRExtracted#block \u001b[1;36m01\u001b[0m: \u001b[1;36m0.87\u001b[0m||Gasp/z everything s w- whirling around me!i can't stand up.\n",
       "ResultOCRExtracted#block \u001b[1;36m02\u001b[0m: \u001b[1;36m0.84\u001b[0m||Clark! i'm falling’ _ help! help!\n",
       "ResultOCRExtracted#block \u001b[1;36m03\u001b[0m: \u001b[1;36m0.73\u001b[0m||I-i'm passing ohhha.\n",
       "ResultOCRExtracted#block \u001b[1;36m04\u001b[0m: \u001b[1;36m0.92\u001b[0m||Action comics\n",
       "ResultOCRExtracted#block \u001b[1;36m05\u001b[0m: \u001b[1;36m0.95\u001b[0m||Then, seconds later.\n",
       "ResultOCRExtracted#block \u001b[1;36m06\u001b[0m: \u001b[1;36m0.90\u001b[0m||Great caesar's ghost! f this \u001b[35m/\u001b[0m§ black magic! : we've been transported to the weirdest world i ever saw!\n",
       "ResultOCRExtracted#block \u001b[1;36m07\u001b[0m: \u001b[1;36m0.92\u001b[0m||\u001b[33m...\u001b[0mit certainly isnt our earth, perry! look at the size of those bees.\n",
       "ResultOCRExtracted#block \u001b[1;36m08\u001b[0m: \u001b[1;36m0.88\u001b[0m||Watch out, clark!\n",
       "ResultOCRExtracted#block \u001b[1;36m09\u001b[0m: \u001b[1;36m0.67\u001b[0m||Owwww.,\n",
       "ResultOCRExtracted#block \u001b[1;36m10\u001b[0m: \u001b[1;36m0.99\u001b[0m||Yet the bee's stinger went right through my uniform and penetrated my skin! that means. the fabric of my superman costume has become ordinary cloth!\n",
       "ResultOCRExtracted#block \u001b[1;36m11\u001b[0m: \u001b[1;36m0.96\u001b[0m||Hurry! let's beat it before we get stung, too!\n",
       "ResultOCRExtracted#block \u001b[1;36m12\u001b[0m: \u001b[1;36m0.91\u001b[0m||Ggreat guns!\u001b[33m...\u001b[0m2gasp/:\u001b[33m...\u001b[0m pain i feel fan! as superman, i should be invulnerable! \u001b[1;36m1\u001b[0m have unbreakabl skin! under my clark kent clothes, i'm wearing an indestructible superman uniform !\n",
       "ResultOCRExtracted#block \u001b[1;36m13\u001b[0m: \u001b[1;36m0.96\u001b[0m||Abruptly\u001b[33m...\u001b[0m.\n",
       "ResultOCRExtracted#block \u001b[1;36m14\u001b[0m: \u001b[1;36m0.93\u001b[0m||Great caesar's ghost! he's spinning _ a web of g/ant, \"silk strands -- as tough as steel!\n",
       "ResultOCRExtracted#block \u001b[1;36m15\u001b[0m: \u001b[1;36m0.89\u001b[0m||I-i feel the heat of the sun., the pain of the bee-sting\u001b[33m...\u001b[0m the heavy weight of my pack! every human discomfort\u001b[33m...\u001b[0m good grief! i've lost all my super-powers. ve become an ordinary mortal in this world.\n",
       "ResultOCRExtracted#block \u001b[1;36m16\u001b[0m: \u001b[1;36m0.96\u001b[0m||Get back! that enormous spider- like creature is going berserk, as if the sight of us excited him into mad spinning gs \u001b[1m[\u001b[0m\n",
       "\n",
       "\n"
      ]
     },
     "metadata": {},
     "output_type": "display_data"
    }
   ],
   "source": [
    "image_action_experiment: ExperimentOCR = cast(ExperimentOCR, ExperimentOCR.from_image(\n",
    "                            CONTEXT, RUN_NAME, 'Action_Comics_1960-01-00_(262).JPG'))\n",
    "image_action_experiment.display()\n"
   ]
  },
  {
   "cell_type": "code",
   "execution_count": null,
   "metadata": {},
   "outputs": [
    {
     "data": {
      "image/png": "[encoded data removed]",
      "text/plain": [
       "<Figure size 1000x500 with 1 Axes>"
      ]
     },
     "metadata": {},
     "output_type": "display_data"
    }
   ],
   "source": [
    "image_action_experiment.plot_accuracies()\n"
   ]
  },
  {
   "cell_type": "code",
   "execution_count": null,
   "metadata": {},
   "outputs": [
    {
     "data": {
      "text/html": [
       "<table><colgroup><col style='width: 201px;'/><col style='width: auto;'/></colgroup><tr><td style='text-align: center;'><img src=\"../experiment/cache/Action_Comics_1960-01-00_(262)/.crop/Action_Comics_1960-01-00_(262)_14_Padded 4px.png\"/></td><td style='font-size: 12pt; text-align: left; '>Great caesars ghost. he's spinning a web of g/ant, | silk strands as tough as steel!<br/><strong><span style='color: red;'>0.91</span></strong></td></tr></table>\n",
       "<br/>\n",
       "<pre style='font-size: 14px;'><div style='font-family: monospace; white-space: pre-wrap;'>Great Caesar&#x27;s Ghost! He&#x27;s spinning a web of giant,<span style='color: green;'>&#x2395;&#x2395;</span> silk strands-- as tough as steel!</div><br/><div style='font-family: monospace; white-space: pre-wrap;'>Great <span style='color: red;'>c</span>aesar<span style='color: red;'>&#x2395;</span>s <span style='color: red;'>g</span>host<span style='color: red;'>.</span> <span style='color: red;'>h</span>e&#x27;s spinning a web of g<span style='color: red;'>/</span>ant,<span style='color: red;'>⎕|</span> silk strands<span style='color: red;'>&#x2395;&#x2395;</span> as tough as steel!</div></pre>"
      ],
      "text/plain": [
       "<IPython.core.display.HTML object>"
      ]
     },
     "metadata": {},
     "output_type": "display_data"
    }
   ],
   "source": [
    "image_action_experiment.result(14, CropMethod.PADDED_4)\n"
   ]
  },
  {
   "cell_type": "code",
   "execution_count": null,
   "metadata": {},
   "outputs": [
    {
     "data": {
      "image/png": "[encoded data removed]",
      "text/plain": [
       "<Figure size 1000x500 with 1 Axes>"
      ]
     },
     "metadata": {},
     "output_type": "display_data"
    }
   ],
   "source": [
    "image_action_experiment.perform_methods(plot_acc=True)\n"
   ]
  },
  {
   "cell_type": "markdown",
   "metadata": {},
   "source": [
    "# Everything Everywhere All at Once\n"
   ]
  },
  {
   "cell_type": "markdown",
   "metadata": {},
   "source": [
    "## ExperimentsVisor"
   ]
  },
  {
   "cell_type": "code",
   "execution_count": null,
   "metadata": {},
   "outputs": [],
   "source": [
    "#| export\n",
    "\n",
    "class ExperimentsVisor(ContextVisor):\n",
    "    ctx: OCRExperimentContext\n",
    "\n",
    "    def update_output(self, \n",
    "            run_name: RunIdT | None = None,\n",
    "            image_idx: ImgIdT | None = None,\n",
    "            display_option: DisplayOptions | None = None, \n",
    "            msg: str | None = None,\n",
    "            **kwargs):\n",
    "        (run_selector, image_selector, content_selector, \n",
    "            result_visor, _, message_visor) = self._comps()\n",
    "        if msg is not None and msg != MessageVisor.EMPTY:\n",
    "            message_visor.update_output(msg=msg)\n",
    "        if run_name is not None:\n",
    "            run = OCRExperimentRun(run_selector.ctx, run_name)\n",
    "            exp_ctx = result_visor.ctx\n",
    "            exp_ctx.run = run\n",
    "            result_visor.ctx = exp_ctx\n",
    "        if image_idx is not None:\n",
    "            img_ctx = ImageContext(self.ctx, image_idx)\n",
    "            result_visor.ctx.ctx = img_ctx\n",
    "            display_option = content_selector.values['display_option']\n",
    "        if display_option is not None and display_option != DisplayOptions.RESULTS:\n",
    "            result_visor.hide()\n",
    "            if display_option == DisplayOptions.BEST_RESULTS:\n",
    "                result_visor.best_results()\n",
    "            elif display_option == DisplayOptions.ACCURACY:\n",
    "                result_visor.ctx.plot_accuracies()\n",
    "            elif display_option == DisplayOptions.DATAFRAME:\n",
    "                result_visor.pd_to_html()\n",
    "            else:\n",
    "                content_selector.display_content(image_selector.image_ctx, display_option)\n",
    "        else:\n",
    "            result_visor.show()\n",
    "            result_visor.update_output(**kwargs)\n",
    "\n",
    "\n",
    "    @property\n",
    "    def status_visor(self) -> StatusVisor: return cast(StatusVisor, self.comps['status_visor'])\n",
    "    @property\n",
    "    def message_visor(self) -> MessageVisor: return cast(MessageVisor, self.comps['message_visor'])\n",
    "    @property\n",
    "    def image_context(self) -> ImageContext: \n",
    "        return ImageContext(self.ctx, self.comps['image_selector'].values['image_idx'])\n",
    "    @property\n",
    "    def run_name(self) -> str: return cast(str, self.comps['run_selector'].values['run_name'])\n",
    "    @property\n",
    "    def image_experiment(self) -> ExperimentOCR: return ExperimentOCR(self.image_context, self.run_name)\n",
    "\n",
    "    def _comps(self):\n",
    "        cc = self.comps\n",
    "        rsel: RunSelector = cc['run_selector']  # type: ignore\n",
    "        isel: ImageSelector = cc['image_selector']  # type: ignore\n",
    "        cs: ContentSelector = cc['content_selector']  # type: ignore\n",
    "        rv: ResultVisor = cc['result_visor']  # type: ignore\n",
    "        sv: StatusVisor = cc['status_visor']  # type: ignore\n",
    "        mv: MessageVisor = cc['message_visor']  # type: ignore\n",
    "        return rsel, isel, cs, rv, sv, mv\n",
    "\n",
    "    def setup_ui(self):\n",
    "        ctls = self.controls.values()\n",
    "        rselw, iselw, csw, rvw, svw, _ = [_.w for _ in self._comps()]\n",
    "        return W.VBox([W.HBox([rselw, iselw, csw, svw, *ctls]), rvw])\n",
    "\n",
    "    def save(self, b):\n",
    "        ctx = self.ctx\n",
    "        fp = ctx.save()\n",
    "        self.update(msg=f\"'{ctx.name}' experiment saved on {fp}\")\n",
    "\n",
    "    def reset(self, b): \n",
    "        image_idx = self.comps['image_selector'].values['image_idx']\n",
    "        self.ctx.reset_results(image_idx=image_idx)\n",
    "\n",
    "    def setup_ux(self):\n",
    "        self.status_visor.save_button.on_click(self.save)\n",
    "        self.status_visor.reset_button.on_click(self.reset)\n",
    "\n",
    "    def setup_experiment_context(self, \n",
    "            ocr_model: str | None = None,\n",
    "            root_dir: Path | str | None = None, \n",
    "            config: cfg.Config | None = None, \n",
    "            run_names: list[str] | None = None,\n",
    "        ):\n",
    "        ctx = OCRExperimentContext(ocr_model or 'Tesseract', root_dir, config=config)  # type: ignore\n",
    "                    \n",
    "        for run_name in run_names or ['Tesseract-crop-post', 'Tesseract-crop']:\n",
    "            OCRExperimentRun(ctx, run_name)\n",
    "        return ctx\n",
    "\n",
    "    def __init__(self, \n",
    "            ctx: OCRExperimentContext | None = None, \n",
    "            ocr_model: str | None = None,\n",
    "            root_dir: Path | str | None = None, \n",
    "            config: cfg.Config | None = None, \n",
    "            image_idx: ImgIdT | str | Path = 0,\n",
    "            run_name: str | None = None, \n",
    "            run_names: list[str] | None = None,\n",
    "            display_option: DisplayOptions = DisplayOptions.RESULTS,\n",
    "            all_boxes: bool = False,\n",
    "            box_idx: int = 0,\n",
    "            all_methods: bool = False,\n",
    "            method: CropMethod=CropMethod.INITIAL_BOX,\n",
    "            # ocr_model: OCRModel = OCRModel.TESSERACT,\n",
    "            # ocr_models: dict[str, OCRModel] = {'Tesseract': OCRModel.TESSERACT},\n",
    "            out: W.Output | None = None,\n",
    "        ):\n",
    "        if ctx is None:\n",
    "            ctx = self.setup_experiment_context(ocr_model, root_dir, config, run_names)\n",
    "        _ = ImageContext(ctx, image_idx)  # raises if image_idx is out of range\n",
    "        \n",
    "        out = out or self.out\n",
    "        run_selector = RunSelector(ctx, run_name, run_names, out=out)\n",
    "        exp = ExperimentOCR.from_image(ctx, run_selector.values['run_name'], image_idx)\n",
    "        image_selector = ImageSelector(ctx, image_idx=image_idx, out=out)\n",
    "        content_selector = ContentSelector(ctx, display_option=display_option, out=out)\n",
    "        result_visor = ResultVisor(exp, out=out,\n",
    "            all_boxes=all_boxes, box_idx=box_idx, all_methods=all_methods, method=method,\n",
    "            ctxs={'spinner': Spinner(ctx, 20, 3)}\n",
    "            )\n",
    "        status_visor = StatusVisor(ctx, out=None)\n",
    "        message_visor = MessageVisor(MessageVisor.EMPTY, out=out)\n",
    "        \n",
    "        super().__init__(ctx, {}, out=out, \n",
    "                    ctxs={'run_selector': run_selector, #'model_selector': model_selector, \n",
    "                        'image_selector': image_selector, 'content_selector': content_selector, \n",
    "                        'result_visor': result_visor, \n",
    "                        'status_visor': status_visor, \n",
    "                        'message_visor': message_visor,\n",
    "                        },\n",
    "                    )\n"
   ]
  },
  {
   "cell_type": "markdown",
   "metadata": {},
   "source": [
    "## Visualize all"
   ]
  },
  {
   "cell_type": "code",
   "execution_count": null,
   "metadata": {},
   "outputs": [
    {
     "data": {
      "application/vnd.jupyter.widget-view+json": {
       "model_id": "7e1e9e277ddd4b128af5a5623364528a",
       "version_major": 2,
       "version_minor": 0
      },
      "text/plain": [
       "VBox(children=(HTML(value=\"<style id='stl-13714597840'>\\n    .wrapper-spinner {\\n        overflow: hidden;\\n  …"
      ]
     },
     "metadata": {},
     "output_type": "display_data"
    }
   ],
   "source": [
    "cleanupwidgets('experiments_visor')\n",
    "\n",
    "tesseract_experiment = ExperimentsVisor(image_idx=BASE_IMAGE_IDX)\n",
    "tesseract_experiment.display()\n",
    "\n",
    "test_eq(tesseract_experiment.all_values, {\n",
    "    'run_selector': {'run_name': 'Tesseract-crop-post'},\n",
    "    'image_selector': {'image_idx': BASE_IMAGE_IDX},\n",
    "    'content_selector': {'display_option': DisplayOptions.RESULTS},\n",
    "    'result_visor': {\n",
    "        'all_boxes': False,\n",
    "        'box_idx': 0,\n",
    "        'all_methods': False,\n",
    "        'method': CropMethod.INITIAL_BOX,\n",
    "    },\n",
    "    # 'status_visor': {'dirty': True},\n",
    "    'status_visor': {},\n",
    "    'message_visor': {'msg': MessageVisor.EMPTY},\n",
    "    'self': {}\n",
    "})\n"
   ]
  },
  {
   "cell_type": "code",
   "execution_count": null,
   "metadata": {},
   "outputs": [],
   "source": [
    "# image_ctx = tesseract_experiment.image_context\n",
    "# image_ctx.setup_ground_truth()\n",
    "# image_ctx.gts()\n"
   ]
  },
  {
   "cell_type": "code",
   "execution_count": null,
   "metadata": {},
   "outputs": [],
   "source": [
    "# image_experiment = tesseract_experiment.image_experiment\n",
    "# image_experiment.save_results_as_ground_truth()\n",
    "\n"
   ]
  },
  {
   "cell_type": "code",
   "execution_count": null,
   "metadata": {},
   "outputs": [],
   "source": [
    "tesseract_experiment.all_controls['box_idx'].value += 1\n"
   ]
  },
  {
   "cell_type": "code",
   "execution_count": null,
   "metadata": {},
   "outputs": [],
   "source": [
    "tesseract_experiment.status_visor.save_button.click()\n"
   ]
  },
  {
   "cell_type": "code",
   "execution_count": null,
   "metadata": {},
   "outputs": [],
   "source": [
    "tesseract_experiment.update(display_option=DisplayOptions.BOXES)\n"
   ]
  },
  {
   "cell_type": "code",
   "execution_count": null,
   "metadata": {},
   "outputs": [],
   "source": [
    "tesseract_experiment.all_controls['image_idx'].value = 1"
   ]
  },
  {
   "cell_type": "markdown",
   "metadata": {},
   "source": [
    "# Colophon\n",
    "----\n"
   ]
  },
  {
   "cell_type": "code",
   "execution_count": null,
   "metadata": {},
   "outputs": [],
   "source": [
    "import fastcore.all as FC\n",
    "from nbdev.export import nb_export\n"
   ]
  },
  {
   "cell_type": "code",
   "execution_count": null,
   "metadata": {},
   "outputs": [],
   "source": [
    "if FC.IN_NOTEBOOK:\n",
    "    nb_export('experiments.ipynb', '../testbed')\n"
   ]
  }
 ],
 "metadata": {
  "kernelspec": {
   "display_name": "python3",
   "language": "python",
   "name": "python3"
  }
 },
 "nbformat": 4,
 "nbformat_minor": 4
}

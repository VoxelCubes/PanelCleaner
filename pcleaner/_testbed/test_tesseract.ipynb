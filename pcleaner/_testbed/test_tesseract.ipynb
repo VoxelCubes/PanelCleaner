{
 "cells": [
  {
   "cell_type": "markdown",
   "metadata": {},
   "source": [
    "# Testing `Tesseract` OCR for comics\n",
    "> Accuracy Enhancements for OCR in `PanelCleaner`\n"
   ]
  },
  {
   "cell_type": "markdown",
   "metadata": {},
   "source": [
    "In this notebook, you can test how Tesseract performs with texts from a diverse array of comics, manga, languages, and styles. You can run this notebook locally using Jupyter Lab/Notebook or on any Jupyter-compatible platform like Google Colab or VSCode.\n",
    "\n",
    "We'll begin by setting up [PanelCleaner](https://github.com/VoxelCubes/PanelCleaner) and the [testbed](https://github.com/civvic/PanelCleaner/tree/testbed) in Colab, though the instructions are applicable to other platforms such as [Kaggle](https://www.kaggle.com/code). We will then verify the Tesseract installation, prime an `ExperimentContext`, and create a visor to experiment with different parameters and configurations.  \n",
    "\n",
    "**New to Jupyter Notebooks?** If you are not familiar with Jupyter environments, consider exploring the [Introduction to Colab](https://colab.research.google.com/notebooks/intro.ipynb) and the others provided by Google. It offers a quick and comprehensive guide to using Jupyter Notebooks effectively. The Jupyter project is a great way to learn about the notebook interface and the [Jupyter ecosystem](https://jupyter.org/)."
   ]
  },
  {
   "cell_type": "markdown",
   "metadata": {},
   "source": [
    "# Settings for Google Colab"
   ]
  },
  {
   "cell_type": "markdown",
   "metadata": {},
   "source": [
    "To efficiently manage the image sources for our experiments, we recommend mounting your Google Drive and storing the experiment files there. If you are not familiar with Colab or Jupyter environments, it's best to leave these settings at their default values to ensure smooth operation.\n",
    "\n",
    "- Set `MOUNT_DRIVE` to `True` to enable mounting Google Drive in the Colab environment.\n",
    "This allows the notebook to access files stored in your Google Drive.\n",
    "\n",
    "- `GDRIVE_MOUNT_POINT` specifies the local directory in Colab where your Google Drive will be mounted.\n",
    "This acts as the root directory for accessing any files within your Google Drive from the notebook.\n",
    "\n",
    "- `PANELCLEANER_IN_GDRIVE` specifies the path within your Google Drive where the PanelCleaner project is located.\n",
    "This path is used to access or store any files related to the PanelCleaner project directly from Google Drive.\n"
   ]
  },
  {
   "cell_type": "code",
   "execution_count": null,
   "metadata": {},
   "outputs": [],
   "source": [
    "MOUNT_DRIVE = True\n",
    "GDRIVE_MOUNT_POINT = 'drive'\n",
    "PANELCLEANER_IN_GDRIVE = 'MyDrive/Shared/PanelCleaner'"
   ]
  },
  {
   "cell_type": "markdown",
   "metadata": {},
   "source": [
    "## install (Colab)\n"
   ]
  },
  {
   "cell_type": "code",
   "execution_count": null,
   "metadata": {},
   "outputs": [],
   "source": [
    "import fastcore.all as FC\n",
    "import os\n",
    "import re\n",
    "import sys\n",
    "from pathlib import Path\n",
    "\n",
    "from rich import print as cprint\n",
    "from rich.text import Text\n",
    "\n",
    "def info(msg: str):\n",
    "    (t := Text(msg)).stylize(\"bold red\", 0, 6)\n",
    "    cprint(\"_\" * 10, t, \"_\" * 10)\n"
   ]
  },
  {
   "cell_type": "markdown",
   "metadata": {},
   "source": [
    "Mount Google Drive"
   ]
  },
  {
   "cell_type": "code",
   "execution_count": null,
   "metadata": {},
   "outputs": [],
   "source": [
    "mnt_point = Path(f\"/content/{GDRIVE_MOUNT_POINT}\")\n",
    "if FC.IN_COLAB:\n",
    "    if MOUNT_DRIVE:\n",
    "        if not mnt_point.exists():\n",
    "            info(\"Mounting Google Drive\")\n",
    "            from google.colab import drive\n",
    "            drive.mount(str(mnt_point), force_remount=True)\n"
   ]
  },
  {
   "cell_type": "markdown",
   "metadata": {},
   "source": [
    "### Install **PanelCleaner**\n",
    "\n",
    "> We will attempt to use the version of **PanelCleaner** stored in your Google Drive. If it's not available, we'll install it from GitHub.\n",
    "\n",
    "Note that we specifically require the `testbed` branch of the **PanelCleaner** repository, not the main trunk. This branch contains necessary configurations and experimental features that are crucial for the tests conducted in this notebook."
   ]
  },
  {
   "cell_type": "code",
   "execution_count": null,
   "metadata": {},
   "outputs": [],
   "source": [
    "if FC.IN_COLAB:\n",
    "    pc_path = mnt_point/PANELCLEANER_IN_GDRIVE\n",
    "    tb_path = pc_path/'pcleaner/_testbed'\n",
    "    if tb_path.exists():\n",
    "        info('Installing PanelCleaner from your Google Drive')\n",
    "    else:\n",
    "        info('Installing PanelCleaner from GitHub')\n",
    "        !rm -rf PanelCleaner\n",
    "        !git clone -b testbed https://github.com/civvic/PanelCleaner.git\n",
    "        pc_path = Path('PanelCleaner').absolute()\n",
    "        tb_path = pc_path/'pcleaner/_testbed'\n",
    "    assert tb_path.exists(), \"PanelCleaner not found\"\n",
    "    os.chdir(tb_path)\n",
    "    sys.path.insert(0, f\"{tb_path}\")\n",
    "    sys.path.insert(0, f\"{pc_path}\")\n",
    "    !pip install -q -r requirements-colab.txt\n"
   ]
  },
  {
   "cell_type": "markdown",
   "metadata": {},
   "source": [
    "# Prologue\n",
    "\n",
    "In this section, we import essential components from the `PanelCleaner` testbed. `ExperimentsVisor` is used to manage and visualize the experiments, `CropMethod` defines the cropping strategies for image preprocessing, and `OCRExperimentContext` sets up the context for OCR experiments.\n",
    "\n",
    "If you're curious about the inner workings of these components, you can explore the notebooks that develop them in the `nbs` folder, or check out the source code they generate in the `testbed` directory. For instance, see [experiments.ipynb](nbs/experiments.ipynb) and [`_testbed/testbed/experiments.py`](testbed/experiments.py) for more details."
   ]
  },
  {
   "cell_type": "code",
   "execution_count": null,
   "metadata": {},
   "outputs": [],
   "source": [
    "from testbed.experiments import ExperimentsVisor, CropMethod, OCRExperimentContext\n"
   ]
  },
  {
   "cell_type": "markdown",
   "metadata": {},
   "source": [
    "## Tesseract setup\n",
    "> This section ensures that Tesseract OCR is correctly installed and configured for our experiments. We require Tesseract version 5.x due to its improved accuracy and features.\n"
   ]
  },
  {
   "cell_type": "markdown",
   "metadata": {},
   "source": [
    "> **NOTE:** In the following cells, lines starting with an exclamation mark `!` (also known as a \"bang\") are shell commands. Uncomment these lines if you wish to execute the commands directly from this notebook."
   ]
  },
  {
   "cell_type": "markdown",
   "metadata": {},
   "source": [
    "### Check Current Tesseract Version"
   ]
  },
  {
   "cell_type": "code",
   "execution_count": null,
   "metadata": {},
   "outputs": [
    {
     "data": {
      "text/html": [
       "<pre style=\"white-space:pre;overflow-x:auto;line-height:normal;font-family:Menlo,'DejaVu Sans Mono',consolas,'Courier New',monospace\">Correct version of Tesseract is installed.\n",
       "</pre>\n"
      ],
      "text/plain": [
       "Correct version of Tesseract is installed.\n"
      ]
     },
     "metadata": {},
     "output_type": "display_data"
    }
   ],
   "source": [
    "import subprocess\n",
    "\n",
    "def check_tesseract_version():\n",
    "    version_output = subprocess.run([\"tesseract\", \"--version\"], capture_output=True, text=True)\n",
    "    if 'tesseract 5.' in version_output.stdout:\n",
    "        cprint(\"Correct version of Tesseract is installed.\")\n",
    "    else:\n",
    "        cprint(\"No version or Incorrect version of Tesseract is installed. Please install Tesseract 5.x.\")\n",
    "\n",
    "check_tesseract_version()"
   ]
  },
  {
   "cell_type": "markdown",
   "metadata": {},
   "source": [
    "### Remove Tesseract installation\n",
    "> I you have the old 4.x version, you should consider removing the installation with the following commands.\n"
   ]
  },
  {
   "cell_type": "markdown",
   "metadata": {},
   "source": [
    "#### Mac (TBD)"
   ]
  },
  {
   "cell_type": "markdown",
   "metadata": {},
   "source": [
    "#### WIndows (TBD)"
   ]
  },
  {
   "cell_type": "markdown",
   "metadata": {},
   "source": [
    "#### Ubuntu"
   ]
  },
  {
   "cell_type": "code",
   "execution_count": null,
   "metadata": {},
   "outputs": [],
   "source": [
    "# !sudo apt-get remove tesseract-ocr\n"
   ]
  },
  {
   "cell_type": "markdown",
   "metadata": {},
   "source": [
    "### Install Tesseract 5.x (if necessary)"
   ]
  },
  {
   "cell_type": "markdown",
   "metadata": {},
   "source": [
    "#### Mac (TBD)"
   ]
  },
  {
   "cell_type": "markdown",
   "metadata": {},
   "source": [
    "#### WIndows (TBD)"
   ]
  },
  {
   "cell_type": "markdown",
   "metadata": {},
   "source": [
    "#### Linux (Ubuntu)"
   ]
  },
  {
   "cell_type": "markdown",
   "metadata": {},
   "source": [
    "The **5.x** release series is available in the [another PPA](https://launchpad.net/~alex-p/+archive/ubuntu/tesseract-ocr5) for Ubuntu **18.04**, **20.04**, and **22.04**.\n"
   ]
  },
  {
   "cell_type": "code",
   "execution_count": null,
   "metadata": {},
   "outputs": [],
   "source": [
    "# !sudo add-apt-repository -y ppa:alex-p/tesseract-ocr5"
   ]
  },
  {
   "cell_type": "markdown",
   "metadata": {},
   "source": [
    "refresh system package cache in case you’re still running old Ubuntu 18.04"
   ]
  },
  {
   "cell_type": "code",
   "execution_count": null,
   "metadata": {},
   "outputs": [],
   "source": [
    "# !sudo apt update"
   ]
  },
  {
   "cell_type": "markdown",
   "metadata": {},
   "source": [
    "install the software engine"
   ]
  },
  {
   "cell_type": "code",
   "execution_count": null,
   "metadata": {},
   "outputs": [],
   "source": [
    "# !sudo apt install -y tesseract-ocr"
   ]
  },
  {
   "cell_type": "markdown",
   "metadata": {},
   "source": [
    "\n",
    "### Re-check version after installation"
   ]
  },
  {
   "cell_type": "code",
   "execution_count": null,
   "metadata": {},
   "outputs": [
    {
     "data": {
      "text/html": [
       "<pre style=\"white-space:pre;overflow-x:auto;line-height:normal;font-family:Menlo,'DejaVu Sans Mono',consolas,'Courier New',monospace\">Correct version of Tesseract is installed.\n",
       "</pre>\n"
      ],
      "text/plain": [
       "Correct version of Tesseract is installed.\n"
      ]
     },
     "metadata": {},
     "output_type": "display_data"
    }
   ],
   "source": [
    "check_tesseract_version()\n"
   ]
  },
  {
   "cell_type": "markdown",
   "metadata": {},
   "source": [
    "### Install Tesseract languages"
   ]
  },
  {
   "cell_type": "code",
   "execution_count": null,
   "metadata": {},
   "outputs": [
    {
     "data": {
      "text/html": [
       "<pre style=\"white-space:pre;overflow-x:auto;line-height:normal;font-family:Menlo,'DejaVu Sans Mono',consolas,'Courier New',monospace\">tessdata path: <span style=\"color: #800080; text-decoration-color: #800080\">/opt/homebrew/share/</span><span style=\"color: #ff00ff; text-decoration-color: #ff00ff\">tessdata</span>\n",
       "</pre>\n"
      ],
      "text/plain": [
       "tessdata path: \u001b[35m/opt/homebrew/share/\u001b[0m\u001b[95mtessdata\u001b[0m\n"
      ]
     },
     "metadata": {},
     "output_type": "display_data"
    },
    {
     "data": {
      "text/html": [
       "<pre style=\"white-space:pre;overflow-x:auto;line-height:normal;font-family:Menlo,'DejaVu Sans Mono',consolas,'Courier New',monospace\">Installed languages:\n",
       "<span style=\"font-weight: bold\">[</span>\n",
       "    <span style=\"color: #008000; text-decoration-color: #008000\">'afr, amh, ara, asm, aze, aze_cyrl, bel, ben, bod, bos, bre, bul, cat, ceb, ces'</span>,\n",
       "    <span style=\"color: #008000; text-decoration-color: #008000\">'chi_sim, chi_sim_vert, chi_tra, chi_tra_vert, chr, cos, cym, dan, deu, div, dzo, ell, eng, enm, epo'</span>,\n",
       "    <span style=\"color: #008000; text-decoration-color: #008000\">'equ, est, eus, fao, fas, fil, fin, fra, frk, frm, fry, gla, gle, glg, grc'</span>,\n",
       "    <span style=\"color: #008000; text-decoration-color: #008000\">'guj, hat, heb, hin, hrv, hun, hye, iku, ind, isl, ita, ita_old, jav, jpn, jpn_vert'</span>,\n",
       "    <span style=\"color: #008000; text-decoration-color: #008000\">'kan, kat, kat_old, kaz, khm, kir, kmr, kor, kor_vert, lao, lat, lav, lit, ltz, mal'</span>,\n",
       "    <span style=\"color: #008000; text-decoration-color: #008000\">'mar, mkd, mlt, mon, mri, msa, mya, nep, nld, nor, oci, ori, osd, pan, pol'</span>,\n",
       "    <span style=\"color: #008000; text-decoration-color: #008000\">'por, pus, que, ron, rus, san, script/Arabic, script/Armenian, script/Bengali, script/Canadian_Aboriginal, </span>\n",
       "<span style=\"color: #008000; text-decoration-color: #008000\">script/Cherokee, script/Cyrillic, script/Devanagari, script/Ethiopic, script/Fraktur'</span>,\n",
       "    <span style=\"color: #008000; text-decoration-color: #008000\">'script/Georgian, script/Greek, script/Gujarati, script/Gurmukhi, script/HanS, script/HanS_vert, script/HanT, </span>\n",
       "<span style=\"color: #008000; text-decoration-color: #008000\">script/HanT_vert, script/Hangul, script/Hangul_vert, script/Hebrew, script/Japanese, script/Japanese_vert, </span>\n",
       "<span style=\"color: #008000; text-decoration-color: #008000\">script/Kannada, script/Khmer'</span>,\n",
       "    <span style=\"color: #008000; text-decoration-color: #008000\">'script/Lao, script/Latin, script/Malayalam, script/Myanmar, script/Oriya, script/Sinhala, script/Syriac, </span>\n",
       "<span style=\"color: #008000; text-decoration-color: #008000\">script/Tamil, script/Telugu, script/Thaana, script/Thai, script/Tibetan, script/Vietnamese, sin, slk'</span>,\n",
       "    <span style=\"color: #008000; text-decoration-color: #008000\">'slv, snd, snum, spa, spa_old, sqi, srp, srp_latn, sun, swa, swe, syr, tam, tat, tel'</span>,\n",
       "    <span style=\"color: #008000; text-decoration-color: #008000\">'tgk, tha, tir, ton, tur, uig, ukr, urd, uzb, uzb_cyrl, vie, yid, yor'</span>\n",
       "<span style=\"font-weight: bold\">]</span>\n",
       "</pre>\n"
      ],
      "text/plain": [
       "Installed languages:\n",
       "\u001b[1m[\u001b[0m\n",
       "    \u001b[32m'afr, amh, ara, asm, aze, aze_cyrl, bel, ben, bod, bos, bre, bul, cat, ceb, ces'\u001b[0m,\n",
       "    \u001b[32m'chi_sim, chi_sim_vert, chi_tra, chi_tra_vert, chr, cos, cym, dan, deu, div, dzo, ell, eng, enm, epo'\u001b[0m,\n",
       "    \u001b[32m'equ, est, eus, fao, fas, fil, fin, fra, frk, frm, fry, gla, gle, glg, grc'\u001b[0m,\n",
       "    \u001b[32m'guj, hat, heb, hin, hrv, hun, hye, iku, ind, isl, ita, ita_old, jav, jpn, jpn_vert'\u001b[0m,\n",
       "    \u001b[32m'kan, kat, kat_old, kaz, khm, kir, kmr, kor, kor_vert, lao, lat, lav, lit, ltz, mal'\u001b[0m,\n",
       "    \u001b[32m'mar, mkd, mlt, mon, mri, msa, mya, nep, nld, nor, oci, ori, osd, pan, pol'\u001b[0m,\n",
       "    \u001b[32m'por, pus, que, ron, rus, san, script/Arabic, script/Armenian, script/Bengali, script/Canadian_Aboriginal, \u001b[0m\n",
       "\u001b[32mscript/Cherokee, script/Cyrillic, script/Devanagari, script/Ethiopic, script/Fraktur'\u001b[0m,\n",
       "    \u001b[32m'script/Georgian, script/Greek, script/Gujarati, script/Gurmukhi, script/HanS, script/HanS_vert, script/HanT, \u001b[0m\n",
       "\u001b[32mscript/HanT_vert, script/Hangul, script/Hangul_vert, script/Hebrew, script/Japanese, script/Japanese_vert, \u001b[0m\n",
       "\u001b[32mscript/Kannada, script/Khmer'\u001b[0m,\n",
       "    \u001b[32m'script/Lao, script/Latin, script/Malayalam, script/Myanmar, script/Oriya, script/Sinhala, script/Syriac, \u001b[0m\n",
       "\u001b[32mscript/Tamil, script/Telugu, script/Thaana, script/Thai, script/Tibetan, script/Vietnamese, sin, slk'\u001b[0m,\n",
       "    \u001b[32m'slv, snd, snum, spa, spa_old, sqi, srp, srp_latn, sun, swa, swe, syr, tam, tat, tel'\u001b[0m,\n",
       "    \u001b[32m'tgk, tha, tir, ton, tur, uig, ukr, urd, uzb, uzb_cyrl, vie, yid, yor'\u001b[0m\n",
       "\u001b[1m]\u001b[0m\n"
      ]
     },
     "metadata": {},
     "output_type": "display_data"
    }
   ],
   "source": [
    "out = !tesseract --list-langs  # type: ignore\n",
    "tessdata = Path(out[0].split('\"')[1])\n",
    "cprint(f\"tessdata path: {tessdata}\")\n",
    "cprint(\"Installed languages:\", [', '.join(sub) for sub in [out[i:i + 15] for i in range(1, len(out), 15)]])"
   ]
  },
  {
   "cell_type": "markdown",
   "metadata": {},
   "source": [
    "####  Install **best** languages and **jpn_ver** Tesseract lang\n",
    "> to get better results than default langs and `jpn` language model.\n"
   ]
  },
  {
   "cell_type": "markdown",
   "metadata": {},
   "source": [
    "Download from [tessdata_best](https://github.com/tesseract-ocr/tessdata_best).  \n",
    "Donwload from [here](https://groups.google.com/g/tesseract-ocr/c/FwjSZzoVgeg/m/u-zyFYQiBgAJ) a model trained for vertical Japanese text as found in manga.\n",
    "\n",
    "See [here](https://tesseract-ocr.github.io/tessdoc/Data-Files-in-different-versions.html) the languages codes.\n",
    "\n",
    "**Note:** While the `jpn` and `jpn_vert` language models are available, the `manga-ocr` model use by `PanelCleaner`is generally more suited for manga text recognition. However, comparing these models can provide educational insights into their respective strengths and limitations."
   ]
  },
  {
   "cell_type": "markdown",
   "metadata": {},
   "source": [
    "Uncomment and excute to download the best language models:\n"
   ]
  },
  {
   "cell_type": "code",
   "execution_count": null,
   "metadata": {},
   "outputs": [],
   "source": [
    "# !wget https://raw.githubusercontent.com/tesseract-ocr/tessdata_best/main/osd.traineddata\n",
    "# !wget https://raw.githubusercontent.com/tesseract-ocr/tessdata_best/main/eng.traineddata\n",
    "# !wget https://raw.githubusercontent.com/tesseract-ocr/tessdata_best/main/jpn.traineddata\n",
    "\n",
    "# !wget https://raw.githubusercontent.com/tesseract-ocr/tessdata_best/main/jpn_vert.traineddata\n",
    "# or\n",
    "# !wget -O jpn_vert.traineddata https://github.com/zodiac3539/jpn_vert/blob/master/jpn_ver5.traineddata\n",
    "\n",
    "# !wget https://raw.githubusercontent.com/tesseract-ocr/tessdata_best/main/spa.traineddata\n",
    "# !wget https://raw.githubusercontent.com/tesseract-ocr/tessdata_best/main/fra.traineddata"
   ]
  },
  {
   "cell_type": "markdown",
   "metadata": {},
   "source": [
    "Copy downloaded models to tessdata folder (double check that `tessdata` variable points to the right folder):\n"
   ]
  },
  {
   "cell_type": "code",
   "execution_count": null,
   "metadata": {},
   "outputs": [
    {
     "data": {
      "text/html": [
       "<pre style=\"white-space:pre;overflow-x:auto;line-height:normal;font-family:Menlo,'DejaVu Sans Mono',consolas,'Courier New',monospace\">tessdata path: <span style=\"color: #800080; text-decoration-color: #800080\">/opt/homebrew/share/</span><span style=\"color: #ff00ff; text-decoration-color: #ff00ff\">tessdata</span>\n",
       "</pre>\n"
      ],
      "text/plain": [
       "tessdata path: \u001b[35m/opt/homebrew/share/\u001b[0m\u001b[95mtessdata\u001b[0m\n"
      ]
     },
     "metadata": {},
     "output_type": "display_data"
    }
   ],
   "source": [
    "cprint(f\"tessdata path: {tessdata}\")"
   ]
  },
  {
   "cell_type": "code",
   "execution_count": null,
   "metadata": {},
   "outputs": [],
   "source": [
    "# !sudo mv *.traineddata $tessdata"
   ]
  },
  {
   "cell_type": "markdown",
   "metadata": {},
   "source": [
    "and remove the downloaded models:\n"
   ]
  },
  {
   "cell_type": "code",
   "execution_count": null,
   "metadata": {},
   "outputs": [
    {
     "name": "stdout",
     "output_type": "stream",
     "text": [
      "rm: cannot remove '*.traineddata': No such file or directory\n"
     ]
    }
   ],
   "source": [
    "# !rm *.traineddata"
   ]
  },
  {
   "cell_type": "markdown",
   "metadata": {},
   "source": [
    "Check installed languages\n"
   ]
  },
  {
   "cell_type": "code",
   "execution_count": null,
   "metadata": {},
   "outputs": [
    {
     "data": {
      "text/html": [
       "<pre style=\"white-space:pre;overflow-x:auto;line-height:normal;font-family:Menlo,'DejaVu Sans Mono',consolas,'Courier New',monospace\"><span style=\"font-weight: bold\">[</span>\n",
       "    <span style=\"color: #800080; text-decoration-color: #800080; font-weight: bold\">Path</span><span style=\"font-weight: bold\">(</span><span style=\"color: #008000; text-decoration-color: #008000\">'/opt/homebrew/share/tessdata/spa.traineddata'</span><span style=\"font-weight: bold\">)</span>,\n",
       "    <span style=\"color: #800080; text-decoration-color: #800080; font-weight: bold\">Path</span><span style=\"font-weight: bold\">(</span><span style=\"color: #008000; text-decoration-color: #008000\">'/opt/homebrew/share/tessdata/eng.traineddata'</span><span style=\"font-weight: bold\">)</span>,\n",
       "    <span style=\"color: #800080; text-decoration-color: #800080; font-weight: bold\">Path</span><span style=\"font-weight: bold\">(</span><span style=\"color: #008000; text-decoration-color: #008000\">'/opt/homebrew/share/tessdata/jpn_vert.traineddata'</span><span style=\"font-weight: bold\">)</span>,\n",
       "    <span style=\"color: #800080; text-decoration-color: #800080; font-weight: bold\">Path</span><span style=\"font-weight: bold\">(</span><span style=\"color: #008000; text-decoration-color: #008000\">'/opt/homebrew/share/tessdata/spa_old.traineddata'</span><span style=\"font-weight: bold\">)</span>,\n",
       "    <span style=\"color: #800080; text-decoration-color: #800080; font-weight: bold\">Path</span><span style=\"font-weight: bold\">(</span><span style=\"color: #008000; text-decoration-color: #008000\">'/opt/homebrew/share/tessdata/fra.traineddata'</span><span style=\"font-weight: bold\">)</span>,\n",
       "    <span style=\"color: #800080; text-decoration-color: #800080; font-weight: bold\">Path</span><span style=\"font-weight: bold\">(</span><span style=\"color: #008000; text-decoration-color: #008000\">'/opt/homebrew/share/tessdata/jpn.traineddata'</span><span style=\"font-weight: bold\">)</span>\n",
       "<span style=\"font-weight: bold\">]</span>\n",
       "</pre>\n"
      ],
      "text/plain": [
       "\u001b[1m[\u001b[0m\n",
       "    \u001b[1;35mPath\u001b[0m\u001b[1m(\u001b[0m\u001b[32m'/opt/homebrew/share/tessdata/spa.traineddata'\u001b[0m\u001b[1m)\u001b[0m,\n",
       "    \u001b[1;35mPath\u001b[0m\u001b[1m(\u001b[0m\u001b[32m'/opt/homebrew/share/tessdata/eng.traineddata'\u001b[0m\u001b[1m)\u001b[0m,\n",
       "    \u001b[1;35mPath\u001b[0m\u001b[1m(\u001b[0m\u001b[32m'/opt/homebrew/share/tessdata/jpn_vert.traineddata'\u001b[0m\u001b[1m)\u001b[0m,\n",
       "    \u001b[1;35mPath\u001b[0m\u001b[1m(\u001b[0m\u001b[32m'/opt/homebrew/share/tessdata/spa_old.traineddata'\u001b[0m\u001b[1m)\u001b[0m,\n",
       "    \u001b[1;35mPath\u001b[0m\u001b[1m(\u001b[0m\u001b[32m'/opt/homebrew/share/tessdata/fra.traineddata'\u001b[0m\u001b[1m)\u001b[0m,\n",
       "    \u001b[1;35mPath\u001b[0m\u001b[1m(\u001b[0m\u001b[32m'/opt/homebrew/share/tessdata/jpn.traineddata'\u001b[0m\u001b[1m)\u001b[0m\n",
       "\u001b[1m]\u001b[0m\n"
      ]
     },
     "metadata": {},
     "output_type": "display_data"
    }
   ],
   "source": [
    "cprint(list(filter(lambda x: re.match(r'eng|jpn|jpn_vert|fra|spa', x.name), tessdata.ls())))  # type: ignore\n",
    "# cprint(pytesseract.get_languages())\n"
   ]
  },
  {
   "cell_type": "markdown",
   "metadata": {},
   "source": [
    "----\n",
    "# Tesseract Experiments\n",
    "\n",
    "In this notebook, we focus on applying Tesseract OCR to a variety of comic book images to evaluate its performance across different text styles, languages, and image qualities.  \n",
    "\n",
    "The experiments are specifically designed to explore how different cropping methods affect Tesseract's ability to recognize text in complex visual contexts typical of comic panels. By experimenting with various cropping strategies, we want to determine whether feeding Tesseract single cropped boxes, as opposed to whole pages, can enhance OCR accuracy.\n",
    "\n",
    "## Objectives\n",
    "\n",
    "- **Evaluate basic OCR performance:** Assess how well Tesseract recognizes text across a diverse set of comic book images.\n",
    "- **Test different cropping methods:** Systematically vary the way images are cropped to isolate text boxes and see if this improves the accuracy of text recognition.\n",
    "- **Optimize OCR settings (TBD):** Adjust Tesseract's configuration settings based on the results of the cropping experiments to optimize performance for comic texts.\n"
   ]
  },
  {
   "cell_type": "markdown",
   "metadata": {},
   "source": [
    "## Experiment directory\n",
    "\n",
    "Defines the directory structure for storing images, caching auxiliary data, and saving experiment results.\n",
    "\n",
    "- **Source Directory (`EXP_DIR/source/`):** This is where the original images for the experiments are stored.\n",
    "- **Cache Directory (`EXP_DIR/cache/`):** This directory is used for caching processed images or other auxiliary files that are generated during the experiments.\n",
    "\n",
    "You can modify the default locations of these directories as needed. The default setup assumes that you are working within the `PanelCleaner/pcleaner/_testbed` directory. Use the following code to verify your current working directory and to set up the experiment directory:\n"
   ]
  },
  {
   "cell_type": "code",
   "execution_count": null,
   "metadata": {},
   "outputs": [],
   "source": [
    "EXP_DIR = Path('./experiment')\n"
   ]
  },
  {
   "cell_type": "code",
   "execution_count": null,
   "metadata": {},
   "outputs": [
    {
     "data": {
      "text/html": [
       "<pre style=\"white-space:pre;overflow-x:auto;line-height:normal;font-family:Menlo,'DejaVu Sans Mono',consolas,'Courier New',monospace\">    Working dir: <span style=\"color: #800080; text-decoration-color: #800080\">/Users/vic/dev/repo/DL-mac/PanelCleaner/pcleaner/</span><span style=\"color: #ff00ff; text-decoration-color: #ff00ff\">_testbed</span>\n",
       "Experiments dir: <span style=\"color: #800080; text-decoration-color: #800080\">/Users/vic/dev/repo/DL-mac/PanelCleaner/pcleaner/_testbed/</span><span style=\"color: #ff00ff; text-decoration-color: #ff00ff\">experiment</span>\n",
       "</pre>\n"
      ],
      "text/plain": [
       "    Working dir: \u001b[35m/Users/vic/dev/repo/DL-mac/PanelCleaner/pcleaner/\u001b[0m\u001b[95m_testbed\u001b[0m\n",
       "Experiments dir: \u001b[35m/Users/vic/dev/repo/DL-mac/PanelCleaner/pcleaner/_testbed/\u001b[0m\u001b[95mexperiment\u001b[0m\n"
      ]
     },
     "metadata": {},
     "output_type": "display_data"
    }
   ],
   "source": [
    "cprint(f\"{'Working dir':>15}: {Path('.').resolve()}\\nExperiments dir: {EXP_DIR.resolve()}\")\n"
   ]
  },
  {
   "cell_type": "markdown",
   "metadata": {},
   "source": [
    "# Test images\n",
    "\n",
    "Prepare and manage the comic book images for OCR testing.\n",
    "\n",
    "If you have specific comic book images you want to test, upload them to the `EXP_DIR/source/` directory. Ensure that each image file is accompanied by a corresponding text file containing the ground truth data. The text file should have the same name as the image but with a `.txt` extension. Each line in the text file should represent one text box as detected and processed by PanelCleaner.\n",
    "\n",
    "For those who prefer to use a standardized set of images for comparison purposes, we provide a link to download a pre-selected set of comic book images. After downloading, ensure to place these images in the `EXP_DIR/source/` directory.\n",
    "\n",
    "Optionally, you can include a `.json` file for each image, specifying the language of the text on the page. This file should have the same name as the image and a `.json` extension. Here is an example of the content for a language specification file:\n",
    "\n",
    "```json\n",
    "{\n",
    "\"lang\": \"Spanish\"\n",
    "}\n",
    "```"
   ]
  },
  {
   "cell_type": "code",
   "execution_count": null,
   "metadata": {},
   "outputs": [
    {
     "data": {
      "text/html": [
       "<pre style=\"white-space:pre;overflow-x:auto;line-height:normal;font-family:Menlo,'DejaVu Sans Mono',consolas,'Courier New',monospace\"><span style=\"color: #800080; text-decoration-color: #800080\">/Users/vic/dev/repo/DL-mac/PanelCleaner/pcleaner/_testbed/experiment/</span><span style=\"color: #ff00ff; text-decoration-color: #ff00ff\">source</span>\n",
       "</pre>\n"
      ],
      "text/plain": [
       "\u001b[35m/Users/vic/dev/repo/DL-mac/PanelCleaner/pcleaner/_testbed/experiment/\u001b[0m\u001b[95msource\u001b[0m\n"
      ]
     },
     "metadata": {},
     "output_type": "display_data"
    }
   ],
   "source": [
    "cprint((EXP_DIR/'source').resolve())"
   ]
  },
  {
   "cell_type": "markdown",
   "metadata": {},
   "source": [
    "or download the standard set:\n"
   ]
  },
  {
   "cell_type": "code",
   "execution_count": null,
   "metadata": {},
   "outputs": [],
   "source": [
    "# !gdown --id 1MCqUImwFS5iQ271CD9_t2FSugJXdYj0a -O experiment.zip"
   ]
  },
  {
   "cell_type": "code",
   "execution_count": null,
   "metadata": {},
   "outputs": [],
   "source": [
    "# !unzip -qn experiment.zip -d ."
   ]
  },
  {
   "cell_type": "markdown",
   "metadata": {},
   "source": [
    "# Setup ngrok (Colab)"
   ]
  },
  {
   "cell_type": "markdown",
   "metadata": {},
   "source": [
    "The experiments can generate hundreds of images, and maintaining the **PIL** images in memory is not efficient. All the generated images are cached and visualized on demand through a URL pointing to the local cache. This approach prevents the kernel from being overloaded with **PIL** images, with the front-end responsible for fetching the image and the backend web server (not the kernel) for serving the image in another process. This method is quick and efficient. As an added bonus, the saved notebook remains lean and fit; it doesn't store the Base64 versions of all the output cell images.\n",
    "\n",
    "Unfortunately, this approach does not work as is in **Colab**. Google Colab runs on an older Ubuntu 18.04 VM, so all the usual networking challenges with Docker, or whatever VMs Google is using, apply. Google also goes to great lengths to avoid exposing its internal architecture. We have two options:\n",
    "- Let the Jupyter kernel serve the images itself, which is slow and memory-consuming.\n",
    "- Use a tunnel to map localhost (server) to whatever IP and port the front-end (the browser you're currently using) is running on. We can use **ngrok** for this, but *ngrok* is a commercial service that has been abused and now requires confirmation the first time the tunnel connects, which can be inconvenient for the user. It also requires the user to open a free account and obtain an auth token.\n",
    "\n",
    "You choose.\n",
    "\n",
    "If the notebook is running in Colab and ngrok has been successfully installed and the tunnel has been created, the default setting is `USE_PIL=False`. You can set the environment variable `USE_PIL=True` to force the use of PIL images, but note that in certain circumstances, Colab will complain because the free tiers are usually memory constrained.\n",
    "\n",
    "I you don't change the default settings and\n",
    "- the notebook is running locally, it'll serve the images directly without any additional setup.\n",
    "- the notebook is running in Colab, it'll serve the images through a web server and ngrok.\n"
   ]
  },
  {
   "cell_type": "code",
   "execution_count": null,
   "metadata": {},
   "outputs": [],
   "source": [
    "if FC.IN_COLAB:\n",
    "    os.environ['USE_TUNNEL'] = 'True'\n",
    "    os.environ['USE_PIL'] = 'False'\n"
   ]
  },
  {
   "cell_type": "code",
   "execution_count": null,
   "metadata": {},
   "outputs": [],
   "source": [
    "SERVER = None\n",
    "if os.environ['USE_PIL'].lower() == 'false' and os.environ['USE_TUNNEL'].lower() == 'true':\n",
    "    import testbed.web_server as web_server\n",
    "    SERVER = web_server.setup_ngrok(web_server.WebServerBottle, Path(EXP_DIR))\n"
   ]
  },
  {
   "cell_type": "markdown",
   "metadata": {},
   "source": [
    "# CONTEXT\n",
    "> Creates the `OCRExperimentContext` object we'll use to manage the experiments and visualize the configuration.\n"
   ]
  },
  {
   "cell_type": "code",
   "execution_count": null,
   "metadata": {},
   "outputs": [
    {
     "name": "stdout",
     "output_type": "stream",
     "text": [
      "Current Configuration:\n",
      "\n",
      "Locale: System default\n",
      "Default Profile: Built-in\n",
      "Saved Profiles:\n",
      "- victess: /Users/vic/dev/repo/DL-mac/cleaned/victess.conf\n",
      "- vicmang: /Users/vic/dev/repo/DL-mac/cleaned/vicmang.conf\n",
      "\n",
      "Profile Editor: cursor\n",
      "Cache Directory: System default\n",
      "Default Torch Model Path: /Users/vic/Library/Caches/pcleaner/model/comictextdetector.pt\n",
      "Default CV2 Model Path: /Users/vic/Library/Caches/pcleaner/model/comictextdetector.pt.onnx\n",
      "GUI Theme: System default\n",
      "\n",
      "--------------------\n",
      "\n",
      "Config file located at: /Users/vic/Library/Application Support/pcleaner/pcleanerconfig.ini\n",
      "System default cache directory: /Users/vic/Library/Caches/pcleaner\n"
     ]
    },
    {
     "data": {
      "text/html": [
       "<pre style=\"white-space:pre;overflow-x:auto;line-height:normal;font-family:Menlo,'DejaVu Sans Mono',consolas,'Courier New',monospace\"> config cache_dir: <span style=\"color: #800080; text-decoration-color: #800080; font-style: italic\">None</span>\n",
       "       model_path: <span style=\"color: #800080; text-decoration-color: #800080; font-weight: bold\">Path</span><span style=\"font-weight: bold\">(</span><span style=\"color: #008000; text-decoration-color: #008000\">'/Users/vic/Library/Caches/pcleaner/model/comictextdetector.pt'</span><span style=\"font-weight: bold\">)</span>\n",
       "           device: <span style=\"color: #008000; text-decoration-color: #008000\">'mps'</span>\n",
       "</pre>\n"
      ],
      "text/plain": [
       " config cache_dir: \u001b[3;35mNone\u001b[0m\n",
       "       model_path: \u001b[1;35mPath\u001b[0m\u001b[1m(\u001b[0m\u001b[32m'/Users/vic/Library/Caches/pcleaner/model/comictextdetector.pt'\u001b[0m\u001b[1m)\u001b[0m\n",
       "           device: \u001b[32m'mps'\u001b[0m\n"
      ]
     },
     "metadata": {},
     "output_type": "display_data"
    },
    {
     "data": {
      "text/html": [
       "<pre style=\"white-space:pre;overflow-x:auto;line-height:normal;font-family:Menlo,'DejaVu Sans Mono',consolas,'Courier New',monospace\">        force_PIL: <span style=\"color: #ff0000; text-decoration-color: #ff0000; font-style: italic\">False</span>\n",
       "       use_tunnel: <span style=\"color: #ff0000; text-decoration-color: #ff0000; font-style: italic\">False</span>\n",
       "       server_url: \n",
       "   experiment dir: experiment\n",
       "       source_dir: experiment/source\n",
       "        cache_dir: experiment/cache\n",
       "\n",
       "</pre>\n"
      ],
      "text/plain": [
       "        force_PIL: \u001b[3;91mFalse\u001b[0m\n",
       "       use_tunnel: \u001b[3;91mFalse\u001b[0m\n",
       "       server_url: \n",
       "   experiment dir: experiment\n",
       "       source_dir: experiment/source\n",
       "        cache_dir: experiment/cache\n",
       "\n"
      ]
     },
     "metadata": {},
     "output_type": "display_data"
    },
    {
     "data": {
      "text/html": [
       "<pre style=\"white-space:pre;overflow-x:auto;line-height:normal;font-family:Menlo,'DejaVu Sans Mono',consolas,'Courier New',monospace\">Experiment runs:\n",
       "Tesseract-crop-post: <span style=\"color: #008080; text-decoration-color: #008080; font-weight: bold\">17</span>\n",
       "   Tesseract-crop: <span style=\"color: #008080; text-decoration-color: #008080; font-weight: bold\">0</span>\n",
       "</pre>\n"
      ],
      "text/plain": [
       "Experiment runs:\n",
       "Tesseract-crop-post: \u001b[1;36m17\u001b[0m\n",
       "   Tesseract-crop: \u001b[1;36m0\u001b[0m\n"
      ]
     },
     "metadata": {},
     "output_type": "display_data"
    }
   ],
   "source": [
    "CONTEXT = OCRExperimentContext('Tesseract', EXP_DIR, server=SERVER, load=True)\n",
    "CONTEXT.show()"
   ]
  },
  {
   "cell_type": "markdown",
   "metadata": {},
   "source": [
    "## Verify images setup\n",
    "\n",
    "Before visualizing the experiments, verify that all images are correctly recognized and accessible."
   ]
  },
  {
   "cell_type": "code",
   "execution_count": null,
   "metadata": {},
   "outputs": [
    {
     "data": {
      "text/plain": [
       "['00: Action_Comics_1960-01-00_(262).JPG',\n",
       " '01: Adolf_Cap_01_008.jpg',\n",
       " '02: Barnaby_v1-028.png',\n",
       " '03: Barnaby_v1-029.png',\n",
       " '04: Buck_Danny_-_12_-_Avions_Sans_Pilotes_-_013.jpg',\n",
       " '05: Cannon-292.jpg',\n",
       " '06: Contrato_con_Dios_028.jpg',\n",
       " '07: Erase_una_vez_en_Francia_02_88.jpg',\n",
       " '08: FOX_CHILLINTALES_T17_012.jpg',\n",
       " '09: Furari_-_Jiro_Taniguchi_selma_056.jpg',\n",
       " '10: Galactus_12.jpg',\n",
       " '11: INOUE_KYOUMEN_002.png',\n",
       " '12: MCCALL_ROBINHOOD_T31_010.jpg',\n",
       " '13: MCCAY_LITTLENEMO_090.jpg',\n",
       " '14: Mary_Perkins_On_Stage_v2006_1_-_P00068.jpg',\n",
       " '15: PIKE_BOYLOVEGIRLS_T41_012.jpg',\n",
       " '16: Sal_Buscema_Spaceknights_&_Superheroes_Ocular_Edition_1_1.png',\n",
       " '17: Sal_Buscema_Spaceknights_&_Superheroes_Ocular_Edition_1_1_K.png',\n",
       " '18: Sal_Buscema_Spaceknights_&_Superheroes_Ocular_Edition_1_2.png',\n",
       " '19: Spirou_Et_Fantasio_Integrale_06_1958_1959_0025_0024.jpg',\n",
       " '20: Strange_Tales_172005.jpg',\n",
       " '21: Strange_Tales_172021.jpg',\n",
       " '22: Tarzan_014-21.JPG',\n",
       " '23: Tintin_21_Les_Bijoux_de_la_Castafiore_page_39.jpg',\n",
       " '24: Transformers_-_Unicron_000-004.jpg',\n",
       " '25: Transformers_-_Unicron_000-016.jpg',\n",
       " '26: WARE_ACME_024.jpg',\n",
       " '27: Yoko_Tsuno_T01_1972-10.jpg',\n",
       " '28: Your_Name_Another_Side_Earthbound_T02_084.jpg',\n",
       " '29: manga_0033.jpg',\n",
       " '30: ronson-031.jpg',\n",
       " '31: 哀心迷図のバベル 第01巻 - 22002_00_059.jpg']"
      ]
     },
     "execution_count": null,
     "metadata": {},
     "output_type": "execute_result"
    }
   ],
   "source": [
    "[f\"{i:02}: {_.name}\" for i,_ in enumerate(CONTEXT.image_paths)]\n"
   ]
  },
  {
   "cell_type": "markdown",
   "metadata": {},
   "source": [
    "----\n",
    "# Running an experiment\n",
    "\n",
    "Conduct an OCR experiment using the established context and tools. You will select an image, choose a cropping method, and decide which text box to analyze. The results will be visualized so you can assess the effectiveness of the OCR process.\n",
    "\n",
    "### Selecting and configuring the experiment\n",
    "\n",
    "1. **Choose an image:** Start by selecting an image from the loaded dataset.\n",
    "2. **Specify cropping method:** Choose how the image should be cropped. Different cropping methods can affect OCR accuracy, as they change how the text is presented to the OCR engine.\n",
    "3. **Select text box:** Select the specific text box within the image to focus the OCR process.\n",
    "\n",
    "### Visualizing results\n",
    "\n",
    "The results are visualized immediately. Here, it is crucial to have accurate **ground truth** data to effectively compare and assess the OCR results.\n",
    "\n",
    "You can assess the accuracy of OCR results at various levels: box by box, method by method, and overall. Currently, we use a simplified version of the `edit distance` metric to calculate accuracy. However, we plan to adopt more standardized metrics, such as the `Levenshtein distance`, in future updates.\n",
    "\n",
    "Additionally, we should probably develop a metric specifically tailored to the unique characteristics of comic texts, such as the prevalence of all-caps and handwritten text, to provide more relevant evaluations. OCR models are trained with typeset text, synthetic or real-world, and business, forms, news or literary data, and usually don't perform well on handwritten text. We haven't found any OCR dataset that incorporates comics style data.\n",
    "\n",
    "\n",
    "### Managing experiment data\n",
    "\n",
    "- **Save results:** You have the option to save the results of the experiment, useful for documenting performance and changes over time. However, be cautious with this option as it will overwrite existing results without confirmation.\n"
   ]
  },
  {
   "cell_type": "markdown",
   "metadata": {},
   "source": [
    "> **Note:** This visor functionality is currently a work in progress (WIP). The interface and options are being refined to enhance the experience and provide more robust data management. This section gives you a preliminary look at what we are aiming for with the `testbed` project.\n"
   ]
  },
  {
   "cell_type": "code",
   "execution_count": null,
   "metadata": {},
   "outputs": [
    {
     "data": {
      "application/vnd.jupyter.widget-view+json": {
       "model_id": "c3ed154f58e6480abe8993b4a2fc22b7",
       "version_major": 2,
       "version_minor": 0
      },
      "text/plain": [
       "VBox(children=(HTML(value=\"<style id='stl-13020371824'>\\n    .wrapper-spinner {\\n        overflow: hidden;\\n  …"
      ]
     },
     "metadata": {},
     "output_type": "display_data"
    }
   ],
   "source": [
    "tesseract_experiment = ExperimentsVisor(\n",
    "    CONTEXT,\n",
    "    image_idx='Strange_Tales_172005.jpg',\n",
    ")\n",
    "tesseract_experiment"
   ]
  },
  {
   "cell_type": "markdown",
   "metadata": {},
   "source": [
    "----"
   ]
  },
  {
   "cell_type": "code",
   "execution_count": null,
   "metadata": {},
   "outputs": [],
   "source": [
    "CONTEXT.cleanup_model()\n"
   ]
  },
  {
   "cell_type": "code",
   "execution_count": null,
   "metadata": {},
   "outputs": [],
   "source": [
    "if SERVER is not None:\n",
    "    SERVER.stop()\n",
    "    SERVER = None\n",
    "    os.environ['USE_TUNNEL'] = 'False'\n"
   ]
  }
 ],
 "metadata": {
  "kernelspec": {
   "display_name": "python3",
   "name": "python3"
  },
  "widgets": {
   "application/vnd.jupyter.widget-state+json": {
    "00878ffbdb234a48b8917563f3058107": {
     "model_module": "@jupyter-widgets/base",
     "model_module_version": "1.2.0",
     "model_name": "LayoutModel",
     "state": {
      "_model_module": "@jupyter-widgets/base",
      "_model_module_version": "1.2.0",
      "_model_name": "LayoutModel",
      "_view_count": null,
      "_view_module": "@jupyter-widgets/base",
      "_view_module_version": "1.2.0",
      "_view_name": "LayoutView",
      "align_content": null,
      "align_items": null,
      "align_self": null,
      "border": null,
      "bottom": null,
      "display": null,
      "flex": null,
      "flex_flow": null,
      "grid_area": null,
      "grid_auto_columns": null,
      "grid_auto_flow": null,
      "grid_auto_rows": null,
      "grid_column": null,
      "grid_gap": null,
      "grid_row": null,
      "grid_template_areas": null,
      "grid_template_columns": null,
      "grid_template_rows": null,
      "height": null,
      "justify_content": null,
      "justify_items": null,
      "left": null,
      "margin": null,
      "max_height": null,
      "max_width": null,
      "min_height": null,
      "min_width": null,
      "object_fit": null,
      "object_position": null,
      "order": null,
      "overflow": null,
      "overflow_x": null,
      "overflow_y": null,
      "padding": null,
      "right": null,
      "top": null,
      "visibility": null,
      "width": null
     }
    },
    "01cd556393d643f8bb3fd88c8cd7bb84": {
     "model_module": "@jupyter-widgets/controls",
     "model_module_version": "1.5.0",
     "model_name": "HTMLModel",
     "state": {
      "_dom_classes": [],
      "_model_module": "@jupyter-widgets/controls",
      "_model_module_version": "1.5.0",
      "_model_name": "HTMLModel",
      "_view_count": null,
      "_view_module": "@jupyter-widgets/controls",
      "_view_module_version": "1.5.0",
      "_view_name": "HTMLView",
      "description": "",
      "description_tooltip": null,
      "layout": "IPY_MODEL_e36c1a1c609c425bb76ea83edf910425",
      "placeholder": "​",
      "style": "IPY_MODEL_27c90e0d46934e80a38889a0ae18a726",
      "value": "<style id='stl-137612216365504'>\n    .wrapper-spinner {\n        overflow: hidden;\n        width: fit-content;\n        height: fit-content;\n    }\n    \n    .loading-spinner {\n        display: flex;\n        align-items: center;\n        justify-content: center;\n        border: 1px solid white;\n        border-radius: 50%;\n    }\n    \n    .spinner {\n        border: 3px solid rgba(128,128,128,.5);\n        border-radius: 50%;\n        border-left-color: red;\n        animation: spin 1s infinite linear;\n    }\n    \n    @keyframes spin {\n        0% { transform: rotate(0deg); }\n        100% { transform: rotate(360deg); }\n    }\n\n\n    .box_grp {\n        background-color: aliceblue;\n    }\n    .method_grp {\n        background-color: #ededed;\n    }\n    </style>"
     }
    },
    "03b66d0eb8b5487b8ad21382b93cc68d": {
     "model_module": "@jupyter-widgets/controls",
     "model_module_version": "1.5.0",
     "model_name": "DescriptionStyleModel",
     "state": {
      "_model_module": "@jupyter-widgets/controls",
      "_model_module_version": "1.5.0",
      "_model_name": "DescriptionStyleModel",
      "_view_count": null,
      "_view_module": "@jupyter-widgets/base",
      "_view_module_version": "1.2.0",
      "_view_name": "StyleView",
      "description_width": ""
     }
    },
    "044d11e5bc4e4f87ad9d099734418899": {
     "model_module": "@jupyter-widgets/controls",
     "model_module_version": "1.5.0",
     "model_name": "ProgressStyleModel",
     "state": {
      "_model_module": "@jupyter-widgets/controls",
      "_model_module_version": "1.5.0",
      "_model_name": "ProgressStyleModel",
      "_view_count": null,
      "_view_module": "@jupyter-widgets/base",
      "_view_module_version": "1.2.0",
      "_view_name": "StyleView",
      "bar_color": null,
      "description_width": ""
     }
    },
    "068b8601d7364d29b9598b80aeb782e0": {
     "model_module": "@jupyter-widgets/base",
     "model_module_version": "1.2.0",
     "model_name": "LayoutModel",
     "state": {
      "_model_module": "@jupyter-widgets/base",
      "_model_module_version": "1.2.0",
      "_model_name": "LayoutModel",
      "_view_count": null,
      "_view_module": "@jupyter-widgets/base",
      "_view_module_version": "1.2.0",
      "_view_name": "LayoutView",
      "align_content": null,
      "align_items": null,
      "align_self": null,
      "border": null,
      "bottom": null,
      "display": null,
      "flex": null,
      "flex_flow": null,
      "grid_area": null,
      "grid_auto_columns": null,
      "grid_auto_flow": null,
      "grid_auto_rows": null,
      "grid_column": null,
      "grid_gap": null,
      "grid_row": null,
      "grid_template_areas": null,
      "grid_template_columns": null,
      "grid_template_rows": null,
      "height": null,
      "justify_content": null,
      "justify_items": null,
      "left": null,
      "margin": null,
      "max_height": null,
      "max_width": null,
      "min_height": null,
      "min_width": null,
      "object_fit": null,
      "object_position": null,
      "order": null,
      "overflow": null,
      "overflow_x": null,
      "overflow_y": null,
      "padding": null,
      "right": null,
      "top": null,
      "visibility": null,
      "width": null
     }
    },
    "0c28619fcebc4c58a9a756888add9140": {
     "model_module": "@jupyter-widgets/controls",
     "model_module_version": "1.5.0",
     "model_name": "HBoxModel",
     "state": {
      "_dom_classes": [
       "model_grp"
      ],
      "_model_module": "@jupyter-widgets/controls",
      "_model_module_version": "1.5.0",
      "_model_name": "HBoxModel",
      "_view_count": null,
      "_view_module": "@jupyter-widgets/controls",
      "_view_module_version": "1.5.0",
      "_view_name": "HBoxView",
      "box_style": "",
      "children": [
       "IPY_MODEL_a2410f8101384beda0114d93ac655edb"
      ],
      "layout": "IPY_MODEL_24e8764bfd294a629d6c3855b4094f8b"
     }
    },
    "0d4014b56e93430e9782502bf29c7c2e": {
     "model_module": "@jupyter-widgets/base",
     "model_module_version": "1.2.0",
     "model_name": "LayoutModel",
     "state": {
      "_model_module": "@jupyter-widgets/base",
      "_model_module_version": "1.2.0",
      "_model_name": "LayoutModel",
      "_view_count": null,
      "_view_module": "@jupyter-widgets/base",
      "_view_module_version": "1.2.0",
      "_view_name": "LayoutView",
      "align_content": null,
      "align_items": null,
      "align_self": null,
      "border": null,
      "bottom": null,
      "display": null,
      "flex": null,
      "flex_flow": null,
      "grid_area": null,
      "grid_auto_columns": null,
      "grid_auto_flow": null,
      "grid_auto_rows": null,
      "grid_column": null,
      "grid_gap": null,
      "grid_row": null,
      "grid_template_areas": null,
      "grid_template_columns": null,
      "grid_template_rows": null,
      "height": null,
      "justify_content": null,
      "justify_items": null,
      "left": null,
      "margin": null,
      "max_height": null,
      "max_width": null,
      "min_height": null,
      "min_width": null,
      "object_fit": null,
      "object_position": null,
      "order": null,
      "overflow": null,
      "overflow_x": null,
      "overflow_y": null,
      "padding": null,
      "right": null,
      "top": null,
      "visibility": null,
      "width": "initial"
     }
    },
    "0d5a810240d84cc683b42f56b1f4c2d1": {
     "model_module": "@jupyter-widgets/base",
     "model_module_version": "1.2.0",
     "model_name": "LayoutModel",
     "state": {
      "_model_module": "@jupyter-widgets/base",
      "_model_module_version": "1.2.0",
      "_model_name": "LayoutModel",
      "_view_count": null,
      "_view_module": "@jupyter-widgets/base",
      "_view_module_version": "1.2.0",
      "_view_name": "LayoutView",
      "align_content": null,
      "align_items": null,
      "align_self": null,
      "border": null,
      "bottom": null,
      "display": null,
      "flex": null,
      "flex_flow": null,
      "grid_area": null,
      "grid_auto_columns": null,
      "grid_auto_flow": null,
      "grid_auto_rows": null,
      "grid_column": null,
      "grid_gap": null,
      "grid_row": null,
      "grid_template_areas": null,
      "grid_template_columns": null,
      "grid_template_rows": null,
      "height": null,
      "justify_content": null,
      "justify_items": null,
      "left": null,
      "margin": null,
      "max_height": null,
      "max_width": null,
      "min_height": null,
      "min_width": null,
      "object_fit": null,
      "object_position": null,
      "order": null,
      "overflow": null,
      "overflow_x": null,
      "overflow_y": null,
      "padding": null,
      "right": null,
      "top": null,
      "visibility": null,
      "width": null
     }
    },
    "0e3ae88bc86f4a31b5aedc1dfd0b1bf2": {
     "model_module": "@jupyter-widgets/base",
     "model_module_version": "1.2.0",
     "model_name": "LayoutModel",
     "state": {
      "_model_module": "@jupyter-widgets/base",
      "_model_module_version": "1.2.0",
      "_model_name": "LayoutModel",
      "_view_count": null,
      "_view_module": "@jupyter-widgets/base",
      "_view_module_version": "1.2.0",
      "_view_name": "LayoutView",
      "align_content": null,
      "align_items": null,
      "align_self": null,
      "border": null,
      "bottom": null,
      "display": null,
      "flex": null,
      "flex_flow": null,
      "grid_area": null,
      "grid_auto_columns": null,
      "grid_auto_flow": null,
      "grid_auto_rows": null,
      "grid_column": null,
      "grid_gap": null,
      "grid_row": null,
      "grid_template_areas": null,
      "grid_template_columns": null,
      "grid_template_rows": null,
      "height": null,
      "justify_content": null,
      "justify_items": null,
      "left": null,
      "margin": null,
      "max_height": null,
      "max_width": null,
      "min_height": null,
      "min_width": null,
      "object_fit": null,
      "object_position": null,
      "order": null,
      "overflow": null,
      "overflow_x": null,
      "overflow_y": null,
      "padding": null,
      "right": null,
      "top": null,
      "visibility": null,
      "width": "120px"
     }
    },
    "0f1bb59001314b13a091c7e1b331c58b": {
     "model_module": "@jupyter-widgets/controls",
     "model_module_version": "1.5.0",
     "model_name": "ButtonModel",
     "state": {
      "_dom_classes": [],
      "_model_module": "@jupyter-widgets/controls",
      "_model_module_version": "1.5.0",
      "_model_name": "ButtonModel",
      "_view_count": null,
      "_view_module": "@jupyter-widgets/controls",
      "_view_module_version": "1.5.0",
      "_view_name": "ButtonView",
      "button_style": "",
      "description": "reset",
      "disabled": false,
      "icon": "",
      "layout": "IPY_MODEL_3ab779d3f50a456980527636aa763dba",
      "style": "IPY_MODEL_bb3adfcd8e4a4af29079953bc9220ac1",
      "tooltip": ""
     }
    },
    "101d1fc2b6df471ebd6a32a44c8120ed": {
     "model_module": "@jupyter-widgets/controls",
     "model_module_version": "1.5.0",
     "model_name": "LabelModel",
     "state": {
      "_dom_classes": [],
      "_model_module": "@jupyter-widgets/controls",
      "_model_module_version": "1.5.0",
      "_model_name": "LabelModel",
      "_view_count": null,
      "_view_module": "@jupyter-widgets/controls",
      "_view_module_version": "1.5.0",
      "_view_name": "LabelView",
      "description": "",
      "description_tooltip": null,
      "layout": "IPY_MODEL_df77be57fe7943298432a759e6ce8416",
      "placeholder": "​",
      "style": "IPY_MODEL_8b38a0bdf80149bba72324232beb14ed",
      "value": "Method:"
     }
    },
    "175e7409479d4f56ba4a4faf4c8bebaa": {
     "model_module": "@jupyter-widgets/controls",
     "model_module_version": "1.5.0",
     "model_name": "FloatProgressModel",
     "state": {
      "_dom_classes": [],
      "_model_module": "@jupyter-widgets/controls",
      "_model_module_version": "1.5.0",
      "_model_name": "FloatProgressModel",
      "_view_count": null,
      "_view_module": "@jupyter-widgets/controls",
      "_view_module_version": "1.5.0",
      "_view_name": "ProgressView",
      "bar_style": "",
      "description": "",
      "description_tooltip": null,
      "layout": "IPY_MODEL_3f8e2f6b025e4fcd90ad34c2e99025ae",
      "max": 11,
      "min": 0,
      "orientation": "horizontal",
      "style": "IPY_MODEL_044d11e5bc4e4f87ad9d099734418899",
      "value": 11
     }
    },
    "1807cf3a1770434599e993a087293d91": {
     "model_module": "@jupyter-widgets/controls",
     "model_module_version": "1.5.0",
     "model_name": "DescriptionStyleModel",
     "state": {
      "_model_module": "@jupyter-widgets/controls",
      "_model_module_version": "1.5.0",
      "_model_name": "DescriptionStyleModel",
      "_view_count": null,
      "_view_module": "@jupyter-widgets/base",
      "_view_module_version": "1.2.0",
      "_view_name": "StyleView",
      "description_width": ""
     }
    },
    "18ccc64fc8504bdeb2fb07043688c1c4": {
     "model_module": "@jupyter-widgets/base",
     "model_module_version": "1.2.0",
     "model_name": "LayoutModel",
     "state": {
      "_model_module": "@jupyter-widgets/base",
      "_model_module_version": "1.2.0",
      "_model_name": "LayoutModel",
      "_view_count": null,
      "_view_module": "@jupyter-widgets/base",
      "_view_module_version": "1.2.0",
      "_view_name": "LayoutView",
      "align_content": null,
      "align_items": null,
      "align_self": null,
      "border": null,
      "bottom": null,
      "display": null,
      "flex": null,
      "flex_flow": null,
      "grid_area": null,
      "grid_auto_columns": null,
      "grid_auto_flow": null,
      "grid_auto_rows": null,
      "grid_column": null,
      "grid_gap": null,
      "grid_row": null,
      "grid_template_areas": null,
      "grid_template_columns": null,
      "grid_template_rows": null,
      "height": null,
      "justify_content": null,
      "justify_items": null,
      "left": null,
      "margin": null,
      "max_height": null,
      "max_width": null,
      "min_height": null,
      "min_width": null,
      "object_fit": null,
      "object_position": null,
      "order": null,
      "overflow": null,
      "overflow_x": null,
      "overflow_y": null,
      "padding": null,
      "right": null,
      "top": null,
      "visibility": null,
      "width": "25em"
     }
    },
    "1da81d9a8d7446838b76ae017e794e78": {
     "model_module": "@jupyter-widgets/base",
     "model_module_version": "1.2.0",
     "model_name": "LayoutModel",
     "state": {
      "_model_module": "@jupyter-widgets/base",
      "_model_module_version": "1.2.0",
      "_model_name": "LayoutModel",
      "_view_count": null,
      "_view_module": "@jupyter-widgets/base",
      "_view_module_version": "1.2.0",
      "_view_name": "LayoutView",
      "align_content": null,
      "align_items": null,
      "align_self": null,
      "border": null,
      "bottom": null,
      "display": null,
      "flex": null,
      "flex_flow": null,
      "grid_area": null,
      "grid_auto_columns": null,
      "grid_auto_flow": null,
      "grid_auto_rows": null,
      "grid_column": null,
      "grid_gap": null,
      "grid_row": null,
      "grid_template_areas": null,
      "grid_template_columns": null,
      "grid_template_rows": null,
      "height": null,
      "justify_content": null,
      "justify_items": null,
      "left": null,
      "margin": null,
      "max_height": null,
      "max_width": null,
      "min_height": null,
      "min_width": null,
      "object_fit": null,
      "object_position": null,
      "order": null,
      "overflow": null,
      "overflow_x": null,
      "overflow_y": null,
      "padding": null,
      "right": null,
      "top": null,
      "visibility": null,
      "width": null
     }
    },
    "247e8a63e98441f294c1514a43b35e0d": {
     "model_module": "@jupyter-widgets/base",
     "model_module_version": "1.2.0",
     "model_name": "LayoutModel",
     "state": {
      "_model_module": "@jupyter-widgets/base",
      "_model_module_version": "1.2.0",
      "_model_name": "LayoutModel",
      "_view_count": null,
      "_view_module": "@jupyter-widgets/base",
      "_view_module_version": "1.2.0",
      "_view_name": "LayoutView",
      "align_content": null,
      "align_items": null,
      "align_self": null,
      "border": null,
      "bottom": null,
      "display": null,
      "flex": null,
      "flex_flow": null,
      "grid_area": null,
      "grid_auto_columns": null,
      "grid_auto_flow": null,
      "grid_auto_rows": null,
      "grid_column": null,
      "grid_gap": null,
      "grid_row": null,
      "grid_template_areas": null,
      "grid_template_columns": null,
      "grid_template_rows": null,
      "height": null,
      "justify_content": null,
      "justify_items": null,
      "left": null,
      "margin": null,
      "max_height": null,
      "max_width": null,
      "min_height": null,
      "min_width": null,
      "object_fit": null,
      "object_position": null,
      "order": null,
      "overflow": null,
      "overflow_x": null,
      "overflow_y": null,
      "padding": null,
      "right": null,
      "top": null,
      "visibility": null,
      "width": null
     }
    },
    "24e8764bfd294a629d6c3855b4094f8b": {
     "model_module": "@jupyter-widgets/base",
     "model_module_version": "1.2.0",
     "model_name": "LayoutModel",
     "state": {
      "_model_module": "@jupyter-widgets/base",
      "_model_module_version": "1.2.0",
      "_model_name": "LayoutModel",
      "_view_count": null,
      "_view_module": "@jupyter-widgets/base",
      "_view_module_version": "1.2.0",
      "_view_name": "LayoutView",
      "align_content": null,
      "align_items": null,
      "align_self": null,
      "border": null,
      "bottom": null,
      "display": null,
      "flex": null,
      "flex_flow": null,
      "grid_area": null,
      "grid_auto_columns": null,
      "grid_auto_flow": null,
      "grid_auto_rows": null,
      "grid_column": null,
      "grid_gap": null,
      "grid_row": null,
      "grid_template_areas": null,
      "grid_template_columns": null,
      "grid_template_rows": null,
      "height": null,
      "justify_content": null,
      "justify_items": null,
      "left": null,
      "margin": null,
      "max_height": null,
      "max_width": null,
      "min_height": null,
      "min_width": null,
      "object_fit": null,
      "object_position": null,
      "order": null,
      "overflow": null,
      "overflow_x": null,
      "overflow_y": null,
      "padding": null,
      "right": null,
      "top": null,
      "visibility": null,
      "width": null
     }
    },
    "25cdb8370f70459886e00eeef0f66388": {
     "model_module": "@jupyter-widgets/controls",
     "model_module_version": "1.5.0",
     "model_name": "HTMLModel",
     "state": {
      "_dom_classes": [],
      "_model_module": "@jupyter-widgets/controls",
      "_model_module_version": "1.5.0",
      "_model_name": "HTMLModel",
      "_view_count": null,
      "_view_module": "@jupyter-widgets/controls",
      "_view_module_version": "1.5.0",
      "_view_name": "HTMLView",
      "description": "",
      "description_tooltip": null,
      "layout": "IPY_MODEL_247e8a63e98441f294c1514a43b35e0d",
      "placeholder": "​",
      "style": "IPY_MODEL_7a928ad4bd52422b9544d0d312402a5b",
      "value": "Box #1: 100%"
     }
    },
    "27c90e0d46934e80a38889a0ae18a726": {
     "model_module": "@jupyter-widgets/controls",
     "model_module_version": "1.5.0",
     "model_name": "DescriptionStyleModel",
     "state": {
      "_model_module": "@jupyter-widgets/controls",
      "_model_module_version": "1.5.0",
      "_model_name": "DescriptionStyleModel",
      "_view_count": null,
      "_view_module": "@jupyter-widgets/base",
      "_view_module_version": "1.2.0",
      "_view_name": "StyleView",
      "description_width": ""
     }
    },
    "31dcaeca8806453ea52292112bb0a4f3": {
     "model_module": "@jupyter-widgets/base",
     "model_module_version": "1.2.0",
     "model_name": "LayoutModel",
     "state": {
      "_model_module": "@jupyter-widgets/base",
      "_model_module_version": "1.2.0",
      "_model_name": "LayoutModel",
      "_view_count": null,
      "_view_module": "@jupyter-widgets/base",
      "_view_module_version": "1.2.0",
      "_view_name": "LayoutView",
      "align_content": null,
      "align_items": null,
      "align_self": null,
      "border": null,
      "bottom": null,
      "display": null,
      "flex": null,
      "flex_flow": null,
      "grid_area": null,
      "grid_auto_columns": null,
      "grid_auto_flow": null,
      "grid_auto_rows": null,
      "grid_column": null,
      "grid_gap": null,
      "grid_row": null,
      "grid_template_areas": null,
      "grid_template_columns": null,
      "grid_template_rows": null,
      "height": null,
      "justify_content": null,
      "justify_items": null,
      "left": null,
      "margin": null,
      "max_height": null,
      "max_width": null,
      "min_height": null,
      "min_width": null,
      "object_fit": null,
      "object_position": null,
      "order": null,
      "overflow": null,
      "overflow_x": null,
      "overflow_y": null,
      "padding": null,
      "right": null,
      "top": null,
      "visibility": null,
      "width": null
     }
    },
    "3588eeb28e024f1ead6cd21f46d65a6c": {
     "model_module": "@jupyter-widgets/controls",
     "model_module_version": "1.5.0",
     "model_name": "HBoxModel",
     "state": {
      "_dom_classes": [
       "method_grp"
      ],
      "_model_module": "@jupyter-widgets/controls",
      "_model_module_version": "1.5.0",
      "_model_name": "HBoxModel",
      "_view_count": null,
      "_view_module": "@jupyter-widgets/controls",
      "_view_module_version": "1.5.0",
      "_view_name": "HBoxView",
      "box_style": "",
      "children": [
       "IPY_MODEL_101d1fc2b6df471ebd6a32a44c8120ed",
       "IPY_MODEL_8ca00801b4e54cbd980c998791664f60",
       "IPY_MODEL_ec3c881e1da4414a9c9499497bc5de74"
      ],
      "layout": "IPY_MODEL_31dcaeca8806453ea52292112bb0a4f3"
     }
    },
    "39648bdbc39c4c7c827510141663804c": {
     "model_module": "@jupyter-widgets/base",
     "model_module_version": "1.2.0",
     "model_name": "LayoutModel",
     "state": {
      "_model_module": "@jupyter-widgets/base",
      "_model_module_version": "1.2.0",
      "_model_name": "LayoutModel",
      "_view_count": null,
      "_view_module": "@jupyter-widgets/base",
      "_view_module_version": "1.2.0",
      "_view_name": "LayoutView",
      "align_content": null,
      "align_items": null,
      "align_self": null,
      "border": null,
      "bottom": null,
      "display": null,
      "flex": null,
      "flex_flow": null,
      "grid_area": null,
      "grid_auto_columns": null,
      "grid_auto_flow": null,
      "grid_auto_rows": null,
      "grid_column": null,
      "grid_gap": null,
      "grid_row": null,
      "grid_template_areas": null,
      "grid_template_columns": null,
      "grid_template_rows": null,
      "height": null,
      "justify_content": null,
      "justify_items": null,
      "left": null,
      "margin": null,
      "max_height": null,
      "max_width": null,
      "min_height": null,
      "min_width": null,
      "object_fit": null,
      "object_position": null,
      "order": null,
      "overflow": null,
      "overflow_x": null,
      "overflow_y": null,
      "padding": null,
      "right": null,
      "top": null,
      "visibility": "visible",
      "width": null
     }
    },
    "3ab779d3f50a456980527636aa763dba": {
     "model_module": "@jupyter-widgets/base",
     "model_module_version": "1.2.0",
     "model_name": "LayoutModel",
     "state": {
      "_model_module": "@jupyter-widgets/base",
      "_model_module_version": "1.2.0",
      "_model_name": "LayoutModel",
      "_view_count": null,
      "_view_module": "@jupyter-widgets/base",
      "_view_module_version": "1.2.0",
      "_view_name": "LayoutView",
      "align_content": null,
      "align_items": null,
      "align_self": null,
      "border": null,
      "bottom": null,
      "display": null,
      "flex": null,
      "flex_flow": null,
      "grid_area": null,
      "grid_auto_columns": null,
      "grid_auto_flow": null,
      "grid_auto_rows": null,
      "grid_column": null,
      "grid_gap": null,
      "grid_row": null,
      "grid_template_areas": null,
      "grid_template_columns": null,
      "grid_template_rows": null,
      "height": null,
      "justify_content": null,
      "justify_items": null,
      "left": null,
      "margin": "0px 0px 0px 3em",
      "max_height": null,
      "max_width": null,
      "min_height": null,
      "min_width": null,
      "object_fit": null,
      "object_position": null,
      "order": null,
      "overflow": null,
      "overflow_x": null,
      "overflow_y": null,
      "padding": null,
      "right": null,
      "top": null,
      "visibility": null,
      "width": "5em"
     }
    },
    "3cf7099443124d289495da41bfbc8b58": {
     "model_module": "@jupyter-widgets/controls",
     "model_module_version": "1.5.0",
     "model_name": "ButtonStyleModel",
     "state": {
      "_model_module": "@jupyter-widgets/controls",
      "_model_module_version": "1.5.0",
      "_model_name": "ButtonStyleModel",
      "_view_count": null,
      "_view_module": "@jupyter-widgets/base",
      "_view_module_version": "1.2.0",
      "_view_name": "StyleView",
      "button_color": "lightblue",
      "font_weight": "bold"
     }
    },
    "3d0ad04ce06b4314b64dcdde269b38e6": {
     "model_module": "@jupyter-widgets/controls",
     "model_module_version": "1.5.0",
     "model_name": "BoundedIntTextModel",
     "state": {
      "_dom_classes": [],
      "_model_module": "@jupyter-widgets/controls",
      "_model_module_version": "1.5.0",
      "_model_name": "BoundedIntTextModel",
      "_view_count": null,
      "_view_module": "@jupyter-widgets/controls",
      "_view_module_version": "1.5.0",
      "_view_name": "IntTextView",
      "continuous_update": false,
      "description": "",
      "description_tooltip": null,
      "disabled": false,
      "layout": "IPY_MODEL_4aba84bf7b4847fdb1cac927ba6a7ebf",
      "max": 14,
      "min": 0,
      "step": 1,
      "style": "IPY_MODEL_f542dba5c6de48a0a44e698706d87017",
      "value": 2
     }
    },
    "3f8e2f6b025e4fcd90ad34c2e99025ae": {
     "model_module": "@jupyter-widgets/base",
     "model_module_version": "1.2.0",
     "model_name": "LayoutModel",
     "state": {
      "_model_module": "@jupyter-widgets/base",
      "_model_module_version": "1.2.0",
      "_model_name": "LayoutModel",
      "_view_count": null,
      "_view_module": "@jupyter-widgets/base",
      "_view_module_version": "1.2.0",
      "_view_name": "LayoutView",
      "align_content": null,
      "align_items": null,
      "align_self": null,
      "border": null,
      "bottom": null,
      "display": null,
      "flex": null,
      "flex_flow": null,
      "grid_area": null,
      "grid_auto_columns": null,
      "grid_auto_flow": null,
      "grid_auto_rows": null,
      "grid_column": null,
      "grid_gap": null,
      "grid_row": null,
      "grid_template_areas": null,
      "grid_template_columns": null,
      "grid_template_rows": null,
      "height": null,
      "justify_content": null,
      "justify_items": null,
      "left": null,
      "margin": null,
      "max_height": null,
      "max_width": null,
      "min_height": null,
      "min_width": null,
      "object_fit": null,
      "object_position": null,
      "order": null,
      "overflow": null,
      "overflow_x": null,
      "overflow_y": null,
      "padding": null,
      "right": null,
      "top": null,
      "visibility": null,
      "width": null
     }
    },
    "4064335db7684f2f81ad237513e90c34": {
     "model_module": "@jupyter-widgets/controls",
     "model_module_version": "1.5.0",
     "model_name": "HBoxModel",
     "state": {
      "_dom_classes": [
       "context-visor",
       "137612175420256"
      ],
      "_model_module": "@jupyter-widgets/controls",
      "_model_module_version": "1.5.0",
      "_model_name": "HBoxModel",
      "_view_count": null,
      "_view_module": "@jupyter-widgets/controls",
      "_view_module_version": "1.5.0",
      "_view_name": "HBoxView",
      "box_style": "",
      "children": [
       "IPY_MODEL_878477e8708a47e8ab49b00be715d1cd"
      ],
      "layout": "IPY_MODEL_00878ffbdb234a48b8917563f3058107"
     }
    },
    "44f79f7ea58742a0a770aab41e876c9c": {
     "model_module": "@jupyter-widgets/base",
     "model_module_version": "1.2.0",
     "model_name": "LayoutModel",
     "state": {
      "_model_module": "@jupyter-widgets/base",
      "_model_module_version": "1.2.0",
      "_model_name": "LayoutModel",
      "_view_count": null,
      "_view_module": "@jupyter-widgets/base",
      "_view_module_version": "1.2.0",
      "_view_name": "LayoutView",
      "align_content": null,
      "align_items": null,
      "align_self": null,
      "border": null,
      "bottom": null,
      "display": null,
      "flex": null,
      "flex_flow": null,
      "grid_area": null,
      "grid_auto_columns": null,
      "grid_auto_flow": null,
      "grid_auto_rows": null,
      "grid_column": null,
      "grid_gap": null,
      "grid_row": null,
      "grid_template_areas": null,
      "grid_template_columns": null,
      "grid_template_rows": null,
      "height": null,
      "justify_content": null,
      "justify_items": null,
      "left": null,
      "margin": null,
      "max_height": null,
      "max_width": null,
      "min_height": null,
      "min_width": null,
      "object_fit": null,
      "object_position": null,
      "order": null,
      "overflow": null,
      "overflow_x": null,
      "overflow_y": null,
      "padding": null,
      "right": null,
      "top": null,
      "visibility": null,
      "width": "150px"
     }
    },
    "47b4dcc7177b41d1aa69d3918a6e8598": {
     "model_module": "@jupyter-widgets/output",
     "model_module_version": "1.0.0",
     "model_name": "OutputModel",
     "state": {
      "_dom_classes": [
       "message_visor-yXy"
      ],
      "_model_module": "@jupyter-widgets/output",
      "_model_module_version": "1.0.0",
      "_model_name": "OutputModel",
      "_view_count": null,
      "_view_module": "@jupyter-widgets/output",
      "_view_module_version": "1.0.0",
      "_view_name": "OutputView",
      "layout": "IPY_MODEL_c193eb8285a740208457bbe7985d356f",
      "msg_id": "",
      "outputs": []
     }
    },
    "48555e1574db42db86f6572e9c888b58": {
     "model_module": "@jupyter-widgets/controls",
     "model_module_version": "1.5.0",
     "model_name": "VBoxModel",
     "state": {
      "_dom_classes": [
       "context-visor",
       "137612216365504"
      ],
      "_model_module": "@jupyter-widgets/controls",
      "_model_module_version": "1.5.0",
      "_model_name": "VBoxModel",
      "_view_count": null,
      "_view_module": "@jupyter-widgets/controls",
      "_view_module_version": "1.5.0",
      "_view_name": "VBoxView",
      "box_style": "",
      "children": [
       "IPY_MODEL_60e22ee6a0fc428b8e3709e394e44841",
       "IPY_MODEL_7e8086d63d1b4bbf96e4c70c63bc920a"
      ],
      "layout": "IPY_MODEL_0d5a810240d84cc683b42f56b1f4c2d1"
     }
    },
    "48cfde671ecf42c7a124a94a2962bb66": {
     "model_module": "@jupyter-widgets/controls",
     "model_module_version": "1.5.0",
     "model_name": "HBoxModel",
     "state": {
      "_dom_classes": [
       "context-visor",
       "137612175420208"
      ],
      "_model_module": "@jupyter-widgets/controls",
      "_model_module_version": "1.5.0",
      "_model_name": "HBoxModel",
      "_view_count": null,
      "_view_module": "@jupyter-widgets/controls",
      "_view_module_version": "1.5.0",
      "_view_name": "HBoxView",
      "box_style": "",
      "children": [
       "IPY_MODEL_ad2bbb4b23a648209da1edab0006adae"
      ],
      "layout": "IPY_MODEL_d6fed923432746c9b3dff00549de596d"
     }
    },
    "496e8548fc0f41b7b0c15c5881596326": {
     "model_module": "@jupyter-widgets/base",
     "model_module_version": "1.2.0",
     "model_name": "LayoutModel",
     "state": {
      "_model_module": "@jupyter-widgets/base",
      "_model_module_version": "1.2.0",
      "_model_name": "LayoutModel",
      "_view_count": null,
      "_view_module": "@jupyter-widgets/base",
      "_view_module_version": "1.2.0",
      "_view_name": "LayoutView",
      "align_content": null,
      "align_items": null,
      "align_self": null,
      "border": null,
      "bottom": null,
      "display": null,
      "flex": null,
      "flex_flow": null,
      "grid_area": null,
      "grid_auto_columns": null,
      "grid_auto_flow": null,
      "grid_auto_rows": null,
      "grid_column": null,
      "grid_gap": null,
      "grid_row": null,
      "grid_template_areas": null,
      "grid_template_columns": null,
      "grid_template_rows": null,
      "height": null,
      "justify_content": null,
      "justify_items": null,
      "left": null,
      "margin": null,
      "max_height": null,
      "max_width": null,
      "min_height": null,
      "min_width": null,
      "object_fit": null,
      "object_position": null,
      "order": null,
      "overflow": null,
      "overflow_x": null,
      "overflow_y": null,
      "padding": null,
      "right": null,
      "top": null,
      "visibility": null,
      "width": "initial"
     }
    },
    "4aba84bf7b4847fdb1cac927ba6a7ebf": {
     "model_module": "@jupyter-widgets/base",
     "model_module_version": "1.2.0",
     "model_name": "LayoutModel",
     "state": {
      "_model_module": "@jupyter-widgets/base",
      "_model_module_version": "1.2.0",
      "_model_name": "LayoutModel",
      "_view_count": null,
      "_view_module": "@jupyter-widgets/base",
      "_view_module_version": "1.2.0",
      "_view_name": "LayoutView",
      "align_content": null,
      "align_items": null,
      "align_self": null,
      "border": null,
      "bottom": null,
      "display": null,
      "flex": null,
      "flex_flow": null,
      "grid_area": null,
      "grid_auto_columns": null,
      "grid_auto_flow": null,
      "grid_auto_rows": null,
      "grid_column": null,
      "grid_gap": null,
      "grid_row": null,
      "grid_template_areas": null,
      "grid_template_columns": null,
      "grid_template_rows": null,
      "height": null,
      "justify_content": null,
      "justify_items": null,
      "left": null,
      "margin": null,
      "max_height": null,
      "max_width": null,
      "min_height": null,
      "min_width": null,
      "object_fit": null,
      "object_position": null,
      "order": null,
      "overflow": null,
      "overflow_x": null,
      "overflow_y": null,
      "padding": null,
      "right": null,
      "top": null,
      "visibility": null,
      "width": "50px"
     }
    },
    "4f8b904d91eb44028477a6a61c34af54": {
     "model_module": "@jupyter-widgets/controls",
     "model_module_version": "1.5.0",
     "model_name": "LabelModel",
     "state": {
      "_dom_classes": [],
      "_model_module": "@jupyter-widgets/controls",
      "_model_module_version": "1.5.0",
      "_model_name": "LabelModel",
      "_view_count": null,
      "_view_module": "@jupyter-widgets/controls",
      "_view_module_version": "1.5.0",
      "_view_name": "LabelView",
      "description": "",
      "description_tooltip": null,
      "layout": "IPY_MODEL_919da88097344a689a9afb6fa5977b29",
      "placeholder": "​",
      "style": "IPY_MODEL_d0ed39572cea4c37bb07dc99577258e3",
      "value": "Box # (of 15):"
     }
    },
    "57f7d34ddc2b4a938d7fcb4bf066deb0": {
     "model_module": "@jupyter-widgets/controls",
     "model_module_version": "1.5.0",
     "model_name": "DescriptionStyleModel",
     "state": {
      "_model_module": "@jupyter-widgets/controls",
      "_model_module_version": "1.5.0",
      "_model_name": "DescriptionStyleModel",
      "_view_count": null,
      "_view_module": "@jupyter-widgets/base",
      "_view_module_version": "1.2.0",
      "_view_name": "StyleView",
      "description_width": "initial"
     }
    },
    "57f9b685011043418d9552b3cb48784e": {
     "model_module": "@jupyter-widgets/controls",
     "model_module_version": "1.5.0",
     "model_name": "ButtonModel",
     "state": {
      "_dom_classes": [],
      "_model_module": "@jupyter-widgets/controls",
      "_model_module_version": "1.5.0",
      "_model_name": "ButtonModel",
      "_view_count": null,
      "_view_module": "@jupyter-widgets/controls",
      "_view_module_version": "1.5.0",
      "_view_name": "ButtonView",
      "button_style": "",
      "description": "save",
      "disabled": false,
      "icon": "",
      "layout": "IPY_MODEL_fbb4d3433c6f42e094934b6936659b8f",
      "style": "IPY_MODEL_3cf7099443124d289495da41bfbc8b58",
      "tooltip": ""
     }
    },
    "58b2ec779ab64a2b9e85d57160b453c9": {
     "model_module": "@jupyter-widgets/controls",
     "model_module_version": "1.5.0",
     "model_name": "DescriptionStyleModel",
     "state": {
      "_model_module": "@jupyter-widgets/controls",
      "_model_module_version": "1.5.0",
      "_model_name": "DescriptionStyleModel",
      "_view_count": null,
      "_view_module": "@jupyter-widgets/base",
      "_view_module_version": "1.2.0",
      "_view_name": "StyleView",
      "description_width": "0px"
     }
    },
    "60e22ee6a0fc428b8e3709e394e44841": {
     "model_module": "@jupyter-widgets/controls",
     "model_module_version": "1.5.0",
     "model_name": "HBoxModel",
     "state": {
      "_dom_classes": [],
      "_model_module": "@jupyter-widgets/controls",
      "_model_module_version": "1.5.0",
      "_model_name": "HBoxModel",
      "_view_count": null,
      "_view_module": "@jupyter-widgets/controls",
      "_view_module_version": "1.5.0",
      "_view_name": "HBoxView",
      "box_style": "",
      "children": [
       "IPY_MODEL_e1de76477d764776ac5a209f7ebcc8d6",
       "IPY_MODEL_48cfde671ecf42c7a124a94a2962bb66",
       "IPY_MODEL_4064335db7684f2f81ad237513e90c34",
       "IPY_MODEL_99bbf4dd65424e87aab67bcf162a8171"
      ],
      "layout": "IPY_MODEL_eee81f49e99f4cbb8db65b56c511adbd"
     }
    },
    "6a87fbd3fc6440c5a81a564ac94400cc": {
     "model_module": "@jupyter-widgets/controls",
     "model_module_version": "1.5.0",
     "model_name": "VBoxModel",
     "state": {
      "_dom_classes": [],
      "_model_module": "@jupyter-widgets/controls",
      "_model_module_version": "1.5.0",
      "_model_name": "VBoxModel",
      "_view_count": null,
      "_view_module": "@jupyter-widgets/controls",
      "_view_module_version": "1.5.0",
      "_view_name": "VBoxView",
      "box_style": "",
      "children": [
       "IPY_MODEL_01cd556393d643f8bb3fd88c8cd7bb84",
       "IPY_MODEL_48555e1574db42db86f6572e9c888b58",
       "IPY_MODEL_47b4dcc7177b41d1aa69d3918a6e8598",
       "IPY_MODEL_dc75396dcc3c4606a8fe56401d29a4e9"
      ],
      "layout": "IPY_MODEL_778afca8ec0a431ca8670604c10d8956"
     }
    },
    "6eed00e28fae4570b2348330bb9dcbab": {
     "model_module": "@jupyter-widgets/controls",
     "model_module_version": "1.5.0",
     "model_name": "DescriptionStyleModel",
     "state": {
      "_model_module": "@jupyter-widgets/controls",
      "_model_module_version": "1.5.0",
      "_model_name": "DescriptionStyleModel",
      "_view_count": null,
      "_view_module": "@jupyter-widgets/base",
      "_view_module_version": "1.2.0",
      "_view_name": "StyleView",
      "description_width": "initial"
     }
    },
    "72440081608048b1b5fc76e42011ad0c": {
     "model_module": "@jupyter-widgets/base",
     "model_module_version": "1.2.0",
     "model_name": "LayoutModel",
     "state": {
      "_model_module": "@jupyter-widgets/base",
      "_model_module_version": "1.2.0",
      "_model_name": "LayoutModel",
      "_view_count": null,
      "_view_module": "@jupyter-widgets/base",
      "_view_module_version": "1.2.0",
      "_view_name": "LayoutView",
      "align_content": null,
      "align_items": null,
      "align_self": null,
      "border": null,
      "bottom": null,
      "display": null,
      "flex": null,
      "flex_flow": null,
      "grid_area": null,
      "grid_auto_columns": null,
      "grid_auto_flow": null,
      "grid_auto_rows": null,
      "grid_column": null,
      "grid_gap": null,
      "grid_row": null,
      "grid_template_areas": null,
      "grid_template_columns": null,
      "grid_template_rows": null,
      "height": null,
      "justify_content": null,
      "justify_items": null,
      "left": null,
      "margin": null,
      "max_height": null,
      "max_width": null,
      "min_height": null,
      "min_width": null,
      "object_fit": null,
      "object_position": null,
      "order": null,
      "overflow": null,
      "overflow_x": null,
      "overflow_y": null,
      "padding": null,
      "right": null,
      "top": null,
      "visibility": "hidden",
      "width": null
     }
    },
    "778afca8ec0a431ca8670604c10d8956": {
     "model_module": "@jupyter-widgets/base",
     "model_module_version": "1.2.0",
     "model_name": "LayoutModel",
     "state": {
      "_model_module": "@jupyter-widgets/base",
      "_model_module_version": "1.2.0",
      "_model_name": "LayoutModel",
      "_view_count": null,
      "_view_module": "@jupyter-widgets/base",
      "_view_module_version": "1.2.0",
      "_view_name": "LayoutView",
      "align_content": null,
      "align_items": null,
      "align_self": null,
      "border": null,
      "bottom": null,
      "display": null,
      "flex": null,
      "flex_flow": null,
      "grid_area": null,
      "grid_auto_columns": null,
      "grid_auto_flow": null,
      "grid_auto_rows": null,
      "grid_column": null,
      "grid_gap": null,
      "grid_row": null,
      "grid_template_areas": null,
      "grid_template_columns": null,
      "grid_template_rows": null,
      "height": null,
      "justify_content": null,
      "justify_items": null,
      "left": null,
      "margin": null,
      "max_height": null,
      "max_width": null,
      "min_height": null,
      "min_width": null,
      "object_fit": null,
      "object_position": null,
      "order": null,
      "overflow": null,
      "overflow_x": null,
      "overflow_y": null,
      "padding": null,
      "right": null,
      "top": null,
      "visibility": null,
      "width": null
     }
    },
    "7a928ad4bd52422b9544d0d312402a5b": {
     "model_module": "@jupyter-widgets/controls",
     "model_module_version": "1.5.0",
     "model_name": "DescriptionStyleModel",
     "state": {
      "_model_module": "@jupyter-widgets/controls",
      "_model_module_version": "1.5.0",
      "_model_name": "DescriptionStyleModel",
      "_view_count": null,
      "_view_module": "@jupyter-widgets/base",
      "_view_module_version": "1.2.0",
      "_view_name": "StyleView",
      "description_width": ""
     }
    },
    "7e8086d63d1b4bbf96e4c70c63bc920a": {
     "model_module": "@jupyter-widgets/controls",
     "model_module_version": "1.5.0",
     "model_name": "HBoxModel",
     "state": {
      "_dom_classes": [
       "context-visor",
       "137612175421024"
      ],
      "_model_module": "@jupyter-widgets/controls",
      "_model_module_version": "1.5.0",
      "_model_name": "HBoxModel",
      "_view_count": null,
      "_view_module": "@jupyter-widgets/controls",
      "_view_module_version": "1.5.0",
      "_view_name": "HBoxView",
      "box_style": "",
      "children": [
       "IPY_MODEL_d89bf137dd5e4d698dc7f6187f2e148c",
       "IPY_MODEL_3588eeb28e024f1ead6cd21f46d65a6c",
       "IPY_MODEL_b0d6d88a4b824cf9be7c01d5611c3426"
      ],
      "layout": "IPY_MODEL_39648bdbc39c4c7c827510141663804c"
     }
    },
    "878477e8708a47e8ab49b00be715d1cd": {
     "model_module": "@jupyter-widgets/controls",
     "model_module_version": "1.5.0",
     "model_name": "HBoxModel",
     "state": {
      "_dom_classes": [
       "display_option_grp"
      ],
      "_model_module": "@jupyter-widgets/controls",
      "_model_module_version": "1.5.0",
      "_model_name": "HBoxModel",
      "_view_count": null,
      "_view_module": "@jupyter-widgets/controls",
      "_view_module_version": "1.5.0",
      "_view_name": "HBoxView",
      "box_style": "",
      "children": [
       "IPY_MODEL_bd6e62f7db8c40d695d6ca3d93cf7e94"
      ],
      "layout": "IPY_MODEL_068b8601d7364d29b9598b80aeb782e0"
     }
    },
    "8b38a0bdf80149bba72324232beb14ed": {
     "model_module": "@jupyter-widgets/controls",
     "model_module_version": "1.5.0",
     "model_name": "DescriptionStyleModel",
     "state": {
      "_model_module": "@jupyter-widgets/controls",
      "_model_module_version": "1.5.0",
      "_model_name": "DescriptionStyleModel",
      "_view_count": null,
      "_view_module": "@jupyter-widgets/base",
      "_view_module_version": "1.2.0",
      "_view_name": "StyleView",
      "description_width": ""
     }
    },
    "8ca00801b4e54cbd980c998791664f60": {
     "model_module": "@jupyter-widgets/controls",
     "model_module_version": "1.5.0",
     "model_name": "CheckboxModel",
     "state": {
      "_dom_classes": [],
      "_model_module": "@jupyter-widgets/controls",
      "_model_module_version": "1.5.0",
      "_model_name": "CheckboxModel",
      "_view_count": null,
      "_view_module": "@jupyter-widgets/controls",
      "_view_module_version": "1.5.0",
      "_view_name": "CheckboxView",
      "description": "all",
      "description_tooltip": null,
      "disabled": false,
      "indent": true,
      "layout": "IPY_MODEL_0d4014b56e93430e9782502bf29c7c2e",
      "style": "IPY_MODEL_58b2ec779ab64a2b9e85d57160b453c9",
      "value": false
     }
    },
    "90f41682d85f42a6becdca99a59e9a2c": {
     "model_module": "@jupyter-widgets/controls",
     "model_module_version": "1.5.0",
     "model_name": "CheckboxModel",
     "state": {
      "_dom_classes": [],
      "_model_module": "@jupyter-widgets/controls",
      "_model_module_version": "1.5.0",
      "_model_name": "CheckboxModel",
      "_view_count": null,
      "_view_module": "@jupyter-widgets/controls",
      "_view_module_version": "1.5.0",
      "_view_name": "CheckboxView",
      "description": "all",
      "description_tooltip": null,
      "disabled": false,
      "indent": true,
      "layout": "IPY_MODEL_496e8548fc0f41b7b0c15c5881596326",
      "style": "IPY_MODEL_df9bb4a390fa4e6597b832d09949d24e",
      "value": false
     }
    },
    "919da88097344a689a9afb6fa5977b29": {
     "model_module": "@jupyter-widgets/base",
     "model_module_version": "1.2.0",
     "model_name": "LayoutModel",
     "state": {
      "_model_module": "@jupyter-widgets/base",
      "_model_module_version": "1.2.0",
      "_model_name": "LayoutModel",
      "_view_count": null,
      "_view_module": "@jupyter-widgets/base",
      "_view_module_version": "1.2.0",
      "_view_name": "LayoutView",
      "align_content": null,
      "align_items": null,
      "align_self": null,
      "border": null,
      "bottom": null,
      "display": null,
      "flex": null,
      "flex_flow": null,
      "grid_area": null,
      "grid_auto_columns": null,
      "grid_auto_flow": null,
      "grid_auto_rows": null,
      "grid_column": null,
      "grid_gap": null,
      "grid_row": null,
      "grid_template_areas": null,
      "grid_template_columns": null,
      "grid_template_rows": null,
      "height": null,
      "justify_content": null,
      "justify_items": null,
      "left": null,
      "margin": null,
      "max_height": null,
      "max_width": null,
      "min_height": null,
      "min_width": null,
      "object_fit": null,
      "object_position": null,
      "order": null,
      "overflow": null,
      "overflow_x": null,
      "overflow_y": null,
      "padding": "0px 0px 0px 10px",
      "right": null,
      "top": null,
      "visibility": null,
      "width": "initial"
     }
    },
    "929913d45cc9400087eab703338d00f0": {
     "model_module": "@jupyter-widgets/controls",
     "model_module_version": "1.5.0",
     "model_name": "DescriptionStyleModel",
     "state": {
      "_model_module": "@jupyter-widgets/controls",
      "_model_module_version": "1.5.0",
      "_model_name": "DescriptionStyleModel",
      "_view_count": null,
      "_view_module": "@jupyter-widgets/base",
      "_view_module_version": "1.2.0",
      "_view_name": "StyleView",
      "description_width": "initial"
     }
    },
    "99bbf4dd65424e87aab67bcf162a8171": {
     "model_module": "@jupyter-widgets/controls",
     "model_module_version": "1.5.0",
     "model_name": "HBoxModel",
     "state": {
      "_dom_classes": [
       "context-visor",
       "137612175414976"
      ],
      "_model_module": "@jupyter-widgets/controls",
      "_model_module_version": "1.5.0",
      "_model_name": "HBoxModel",
      "_view_count": null,
      "_view_module": "@jupyter-widgets/controls",
      "_view_module_version": "1.5.0",
      "_view_name": "HBoxView",
      "box_style": "",
      "children": [
       "IPY_MODEL_57f9b685011043418d9552b3cb48784e",
       "IPY_MODEL_0f1bb59001314b13a091c7e1b331c58b"
      ],
      "layout": "IPY_MODEL_fb08b9a59d6c4e678b368c915bb97405"
     }
    },
    "9a49e8c567b94a64a19dc3eecdf5a857": {
     "model_module": "@jupyter-widgets/controls",
     "model_module_version": "1.5.0",
     "model_name": "HBoxModel",
     "state": {
      "_dom_classes": [],
      "_model_module": "@jupyter-widgets/controls",
      "_model_module_version": "1.5.0",
      "_model_name": "HBoxModel",
      "_view_count": null,
      "_view_module": "@jupyter-widgets/controls",
      "_view_module_version": "1.5.0",
      "_view_name": "HBoxView",
      "box_style": "",
      "children": [
       "IPY_MODEL_25cdb8370f70459886e00eeef0f66388",
       "IPY_MODEL_175e7409479d4f56ba4a4faf4c8bebaa",
       "IPY_MODEL_c944b093296248b4a9a75a9139d5003d"
      ],
      "layout": "IPY_MODEL_72440081608048b1b5fc76e42011ad0c"
     }
    },
    "a2410f8101384beda0114d93ac655edb": {
     "model_module": "@jupyter-widgets/controls",
     "model_module_version": "1.5.0",
     "model_name": "DropdownModel",
     "state": {
      "_dom_classes": [],
      "_model_module": "@jupyter-widgets/controls",
      "_model_module_version": "1.5.0",
      "_model_name": "DropdownModel",
      "_options_labels": [
       "Tesseract-crop-post",
       "Tesseract-crop"
      ],
      "_view_count": null,
      "_view_module": "@jupyter-widgets/controls",
      "_view_module_version": "1.5.0",
      "_view_name": "DropdownView",
      "description": "",
      "description_tooltip": null,
      "disabled": false,
      "index": 0,
      "layout": "IPY_MODEL_bfa2f19eedfa4bd99b59d08365ae4676",
      "style": "IPY_MODEL_a7755ebc78f34335a32f75fa342fcd76"
     }
    },
    "a7755ebc78f34335a32f75fa342fcd76": {
     "model_module": "@jupyter-widgets/controls",
     "model_module_version": "1.5.0",
     "model_name": "DescriptionStyleModel",
     "state": {
      "_model_module": "@jupyter-widgets/controls",
      "_model_module_version": "1.5.0",
      "_model_name": "DescriptionStyleModel",
      "_view_count": null,
      "_view_module": "@jupyter-widgets/base",
      "_view_module_version": "1.2.0",
      "_view_name": "StyleView",
      "description_width": "initial"
     }
    },
    "ad2bbb4b23a648209da1edab0006adae": {
     "model_module": "@jupyter-widgets/controls",
     "model_module_version": "1.5.0",
     "model_name": "DropdownModel",
     "state": {
      "_dom_classes": [],
      "_model_module": "@jupyter-widgets/controls",
      "_model_module_version": "1.5.0",
      "_model_name": "DropdownModel",
      "_options_labels": [
       "Action_Comics_1960-01-00_(262)",
       "Adolf_Cap_01_008",
       "Barnaby_v1-028",
       "Barnaby_v1-029",
       "Buck_Danny_-_12_-_Avions_Sans_Pilotes_-_013",
       "Cannon-292",
       "Contrato_con_Dios_028",
       "Erase_una_vez_en_Francia_02_88",
       "FOX_CHILLINTALES_T17_012",
       "Furari_-_Jiro_Taniguchi_selma_056",
       "Galactus_12",
       "INOUE_KYOUMEN_002",
       "MCCALL_ROBINHOOD_T31_010",
       "MCCAY_LITTLENEMO_090",
       "Mary_Perkins_On_Stage_v2006_1_-_P00068",
       "PIKE_BOYLOVEGIRLS_T41_012",
       "Sal_Buscema_Spaceknights_&_Superheroes_Ocular_Edition_1_1",
       "Sal_Buscema_Spaceknights_&_Superheroes_Ocular_Edition_1_1_K",
       "Sal_Buscema_Spaceknights_&_Superheroes_Ocular_Edition_1_2",
       "Spirou_Et_Fantasio_Integrale_06_1958_1959_0025_0024",
       "Strange_Tales_172005",
       "Strange_Tales_172021",
       "Tarzan_014-21",
       "Tintin_21_Les_Bijoux_de_la_Castafiore_page_39",
       "Transformers_-_Unicron_000-004",
       "Transformers_-_Unicron_000-016",
       "WARE_ACME_024",
       "Yoko_Tsuno_T01_1972-10",
       "Your_Name_Another_Side_Earthbound_T02_084",
       "manga_0033",
       "ronson-031",
       "哀心迷図のバベル 第01巻 - 22002_00_059"
      ],
      "_view_count": null,
      "_view_module": "@jupyter-widgets/controls",
      "_view_module_version": "1.5.0",
      "_view_name": "DropdownView",
      "description": "",
      "description_tooltip": null,
      "disabled": false,
      "index": 14,
      "layout": "IPY_MODEL_18ccc64fc8504bdeb2fb07043688c1c4",
      "style": "IPY_MODEL_6eed00e28fae4570b2348330bb9dcbab"
     }
    },
    "b0d6d88a4b824cf9be7c01d5611c3426": {
     "model_module": "@jupyter-widgets/controls",
     "model_module_version": "1.5.0",
     "model_name": "HBoxModel",
     "state": {
      "_dom_classes": [
       "context-visor",
       "137612175420544"
      ],
      "_model_module": "@jupyter-widgets/controls",
      "_model_module_version": "1.5.0",
      "_model_name": "HBoxModel",
      "_view_count": null,
      "_view_module": "@jupyter-widgets/controls",
      "_view_module_version": "1.5.0",
      "_view_name": "HBoxView",
      "box_style": "",
      "children": [
       "IPY_MODEL_e13c49f50ebd4f81a1dafe940ac13a31"
      ],
      "layout": "IPY_MODEL_1da81d9a8d7446838b76ae017e794e78"
     }
    },
    "bb3adfcd8e4a4af29079953bc9220ac1": {
     "model_module": "@jupyter-widgets/controls",
     "model_module_version": "1.5.0",
     "model_name": "ButtonStyleModel",
     "state": {
      "_model_module": "@jupyter-widgets/controls",
      "_model_module_version": "1.5.0",
      "_model_name": "ButtonStyleModel",
      "_view_count": null,
      "_view_module": "@jupyter-widgets/base",
      "_view_module_version": "1.2.0",
      "_view_name": "StyleView",
      "button_color": null,
      "font_weight": "bold"
     }
    },
    "bd6e62f7db8c40d695d6ca3d93cf7e94": {
     "model_module": "@jupyter-widgets/controls",
     "model_module_version": "1.5.0",
     "model_name": "DropdownModel",
     "state": {
      "_dom_classes": [],
      "_model_module": "@jupyter-widgets/controls",
      "_model_module_version": "1.5.0",
      "_model_name": "DropdownModel",
      "_options_labels": [
       "Boxes",
       "Image",
       "Mask",
       "Image & Mask",
       "Page data",
       "Ground truth",
       "Image All",
       "Results",
       "Best results",
       "Accuracy",
       "Dataframe",
       "Config"
      ],
      "_view_count": null,
      "_view_module": "@jupyter-widgets/controls",
      "_view_module_version": "1.5.0",
      "_view_name": "DropdownView",
      "description": "",
      "description_tooltip": null,
      "disabled": false,
      "index": 7,
      "layout": "IPY_MODEL_0e3ae88bc86f4a31b5aedc1dfd0b1bf2",
      "style": "IPY_MODEL_929913d45cc9400087eab703338d00f0"
     }
    },
    "bfa2f19eedfa4bd99b59d08365ae4676": {
     "model_module": "@jupyter-widgets/base",
     "model_module_version": "1.2.0",
     "model_name": "LayoutModel",
     "state": {
      "_model_module": "@jupyter-widgets/base",
      "_model_module_version": "1.2.0",
      "_model_name": "LayoutModel",
      "_view_count": null,
      "_view_module": "@jupyter-widgets/base",
      "_view_module_version": "1.2.0",
      "_view_name": "LayoutView",
      "align_content": null,
      "align_items": null,
      "align_self": null,
      "border": null,
      "bottom": null,
      "display": null,
      "flex": null,
      "flex_flow": null,
      "grid_area": null,
      "grid_auto_columns": null,
      "grid_auto_flow": null,
      "grid_auto_rows": null,
      "grid_column": null,
      "grid_gap": null,
      "grid_row": null,
      "grid_template_areas": null,
      "grid_template_columns": null,
      "grid_template_rows": null,
      "height": null,
      "justify_content": null,
      "justify_items": null,
      "left": null,
      "margin": null,
      "max_height": null,
      "max_width": null,
      "min_height": null,
      "min_width": null,
      "object_fit": null,
      "object_position": null,
      "order": null,
      "overflow": null,
      "overflow_x": null,
      "overflow_y": null,
      "padding": null,
      "right": null,
      "top": null,
      "visibility": null,
      "width": "fit-content"
     }
    },
    "c193eb8285a740208457bbe7985d356f": {
     "model_module": "@jupyter-widgets/base",
     "model_module_version": "1.2.0",
     "model_name": "LayoutModel",
     "state": {
      "_model_module": "@jupyter-widgets/base",
      "_model_module_version": "1.2.0",
      "_model_name": "LayoutModel",
      "_view_count": null,
      "_view_module": "@jupyter-widgets/base",
      "_view_module_version": "1.2.0",
      "_view_name": "LayoutView",
      "align_content": null,
      "align_items": null,
      "align_self": null,
      "border": null,
      "bottom": null,
      "display": null,
      "flex": null,
      "flex_flow": null,
      "grid_area": null,
      "grid_auto_columns": null,
      "grid_auto_flow": null,
      "grid_auto_rows": null,
      "grid_column": null,
      "grid_gap": null,
      "grid_row": null,
      "grid_template_areas": null,
      "grid_template_columns": null,
      "grid_template_rows": null,
      "height": null,
      "justify_content": null,
      "justify_items": null,
      "left": null,
      "margin": null,
      "max_height": null,
      "max_width": null,
      "min_height": null,
      "min_width": null,
      "object_fit": null,
      "object_position": null,
      "order": null,
      "overflow": null,
      "overflow_x": null,
      "overflow_y": null,
      "padding": null,
      "right": null,
      "top": null,
      "visibility": null,
      "width": null
     }
    },
    "c944b093296248b4a9a75a9139d5003d": {
     "model_module": "@jupyter-widgets/controls",
     "model_module_version": "1.5.0",
     "model_name": "HTMLModel",
     "state": {
      "_dom_classes": [],
      "_model_module": "@jupyter-widgets/controls",
      "_model_module_version": "1.5.0",
      "_model_name": "HTMLModel",
      "_view_count": null,
      "_view_module": "@jupyter-widgets/controls",
      "_view_module_version": "1.5.0",
      "_view_name": "HTMLView",
      "description": "",
      "description_tooltip": null,
      "layout": "IPY_MODEL_dcc0c0ee6a284ecb8c40f06891919805",
      "placeholder": "​",
      "style": "IPY_MODEL_1807cf3a1770434599e993a087293d91",
      "value": " 11/11 [00:04&lt;00:00,  2.10it/s]"
     }
    },
    "d0ed39572cea4c37bb07dc99577258e3": {
     "model_module": "@jupyter-widgets/controls",
     "model_module_version": "1.5.0",
     "model_name": "DescriptionStyleModel",
     "state": {
      "_model_module": "@jupyter-widgets/controls",
      "_model_module_version": "1.5.0",
      "_model_name": "DescriptionStyleModel",
      "_view_count": null,
      "_view_module": "@jupyter-widgets/base",
      "_view_module_version": "1.2.0",
      "_view_name": "StyleView",
      "description_width": ""
     }
    },
    "d6fed923432746c9b3dff00549de596d": {
     "model_module": "@jupyter-widgets/base",
     "model_module_version": "1.2.0",
     "model_name": "LayoutModel",
     "state": {
      "_model_module": "@jupyter-widgets/base",
      "_model_module_version": "1.2.0",
      "_model_name": "LayoutModel",
      "_view_count": null,
      "_view_module": "@jupyter-widgets/base",
      "_view_module_version": "1.2.0",
      "_view_name": "LayoutView",
      "align_content": null,
      "align_items": null,
      "align_self": null,
      "border": null,
      "bottom": null,
      "display": null,
      "flex": null,
      "flex_flow": null,
      "grid_area": null,
      "grid_auto_columns": null,
      "grid_auto_flow": null,
      "grid_auto_rows": null,
      "grid_column": null,
      "grid_gap": null,
      "grid_row": null,
      "grid_template_areas": null,
      "grid_template_columns": null,
      "grid_template_rows": null,
      "height": null,
      "justify_content": null,
      "justify_items": null,
      "left": null,
      "margin": null,
      "max_height": null,
      "max_width": null,
      "min_height": null,
      "min_width": null,
      "object_fit": null,
      "object_position": null,
      "order": null,
      "overflow": null,
      "overflow_x": null,
      "overflow_y": null,
      "padding": null,
      "right": null,
      "top": null,
      "visibility": null,
      "width": null
     }
    },
    "d89bf137dd5e4d698dc7f6187f2e148c": {
     "model_module": "@jupyter-widgets/controls",
     "model_module_version": "1.5.0",
     "model_name": "HBoxModel",
     "state": {
      "_dom_classes": [
       "box_grp"
      ],
      "_model_module": "@jupyter-widgets/controls",
      "_model_module_version": "1.5.0",
      "_model_name": "HBoxModel",
      "_view_count": null,
      "_view_module": "@jupyter-widgets/controls",
      "_view_module_version": "1.5.0",
      "_view_name": "HBoxView",
      "box_style": "",
      "children": [
       "IPY_MODEL_4f8b904d91eb44028477a6a61c34af54",
       "IPY_MODEL_90f41682d85f42a6becdca99a59e9a2c",
       "IPY_MODEL_3d0ad04ce06b4314b64dcdde269b38e6"
      ],
      "layout": "IPY_MODEL_eab60b2fe7a84e4b9a913f1450766452"
     }
    },
    "dc75396dcc3c4606a8fe56401d29a4e9": {
     "model_module": "@jupyter-widgets/output",
     "model_module_version": "1.0.0",
     "model_name": "OutputModel",
     "state": {
      "_dom_classes": [],
      "_model_module": "@jupyter-widgets/output",
      "_model_module_version": "1.0.0",
      "_model_name": "OutputModel",
      "_view_count": null,
      "_view_module": "@jupyter-widgets/output",
      "_view_module_version": "1.0.0",
      "_view_name": "OutputView",
      "layout": "IPY_MODEL_ee44cc3dae5c42299460702dd280dbce",
      "msg_id": "",
      "outputs": [
       {
        "data": {
         "text/html": "<table><colgroup><col style='width: auto;'/><col style='width: auto;'/></colgroup><tr><td style='text-align: center;'><img src=\"//89f3-34-32-178-34.ngrok-free.app/images/cache/Mary_Perkins_On_Stage_v2006_1_-_P00068/_crop/Mary_Perkins_On_Stage_v2006_1_-_P00068_2_Default.png\"/></td><td style='font-size: 12pt; text-align: left; '>Maybe... but l tn certainly wouldn't feel right holding back tip money!<br/><strong><span style='color: red;'>0.96</span></strong></td></tr></table>\n<br/>\n<pre style='font-size: 14px;'><div style='font-family: monospace; white-space: pre-wrap;'>Maybe ... but I<span style='color: green;'>&#x2395;&#x2395;&#x2395;</span> certainly wouldn&#x27;t feel right holding back tip money!</div><br/><div style='font-family: monospace; white-space: pre-wrap;'>Maybe<span style='color: red;'>&#x2395;</span>... but <span style='color: red;'>l tn</span> certainly wouldn&#x27;t feel right holding back tip money!</div></pre>",
         "text/plain": "<IPython.core.display.HTML object>"
        },
        "metadata": {},
        "output_type": "display_data"
       }
      ]
     }
    },
    "dcc0c0ee6a284ecb8c40f06891919805": {
     "model_module": "@jupyter-widgets/base",
     "model_module_version": "1.2.0",
     "model_name": "LayoutModel",
     "state": {
      "_model_module": "@jupyter-widgets/base",
      "_model_module_version": "1.2.0",
      "_model_name": "LayoutModel",
      "_view_count": null,
      "_view_module": "@jupyter-widgets/base",
      "_view_module_version": "1.2.0",
      "_view_name": "LayoutView",
      "align_content": null,
      "align_items": null,
      "align_self": null,
      "border": null,
      "bottom": null,
      "display": null,
      "flex": null,
      "flex_flow": null,
      "grid_area": null,
      "grid_auto_columns": null,
      "grid_auto_flow": null,
      "grid_auto_rows": null,
      "grid_column": null,
      "grid_gap": null,
      "grid_row": null,
      "grid_template_areas": null,
      "grid_template_columns": null,
      "grid_template_rows": null,
      "height": null,
      "justify_content": null,
      "justify_items": null,
      "left": null,
      "margin": null,
      "max_height": null,
      "max_width": null,
      "min_height": null,
      "min_width": null,
      "object_fit": null,
      "object_position": null,
      "order": null,
      "overflow": null,
      "overflow_x": null,
      "overflow_y": null,
      "padding": null,
      "right": null,
      "top": null,
      "visibility": null,
      "width": null
     }
    },
    "df77be57fe7943298432a759e6ce8416": {
     "model_module": "@jupyter-widgets/base",
     "model_module_version": "1.2.0",
     "model_name": "LayoutModel",
     "state": {
      "_model_module": "@jupyter-widgets/base",
      "_model_module_version": "1.2.0",
      "_model_name": "LayoutModel",
      "_view_count": null,
      "_view_module": "@jupyter-widgets/base",
      "_view_module_version": "1.2.0",
      "_view_name": "LayoutView",
      "align_content": null,
      "align_items": null,
      "align_self": null,
      "border": null,
      "bottom": null,
      "display": null,
      "flex": null,
      "flex_flow": null,
      "grid_area": null,
      "grid_auto_columns": null,
      "grid_auto_flow": null,
      "grid_auto_rows": null,
      "grid_column": null,
      "grid_gap": null,
      "grid_row": null,
      "grid_template_areas": null,
      "grid_template_columns": null,
      "grid_template_rows": null,
      "height": null,
      "justify_content": null,
      "justify_items": null,
      "left": null,
      "margin": null,
      "max_height": null,
      "max_width": null,
      "min_height": null,
      "min_width": null,
      "object_fit": null,
      "object_position": null,
      "order": null,
      "overflow": null,
      "overflow_x": null,
      "overflow_y": null,
      "padding": "0px 0px 0px 10px",
      "right": null,
      "top": null,
      "visibility": null,
      "width": "initial"
     }
    },
    "df9bb4a390fa4e6597b832d09949d24e": {
     "model_module": "@jupyter-widgets/controls",
     "model_module_version": "1.5.0",
     "model_name": "DescriptionStyleModel",
     "state": {
      "_model_module": "@jupyter-widgets/controls",
      "_model_module_version": "1.5.0",
      "_model_name": "DescriptionStyleModel",
      "_view_count": null,
      "_view_module": "@jupyter-widgets/base",
      "_view_module_version": "1.2.0",
      "_view_name": "StyleView",
      "description_width": "0px"
     }
    },
    "e13c49f50ebd4f81a1dafe940ac13a31": {
     "model_module": "@jupyter-widgets/controls",
     "model_module_version": "1.5.0",
     "model_name": "HTMLModel",
     "state": {
      "_dom_classes": [
       "wrapper-spinner"
      ],
      "_model_module": "@jupyter-widgets/controls",
      "_model_module_version": "1.5.0",
      "_model_name": "HTMLModel",
      "_view_count": null,
      "_view_module": "@jupyter-widgets/controls",
      "_view_module_version": "1.5.0",
      "_view_name": "HTMLView",
      "description": "",
      "description_tooltip": null,
      "layout": "IPY_MODEL_f40fbbd396ac4528a97962ec911d5837",
      "placeholder": "​",
      "style": "IPY_MODEL_03b66d0eb8b5487b8ad21382b93cc68d",
      "value": "\n<div class=\"loading-spinner\" style=\"width: 26px; height: 26px;\">\n    <div class=\"spinner\" style=\"width: 20px; height: 20px;\"></div>\n</div>\n    "
     }
    },
    "e1de76477d764776ac5a209f7ebcc8d6": {
     "model_module": "@jupyter-widgets/controls",
     "model_module_version": "1.5.0",
     "model_name": "HBoxModel",
     "state": {
      "_dom_classes": [
       "context-visor",
       "137612175420016"
      ],
      "_model_module": "@jupyter-widgets/controls",
      "_model_module_version": "1.5.0",
      "_model_name": "HBoxModel",
      "_view_count": null,
      "_view_module": "@jupyter-widgets/controls",
      "_view_module_version": "1.5.0",
      "_view_name": "HBoxView",
      "box_style": "",
      "children": [
       "IPY_MODEL_0c28619fcebc4c58a9a756888add9140"
      ],
      "layout": "IPY_MODEL_fa20ebba2bdb493799524bdf780fa86e"
     }
    },
    "e36c1a1c609c425bb76ea83edf910425": {
     "model_module": "@jupyter-widgets/base",
     "model_module_version": "1.2.0",
     "model_name": "LayoutModel",
     "state": {
      "_model_module": "@jupyter-widgets/base",
      "_model_module_version": "1.2.0",
      "_model_name": "LayoutModel",
      "_view_count": null,
      "_view_module": "@jupyter-widgets/base",
      "_view_module_version": "1.2.0",
      "_view_name": "LayoutView",
      "align_content": null,
      "align_items": null,
      "align_self": null,
      "border": null,
      "bottom": null,
      "display": null,
      "flex": null,
      "flex_flow": null,
      "grid_area": null,
      "grid_auto_columns": null,
      "grid_auto_flow": null,
      "grid_auto_rows": null,
      "grid_column": null,
      "grid_gap": null,
      "grid_row": null,
      "grid_template_areas": null,
      "grid_template_columns": null,
      "grid_template_rows": null,
      "height": null,
      "justify_content": null,
      "justify_items": null,
      "left": null,
      "margin": null,
      "max_height": null,
      "max_width": null,
      "min_height": null,
      "min_width": null,
      "object_fit": null,
      "object_position": null,
      "order": null,
      "overflow": null,
      "overflow_x": null,
      "overflow_y": null,
      "padding": null,
      "right": null,
      "top": null,
      "visibility": null,
      "width": null
     }
    },
    "eab60b2fe7a84e4b9a913f1450766452": {
     "model_module": "@jupyter-widgets/base",
     "model_module_version": "1.2.0",
     "model_name": "LayoutModel",
     "state": {
      "_model_module": "@jupyter-widgets/base",
      "_model_module_version": "1.2.0",
      "_model_name": "LayoutModel",
      "_view_count": null,
      "_view_module": "@jupyter-widgets/base",
      "_view_module_version": "1.2.0",
      "_view_name": "LayoutView",
      "align_content": null,
      "align_items": null,
      "align_self": null,
      "border": null,
      "bottom": null,
      "display": null,
      "flex": null,
      "flex_flow": null,
      "grid_area": null,
      "grid_auto_columns": null,
      "grid_auto_flow": null,
      "grid_auto_rows": null,
      "grid_column": null,
      "grid_gap": null,
      "grid_row": null,
      "grid_template_areas": null,
      "grid_template_columns": null,
      "grid_template_rows": null,
      "height": null,
      "justify_content": null,
      "justify_items": null,
      "left": null,
      "margin": null,
      "max_height": null,
      "max_width": null,
      "min_height": null,
      "min_width": null,
      "object_fit": null,
      "object_position": null,
      "order": null,
      "overflow": null,
      "overflow_x": null,
      "overflow_y": null,
      "padding": null,
      "right": null,
      "top": null,
      "visibility": null,
      "width": null
     }
    },
    "ec3c881e1da4414a9c9499497bc5de74": {
     "model_module": "@jupyter-widgets/controls",
     "model_module_version": "1.5.0",
     "model_name": "DropdownModel",
     "state": {
      "_dom_classes": [],
      "_model_module": "@jupyter-widgets/controls",
      "_model_module_version": "1.5.0",
      "_model_name": "DropdownModel",
      "_options_labels": [
       "Initial box",
       "Default",
       "Default, grey pad",
       "Padded 4px",
       "Padded 8px",
       "Extracted, init box",
       "Padded 4, extracted",
       "Padded 8, extracted",
       "Padded 8, dilation 1",
       "Pad 8, fract. 0.5",
       "Pad 8, fract. 0.2"
      ],
      "_view_count": null,
      "_view_module": "@jupyter-widgets/controls",
      "_view_module_version": "1.5.0",
      "_view_name": "DropdownView",
      "description": "",
      "description_tooltip": null,
      "disabled": false,
      "index": 1,
      "layout": "IPY_MODEL_44f79f7ea58742a0a770aab41e876c9c",
      "style": "IPY_MODEL_57f7d34ddc2b4a938d7fcb4bf066deb0"
     }
    },
    "ee44cc3dae5c42299460702dd280dbce": {
     "model_module": "@jupyter-widgets/base",
     "model_module_version": "1.2.0",
     "model_name": "LayoutModel",
     "state": {
      "_model_module": "@jupyter-widgets/base",
      "_model_module_version": "1.2.0",
      "_model_name": "LayoutModel",
      "_view_count": null,
      "_view_module": "@jupyter-widgets/base",
      "_view_module_version": "1.2.0",
      "_view_name": "LayoutView",
      "align_content": null,
      "align_items": null,
      "align_self": null,
      "border": null,
      "bottom": null,
      "display": null,
      "flex": null,
      "flex_flow": null,
      "grid_area": null,
      "grid_auto_columns": null,
      "grid_auto_flow": null,
      "grid_auto_rows": null,
      "grid_column": null,
      "grid_gap": null,
      "grid_row": null,
      "grid_template_areas": null,
      "grid_template_columns": null,
      "grid_template_rows": null,
      "height": null,
      "justify_content": null,
      "justify_items": null,
      "left": null,
      "margin": null,
      "max_height": null,
      "max_width": null,
      "min_height": null,
      "min_width": null,
      "object_fit": null,
      "object_position": null,
      "order": null,
      "overflow": null,
      "overflow_x": null,
      "overflow_y": null,
      "padding": null,
      "right": null,
      "top": null,
      "visibility": null,
      "width": null
     }
    },
    "eee81f49e99f4cbb8db65b56c511adbd": {
     "model_module": "@jupyter-widgets/base",
     "model_module_version": "1.2.0",
     "model_name": "LayoutModel",
     "state": {
      "_model_module": "@jupyter-widgets/base",
      "_model_module_version": "1.2.0",
      "_model_name": "LayoutModel",
      "_view_count": null,
      "_view_module": "@jupyter-widgets/base",
      "_view_module_version": "1.2.0",
      "_view_name": "LayoutView",
      "align_content": null,
      "align_items": null,
      "align_self": null,
      "border": null,
      "bottom": null,
      "display": null,
      "flex": null,
      "flex_flow": null,
      "grid_area": null,
      "grid_auto_columns": null,
      "grid_auto_flow": null,
      "grid_auto_rows": null,
      "grid_column": null,
      "grid_gap": null,
      "grid_row": null,
      "grid_template_areas": null,
      "grid_template_columns": null,
      "grid_template_rows": null,
      "height": null,
      "justify_content": null,
      "justify_items": null,
      "left": null,
      "margin": null,
      "max_height": null,
      "max_width": null,
      "min_height": null,
      "min_width": null,
      "object_fit": null,
      "object_position": null,
      "order": null,
      "overflow": null,
      "overflow_x": null,
      "overflow_y": null,
      "padding": null,
      "right": null,
      "top": null,
      "visibility": null,
      "width": null
     }
    },
    "f40fbbd396ac4528a97962ec911d5837": {
     "model_module": "@jupyter-widgets/base",
     "model_module_version": "1.2.0",
     "model_name": "LayoutModel",
     "state": {
      "_model_module": "@jupyter-widgets/base",
      "_model_module_version": "1.2.0",
      "_model_name": "LayoutModel",
      "_view_count": null,
      "_view_module": "@jupyter-widgets/base",
      "_view_module_version": "1.2.0",
      "_view_name": "LayoutView",
      "align_content": null,
      "align_items": null,
      "align_self": null,
      "border": null,
      "bottom": null,
      "display": "none",
      "flex": null,
      "flex_flow": null,
      "grid_area": null,
      "grid_auto_columns": null,
      "grid_auto_flow": null,
      "grid_auto_rows": null,
      "grid_column": null,
      "grid_gap": null,
      "grid_row": null,
      "grid_template_areas": null,
      "grid_template_columns": null,
      "grid_template_rows": null,
      "height": null,
      "justify_content": null,
      "justify_items": null,
      "left": null,
      "margin": null,
      "max_height": null,
      "max_width": null,
      "min_height": null,
      "min_width": null,
      "object_fit": null,
      "object_position": null,
      "order": null,
      "overflow": null,
      "overflow_x": null,
      "overflow_y": null,
      "padding": null,
      "right": null,
      "top": null,
      "visibility": null,
      "width": null
     }
    },
    "f542dba5c6de48a0a44e698706d87017": {
     "model_module": "@jupyter-widgets/controls",
     "model_module_version": "1.5.0",
     "model_name": "DescriptionStyleModel",
     "state": {
      "_model_module": "@jupyter-widgets/controls",
      "_model_module_version": "1.5.0",
      "_model_name": "DescriptionStyleModel",
      "_view_count": null,
      "_view_module": "@jupyter-widgets/base",
      "_view_module_version": "1.2.0",
      "_view_name": "StyleView",
      "description_width": "initial"
     }
    },
    "fa20ebba2bdb493799524bdf780fa86e": {
     "model_module": "@jupyter-widgets/base",
     "model_module_version": "1.2.0",
     "model_name": "LayoutModel",
     "state": {
      "_model_module": "@jupyter-widgets/base",
      "_model_module_version": "1.2.0",
      "_model_name": "LayoutModel",
      "_view_count": null,
      "_view_module": "@jupyter-widgets/base",
      "_view_module_version": "1.2.0",
      "_view_name": "LayoutView",
      "align_content": null,
      "align_items": null,
      "align_self": null,
      "border": null,
      "bottom": null,
      "display": null,
      "flex": null,
      "flex_flow": null,
      "grid_area": null,
      "grid_auto_columns": null,
      "grid_auto_flow": null,
      "grid_auto_rows": null,
      "grid_column": null,
      "grid_gap": null,
      "grid_row": null,
      "grid_template_areas": null,
      "grid_template_columns": null,
      "grid_template_rows": null,
      "height": null,
      "justify_content": null,
      "justify_items": null,
      "left": null,
      "margin": null,
      "max_height": null,
      "max_width": null,
      "min_height": null,
      "min_width": null,
      "object_fit": null,
      "object_position": null,
      "order": null,
      "overflow": null,
      "overflow_x": null,
      "overflow_y": null,
      "padding": null,
      "right": null,
      "top": null,
      "visibility": null,
      "width": null
     }
    },
    "fb08b9a59d6c4e678b368c915bb97405": {
     "model_module": "@jupyter-widgets/base",
     "model_module_version": "1.2.0",
     "model_name": "LayoutModel",
     "state": {
      "_model_module": "@jupyter-widgets/base",
      "_model_module_version": "1.2.0",
      "_model_name": "LayoutModel",
      "_view_count": null,
      "_view_module": "@jupyter-widgets/base",
      "_view_module_version": "1.2.0",
      "_view_name": "LayoutView",
      "align_content": null,
      "align_items": null,
      "align_self": null,
      "border": null,
      "bottom": null,
      "display": null,
      "flex": null,
      "flex_flow": null,
      "grid_area": null,
      "grid_auto_columns": null,
      "grid_auto_flow": null,
      "grid_auto_rows": null,
      "grid_column": null,
      "grid_gap": null,
      "grid_row": null,
      "grid_template_areas": null,
      "grid_template_columns": null,
      "grid_template_rows": null,
      "height": null,
      "justify_content": null,
      "justify_items": null,
      "left": null,
      "margin": null,
      "max_height": null,
      "max_width": null,
      "min_height": null,
      "min_width": null,
      "object_fit": null,
      "object_position": null,
      "order": null,
      "overflow": null,
      "overflow_x": null,
      "overflow_y": null,
      "padding": null,
      "right": null,
      "top": null,
      "visibility": null,
      "width": null
     }
    },
    "fbb4d3433c6f42e094934b6936659b8f": {
     "model_module": "@jupyter-widgets/base",
     "model_module_version": "1.2.0",
     "model_name": "LayoutModel",
     "state": {
      "_model_module": "@jupyter-widgets/base",
      "_model_module_version": "1.2.0",
      "_model_name": "LayoutModel",
      "_view_count": null,
      "_view_module": "@jupyter-widgets/base",
      "_view_module_version": "1.2.0",
      "_view_name": "LayoutView",
      "align_content": null,
      "align_items": null,
      "align_self": null,
      "border": null,
      "bottom": null,
      "display": null,
      "flex": null,
      "flex_flow": null,
      "grid_area": null,
      "grid_auto_columns": null,
      "grid_auto_flow": null,
      "grid_auto_rows": null,
      "grid_column": null,
      "grid_gap": null,
      "grid_row": null,
      "grid_template_areas": null,
      "grid_template_columns": null,
      "grid_template_rows": null,
      "height": null,
      "justify_content": null,
      "justify_items": null,
      "left": null,
      "margin": null,
      "max_height": null,
      "max_width": null,
      "min_height": null,
      "min_width": null,
      "object_fit": null,
      "object_position": null,
      "order": null,
      "overflow": null,
      "overflow_x": null,
      "overflow_y": null,
      "padding": null,
      "right": null,
      "top": null,
      "visibility": null,
      "width": "4em"
     }
    }
   }
  }
 },
 "nbformat": 4,
 "nbformat_minor": 0
}
